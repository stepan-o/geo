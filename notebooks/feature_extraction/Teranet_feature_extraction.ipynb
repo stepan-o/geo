{
  "cells": [
    {
      "cell_type": "markdown",
      "source": "# Feature extraction: Teranet records\nThis notebook presents the process of feature extraction from Teranet records that previously were:\n* cleaned and filtered for duplicates\n    * `consideration_amt` \u003c $30 were reset to NaN (Not a Number, missing values)\n    * records matching on all columns have been removed (83\u0027798 records)\n    * records matching on all columns excluding `pin` have been removed (729\u0027182 records)\n    * **813\u0027138 duplicate entries** removed in total from original Teranet dataset \n    * 8\u0027226\u0027103 unique records remain after duplicates have been removed\n    * see notebook `Teranet_data_cleaning.ipynb` for details\n* filtered to include only records from GTHA \n    * filtering performed via a spatial join\n    * `xy` coordinates of Teranet records joined (how\u003d\u0027inner\u0027, op\u003d\u0027within\u0027) with DA geometry for GTHA \n    * DA geometry provided by York Municipal Government (accessed via Esri Open Data portal)\n    * 6,062,853 records have `xy` coordinates within GTHA boundary\n    * see notebook `Teranet_GTHA_DA_spatial_join.ipynb` for details",
      "metadata": {
        "pycharm": {
          "metadata": false,
          "name": "#%% md\n"
        }
      }
    },
    {
      "cell_type": "markdown",
      "source": "## New columns added\n",
      "metadata": {
        "pycharm": {
          "metadata": false,
          "name": "#%% md\n"
        }
      }
    },
    {
      "cell_type": "markdown",
      "metadata": {
        "toc": true,
        "pycharm": {}
      },
      "source": "\u003ch1\u003eTable of Contents\u003cspan class\u003d\"tocSkip\"\u003e\u003c/span\u003e\u003c/h1\u003e\n\u003cdiv class\u003d\"toc\"\u003e\u003cul class\u003d\"toc-item\"\u003e\u003cli\u003e\u003cspan\u003e\u003ca href\u003d\"#Load-cleaned-Teranet-dataset-with-da_in-column\" data-toc-modified-id\u003d\"Load-cleaned-Teranet-dataset-with-da_in-column-1\"\u003e\u003cspan class\u003d\"toc-item-num\"\u003e1\u0026nbsp;\u0026nbsp;\u003c/span\u003eLoad cleaned Teranet dataset with \u003ccode\u003eda_in\u003c/code\u003e column\u003c/a\u003e\u003c/span\u003e\u003cul class\u003d\"toc-item\"\u003e\u003cli\u003e\u003cspan\u003e\u003ca href\u003d\"#Drop-all-records-with-missing-(or-\u0026lt;$30)-consideration_amt\" data-toc-modified-id\u003d\"Drop-all-records-with-missing-(or-\u003c$30)-consideration_amt-1.1\"\u003e\u003cspan class\u003d\"toc-item-num\"\u003e1.1\u0026nbsp;\u0026nbsp;\u003c/span\u003eDrop all records with missing (or \u0026lt;$30) \u003ccode\u003econsideration_amt\u003c/code\u003e\u003c/a\u003e\u003c/span\u003e\u003c/li\u003e\u003cli\u003e\u003cspan\u003e\u003ca href\u003d\"#Unique-records-by-pin\" data-toc-modified-id\u003d\"Unique-records-by-pin-1.2\"\u003e\u003cspan class\u003d\"toc-item-num\"\u003e1.2\u0026nbsp;\u0026nbsp;\u003c/span\u003eUnique records by \u003ccode\u003epin\u003c/code\u003e\u003c/a\u003e\u003c/span\u003e\u003c/li\u003e\u003cli\u003e\u003cspan\u003e\u003ca href\u003d\"#Unique-records-by-xy\" data-toc-modified-id\u003d\"Unique-records-by-xy-1.3\"\u003e\u003cspan class\u003d\"toc-item-num\"\u003e1.3\u0026nbsp;\u0026nbsp;\u003c/span\u003eUnique records by \u003ccode\u003exy\u003c/code\u003e\u003c/a\u003e\u003c/span\u003e\u003c/li\u003e\u003c/ul\u003e\u003c/li\u003e\u003cli\u003e\u003cspan\u003e\u003ca href\u003d\"#Aggregate-records-by-pin\" data-toc-modified-id\u003d\"Aggregate-records-by-pin-2\"\u003e\u003cspan class\u003d\"toc-item-num\"\u003e2\u0026nbsp;\u0026nbsp;\u003c/span\u003eAggregate records by \u003ccode\u003epin\u003c/code\u003e\u003c/a\u003e\u003c/span\u003e\u003cul class\u003d\"toc-item\"\u003e\u003cli\u003e\u003cspan\u003e\u003ca href\u003d\"#Add-column-total_sales_pin\" data-toc-modified-id\u003d\"Add-column-total_sales_pin-2.1\"\u003e\u003cspan class\u003d\"toc-item-num\"\u003e2.1\u0026nbsp;\u0026nbsp;\u003c/span\u003eAdd column \u003ccode\u003etotal_sales_pin\u003c/code\u003e\u003c/a\u003e\u003c/span\u003e\u003c/li\u003e\u003cli\u003e\u003cspan\u003e\u003ca href\u003d\"#Add-column-prev_sales_pin\" data-toc-modified-id\u003d\"Add-column-prev_sales_pin-2.2\"\u003e\u003cspan class\u003d\"toc-item-num\"\u003e2.2\u0026nbsp;\u0026nbsp;\u003c/span\u003eAdd column \u003ccode\u003eprev_sales_pin\u003c/code\u003e\u003c/a\u003e\u003c/span\u003e\u003c/li\u003e\u003c/ul\u003e\u003c/li\u003e\u003c/ul\u003e\u003c/div\u003e"
    },
    {
      "cell_type": "code",
      "execution_count": 1,
      "metadata": {
        "ExecuteTime": {
          "end_time": "2019-06-18T16:01:05.589704Z",
          "start_time": "2019-06-18T16:00:56.354328Z"
        },
        "pycharm": {
          "is_executing": false
        }
      },
      "outputs": [],
      "source": "import pandas as pd\nimport time\nimport os"
    },
    {
      "cell_type": "code",
      "execution_count": 2,
      "metadata": {
        "ExecuteTime": {
          "end_time": "2019-06-18T16:01:07.655519Z",
          "start_time": "2019-06-18T16:01:07.650514Z"
        },
        "pycharm": {
          "is_executing": false,
          "name": "#%%\n"
        }
      },
      "outputs": [],
      "source": "# Set some parameters to apply to all plots. These can be overridden\n# in each plot if desired\nimport matplotlib\n# Plot size to 14\" x 7\"\n# matplotlib.rc(\u0027figure\u0027, figsize \u003d (14, 7))\n# Font size to 14\nmatplotlib.rc(\u0027font\u0027, size \u003d 14)\n# Do not display top and right frame lines\nmatplotlib.rc(\u0027axes.spines\u0027, top \u003d False, right \u003d False)\n# Remove grid lines\nmatplotlib.rc(\u0027axes\u0027, grid \u003d False)\n# Set background color to white\nmatplotlib.rc(\u0027axes\u0027, facecolor \u003d \u0027white\u0027)"
    },
    {
      "cell_type": "code",
      "execution_count": 3,
      "metadata": {
        "ExecuteTime": {
          "end_time": "2019-06-18T16:01:08.633401Z",
          "start_time": "2019-06-18T16:01:08.625394Z"
        },
        "pycharm": {
          "is_executing": false,
          "metadata": false,
          "name": "#%%\n"
        }
      },
      "outputs": [
        {
          "data": {
            "text/plain": "[\u0027.git\u0027,\n \u0027.gitattributes\u0027,\n \u0027.gitignore\u0027,\n \u0027.idea\u0027,\n \u0027.ipynb_checkpoints\u0027,\n \u0027data\u0027,\n \u0027img\u0027,\n \u0027notebooks\u0027,\n \u0027presentations\u0027,\n \u0027README.md\u0027,\n \u0027src\u0027,\n \u0027__pycache__\u0027]"
          },
          "metadata": {},
          "output_type": "execute_result",
          "execution_count": 3
        }
      ],
      "source": "# os.chdir(\u0027..\u0027)\nos.chdir(\u0027Documents/repos/geo\u0027)\n# noinspection PyArgumentList\nos.listdir()"
    },
    {
      "cell_type": "markdown",
      "metadata": {
        "pycharm": {
          "metadata": false,
          "name": "#%% md\n"
        }
      },
      "source": "## Load cleaned Teranet dataset with `da_id` column\nColumns `da_id`, `da_city`, `da_median_tot_inc` were produced via a spatial join between Teranet points and DA polygons.\n\n(for details, see notebook `Teranet_GTHA_DA_spatial_join.ipynb`)"
    },
    {
      "cell_type": "code",
      "execution_count": 4,
      "metadata": {
        "ExecuteTime": {
          "end_time": "2019-06-18T16:02:00.083850Z",
          "start_time": "2019-06-18T16:01:15.641719Z"
        },
        "pycharm": {
          "is_executing": false,
          "metadata": false,
          "name": "#%%\n"
        }
      },
      "outputs": [
        {
          "name": "stdout",
          "text": [
            "----- DataFrame with Teranet records loaded\nin 30.40 seconds\nwith 6,062,853 rows\nand 18 columns\n-- Column names:\n Index([\u0027registration_date\u0027, \u0027decade\u0027, \u0027year\u0027, \u0027lro_num\u0027, \u0027pin\u0027,\n       \u0027consideration_amt\u0027, \u0027postal_code\u0027, \u0027unitno\u0027, \u0027street_name\u0027,\n       \u0027street_designation\u0027, \u0027street_direction\u0027, \u0027municipality\u0027,\n       \u0027street_number\u0027, \u0027x\u0027, \u0027y\u0027, \u0027da_id\u0027, \u0027da_city\u0027, \u0027da_median_tot_inc\u0027],\n      dtype\u003d\u0027object\u0027)\n"
          ],
          "output_type": "stream"
        }
      ],
      "source": "# column `pin` will be converted to dtype\u003dcategory\n# after records with NaN `consideration_amt` will be dropped\ndtypes \u003d {\n    \u0027decade\u0027: \u0027int\u0027,\n    \u0027year\u0027: \u0027int\u0027,\n    \u0027lro_num\u0027: \u0027category\u0027,\n    \u0027postal_code\u0027: \u0027category\u0027,\n    \u0027street_designation\u0027: \u0027category\u0027,\n    \u0027street_direction\u0027: \u0027category\u0027,\n    \u0027municipality\u0027: \u0027category\u0027,\n    \u0027da_id\u0027: \u0027category\u0027,\n    \u0027da_city\u0027: \u0027category\u0027,\n}\ndrop_cols \u003d [\u0027Unnamed: 0\u0027, \u0027index\u0027, \n             \u0027index_right\u0027, \u0027province\u0027,\n             \u0027street_suffix\u0027]\nt \u003d time.time()\nteranet_path \u003d \u0027data/HHSaleHistory_cleaned_v0.9_GTHA_DA.csv\u0027\ndf \u003d pd.read_csv(teranet_path, \n                 parse_dates\u003d[\u0027registration_date\u0027],\n                 dtype\u003ddtypes)\ndf \u003d df.drop(drop_cols, axis\u003d1)\ndf \u003d df.sort_values([\u0027pin\u0027,\n                     \u0027registration_date\u0027])\nelapsed \u003d time.time() - t\nprint(\"----- DataFrame with Teranet records loaded\"\n      \"\\nin {0:.2f} seconds\".format(elapsed) + \n      \"\\nwith {0:,} rows\\nand {1:,} columns\"\n      .format(df.shape[0], df.shape[1]) + \n      \"\\n-- Column names:\\n\", df.columns)"
    },
    {
      "cell_type": "code",
      "execution_count": 5,
      "metadata": {
        "ExecuteTime": {
          "end_time": "2019-06-18T16:02:06.282453Z",
          "start_time": "2019-06-18T16:02:06.215391Z"
        },
        "pycharm": {
          "is_executing": false,
          "name": "#%%\n"
        }
      },
      "outputs": [
        {
          "data": {
            "text/plain": "        registration_date  decade  year lro_num       pin  consideration_amt  \\\n5242184        1986-07-09     198  1986      65  29000001           185000.0   \n5242178        1986-04-14     198  1986      65  29000002           171000.0   \n5242214        1988-09-09     198  1988      65  29000003           318000.0   \n5242377        1999-01-29     199  1999      65  29000003           273000.0   \n5242545        2011-02-18     201  2011      65  29000003           558000.0   \n\n        postal_code  unitno street_name street_designation street_direction  \\\n5242184      L3P6K5     NaN      Cairns                 Dr              NaN   \n5242178      L3P6K5     NaN      Cairns                 Dr              NaN   \n5242214      L3P6K5     NaN      Cairns                 Dr              NaN   \n5242377      L3P6K5     NaN      Cairns                 Dr              NaN   \n5242545      L3P6K5     NaN      Cairns                 Dr              NaN   \n\n        municipality  street_number          x          y da_id  da_city  \\\n5242184      Markham          120.0 -79.280389  43.887265  1608  Markham   \n5242178      Markham          118.0 -79.280309  43.887118  1608  Markham   \n5242214      Markham          116.0 -79.280255  43.887000  1608  Markham   \n5242377      Markham          116.0 -79.280255  43.887000  1608  Markham   \n5242545      Markham          116.0 -79.280255  43.887000  1608  Markham   \n\n         da_median_tot_inc  \n5242184            28032.0  \n5242178            28032.0  \n5242214            28032.0  \n5242377            28032.0  \n5242545            28032.0  ",
            "text/html": "\u003cdiv\u003e\n\u003cstyle scoped\u003e\n    .dataframe tbody tr th:only-of-type {\n        vertical-align: middle;\n    }\n\n    .dataframe tbody tr th {\n        vertical-align: top;\n    }\n\n    .dataframe thead th {\n        text-align: right;\n    }\n\u003c/style\u003e\n\u003ctable border\u003d\"1\" class\u003d\"dataframe\"\u003e\n  \u003cthead\u003e\n    \u003ctr style\u003d\"text-align: right;\"\u003e\n      \u003cth\u003e\u003c/th\u003e\n      \u003cth\u003eregistration_date\u003c/th\u003e\n      \u003cth\u003edecade\u003c/th\u003e\n      \u003cth\u003eyear\u003c/th\u003e\n      \u003cth\u003elro_num\u003c/th\u003e\n      \u003cth\u003epin\u003c/th\u003e\n      \u003cth\u003econsideration_amt\u003c/th\u003e\n      \u003cth\u003epostal_code\u003c/th\u003e\n      \u003cth\u003eunitno\u003c/th\u003e\n      \u003cth\u003estreet_name\u003c/th\u003e\n      \u003cth\u003estreet_designation\u003c/th\u003e\n      \u003cth\u003estreet_direction\u003c/th\u003e\n      \u003cth\u003emunicipality\u003c/th\u003e\n      \u003cth\u003estreet_number\u003c/th\u003e\n      \u003cth\u003ex\u003c/th\u003e\n      \u003cth\u003ey\u003c/th\u003e\n      \u003cth\u003eda_id\u003c/th\u003e\n      \u003cth\u003eda_city\u003c/th\u003e\n      \u003cth\u003eda_median_tot_inc\u003c/th\u003e\n    \u003c/tr\u003e\n  \u003c/thead\u003e\n  \u003ctbody\u003e\n    \u003ctr\u003e\n      \u003cth\u003e5242184\u003c/th\u003e\n      \u003ctd\u003e1986-07-09\u003c/td\u003e\n      \u003ctd\u003e198\u003c/td\u003e\n      \u003ctd\u003e1986\u003c/td\u003e\n      \u003ctd\u003e65\u003c/td\u003e\n      \u003ctd\u003e29000001\u003c/td\u003e\n      \u003ctd\u003e185000.0\u003c/td\u003e\n      \u003ctd\u003eL3P6K5\u003c/td\u003e\n      \u003ctd\u003eNaN\u003c/td\u003e\n      \u003ctd\u003eCairns\u003c/td\u003e\n      \u003ctd\u003eDr\u003c/td\u003e\n      \u003ctd\u003eNaN\u003c/td\u003e\n      \u003ctd\u003eMarkham\u003c/td\u003e\n      \u003ctd\u003e120.0\u003c/td\u003e\n      \u003ctd\u003e-79.280389\u003c/td\u003e\n      \u003ctd\u003e43.887265\u003c/td\u003e\n      \u003ctd\u003e1608\u003c/td\u003e\n      \u003ctd\u003eMarkham\u003c/td\u003e\n      \u003ctd\u003e28032.0\u003c/td\u003e\n    \u003c/tr\u003e\n    \u003ctr\u003e\n      \u003cth\u003e5242178\u003c/th\u003e\n      \u003ctd\u003e1986-04-14\u003c/td\u003e\n      \u003ctd\u003e198\u003c/td\u003e\n      \u003ctd\u003e1986\u003c/td\u003e\n      \u003ctd\u003e65\u003c/td\u003e\n      \u003ctd\u003e29000002\u003c/td\u003e\n      \u003ctd\u003e171000.0\u003c/td\u003e\n      \u003ctd\u003eL3P6K5\u003c/td\u003e\n      \u003ctd\u003eNaN\u003c/td\u003e\n      \u003ctd\u003eCairns\u003c/td\u003e\n      \u003ctd\u003eDr\u003c/td\u003e\n      \u003ctd\u003eNaN\u003c/td\u003e\n      \u003ctd\u003eMarkham\u003c/td\u003e\n      \u003ctd\u003e118.0\u003c/td\u003e\n      \u003ctd\u003e-79.280309\u003c/td\u003e\n      \u003ctd\u003e43.887118\u003c/td\u003e\n      \u003ctd\u003e1608\u003c/td\u003e\n      \u003ctd\u003eMarkham\u003c/td\u003e\n      \u003ctd\u003e28032.0\u003c/td\u003e\n    \u003c/tr\u003e\n    \u003ctr\u003e\n      \u003cth\u003e5242214\u003c/th\u003e\n      \u003ctd\u003e1988-09-09\u003c/td\u003e\n      \u003ctd\u003e198\u003c/td\u003e\n      \u003ctd\u003e1988\u003c/td\u003e\n      \u003ctd\u003e65\u003c/td\u003e\n      \u003ctd\u003e29000003\u003c/td\u003e\n      \u003ctd\u003e318000.0\u003c/td\u003e\n      \u003ctd\u003eL3P6K5\u003c/td\u003e\n      \u003ctd\u003eNaN\u003c/td\u003e\n      \u003ctd\u003eCairns\u003c/td\u003e\n      \u003ctd\u003eDr\u003c/td\u003e\n      \u003ctd\u003eNaN\u003c/td\u003e\n      \u003ctd\u003eMarkham\u003c/td\u003e\n      \u003ctd\u003e116.0\u003c/td\u003e\n      \u003ctd\u003e-79.280255\u003c/td\u003e\n      \u003ctd\u003e43.887000\u003c/td\u003e\n      \u003ctd\u003e1608\u003c/td\u003e\n      \u003ctd\u003eMarkham\u003c/td\u003e\n      \u003ctd\u003e28032.0\u003c/td\u003e\n    \u003c/tr\u003e\n    \u003ctr\u003e\n      \u003cth\u003e5242377\u003c/th\u003e\n      \u003ctd\u003e1999-01-29\u003c/td\u003e\n      \u003ctd\u003e199\u003c/td\u003e\n      \u003ctd\u003e1999\u003c/td\u003e\n      \u003ctd\u003e65\u003c/td\u003e\n      \u003ctd\u003e29000003\u003c/td\u003e\n      \u003ctd\u003e273000.0\u003c/td\u003e\n      \u003ctd\u003eL3P6K5\u003c/td\u003e\n      \u003ctd\u003eNaN\u003c/td\u003e\n      \u003ctd\u003eCairns\u003c/td\u003e\n      \u003ctd\u003eDr\u003c/td\u003e\n      \u003ctd\u003eNaN\u003c/td\u003e\n      \u003ctd\u003eMarkham\u003c/td\u003e\n      \u003ctd\u003e116.0\u003c/td\u003e\n      \u003ctd\u003e-79.280255\u003c/td\u003e\n      \u003ctd\u003e43.887000\u003c/td\u003e\n      \u003ctd\u003e1608\u003c/td\u003e\n      \u003ctd\u003eMarkham\u003c/td\u003e\n      \u003ctd\u003e28032.0\u003c/td\u003e\n    \u003c/tr\u003e\n    \u003ctr\u003e\n      \u003cth\u003e5242545\u003c/th\u003e\n      \u003ctd\u003e2011-02-18\u003c/td\u003e\n      \u003ctd\u003e201\u003c/td\u003e\n      \u003ctd\u003e2011\u003c/td\u003e\n      \u003ctd\u003e65\u003c/td\u003e\n      \u003ctd\u003e29000003\u003c/td\u003e\n      \u003ctd\u003e558000.0\u003c/td\u003e\n      \u003ctd\u003eL3P6K5\u003c/td\u003e\n      \u003ctd\u003eNaN\u003c/td\u003e\n      \u003ctd\u003eCairns\u003c/td\u003e\n      \u003ctd\u003eDr\u003c/td\u003e\n      \u003ctd\u003eNaN\u003c/td\u003e\n      \u003ctd\u003eMarkham\u003c/td\u003e\n      \u003ctd\u003e116.0\u003c/td\u003e\n      \u003ctd\u003e-79.280255\u003c/td\u003e\n      \u003ctd\u003e43.887000\u003c/td\u003e\n      \u003ctd\u003e1608\u003c/td\u003e\n      \u003ctd\u003eMarkham\u003c/td\u003e\n      \u003ctd\u003e28032.0\u003c/td\u003e\n    \u003c/tr\u003e\n  \u003c/tbody\u003e\n\u003c/table\u003e\n\u003c/div\u003e"
          },
          "metadata": {},
          "output_type": "execute_result",
          "execution_count": 5
        }
      ],
      "source": [
        "df.head()"
      ]
    },
    {
      "cell_type": "code",
      "execution_count": 6,
      "metadata": {
        "ExecuteTime": {
          "end_time": "2019-06-18T16:02:10.968676Z",
          "start_time": "2019-06-18T16:02:08.318230Z"
        },
        "pycharm": {
          "is_executing": false,
          "metadata": false,
          "name": "#%%\n"
        }
      },
      "outputs": [
        {
          "name": "stdout",
          "text": [
            "\u003cclass \u0027pandas.core.frame.DataFrame\u0027\u003e\nInt64Index: 6062853 entries, 5242184 to 6062631\nData columns (total 18 columns):\nregistration_date     6062853 non-null datetime64[ns]\ndecade                6062853 non-null int32\nyear                  6062853 non-null int32\nlro_num               6062853 non-null category\npin                   6062853 non-null int64\nconsideration_amt     4637584 non-null float64\npostal_code           5534039 non-null category\nunitno                1339242 non-null float64\nstreet_name           5874264 non-null object\nstreet_designation    5516855 non-null category\nstreet_direction      520896 non-null category\nmunicipality          6058942 non-null category\nstreet_number         5870282 non-null float64\nx                     6062853 non-null float64\ny                     6062853 non-null float64\nda_id                 6062853 non-null category\nda_city               6062853 non-null category\nda_median_tot_inc     6021553 non-null float64\ndtypes: category(7), datetime64[ns](1), float64(6), int32(2), int64(1), object(1)\nmemory usage: 584.5+ MB\n"
          ],
          "output_type": "stream"
        }
      ],
      "source": [
        "df.info(null_counts\u003dTrue)"
      ]
    },
    {
      "cell_type": "markdown",
      "metadata": {
        "pycharm": {
          "metadata": false,
          "name": "#%% md\n"
        }
      },
      "source": [
        "### Drop all records with missing (or \u003c$30) `consideration_amt` "
      ]
    },
    {
      "cell_type": "code",
      "execution_count": 7,
      "metadata": {
        "ExecuteTime": {
          "end_time": "2019-06-18T16:02:17.084177Z",
          "start_time": "2019-06-18T16:02:12.991489Z"
        },
        "pycharm": {
          "is_executing": false,
          "metadata": false,
          "name": "#%%\n"
        }
      },
      "outputs": [
        {
          "name": "stdout",
          "text": [
            "\u003cclass \u0027pandas.core.frame.DataFrame\u0027\u003e\nInt64Index: 4637584 entries, 5242184 to 6062631\nData columns (total 18 columns):\nregistration_date     4637584 non-null datetime64[ns]\ndecade                4637584 non-null int32\nyear                  4637584 non-null int32\nlro_num               4637584 non-null category\npin                   4637584 non-null category\nconsideration_amt     4637584 non-null float64\npostal_code           4342478 non-null category\nunitno                1140626 non-null float64\nstreet_name           4588439 non-null object\nstreet_designation    4327098 non-null category\nstreet_direction      424608 non-null category\nmunicipality          4635981 non-null category\nstreet_number         4587129 non-null float64\nx                     4637584 non-null float64\ny                     4637584 non-null float64\nda_id                 4637584 non-null category\nda_city               4637584 non-null category\nda_median_tot_inc     4608506 non-null float64\ndtypes: category(8), datetime64[ns](1), float64(6), int32(2), object(1)\nmemory usage: 527.8+ MB\n"
          ],
          "output_type": "stream"
        }
      ],
      "source": [
        "df \u003d df.dropna(subset\u003d[\u0027consideration_amt\u0027])\n",
        "df[\u0027pin\u0027] \u003d df[\u0027pin\u0027].astype(\u0027category\u0027)\n",
        "df.info(null_counts\u003dTrue)"
      ]
    },
    {
      "cell_type": "markdown",
      "metadata": {
        "pycharm": {
          "metadata": false,
          "name": "#%% md\n"
        }
      },
      "source": [
        "### Unique records by `pin`\n",
        "Column `pin` can be used for grouping operations with Teranet data."
      ]
    },
    {
      "cell_type": "code",
      "execution_count": 8,
      "metadata": {
        "ExecuteTime": {
          "end_time": "2019-06-18T16:02:26.370511Z",
          "start_time": "2019-06-18T16:02:25.224520Z"
        },
        "pycharm": {
          "is_executing": false,
          "name": "#%%\n"
        }
      },
      "outputs": [
        {
          "data": {
            "text/plain": "count       4637584\nunique      2219927\ntop       211080033\nfreq            464\nName: pin, dtype: int64"
          },
          "metadata": {},
          "output_type": "execute_result",
          "execution_count": 8
        }
      ],
      "source": [
        "df[\u0027pin\u0027].describe()"
      ]
    },
    {
      "cell_type": "markdown",
      "metadata": {
        "pycharm": {
          "metadata": false
        }
      },
      "source": [
        "### Unique records by `xy`\n",
        "Column `xy` is produced by concatenating `x` and `y` coordinates as strings. It can be used for grouping operations with Teranet data."
      ]
    },
    {
      "cell_type": "code",
      "execution_count": 9,
      "metadata": {
        "ExecuteTime": {
          "end_time": "2019-06-18T16:04:27.921143Z",
          "start_time": "2019-06-18T16:04:10.377318Z"
        },
        "pycharm": {
          "is_executing": false,
          "metadata": false,
          "name": "#%%\n"
        }
      },
      "outputs": [
        {
          "data": {
            "text/plain": "count                                 4637584\nunique                                1394189\ntop       -79.413759934962343.776162782863395\nfreq                                     7222\nName: xy, dtype: object"
          },
          "metadata": {},
          "output_type": "execute_result",
          "execution_count": 9
        }
      ],
      "source": "df[\u0027xy\u0027] \u003d df[\u0027x\u0027].astype(\u0027str\u0027) + df[\u0027y\u0027].astype(\u0027str\u0027)\ndf[\u0027xy\u0027] \u003d df[\u0027xy\u0027].astype(\u0027category\u0027)\ndf[\u0027xy\u0027].describe()"
    },
    {
      "cell_type": "markdown",
      "metadata": {
        "pycharm": {
          "metadata": false
        }
      },
      "source": "There is a significant discrepancy between the number of records with unique `pin` and the number of records with unique `xy` (#  un`xy` \u003c # with same `pin`)."
    },
    {
      "cell_type": "markdown",
      "metadata": {
        "pycharm": {
          "metadata": false,
          "name": "#%% md\n"
        }
      },
      "source": "## Add column `total_sales`\nTotal records for each pin, generated as a separate DataFrame `df_pin` which represents Teranet records grouped and indexed by `pin`.\n\n`total_sales_pin` is added as a new column for Teranet records via a merge operation on `pin`."
    },
    {
      "cell_type": "code",
      "execution_count": 10,
      "metadata": {
        "ExecuteTime": {
          "end_time": "2019-06-18T16:05:19.154349Z",
          "start_time": "2019-06-18T16:05:15.501102Z"
        },
        "pycharm": {
          "is_executing": false,
          "metadata": false,
          "name": "#%%\n"
        }
      },
      "outputs": [
        {
          "name": "stdout",
          "text": [
            "Adding new columns...\n",
            "\nNew column \u0027pin_total_sales\u0027 added to the DataFrame!\ntook 3.14 seconds.\n",
            "\nNew column \u0027xy_total_sales\u0027 added to the DataFrame!\ntook 6.34 seconds.\n"
          ],
          "output_type": "stream"
        }
      ],
      "source": "# add column with total sales per `pin` and `xy` pair\nprint(\"Adding new columns...\")\n# group records by `pin`\nt \u003d time.time()\npin_counts \u003d \\\n    df.groupby(\u0027pin\u0027)[\u0027consideration_amt\u0027].count()\npin_counts.name \u003d \u0027pin_total_sales\u0027\ndf \u003d pd.merge(df, pin_counts, on\u003d\u0027pin\u0027)\nelapsed \u003d time.time() - t\nprint(\"\\nNew column \u0027pin_total_sales\u0027 \"\n      \"added to the DataFrame!\"\n      \"\\ntook {0:.2f} seconds.\".format(elapsed))\n\n# group records by `xy` coordinate pairs\nt \u003d time.time()\nxy_counts \u003d \\\n    df.groupby(\u0027xy\u0027)[\u0027consideration_amt\u0027].count()\nxy_counts.name \u003d \u0027xy_total_sales\u0027\ndf \u003d pd.merge(df, xy_counts, on\u003d\u0027xy\u0027)\nelapsed \u003d time.time() - t\nprint(\"\\nNew column \u0027xy_total_sales\u0027 \"\n      \"added to the DataFrame!\"\n      \"\\ntook {0:.2f} seconds.\".format(elapsed))"
    },
    {
      "cell_type": "markdown",
      "metadata": {
        "pycharm": {}
      },
      "source": "## Add column `prev_sales`\nNew columns are added to Teranet records capturing, for each transaction, a rolling count of previous records from this `pin` or `xy` coordinate pair."
    },
    {
      "cell_type": "code",
      "execution_count": 11,
      "outputs": [
        {
          "name": "stdout",
          "text": [
            "Adding new columns...\n",
            "\nNew column \u0027pin_prev_sales\u0027 added to the DataFrame!\ntook 3.74 seconds.\n",
            "\nNew column \u0027xy_prev_sales\u0027 added to the DataFrame!\ntook 3.94 seconds.\n"
          ],
          "output_type": "stream"
        }
      ],
      "source": "print(\"Adding new columns...\")\ndf[\u0027count\u0027] \u003d 1\n\n# group by `pin`\nt \u003d time.time()\ndf[\u0027pin_prev_sales\u0027] \u003d \\\n    df.sort_values([\u0027pin\u0027, \u0027registration_date\u0027])\\\n    .groupby(\u0027pin\u0027)[\u0027count\u0027].cumsum() - 1\nelapsed \u003d time.time() - t\nprint(\"\\nNew column \u0027pin_prev_sales\u0027 \"\n      \"added to the DataFrame!\"\n      \"\\ntook {0:.2f} seconds.\".format(elapsed))\n\n# group by xy pairs\nt \u003d time.time()\ndf[\u0027xy_prev_sales\u0027] \u003d \\\n    df.sort_values([\u0027xy\u0027, \u0027registration_date\u0027])\\\n    .groupby(\u0027xy\u0027)[\u0027count\u0027].cumsum() - 1\nelapsed \u003d time.time() - t\nprint(\"\\nNew column \u0027xy_prev_sales\u0027 \"\n      \"added to the DataFrame!\"\n      \"\\ntook {0:.2f} seconds.\".format(elapsed))\n\ndf \u003d df.drop(\u0027count\u0027, axis\u003d1)",
      "metadata": {
        "pycharm": {
          "metadata": false,
          "name": "#%%\n",
          "is_executing": false
        }
      }
    },
    {
      "cell_type": "markdown",
      "source": "## Add columns `price_cum_sum` and `price_pct_change`\nNew columns are added to Teranet records capturing, for each transaction, a rolling sum of price from previous records from this `pin` or `xy` coordinate pair, and `pct_change` compared to previous transaction from this `pin` or `xy` pair.",
      "metadata": {
        "pycharm": {
          "metadata": false,
          "name": "#%% md\n"
        }
      }
    },
    {
      "cell_type": "code",
      "execution_count": 12,
      "outputs": [
        {
          "name": "stdout",
          "text": [
            "Adding new columns...\n",
            "\nNew column \u0027pin_price_cum_sum\u0027 added to the DataFrame!\ntook 3.45 seconds.\n",
            "\nNew column \u0027xy_price_cum_sum\u0027 added to the DataFrame!\ntook 4.03 seconds.\n",
            "\nNew column \u0027pin_price_pct_change\u0027 added to the DataFrame!\ntook 4.14 seconds.\n",
            "\nNew column \u0027xy_price_pct_change\u0027 added to the DataFrame!\ntook 4.55 seconds.\n"
          ],
          "output_type": "stream"
        }
      ],
      "source": "print(\"Adding new columns...\")\n# `price_cum_sum`\n# group records by `pin`\nt \u003d time.time()\ndf[\u0027pin_price_cum_sum\u0027] \u003d \\\n    df.sort_values([\u0027pin\u0027, \u0027registration_date\u0027])\\\n    .groupby(\u0027pin\u0027)[\u0027consideration_amt\u0027].cumsum()\nelapsed \u003d time.time() - t\nprint(\"\\nNew column \u0027pin_price_cum_sum\u0027 \"\n      \"added to the DataFrame!\"\n      \"\\ntook {0:.2f} seconds.\".format(elapsed))\n# group records by `xy` pairs\nt \u003d time.time()\ndf[\u0027xy_price_cum_sum\u0027] \u003d \\\n    df.sort_values([\u0027xy\u0027, \u0027registration_date\u0027])\\\n    .groupby(\u0027xy\u0027)[\u0027consideration_amt\u0027].cumsum()\nelapsed \u003d time.time() - t\nprint(\"\\nNew column \u0027xy_price_cum_sum\u0027 \"\n      \"added to the DataFrame!\"\n      \"\\ntook {0:.2f} seconds.\".format(elapsed))\n\n# `price_pct_change`\n# group records by `pin`\nt \u003d time.time()\ndf[\u0027pin_price_pct_change\u0027] \u003d \\\n    df.sort_values([\u0027pin\u0027, \u0027registration_date\u0027])\\\n    .groupby(\u0027pin\u0027)[\u0027consideration_amt\u0027].pct_change()\nelapsed \u003d time.time() - t\nprint(\"\\nNew column \u0027pin_price_pct_change\u0027 \"\n      \"added to the DataFrame!\"\n      \"\\ntook {0:.2f} seconds.\".format(elapsed))\n# group records by `xy`\nt \u003d time.time()\ndf[\u0027xy_price_pct_change\u0027] \u003d \\\n    df.sort_values([\u0027xy\u0027, \u0027registration_date\u0027])\\\n    .groupby(\u0027xy\u0027)[\u0027consideration_amt\u0027].pct_change()\nelapsed \u003d time.time() - t\nprint(\"\\nNew column \u0027xy_price_pct_change\u0027 \"\n      \"added to the DataFrame!\"\n      \"\\ntook {0:.2f} seconds.\".format(elapsed))",
      "metadata": {
        "pycharm": {
          "metadata": false,
          "name": "#%%\n",
          "is_executing": false
        }
      }
    },
    {
      "cell_type": "markdown",
      "source": "## Add column `price_da_pct_change`\nNew column is added to Teranet records capturing, for each transaction, percentage change in price compared to the previous record from this `da_id`.",
      "metadata": {
        "pycharm": {
          "metadata": false
        }
      }
    },
    {
      "cell_type": "code",
      "execution_count": null,
      "outputs": [],
      "source": "t \u003d time.time()\n# add column \u0027price_da_pct_change\u0027 to Teranet records DataFrame \nt \u003d time.time()\ndf[\u0027price_da_pct_change\u0027] \u003d \\\n    df.sort_values([\u0027da_id\u0027, \u0027registration_date\u0027])\\\n    .groupby(\u0027da_id\u0027)[\u0027consideration_amt\u0027].pct_change()\nelapsed \u003d time.time() - t\nprint(\"\\nNew column \u0027price_da_pct_change\u0027 \"\n      \"added to the DataFrame!\"\n      \"\\ntook {0:.2f} seconds.\".format(elapsed))",
      "metadata": {
        "pycharm": {
          "metadata": false,
          "name": "#%%\n"
        }
      }
    },
    {
      "cell_type": "markdown",
      "source": "## Add columns `years_since_last_sale`\nNew columns are added to Teranet records capturing, for each transaction, years passed since the previous record from this `pin` or `xy` coordinate pair.",
      "metadata": {
        "pycharm": {
          "metadata": false
        }
      }
    },
    {
      "cell_type": "code",
      "execution_count": null,
      "outputs": [],
      "source": "t \u003d time.time()\n# add column \u0027prev_visits\u0027 to Teranet records DataFrame \ndf[\u0027pin_years_since_last_sale\u0027] \u003d \\\n    df.groupby(\u0027pin\u0027)[\u0027registration_date\u0027]\\\n        .diff().dt.days / 365\nelapsed \u003d time.time() - t\nprint(\"New column \u0027pin_years_since_last_sale\u0027\"\n      \"added to the DataFrame!\"\n      \"\\ntook {0:.2f} seconds.\".format(elapsed))",
      "metadata": {
        "pycharm": {
          "metadata": false,
          "name": "#%%\n",
          "is_executing": true
        }
      }
    },
    {
      "cell_type": "code",
      "execution_count": null,
      "outputs": [],
      "source": "t \u003d time.time()\n# add column \u0027prev_visits\u0027 to Teranet records DataFrame \ndf[\u0027xy_years_since_last_sale\u0027] \u003d \\\n    df.groupby(\u0027xy\u0027)[\u0027registration_date\u0027].diff()\\\n        .dt.days / 365\nelapsed \u003d time.time() - t\nprint(\"New column \u0027xy_years_since_last_sale\u0027\"\n      \"added to the DataFrame!\"\n      \"\\ntook {0:.2f} seconds.\".format(elapsed))",
      "metadata": {
        "pycharm": {
          "metadata": false,
          "name": "#%%\n",
          "is_executing": true
        }
      }
    },
    {
      "cell_type": "markdown",
      "source": "## Save results to a new .csv file\nTeranet dataset without NaN records and with 12 new columns is saved as:\n`data/HHSaleHistory_cleaned_v0.9_GTHA_DA_with_cols_v0.9.csv`",
      "metadata": {
        "pycharm": {
          "metadata": false,
          "name": "#%% md\n"
        }
      }
    },
    {
      "cell_type": "code",
      "execution_count": null,
      "outputs": [],
      "source": "t \u003d time.time()\nsave_path \u003d \u0027data/HHSaleHistory_cleaned_v0.9_GTHA_DA_with_cols_v0.9.csv\u0027\ndf.to_csv(save_path, index\u003dFalse)\nelapsed \u003d time.time() - t\nprint(\"File saved to path:\\n\u0027\" + save_path + \"\u0027\" + \n      \"\\ntook {0:.2f} seconds.\".format(elapsed))\n",
      "metadata": {
        "pycharm": {
          "metadata": false,
          "name": "#%%\n",
          "is_executing": true
        }
      }
    }
  ],
  "metadata": {
    "kernelspec": {
      "display_name": "Python 3",
      "language": "python",
      "name": "python3"
    },
    "language_info": {
      "codemirror_mode": {
        "name": "ipython",
        "version": 3
      },
      "file_extension": ".py",
      "mimetype": "text/x-python",
      "name": "python",
      "nbconvert_exporter": "python",
      "pygments_lexer": "ipython3",
      "version": "3.7.3"
    },
    "pycharm": {
      "stem_cell": {
        "cell_type": "raw",
        "metadata": {
          "collapsed": false
        },
        "source": []
      }
    },
    "toc": {
      "base_numbering": 1,
      "nav_menu": {},
      "number_sections": true,
      "sideBar": true,
      "skip_h1_title": true,
      "title_cell": "Table of Contents",
      "title_sidebar": "Contents",
      "toc_cell": true,
      "toc_position": {},
      "toc_section_display": true,
      "toc_window_display": true
    },
    "varInspector": {
      "cols": {
        "lenName": 16,
        "lenType": 16,
        "lenVar": 40
      },
      "kernels_config": {
        "python": {
          "delete_cmd_postfix": "",
          "delete_cmd_prefix": "del ",
          "library": "var_list.py",
          "varRefreshCmd": "print(var_dic_list())"
        },
        "r": {
          "delete_cmd_postfix": ") ",
          "delete_cmd_prefix": "rm(",
          "library": "var_list.r",
          "varRefreshCmd": "cat(var_dic_list()) "
        }
      },
      "types_to_exclude": [
        "module",
        "function",
        "builtin_function_or_method",
        "instance",
        "_Feature"
      ],
      "window_display": false
    },
    "stem_cell": {
      "cell_type": "raw",
      "source": "",
      "metadata": {
        "pycharm": {
          "metadata": false
        }
      }
    }
  },
  "nbformat": 4,
  "nbformat_minor": 1
}