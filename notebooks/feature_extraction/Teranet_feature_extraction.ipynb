{
 "cells": [
  {
   "cell_type": "markdown",
   "metadata": {
    "pycharm": {},
    "toc": true
   },
   "source": [
    "<h1>Table of Contents<span class=\"tocSkip\"></span></h1>\n",
    "<div class=\"toc\"><ul class=\"toc-item\"><li><span><a href=\"#New-columns-added\" data-toc-modified-id=\"New-columns-added-1\"><span class=\"toc-item-num\">1&nbsp;&nbsp;</span>New columns added</a></span></li><li><span><a href=\"#Load-cleaned-Teranet-dataset-with-da_id-column\" data-toc-modified-id=\"Load-cleaned-Teranet-dataset-with-da_id-column-2\"><span class=\"toc-item-num\">2&nbsp;&nbsp;</span>Load cleaned Teranet dataset with <code>da_id</code> column</a></span><ul class=\"toc-item\"><li><span><a href=\"#Drop-all-records-with-missing-(or-&lt;$30)-consideration_amt\" data-toc-modified-id=\"Drop-all-records-with-missing-(or-<$30)-consideration_amt-2.1\"><span class=\"toc-item-num\">2.1&nbsp;&nbsp;</span>Drop all records with missing (or &lt;$30) <code>consideration_amt</code></a></span></li><li><span><a href=\"#Unique-records-by-pin\" data-toc-modified-id=\"Unique-records-by-pin-2.2\"><span class=\"toc-item-num\">2.2&nbsp;&nbsp;</span>Unique records by <code>pin</code></a></span></li><li><span><a href=\"#Unique-records-by-xy\" data-toc-modified-id=\"Unique-records-by-xy-2.3\"><span class=\"toc-item-num\">2.3&nbsp;&nbsp;</span>Unique records by <code>xy</code></a></span></li></ul></li><li><span><a href=\"#Add-column-total_sales\" data-toc-modified-id=\"Add-column-total_sales-3\"><span class=\"toc-item-num\">3&nbsp;&nbsp;</span>Add column <code>total_sales</code></a></span></li><li><span><a href=\"#Add-column-prev_sales\" data-toc-modified-id=\"Add-column-prev_sales-4\"><span class=\"toc-item-num\">4&nbsp;&nbsp;</span>Add column <code>prev_sales</code></a></span></li><li><span><a href=\"#Add-columns-price_cum_sum-and-price_pct_change\" data-toc-modified-id=\"Add-columns-price_cum_sum-and-price_pct_change-5\"><span class=\"toc-item-num\">5&nbsp;&nbsp;</span>Add columns <code>price_cum_sum</code> and <code>price_pct_change</code></a></span></li><li><span><a href=\"#Add-column-price_da_pct_change\" data-toc-modified-id=\"Add-column-price_da_pct_change-6\"><span class=\"toc-item-num\">6&nbsp;&nbsp;</span>Add column <code>price_da_pct_change</code></a></span></li><li><span><a href=\"#Add-columns-years_since_last_sale\" data-toc-modified-id=\"Add-columns-years_since_last_sale-7\"><span class=\"toc-item-num\">7&nbsp;&nbsp;</span>Add columns <code>years_since_last_sale</code></a></span></li><li><span><a href=\"#Add-columns-da_days_since_last_sale-and-da_years_since_last_sale\" data-toc-modified-id=\"Add-columns-da_days_since_last_sale-and-da_years_since_last_sale-8\"><span class=\"toc-item-num\">8&nbsp;&nbsp;</span>Add columns <code>da_days_since_last_sale</code> and <code>da_years_since_last_sale</code></a></span></li><li><span><a href=\"#Add-columns-sale_next_6m/1y/3y-per-pin-and-xy\" data-toc-modified-id=\"Add-columns-sale_next_6m/1y/3y-per-pin-and-xy-9\"><span class=\"toc-item-num\">9&nbsp;&nbsp;</span>Add columns <code>sale_next_6m/1y/3y</code> per <code>pin</code> and <code>xy</code></a></span></li><li><span><a href=\"#Save-results-to-a-new-.csv-file\" data-toc-modified-id=\"Save-results-to-a-new-.csv-file-10\"><span class=\"toc-item-num\">10&nbsp;&nbsp;</span>Save results to a new .csv file</a></span></li></ul></div>"
   ]
  },
  {
   "cell_type": "markdown",
   "metadata": {
    "pycharm": {
     "metadata": false,
     "name": "#%% md\n"
    }
   },
   "source": [
    "# Feature extraction: Teranet records\n",
    "This notebook presents the process of feature extraction from Teranet records that previously were:\n",
    "* cleaned and filtered for duplicates\n",
    "    * `consideration_amt` < $30 were reset to NaN (Not a Number, missing values)\n",
    "    * records matching on all columns have been removed (83'798 records)\n",
    "    * records matching on all columns excluding `pin` have been removed (729'182 records)\n",
    "    * **813'138 duplicate entries** removed in total from original Teranet dataset \n",
    "    * 8'226'103 unique records remain after duplicates have been removed\n",
    "    * see notebook `data_cleaning/Teranet_data_cleaning.ipynb` for details\n",
    "* filtered to include only records from GTHA \n",
    "    * filtering performed via a spatial join\n",
    "    * `xy` coordinates of Teranet records joined (how='inner', op='within') with DA geometry for GTHA \n",
    "    * DA geometry provided by York Municipal Government (accessed via Esri Open Data portal)\n",
    "    * 6,062,853 records have `xy` coordinates within GTHA boundary\n",
    "    * see notebook `data_cleaning/Teranet_GTHA_DA_spatial_join.ipynb` for details"
   ]
  },
  {
   "cell_type": "markdown",
   "metadata": {
    "pycharm": {
     "metadata": false,
     "name": "#%% md\n"
    }
   },
   "source": [
    "## New columns added\n",
    "* new columns added (available on transaction level):\n",
    "    * `da_id`, `da_city`, `da_median_tot_inc`: were added during the spatial join with DA data\n",
    "    * `xy`: `x` and `y` concatenated together (used for grouping by coordinate pairs)\n",
    "    * `pin/xy_total_sales`: total records for this `pin`/`xy`\n",
    "    * `pin/xy_prev_sales`: previous records from this `pin`/`xy` (not counting current transaction)\n",
    "    * `pin/xy_price_cum_sum`: cumulative price of all records to date from this `pin`/`xy`\n",
    "    * `pin/xy_price_pct_change`: price percentage change compared to previous record from this `pin`/`xy`\n",
    "    * `price_da_pct_change`: price percentage change compared to previous record from this DA (by `da_id`)\n",
    "    * `pin/xy_years_since_last_sale`: years since last sale from this `pin`/`xy`\n",
    "    * `da_days_since_last_sale`, `da_years_since_last_sale`: days or years since last sale from this DA (by `da_id`)\n",
    "    * `sale_next_6m/1y/3y`: \"looks into the future\" to see whether there is another transaction from this `pin`/`xy` within the given time horizon (6 months, 1 year, 3 years)"
   ]
  },
  {
   "cell_type": "code",
   "execution_count": 1,
   "metadata": {
    "ExecuteTime": {
     "end_time": "2019-06-18T16:01:05.589704Z",
     "start_time": "2019-06-18T16:00:56.354328Z"
    },
    "pycharm": {
     "is_executing": false
    }
   },
   "outputs": [],
   "source": [
    "import pandas as pd\n",
    "import time\n",
    "import os"
   ]
  },
  {
   "cell_type": "code",
   "execution_count": 2,
   "metadata": {
    "ExecuteTime": {
     "end_time": "2019-06-18T16:01:07.655519Z",
     "start_time": "2019-06-18T16:01:07.650514Z"
    },
    "pycharm": {
     "is_executing": false,
     "name": "#%%\n"
    }
   },
   "outputs": [],
   "source": [
    "# Set some parameters to apply to all plots. These can be overridden\n",
    "# in each plot if desired\n",
    "import matplotlib\n",
    "# Plot size to 14\" x 7\"\n",
    "# matplotlib.rc('figure', figsize = (14, 7))\n",
    "# Font size to 14\n",
    "matplotlib.rc('font', size = 14)\n",
    "# Do not display top and right frame lines\n",
    "matplotlib.rc('axes.spines', top = False, right = False)\n",
    "# Remove grid lines\n",
    "matplotlib.rc('axes', grid = False)\n",
    "# Set background color to white\n",
    "matplotlib.rc('axes', facecolor = 'white')"
   ]
  },
  {
   "cell_type": "code",
   "execution_count": 3,
   "metadata": {
    "ExecuteTime": {
     "end_time": "2019-06-18T16:01:08.633401Z",
     "start_time": "2019-06-18T16:01:08.625394Z"
    },
    "pycharm": {
     "is_executing": false,
     "metadata": false,
     "name": "#%%\n"
    }
   },
   "outputs": [
    {
     "data": {
      "text/plain": [
       "['.git',\n",
       " '.gitattributes',\n",
       " '.gitignore',\n",
       " '.idea',\n",
       " '.ipynb_checkpoints',\n",
       " 'data',\n",
       " 'img',\n",
       " 'notebooks',\n",
       " 'presentations',\n",
       " 'README.md',\n",
       " 'src',\n",
       " '__pycache__']"
      ]
     },
     "execution_count": 3,
     "metadata": {},
     "output_type": "execute_result"
    }
   ],
   "source": [
    "# os.chdir('..')\n",
    "os.chdir('Documents/repos/geo')\n",
    "# noinspection PyArgumentList\n",
    "os.listdir()"
   ]
  },
  {
   "cell_type": "markdown",
   "metadata": {
    "pycharm": {
     "metadata": false,
     "name": "#%% md\n"
    }
   },
   "source": [
    "## Load cleaned Teranet dataset with `da_id` column\n",
    "Columns `da_id`, `da_city`, `da_median_tot_inc` were produced via a spatial join between Teranet points and DA polygons.\n",
    "\n",
    "(for details, see notebook `Teranet_GTHA_DA_spatial_join.ipynb`)"
   ]
  },
  {
   "cell_type": "code",
   "execution_count": 4,
   "metadata": {
    "ExecuteTime": {
     "end_time": "2019-06-18T16:02:00.083850Z",
     "start_time": "2019-06-18T16:01:15.641719Z"
    },
    "pycharm": {
     "is_executing": false,
     "metadata": false,
     "name": "#%%\n"
    }
   },
   "outputs": [
    {
     "name": "stdout",
     "output_type": "stream",
     "text": [
      "----- DataFrame with Teranet records loaded\n",
      "in 34.69 seconds\n",
      "with 6,062,853 rows\n",
      "and 18 columns\n",
      "-- Column names:\n",
      " Index(['registration_date', 'decade', 'year', 'lro_num', 'pin',\n",
      "       'consideration_amt', 'postal_code', 'unitno', 'street_name',\n",
      "       'street_designation', 'street_direction', 'municipality',\n",
      "       'street_number', 'x', 'y', 'da_id', 'da_city', 'da_median_tot_inc'],\n",
      "      dtype='object')\n"
     ]
    }
   ],
   "source": [
    "# column `pin` will be converted to dtype=category\n",
    "# after records with NaN `consideration_amt` will be dropped\n",
    "dtypes = {\n",
    "    'decade': 'int',\n",
    "    'year': 'int',\n",
    "    'lro_num': 'category',\n",
    "    'postal_code': 'category',\n",
    "    'street_designation': 'category',\n",
    "    'street_direction': 'category',\n",
    "    'municipality': 'category',\n",
    "    'da_id': 'category',\n",
    "    'da_city': 'category',\n",
    "}\n",
    "drop_cols = ['Unnamed: 0', 'index', \n",
    "             'index_right', 'province',\n",
    "             'street_suffix']\n",
    "t = time.time()\n",
    "teranet_path = 'data/HHSaleHistory_cleaned_v0.9_GTHA_DA.csv'\n",
    "df = pd.read_csv(teranet_path, \n",
    "                 parse_dates=['registration_date'],\n",
    "                 dtype=dtypes)\n",
    "df = df.drop(drop_cols, axis=1)\n",
    "df = df.sort_values(['pin',\n",
    "                     'registration_date'])\n",
    "elapsed = time.time() - t\n",
    "print(\"----- DataFrame with Teranet records loaded\"\n",
    "      \"\\nin {0:.2f} seconds\".format(elapsed) + \n",
    "      \"\\nwith {0:,} rows\\nand {1:,} columns\"\n",
    "      .format(df.shape[0], df.shape[1]) + \n",
    "      \"\\n-- Column names:\\n\", df.columns)"
   ]
  },
  {
   "cell_type": "code",
   "execution_count": 5,
   "metadata": {
    "ExecuteTime": {
     "end_time": "2019-06-18T16:02:06.282453Z",
     "start_time": "2019-06-18T16:02:06.215391Z"
    },
    "pycharm": {
     "is_executing": false,
     "name": "#%%\n"
    }
   },
   "outputs": [
    {
     "data": {
      "text/html": [
       "<div>\n",
       "<style scoped>\n",
       "    .dataframe tbody tr th:only-of-type {\n",
       "        vertical-align: middle;\n",
       "    }\n",
       "\n",
       "    .dataframe tbody tr th {\n",
       "        vertical-align: top;\n",
       "    }\n",
       "\n",
       "    .dataframe thead th {\n",
       "        text-align: right;\n",
       "    }\n",
       "</style>\n",
       "<table border=\"1\" class=\"dataframe\">\n",
       "  <thead>\n",
       "    <tr style=\"text-align: right;\">\n",
       "      <th></th>\n",
       "      <th>registration_date</th>\n",
       "      <th>decade</th>\n",
       "      <th>year</th>\n",
       "      <th>lro_num</th>\n",
       "      <th>pin</th>\n",
       "      <th>consideration_amt</th>\n",
       "      <th>postal_code</th>\n",
       "      <th>unitno</th>\n",
       "      <th>street_name</th>\n",
       "      <th>street_designation</th>\n",
       "      <th>street_direction</th>\n",
       "      <th>municipality</th>\n",
       "      <th>street_number</th>\n",
       "      <th>x</th>\n",
       "      <th>y</th>\n",
       "      <th>da_id</th>\n",
       "      <th>da_city</th>\n",
       "      <th>da_median_tot_inc</th>\n",
       "    </tr>\n",
       "  </thead>\n",
       "  <tbody>\n",
       "    <tr>\n",
       "      <th>5242184</th>\n",
       "      <td>1986-07-09</td>\n",
       "      <td>198</td>\n",
       "      <td>1986</td>\n",
       "      <td>65</td>\n",
       "      <td>29000001</td>\n",
       "      <td>185000.0</td>\n",
       "      <td>L3P6K5</td>\n",
       "      <td>NaN</td>\n",
       "      <td>Cairns</td>\n",
       "      <td>Dr</td>\n",
       "      <td>NaN</td>\n",
       "      <td>Markham</td>\n",
       "      <td>120.0</td>\n",
       "      <td>-79.280389</td>\n",
       "      <td>43.887265</td>\n",
       "      <td>1608</td>\n",
       "      <td>Markham</td>\n",
       "      <td>28032.0</td>\n",
       "    </tr>\n",
       "    <tr>\n",
       "      <th>5242178</th>\n",
       "      <td>1986-04-14</td>\n",
       "      <td>198</td>\n",
       "      <td>1986</td>\n",
       "      <td>65</td>\n",
       "      <td>29000002</td>\n",
       "      <td>171000.0</td>\n",
       "      <td>L3P6K5</td>\n",
       "      <td>NaN</td>\n",
       "      <td>Cairns</td>\n",
       "      <td>Dr</td>\n",
       "      <td>NaN</td>\n",
       "      <td>Markham</td>\n",
       "      <td>118.0</td>\n",
       "      <td>-79.280309</td>\n",
       "      <td>43.887118</td>\n",
       "      <td>1608</td>\n",
       "      <td>Markham</td>\n",
       "      <td>28032.0</td>\n",
       "    </tr>\n",
       "    <tr>\n",
       "      <th>5242214</th>\n",
       "      <td>1988-09-09</td>\n",
       "      <td>198</td>\n",
       "      <td>1988</td>\n",
       "      <td>65</td>\n",
       "      <td>29000003</td>\n",
       "      <td>318000.0</td>\n",
       "      <td>L3P6K5</td>\n",
       "      <td>NaN</td>\n",
       "      <td>Cairns</td>\n",
       "      <td>Dr</td>\n",
       "      <td>NaN</td>\n",
       "      <td>Markham</td>\n",
       "      <td>116.0</td>\n",
       "      <td>-79.280255</td>\n",
       "      <td>43.887000</td>\n",
       "      <td>1608</td>\n",
       "      <td>Markham</td>\n",
       "      <td>28032.0</td>\n",
       "    </tr>\n",
       "    <tr>\n",
       "      <th>5242377</th>\n",
       "      <td>1999-01-29</td>\n",
       "      <td>199</td>\n",
       "      <td>1999</td>\n",
       "      <td>65</td>\n",
       "      <td>29000003</td>\n",
       "      <td>273000.0</td>\n",
       "      <td>L3P6K5</td>\n",
       "      <td>NaN</td>\n",
       "      <td>Cairns</td>\n",
       "      <td>Dr</td>\n",
       "      <td>NaN</td>\n",
       "      <td>Markham</td>\n",
       "      <td>116.0</td>\n",
       "      <td>-79.280255</td>\n",
       "      <td>43.887000</td>\n",
       "      <td>1608</td>\n",
       "      <td>Markham</td>\n",
       "      <td>28032.0</td>\n",
       "    </tr>\n",
       "    <tr>\n",
       "      <th>5242545</th>\n",
       "      <td>2011-02-18</td>\n",
       "      <td>201</td>\n",
       "      <td>2011</td>\n",
       "      <td>65</td>\n",
       "      <td>29000003</td>\n",
       "      <td>558000.0</td>\n",
       "      <td>L3P6K5</td>\n",
       "      <td>NaN</td>\n",
       "      <td>Cairns</td>\n",
       "      <td>Dr</td>\n",
       "      <td>NaN</td>\n",
       "      <td>Markham</td>\n",
       "      <td>116.0</td>\n",
       "      <td>-79.280255</td>\n",
       "      <td>43.887000</td>\n",
       "      <td>1608</td>\n",
       "      <td>Markham</td>\n",
       "      <td>28032.0</td>\n",
       "    </tr>\n",
       "  </tbody>\n",
       "</table>\n",
       "</div>"
      ],
      "text/plain": [
       "        registration_date  decade  year lro_num       pin  consideration_amt  \\\n",
       "5242184        1986-07-09     198  1986      65  29000001           185000.0   \n",
       "5242178        1986-04-14     198  1986      65  29000002           171000.0   \n",
       "5242214        1988-09-09     198  1988      65  29000003           318000.0   \n",
       "5242377        1999-01-29     199  1999      65  29000003           273000.0   \n",
       "5242545        2011-02-18     201  2011      65  29000003           558000.0   \n",
       "\n",
       "        postal_code  unitno street_name street_designation street_direction  \\\n",
       "5242184      L3P6K5     NaN      Cairns                 Dr              NaN   \n",
       "5242178      L3P6K5     NaN      Cairns                 Dr              NaN   \n",
       "5242214      L3P6K5     NaN      Cairns                 Dr              NaN   \n",
       "5242377      L3P6K5     NaN      Cairns                 Dr              NaN   \n",
       "5242545      L3P6K5     NaN      Cairns                 Dr              NaN   \n",
       "\n",
       "        municipality  street_number          x          y da_id  da_city  \\\n",
       "5242184      Markham          120.0 -79.280389  43.887265  1608  Markham   \n",
       "5242178      Markham          118.0 -79.280309  43.887118  1608  Markham   \n",
       "5242214      Markham          116.0 -79.280255  43.887000  1608  Markham   \n",
       "5242377      Markham          116.0 -79.280255  43.887000  1608  Markham   \n",
       "5242545      Markham          116.0 -79.280255  43.887000  1608  Markham   \n",
       "\n",
       "         da_median_tot_inc  \n",
       "5242184            28032.0  \n",
       "5242178            28032.0  \n",
       "5242214            28032.0  \n",
       "5242377            28032.0  \n",
       "5242545            28032.0  "
      ]
     },
     "execution_count": 5,
     "metadata": {},
     "output_type": "execute_result"
    }
   ],
   "source": [
    "df.head()"
   ]
  },
  {
   "cell_type": "code",
   "execution_count": 6,
   "metadata": {
    "ExecuteTime": {
     "end_time": "2019-06-18T16:02:10.968676Z",
     "start_time": "2019-06-18T16:02:08.318230Z"
    },
    "pycharm": {
     "is_executing": false,
     "metadata": false,
     "name": "#%%\n"
    }
   },
   "outputs": [
    {
     "name": "stdout",
     "output_type": "stream",
     "text": [
      "<class 'pandas.core.frame.DataFrame'>\n",
      "Int64Index: 6062853 entries, 5242184 to 6062631\n",
      "Data columns (total 18 columns):\n",
      "registration_date     6062853 non-null datetime64[ns]\n",
      "decade                6062853 non-null int32\n",
      "year                  6062853 non-null int32\n",
      "lro_num               6062853 non-null category\n",
      "pin                   6062853 non-null int64\n",
      "consideration_amt     4637584 non-null float64\n",
      "postal_code           5534039 non-null category\n",
      "unitno                1339242 non-null float64\n",
      "street_name           5874264 non-null object\n",
      "street_designation    5516855 non-null category\n",
      "street_direction      520896 non-null category\n",
      "municipality          6058942 non-null category\n",
      "street_number         5870282 non-null float64\n",
      "x                     6062853 non-null float64\n",
      "y                     6062853 non-null float64\n",
      "da_id                 6062853 non-null category\n",
      "da_city               6062853 non-null category\n",
      "da_median_tot_inc     6021553 non-null float64\n",
      "dtypes: category(7), datetime64[ns](1), float64(6), int32(2), int64(1), object(1)\n",
      "memory usage: 584.5+ MB\n"
     ]
    }
   ],
   "source": [
    "df.info(null_counts=True)"
   ]
  },
  {
   "cell_type": "markdown",
   "metadata": {
    "pycharm": {
     "metadata": false,
     "name": "#%% md\n"
    }
   },
   "source": [
    "### Drop all records with missing (or <$30) `consideration_amt` "
   ]
  },
  {
   "cell_type": "code",
   "execution_count": 7,
   "metadata": {
    "ExecuteTime": {
     "end_time": "2019-06-18T16:02:17.084177Z",
     "start_time": "2019-06-18T16:02:12.991489Z"
    },
    "pycharm": {
     "is_executing": false,
     "metadata": false,
     "name": "#%%\n"
    }
   },
   "outputs": [
    {
     "name": "stdout",
     "output_type": "stream",
     "text": [
      "<class 'pandas.core.frame.DataFrame'>\n",
      "Int64Index: 4637584 entries, 5242184 to 6062631\n",
      "Data columns (total 18 columns):\n",
      "registration_date     4637584 non-null datetime64[ns]\n",
      "decade                4637584 non-null int32\n",
      "year                  4637584 non-null int32\n",
      "lro_num               4637584 non-null category\n",
      "pin                   4637584 non-null category\n",
      "consideration_amt     4637584 non-null float64\n",
      "postal_code           4342478 non-null category\n",
      "unitno                1140626 non-null float64\n",
      "street_name           4588439 non-null object\n",
      "street_designation    4327098 non-null category\n",
      "street_direction      424608 non-null category\n",
      "municipality          4635981 non-null category\n",
      "street_number         4587129 non-null float64\n",
      "x                     4637584 non-null float64\n",
      "y                     4637584 non-null float64\n",
      "da_id                 4637584 non-null category\n",
      "da_city               4637584 non-null category\n",
      "da_median_tot_inc     4608506 non-null float64\n",
      "dtypes: category(8), datetime64[ns](1), float64(6), int32(2), object(1)\n",
      "memory usage: 527.8+ MB\n"
     ]
    }
   ],
   "source": [
    "df = df.dropna(subset=['consideration_amt'])\n",
    "df['pin'] = df['pin'].astype('category')\n",
    "df.info(null_counts=True)"
   ]
  },
  {
   "cell_type": "markdown",
   "metadata": {
    "pycharm": {
     "metadata": false,
     "name": "#%% md\n"
    }
   },
   "source": [
    "### Unique records by `pin`\n",
    "Column `pin` can be used for grouping operations with Teranet data."
   ]
  },
  {
   "cell_type": "code",
   "execution_count": 8,
   "metadata": {
    "ExecuteTime": {
     "end_time": "2019-06-18T16:02:26.370511Z",
     "start_time": "2019-06-18T16:02:25.224520Z"
    },
    "pycharm": {
     "is_executing": false,
     "name": "#%%\n"
    }
   },
   "outputs": [
    {
     "data": {
      "text/plain": [
       "count       4637584\n",
       "unique      2219927\n",
       "top       211080033\n",
       "freq            464\n",
       "Name: pin, dtype: int64"
      ]
     },
     "execution_count": 8,
     "metadata": {},
     "output_type": "execute_result"
    }
   ],
   "source": [
    "df['pin'].describe()"
   ]
  },
  {
   "cell_type": "markdown",
   "metadata": {
    "pycharm": {
     "metadata": false
    }
   },
   "source": [
    "### Unique records by `xy`\n",
    "Column `xy` is produced by concatenating `x` and `y` coordinates as strings. It can be used for grouping operations with Teranet data."
   ]
  },
  {
   "cell_type": "code",
   "execution_count": 9,
   "metadata": {
    "ExecuteTime": {
     "end_time": "2019-06-18T16:04:27.921143Z",
     "start_time": "2019-06-18T16:04:10.377318Z"
    },
    "pycharm": {
     "is_executing": false,
     "metadata": false,
     "name": "#%%\n"
    }
   },
   "outputs": [
    {
     "data": {
      "text/plain": [
       "count                                 4637584\n",
       "unique                                1394189\n",
       "top       -79.413759934962343.776162782863395\n",
       "freq                                     7222\n",
       "Name: xy, dtype: object"
      ]
     },
     "execution_count": 9,
     "metadata": {},
     "output_type": "execute_result"
    }
   ],
   "source": [
    "df['xy'] = df['x'].astype('str') + df['y'].astype('str')\n",
    "df['xy'] = df['xy'].astype('category')\n",
    "df['xy'].describe()"
   ]
  },
  {
   "cell_type": "markdown",
   "metadata": {
    "pycharm": {
     "metadata": false
    }
   },
   "source": [
    "There is a significant discrepancy between the number of records with unique `pin` and the number of records with unique `xy` (#  un`xy` < # with same `pin`)."
   ]
  },
  {
   "cell_type": "markdown",
   "metadata": {
    "pycharm": {
     "metadata": false,
     "name": "#%% md\n"
    }
   },
   "source": [
    "## Add column `total_sales`\n",
    "Total records for each pin, generated as a separate DataFrame `df_pin` which represents Teranet records grouped and indexed by `pin`.\n",
    "\n",
    "`total_sales_pin` is added as a new column for Teranet records via a merge operation on `pin`."
   ]
  },
  {
   "cell_type": "code",
   "execution_count": 10,
   "metadata": {
    "ExecuteTime": {
     "end_time": "2019-06-18T16:05:19.154349Z",
     "start_time": "2019-06-18T16:05:15.501102Z"
    },
    "pycharm": {
     "is_executing": false,
     "metadata": false,
     "name": "#%%\n"
    }
   },
   "outputs": [
    {
     "name": "stdout",
     "output_type": "stream",
     "text": [
      "Adding new columns...\n",
      "\n",
      "New column 'pin_total_sales' added to the DataFrame!\n",
      "took 3.16 seconds.\n",
      "\n",
      "New column 'xy_total_sales' added to the DataFrame!\n",
      "took 6.34 seconds.\n"
     ]
    }
   ],
   "source": [
    "# add column with total sales per `pin` and `xy` pair\n",
    "print(\"Adding new columns...\")\n",
    "# group records by `pin`\n",
    "t = time.time()\n",
    "pin_counts = \\\n",
    "    df.groupby('pin')['consideration_amt'].count()\n",
    "pin_counts.name = 'pin_total_sales'\n",
    "df = pd.merge(df, pin_counts, on='pin')\n",
    "elapsed = time.time() - t\n",
    "print(\"\\nNew column 'pin_total_sales' \"\n",
    "      \"added to the DataFrame!\"\n",
    "      \"\\ntook {0:.2f} seconds.\".format(elapsed))\n",
    "\n",
    "# group records by `xy` coordinate pairs\n",
    "t = time.time()\n",
    "xy_counts = \\\n",
    "    df.groupby('xy')['consideration_amt'].count()\n",
    "xy_counts.name = 'xy_total_sales'\n",
    "df = pd.merge(df, xy_counts, on='xy')\n",
    "elapsed = time.time() - t\n",
    "print(\"\\nNew column 'xy_total_sales' \"\n",
    "      \"added to the DataFrame!\"\n",
    "      \"\\ntook {0:.2f} seconds.\".format(elapsed))"
   ]
  },
  {
   "cell_type": "markdown",
   "metadata": {
    "pycharm": {}
   },
   "source": [
    "## Add column `prev_sales`\n",
    "New columns are added to Teranet records capturing, for each transaction, a rolling count of previous records from this `pin` or `xy` coordinate pair."
   ]
  },
  {
   "cell_type": "code",
   "execution_count": 11,
   "metadata": {
    "pycharm": {
     "is_executing": false,
     "metadata": false,
     "name": "#%%\n"
    }
   },
   "outputs": [
    {
     "name": "stdout",
     "output_type": "stream",
     "text": [
      "Adding new columns...\n",
      "\n",
      "New column 'pin_prev_sales' added to the DataFrame!\n",
      "took 3.62 seconds.\n",
      "\n",
      "New column 'xy_prev_sales' added to the DataFrame!\n",
      "took 4.09 seconds.\n"
     ]
    }
   ],
   "source": [
    "print(\"Adding new columns...\")\n",
    "\n",
    "df['count'] = 1 # used to produce rolling counts per `pin` and `xy`\n",
    "\n",
    "# group by `pin`\n",
    "t = time.time()\n",
    "df['pin_prev_sales'] = \\\n",
    "    df.sort_values(['pin', 'registration_date'])\\\n",
    "    .groupby('pin')['count'].cumsum() - 1\n",
    "elapsed = time.time() - t\n",
    "print(\"\\nNew column 'pin_prev_sales' \"\n",
    "      \"added to the DataFrame!\"\n",
    "      \"\\ntook {0:.2f} seconds.\".format(elapsed))\n",
    "\n",
    "# group by xy pairs\n",
    "t = time.time()\n",
    "df['xy_prev_sales'] = \\\n",
    "    df.sort_values(['xy', 'registration_date'])\\\n",
    "    .groupby('xy')['count'].cumsum() - 1\n",
    "elapsed = time.time() - t\n",
    "print(\"\\nNew column 'xy_prev_sales' \"\n",
    "      \"added to the DataFrame!\"\n",
    "      \"\\ntook {0:.2f} seconds.\".format(elapsed))\n",
    "\n",
    "df = df.drop('count', axis=1)"
   ]
  },
  {
   "cell_type": "markdown",
   "metadata": {
    "pycharm": {
     "metadata": false,
     "name": "#%% md\n"
    }
   },
   "source": [
    "## Add columns `price_cum_sum` and `price_pct_change`\n",
    "New columns are added to Teranet records capturing, for each transaction, a rolling sum of price from previous records from this `pin` or `xy` coordinate pair, and `pct_change` compared to previous transaction from this `pin` or `xy` pair."
   ]
  },
  {
   "cell_type": "code",
   "execution_count": 12,
   "metadata": {
    "pycharm": {
     "is_executing": false,
     "metadata": false,
     "name": "#%%\n"
    }
   },
   "outputs": [
    {
     "name": "stdout",
     "output_type": "stream",
     "text": [
      "Adding new columns...\n",
      "\n",
      "New column 'pin_price_cum_sum' added to the DataFrame!\n",
      "took 3.24 seconds.\n",
      "\n",
      "New column 'xy_price_cum_sum' added to the DataFrame!\n",
      "took 3.87 seconds.\n",
      "\n",
      "New column 'pin_price_pct_change' added to the DataFrame!\n",
      "took 4.28 seconds.\n",
      "\n",
      "New column 'xy_price_pct_change' added to the DataFrame!\n",
      "took 4.68 seconds.\n"
     ]
    }
   ],
   "source": [
    "print(\"Adding new columns...\")\n",
    "# `price_cum_sum`\n",
    "# group records by `pin`\n",
    "t = time.time()\n",
    "df['pin_price_cum_sum'] = \\\n",
    "    df.sort_values(['pin', 'registration_date'])\\\n",
    "    .groupby('pin')['consideration_amt'].cumsum()\n",
    "elapsed = time.time() - t\n",
    "print(\"\\nNew column 'pin_price_cum_sum' \"\n",
    "      \"added to the DataFrame!\"\n",
    "      \"\\ntook {0:.2f} seconds.\".format(elapsed))\n",
    "# group records by `xy` pairs\n",
    "t = time.time()\n",
    "df['xy_price_cum_sum'] = \\\n",
    "    df.sort_values(['xy', 'registration_date'])\\\n",
    "    .groupby('xy')['consideration_amt'].cumsum()\n",
    "elapsed = time.time() - t\n",
    "print(\"\\nNew column 'xy_price_cum_sum' \"\n",
    "      \"added to the DataFrame!\"\n",
    "      \"\\ntook {0:.2f} seconds.\".format(elapsed))\n",
    "\n",
    "# `price_pct_change`\n",
    "# group records by `pin`\n",
    "t = time.time()\n",
    "df['pin_price_pct_change'] = \\\n",
    "    df.sort_values(['pin', 'registration_date'])\\\n",
    "    .groupby('pin')['consideration_amt'].pct_change()\n",
    "elapsed = time.time() - t\n",
    "print(\"\\nNew column 'pin_price_pct_change' \"\n",
    "      \"added to the DataFrame!\"\n",
    "      \"\\ntook {0:.2f} seconds.\".format(elapsed))\n",
    "# group records by `xy`\n",
    "t = time.time()\n",
    "df['xy_price_pct_change'] = \\\n",
    "    df.sort_values(['xy', 'registration_date'])\\\n",
    "    .groupby('xy')['consideration_amt'].pct_change()\n",
    "elapsed = time.time() - t\n",
    "print(\"\\nNew column 'xy_price_pct_change' \"\n",
    "      \"added to the DataFrame!\"\n",
    "      \"\\ntook {0:.2f} seconds.\".format(elapsed))"
   ]
  },
  {
   "cell_type": "markdown",
   "metadata": {
    "pycharm": {
     "metadata": false
    }
   },
   "source": [
    "## Add column `price_da_pct_change`\n",
    "New column is added to Teranet records capturing, for each transaction, percentage change in price compared to the previous record from this `da_id`."
   ]
  },
  {
   "cell_type": "code",
   "execution_count": 13,
   "metadata": {
    "pycharm": {
     "is_executing": false,
     "metadata": false,
     "name": "#%%\n"
    }
   },
   "outputs": [
    {
     "name": "stdout",
     "output_type": "stream",
     "text": [
      "\n",
      "New column 'price_da_pct_change' added to the DataFrame!\n",
      "took 3.86 seconds.\n"
     ]
    }
   ],
   "source": [
    "# add column 'price_da_pct_change' to Teranet records DataFrame \n",
    "t = time.time()\n",
    "df['price_da_pct_change'] = \\\n",
    "    df.sort_values(['da_id', 'registration_date'])\\\n",
    "    .groupby('da_id')['consideration_amt'].pct_change()\n",
    "elapsed = time.time() - t\n",
    "print(\"\\nNew column 'price_da_pct_change' \"\n",
    "      \"added to the DataFrame!\"\n",
    "      \"\\ntook {0:.2f} seconds.\".format(elapsed))"
   ]
  },
  {
   "cell_type": "markdown",
   "metadata": {
    "pycharm": {
     "metadata": false
    }
   },
   "source": [
    "## Add columns `years_since_last_sale`\n",
    "New columns are added to Teranet records capturing, for each transaction, years passed since the previous record from this `pin` or `xy` coordinate pair."
   ]
  },
  {
   "cell_type": "code",
   "execution_count": 14,
   "metadata": {
    "pycharm": {
     "is_executing": false,
     "metadata": false,
     "name": "#%%\n"
    }
   },
   "outputs": [
    {
     "name": "stdout",
     "output_type": "stream",
     "text": [
      "New column 'pin_years_since_last_sale'added to the DataFrame!\n",
      "took 799.07 seconds.\n"
     ]
    }
   ],
   "source": [
    "print(\"Adding the new column...\")\n",
    "# add column 'prev_visits' to Teranet records DataFrame \n",
    "t = time.time()\n",
    "df['pin_years_since_last_sale'] = \\\n",
    "    df.sort_values(['pin', 'registration_date'])\\\n",
    "      .groupby('pin')['registration_date']\\\n",
    "        .diff().dt.days / 365\n",
    "elapsed = time.time() - t\n",
    "print(\"New column 'pin_years_since_last_sale' \"\n",
    "      \"added to the DataFrame!\"\n",
    "      \"\\ntook {0:.2f} seconds.\".format(elapsed))"
   ]
  },
  {
   "cell_type": "code",
   "execution_count": 15,
   "metadata": {
    "pycharm": {
     "is_executing": false,
     "metadata": false,
     "name": "#%%\n"
    }
   },
   "outputs": [
    {
     "name": "stdout",
     "output_type": "stream",
     "text": [
      "Adding the new column...\n",
      "New column 'xy_years_since_last_sale'added to the DataFrame!\n",
      "took 495.81 seconds.\n"
     ]
    }
   ],
   "source": [
    "print(\"Adding the new column...\")\n",
    "# add column 'prev_visits' to Teranet records DataFrame \n",
    "t = time.time()\n",
    "df['xy_years_since_last_sale'] = \\\n",
    "    df.sort_values(['xy', 'registration_date'])\\\n",
    "      .groupby('xy')['registration_date']\\\n",
    "        .diff().dt.days / 365\n",
    "elapsed = time.time() - t\n",
    "print(\"New column 'xy_years_since_last_sale' \"\n",
    "      \"added to the DataFrame!\"\n",
    "      \"\\ntook {0:.2f} seconds.\".format(elapsed))"
   ]
  },
  {
   "cell_type": "markdown",
   "metadata": {
    "pycharm": {
     "metadata": false
    }
   },
   "source": [
    "## Add columns `da_days_since_last_sale` and `da_years_since_last_sale`\n",
    "New columns are added to Teranet records capturing, for each transaction, years passed since the previous record from this `pin` or `xy` coordinate pair."
   ]
  },
  {
   "cell_type": "code",
   "execution_count": 24,
   "metadata": {
    "pycharm": {
     "is_executing": false,
     "metadata": false,
     "name": "#%%\n"
    }
   },
   "outputs": [
    {
     "name": "stdout",
     "output_type": "stream",
     "text": [
      "Adding new columns...\n",
      "New column 'da_days_since_last_sale' added to the DataFrame!\n",
      "took 9.16 seconds.\n",
      "New column 'da_years_since_last_sale' added to the DataFrame!\n",
      "took 7.06 seconds.\n"
     ]
    }
   ],
   "source": [
    "print(\"Adding new columns...\")\n",
    "# add column 'da_days_since_last_sale' to Teranet records DataFrame \n",
    "t = time.time()\n",
    "df['da_days_since_last_sale'] = \\\n",
    "    df.sort_values(['da_id', 'registration_date'])\\\n",
    "      .groupby('da_id')['registration_date']\\\n",
    "        .diff().dt.days\n",
    "elapsed = time.time() - t\n",
    "print(\"New column 'da_days_since_last_sale' \"\n",
    "      \"added to the DataFrame!\"\n",
    "      \"\\ntook {0:.2f} seconds.\".format(elapsed))\n",
    "# add column 'da_years_since_last_sale' to Teranet records DataFrame \n",
    "t = time.time()\n",
    "df['da_years_since_last_sale'] = \\\n",
    "    df.sort_values(['da_id', 'registration_date'])\\\n",
    "      .groupby('da_id')['registration_date']\\\n",
    "        .diff().dt.days / 365\n",
    "elapsed = time.time() - t\n",
    "print(\"New column 'da_years_since_last_sale' \"\n",
    "      \"added to the DataFrame!\"\n",
    "      \"\\ntook {0:.2f} seconds.\".format(elapsed))"
   ]
  },
  {
   "cell_type": "markdown",
   "metadata": {
    "pycharm": {
     "metadata": false,
     "name": "#%% md\n"
    }
   },
   "source": [
    "## Add columns `sale_next_6m/1y/3y` per `pin` and `xy`\n",
    "New columns are added to Teranet records capturing, for each transaction, whether there would be another transaction in the future from this `pin`, `xy`, or `da_id`\n",
    "\n",
    "Time horizons used: 6 months, 1 year, 3 years."
   ]
  },
  {
   "cell_type": "code",
   "execution_count": 37,
   "metadata": {
    "pycharm": {
     "is_executing": false,
     "metadata": false,
     "name": "#%%\n"
    }
   },
   "outputs": [
    {
     "name": "stdout",
     "output_type": "stream",
     "text": [
      "Adding new columns...\n",
      "New columns 'pin_sale_next_..' added to the DataFrame!\n",
      "took 3.61 seconds.\n",
      "New columns 'xy_sale_next_..' added to the DataFrame!\n",
      "took 3.11 seconds.\n"
     ]
    }
   ],
   "source": [
    "print(\"Adding new columns...\")\n",
    "\n",
    "# create a new column, marks True if next 'day_diff' <= 5\n",
    "\n",
    "# group records by `pin`\n",
    "t = time.time()\n",
    "df = df.sort_values(['pin', 'registration_date'])\n",
    "df['pin_sale_next_6m'] = \\\n",
    "    df['pin_years_since_last_sale'].shift(-1) <= 0.5\n",
    "df['pin_sale_next_1y'] = \\\n",
    "    df['pin_years_since_last_sale'].shift(-1) <= 1\n",
    "df['pin_sale_next_3y'] = \\\n",
    "    df['pin_years_since_last_sale'].shift(-1) <= 3\n",
    "elapsed = time.time() - t\n",
    "print(\"New columns 'pin_sale_next_..' \"\n",
    "      \"added to the DataFrame!\"\n",
    "      \"\\ntook {0:.2f} seconds.\".format(elapsed))\n",
    "\n",
    "# group records by `xy`\n",
    "t = time.time()\n",
    "df = df.sort_values(['xy', 'registration_date'])\n",
    "df['xy_sale_next_6m'] = \\\n",
    "    df['xy_years_since_last_sale'].shift(-1) <= 0.5\n",
    "df['xy_sale_next_1y'] = \\\n",
    "    df['xy_years_since_last_sale'].shift(-1) <= 1\n",
    "df['xy_sale_next_3y'] = \\\n",
    "    df['xy_years_since_last_sale'].shift(-1) <= 3\n",
    "elapsed = time.time() - t\n",
    "print(\"New columns 'xy_sale_next_..' \"\n",
    "      \"added to the DataFrame!\"\n",
    "      \"\\ntook {0:.2f} seconds.\".format(elapsed))"
   ]
  },
  {
   "cell_type": "markdown",
   "metadata": {
    "pycharm": {
     "metadata": false,
     "name": "#%% md\n"
    }
   },
   "source": [
    "## Save results to a new .csv file\n",
    "Teranet dataset without NaN records and with 12 new columns is saved as:\n",
    "`data/HHSaleHistory_cleaned_v0.9_GTHA_DA_with_cols_v0.9.csv`"
   ]
  },
  {
   "cell_type": "code",
   "execution_count": 38,
   "metadata": {
    "pycharm": {
     "is_executing": false,
     "metadata": false,
     "name": "#%%\n"
    }
   },
   "outputs": [
    {
     "name": "stdout",
     "output_type": "stream",
     "text": [
      "File saved to path:\n",
      "'data/HHSaleHistory_cleaned_v0.9_GTHA_DA_with_cols_v0.9.csv'\n",
      "took 333.41 seconds.\n"
     ]
    }
   ],
   "source": [
    "t = time.time()\n",
    "save_path = 'data/HHSaleHistory_cleaned_v0.9_GTHA_DA_with_cols_v0.9.csv'\n",
    "df.to_csv(save_path, index=False)\n",
    "elapsed = time.time() - t\n",
    "print(\"File saved to path:\\n'\" + save_path + \"'\" + \n",
    "      \"\\ntook {0:.2f} seconds.\".format(elapsed))"
   ]
  }
 ],
 "metadata": {
  "hide_input": false,
  "kernelspec": {
   "display_name": "Python 3",
   "language": "python",
   "name": "python3"
  },
  "language_info": {
   "codemirror_mode": {
    "name": "ipython",
    "version": 3
   },
   "file_extension": ".py",
   "mimetype": "text/x-python",
   "name": "python",
   "nbconvert_exporter": "python",
   "pygments_lexer": "ipython3",
   "version": "3.6.7"
  },
  "latex_envs": {
   "LaTeX_envs_menu_present": true,
   "autoclose": false,
   "autocomplete": true,
   "bibliofile": "biblio.bib",
   "cite_by": "apalike",
   "current_citInitial": 1,
   "eqLabelWithNumbers": true,
   "eqNumInitial": 1,
   "hotkeys": {
    "equation": "Ctrl-E",
    "itemize": "Ctrl-I"
   },
   "labels_anchors": false,
   "latex_user_defs": false,
   "report_style_numbering": false,
   "user_envs_cfg": false
  },
  "pycharm": {
   "stem_cell": {
    "cell_type": "raw",
    "metadata": {
     "collapsed": false
    },
    "source": []
   }
  },
  "stem_cell": {
   "cell_type": "raw",
   "metadata": {
    "pycharm": {
     "metadata": false
    }
   },
   "source": ""
  },
  "toc": {
   "base_numbering": 1,
   "nav_menu": {},
   "number_sections": true,
   "sideBar": true,
   "skip_h1_title": true,
   "title_cell": "Table of Contents",
   "title_sidebar": "Contents",
   "toc_cell": true,
   "toc_position": {},
   "toc_section_display": true,
   "toc_window_display": true
  },
  "varInspector": {
   "cols": {
    "lenName": 16,
    "lenType": 16,
    "lenVar": 40
   },
   "kernels_config": {
    "python": {
     "delete_cmd_postfix": "",
     "delete_cmd_prefix": "del ",
     "library": "var_list.py",
     "varRefreshCmd": "print(var_dic_list())"
    },
    "r": {
     "delete_cmd_postfix": ") ",
     "delete_cmd_prefix": "rm(",
     "library": "var_list.r",
     "varRefreshCmd": "cat(var_dic_list()) "
    }
   },
   "types_to_exclude": [
    "module",
    "function",
    "builtin_function_or_method",
    "instance",
    "_Feature"
   ],
   "window_display": false
  }
 },
 "nbformat": 4,
 "nbformat_minor": 1
}
