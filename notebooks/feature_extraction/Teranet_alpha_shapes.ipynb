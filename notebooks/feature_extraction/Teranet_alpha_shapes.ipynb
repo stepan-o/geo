{
  "cells": [
    {
      "cell_type": "markdown",
      "metadata": {
        "collapsed": true,
        "pycharm": {
          "name": "#%% md\n"
        }
      },
      "source": "# Teranet dataset\n# Feature extraction\n# Alpha-shapes\nThis notebook describes the process of generating [alpha shapes](https://en.wikipedia.org/wiki/Alpha_shape) from Teranet records.  \n"
    },
    {
      "cell_type": "markdown",
      "source": "## Summary of the previous steps\nTeranet records previously were: \n* cleaned and filtered for duplicates\n    * `consideration_amt` \u003c $30 were reset to NaN (Not a Number, missing values)\n    * records matching on all columns have been removed (83\u0027798 records)\n    * records matching on all columns excluding `pin` have been removed (729\u0027182 records)\n    * **813\u0027138 duplicate entries** removed in total from original Teranet dataset \n    * 8\u0027226\u0027103 unique records remain after duplicates have been removed\n    * see notebook `data_cleaning/Teranet_data_cleaning.ipynb` for details\n\n* filtered to include only records from GTHA \n    * filtering performed via a spatial join\n    * `xy` coordinates of Teranet records joined (how\u003d\u0027inner\u0027, op\u003d\u0027within\u0027) with DA geometry for GTHA \n    * DA geometry provided by York Municipal Government (accessed via Esri Open Data portal)\n    * 6,062,853 records have `xy` coordinates within GTHA boundary\n    * see notebook `data_cleaning/Teranet_GTHA_DA_spatial_join.ipynb` for details",
      "metadata": {
        "pycharm": {
          "metadata": false
        }
      }
    },
    {
      "cell_type": "markdown",
      "source": "## Alpha shapes\nFrom [wikipedia](https://en.wikipedia.org/wiki/Alpha_shape):  \nIn computational geometry, an alpha shape, or α-shape, is a family of piecewise linear simple curves in the Euclidean plane associated with the shape of a finite set of points. They were first defined by [Edelsbrunner, Kirkpatrick \u0026 Seidel (1983)](https://ieeexplore.ieee.org/document/1056714). The alpha-shape associated with a set of points is a generalization of the concept of the convex hull, i.e. every convex hull is an alpha-shape but not every alpha shape is a convex hull.\n\n\u003cimg src\u003d\u0027img/alpha_shapes.png\u0027\u003e\n\nIn this notebook, alpha shapes (polygons) will be generated from Teranet point data using PySal library in Python.",
      "metadata": {
        "pycharm": {
          "metadata": false,
          "name": "#%% md\n"
        }
      }
    },
    {
      "cell_type": "code",
      "execution_count": 1,
      "outputs": [],
      "source": "import numpy as np\nimport matplotlib.pyplot as plt\nimport pandas as pd\nimport seaborn as sns\nfrom pysal.lib.cg import alpha_shape_auto\nimport os\nimport sys\nimport time",
      "metadata": {
        "pycharm": {
          "metadata": false,
          "name": "#%%\n",
          "is_executing": false
        }
      }
    },
    {
      "cell_type": "code",
      "execution_count": 6,
      "outputs": [
        {
          "data": {
            "text/plain": "[\u0027.git\u0027,\n \u0027.gitattributes\u0027,\n \u0027.gitignore\u0027,\n \u0027.idea\u0027,\n \u0027.ipynb_checkpoints\u0027,\n \u0027data\u0027,\n \u0027downloads\u0027,\n \u0027img\u0027,\n \u0027notebooks\u0027,\n \u0027presentations\u0027,\n \u0027README.md\u0027,\n \u0027src\u0027,\n \u0027__pycache__\u0027]"
          },
          "metadata": {},
          "output_type": "execute_result",
          "execution_count": 6
        }
      ],
      "source": "os.listdir()",
      "metadata": {
        "pycharm": {
          "metadata": false,
          "name": "#%%\n",
          "is_executing": false
        }
      }
    },
    {
      "cell_type": "code",
      "execution_count": null,
      "outputs": [],
      "source": "sys.path.append(\u0027src\u0027)",
      "metadata": {
        "pycharm": {
          "metadata": false,
          "name": "#%%\n"
        }
      }
    },
    {
      "cell_type": "code",
      "execution_count": null,
      "outputs": [],
      "source": "",
      "metadata": {
        "pycharm": {
          "metadata": false,
          "name": "#%%\n"
        }
      }
    },
    {
      "cell_type": "code",
      "execution_count": null,
      "outputs": [],
      "source": "dtypes \u003d {\n    \u0027decade\u0027: \u0027int\u0027,\n    \u0027year\u0027: \u0027int\u0027,\n    \u0027lro_num\u0027: \u0027category\u0027,\n    \u0027pin\u0027: \u0027category\u0027,\n    \u0027postal_code\u0027: \u0027category\u0027,\n    \u0027street_designation\u0027: \u0027category\u0027,\n    \u0027street_direction\u0027: \u0027category\u0027,\n    \u0027municipality\u0027: \u0027category\u0027,\n    \u0027da_id\u0027: \u0027category\u0027,\n    \u0027da_city\u0027: \u0027category\u0027,\n    \u0027xy\u0027: \u0027category\u0027\n}\nt \u003d time.time()\nteranet_path \u003d \u0027data/HHSaleHistory_cleaned_v0.9_GTHA_DA_with_cols_v0.9.csv\u0027\ndf \u003d pd.read_csv(teranet_path,\n                 dtype\u003ddtypes,\n                 parse_dates\u003d[\u0027registration_date\u0027])\\\n        .set_index(\u0027registration_date\u0027).sort_index()\ndf \u003d df.sort_values(\u0027registration_date\u0027)\nelapsed \u003d time.time() - t\nprint(\"----- DataFrame with Teranet records loaded\"\n      \"\\nin {0:.2f} seconds\".format(elapsed) + \n      \"\\nwith {0:,} rows\\nand {1:,} columns\"\n      .format(df.shape[0], df.shape[1]) + \n      \"\\n-- Column names:\\n\", df.columns)",
      "metadata": {
        "pycharm": {
          "metadata": false,
          "name": "#%%\n"
        }
      }
    },
    {
      "cell_type": "code",
      "execution_count": null,
      "outputs": [],
      "source": "df \u003d df.dropna()",
      "metadata": {
        "pycharm": {
          "metadata": false,
          "name": "#%%\n"
        }
      }
    }
  ],
  "metadata": {
    "language_info": {
      "codemirror_mode": {
        "name": "ipython",
        "version": 2
      },
      "file_extension": ".py",
      "mimetype": "text/x-python",
      "name": "python",
      "nbconvert_exporter": "python",
      "pygments_lexer": "ipython2",
      "version": "2.7.6"
    },
    "kernelspec": {
      "name": "python3",
      "language": "python",
      "display_name": "Python 3"
    }
  },
  "nbformat": 4,
  "nbformat_minor": 0
}