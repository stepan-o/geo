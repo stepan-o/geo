{
 "cells": [
  {
   "cell_type": "markdown",
   "metadata": {
    "collapsed": true,
    "pycharm": {
     "name": "#%% md\n"
    }
   },
   "source": [
    "# Teranet dataset\n",
    "# Exploratory Spatial Data Analysis (ESDA)\n",
    "# Alpha-shapes\n",
    "This notebook describes the process of generating [alpha shapes](https://en.wikipedia.org/wiki/Alpha_shape) from Teranet records.  \n"
   ]
  },
  {
   "cell_type": "markdown",
   "source": [
    "## Summary of the previous steps\n",
    "Teranet records previously were: \n",
    "* cleaned and filtered for duplicates\n",
    "    * `consideration_amt` < $30 were reset to NaN (Not a Number, missing values)\n",
    "    * records matching on all columns have been removed (83'798 records)\n",
    "    * records matching on all columns excluding `pin` have been removed (729'182 records)\n",
    "    * **813'138 duplicate entries** removed in total from original Teranet dataset \n",
    "    * 8'226'103 unique records remain after duplicates have been removed\n",
    "    * see notebook `data_cleaning/Teranet_data_cleaning.ipynb` for details\n",
    "\n",
    "* filtered to include only records from GTHA \n",
    "    * filtering performed via a spatial join\n",
    "    * `xy` coordinates of Teranet records joined (how='inner', op='within') with DA geometry for GTHA \n",
    "    * DA geometry provided by York Municipal Government (accessed via Esri Open Data portal)\n",
    "    * 6,062,853 records have `xy` coordinates within GTHA boundary\n",
    "    * see notebook `data_cleaning/Teranet_GTHA_DA_spatial_join.ipynb` for details"
   ],
   "metadata": {
    "pycharm": {
     "metadata": false
    }
   }
  },
  {
   "cell_type": "markdown",
   "source": [
    "## Alpha shapes\n",
    "From [wikipedia](https://en.wikipedia.org/wiki/Alpha_shape):  \n",
    "In computational geometry, an alpha shape, or α-shape, is a family of piecewise linear simple curves in the Euclidean plane associated with the shape of a finite set of points. They were first defined by [Edelsbrunner, Kirkpatrick & Seidel (1983)](https://ieeexplore.ieee.org/document/1056714). The alpha-shape associated with a set of points is a generalization of the concept of the convex hull, i.e. every convex hull is an alpha-shape but not every alpha shape is a convex hull.\n",
    "\n",
    "<img src='img/alpha_shapes.png'>\n",
    "\n",
    "In this notebook, alpha shapes (polygons) will be generated from Teranet point data using PySal library in Python."
   ],
   "metadata": {
    "pycharm": {
     "metadata": false,
     "name": "#%% md\n"
    }
   }
  },
  {
   "cell_type": "code",
   "execution_count": 1,
   "outputs": [
    {
     "name": "stderr",
     "text": [
      "C:\\ProgramData\\Anaconda3\\envs\\gds\\lib\\site-packages\\pysal\\model\\spvcm\\abstracts.py:10: UserWarning: The `dill` module is required to use the sqlite backend fully.\n  from .sqlite import head_to_sql, start_sql\n"
     ],
     "output_type": "stream"
    }
   ],
   "source": [
    "import matplotlib.pyplot as plt\n",
    "import pandas as pd\n",
    "import geopandas as gpd\n",
    "import seaborn as sns\n",
    "from pysal.lib.cg import alpha_shape_auto\n",
    "import contextily as ctx\n",
    "import os\n",
    "import sys\n",
    "import time"
   ],
   "metadata": {
    "pycharm": {
     "metadata": false,
     "name": "#%%\n",
     "is_executing": false
    }
   }
  },
  {
   "cell_type": "code",
   "execution_count": 2,
   "outputs": [
    {
     "data": {
      "text/plain": "['.git',\n '.gitattributes',\n '.gitignore',\n '.idea',\n '.ipynb_checkpoints',\n 'data',\n 'downloads',\n 'img',\n 'notebooks',\n 'presentations',\n 'README.md',\n 'src',\n '__pycache__']"
     },
     "metadata": {},
     "output_type": "execute_result",
     "execution_count": 2
    }
   ],
   "source": [
    "os.chdir('Documents/repos/geo')\n",
    "os.listdir()"
   ],
   "metadata": {
    "pycharm": {
     "metadata": false,
     "name": "#%%\n",
     "is_executing": false
    }
   }
  },
  {
   "cell_type": "code",
   "execution_count": null,
   "outputs": [],
   "source": [
    "sys.path.append('src')"
   ],
   "metadata": {
    "pycharm": {
     "metadata": false,
     "name": "#%%\n",
     "is_executing": true
    }
   }
  },
  {
   "cell_type": "code",
   "execution_count": 4,
   "outputs": [
    {
     "name": "stdout",
     "text": [
      "----- DataFrame with Teranet records loaded\nin 61.95 seconds\nwith 4,637,584 rows\nand 37 columns\n-- Column names:\n Index(['decade', 'year', 'lro_num', 'pin', 'consideration_amt', 'postal_code',\n       'unitno', 'street_name', 'street_designation', 'street_direction',\n       'municipality', 'street_number', 'x', 'y', 'da_id', 'da_city',\n       'da_median_tot_inc', 'xy', 'pin_total_sales', 'xy_total_sales',\n       'pin_prev_sales', 'xy_prev_sales', 'pin_price_cum_sum',\n       'xy_price_cum_sum', 'pin_price_pct_change', 'xy_price_pct_change',\n       'price_da_pct_change', 'pin_years_since_last_sale',\n       'xy_years_since_last_sale', 'da_days_since_last_sale',\n       'da_years_since_last_sale', 'pin_sale_next_6m', 'pin_sale_next_1y',\n       'pin_sale_next_3y', 'xy_sale_next_6m', 'xy_sale_next_1y',\n       'xy_sale_next_3y'],\n      dtype='object')\n"
     ],
     "output_type": "stream"
    }
   ],
   "source": [
    "dtypes = {\n",
    "    'decade': 'int',\n",
    "    'year': 'int',\n",
    "    'lro_num': 'category',\n",
    "    'pin': 'category',\n",
    "    'postal_code': 'category',\n",
    "    'street_designation': 'category',\n",
    "    'street_direction': 'category',\n",
    "    'municipality': 'category',\n",
    "    'da_id': 'category',\n",
    "    'xy': 'category'\n",
    "}\n",
    "t = time.time()\n",
    "teranet_path = 'data/HHSaleHistory_cleaned_v0.9_GTHA_DA_with_cols_v0.9.csv'\n",
    "df = pd.read_csv(teranet_path,\n",
    "                 dtype=dtypes,\n",
    "                 parse_dates=['registration_date'])\\\n",
    "        .set_index('registration_date').sort_index()\n",
    "elapsed = time.time() - t\n",
    "print(\"----- DataFrame with Teranet records loaded\"\n",
    "      \"\\nin {0:.2f} seconds\".format(elapsed) + \n",
    "      \"\\nwith {0:,} rows\\nand {1:,} columns\"\n",
    "      .format(df.shape[0], df.shape[1]) + \n",
    "      \"\\n-- Column names:\\n\", df.columns)"
   ],
   "metadata": {
    "pycharm": {
     "metadata": false,
     "name": "#%%\n",
     "is_executing": false
    }
   }
  },
  {
   "cell_type": "code",
   "execution_count": 5,
   "outputs": [],
   "source": [
    "def map_alpha(df, start, stop, \n",
    "              color_col, date_col, dfd, min_counts,\n",
    "              action='show', \n",
    "              save_path_noctx='img/gen/noctx/',\n",
    "              save_path_ctx='img/gen/ctx/'):\n",
    "    \"\"\"\n",
    "    make a subset of Teranet records \n",
    "    and create alpha shapes from it\n",
    "    :param df: \n",
    "    :param start: \n",
    "    :param stop: \n",
    "    :param color_col: \n",
    "    :param date_col: \n",
    "    :param dfd: \n",
    "    :param min_counts: \n",
    "    :param action: \n",
    "    :param save_path: \n",
    "    :return: \n",
    "    \"\"\"\n",
    "    def plot_map(cont, act):\n",
    "        \"\"\"\n",
    "        internal function to plot a map\n",
    "        :param cont: \n",
    "        :param act: \n",
    "        :return: \n",
    "        \"\"\"\n",
    "        f, ax = plt.subplots(1, figsize=(12, 12))\n",
    "        alpha.reset_index()\\\n",
    "            .plot(column=color_col, legend=True, \n",
    "              legend_kwds={'loc': 'lower right'}, \n",
    "              ax=ax, alpha=0.5)\n",
    "        for idx, mun in alpha.iterrows():\n",
    "            mun_centroid = mun['geometry'].centroid\n",
    "            ax.text(mun_centroid.x, mun_centroid.y, idx\n",
    "                    + \"\\n{0:,} records\".format(mun_counts[idx]))\n",
    "        ax.set_title(\"Alpha shapes of each GTHA municipality\\n\"\n",
    "                     \"based on Teranet records from {0} to {1}\"\n",
    "                     .format(min_date,\n",
    "                             max_date), fontsize=20)\n",
    "        ax.set_xlim(-8940996.776086302, -8723064.623629777)\n",
    "        ax.set_ylim(5313237.739935117, 5555494.494204169)\n",
    "        if cont:\n",
    "            ctx.add_basemap(ax=ax, url=ctx.sources.ST_TONER_HYBRID, \n",
    "                            alpha=0.5)\n",
    "            if act == 'show':\n",
    "                plt.show()\n",
    "            elif act == 'save':\n",
    "                plt.savefig(save_path_ctx + \n",
    "                            str(min_date)[:10]\n",
    "                            + '_' + \n",
    "                            str(max_date)[:10])\n",
    "        else:\n",
    "            if act == 'show':\n",
    "                plt.show()\n",
    "            elif act == 'save':\n",
    "                plt.savefig(save_path_noctx + \n",
    "                            str(min_date)[:10] \n",
    "                            + '_' + \n",
    "                            str(max_date)[:10])\n",
    "        \n",
    "    s = df.loc[start:stop].reset_index()\n",
    "    min_date = s[date_col].min()\n",
    "    max_date = s[date_col].max()\n",
    "    print(\"{0} points in the subset from {1} to {2}.\"\n",
    "          .format(len(s), \n",
    "                  min_date,\n",
    "                  max_date))\n",
    "    mun_counts = s.groupby(color_col)['x'].count()\n",
    "    dfd[int(start[:4])] = mun_counts\n",
    "    mun_list = \\\n",
    "        list(mun_counts[mun_counts > min_counts].index)\n",
    "    mask = s[color_col].isin(mun_list)\n",
    "    s = s[mask]\n",
    "    alpha = s.groupby(color_col)[['x', 'y']]\\\n",
    "        .apply(lambda tab: alpha_shape_auto(tab.values))\n",
    "    alpha = gpd.GeoDataFrame({'geometry': alpha}, crs='+init=epsg:4326') \n",
    "    alpha = alpha.to_crs(epsg=3857)\n",
    "    plot_map(cont=False, act=action)\n",
    "    plot_map(cont=True, act=action)"
   ],
   "metadata": {
    "collapsed": false,
    "pycharm": {
     "name": "#%%\n",
     "is_executing": false
    }
   }
  },
  {
   "cell_type": "code",
   "execution_count": null,
   "outputs": [
    {
     "name": "stdout",
     "text": [
      "208 points in the subset from 1930-01-04 00:00:00 to 1930-12-31 00:00:00.\n",
      "172 points in the subset from 1931-01-02 00:00:00 to 1931-12-29 00:00:00.\n",
      "195 points in the subset from 1932-01-06 00:00:00 to 1932-12-30 00:00:00.\n",
      "72 points in the subset from 1933-01-04 00:00:00 to 1933-12-02 00:00:00.\n",
      "62 points in the subset from 1934-01-04 00:00:00 to 1934-12-26 00:00:00.\n",
      "108 points in the subset from 1935-01-03 00:00:00 to 1935-12-18 00:00:00.\n",
      "77 points in the subset from 1936-01-10 00:00:00 to 1936-12-28 00:00:00.\n",
      "113 points in the subset from 1937-01-13 00:00:00 to 1937-12-31 00:00:00.\n",
      "89 points in the subset from 1938-01-04 00:00:00 to 1938-12-31 00:00:00.\n",
      "134 points in the subset from 1939-01-04 00:00:00 to 1939-12-29 00:00:00.\n",
      "142 points in the subset from 1940-01-04 00:00:00 to 1940-12-31 00:00:00.\n",
      "255 points in the subset from 1941-01-06 00:00:00 to 1941-12-29 00:00:00.\n",
      "159 points in the subset from 1942-01-05 00:00:00 to 1942-12-31 00:00:00.\n",
      "173 points in the subset from 1943-01-04 00:00:00 to 1943-12-31 00:00:00.\n",
      "211 points in the subset from 1944-01-14 00:00:00 to 1944-12-23 00:00:00.\n",
      "260 points in the subset from 1945-01-03 00:00:00 to 1945-12-31 00:00:00.\n",
      "416 points in the subset from 1946-01-02 00:00:00 to 1946-12-31 00:00:00.\n",
      "411 points in the subset from 1947-01-03 00:00:00 to 1947-12-31 00:00:00.\n",
      "409 points in the subset from 1948-01-02 00:00:00 to 1949-01-01 00:00:00.\n",
      "553 points in the subset from 1949-01-01 00:00:00 to 1949-12-29 00:00:00.\n",
      "654 points in the subset from 1950-01-03 00:00:00 to 1950-12-30 00:00:00.\n",
      "694 points in the subset from 1951-01-03 00:00:00 to 1951-12-29 00:00:00.\n",
      "704 points in the subset from 1952-01-02 00:00:00 to 1952-12-31 00:00:00.\n",
      "888 points in the subset from 1953-01-02 00:00:00 to 1953-12-31 00:00:00.\n",
      "820 points in the subset from 1954-01-04 00:00:00 to 1954-12-31 00:00:00.\n",
      "921 points in the subset from 1955-01-03 00:00:00 to 1955-12-30 00:00:00.\n",
      "880 points in the subset from 1956-01-03 00:00:00 to 1956-12-31 00:00:00.\n",
      "764 points in the subset from 1957-01-02 00:00:00 to 1957-12-31 00:00:00.\n",
      "809 points in the subset from 1958-01-02 00:00:00 to 1958-12-31 00:00:00.\n",
      "855 points in the subset from 1959-01-02 00:00:00 to 1959-12-31 00:00:00.\n",
      "811 points in the subset from 1960-01-04 00:00:00 to 1960-12-30 00:00:00.\n",
      "651 points in the subset from 1961-01-03 00:00:00 to 1961-12-29 00:00:00.\n",
      "695 points in the subset from 1962-01-02 00:00:00 to 1962-12-31 00:00:00.\n",
      "822 points in the subset from 1963-01-02 00:00:00 to 1963-12-31 00:00:00.\n",
      "880 points in the subset from 1964-01-02 00:00:00 to 1964-12-31 00:00:00.\n",
      "793 points in the subset from 1965-01-04 00:00:00 to 1965-12-31 00:00:00.\n",
      "830 points in the subset from 1966-01-03 00:00:00 to 1967-01-01 00:00:00.\n",
      "688 points in the subset from 1967-01-01 00:00:00 to 1967-12-29 00:00:00.\n",
      "647 points in the subset from 1968-01-02 00:00:00 to 1968-12-31 00:00:00.\n",
      "713 points in the subset from 1969-01-02 00:00:00 to 1969-12-30 00:00:00.\n",
      "585 points in the subset from 1970-01-02 00:00:00 to 1970-12-31 00:00:00.\n",
      "609 points in the subset from 1971-01-04 00:00:00 to 1971-12-31 00:00:00.\n",
      "518 points in the subset from 1972-01-04 00:00:00 to 1972-12-29 00:00:00.\n",
      "515 points in the subset from 1973-01-02 00:00:00 to 1973-12-31 00:00:00.\n",
      "359 points in the subset from 1974-01-02 00:00:00 to 1974-12-31 00:00:00.\n",
      "301 points in the subset from 1975-01-03 00:00:00 to 1975-12-31 00:00:00.\n",
      "711 points in the subset from 1976-01-06 00:00:00 to 1976-12-31 00:00:00.\n",
      "407 points in the subset from 1977-01-04 00:00:00 to 1977-12-30 00:00:00.\n",
      "347 points in the subset from 1978-01-03 00:00:00 to 1978-12-29 00:00:00.\n",
      "517 points in the subset from 1979-01-05 00:00:00 to 1979-12-31 00:00:00.\nQhullError!\n529 points in the subset from 1980-01-02 00:00:00 to 1980-12-31 00:00:00.\n",
      "655 points in the subset from 1981-01-05 00:00:00 to 1981-12-30 00:00:00.\n",
      "509 points in the subset from 1982-01-05 00:00:00 to 1982-12-31 00:00:00.\n",
      "375 points in the subset from 1983-01-05 00:00:00 to 1983-12-30 00:00:00.\n",
      "294 points in the subset from 1984-01-03 00:00:00 to 1984-12-28 00:00:00.\n",
      "20105 points in the subset from 1985-01-03 00:00:00 to 1985-12-31 00:00:00.\n",
      "35156 points in the subset from 1986-01-02 00:00:00 to 1986-12-31 00:00:00.\n",
      "36728 points in the subset from 1987-01-02 00:00:00 to 1988-01-01 00:00:00.\n",
      "49852 points in the subset from 1988-01-01 00:00:00 to 1988-12-31 00:00:00.\n",
      "77049 points in the subset from 1989-01-02 00:00:00 to 1990-01-01 00:00:00.\n",
      "70662 points in the subset from 1990-01-01 00:00:00 to 1990-12-31 00:00:00.\n",
      "74847 points in the subset from 1991-01-02 00:00:00 to 1991-12-31 00:00:00.\n",
      "81258 points in the subset from 1992-01-02 00:00:00 to 1993-01-01 00:00:00.\n",
      "76151 points in the subset from 1993-01-01 00:00:00 to 1994-01-01 00:00:00.\n",
      "93396 points in the subset from 1994-01-01 00:00:00 to 1995-01-01 00:00:00.\n",
      "82636 points in the subset from 1995-01-01 00:00:00 to 1995-12-29 00:00:00.\n",
      "109387 points in the subset from 1996-01-02 00:00:00 to 1996-12-31 00:00:00.\n",
      "143952 points in the subset from 1997-01-02 00:00:00 to 1997-12-31 00:00:00.\n",
      "137141 points in the subset from 1998-01-02 00:00:00 to 1998-12-31 00:00:00.\n",
      "153764 points in the subset from 1999-01-04 00:00:00 to 1999-12-31 00:00:00.\n",
      "157382 points in the subset from 2000-01-04 00:00:00 to 2000-12-29 00:00:00.\n",
      "168675 points in the subset from 2001-01-02 00:00:00 to 2001-12-31 00:00:00.\n",
      "192013 points in the subset from 2002-01-02 00:00:00 to 2002-12-31 00:00:00.\n",
      "197754 points in the subset from 2003-01-02 00:00:00 to 2003-12-31 00:00:00.\n",
      "200149 points in the subset from 2004-01-02 00:00:00 to 2004-12-31 00:00:00.\n",
      "194360 points in the subset from 2005-01-04 00:00:00 to 2005-12-30 00:00:00.\n",
      "194074 points in the subset from 2006-01-03 00:00:00 to 2006-12-29 00:00:00.\n",
      "204291 points in the subset from 2007-01-02 00:00:00 to 2007-12-31 00:00:00.\n",
      "176415 points in the subset from 2008-01-02 00:00:00 to 2008-12-31 00:00:00.\n",
      "168405 points in the subset from 2009-01-02 00:00:00 to 2009-12-31 00:00:00.\n",
      "187260 points in the subset from 2010-01-04 00:00:00 to 2010-12-31 00:00:00.\n",
      "189793 points in the subset from 2011-01-04 00:00:00 to 2011-12-30 00:00:00.\n",
      "179657 points in the subset from 2012-01-03 00:00:00 to 2012-12-31 00:00:00.\n",
      "179931 points in the subset from 2013-01-02 00:00:00 to 2013-12-31 00:00:00.\n",
      "192445 points in the subset from 2014-01-02 00:00:00 to 2014-12-31 00:00:00.\n"
     ],
     "output_type": "stream"
    },
    {
     "name": "stderr",
     "text": [
      "C:\\ProgramData\\Anaconda3\\envs\\gds\\lib\\site-packages\\matplotlib\\pyplot.py:514: RuntimeWarning: More than 20 figures have been opened. Figures created through the pyplot interface (`matplotlib.pyplot.figure`) are retained until explicitly closed and may consume too much memory. (To control this warning, see the rcParam `figure.max_open_warning`).\n  max_open_warning, RuntimeWarning)\n"
     ],
     "output_type": "stream"
    }
   ],
   "source": [
    "start_year = 1930\n",
    "end_year = 2017\n",
    "color_col='da_city'\n",
    "date_col = 'registration_date'\n",
    "dfd = dict()\n",
    "for i in range(start_year, end_year + 1):\n",
    "    start = str(i) + '-01-01'\n",
    "    stop = str(int(start[:4]) + 1) + '-01-01'\n",
    "    try:\n",
    "        map_alpha(df, start, stop, \n",
    "                  color_col, date_col, dfd, 8,\n",
    "                  action='save')\n",
    "    except:\n",
    "        print(\"QhullError!\")"
   ],
   "metadata": {
    "collapsed": false,
    "pycharm": {
     "name": "#%%    \n",
     "is_executing": true
    }
   }
  },
  {
   "cell_type": "code",
   "execution_count": 7,
   "outputs": [],
   "source": [
    "colors = sns.color_palette('Set1', n_colors=25, desat=.5)"
   ],
   "metadata": {
    "pycharm": {
     "metadata": false,
     "name": "#%%\n",
     "is_executing": false
    }
   }
  },
  {
   "cell_type": "code",
   "execution_count": 17,
   "outputs": [
    {
     "data": {
      "text/plain": "<Figure size 432x288 with 1 Axes>",
      "image/png": "[encoded data removed]"
     },
     "metadata": {
      "needs_background": "light"
     },
     "output_type": "display_data"
    }
   ],
   "source": [
    "df.groupby('year')['x'].count().plot()\n",
    "plt.yscale('log')"
   ],
   "metadata": {
    "collapsed": false,
    "pycharm": {
     "name": "#%%\n",
     "is_executing": false
    }
   }
  },
  {
   "cell_type": "code",
   "execution_count": null,
   "outputs": [],
   "source": [
    "\n"
   ],
   "metadata": {
    "collapsed": false,
    "pycharm": {
     "name": "#%%\n"
    }
   }
  }
 ],
 "metadata": {
  "language_info": {
   "codemirror_mode": {
    "name": "ipython",
    "version": 2
   },
   "file_extension": ".py",
   "mimetype": "text/x-python",
   "name": "python",
   "nbconvert_exporter": "python",
   "pygments_lexer": "ipython2",
   "version": "2.7.6"
  },
  "kernelspec": {
   "name": "python3",
   "language": "python",
   "display_name": "Python 3"
  },
  "pycharm": {
   "stem_cell": {
    "cell_type": "raw",
    "source": [],
    "metadata": {
     "collapsed": false
    }
   }
  }
 },
 "nbformat": 4,
 "nbformat_minor": 0
}