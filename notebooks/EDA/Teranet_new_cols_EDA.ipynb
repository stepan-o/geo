{
  "cells": [
    {
      "cell_type": "markdown",
      "source": "# EDA of Teranet data with 12 added columns\nThis notebook presents Exploratory Data Analysis (EDA) for Teranet records that were:\n* cleaned and filtered for duplicates\n    * `consideration_amt` \u003c $30 reset to NaN (Not a Number, missing values)\n    * records matching on all columns have been removed (83\u0027798 records)\n    * records matching on all columns excluding `pin` have been removed (729\u0027182 records)\n    * **813\u0027138 duplicate entries** removed in total from original Teranet dataset \n    * 8\u0027226\u0027103 unique records remain after duplicates have been removed\n    * see notebook `Teranet_data_cleaning.ipynb` for details\n* filtered to include only records from GTHA \n    * filtering performed via a spatial join\n    * `xy` coordinates of Teranet records joined (how\u003d\u0027inner\u0027, op\u003d\u0027within\u0027) with DA geometry for GTHA \n    * DA geometry provided by York Municipal Government (accessed via Esri Open Data portal)\n    * 6,062,853 records have `xy` coordinates within GTHA boundary\n    * see notebook `Teranet_GTHA_DA_spatial_join.ipynb` for details\n* filtered to exclude records with missing (or under $30) `consideration_amt`\n    * `consideration_amt` \u003c $30 was reset to NaN during data cleaning\n    * records with `consideration_amt` \u003d\u003d NaN were removed before adding new columns\n    * 4,637,584 records have non-NaN `consideration_amt`\n    * see notebook `Teranet_add_new_columns.ipynb` for details\n* new columns added\n    * `da_id`, `da_city`, `da_median_tot_inc`: were added during the spatial join with DA data\n    * `xy`: `x` and `y` concatenated together (used for grouping by coordinate pairs)\n    * `total_sales_pin`: total records for this `pin`\n    * `total_sales_xy`: total records for this `pin`\n    * `pin_prev_sales`: ",
      "metadata": {
        "pycharm": {
          "metadata": false,
          "name": "#%% md\n"
        }
      }
    },
    {
      "cell_type": "code",
      "execution_count": 2,
      "metadata": {
        "collapsed": true,
        "pycharm": {
          "is_executing": false,
          "name": "#%%\n"
        }
      },
      "outputs": [],
      "source": "import numpy as np\nimport pandas as pd\nimport matplotlib.pyplot as plt\nimport time\nimport os"
    },
    {
      "cell_type": "code",
      "execution_count": 4,
      "outputs": [
        {
          "data": {
            "text/plain": "[\u0027.git\u0027,\n \u0027.gitattributes\u0027,\n \u0027.gitignore\u0027,\n \u0027.idea\u0027,\n \u0027.ipynb_checkpoints\u0027,\n \u0027data\u0027,\n \u0027img\u0027,\n \u0027notebooks\u0027,\n \u0027presentations\u0027,\n \u0027README.md\u0027,\n \u0027src\u0027,\n \u0027__pycache__\u0027]"
          },
          "metadata": {},
          "output_type": "execute_result",
          "execution_count": 4
        }
      ],
      "source": "os.chdir(\u0027Documents/repos/geo\u0027)\nos.listdir()",
      "metadata": {
        "pycharm": {
          "metadata": false,
          "name": "#%%\n",
          "is_executing": false
        }
      }
    },
    {
      "cell_type": "code",
      "execution_count": 5,
      "outputs": [
        {
          "name": "stdout",
          "text": [
            "----- DataFrame with Teranet records loaded\nin 30.38 seconds\nwith 4,637,584 rows\nand 28 columns\n-- Column names:\n Index([\u0027registration_date\u0027, \u0027decade\u0027, \u0027year\u0027, \u0027lro_num\u0027, \u0027pin\u0027,\n       \u0027consideration_amt\u0027, \u0027postal_code\u0027, \u0027unitno\u0027, \u0027street_name\u0027,\n       \u0027street_designation\u0027, \u0027street_direction\u0027, \u0027municipality\u0027,\n       \u0027street_number\u0027, \u0027x\u0027, \u0027y\u0027, \u0027da_id\u0027, \u0027da_city\u0027, \u0027da_median_tot_inc\u0027,\n       \u0027xy\u0027, \u0027total_sales_pin\u0027, \u0027pin_prev_sales\u0027, \u0027xy_prev_sales\u0027,\n       \u0027pin_price_cum_sum\u0027, \u0027xy_price_cum_sum\u0027, \u0027pin_price_pct_change\u0027,\n       \u0027xy_price_pct_change\u0027, \u0027pin_years_since_last_sale\u0027,\n       \u0027xy_years_since_last_sale\u0027],\n      dtype\u003d\u0027object\u0027)\n"
          ],
          "output_type": "stream"
        }
      ],
      "source": "# column `pin` will be converted to dtype\u003dcategory\n# after records with NaN `consideration_amt` will be dropped\ndtypes \u003d {\n    \u0027decade\u0027: \u0027int\u0027,\n    \u0027year\u0027: \u0027int\u0027,\n    \u0027lro_num\u0027: \u0027category\u0027,\n    \u0027postal_code\u0027: \u0027category\u0027,\n    \u0027street_designation\u0027: \u0027category\u0027,\n    \u0027street_direction\u0027: \u0027category\u0027,\n    \u0027municipality\u0027: \u0027category\u0027,\n    \u0027da_id\u0027: \u0027category\u0027,\n    \u0027da_city\u0027: \u0027category\u0027,\n}\nt \u003d time.time()\nteranet_path \u003d \u0027data/HHSaleHistory_cleaned_v0.9_GTHA_DA_with_cols_v0.9.csv\u0027\ndf \u003d pd.read_csv(teranet_path,\n                 dtype\u003ddtypes,\n                 parse_dates\u003d[\u0027registration_date\u0027])\ndf \u003d df.sort_values(\u0027registration_date\u0027)\nelapsed \u003d time.time() - t\nprint(\"----- DataFrame with Teranet records loaded\"\n      \"\\nin {0:.2f} seconds\".format(elapsed) + \n      \"\\nwith {0:,} rows\\nand {1:,} columns\"\n      .format(df.shape[0], df.shape[1]) + \n      \"\\n-- Column names:\\n\", df.columns)",
      "metadata": {
        "pycharm": {
          "metadata": false,
          "name": "#%%\n",
          "is_executing": false
        }
      }
    },
    {
      "cell_type": "code",
      "execution_count": 12,
      "outputs": [
        {
          "data": {
            "text/plain": "   Unnamed: 0 registration_date  decade  year lro_num       pin  \\\n0           0        1986-07-09     198  1986      65  29000001   \n1           1        1986-04-14     198  1986      65  29000002   \n2           2        1988-09-09     198  1988      65  29000003   \n3           3        1999-01-29     199  1999      65  29000003   \n4           4        2011-02-18     201  2011      65  29000003   \n\n   consideration_amt postal_code  unitno street_name  ... pin_total_sales  \\\n0           185000.0      L3P6K5     NaN      Cairns  ...             NaN   \n1           171000.0      L3P6K5     NaN      Cairns  ...             NaN   \n2           318000.0      L3P6K5     NaN      Cairns  ...             NaN   \n3           273000.0      L3P6K5     NaN      Cairns  ...             NaN   \n4           558000.0      L3P6K5     NaN      Cairns  ...             NaN   \n\n  xy_total_sales pin_prev_sales  xy_prev_sales  pin_price_cum_sum  \\\n0            NaN              1              1           185000.0   \n1            NaN              1              1           171000.0   \n2            NaN              1              1           318000.0   \n3            NaN              2              2           591000.0   \n4            NaN              3              3          1149000.0   \n\n   xy_price_cum_sum pin_price_pct_change xy_price_pct_change  \\\n0          185000.0                  NaN                 NaN   \n1          171000.0                  NaN                 NaN   \n2          318000.0                  NaN                 NaN   \n3          591000.0            -0.141509           -0.141509   \n4         1149000.0             1.043956            1.043956   \n\n   pin_years_since_last_sale xy_years_since_last_sale  \n0                        NaN                      NaN  \n1                        NaN                      NaN  \n2                        NaN                      NaN  \n3                  10.394521                10.394521  \n4                  12.063014                12.063014  \n\n[5 rows x 31 columns]",
            "text/html": "\u003cdiv\u003e\n\u003cstyle scoped\u003e\n    .dataframe tbody tr th:only-of-type {\n        vertical-align: middle;\n    }\n\n    .dataframe tbody tr th {\n        vertical-align: top;\n    }\n\n    .dataframe thead th {\n        text-align: right;\n    }\n\u003c/style\u003e\n\u003ctable border\u003d\"1\" class\u003d\"dataframe\"\u003e\n  \u003cthead\u003e\n    \u003ctr style\u003d\"text-align: right;\"\u003e\n      \u003cth\u003e\u003c/th\u003e\n      \u003cth\u003eUnnamed: 0\u003c/th\u003e\n      \u003cth\u003eregistration_date\u003c/th\u003e\n      \u003cth\u003edecade\u003c/th\u003e\n      \u003cth\u003eyear\u003c/th\u003e\n      \u003cth\u003elro_num\u003c/th\u003e\n      \u003cth\u003epin\u003c/th\u003e\n      \u003cth\u003econsideration_amt\u003c/th\u003e\n      \u003cth\u003epostal_code\u003c/th\u003e\n      \u003cth\u003eunitno\u003c/th\u003e\n      \u003cth\u003estreet_name\u003c/th\u003e\n      \u003cth\u003e...\u003c/th\u003e\n      \u003cth\u003epin_total_sales\u003c/th\u003e\n      \u003cth\u003exy_total_sales\u003c/th\u003e\n      \u003cth\u003epin_prev_sales\u003c/th\u003e\n      \u003cth\u003exy_prev_sales\u003c/th\u003e\n      \u003cth\u003epin_price_cum_sum\u003c/th\u003e\n      \u003cth\u003exy_price_cum_sum\u003c/th\u003e\n      \u003cth\u003epin_price_pct_change\u003c/th\u003e\n      \u003cth\u003exy_price_pct_change\u003c/th\u003e\n      \u003cth\u003epin_years_since_last_sale\u003c/th\u003e\n      \u003cth\u003exy_years_since_last_sale\u003c/th\u003e\n    \u003c/tr\u003e\n  \u003c/thead\u003e\n  \u003ctbody\u003e\n    \u003ctr\u003e\n      \u003cth\u003e0\u003c/th\u003e\n      \u003ctd\u003e0\u003c/td\u003e\n      \u003ctd\u003e1986-07-09\u003c/td\u003e\n      \u003ctd\u003e198\u003c/td\u003e\n      \u003ctd\u003e1986\u003c/td\u003e\n      \u003ctd\u003e65\u003c/td\u003e\n      \u003ctd\u003e29000001\u003c/td\u003e\n      \u003ctd\u003e185000.0\u003c/td\u003e\n      \u003ctd\u003eL3P6K5\u003c/td\u003e\n      \u003ctd\u003eNaN\u003c/td\u003e\n      \u003ctd\u003eCairns\u003c/td\u003e\n      \u003ctd\u003e...\u003c/td\u003e\n      \u003ctd\u003eNaN\u003c/td\u003e\n      \u003ctd\u003eNaN\u003c/td\u003e\n      \u003ctd\u003e1\u003c/td\u003e\n      \u003ctd\u003e1\u003c/td\u003e\n      \u003ctd\u003e185000.0\u003c/td\u003e\n      \u003ctd\u003e185000.0\u003c/td\u003e\n      \u003ctd\u003eNaN\u003c/td\u003e\n      \u003ctd\u003eNaN\u003c/td\u003e\n      \u003ctd\u003eNaN\u003c/td\u003e\n      \u003ctd\u003eNaN\u003c/td\u003e\n    \u003c/tr\u003e\n    \u003ctr\u003e\n      \u003cth\u003e1\u003c/th\u003e\n      \u003ctd\u003e1\u003c/td\u003e\n      \u003ctd\u003e1986-04-14\u003c/td\u003e\n      \u003ctd\u003e198\u003c/td\u003e\n      \u003ctd\u003e1986\u003c/td\u003e\n      \u003ctd\u003e65\u003c/td\u003e\n      \u003ctd\u003e29000002\u003c/td\u003e\n      \u003ctd\u003e171000.0\u003c/td\u003e\n      \u003ctd\u003eL3P6K5\u003c/td\u003e\n      \u003ctd\u003eNaN\u003c/td\u003e\n      \u003ctd\u003eCairns\u003c/td\u003e\n      \u003ctd\u003e...\u003c/td\u003e\n      \u003ctd\u003eNaN\u003c/td\u003e\n      \u003ctd\u003eNaN\u003c/td\u003e\n      \u003ctd\u003e1\u003c/td\u003e\n      \u003ctd\u003e1\u003c/td\u003e\n      \u003ctd\u003e171000.0\u003c/td\u003e\n      \u003ctd\u003e171000.0\u003c/td\u003e\n      \u003ctd\u003eNaN\u003c/td\u003e\n      \u003ctd\u003eNaN\u003c/td\u003e\n      \u003ctd\u003eNaN\u003c/td\u003e\n      \u003ctd\u003eNaN\u003c/td\u003e\n    \u003c/tr\u003e\n    \u003ctr\u003e\n      \u003cth\u003e2\u003c/th\u003e\n      \u003ctd\u003e2\u003c/td\u003e\n      \u003ctd\u003e1988-09-09\u003c/td\u003e\n      \u003ctd\u003e198\u003c/td\u003e\n      \u003ctd\u003e1988\u003c/td\u003e\n      \u003ctd\u003e65\u003c/td\u003e\n      \u003ctd\u003e29000003\u003c/td\u003e\n      \u003ctd\u003e318000.0\u003c/td\u003e\n      \u003ctd\u003eL3P6K5\u003c/td\u003e\n      \u003ctd\u003eNaN\u003c/td\u003e\n      \u003ctd\u003eCairns\u003c/td\u003e\n      \u003ctd\u003e...\u003c/td\u003e\n      \u003ctd\u003eNaN\u003c/td\u003e\n      \u003ctd\u003eNaN\u003c/td\u003e\n      \u003ctd\u003e1\u003c/td\u003e\n      \u003ctd\u003e1\u003c/td\u003e\n      \u003ctd\u003e318000.0\u003c/td\u003e\n      \u003ctd\u003e318000.0\u003c/td\u003e\n      \u003ctd\u003eNaN\u003c/td\u003e\n      \u003ctd\u003eNaN\u003c/td\u003e\n      \u003ctd\u003eNaN\u003c/td\u003e\n      \u003ctd\u003eNaN\u003c/td\u003e\n    \u003c/tr\u003e\n    \u003ctr\u003e\n      \u003cth\u003e3\u003c/th\u003e\n      \u003ctd\u003e3\u003c/td\u003e\n      \u003ctd\u003e1999-01-29\u003c/td\u003e\n      \u003ctd\u003e199\u003c/td\u003e\n      \u003ctd\u003e1999\u003c/td\u003e\n      \u003ctd\u003e65\u003c/td\u003e\n      \u003ctd\u003e29000003\u003c/td\u003e\n      \u003ctd\u003e273000.0\u003c/td\u003e\n      \u003ctd\u003eL3P6K5\u003c/td\u003e\n      \u003ctd\u003eNaN\u003c/td\u003e\n      \u003ctd\u003eCairns\u003c/td\u003e\n      \u003ctd\u003e...\u003c/td\u003e\n      \u003ctd\u003eNaN\u003c/td\u003e\n      \u003ctd\u003eNaN\u003c/td\u003e\n      \u003ctd\u003e2\u003c/td\u003e\n      \u003ctd\u003e2\u003c/td\u003e\n      \u003ctd\u003e591000.0\u003c/td\u003e\n      \u003ctd\u003e591000.0\u003c/td\u003e\n      \u003ctd\u003e-0.141509\u003c/td\u003e\n      \u003ctd\u003e-0.141509\u003c/td\u003e\n      \u003ctd\u003e10.394521\u003c/td\u003e\n      \u003ctd\u003e10.394521\u003c/td\u003e\n    \u003c/tr\u003e\n    \u003ctr\u003e\n      \u003cth\u003e4\u003c/th\u003e\n      \u003ctd\u003e4\u003c/td\u003e\n      \u003ctd\u003e2011-02-18\u003c/td\u003e\n      \u003ctd\u003e201\u003c/td\u003e\n      \u003ctd\u003e2011\u003c/td\u003e\n      \u003ctd\u003e65\u003c/td\u003e\n      \u003ctd\u003e29000003\u003c/td\u003e\n      \u003ctd\u003e558000.0\u003c/td\u003e\n      \u003ctd\u003eL3P6K5\u003c/td\u003e\n      \u003ctd\u003eNaN\u003c/td\u003e\n      \u003ctd\u003eCairns\u003c/td\u003e\n      \u003ctd\u003e...\u003c/td\u003e\n      \u003ctd\u003eNaN\u003c/td\u003e\n      \u003ctd\u003eNaN\u003c/td\u003e\n      \u003ctd\u003e3\u003c/td\u003e\n      \u003ctd\u003e3\u003c/td\u003e\n      \u003ctd\u003e1149000.0\u003c/td\u003e\n      \u003ctd\u003e1149000.0\u003c/td\u003e\n      \u003ctd\u003e1.043956\u003c/td\u003e\n      \u003ctd\u003e1.043956\u003c/td\u003e\n      \u003ctd\u003e12.063014\u003c/td\u003e\n      \u003ctd\u003e12.063014\u003c/td\u003e\n    \u003c/tr\u003e\n  \u003c/tbody\u003e\n\u003c/table\u003e\n\u003cp\u003e5 rows × 31 columns\u003c/p\u003e\n\u003c/div\u003e"
          },
          "metadata": {},
          "output_type": "execute_result",
          "execution_count": 12
        }
      ],
      "source": "df.head()",
      "metadata": {
        "pycharm": {
          "metadata": false,
          "name": "#%%\n",
          "is_executing": false
        }
      }
    },
    {
      "cell_type": "code",
      "execution_count": null,
      "outputs": [],
      "source": "df.info(null_counts\u003dTrue)",
      "metadata": {
        "pycharm": {
          "metadata": false,
          "name": "#%%\n"
        }
      }
    },
    {
      "cell_type": "markdown",
      "source": "## Records per `pin` vs records per `xy` pair\nThere are significantly more records with unique `pin` compared to unique `xy` coordinate pairs, which appears to be reasonable (some `xy` coordinate pairs correspond to records with different`pin`s).",
      "metadata": {
        "pycharm": {
          "metadata": false,
          "name": "#%% md\n"
        }
      }
    },
    {
      "cell_type": "code",
      "execution_count": null,
      "outputs": [],
      "source": "pin_counts \u003d df[\u0027pin\u0027].value_counts()\nxy_counts \u003d df[\u0027xy\u0027].value_counts()\n\nf, axes \u003d plt.subplots(nrows\u003d1, ncols\u003d2, figsize\u003d(12, 6))\nplt.title(\"Histogram of records\")\n\npin_counts.hist(bins\u003d100, ax\u003daxes[0])\naxes[0].set_title(\"\\nfor all pins ({0:,} pins total)\"\n                  .format(len(pin_counts)))\naxes[0].set_ylabel(\"# of pins\")\naxes[0].set_xlabel(\"# of records\")\naxes[0].grid(linestyle\u003d\u0027:\u0027)\n\nxy_counts.hist(bins\u003d100, ax\u003daxes[1])\naxes[1].set_title(\"\\nfor all xy pairs ({0:,} pairs total)\"\n                  .format(len(xy_counts)))\naxes[1].set_ylabel(\"# of xy pairs\")\naxes[1].set_xlabel(\"# of records\")\naxes[1].grid(linestyle\u003d\u0027:\u0027)\n\nplt.show()",
      "metadata": {
        "pycharm": {
          "metadata": false,
          "name": "#%%\n"
        }
      }
    },
    {
      "cell_type": "code",
      "execution_count": null,
      "outputs": [],
      "source": "max_counts \u003d 10\n\nf, axes \u003d plt.subplots(nrows\u003d1, ncols\u003d2, figsize\u003d(12, 6))\nplt.title(\"Histogram of records\")\n\npin_counts[pin_counts \u003c max_counts].hist(bins\u003d20, \n                                         ax\u003daxes[0])\naxes[0].set_title(\"for pins with \u003c{0} records\"\n                  .format(max_counts) + \n                  \"\\n({0:,} pins ({1:.5f}% of the total)\"\n          .format(len(pin_counts[pin_counts \u003c max_counts]),\n                  len(pin_counts[pin_counts \u003c max_counts])\n                            / len(pin_counts) * 100))\naxes[0].set_ylabel(\"# of pins\")\naxes[0].set_xlabel(\"# of records\")\naxes[0].grid(linestyle\u003d\u0027:\u0027)\n\nxy_counts[xy_counts \u003c max_counts].hist(bins\u003d20, \n                                       ax\u003daxes[1])\naxes[1].set_title(\"\\nfor xy pairs with \u003c{0} records\"\n                  .format(max_counts) + \n            \"\\n({0:,} pairs ({1:.5f}% of the total)\"\n                  .format(len(xy_counts[xy_counts \u003c max_counts]),\n                  len(xy_counts[xy_counts \u003c max_counts])\n                          / len(xy_counts) * 100))\nplt.ylabel(\"# of xy pairs\")\nplt.xlabel(\"# of records\")\nplt.grid(linestyle\u003d\u0027:\u0027)",
      "metadata": {
        "pycharm": {
          "metadata": false,
          "name": "#%%\n"
        }
      }
    },
    {
      "cell_type": "markdown",
      "source": "### Plot distributions of days since last sale",
      "metadata": {
        "pycharm": {
          "metadata": false
        }
      }
    },
    {
      "cell_type": "code",
      "execution_count": null,
      "outputs": [],
      "source": "df[\u0027days_since_last_sale_pin\u0027].hist(bins\u003d200)\nplt.title(\"Days since last sale, by `pin`\")\nplt.xlabel(\u0027\u0027)",
      "metadata": {
        "pycharm": {
          "metadata": false,
          "name": "#%%\n"
        }
      }
    },
    {
      "cell_type": "code",
      "execution_count": null,
      "outputs": [],
      "source": "mask \u003d df[\u0027days_since_last_sale_xy\u0027] \u003c 50\ndf.loc[mask, \u0027days_since_last_sale_xy\u0027].hist(bins\u003d50)",
      "metadata": {
        "pycharm": {
          "metadata": false,
          "name": "#%%\n"
        }
      }
    },
    {
      "cell_type": "markdown",
      "source": "",
      "metadata": {
        "pycharm": {
          "metadata": false,
          "name": "#%% md\n"
        }
      }
    }
  ],
  "metadata": {
    "language_info": {
      "codemirror_mode": {
        "name": "ipython",
        "version": 2
      },
      "file_extension": ".py",
      "mimetype": "text/x-python",
      "name": "python",
      "nbconvert_exporter": "python",
      "pygments_lexer": "ipython2",
      "version": "2.7.6"
    },
    "kernelspec": {
      "name": "pycharm-e0559840",
      "language": "python",
      "display_name": "PyCharm (geo)"
    },
    "stem_cell": {
      "cell_type": "raw",
      "source": "",
      "metadata": {
        "pycharm": {
          "metadata": false
        }
      }
    }
  },
  "nbformat": 4,
  "nbformat_minor": 0
}