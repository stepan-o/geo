{
  "cells": [
    {
      "cell_type": "markdown",
      "source": "# EDA of Teranet data with added columns\nThis notebook presents Exploratory Data Analysis (EDA) for Teranet records that were:\n* cleaned and filtered for duplicates\n    * `consideration_amt` \u003c $30 reset to NaN (Not a Number, missing values)\n    * records matching on all columns have been removed (83\u0027798 records)\n    * records matching on all columns excluding `pin` have been removed (729\u0027182 records)\n    * **813\u0027138 duplicate entries** removed in total from original Teranet dataset \n    * 8\u0027226\u0027103 unique records remain after duplicates have been removed\n    * see notebook `data_cleaning/Teranet_data_cleaning.ipynb` for details\n* filtered to include only records from GTHA \n    * filtering performed via a spatial join\n    * `xy` coordinates of Teranet records joined (how\u003d\u0027inner\u0027, op\u003d\u0027within\u0027) with DA geometry for GTHA \n    * DA geometry provided by York Municipal Government (accessed via Esri Open Data portal)\n    * 6,062,853 records have `xy` coordinates within GTHA boundary\n    * see notebook `data_cleaning/Teranet_GTHA_DA_spatial_join.ipynb` for details\n* filtered to exclude records with missing (or under $30) `consideration_amt`\n    * `consideration_amt` \u003c $30 was reset to NaN during data cleaning\n    * records with `consideration_amt` \u003d\u003d NaN were removed before adding new columns\n    * 4,637,584 records have non-NaN `consideration_amt`\n    * see notebook `feature_extraction/Teranet_feature_extraction.ipynb` for details\n* new columns added (available on transaction level):\n    * `da_id`, `da_city`, `da_median_tot_inc`: were added during the spatial join with DA data\n    * `xy`: `x` and `y` concatenated together (used for grouping by coordinate pairs)\n    * `pin/xy_total_sales`: total records for this `pin`/`xy`\n    * `pin/xy_prev_sales`: previous records from this `pin`/`xy` (not counting current transaction)\n    * `pin/xy_price_cum_sum`: cumulative price of all records to date from this `pin`/`xy`\n    * `pin/xy_price_pct_change`: price percentage change compared to previous record from this `pin`/`xy`\n    * `price_da_pct_change`: price percentage change compared to previous record from this DA (by `da_id`)\n    * `pin/xy_years_since_last_sale`: years since last sale from this `pin`/`xy`\n    * `da_days_since_last_sale`, `da_years_since_last_sale`: days or years since last sale from this DA (by `da_id`)\n    * `pin/xy_sale_next_1y/3y`, whether this `pin` or `xy` will have another sale in the future\n    * `sale_next_6m/1y/3y`: \"looks into the future\" to see whether there is another transaction from this `pin`/`xy` within the given time horizon (6 months, 1 year, 3 years)\n    * see notebook `Teranet_feature_extraction.ipynb` for details\n    * data types are described below",
      "metadata": {
        "pycharm": {
          "metadata": false,
          "name": "#%% md\n"
        }
      }
    },
    {
      "cell_type": "markdown",
      "source": "## Preparations\n### Import dependencies",
      "metadata": {
        "pycharm": {
          "metadata": false,
          "name": "#%% md\n"
        }
      }
    },
    {
      "cell_type": "code",
      "execution_count": 1,
      "metadata": {
        "collapsed": true,
        "pycharm": {
          "is_executing": false,
          "name": "#%%\n"
        }
      },
      "outputs": [],
      "source": "import matplotlib.pyplot as plt\nimport pandas as pd\nimport geopandas as gpd\nfrom shapely.geometry import Point\nimport contextily as ctx\nimport google_streetview.api\nimport time\nimport os\nimport sys"
    },
    {
      "cell_type": "code",
      "execution_count": 2,
      "outputs": [
        {
          "data": {
            "text/plain": "[\u0027.git\u0027,\n \u0027.gitattributes\u0027,\n \u0027.gitignore\u0027,\n \u0027.idea\u0027,\n \u0027.ipynb_checkpoints\u0027,\n \u0027data\u0027,\n \u0027img\u0027,\n \u0027notebooks\u0027,\n \u0027presentations\u0027,\n \u0027README.md\u0027,\n \u0027src\u0027,\n \u0027__pycache__\u0027]"
          },
          "metadata": {},
          "output_type": "execute_result",
          "execution_count": 2
        }
      ],
      "source": "os.chdir(\u0027Documents/repos/geo\u0027)\nsys.path.append(\u0027src\u0027)\nos.listdir()",
      "metadata": {
        "pycharm": {
          "metadata": false,
          "name": "#%%\n",
          "is_executing": false
        }
      }
    },
    {
      "cell_type": "markdown",
      "source": "### Import user-defined functions",
      "metadata": {
        "pycharm": {
          "metadata": false,
          "name": "#%% md\n"
        }
      }
    },
    {
      "cell_type": "code",
      "execution_count": 3,
      "outputs": [],
      "source": "from plot_utils import plot_subset\nfrom plot_utils import map_subset\nfrom plot_utils import get_plot_title",
      "metadata": {
        "pycharm": {
          "metadata": false,
          "name": "#%%\n",
          "is_executing": false
        }
      }
    },
    {
      "cell_type": "code",
      "execution_count": 4,
      "outputs": [],
      "source": "# Set some parameters to apply to all plots. These can be overridden\n# in each plot if desired\nimport matplotlib\n# Plot size to 14\" x 7\"\n# matplotlib.rc(\u0027figure\u0027, figsize \u003d (14, 7))\n# Font size to 14\nmatplotlib.rc(\u0027font\u0027, size \u003d 14)\n# Do not display top and right frame lines\nmatplotlib.rc(\u0027axes.spines\u0027, top \u003d False, right \u003d False)\n# Remove grid lines\nmatplotlib.rc(\u0027axes\u0027, grid \u003d False)\n# Set background color to white\nmatplotlib.rc(\u0027axes\u0027, facecolor \u003d \u0027white\u0027)",
      "metadata": {
        "pycharm": {
          "metadata": false,
          "name": "#%%\n",
          "is_executing": false
        }
      }
    },
    {
      "cell_type": "markdown",
      "source": "## Load Teranet records with added columns",
      "metadata": {
        "pycharm": {
          "metadata": false,
          "name": "#%% md\n"
        }
      }
    },
    {
      "cell_type": "code",
      "execution_count": null,
      "outputs": [
        {
          "traceback": [
            "\u001b[1;31m---------------------------------------------------------------------------\u001b[0m",
            "\u001b[1;31mKeyboardInterrupt\u001b[0m                         Traceback (most recent call last)",
            "\u001b[1;32m\u003cipython-input-5-8b15bbf16780\u003e\u001b[0m in \u001b[0;36m\u003cmodule\u003e\u001b[1;34m\u001b[0m\n\u001b[0;32m     17\u001b[0m df \u003d pd.read_csv(teranet_path,\n\u001b[0;32m     18\u001b[0m                  \u001b[0mdtype\u001b[0m\u001b[1;33m\u003d\u001b[0m\u001b[0mdtypes\u001b[0m\u001b[1;33m,\u001b[0m\u001b[1;33m\u001b[0m\u001b[1;33m\u001b[0m\u001b[0m\n\u001b[1;32m---\u003e 19\u001b[1;33m                  parse_dates\u003d[\u0027registration_date\u0027])\n\u001b[0m\u001b[0;32m     20\u001b[0m \u001b[0mdf\u001b[0m \u001b[1;33m\u003d\u001b[0m \u001b[0mdf\u001b[0m\u001b[1;33m.\u001b[0m\u001b[0msort_values\u001b[0m\u001b[1;33m(\u001b[0m\u001b[1;34m\u0027registration_date\u0027\u001b[0m\u001b[1;33m)\u001b[0m\u001b[1;33m\u001b[0m\u001b[1;33m\u001b[0m\u001b[0m\n\u001b[0;32m     21\u001b[0m \u001b[0melapsed\u001b[0m \u001b[1;33m\u003d\u001b[0m \u001b[0mtime\u001b[0m\u001b[1;33m.\u001b[0m\u001b[0mtime\u001b[0m\u001b[1;33m(\u001b[0m\u001b[1;33m)\u001b[0m \u001b[1;33m-\u001b[0m \u001b[0mt\u001b[0m\u001b[1;33m\u001b[0m\u001b[1;33m\u001b[0m\u001b[0m\n",
            "\u001b[1;32mC:\\Anaconda3\\envs\\gds\\lib\\site-packages\\pandas\\io\\parsers.py\u001b[0m in \u001b[0;36mparser_f\u001b[1;34m(filepath_or_buffer, sep, delimiter, header, names, index_col, usecols, squeeze, prefix, mangle_dupe_cols, dtype, engine, converters, true_values, false_values, skipinitialspace, skiprows, skipfooter, nrows, na_values, keep_default_na, na_filter, verbose, skip_blank_lines, parse_dates, infer_datetime_format, keep_date_col, date_parser, dayfirst, iterator, chunksize, compression, thousands, decimal, lineterminator, quotechar, quoting, doublequote, escapechar, comment, encoding, dialect, tupleize_cols, error_bad_lines, warn_bad_lines, delim_whitespace, low_memory, memory_map, float_precision)\u001b[0m\n\u001b[0;32m    700\u001b[0m                     skip_blank_lines\u003dskip_blank_lines)\n\u001b[0;32m    701\u001b[0m \u001b[1;33m\u001b[0m\u001b[0m\n\u001b[1;32m--\u003e 702\u001b[1;33m         \u001b[1;32mreturn\u001b[0m \u001b[0m_read\u001b[0m\u001b[1;33m(\u001b[0m\u001b[0mfilepath_or_buffer\u001b[0m\u001b[1;33m,\u001b[0m \u001b[0mkwds\u001b[0m\u001b[1;33m)\u001b[0m\u001b[1;33m\u001b[0m\u001b[1;33m\u001b[0m\u001b[0m\n\u001b[0m\u001b[0;32m    703\u001b[0m \u001b[1;33m\u001b[0m\u001b[0m\n\u001b[0;32m    704\u001b[0m     \u001b[0mparser_f\u001b[0m\u001b[1;33m.\u001b[0m\u001b[0m__name__\u001b[0m \u001b[1;33m\u003d\u001b[0m \u001b[0mname\u001b[0m\u001b[1;33m\u001b[0m\u001b[1;33m\u001b[0m\u001b[0m\n",
            "\u001b[1;32mC:\\Anaconda3\\envs\\gds\\lib\\site-packages\\pandas\\io\\parsers.py\u001b[0m in \u001b[0;36m_read\u001b[1;34m(filepath_or_buffer, kwds)\u001b[0m\n\u001b[0;32m    433\u001b[0m \u001b[1;33m\u001b[0m\u001b[0m\n\u001b[0;32m    434\u001b[0m     \u001b[1;32mtry\u001b[0m\u001b[1;33m:\u001b[0m\u001b[1;33m\u001b[0m\u001b[1;33m\u001b[0m\u001b[0m\n\u001b[1;32m--\u003e 435\u001b[1;33m         \u001b[0mdata\u001b[0m \u001b[1;33m\u003d\u001b[0m \u001b[0mparser\u001b[0m\u001b[1;33m.\u001b[0m\u001b[0mread\u001b[0m\u001b[1;33m(\u001b[0m\u001b[0mnrows\u001b[0m\u001b[1;33m)\u001b[0m\u001b[1;33m\u001b[0m\u001b[1;33m\u001b[0m\u001b[0m\n\u001b[0m\u001b[0;32m    436\u001b[0m     \u001b[1;32mfinally\u001b[0m\u001b[1;33m:\u001b[0m\u001b[1;33m\u001b[0m\u001b[1;33m\u001b[0m\u001b[0m\n\u001b[0;32m    437\u001b[0m         \u001b[0mparser\u001b[0m\u001b[1;33m.\u001b[0m\u001b[0mclose\u001b[0m\u001b[1;33m(\u001b[0m\u001b[1;33m)\u001b[0m\u001b[1;33m\u001b[0m\u001b[1;33m\u001b[0m\u001b[0m\n",
            "\u001b[1;32mC:\\Anaconda3\\envs\\gds\\lib\\site-packages\\pandas\\io\\parsers.py\u001b[0m in \u001b[0;36mread\u001b[1;34m(self, nrows)\u001b[0m\n\u001b[0;32m   1137\u001b[0m     \u001b[1;32mdef\u001b[0m \u001b[0mread\u001b[0m\u001b[1;33m(\u001b[0m\u001b[0mself\u001b[0m\u001b[1;33m,\u001b[0m \u001b[0mnrows\u001b[0m\u001b[1;33m\u003d\u001b[0m\u001b[1;32mNone\u001b[0m\u001b[1;33m)\u001b[0m\u001b[1;33m:\u001b[0m\u001b[1;33m\u001b[0m\u001b[1;33m\u001b[0m\u001b[0m\n\u001b[0;32m   1138\u001b[0m         \u001b[0mnrows\u001b[0m \u001b[1;33m\u003d\u001b[0m \u001b[0m_validate_integer\u001b[0m\u001b[1;33m(\u001b[0m\u001b[1;34m\u0027nrows\u0027\u001b[0m\u001b[1;33m,\u001b[0m \u001b[0mnrows\u001b[0m\u001b[1;33m)\u001b[0m\u001b[1;33m\u001b[0m\u001b[1;33m\u001b[0m\u001b[0m\n\u001b[1;32m-\u003e 1139\u001b[1;33m         \u001b[0mret\u001b[0m \u001b[1;33m\u003d\u001b[0m \u001b[0mself\u001b[0m\u001b[1;33m.\u001b[0m\u001b[0m_engine\u001b[0m\u001b[1;33m.\u001b[0m\u001b[0mread\u001b[0m\u001b[1;33m(\u001b[0m\u001b[0mnrows\u001b[0m\u001b[1;33m)\u001b[0m\u001b[1;33m\u001b[0m\u001b[1;33m\u001b[0m\u001b[0m\n\u001b[0m\u001b[0;32m   1140\u001b[0m \u001b[1;33m\u001b[0m\u001b[0m\n\u001b[0;32m   1141\u001b[0m         \u001b[1;31m# May alter columns / col_dict\u001b[0m\u001b[1;33m\u001b[0m\u001b[1;33m\u001b[0m\u001b[1;33m\u001b[0m\u001b[0m\n",
            "\u001b[1;32mC:\\Anaconda3\\envs\\gds\\lib\\site-packages\\pandas\\io\\parsers.py\u001b[0m in \u001b[0;36mread\u001b[1;34m(self, nrows)\u001b[0m\n\u001b[0;32m   1993\u001b[0m     \u001b[1;32mdef\u001b[0m \u001b[0mread\u001b[0m\u001b[1;33m(\u001b[0m\u001b[0mself\u001b[0m\u001b[1;33m,\u001b[0m \u001b[0mnrows\u001b[0m\u001b[1;33m\u003d\u001b[0m\u001b[1;32mNone\u001b[0m\u001b[1;33m)\u001b[0m\u001b[1;33m:\u001b[0m\u001b[1;33m\u001b[0m\u001b[1;33m\u001b[0m\u001b[0m\n\u001b[0;32m   1994\u001b[0m         \u001b[1;32mtry\u001b[0m\u001b[1;33m:\u001b[0m\u001b[1;33m\u001b[0m\u001b[1;33m\u001b[0m\u001b[0m\n\u001b[1;32m-\u003e 1995\u001b[1;33m             \u001b[0mdata\u001b[0m \u001b[1;33m\u003d\u001b[0m \u001b[0mself\u001b[0m\u001b[1;33m.\u001b[0m\u001b[0m_reader\u001b[0m\u001b[1;33m.\u001b[0m\u001b[0mread\u001b[0m\u001b[1;33m(\u001b[0m\u001b[0mnrows\u001b[0m\u001b[1;33m)\u001b[0m\u001b[1;33m\u001b[0m\u001b[1;33m\u001b[0m\u001b[0m\n\u001b[0m\u001b[0;32m   1996\u001b[0m         \u001b[1;32mexcept\u001b[0m \u001b[0mStopIteration\u001b[0m\u001b[1;33m:\u001b[0m\u001b[1;33m\u001b[0m\u001b[1;33m\u001b[0m\u001b[0m\n\u001b[0;32m   1997\u001b[0m             \u001b[1;32mif\u001b[0m \u001b[0mself\u001b[0m\u001b[1;33m.\u001b[0m\u001b[0m_first_chunk\u001b[0m\u001b[1;33m:\u001b[0m\u001b[1;33m\u001b[0m\u001b[1;33m\u001b[0m\u001b[0m\n",
            "\u001b[1;32mpandas/_libs/parsers.pyx\u001b[0m in \u001b[0;36mpandas._libs.parsers.TextReader.read\u001b[1;34m()\u001b[0m\n",
            "\u001b[1;32mpandas/_libs/parsers.pyx\u001b[0m in \u001b[0;36mpandas._libs.parsers.TextReader._read_low_memory\u001b[1;34m()\u001b[0m\n",
            "\u001b[1;32mpandas/_libs/parsers.pyx\u001b[0m in \u001b[0;36mpandas._libs.parsers.TextReader._read_rows\u001b[1;34m()\u001b[0m\n",
            "\u001b[1;32mpandas/_libs/parsers.pyx\u001b[0m in \u001b[0;36mpandas._libs.parsers.TextReader._convert_column_data\u001b[1;34m()\u001b[0m\n",
            "\u001b[1;32mpandas/_libs/parsers.pyx\u001b[0m in \u001b[0;36mpandas._libs.parsers.TextReader._convert_tokens\u001b[1;34m()\u001b[0m\n",
            "\u001b[1;32mpandas/_libs/parsers.pyx\u001b[0m in \u001b[0;36mpandas._libs.parsers.TextReader._convert_with_dtype\u001b[1;34m()\u001b[0m\n",
            "\u001b[1;32mC:\\Anaconda3\\envs\\gds\\lib\\site-packages\\pandas\\core\\dtypes\\common.py\u001b[0m in \u001b[0;36mis_categorical_dtype\u001b[1;34m(arr_or_dtype)\u001b[0m\n\u001b[0;32m    570\u001b[0m \u001b[1;33m\u001b[0m\u001b[0m\n\u001b[0;32m    571\u001b[0m \u001b[1;33m\u001b[0m\u001b[0m\n\u001b[1;32m--\u003e 572\u001b[1;33m \u001b[1;32mdef\u001b[0m \u001b[0mis_categorical_dtype\u001b[0m\u001b[1;33m(\u001b[0m\u001b[0marr_or_dtype\u001b[0m\u001b[1;33m)\u001b[0m\u001b[1;33m:\u001b[0m\u001b[1;33m\u001b[0m\u001b[1;33m\u001b[0m\u001b[0m\n\u001b[0m\u001b[0;32m    573\u001b[0m     \"\"\"\n\u001b[0;32m    574\u001b[0m     \u001b[0mCheck\u001b[0m \u001b[0mwhether\u001b[0m \u001b[0man\u001b[0m \u001b[0marray\u001b[0m\u001b[1;33m-\u001b[0m\u001b[0mlike\u001b[0m \u001b[1;32mor\u001b[0m \u001b[0mdtype\u001b[0m \u001b[1;32mis\u001b[0m \u001b[0mof\u001b[0m \u001b[0mthe\u001b[0m \u001b[0mCategorical\u001b[0m \u001b[0mdtype\u001b[0m\u001b[1;33m.\u001b[0m\u001b[1;33m\u001b[0m\u001b[1;33m\u001b[0m\u001b[0m\n",
            "\u001b[1;31mKeyboardInterrupt\u001b[0m: "
          ],
          "ename": "KeyboardInterrupt",
          "evalue": "",
          "output_type": "error"
        }
      ],
      "source": "# column `pin` will be converted to dtype\u003dcategory\n# after records with NaN `consideration_amt` will be dropped\ndtypes \u003d {\n    \u0027decade\u0027: \u0027int\u0027,\n    \u0027year\u0027: \u0027int\u0027,\n    \u0027lro_num\u0027: \u0027category\u0027,\n    \u0027pin\u0027: \u0027category\u0027,\n    \u0027postal_code\u0027: \u0027category\u0027,\n    \u0027street_designation\u0027: \u0027category\u0027,\n    \u0027street_direction\u0027: \u0027category\u0027,\n    \u0027municipality\u0027: \u0027category\u0027,\n    \u0027da_id\u0027: \u0027category\u0027,\n    \u0027da_city\u0027: \u0027category\u0027,\n}\nt \u003d time.time()\nteranet_path \u003d \u0027data/HHSaleHistory_cleaned_v0.9_GTHA_DA_with_cols_v0.9.csv\u0027\ndf \u003d pd.read_csv(teranet_path,\n                 dtype\u003ddtypes,\n                 parse_dates\u003d[\u0027registration_date\u0027])\ndf \u003d df.sort_values(\u0027registration_date\u0027)\nelapsed \u003d time.time() - t\nprint(\"----- DataFrame with Teranet records loaded\"\n      \"\\nin {0:.2f} seconds\".format(elapsed) + \n      \"\\nwith {0:,} rows\\nand {1:,} columns\"\n      .format(df.shape[0], df.shape[1]) + \n      \"\\n-- Column names:\\n\", df.columns)",
      "metadata": {
        "pycharm": {
          "metadata": false,
          "name": "#%%\n",
          "is_executing": true
        }
      }
    },
    {
      "cell_type": "code",
      "execution_count": null,
      "outputs": [],
      "source": "df.head()",
      "metadata": {
        "pycharm": {
          "metadata": false,
          "name": "#%%\n",
          "is_executing": true
        }
      }
    },
    {
      "cell_type": "code",
      "execution_count": null,
      "outputs": [],
      "source": "df.info(null_counts\u003dTrue)",
      "metadata": {
        "pycharm": {
          "metadata": false,
          "name": "#%%\n",
          "is_executing": true
        }
      }
    },
    {
      "cell_type": "markdown",
      "source": "## Create a GeoDataFrame from Teranet records\n`x` and `y` coordinates are combined to form Point objects, CRS information for WGS84 is added.",
      "metadata": {
        "pycharm": {
          "metadata": false,
          "name": "#%% md\n"
        }
      }
    },
    {
      "cell_type": "code",
      "execution_count": null,
      "outputs": [],
      "source": "t \u003d time.time()\n# combine values in columns \u0027x\u0027 and \u0027y\u0027 into a Point geometry object\ngeometry \u003d [Point(xy) for xy in zip(df[\u0027x\u0027], df[\u0027y\u0027])]\n\n# generate a new GeoDataFrame by adding point geometry to data frame \u0027teranet_sales_data\u0027\ngdf \u003d gpd.GeoDataFrame(df, geometry\u003dgeometry)\nelapsed \u003d time.time() - t\nprint(\"Geometry generated from \u0027x\u0027 and \u0027y\u0027 pairs, GeoDataFrame created!\"\n      \"\\ntook {0:.2f} seconds.\".format(elapsed))\n# add CRS for WGS84 (lat-long) to GeoDataFrame \u0027sales_data_geo\u0027\ngdf.crs \u003d {\u0027proj\u0027: \u0027latlong\u0027, \n           \u0027ellps\u0027: \u0027WGS84\u0027, \n           \u0027datum\u0027: \u0027WGS84\u0027, \n           \u0027no_defs\u0027: True}\nprint(\"CRS dictionary for WGS84 added to geoDataFrame with Teranet records!\")",
      "metadata": {
        "pycharm": {
          "metadata": false,
          "name": "#%%\n",
          "is_executing": true
        }
      }
    },
    {
      "cell_type": "markdown",
      "source": "## Load DA geometry for GTHA\nProvided by York Municipal Government, accessed via Esri Open Data portal.",
      "metadata": {
        "pycharm": {
          "metadata": false,
          "name": "#%% md\n"
        }
      }
    },
    {
      "cell_type": "code",
      "execution_count": null,
      "outputs": [],
      "source": "api_url \u003d \u0027https://opendata.arcgis.com/datasets/9d262f8a576842fbb2afbc8c51a64178_1.geojson\u0027\nda_income_gdf \u003d gpd.read_file(api_url)\nprint(\"GeoDataFrame \u0027da_income_gdf\u0027 with profile of income by dissimination areas created!\")\nda_income_gdf.plot();",
      "metadata": {
        "pycharm": {
          "metadata": false,
          "name": "#%%\n",
          "is_executing": true
        }
      }
    },
    {
      "cell_type": "markdown",
      "source": "## Records per `pin` vs records per `xy` pair\nThere are significantly more records with unique `pin` compared to unique `xy` coordinate pairs, which appears to be reasonable (some `xy` coordinate pairs correspond to records with different`pin`s).",
      "metadata": {
        "pycharm": {
          "metadata": false,
          "name": "#%% md\n"
        }
      }
    },
    {
      "cell_type": "code",
      "execution_count": null,
      "outputs": [],
      "source": "df[\u0027pin\u0027].describe()",
      "metadata": {
        "pycharm": {
          "metadata": false,
          "name": "#%%\n",
          "is_executing": true
        }
      }
    },
    {
      "cell_type": "code",
      "execution_count": null,
      "outputs": [],
      "source": "df[\u0027xy\u0027].describe()",
      "metadata": {
        "pycharm": {
          "metadata": false,
          "name": "#%%\n",
          "is_executing": true
        }
      }
    },
    {
      "cell_type": "code",
      "execution_count": null,
      "outputs": [],
      "source": "# get counts of Teranet records per `pin` and `xy`\npin_counts \u003d df.groupby(\u0027pin\u0027)[\u0027pin_total_sales\u0027].max()\nxy_counts \u003d df.groupby(\u0027xy\u0027)[\u0027xy_total_sales\u0027].max()\n# print top 10 pins and xy by count of Teranet records\nprint(\"Top 10 pins by count of Teranet records\\n\")\nprint(pin_counts.sort_values(ascending\u003dFalse).head(10))\nprint(\"\\n\\nTop 10 xy pairs by count of Teranet records\\n\")\nprint(xy_counts.sort_values(ascending\u003dFalse).head(10))",
      "metadata": {
        "pycharm": {
          "metadata": false,
          "name": "#%%\n",
          "is_executing": true
        }
      }
    },
    {
      "cell_type": "markdown",
      "source": "### Histogram of records per `pin` and `xy`, for pins and xy with under 10 Teranet records",
      "metadata": {
        "pycharm": {
          "metadata": false
        }
      }
    },
    {
      "cell_type": "code",
      "execution_count": null,
      "outputs": [],
      "source": "# histograms for `pin` and `xy` with \u003c\u003d10 records\nmax_records \u003d 10\nf, axes \u003d plt.subplots(nrows\u003d1, ncols\u003d2, figsize\u003d(10, 6))\nplt.suptitle(\"Histogram of Teranet records per `pin` or `xy`\")\n# plot histogram of records per pin\npin_counts[pin_counts \u003c\u003d max_records].hist(ax\u003daxes[0])\naxes[0].text(2, 700000, \"Mean: {0:,.2f}\"\n             .format(pin_counts[pin_counts \u003c\u003d max_records].mean()), \n             ha\u003d\u0027left\u0027)\naxes[0].text(3, 600000, \"Median: {0:,.2f}\"\n             .format(pin_counts[pin_counts \u003c\u003d max_records].median()), \n             ha\u003d\u0027left\u0027)\naxes[0].get_yaxis()\\\n    .set_major_formatter(plt.FuncFormatter(lambda x, \n                                    loc: \"{:,}\".format(int(x))))\naxes[0].set_title(\"for pins with \u003c\u003d10 records\")\naxes[0].set_ylabel(\"# of pins\")\naxes[0].set_xlabel(\"# of Teranet records\")\naxes[0].grid(linestyle\u003d\u0027:\u0027)\n\n# plot histogram of records per pin\nxy_counts[xy_counts \u003c\u003d max_records].hist(ax\u003daxes[1])\naxes[1].text(2, 450000, \"Mean: {0:,.2f}\"\n             .format(xy_counts[xy_counts \u003c\u003d max_records].mean()), ha\u003d\u0027left\u0027)\naxes[1].text(3, 350000, \"Median: {0:,.2f}\"\n             .format(xy_counts[xy_counts \u003c\u003d max_records].median()), ha\u003d\u0027left\u0027)\naxes[1].get_yaxis()\\\n    .set_major_formatter(plt.FuncFormatter(lambda x, \n                                    loc: \"{:,}\".format(int(x))))\naxes[1].set_title(\"\\nfor xy pairs with \u003c\u003d10 records\")\naxes[1].set_ylabel(\"# of xy coordinate pairs\")\naxes[1].set_xlabel(\"# of Teranet records\")\naxes[1].grid(linestyle\u003d\u0027:\u0027)\nf.tight_layout()\n\nplt.show()\n\n# histograms for all `pin` and `xy`\nf, axes \u003d plt.subplots(nrows\u003d1, ncols\u003d2, figsize\u003d(10, 6))\nplt.suptitle(\"Histogram of Teranet records per `pin` or `xy`\")\n# plot histogram of records per pin\npin_counts.hist(ax\u003daxes[0], bins\u003d100)\naxes[0].text(50, 10000, \"Mean: {0:,.2f}\"\n             .format(pin_counts.mean()), ha\u003d\u0027left\u0027)\naxes[0].text(75, 1000, \"Median: {0:,.2f}\"\n             .format(pin_counts.median()), ha\u003d\u0027left\u0027)\naxes[0].set_yscale(\u0027log\u0027)\naxes[0].get_yaxis()\\\n    .set_major_formatter(plt.FuncFormatter(lambda x, \n                                    loc: \"{:,}\".format(int(x))))\naxes[0].set_title(\"for all pins (log scale)\")\naxes[0].set_ylabel(\"# of pins (log scale)\")\naxes[0].set_xlabel(\"# of Teranet records\")\naxes[0].grid(linestyle\u003d\u0027:\u0027)\n\n# plot histogram of records per pin\nxy_counts.hist(ax\u003daxes[1], bins\u003d100)\naxes[1].text(1000, 10000, \"Mean: {0:,.2f}\"\n             .format(xy_counts.mean()), ha\u003d\u0027left\u0027)\naxes[1].text(1500, 1000, \"Median: {0:,.2f}\"\n             .format(xy_counts.median()), ha\u003d\u0027left\u0027)\naxes[1].set_yscale(\u0027log\u0027)\naxes[1].get_yaxis()\\\n    .set_major_formatter(plt.FuncFormatter(lambda x, \n                                    loc: \"{:,}\".format(int(x))))\naxes[1].set_title(\"\\nfor xy pairs (log scale)\")\naxes[1].set_ylabel(\"# of xy coordinate pairs (log scale)\")\naxes[1].set_xlabel(\"# of Teranet records\")\naxes[1].grid(linestyle\u003d\u0027:\u0027)\nf.tight_layout()\n\nplt.show()",
      "metadata": {
        "pycharm": {
          "metadata": false,
          "name": "#%%\n",
          "is_executing": true
        }
      }
    },
    {
      "cell_type": "markdown",
      "source": "## Mapping `pin` and `xy` with larger number of records\n### Map pins with a larger number of records",
      "metadata": {
        "pycharm": {
          "metadata": false,
          "name": "#%% md\n"
        }
      }
    },
    {
      "cell_type": "code",
      "execution_count": null,
      "outputs": [],
      "source": "# set index of GeoDataFrame with Teranet records to `pin`\ngdf \u003d gdf.set_index(\u0027pin\u0027)\nprint(\"Index of the GeoDataFrame with Teranet records set to `pin`\")",
      "metadata": {
        "pycharm": {
          "metadata": false,
          "name": "#%%\n",
          "is_executing": true
        }
      }
    },
    {
      "cell_type": "markdown",
      "source": "#### \u003e 10 Teranet records per `pin`\nOnly 465 pins (0.02% of the total) have more than 10 Teranet records.",
      "metadata": {
        "pycharm": {
          "metadata": false,
          "name": "#%% md\n"
        }
      }
    },
    {
      "cell_type": "code",
      "execution_count": null,
      "outputs": [],
      "source": "min_records \u003d 10 # min Teranet records, to filter pins\n# select subset of pins that have \u003emin_records records\nfocus_ids \u003d pin_counts[pin_counts \u003e min_records].index\np_title \u003d get_plot_title(pin_counts, min_records, \u0027pin\u0027)\nmap_subset(gdf, focus_ids, color_col\u003d\u0027pin_total_sales\u0027,\n           plot_title\u003dp_title)",
      "metadata": {
        "pycharm": {
          "metadata": false,
          "name": "#%%\n",
          "is_executing": true
        }
      }
    },
    {
      "cell_type": "markdown",
      "source": "#### \u003e 100 Teranet records per `pin`\nOnly 30 pins (0.001% of the total) have more than 100 Teranet records.",
      "metadata": {
        "pycharm": {
          "metadata": false,
          "name": "#%% md\n"
        }
      }
    },
    {
      "cell_type": "code",
      "execution_count": null,
      "outputs": [],
      "source": "min_records \u003d 100 # min Teranet records, to filter pins\n# select subset of pins that have \u003emin_records records\nfocus_ids \u003d pin_counts[pin_counts \u003e min_records].index\np_title \u003d get_plot_title(pin_counts, min_records, \u0027pin\u0027)\nmap_subset(gdf, focus_ids, color_col\u003d\u0027pin_total_sales\u0027,\n           plot_title\u003dp_title, plot_alpha\u003d1)",
      "metadata": {
        "pycharm": {
          "metadata": false,
          "name": "#%%\n",
          "is_executing": true
        }
      }
    },
    {
      "cell_type": "markdown",
      "source": "### Map `xy`s with a larger number of records",
      "metadata": {
        "pycharm": {
          "metadata": false,
          "name": "#%% md\n"
        }
      }
    },
    {
      "cell_type": "code",
      "execution_count": null,
      "outputs": [],
      "source": "# set index of GeoDataFrame with Teranet records to `pin`\ngdf \u003d gdf.reset_index()\ngdf \u003d gdf.set_index(\u0027xy\u0027)\nprint(\"Index of the GeoDataFrame with Teranet records reset to `xy`\")\n# coordinates of downtown Toronto\ndowntown_center \u003d (-8840000, 5415000) \nzoom_radius \u003d 10000 # zoom radius of 10km",
      "metadata": {
        "pycharm": {
          "metadata": false,
          "name": "#%%\n",
          "is_executing": true
        }
      }
    },
    {
      "cell_type": "markdown",
      "source": "#### \u003e 10 Teranet records per `xy` pair\nOnly 5,350 `xy` pairs (0.38% of the total) have more than 10 Teranet records.  \nHowever, this number is over 10 times the number of pins with \u003e10 records.",
      "metadata": {
        "pycharm": {
          "metadata": false,
          "name": "#%% md\n"
        }
      }
    },
    {
      "cell_type": "code",
      "execution_count": null,
      "outputs": [],
      "source": "min_records \u003d 10 # min Teranet records, to filter pins\n# select subset of pins that have \u003emin_records records\nfocus_ids \u003d xy_counts[xy_counts \u003e min_records].index\np_title \u003d get_plot_title(xy_counts, min_records, \u0027xy pair\u0027)\nmap_subset(gdf, focus_ids, color_col\u003d\u0027xy_total_sales\u0027,\n           plot_title\u003dp_title, plot_alpha\u003d0.005)",
      "metadata": {
        "pycharm": {
          "metadata": false,
          "name": "#%%\n",
          "is_executing": true
        }
      }
    },
    {
      "cell_type": "markdown",
      "source": "#### \u003e 100 Teranet records per `xy` pair\nOnly 2,985 `xy` pairs (0.21% of the total) have more than 100 Teranet records.  \nHowever, this number is almost 100 times the number of pins with \u003e100 records.",
      "metadata": {
        "pycharm": {
          "metadata": false,
          "name": "#%% md\n"
        }
      }
    },
    {
      "cell_type": "code",
      "execution_count": null,
      "outputs": [],
      "source": "min_records \u003d 100 # min Teranet records, to filter pins\n# select subset of pins that have \u003emin_records records\nfocus_ids \u003d xy_counts[xy_counts \u003e min_records].index\np_title \u003d get_plot_title(xy_counts, min_records, \u0027xy pair\u0027)\nmap_subset(gdf, focus_ids, color_col\u003d\u0027xy_total_sales\u0027,\n           plot_title\u003dp_title, plot_alpha\u003d0.005)",
      "metadata": {
        "pycharm": {
          "metadata": false,
          "name": "#%%\n",
          "is_executing": true
        }
      }
    },
    {
      "cell_type": "markdown",
      "source": "#### \u003e 1\u0027000 Teranet records per `xy` pair\n `xy` pairs (% of the total) have more than 1\u0027000 Teranet records.  ",
      "metadata": {
        "pycharm": {
          "metadata": false
        }
      }
    },
    {
      "cell_type": "code",
      "execution_count": null,
      "outputs": [],
      "source": "min_records \u003d 1000 # min Teranet records, to filter pins\n# select subset of pins that have \u003emin_records records\nfocus_ids \u003d xy_counts[xy_counts \u003e min_records].index\np_title \u003d get_plot_title(xy_counts, min_records, \u0027xy pair\u0027)\nmap_subset(gdf, focus_ids, color_col\u003d\u0027xy_total_sales\u0027,\n           plot_title\u003dp_title, plot_alpha\u003d0.005)",
      "metadata": {
        "pycharm": {
          "metadata": false,
          "name": "#%%\n",
          "is_executing": true
        }
      }
    },
    {
      "cell_type": "markdown",
      "source": "#### \u003e 3\u0027000 Teranet records per `xy` pair\n `xy` pairs (% of the total) have more than 3\u0027000 Teranet records.  ",
      "metadata": {
        "pycharm": {
          "metadata": false
        }
      }
    },
    {
      "cell_type": "code",
      "execution_count": null,
      "outputs": [],
      "source": "min_records \u003d 3000 # min Teranet records, to filter pins\n# select subset of pins that have \u003emin_records records\nfocus_ids \u003d xy_counts[xy_counts \u003e min_records].index\np_title \u003d get_plot_title(xy_counts, min_records, \u0027xy pair\u0027)\nmap_subset(gdf, focus_ids, color_col\u003d\u0027xy_total_sales\u0027,\n           plot_title\u003dp_title, plot_alpha\u003d1)",
      "metadata": {
        "pycharm": {
          "metadata": false,
          "name": "#%%\n",
          "is_executing": true
        }
      }
    },
    {
      "cell_type": "markdown",
      "source": "##### Zoom to downtown Toronto",
      "metadata": {
        "pycharm": {
          "metadata": false,
          "name": "#%% md\n"
        }
      }
    },
    {
      "cell_type": "code",
      "execution_count": null,
      "outputs": [],
      "source": "map_subset(gdf, focus_ids, color_col\u003d\u0027xy_total_sales\u0027,\n           plot_title\u003dp_title, plot_alpha\u003d1,\n           zoom_center\u003ddowntown_center, zoom_radius\u003dzoom_radius)",
      "metadata": {
        "pycharm": {
          "metadata": false,
          "name": "#%%\n",
          "is_executing": true
        }
      }
    },
    {
      "cell_type": "markdown",
      "source": "## Rolling sum and count of transactions\nBy `pin` or `xy`",
      "metadata": {
        "pycharm": {
          "metadata": false
        }
      }
    },
    {
      "cell_type": "code",
      "execution_count": null,
      "outputs": [],
      "source": "top_pins \u003d pin_counts.sort_values(ascending\u003dFalse).head(10)\ntop_pins",
      "metadata": {
        "pycharm": {
          "metadata": false,
          "name": "#%%\n",
          "is_executing": true
        }
      }
    },
    {
      "cell_type": "code",
      "execution_count": null,
      "outputs": [],
      "source": "focus_id \u003d top_pins.index[0]\n\ny1_label \u003d \"Rolling sum of transactions, $\"\ny2_label \u003d \"Consideration amount of each transaction, $\"\nx_label \u003d \"Rolling count of transactions\"\nplotted_subset, add, x, y \u003d \\\n    plot_subset(df, focus_id, \u0027pin\u0027, \n                \u0027registration_date\u0027, \u0027pin_price_cum_sum\u0027,\n                y_col2\u003d\u0027consideration_amt\u0027,\n                p_x_label\u003dx_label, \n                p_y1_label\u003dy1_label, p_y2_label\u003dy2_label,\n                return_subset\u003dTrue)",
      "metadata": {
        "pycharm": {
          "metadata": false,
          "name": "#%%\n",
          "is_executing": true
        }
      }
    },
    {
      "cell_type": "markdown",
      "source": "### Check the pin using Google Street View API",
      "metadata": {
        "pycharm": {
          "metadata": false,
          "name": "#%% md\n"
        }
      }
    },
    {
      "cell_type": "code",
      "execution_count": 45,
      "outputs": [],
      "source": "# local path -- linked to a private folder\nkey_path \u003d \u0027../credentials/google_maps_api.txt\u0027\nwith open(key_path) as f:\n    api_key \u003d f.readlines()[0]\n# Define parameters for street view api\nparams \u003d [{\n\t\u0027size\u0027: \u0027600x300\u0027, # max 640x640 pixels\n\t\u0027location\u0027: \u002746.414382,10.013988\u0027,\n\t\u0027heading\u0027: \u0027151.78\u0027,\n\t\u0027pitch\u0027: \u0027-0.76\u0027,\n\t\u0027key\u0027: api_key\n}]",
      "metadata": {
        "pycharm": {
          "metadata": false,
          "name": "#%%\n",
          "is_executing": false
        }
      }
    },
    {
      "cell_type": "markdown",
      "source": "## Distribution of cumulative sum by `pin`/`xy`",
      "metadata": {
        "pycharm": {
          "metadata": false,
          "name": "#%% md\n"
        }
      }
    },
    {
      "cell_type": "markdown",
      "source": "### Map pins/xy with higher cumulative sums",
      "metadata": {
        "pycharm": {
          "metadata": false,
          "name": "#%% md\n"
        }
      }
    },
    {
      "cell_type": "code",
      "execution_count": null,
      "outputs": [],
      "source": "",
      "metadata": {
        "pycharm": {
          "metadata": false,
          "name": "#%%\n"
        }
      }
    },
    {
      "cell_type": "markdown",
      "source": "## Distributions of days since last sale\nBy `pin` or `xy`",
      "metadata": {
        "pycharm": {
          "metadata": false
        }
      }
    },
    {
      "cell_type": "code",
      "execution_count": 19,
      "outputs": [
        {
          "data": {
            "text/plain": "Index([\u0027registration_date\u0027, \u0027decade\u0027, \u0027year\u0027, \u0027lro_num\u0027, \u0027pin\u0027,\n       \u0027consideration_amt\u0027, \u0027postal_code\u0027, \u0027unitno\u0027, \u0027street_name\u0027,\n       \u0027street_designation\u0027, \u0027street_direction\u0027, \u0027municipality\u0027,\n       \u0027street_number\u0027, \u0027x\u0027, \u0027y\u0027, \u0027da_id\u0027, \u0027da_city\u0027, \u0027da_median_tot_inc\u0027,\n       \u0027xy\u0027, \u0027pin_total_sales\u0027, \u0027xy_total_sales\u0027, \u0027pin_prev_sales\u0027,\n       \u0027xy_prev_sales\u0027, \u0027pin_price_cum_sum\u0027, \u0027xy_price_cum_sum\u0027,\n       \u0027pin_price_pct_change\u0027, \u0027xy_price_pct_change\u0027, \u0027price_da_pct_change\u0027,\n       \u0027pin_years_since_last_sale\u0027, \u0027xy_years_since_last_sale\u0027,\n       \u0027da_days_since_last_sale\u0027, \u0027da_years_since_last_sale\u0027,\n       \u0027pin_sale_next_6m\u0027, \u0027pin_sale_next_1y\u0027, \u0027pin_sale_next_3y\u0027,\n       \u0027xy_sale_next_6m\u0027, \u0027xy_sale_next_1y\u0027, \u0027xy_sale_next_3y\u0027, \u0027geometry\u0027],\n      dtype\u003d\u0027object\u0027)"
          },
          "metadata": {},
          "output_type": "execute_result",
          "execution_count": 19
        }
      ],
      "source": "df.columns",
      "metadata": {
        "pycharm": {
          "metadata": false,
          "name": "#%%\n",
          "is_executing": false
        }
      }
    },
    {
      "cell_type": "code",
      "execution_count": 91,
      "outputs": [
        {
          "traceback": [
            "\u001b[1;31m---------------------------------------------------------------------------\u001b[0m",
            "\u001b[1;31mKeyError\u001b[0m                                  Traceback (most recent call last)",
            "\u001b[1;32mC:\\Anaconda3\\envs\\gds\\lib\\site-packages\\pandas\\core\\indexes\\base.py\u001b[0m in \u001b[0;36mget_loc\u001b[1;34m(self, key, method, tolerance)\u001b[0m\n\u001b[0;32m   2656\u001b[0m             \u001b[1;32mtry\u001b[0m\u001b[1;33m:\u001b[0m\u001b[1;33m\u001b[0m\u001b[1;33m\u001b[0m\u001b[0m\n\u001b[1;32m-\u003e 2657\u001b[1;33m                 \u001b[1;32mreturn\u001b[0m \u001b[0mself\u001b[0m\u001b[1;33m.\u001b[0m\u001b[0m_engine\u001b[0m\u001b[1;33m.\u001b[0m\u001b[0mget_loc\u001b[0m\u001b[1;33m(\u001b[0m\u001b[0mkey\u001b[0m\u001b[1;33m)\u001b[0m\u001b[1;33m\u001b[0m\u001b[1;33m\u001b[0m\u001b[0m\n\u001b[0m\u001b[0;32m   2658\u001b[0m             \u001b[1;32mexcept\u001b[0m \u001b[0mKeyError\u001b[0m\u001b[1;33m:\u001b[0m\u001b[1;33m\u001b[0m\u001b[1;33m\u001b[0m\u001b[0m\n",
            "\u001b[1;32mpandas/_libs/index.pyx\u001b[0m in \u001b[0;36mpandas._libs.index.IndexEngine.get_loc\u001b[1;34m()\u001b[0m\n",
            "\u001b[1;32mpandas/_libs/index.pyx\u001b[0m in \u001b[0;36mpandas._libs.index.IndexEngine.get_loc\u001b[1;34m()\u001b[0m\n",
            "\u001b[1;32mpandas/_libs/hashtable_class_helper.pxi\u001b[0m in \u001b[0;36mpandas._libs.hashtable.PyObjectHashTable.get_item\u001b[1;34m()\u001b[0m\n",
            "\u001b[1;32mpandas/_libs/hashtable_class_helper.pxi\u001b[0m in \u001b[0;36mpandas._libs.hashtable.PyObjectHashTable.get_item\u001b[1;34m()\u001b[0m\n",
            "\u001b[1;31mKeyError\u001b[0m: \u0027pin_days_since_last_sale\u0027",
            "\nDuring handling of the above exception, another exception occurred:\n",
            "\u001b[1;31mKeyError\u001b[0m                                  Traceback (most recent call last)",
            "\u001b[1;32m\u003cipython-input-91-4759a45d2828\u003e\u001b[0m in \u001b[0;36m\u003cmodule\u003e\u001b[1;34m\u001b[0m\n\u001b[1;32m----\u003e 1\u001b[1;33m \u001b[0mdf\u001b[0m\u001b[1;33m[\u001b[0m\u001b[1;34m\u0027pin_days_since_last_sale\u0027\u001b[0m\u001b[1;33m]\u001b[0m\u001b[1;33m.\u001b[0m\u001b[0mhist\u001b[0m\u001b[1;33m(\u001b[0m\u001b[0mbins\u001b[0m\u001b[1;33m\u003d\u001b[0m\u001b[1;36m200\u001b[0m\u001b[1;33m)\u001b[0m\u001b[1;33m\u001b[0m\u001b[1;33m\u001b[0m\u001b[0m\n\u001b[0m\u001b[0;32m      2\u001b[0m \u001b[0mplt\u001b[0m\u001b[1;33m.\u001b[0m\u001b[0mtitle\u001b[0m\u001b[1;33m(\u001b[0m\u001b[1;34m\"Days since last sale, by `pin`\"\u001b[0m\u001b[1;33m)\u001b[0m\u001b[1;33m\u001b[0m\u001b[1;33m\u001b[0m\u001b[0m\n\u001b[0;32m      3\u001b[0m \u001b[0mplt\u001b[0m\u001b[1;33m.\u001b[0m\u001b[0mxlabel\u001b[0m\u001b[1;33m(\u001b[0m\u001b[1;34m\u0027\u0027\u001b[0m\u001b[1;33m)\u001b[0m\u001b[1;33m\u001b[0m\u001b[1;33m\u001b[0m\u001b[0m\n",
            "\u001b[1;32mC:\\Anaconda3\\envs\\gds\\lib\\site-packages\\pandas\\core\\frame.py\u001b[0m in \u001b[0;36m__getitem__\u001b[1;34m(self, key)\u001b[0m\n\u001b[0;32m   2925\u001b[0m             \u001b[1;32mif\u001b[0m \u001b[0mself\u001b[0m\u001b[1;33m.\u001b[0m\u001b[0mcolumns\u001b[0m\u001b[1;33m.\u001b[0m\u001b[0mnlevels\u001b[0m \u001b[1;33m\u003e\u001b[0m \u001b[1;36m1\u001b[0m\u001b[1;33m:\u001b[0m\u001b[1;33m\u001b[0m\u001b[1;33m\u001b[0m\u001b[0m\n\u001b[0;32m   2926\u001b[0m                 \u001b[1;32mreturn\u001b[0m \u001b[0mself\u001b[0m\u001b[1;33m.\u001b[0m\u001b[0m_getitem_multilevel\u001b[0m\u001b[1;33m(\u001b[0m\u001b[0mkey\u001b[0m\u001b[1;33m)\u001b[0m\u001b[1;33m\u001b[0m\u001b[1;33m\u001b[0m\u001b[0m\n\u001b[1;32m-\u003e 2927\u001b[1;33m             \u001b[0mindexer\u001b[0m \u001b[1;33m\u003d\u001b[0m \u001b[0mself\u001b[0m\u001b[1;33m.\u001b[0m\u001b[0mcolumns\u001b[0m\u001b[1;33m.\u001b[0m\u001b[0mget_loc\u001b[0m\u001b[1;33m(\u001b[0m\u001b[0mkey\u001b[0m\u001b[1;33m)\u001b[0m\u001b[1;33m\u001b[0m\u001b[1;33m\u001b[0m\u001b[0m\n\u001b[0m\u001b[0;32m   2928\u001b[0m             \u001b[1;32mif\u001b[0m \u001b[0mis_integer\u001b[0m\u001b[1;33m(\u001b[0m\u001b[0mindexer\u001b[0m\u001b[1;33m)\u001b[0m\u001b[1;33m:\u001b[0m\u001b[1;33m\u001b[0m\u001b[1;33m\u001b[0m\u001b[0m\n\u001b[0;32m   2929\u001b[0m                 \u001b[0mindexer\u001b[0m \u001b[1;33m\u003d\u001b[0m \u001b[1;33m[\u001b[0m\u001b[0mindexer\u001b[0m\u001b[1;33m]\u001b[0m\u001b[1;33m\u001b[0m\u001b[1;33m\u001b[0m\u001b[0m\n",
            "\u001b[1;32mC:\\Anaconda3\\envs\\gds\\lib\\site-packages\\pandas\\core\\indexes\\base.py\u001b[0m in \u001b[0;36mget_loc\u001b[1;34m(self, key, method, tolerance)\u001b[0m\n\u001b[0;32m   2657\u001b[0m                 \u001b[1;32mreturn\u001b[0m \u001b[0mself\u001b[0m\u001b[1;33m.\u001b[0m\u001b[0m_engine\u001b[0m\u001b[1;33m.\u001b[0m\u001b[0mget_loc\u001b[0m\u001b[1;33m(\u001b[0m\u001b[0mkey\u001b[0m\u001b[1;33m)\u001b[0m\u001b[1;33m\u001b[0m\u001b[1;33m\u001b[0m\u001b[0m\n\u001b[0;32m   2658\u001b[0m             \u001b[1;32mexcept\u001b[0m \u001b[0mKeyError\u001b[0m\u001b[1;33m:\u001b[0m\u001b[1;33m\u001b[0m\u001b[1;33m\u001b[0m\u001b[0m\n\u001b[1;32m-\u003e 2659\u001b[1;33m                 \u001b[1;32mreturn\u001b[0m \u001b[0mself\u001b[0m\u001b[1;33m.\u001b[0m\u001b[0m_engine\u001b[0m\u001b[1;33m.\u001b[0m\u001b[0mget_loc\u001b[0m\u001b[1;33m(\u001b[0m\u001b[0mself\u001b[0m\u001b[1;33m.\u001b[0m\u001b[0m_maybe_cast_indexer\u001b[0m\u001b[1;33m(\u001b[0m\u001b[0mkey\u001b[0m\u001b[1;33m)\u001b[0m\u001b[1;33m)\u001b[0m\u001b[1;33m\u001b[0m\u001b[1;33m\u001b[0m\u001b[0m\n\u001b[0m\u001b[0;32m   2660\u001b[0m         \u001b[0mindexer\u001b[0m \u001b[1;33m\u003d\u001b[0m \u001b[0mself\u001b[0m\u001b[1;33m.\u001b[0m\u001b[0mget_indexer\u001b[0m\u001b[1;33m(\u001b[0m\u001b[1;33m[\u001b[0m\u001b[0mkey\u001b[0m\u001b[1;33m]\u001b[0m\u001b[1;33m,\u001b[0m \u001b[0mmethod\u001b[0m\u001b[1;33m\u003d\u001b[0m\u001b[0mmethod\u001b[0m\u001b[1;33m,\u001b[0m \u001b[0mtolerance\u001b[0m\u001b[1;33m\u003d\u001b[0m\u001b[0mtolerance\u001b[0m\u001b[1;33m)\u001b[0m\u001b[1;33m\u001b[0m\u001b[1;33m\u001b[0m\u001b[0m\n\u001b[0;32m   2661\u001b[0m         \u001b[1;32mif\u001b[0m \u001b[0mindexer\u001b[0m\u001b[1;33m.\u001b[0m\u001b[0mndim\u001b[0m \u001b[1;33m\u003e\u001b[0m \u001b[1;36m1\u001b[0m \u001b[1;32mor\u001b[0m \u001b[0mindexer\u001b[0m\u001b[1;33m.\u001b[0m\u001b[0msize\u001b[0m \u001b[1;33m\u003e\u001b[0m \u001b[1;36m1\u001b[0m\u001b[1;33m:\u001b[0m\u001b[1;33m\u001b[0m\u001b[1;33m\u001b[0m\u001b[0m\n",
            "\u001b[1;32mpandas/_libs/index.pyx\u001b[0m in \u001b[0;36mpandas._libs.index.IndexEngine.get_loc\u001b[1;34m()\u001b[0m\n",
            "\u001b[1;32mpandas/_libs/index.pyx\u001b[0m in \u001b[0;36mpandas._libs.index.IndexEngine.get_loc\u001b[1;34m()\u001b[0m\n",
            "\u001b[1;32mpandas/_libs/hashtable_class_helper.pxi\u001b[0m in \u001b[0;36mpandas._libs.hashtable.PyObjectHashTable.get_item\u001b[1;34m()\u001b[0m\n",
            "\u001b[1;32mpandas/_libs/hashtable_class_helper.pxi\u001b[0m in \u001b[0;36mpandas._libs.hashtable.PyObjectHashTable.get_item\u001b[1;34m()\u001b[0m\n",
            "\u001b[1;31mKeyError\u001b[0m: \u0027pin_days_since_last_sale\u0027"
          ],
          "ename": "KeyError",
          "evalue": "\u0027pin_days_since_last_sale\u0027",
          "output_type": "error"
        }
      ],
      "source": "df[\u0027pin_days_since_last_sale\u0027].hist(bins\u003d200)\nplt.title(\"Days since last sale, by `pin`\")\nplt.xlabel(\u0027\u0027)",
      "metadata": {
        "pycharm": {
          "metadata": false,
          "name": "#%%\n",
          "is_executing": false
        }
      }
    },
    {
      "cell_type": "code",
      "execution_count": null,
      "outputs": [],
      "source": "mask \u003d df[\u0027days_since_last_sale_xy\u0027] \u003c 50\ndf.loc[mask, \u0027days_since_last_sale_xy\u0027].hist(bins\u003d50)",
      "metadata": {
        "pycharm": {
          "metadata": false,
          "name": "#%%\n"
        }
      }
    },
    {
      "cell_type": "markdown",
      "source": "## Years since last sale per `pin` or `xy`",
      "metadata": {
        "pycharm": {
          "metadata": false,
          "name": "#%% md\n"
        }
      }
    },
    {
      "cell_type": "code",
      "execution_count": null,
      "outputs": [],
      "source": "se \u003d df[\u0027pin_years_since_last_sale\u0027]\nse[se \u003c 40].hist(bins\u003d100)",
      "metadata": {
        "pycharm": {
          "metadata": false,
          "name": "#%%\n"
        }
      }
    },
    {
      "cell_type": "code",
      "execution_count": null,
      "outputs": [],
      "source": "se \u003d df[\u0027xy_years_since_last_sale\u0027]\nse[se \u003c 40].hist(bins\u003d100)",
      "metadata": {
        "pycharm": {
          "metadata": false,
          "name": "#%%\n"
        }
      }
    },
    {
      "cell_type": "markdown",
      "source": "## Rolling sum vs rolling count or vs time",
      "metadata": {
        "pycharm": {
          "metadata": false,
          "name": "#%% md\n"
        }
      }
    },
    {
      "cell_type": "code",
      "execution_count": null,
      "outputs": [],
      "source": "# plot results\nfocus_id \u003d df[\u0027id\u0027].unique()[0]\nplot_subset \u003d df[df[\u0027id\u0027] \u003d\u003d focus_id]\nplot_subset.plot(x\u003d\u002799_rolling_count\u0027, y\u003d\u002799_rolling_sum\u0027)\n\nplt.suptitle(\"Rolling sum of purchases in department 99\")\nplt.title(\"for customer id: {0}\".format(focus_id))\nplt.ylabel(\"Rolling sum of purchases, $\")\nplt.xlabel(\"Rolling count of purchases by this customer in dept 99\")\nplt.grid(linestyle\u003d\u0027:\u0027)\nplt.show()",
      "metadata": {
        "pycharm": {
          "metadata": false,
          "name": "#%%\n"
        }
      }
    },
    {
      "cell_type": "code",
      "execution_count": null,
      "outputs": [],
      "source": "# plot results\nfocus_id \u003d df[\u0027id\u0027].unique()[0]\nplot_subset \u003d df[df[\u0027id\u0027] \u003d\u003d focus_id]\nplot_subset.plot(x\u003d\u0027date\u0027, y\u003d\u002799_rolling_sum\u0027)\n\nplt.suptitle(\"Rolling sum of purchases in department 99\")\nplt.title(\"for customer id: {0}\".format(focus_id))\nplt.ylabel(\"Rolling sum of purchases, $\")\nplt.grid(linestyle\u003d\u0027:\u0027)\nplt.show()",
      "metadata": {
        "pycharm": {
          "metadata": false,
          "name": "#%%\n"
        }
      }
    },
    {
      "cell_type": "code",
      "execution_count": null,
      "outputs": [],
      "source": "",
      "metadata": {
        "pycharm": {
          "metadata": false,
          "name": "#%%"
        }
      }
    }
  ],
  "metadata": {
    "language_info": {
      "codemirror_mode": {
        "name": "ipython",
        "version": 2
      },
      "file_extension": ".py",
      "mimetype": "text/x-python",
      "name": "python",
      "nbconvert_exporter": "python",
      "pygments_lexer": "ipython2",
      "version": "2.7.6"
    },
    "kernelspec": {
      "name": "pycharm-e0559840",
      "language": "python",
      "display_name": "PyCharm (geo)"
    },
    "stem_cell": {
      "cell_type": "raw",
      "source": "",
      "metadata": {
        "pycharm": {
          "metadata": false
        }
      }
    }
  },
  "nbformat": 4,
  "nbformat_minor": 0
}