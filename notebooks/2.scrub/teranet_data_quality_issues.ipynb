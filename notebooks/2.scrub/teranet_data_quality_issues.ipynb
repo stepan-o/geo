{
 "cells": [
  {
   "cell_type": "markdown",
   "source": [
    "# GTHA housing market database\n",
    "# OSEMN methodology Step 2: Scrub\n",
    "# Data quality issues discovered in the Teranet dataset\n",
    "\n",
    "---\n",
    "\n",
    "This notebook presents examples of data quality issues discovered in the Teranet dataset.\n",
    "\n",
    "Previous steps included: \n",
    "\n",
    "* Step 2.1 \n",
    "\n",
    "    * the spatial join between the Teranet points and the polygons of GTHA Dissemination Areas (DAs)\n",
    "    \n",
    "    * During step 2.1, Teranet records whose coordinates fall outside of the GTHA boundary (as defined by the DA geometry) have been filtered out (6,803,691 of the original 9,039,241 Teranet records remain in the dataset)\n",
    "     \n",
    "    * In addition to that, three new columns (`OBJECTID`, `DAUID`, and `CSDNAME`) derived from DA attributes have been added to each Teranet transaction\n",
    "\n",
    "---"
   ],
   "metadata": {
    "collapsed": false
   }
  },
  {
   "cell_type": "markdown",
   "source": [
    "## Import dependencies"
   ],
   "metadata": {
    "collapsed": false,
    "pycharm": {
     "name": "#%% md\n"
    }
   }
  },
  {
   "cell_type": "code",
   "execution_count": 1,
   "outputs": [],
   "source": [
    "import pandas as pd\n",
    "import os\n",
    "from time import time"
   ],
   "metadata": {
    "collapsed": false,
    "pycharm": {
     "name": "#%%\n",
     "is_executing": false
    }
   }
  },
  {
   "cell_type": "markdown",
   "source": [
    "## Multiple transactions"
   ],
   "metadata": {
    "collapsed": false,
    "pycharm": {
     "name": "#%% md\n"
    }
   }
  },
  {
   "cell_type": "code",
   "execution_count": 2,
   "outputs": [
    {
     "data": {
      "text/plain": "['Teranet_with_DA_cols.csv', 'HHSaleHistory.csv']"
     },
     "metadata": {},
     "output_type": "execute_result",
     "execution_count": 2
    }
   ],
   "source": [
    "data_path = '../../data/teranet/'\n",
    "os.listdir(data_path)"
   ],
   "metadata": {
    "collapsed": false,
    "pycharm": {
     "name": "#%%\n",
     "is_executing": false
    }
   }
  },
  {
   "cell_type": "markdown",
   "source": [
    "## Load Teranet data"
   ],
   "metadata": {
    "collapsed": false
   }
  },
  {
   "cell_type": "code",
   "execution_count": 3,
   "outputs": [
    {
     "name": "stderr",
     "text": [
      "/home/stepan/anaconda3/envs/gds/lib/python3.6/site-packages/IPython/core/interactiveshell.py:3058: DtypeWarning: Columns (9) have mixed types. Specify dtype option on import or set low_memory=False.\n  interactivity=interactivity, compiler=compiler, result=result)\n"
     ],
     "output_type": "stream"
    },
    {
     "name": "stdout",
     "text": [
      "----- DataFrame loaded\nin 13.60 seconds\nwith 6,803,691 rows\nand 18 columns\n-- Column names:\n Index(['lro_num', 'pin', 'consideration_amt', 'registration_date',\n       'POSTAL_CODE', 'PROVINCE', 'UNITNO', 'STREET_NAME',\n       'STREET_DESIGNATION', 'STREET_DIRECTION', 'MUNICIPALITY',\n       'STREET_SUFFIX', 'STREET_NUMBER', 'X', 'Y', 'OBJECTID', 'DAUID',\n       'CSDNAME'],\n      dtype='object')\n"
     ],
     "output_type": "stream"
    }
   ],
   "source": [
    "t = time()\n",
    "#df = pd.read_csv(data_path + 'Teranet_with_DA_cols.csv',\n",
    "#                 parse_dates=['registration_date'])\n",
    "df = pd.read_csv(data_path + 'Teranet_with_DA_cols.csv')\n",
    "elapsed = time() - t\n",
    "print(\"----- DataFrame loaded\"\n",
    "      \"\\nin {0:.2f} seconds\".format(elapsed) + \n",
    "      \"\\nwith {0:,} rows\\nand {1:,} columns\"\n",
    "      .format(df.shape[0], df.shape[1]) + \n",
    "      \"\\n-- Column names:\\n\", df.columns)"
   ],
   "metadata": {
    "collapsed": false,
    "pycharm": {
     "name": "#%%\n",
     "is_executing": false
    }
   }
  },
  {
   "cell_type": "code",
   "execution_count": 4,
   "outputs": [
    {
     "data": {
      "text/plain": "Index(['lro_num', 'pin', 'consideration_amt', 'registration_date',\n       'postal_code', 'province', 'unitno', 'street_name',\n       'street_designation', 'street_direction', 'municipality',\n       'street_suffix', 'street_number', 'x', 'y', 'objectid', 'dauid',\n       'csdname'],\n      dtype='object')"
     },
     "metadata": {},
     "output_type": "execute_result",
     "execution_count": 4
    }
   ],
   "source": [
    "df.columns = df.columns.str.lower()\n",
    "df.columns"
   ],
   "metadata": {
    "collapsed": false,
    "pycharm": {
     "name": "#%%\n",
     "is_executing": false
    }
   }
  },
  {
   "cell_type": "markdown",
   "source": [
    "## Multiple transactions\n",
    "There is a number of ways in which multiple transactions can be recorded in the Teranet dataset."
   ],
   "metadata": {
    "collapsed": false,
    "pycharm": {
     "name": "#%% md\n"
    }
   }
  },
  {
   "cell_type": "code",
   "execution_count": 6,
   "outputs": [
    {
     "data": {
      "text/plain": "              pin   registration_date  consideration_amt  unitno  \\\n163593  248580237  12/22/2011 0:00:00          5439000.0     NaN   \n163478  248580237    5/2/2016 0:00:00         10504865.0     NaN   \n163485  248580237   6/29/2017 0:00:00                2.0     NaN   \n\n                             street_name street_designation municipality  \n163593  ,3525,3535 & 3545 REBECCA STREET                NaN     OAKVILLE  \n163478  ,3525,3535 & 3545 REBECCA STREET                NaN     OAKVILLE  \n163485  ,3525,3535 & 3545 REBECCA STREET                NaN     OAKVILLE  ",
      "text/html": "<div>\n<style scoped>\n    .dataframe tbody tr th:only-of-type {\n        vertical-align: middle;\n    }\n\n    .dataframe tbody tr th {\n        vertical-align: top;\n    }\n\n    .dataframe thead th {\n        text-align: right;\n    }\n</style>\n<table border=\"1\" class=\"dataframe\">\n  <thead>\n    <tr style=\"text-align: right;\">\n      <th></th>\n      <th>pin</th>\n      <th>registration_date</th>\n      <th>consideration_amt</th>\n      <th>unitno</th>\n      <th>street_name</th>\n      <th>street_designation</th>\n      <th>municipality</th>\n    </tr>\n  </thead>\n  <tbody>\n    <tr>\n      <th>163593</th>\n      <td>248580237</td>\n      <td>12/22/2011 0:00:00</td>\n      <td>5439000.0</td>\n      <td>NaN</td>\n      <td>,3525,3535 &amp; 3545 REBECCA STREET</td>\n      <td>NaN</td>\n      <td>OAKVILLE</td>\n    </tr>\n    <tr>\n      <th>163478</th>\n      <td>248580237</td>\n      <td>5/2/2016 0:00:00</td>\n      <td>10504865.0</td>\n      <td>NaN</td>\n      <td>,3525,3535 &amp; 3545 REBECCA STREET</td>\n      <td>NaN</td>\n      <td>OAKVILLE</td>\n    </tr>\n    <tr>\n      <th>163485</th>\n      <td>248580237</td>\n      <td>6/29/2017 0:00:00</td>\n      <td>2.0</td>\n      <td>NaN</td>\n      <td>,3525,3535 &amp; 3545 REBECCA STREET</td>\n      <td>NaN</td>\n      <td>OAKVILLE</td>\n    </tr>\n  </tbody>\n</table>\n</div>"
     },
     "metadata": {},
     "output_type": "execute_result",
     "execution_count": 6
    }
   ],
   "source": [
    "mask1 = df['pin'] == 248580237\n",
    "df.loc[mask1, ['pin', 'registration_date', 'consideration_amt', 'unitno', \n",
    "               'street_name', 'street_designation', 'municipality']]\\\n",
    "    .sort_values('registration_date')"
   ],
   "metadata": {
    "collapsed": false,
    "pycharm": {
     "name": "#%%\n",
     "is_executing": false
    }
   }
  }
 ],
 "metadata": {
  "language_info": {
   "codemirror_mode": {
    "name": "ipython",
    "version": 2
   },
   "file_extension": ".py",
   "mimetype": "text/x-python",
   "name": "python",
   "nbconvert_exporter": "python",
   "pygments_lexer": "ipython2",
   "version": "2.7.6"
  },
  "kernelspec": {
   "name": "python3",
   "language": "python",
   "display_name": "Python 3"
  },
  "pycharm": {
   "stem_cell": {
    "cell_type": "raw",
    "source": [],
    "metadata": {
     "collapsed": false
    }
   }
  }
 },
 "nbformat": 4,
 "nbformat_minor": 0
}