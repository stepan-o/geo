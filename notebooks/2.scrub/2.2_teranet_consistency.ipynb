{
 "cells": [
  {
   "cell_type": "markdown",
   "metadata": {},
   "source": [
    "# GTHA housing market database\n",
    "# OSEMN methodology Step 2: Scrub\n",
    "# Step 2.2 Correction of inconsistent entries in the Teranet dataset\n",
    "\n",
    "---\n",
    "\n",
    "This notebook describes Step 2.2 (part of _Step 2: Scrub_ of OSEMN methodology) performed on the Teranet dataset.\n",
    "\n",
    "Step 2.2 focuses on the correction of inconsistent entries in the Teranet dataset. Cleanup plan is presented below.\n",
    "\n",
    "Previous steps included: \n",
    "\n",
    "* Step 2.1 \n",
    "\n",
    "    * the spatial join between the Teranet points and the polygons of GTHA Dissemination Areas (DAs)\n",
    "    \n",
    "    * During step 2.1, Teranet records whose coordinates fall outside of the GTHA boundary (as defined by the DA geometry) have been filtered out (6,803,691 of the original 9,039,241 Teranet records remain in the dataset)\n",
    "     \n",
    "    * In addition to that, three new columns (`OBJECTID`, `DAUID`, and `CSDNAME`) derived from DA attributes have been added to each Teranet transaction\n",
    "\n",
    "---\n",
    "\n",
    "For description of OSEMN methodology, see `methodology/0.osemn/osemn.pdf`.\n",
    "\n",
    "For background information, description of the Teranet dataset, and its attributes, see `methodology/1.obtain/obtain.pdf`.\n",
    "\n",
    "For description of _Step 2: Scrub_ of OSEMN methodology, see `methodology/2.scrub/scrub.pdf`.\n",
    "\n",
    "For description of the cleanup plan for the Teranet dataset, see `methodology/2.scrub/teranet_cleanup_plan.pdf`.\n",
    "\n",
    "For description of Step 2.1 of the cleanup process, see `notebooks/2.scrub/2.1_teranet_gtha_spatial_join.ipynb`.\n",
    "\n",
    "## Cleanup plan\n",
    "\n",
    "1. Convert column names to lower case\n",
    "2. Fix inconsistent capitalizations for values in columns:\n",
    "    * `municipality`\n",
    "    * `street_name`\n",
    "    * `street_designation`\n",
    "    * `postal_code` (do not show problems, preventive measure)\n",
    "3. Remove column `province`\n",
    "4. Parse `postal_code` from `street_name`\n",
    "5. Parse `street_direction` from `street_name`\n",
    "6. Parse `street_designation` from `street_name`\n",
    "7. Investigate missing values\n",
    "8. Remove column `street_suffix`\n",
    "9. Validate consistency of values in column `postal_code`\n",
    "8. Fix inconsistent entries in columns:\n",
    "    * `unitno`\n",
    "    * `street_name`\n",
    "    * `street_designaction`\n",
    "    * `street_direction`\n",
    "    * `municipality`\n",
    "\n",
    "## Import dependencies"
   ]
  },
  {
   "cell_type": "code",
   "execution_count": 1,
   "metadata": {
    "pycharm": {
     "is_executing": false,
     "name": "#%%\n"
    }
   },
   "outputs": [],
   "source": [
    "import pandas as pd\n",
    "import matplotlib\n",
    "import matplotlib.pyplot as plt\n",
    "import seaborn as sns\n",
    "import os\n",
    "from time import time\n",
    "\n",
    "sns.set()"
   ]
  },
  {
   "cell_type": "code",
   "execution_count": 2,
   "metadata": {
    "pycharm": {
     "is_executing": false,
     "name": "#%%\n"
    }
   },
   "outputs": [
    {
     "data": {
      "text/plain": [
       "['Teranet_with_DA_cols.csv', 'HHSaleHistory.csv']"
      ]
     },
     "execution_count": 2,
     "metadata": {},
     "output_type": "execute_result"
    }
   ],
   "source": [
    "data_path = '../../data/teranet/'\n",
    "os.listdir(data_path)"
   ]
  },
  {
   "cell_type": "markdown",
   "metadata": {
    "pycharm": {
     "name": "#%% md\n"
    }
   },
   "source": [
    "## Load Teranet data"
   ]
  },
  {
   "cell_type": "code",
   "execution_count": 3,
   "metadata": {
    "pycharm": {
     "is_executing": false,
     "name": "#%%\n"
    }
   },
   "outputs": [
    {
     "name": "stderr",
     "output_type": "stream",
     "text": [
      "/home/stepan/anaconda3/envs/gds/lib/python3.6/site-packages/IPython/core/interactiveshell.py:3057: DtypeWarning: Columns (9) have mixed types. Specify dtype option on import or set low_memory=False.\n",
      "  interactivity=interactivity, compiler=compiler, result=result)\n"
     ]
    },
    {
     "name": "stdout",
     "output_type": "stream",
     "text": [
      "----- DataFrame loaded\n",
      "in 20.27 seconds\n",
      "with 6,803,691 rows\n",
      "and 18 columns\n",
      "-- Column names:\n",
      " Index(['lro_num', 'pin', 'consideration_amt', 'registration_date',\n",
      "       'POSTAL_CODE', 'PROVINCE', 'UNITNO', 'STREET_NAME',\n",
      "       'STREET_DESIGNATION', 'STREET_DIRECTION', 'MUNICIPALITY',\n",
      "       'STREET_SUFFIX', 'STREET_NUMBER', 'X', 'Y', 'OBJECTID', 'DAUID',\n",
      "       'CSDNAME'],\n",
      "      dtype='object')\n"
     ]
    }
   ],
   "source": [
    "t = time()\n",
    "#df = pd.read_csv(data_path + 'Teranet_with_DA_cols.csv',\n",
    "#                 parse_dates=['registration_date'])\n",
    "df = pd.read_csv(data_path + 'Teranet_with_DA_cols.csv')\n",
    "elapsed = time() - t\n",
    "print(\"----- DataFrame loaded\"\n",
    "      \"\\nin {0:.2f} seconds\".format(elapsed) + \n",
    "      \"\\nwith {0:,} rows\\nand {1:,} columns\"\n",
    "      .format(df.shape[0], df.shape[1]) + \n",
    "      \"\\n-- Column names:\\n\", df.columns)"
   ]
  },
  {
   "cell_type": "markdown",
   "metadata": {
    "pycharm": {
     "name": "#%% md\n"
    }
   },
   "source": [
    "## Step 1: convert column names to lower case"
   ]
  },
  {
   "cell_type": "code",
   "execution_count": 4,
   "metadata": {
    "pycharm": {
     "is_executing": false,
     "name": "#%%\n"
    }
   },
   "outputs": [
    {
     "data": {
      "text/plain": [
       "Index(['lro_num', 'pin', 'consideration_amt', 'registration_date',\n",
       "       'postal_code', 'province', 'unitno', 'street_name',\n",
       "       'street_designation', 'street_direction', 'municipality',\n",
       "       'street_suffix', 'street_number', 'x', 'y', 'objectid', 'dauid',\n",
       "       'csdname'],\n",
       "      dtype='object')"
      ]
     },
     "execution_count": 4,
     "metadata": {},
     "output_type": "execute_result"
    }
   ],
   "source": [
    "df.columns = df.columns.str.lower()\n",
    "df.columns"
   ]
  },
  {
   "cell_type": "markdown",
   "metadata": {
    "pycharm": {
     "name": "#%% md\n"
    }
   },
   "source": [
    "## Step 2: fix inconsistent capitalizations\n",
    "Inconsistent capitalizations are fixed for values in the following columns: \n",
    "* `unitno`\n",
    "* `street_name`\n",
    "* `street_designaction`\n",
    "* `street_direction`\n",
    "* `municipality`"
   ]
  },
  {
   "cell_type": "code",
   "execution_count": 5,
   "metadata": {
    "pycharm": {
     "is_executing": false,
     "name": "#%%\n"
    }
   },
   "outputs": [
    {
     "name": "stdout",
     "output_type": "stream",
     "text": [
      "Capitalizations were fixed! Took 10.97 seconds.\n"
     ]
    }
   ],
   "source": [
    "t = time()\n",
    "df['municipality'] = df['municipality'].str.title()\n",
    "df['street_name'] = df['street_name'].str.title()\n",
    "df['street_designation'] = df['street_designation'].str.capitalize()\n",
    "df['postal_code'] = df['postal_code'].str.upper()\n",
    "elapsed = time() - t\n",
    "print(\"Capitalizations were fixed! Took {0:,.2f} seconds.\".format(elapsed))"
   ]
  },
  {
   "cell_type": "markdown",
   "metadata": {
    "pycharm": {
     "is_executing": false,
     "name": "#%% md\n"
    }
   },
   "source": [
    "## Step 3: Remove column `province`"
   ]
  },
  {
   "cell_type": "code",
   "execution_count": 6,
   "metadata": {
    "pycharm": {
     "is_executing": false,
     "name": "#%%\n"
    }
   },
   "outputs": [
    {
     "name": "stdout",
     "output_type": "stream",
     "text": [
      "Column 'province' was removed from the dataset.\n"
     ]
    }
   ],
   "source": [
    "df = df.drop('province', axis=1)\n",
    "print(\"Column 'province' was removed from the dataset.\")"
   ]
  },
  {
   "cell_type": "markdown",
   "metadata": {},
   "source": [
    "## Step 4: Parse `postal_code` from `street_name`\n",
    "Some Teranet records with missing `postal_code` have it as part of their `street_name` value."
   ]
  },
  {
   "cell_type": "code",
   "execution_count": 7,
   "metadata": {},
   "outputs": [
    {
     "data": {
      "text/html": [
       "<div>\n",
       "<style scoped>\n",
       "    .dataframe tbody tr th:only-of-type {\n",
       "        vertical-align: middle;\n",
       "    }\n",
       "\n",
       "    .dataframe tbody tr th {\n",
       "        vertical-align: top;\n",
       "    }\n",
       "\n",
       "    .dataframe thead th {\n",
       "        text-align: right;\n",
       "    }\n",
       "</style>\n",
       "<table border=\"1\" class=\"dataframe\">\n",
       "  <thead>\n",
       "    <tr style=\"text-align: right;\">\n",
       "      <th></th>\n",
       "      <th>street_name</th>\n",
       "      <th>street_designation</th>\n",
       "      <th>postal_code</th>\n",
       "      <th>municipality</th>\n",
       "    </tr>\n",
       "  </thead>\n",
       "  <tbody>\n",
       "    <tr>\n",
       "      <th>112676</th>\n",
       "      <td>Stoutt Crescent L9T9A2</td>\n",
       "      <td>Cres</td>\n",
       "      <td>L9T9A2</td>\n",
       "      <td>Milton</td>\n",
       "    </tr>\n",
       "    <tr>\n",
       "      <th>112945</th>\n",
       "      <td>Stoutt Crescent L9T9A2</td>\n",
       "      <td>Cres</td>\n",
       "      <td>L9T9A2</td>\n",
       "      <td>Milton</td>\n",
       "    </tr>\n",
       "    <tr>\n",
       "      <th>427026</th>\n",
       "      <td>Dundas St E L0R2H1</td>\n",
       "      <td>NaN</td>\n",
       "      <td>NaN</td>\n",
       "      <td>Waterdown</td>\n",
       "    </tr>\n",
       "    <tr>\n",
       "      <th>428281</th>\n",
       "      <td>Dundas St E L0R2H1</td>\n",
       "      <td>NaN</td>\n",
       "      <td>NaN</td>\n",
       "      <td>Waterdown</td>\n",
       "    </tr>\n",
       "    <tr>\n",
       "      <th>738425</th>\n",
       "      <td>Orton Pk Road   M1G3H2</td>\n",
       "      <td>NaN</td>\n",
       "      <td>NaN</td>\n",
       "      <td>Toronto</td>\n",
       "    </tr>\n",
       "    <tr>\n",
       "      <th>738513</th>\n",
       "      <td>Orton Pk Road   M1G3H2</td>\n",
       "      <td>NaN</td>\n",
       "      <td>NaN</td>\n",
       "      <td>Toronto</td>\n",
       "    </tr>\n",
       "    <tr>\n",
       "      <th>960503</th>\n",
       "      <td>Vines Place  L4G0R6</td>\n",
       "      <td>NaN</td>\n",
       "      <td>NaN</td>\n",
       "      <td>Aurora</td>\n",
       "    </tr>\n",
       "    <tr>\n",
       "      <th>996169</th>\n",
       "      <td>Thorncliffe Pk Drive   M4H1P3</td>\n",
       "      <td>NaN</td>\n",
       "      <td>NaN</td>\n",
       "      <td>East York</td>\n",
       "    </tr>\n",
       "    <tr>\n",
       "      <th>996320</th>\n",
       "      <td>Thorncliffe Pk Drive   M4H1P3</td>\n",
       "      <td>NaN</td>\n",
       "      <td>NaN</td>\n",
       "      <td>East York</td>\n",
       "    </tr>\n",
       "    <tr>\n",
       "      <th>996405</th>\n",
       "      <td>Overlea Boulevard  M4H1P2</td>\n",
       "      <td>NaN</td>\n",
       "      <td>NaN</td>\n",
       "      <td>Toronto</td>\n",
       "    </tr>\n",
       "    <tr>\n",
       "      <th>996662</th>\n",
       "      <td>Thorncliffe Pk Drive   M4H1P3</td>\n",
       "      <td>NaN</td>\n",
       "      <td>NaN</td>\n",
       "      <td>East York</td>\n",
       "    </tr>\n",
       "    <tr>\n",
       "      <th>996797</th>\n",
       "      <td>Overlea Boulevard  M4H1P2</td>\n",
       "      <td>NaN</td>\n",
       "      <td>NaN</td>\n",
       "      <td>Toronto</td>\n",
       "    </tr>\n",
       "    <tr>\n",
       "      <th>997148</th>\n",
       "      <td>Thorncliffe Pk Drive   M4H1P3</td>\n",
       "      <td>NaN</td>\n",
       "      <td>NaN</td>\n",
       "      <td>East York</td>\n",
       "    </tr>\n",
       "    <tr>\n",
       "      <th>997149</th>\n",
       "      <td>Thorncliffe Pk Drive   M4H1P3</td>\n",
       "      <td>NaN</td>\n",
       "      <td>NaN</td>\n",
       "      <td>East York</td>\n",
       "    </tr>\n",
       "    <tr>\n",
       "      <th>997223</th>\n",
       "      <td>Overlea Boulevard  M4H1P2</td>\n",
       "      <td>NaN</td>\n",
       "      <td>NaN</td>\n",
       "      <td>Toronto</td>\n",
       "    </tr>\n",
       "    <tr>\n",
       "      <th>1005071</th>\n",
       "      <td>Yonge Street L4G1Y3</td>\n",
       "      <td>NaN</td>\n",
       "      <td>NaN</td>\n",
       "      <td>Aurora</td>\n",
       "    </tr>\n",
       "    <tr>\n",
       "      <th>1005072</th>\n",
       "      <td>Yonge Street  L4G1Y3</td>\n",
       "      <td>NaN</td>\n",
       "      <td>NaN</td>\n",
       "      <td>Aurora</td>\n",
       "    </tr>\n",
       "    <tr>\n",
       "      <th>1005073</th>\n",
       "      <td>Yonge Street  L4G1Y3</td>\n",
       "      <td>NaN</td>\n",
       "      <td>NaN</td>\n",
       "      <td>Aurora</td>\n",
       "    </tr>\n",
       "    <tr>\n",
       "      <th>1049211</th>\n",
       "      <td>Victoria Pk Avenue M4B2J2</td>\n",
       "      <td>NaN</td>\n",
       "      <td>NaN</td>\n",
       "      <td>Toronto</td>\n",
       "    </tr>\n",
       "    <tr>\n",
       "      <th>1049477</th>\n",
       "      <td>Victoria Pk Avenue M4B2J2</td>\n",
       "      <td>NaN</td>\n",
       "      <td>NaN</td>\n",
       "      <td>Toronto</td>\n",
       "    </tr>\n",
       "    <tr>\n",
       "      <th>1141362</th>\n",
       "      <td>Sheppard Avenue M2N5X8</td>\n",
       "      <td>NaN</td>\n",
       "      <td>NaN</td>\n",
       "      <td>Keswick</td>\n",
       "    </tr>\n",
       "    <tr>\n",
       "      <th>1141524</th>\n",
       "      <td>Sheppard Avenue M2N5X8</td>\n",
       "      <td>NaN</td>\n",
       "      <td>NaN</td>\n",
       "      <td>Keswick</td>\n",
       "    </tr>\n",
       "    <tr>\n",
       "      <th>1209930</th>\n",
       "      <td>Green Road L8E6A8</td>\n",
       "      <td>NaN</td>\n",
       "      <td>NaN</td>\n",
       "      <td>Stoney Creek</td>\n",
       "    </tr>\n",
       "    <tr>\n",
       "      <th>1210268</th>\n",
       "      <td>Green Road L8E6A8</td>\n",
       "      <td>NaN</td>\n",
       "      <td>NaN</td>\n",
       "      <td>Stoney Creek</td>\n",
       "    </tr>\n",
       "    <tr>\n",
       "      <th>1210593</th>\n",
       "      <td>Green Road L8E6A8</td>\n",
       "      <td>NaN</td>\n",
       "      <td>NaN</td>\n",
       "      <td>Stoney Creek</td>\n",
       "    </tr>\n",
       "    <tr>\n",
       "      <th>1210776</th>\n",
       "      <td>Green Road L8E6A8</td>\n",
       "      <td>NaN</td>\n",
       "      <td>NaN</td>\n",
       "      <td>Stoney Creek</td>\n",
       "    </tr>\n",
       "    <tr>\n",
       "      <th>1295168</th>\n",
       "      <td>Bayview Ave L4P2T2</td>\n",
       "      <td>Ave</td>\n",
       "      <td>L4P2T2</td>\n",
       "      <td>Keswick</td>\n",
       "    </tr>\n",
       "    <tr>\n",
       "      <th>1295308</th>\n",
       "      <td>Bayview Ave L4P2T2</td>\n",
       "      <td>Ave</td>\n",
       "      <td>L4P2T2</td>\n",
       "      <td>Keswick</td>\n",
       "    </tr>\n",
       "    <tr>\n",
       "      <th>1295569</th>\n",
       "      <td>Bayview Ave L4P2T2</td>\n",
       "      <td>Ave</td>\n",
       "      <td>L4P2T2</td>\n",
       "      <td>Keswick</td>\n",
       "    </tr>\n",
       "    <tr>\n",
       "      <th>1959388</th>\n",
       "      <td>Orchard Park Blvd M4L3E2</td>\n",
       "      <td>NaN</td>\n",
       "      <td>NaN</td>\n",
       "      <td>Toronto</td>\n",
       "    </tr>\n",
       "    <tr>\n",
       "      <th>...</th>\n",
       "      <td>...</td>\n",
       "      <td>...</td>\n",
       "      <td>...</td>\n",
       "      <td>...</td>\n",
       "    </tr>\n",
       "    <tr>\n",
       "      <th>5195862</th>\n",
       "      <td>Elgin Street L3T4T4</td>\n",
       "      <td>NaN</td>\n",
       "      <td>NaN</td>\n",
       "      <td>Markham</td>\n",
       "    </tr>\n",
       "    <tr>\n",
       "      <th>5195875</th>\n",
       "      <td>Elgin Street L3T4T4</td>\n",
       "      <td>NaN</td>\n",
       "      <td>NaN</td>\n",
       "      <td>Markham</td>\n",
       "    </tr>\n",
       "    <tr>\n",
       "      <th>5196270</th>\n",
       "      <td>Elgin Street L3T4T4</td>\n",
       "      <td>NaN</td>\n",
       "      <td>NaN</td>\n",
       "      <td>Markham</td>\n",
       "    </tr>\n",
       "    <tr>\n",
       "      <th>5310013</th>\n",
       "      <td>Quaker Trail    L3X3E2</td>\n",
       "      <td>NaN</td>\n",
       "      <td>NaN</td>\n",
       "      <td>Newmarket</td>\n",
       "    </tr>\n",
       "    <tr>\n",
       "      <th>5310064</th>\n",
       "      <td>Quaker Trail    L3X3E2</td>\n",
       "      <td>NaN</td>\n",
       "      <td>NaN</td>\n",
       "      <td>Newmarket</td>\n",
       "    </tr>\n",
       "    <tr>\n",
       "      <th>5354338</th>\n",
       "      <td>Mississauga Valey Blv  L5A3R6</td>\n",
       "      <td>NaN</td>\n",
       "      <td>NaN</td>\n",
       "      <td>Mississauga</td>\n",
       "    </tr>\n",
       "    <tr>\n",
       "      <th>5354501</th>\n",
       "      <td>Mississauga Valey Blv  L5A3R6</td>\n",
       "      <td>NaN</td>\n",
       "      <td>NaN</td>\n",
       "      <td>Mississauga</td>\n",
       "    </tr>\n",
       "    <tr>\n",
       "      <th>5355422</th>\n",
       "      <td>Mississauga Valey Blv  L5A3R6</td>\n",
       "      <td>NaN</td>\n",
       "      <td>NaN</td>\n",
       "      <td>Mississauga</td>\n",
       "    </tr>\n",
       "    <tr>\n",
       "      <th>5356025</th>\n",
       "      <td>Mississauga Valey Blv  L5A3R6</td>\n",
       "      <td>NaN</td>\n",
       "      <td>NaN</td>\n",
       "      <td>Mississauga</td>\n",
       "    </tr>\n",
       "    <tr>\n",
       "      <th>5753100</th>\n",
       "      <td>Mississauga Valley Blvd L5A3S1</td>\n",
       "      <td>NaN</td>\n",
       "      <td>NaN</td>\n",
       "      <td>Mississauga</td>\n",
       "    </tr>\n",
       "    <tr>\n",
       "      <th>5753259</th>\n",
       "      <td>Mississauga Valley Blvd L5A3S1</td>\n",
       "      <td>NaN</td>\n",
       "      <td>NaN</td>\n",
       "      <td>Mississauga</td>\n",
       "    </tr>\n",
       "    <tr>\n",
       "      <th>5753365</th>\n",
       "      <td>Mississauga Valley Blvd L5A3S1</td>\n",
       "      <td>NaN</td>\n",
       "      <td>NaN</td>\n",
       "      <td>Mississauga</td>\n",
       "    </tr>\n",
       "    <tr>\n",
       "      <th>5753534</th>\n",
       "      <td>Mississ Vly Boulevard L5A3S2</td>\n",
       "      <td>NaN</td>\n",
       "      <td>NaN</td>\n",
       "      <td>Mississauga</td>\n",
       "    </tr>\n",
       "    <tr>\n",
       "      <th>5753668</th>\n",
       "      <td>Mississ Vly Boulevard L5A3S2</td>\n",
       "      <td>NaN</td>\n",
       "      <td>NaN</td>\n",
       "      <td>Mississauga</td>\n",
       "    </tr>\n",
       "    <tr>\n",
       "      <th>5753717</th>\n",
       "      <td>Mississ Vly Boulevard L5A3S2</td>\n",
       "      <td>NaN</td>\n",
       "      <td>NaN</td>\n",
       "      <td>Mississauga</td>\n",
       "    </tr>\n",
       "    <tr>\n",
       "      <th>5753740</th>\n",
       "      <td>Mississauga Valley Blvd L5A3S1</td>\n",
       "      <td>NaN</td>\n",
       "      <td>NaN</td>\n",
       "      <td>Mississauga</td>\n",
       "    </tr>\n",
       "    <tr>\n",
       "      <th>5753894</th>\n",
       "      <td>Mississauga Valley Blvd L5A3S1</td>\n",
       "      <td>NaN</td>\n",
       "      <td>NaN</td>\n",
       "      <td>Mississauga</td>\n",
       "    </tr>\n",
       "    <tr>\n",
       "      <th>5753954</th>\n",
       "      <td>Mississ Vly Boulevard L5A3S2</td>\n",
       "      <td>NaN</td>\n",
       "      <td>NaN</td>\n",
       "      <td>Mississauga</td>\n",
       "    </tr>\n",
       "    <tr>\n",
       "      <th>5754288</th>\n",
       "      <td>Mississauga Valley Blvd L5A3S1</td>\n",
       "      <td>NaN</td>\n",
       "      <td>NaN</td>\n",
       "      <td>Mississauga</td>\n",
       "    </tr>\n",
       "    <tr>\n",
       "      <th>5792662</th>\n",
       "      <td>Lovingston Court  L4W4C7</td>\n",
       "      <td>NaN</td>\n",
       "      <td>NaN</td>\n",
       "      <td>Mississauga</td>\n",
       "    </tr>\n",
       "    <tr>\n",
       "      <th>5884056</th>\n",
       "      <td>Morningstar Drive L4T1Y5</td>\n",
       "      <td>NaN</td>\n",
       "      <td>NaN</td>\n",
       "      <td>Mississauga</td>\n",
       "    </tr>\n",
       "    <tr>\n",
       "      <th>5884095</th>\n",
       "      <td>Morningstar Drive L4T1Y5</td>\n",
       "      <td>NaN</td>\n",
       "      <td>NaN</td>\n",
       "      <td>Mississauga</td>\n",
       "    </tr>\n",
       "    <tr>\n",
       "      <th>5902083</th>\n",
       "      <td>Cobourg Court L4B4E1</td>\n",
       "      <td>Cres</td>\n",
       "      <td>L4B4E1</td>\n",
       "      <td>Richmond Hill</td>\n",
       "    </tr>\n",
       "    <tr>\n",
       "      <th>5902232</th>\n",
       "      <td>Cobourg Court L4B4E1</td>\n",
       "      <td>Cres</td>\n",
       "      <td>L4B4E1</td>\n",
       "      <td>Richmond Hill</td>\n",
       "    </tr>\n",
       "    <tr>\n",
       "      <th>5904060</th>\n",
       "      <td>Cobourg Court L4B4E1</td>\n",
       "      <td>Cres</td>\n",
       "      <td>L4B4E1</td>\n",
       "      <td>Richmond Hill</td>\n",
       "    </tr>\n",
       "    <tr>\n",
       "      <th>5919648</th>\n",
       "      <td>Tailfeather Cres L4Z2Z5</td>\n",
       "      <td>NaN</td>\n",
       "      <td>NaN</td>\n",
       "      <td>Mississauga</td>\n",
       "    </tr>\n",
       "    <tr>\n",
       "      <th>5919873</th>\n",
       "      <td>Tailfeather Cres L4Z2Z5</td>\n",
       "      <td>NaN</td>\n",
       "      <td>NaN</td>\n",
       "      <td>Mississauga</td>\n",
       "    </tr>\n",
       "    <tr>\n",
       "      <th>6396018</th>\n",
       "      <td>Shallimar Court L6X4N2</td>\n",
       "      <td>NaN</td>\n",
       "      <td>NaN</td>\n",
       "      <td>Brampton</td>\n",
       "    </tr>\n",
       "    <tr>\n",
       "      <th>6396197</th>\n",
       "      <td>Shallimar Court L6X4N2</td>\n",
       "      <td>NaN</td>\n",
       "      <td>NaN</td>\n",
       "      <td>Brampton</td>\n",
       "    </tr>\n",
       "    <tr>\n",
       "      <th>6396485</th>\n",
       "      <td>Shallimar Court L6X4N2</td>\n",
       "      <td>NaN</td>\n",
       "      <td>NaN</td>\n",
       "      <td>Brampton</td>\n",
       "    </tr>\n",
       "  </tbody>\n",
       "</table>\n",
       "<p>147 rows × 4 columns</p>\n",
       "</div>"
      ],
      "text/plain": [
       "                            street_name street_designation postal_code  \\\n",
       "112676           Stoutt Crescent L9T9A2               Cres      L9T9A2   \n",
       "112945           Stoutt Crescent L9T9A2               Cres      L9T9A2   \n",
       "427026               Dundas St E L0R2H1                NaN         NaN   \n",
       "428281               Dundas St E L0R2H1                NaN         NaN   \n",
       "738425           Orton Pk Road   M1G3H2                NaN         NaN   \n",
       "738513           Orton Pk Road   M1G3H2                NaN         NaN   \n",
       "960503              Vines Place  L4G0R6                NaN         NaN   \n",
       "996169    Thorncliffe Pk Drive   M4H1P3                NaN         NaN   \n",
       "996320    Thorncliffe Pk Drive   M4H1P3                NaN         NaN   \n",
       "996405        Overlea Boulevard  M4H1P2                NaN         NaN   \n",
       "996662    Thorncliffe Pk Drive   M4H1P3                NaN         NaN   \n",
       "996797        Overlea Boulevard  M4H1P2                NaN         NaN   \n",
       "997148    Thorncliffe Pk Drive   M4H1P3                NaN         NaN   \n",
       "997149    Thorncliffe Pk Drive   M4H1P3                NaN         NaN   \n",
       "997223        Overlea Boulevard  M4H1P2                NaN         NaN   \n",
       "1005071             Yonge Street L4G1Y3                NaN         NaN   \n",
       "1005072            Yonge Street  L4G1Y3                NaN         NaN   \n",
       "1005073            Yonge Street  L4G1Y3                NaN         NaN   \n",
       "1049211       Victoria Pk Avenue M4B2J2                NaN         NaN   \n",
       "1049477       Victoria Pk Avenue M4B2J2                NaN         NaN   \n",
       "1141362          Sheppard Avenue M2N5X8                NaN         NaN   \n",
       "1141524          Sheppard Avenue M2N5X8                NaN         NaN   \n",
       "1209930               Green Road L8E6A8                NaN         NaN   \n",
       "1210268               Green Road L8E6A8                NaN         NaN   \n",
       "1210593               Green Road L8E6A8                NaN         NaN   \n",
       "1210776               Green Road L8E6A8                NaN         NaN   \n",
       "1295168              Bayview Ave L4P2T2                Ave      L4P2T2   \n",
       "1295308              Bayview Ave L4P2T2                Ave      L4P2T2   \n",
       "1295569              Bayview Ave L4P2T2                Ave      L4P2T2   \n",
       "1959388        Orchard Park Blvd M4L3E2                NaN         NaN   \n",
       "...                                 ...                ...         ...   \n",
       "5195862             Elgin Street L3T4T4                NaN         NaN   \n",
       "5195875             Elgin Street L3T4T4                NaN         NaN   \n",
       "5196270             Elgin Street L3T4T4                NaN         NaN   \n",
       "5310013          Quaker Trail    L3X3E2                NaN         NaN   \n",
       "5310064          Quaker Trail    L3X3E2                NaN         NaN   \n",
       "5354338   Mississauga Valey Blv  L5A3R6                NaN         NaN   \n",
       "5354501   Mississauga Valey Blv  L5A3R6                NaN         NaN   \n",
       "5355422   Mississauga Valey Blv  L5A3R6                NaN         NaN   \n",
       "5356025   Mississauga Valey Blv  L5A3R6                NaN         NaN   \n",
       "5753100  Mississauga Valley Blvd L5A3S1                NaN         NaN   \n",
       "5753259  Mississauga Valley Blvd L5A3S1                NaN         NaN   \n",
       "5753365  Mississauga Valley Blvd L5A3S1                NaN         NaN   \n",
       "5753534    Mississ Vly Boulevard L5A3S2                NaN         NaN   \n",
       "5753668    Mississ Vly Boulevard L5A3S2                NaN         NaN   \n",
       "5753717    Mississ Vly Boulevard L5A3S2                NaN         NaN   \n",
       "5753740  Mississauga Valley Blvd L5A3S1                NaN         NaN   \n",
       "5753894  Mississauga Valley Blvd L5A3S1                NaN         NaN   \n",
       "5753954    Mississ Vly Boulevard L5A3S2                NaN         NaN   \n",
       "5754288  Mississauga Valley Blvd L5A3S1                NaN         NaN   \n",
       "5792662        Lovingston Court  L4W4C7                NaN         NaN   \n",
       "5884056        Morningstar Drive L4T1Y5                NaN         NaN   \n",
       "5884095        Morningstar Drive L4T1Y5                NaN         NaN   \n",
       "5902083            Cobourg Court L4B4E1               Cres      L4B4E1   \n",
       "5902232            Cobourg Court L4B4E1               Cres      L4B4E1   \n",
       "5904060            Cobourg Court L4B4E1               Cres      L4B4E1   \n",
       "5919648         Tailfeather Cres L4Z2Z5                NaN         NaN   \n",
       "5919873         Tailfeather Cres L4Z2Z5                NaN         NaN   \n",
       "6396018          Shallimar Court L6X4N2                NaN         NaN   \n",
       "6396197          Shallimar Court L6X4N2                NaN         NaN   \n",
       "6396485          Shallimar Court L6X4N2                NaN         NaN   \n",
       "\n",
       "          municipality  \n",
       "112676          Milton  \n",
       "112945          Milton  \n",
       "427026       Waterdown  \n",
       "428281       Waterdown  \n",
       "738425         Toronto  \n",
       "738513         Toronto  \n",
       "960503          Aurora  \n",
       "996169       East York  \n",
       "996320       East York  \n",
       "996405         Toronto  \n",
       "996662       East York  \n",
       "996797         Toronto  \n",
       "997148       East York  \n",
       "997149       East York  \n",
       "997223         Toronto  \n",
       "1005071         Aurora  \n",
       "1005072         Aurora  \n",
       "1005073         Aurora  \n",
       "1049211        Toronto  \n",
       "1049477        Toronto  \n",
       "1141362        Keswick  \n",
       "1141524        Keswick  \n",
       "1209930   Stoney Creek  \n",
       "1210268   Stoney Creek  \n",
       "1210593   Stoney Creek  \n",
       "1210776   Stoney Creek  \n",
       "1295168        Keswick  \n",
       "1295308        Keswick  \n",
       "1295569        Keswick  \n",
       "1959388        Toronto  \n",
       "...                ...  \n",
       "5195862        Markham  \n",
       "5195875        Markham  \n",
       "5196270        Markham  \n",
       "5310013      Newmarket  \n",
       "5310064      Newmarket  \n",
       "5354338    Mississauga  \n",
       "5354501    Mississauga  \n",
       "5355422    Mississauga  \n",
       "5356025    Mississauga  \n",
       "5753100    Mississauga  \n",
       "5753259    Mississauga  \n",
       "5753365    Mississauga  \n",
       "5753534    Mississauga  \n",
       "5753668    Mississauga  \n",
       "5753717    Mississauga  \n",
       "5753740    Mississauga  \n",
       "5753894    Mississauga  \n",
       "5753954    Mississauga  \n",
       "5754288    Mississauga  \n",
       "5792662    Mississauga  \n",
       "5884056    Mississauga  \n",
       "5884095    Mississauga  \n",
       "5902083  Richmond Hill  \n",
       "5902232  Richmond Hill  \n",
       "5904060  Richmond Hill  \n",
       "5919648    Mississauga  \n",
       "5919873    Mississauga  \n",
       "6396018       Brampton  \n",
       "6396197       Brampton  \n",
       "6396485       Brampton  \n",
       "\n",
       "[147 rows x 4 columns]"
      ]
     },
     "execution_count": 7,
     "metadata": {},
     "output_type": "execute_result"
    }
   ],
   "source": [
    "mask1 = df['street_name'].str.contains('[A-Z]\\d[A-Z]\\d[A-Z]\\d', na=False, case=False)\n",
    "df.loc[mask1, ['street_name', 'street_designation', 'postal_code', 'municipality']]"
   ]
  },
  {
   "cell_type": "markdown",
   "metadata": {},
   "source": [
    "### Extract `postal_code` from `street_name`"
   ]
  },
  {
   "cell_type": "code",
   "execution_count": 8,
   "metadata": {},
   "outputs": [
    {
     "data": {
      "text/html": [
       "<div>\n",
       "<style scoped>\n",
       "    .dataframe tbody tr th:only-of-type {\n",
       "        vertical-align: middle;\n",
       "    }\n",
       "\n",
       "    .dataframe tbody tr th {\n",
       "        vertical-align: top;\n",
       "    }\n",
       "\n",
       "    .dataframe thead th {\n",
       "        text-align: right;\n",
       "    }\n",
       "</style>\n",
       "<table border=\"1\" class=\"dataframe\">\n",
       "  <thead>\n",
       "    <tr style=\"text-align: right;\">\n",
       "      <th></th>\n",
       "      <th>street_name</th>\n",
       "      <th>street_designation</th>\n",
       "      <th>postal_code</th>\n",
       "      <th>municipality</th>\n",
       "    </tr>\n",
       "  </thead>\n",
       "  <tbody>\n",
       "    <tr>\n",
       "      <th>112676</th>\n",
       "      <td>Stoutt Crescent</td>\n",
       "      <td>Cres</td>\n",
       "      <td>L9T9A2</td>\n",
       "      <td>Milton</td>\n",
       "    </tr>\n",
       "    <tr>\n",
       "      <th>112945</th>\n",
       "      <td>Stoutt Crescent</td>\n",
       "      <td>Cres</td>\n",
       "      <td>L9T9A2</td>\n",
       "      <td>Milton</td>\n",
       "    </tr>\n",
       "    <tr>\n",
       "      <th>427026</th>\n",
       "      <td>Dundas St E</td>\n",
       "      <td>NaN</td>\n",
       "      <td>L0R2H1</td>\n",
       "      <td>Waterdown</td>\n",
       "    </tr>\n",
       "    <tr>\n",
       "      <th>428281</th>\n",
       "      <td>Dundas St E</td>\n",
       "      <td>NaN</td>\n",
       "      <td>L0R2H1</td>\n",
       "      <td>Waterdown</td>\n",
       "    </tr>\n",
       "    <tr>\n",
       "      <th>738425</th>\n",
       "      <td>Orton Pk Road</td>\n",
       "      <td>NaN</td>\n",
       "      <td>M1G3H2</td>\n",
       "      <td>Toronto</td>\n",
       "    </tr>\n",
       "    <tr>\n",
       "      <th>738513</th>\n",
       "      <td>Orton Pk Road</td>\n",
       "      <td>NaN</td>\n",
       "      <td>M1G3H2</td>\n",
       "      <td>Toronto</td>\n",
       "    </tr>\n",
       "    <tr>\n",
       "      <th>960503</th>\n",
       "      <td>Vines Place</td>\n",
       "      <td>NaN</td>\n",
       "      <td>L4G0R6</td>\n",
       "      <td>Aurora</td>\n",
       "    </tr>\n",
       "    <tr>\n",
       "      <th>996169</th>\n",
       "      <td>Thorncliffe Pk Drive</td>\n",
       "      <td>NaN</td>\n",
       "      <td>M4H1P3</td>\n",
       "      <td>East York</td>\n",
       "    </tr>\n",
       "    <tr>\n",
       "      <th>996320</th>\n",
       "      <td>Thorncliffe Pk Drive</td>\n",
       "      <td>NaN</td>\n",
       "      <td>M4H1P3</td>\n",
       "      <td>East York</td>\n",
       "    </tr>\n",
       "    <tr>\n",
       "      <th>996405</th>\n",
       "      <td>Overlea Boulevard</td>\n",
       "      <td>NaN</td>\n",
       "      <td>M4H1P2</td>\n",
       "      <td>Toronto</td>\n",
       "    </tr>\n",
       "    <tr>\n",
       "      <th>996662</th>\n",
       "      <td>Thorncliffe Pk Drive</td>\n",
       "      <td>NaN</td>\n",
       "      <td>M4H1P3</td>\n",
       "      <td>East York</td>\n",
       "    </tr>\n",
       "    <tr>\n",
       "      <th>996797</th>\n",
       "      <td>Overlea Boulevard</td>\n",
       "      <td>NaN</td>\n",
       "      <td>M4H1P2</td>\n",
       "      <td>Toronto</td>\n",
       "    </tr>\n",
       "    <tr>\n",
       "      <th>997148</th>\n",
       "      <td>Thorncliffe Pk Drive</td>\n",
       "      <td>NaN</td>\n",
       "      <td>M4H1P3</td>\n",
       "      <td>East York</td>\n",
       "    </tr>\n",
       "    <tr>\n",
       "      <th>997149</th>\n",
       "      <td>Thorncliffe Pk Drive</td>\n",
       "      <td>NaN</td>\n",
       "      <td>M4H1P3</td>\n",
       "      <td>East York</td>\n",
       "    </tr>\n",
       "    <tr>\n",
       "      <th>997223</th>\n",
       "      <td>Overlea Boulevard</td>\n",
       "      <td>NaN</td>\n",
       "      <td>M4H1P2</td>\n",
       "      <td>Toronto</td>\n",
       "    </tr>\n",
       "    <tr>\n",
       "      <th>1005071</th>\n",
       "      <td>Yonge Street</td>\n",
       "      <td>NaN</td>\n",
       "      <td>L4G1Y3</td>\n",
       "      <td>Aurora</td>\n",
       "    </tr>\n",
       "    <tr>\n",
       "      <th>1005072</th>\n",
       "      <td>Yonge Street</td>\n",
       "      <td>NaN</td>\n",
       "      <td>L4G1Y3</td>\n",
       "      <td>Aurora</td>\n",
       "    </tr>\n",
       "    <tr>\n",
       "      <th>1005073</th>\n",
       "      <td>Yonge Street</td>\n",
       "      <td>NaN</td>\n",
       "      <td>L4G1Y3</td>\n",
       "      <td>Aurora</td>\n",
       "    </tr>\n",
       "    <tr>\n",
       "      <th>1049211</th>\n",
       "      <td>Victoria Pk Avenue</td>\n",
       "      <td>NaN</td>\n",
       "      <td>M4B2J2</td>\n",
       "      <td>Toronto</td>\n",
       "    </tr>\n",
       "    <tr>\n",
       "      <th>1049477</th>\n",
       "      <td>Victoria Pk Avenue</td>\n",
       "      <td>NaN</td>\n",
       "      <td>M4B2J2</td>\n",
       "      <td>Toronto</td>\n",
       "    </tr>\n",
       "    <tr>\n",
       "      <th>1141362</th>\n",
       "      <td>Sheppard Avenue</td>\n",
       "      <td>NaN</td>\n",
       "      <td>M2N5X8</td>\n",
       "      <td>Keswick</td>\n",
       "    </tr>\n",
       "    <tr>\n",
       "      <th>1141524</th>\n",
       "      <td>Sheppard Avenue</td>\n",
       "      <td>NaN</td>\n",
       "      <td>M2N5X8</td>\n",
       "      <td>Keswick</td>\n",
       "    </tr>\n",
       "    <tr>\n",
       "      <th>1209930</th>\n",
       "      <td>Green Road</td>\n",
       "      <td>NaN</td>\n",
       "      <td>L8E6A8</td>\n",
       "      <td>Stoney Creek</td>\n",
       "    </tr>\n",
       "    <tr>\n",
       "      <th>1210268</th>\n",
       "      <td>Green Road</td>\n",
       "      <td>NaN</td>\n",
       "      <td>L8E6A8</td>\n",
       "      <td>Stoney Creek</td>\n",
       "    </tr>\n",
       "    <tr>\n",
       "      <th>1210593</th>\n",
       "      <td>Green Road</td>\n",
       "      <td>NaN</td>\n",
       "      <td>L8E6A8</td>\n",
       "      <td>Stoney Creek</td>\n",
       "    </tr>\n",
       "    <tr>\n",
       "      <th>1210776</th>\n",
       "      <td>Green Road</td>\n",
       "      <td>NaN</td>\n",
       "      <td>L8E6A8</td>\n",
       "      <td>Stoney Creek</td>\n",
       "    </tr>\n",
       "    <tr>\n",
       "      <th>1295168</th>\n",
       "      <td>Bayview Ave</td>\n",
       "      <td>Ave</td>\n",
       "      <td>L4P2T2</td>\n",
       "      <td>Keswick</td>\n",
       "    </tr>\n",
       "    <tr>\n",
       "      <th>1295308</th>\n",
       "      <td>Bayview Ave</td>\n",
       "      <td>Ave</td>\n",
       "      <td>L4P2T2</td>\n",
       "      <td>Keswick</td>\n",
       "    </tr>\n",
       "    <tr>\n",
       "      <th>1295569</th>\n",
       "      <td>Bayview Ave</td>\n",
       "      <td>Ave</td>\n",
       "      <td>L4P2T2</td>\n",
       "      <td>Keswick</td>\n",
       "    </tr>\n",
       "    <tr>\n",
       "      <th>1959388</th>\n",
       "      <td>Orchard Park Blvd</td>\n",
       "      <td>NaN</td>\n",
       "      <td>M4L3E2</td>\n",
       "      <td>Toronto</td>\n",
       "    </tr>\n",
       "    <tr>\n",
       "      <th>...</th>\n",
       "      <td>...</td>\n",
       "      <td>...</td>\n",
       "      <td>...</td>\n",
       "      <td>...</td>\n",
       "    </tr>\n",
       "    <tr>\n",
       "      <th>5195862</th>\n",
       "      <td>Elgin Street</td>\n",
       "      <td>NaN</td>\n",
       "      <td>L3T4T4</td>\n",
       "      <td>Markham</td>\n",
       "    </tr>\n",
       "    <tr>\n",
       "      <th>5195875</th>\n",
       "      <td>Elgin Street</td>\n",
       "      <td>NaN</td>\n",
       "      <td>L3T4T4</td>\n",
       "      <td>Markham</td>\n",
       "    </tr>\n",
       "    <tr>\n",
       "      <th>5196270</th>\n",
       "      <td>Elgin Street</td>\n",
       "      <td>NaN</td>\n",
       "      <td>L3T4T4</td>\n",
       "      <td>Markham</td>\n",
       "    </tr>\n",
       "    <tr>\n",
       "      <th>5310013</th>\n",
       "      <td>Quaker Trail</td>\n",
       "      <td>NaN</td>\n",
       "      <td>L3X3E2</td>\n",
       "      <td>Newmarket</td>\n",
       "    </tr>\n",
       "    <tr>\n",
       "      <th>5310064</th>\n",
       "      <td>Quaker Trail</td>\n",
       "      <td>NaN</td>\n",
       "      <td>L3X3E2</td>\n",
       "      <td>Newmarket</td>\n",
       "    </tr>\n",
       "    <tr>\n",
       "      <th>5354338</th>\n",
       "      <td>Mississauga Valey Blv</td>\n",
       "      <td>NaN</td>\n",
       "      <td>L5A3R6</td>\n",
       "      <td>Mississauga</td>\n",
       "    </tr>\n",
       "    <tr>\n",
       "      <th>5354501</th>\n",
       "      <td>Mississauga Valey Blv</td>\n",
       "      <td>NaN</td>\n",
       "      <td>L5A3R6</td>\n",
       "      <td>Mississauga</td>\n",
       "    </tr>\n",
       "    <tr>\n",
       "      <th>5355422</th>\n",
       "      <td>Mississauga Valey Blv</td>\n",
       "      <td>NaN</td>\n",
       "      <td>L5A3R6</td>\n",
       "      <td>Mississauga</td>\n",
       "    </tr>\n",
       "    <tr>\n",
       "      <th>5356025</th>\n",
       "      <td>Mississauga Valey Blv</td>\n",
       "      <td>NaN</td>\n",
       "      <td>L5A3R6</td>\n",
       "      <td>Mississauga</td>\n",
       "    </tr>\n",
       "    <tr>\n",
       "      <th>5753100</th>\n",
       "      <td>Mississauga Valley Blvd</td>\n",
       "      <td>NaN</td>\n",
       "      <td>L5A3S1</td>\n",
       "      <td>Mississauga</td>\n",
       "    </tr>\n",
       "    <tr>\n",
       "      <th>5753259</th>\n",
       "      <td>Mississauga Valley Blvd</td>\n",
       "      <td>NaN</td>\n",
       "      <td>L5A3S1</td>\n",
       "      <td>Mississauga</td>\n",
       "    </tr>\n",
       "    <tr>\n",
       "      <th>5753365</th>\n",
       "      <td>Mississauga Valley Blvd</td>\n",
       "      <td>NaN</td>\n",
       "      <td>L5A3S1</td>\n",
       "      <td>Mississauga</td>\n",
       "    </tr>\n",
       "    <tr>\n",
       "      <th>5753534</th>\n",
       "      <td>Mississ Vly Boulevard</td>\n",
       "      <td>NaN</td>\n",
       "      <td>L5A3S2</td>\n",
       "      <td>Mississauga</td>\n",
       "    </tr>\n",
       "    <tr>\n",
       "      <th>5753668</th>\n",
       "      <td>Mississ Vly Boulevard</td>\n",
       "      <td>NaN</td>\n",
       "      <td>L5A3S2</td>\n",
       "      <td>Mississauga</td>\n",
       "    </tr>\n",
       "    <tr>\n",
       "      <th>5753717</th>\n",
       "      <td>Mississ Vly Boulevard</td>\n",
       "      <td>NaN</td>\n",
       "      <td>L5A3S2</td>\n",
       "      <td>Mississauga</td>\n",
       "    </tr>\n",
       "    <tr>\n",
       "      <th>5753740</th>\n",
       "      <td>Mississauga Valley Blvd</td>\n",
       "      <td>NaN</td>\n",
       "      <td>L5A3S1</td>\n",
       "      <td>Mississauga</td>\n",
       "    </tr>\n",
       "    <tr>\n",
       "      <th>5753894</th>\n",
       "      <td>Mississauga Valley Blvd</td>\n",
       "      <td>NaN</td>\n",
       "      <td>L5A3S1</td>\n",
       "      <td>Mississauga</td>\n",
       "    </tr>\n",
       "    <tr>\n",
       "      <th>5753954</th>\n",
       "      <td>Mississ Vly Boulevard</td>\n",
       "      <td>NaN</td>\n",
       "      <td>L5A3S2</td>\n",
       "      <td>Mississauga</td>\n",
       "    </tr>\n",
       "    <tr>\n",
       "      <th>5754288</th>\n",
       "      <td>Mississauga Valley Blvd</td>\n",
       "      <td>NaN</td>\n",
       "      <td>L5A3S1</td>\n",
       "      <td>Mississauga</td>\n",
       "    </tr>\n",
       "    <tr>\n",
       "      <th>5792662</th>\n",
       "      <td>Lovingston Court</td>\n",
       "      <td>NaN</td>\n",
       "      <td>L4W4C7</td>\n",
       "      <td>Mississauga</td>\n",
       "    </tr>\n",
       "    <tr>\n",
       "      <th>5884056</th>\n",
       "      <td>Morningstar Drive</td>\n",
       "      <td>NaN</td>\n",
       "      <td>L4T1Y5</td>\n",
       "      <td>Mississauga</td>\n",
       "    </tr>\n",
       "    <tr>\n",
       "      <th>5884095</th>\n",
       "      <td>Morningstar Drive</td>\n",
       "      <td>NaN</td>\n",
       "      <td>L4T1Y5</td>\n",
       "      <td>Mississauga</td>\n",
       "    </tr>\n",
       "    <tr>\n",
       "      <th>5902083</th>\n",
       "      <td>Cobourg Court</td>\n",
       "      <td>Cres</td>\n",
       "      <td>L4B4E1</td>\n",
       "      <td>Richmond Hill</td>\n",
       "    </tr>\n",
       "    <tr>\n",
       "      <th>5902232</th>\n",
       "      <td>Cobourg Court</td>\n",
       "      <td>Cres</td>\n",
       "      <td>L4B4E1</td>\n",
       "      <td>Richmond Hill</td>\n",
       "    </tr>\n",
       "    <tr>\n",
       "      <th>5904060</th>\n",
       "      <td>Cobourg Court</td>\n",
       "      <td>Cres</td>\n",
       "      <td>L4B4E1</td>\n",
       "      <td>Richmond Hill</td>\n",
       "    </tr>\n",
       "    <tr>\n",
       "      <th>5919648</th>\n",
       "      <td>Tailfeather Cres</td>\n",
       "      <td>NaN</td>\n",
       "      <td>L4Z2Z5</td>\n",
       "      <td>Mississauga</td>\n",
       "    </tr>\n",
       "    <tr>\n",
       "      <th>5919873</th>\n",
       "      <td>Tailfeather Cres</td>\n",
       "      <td>NaN</td>\n",
       "      <td>L4Z2Z5</td>\n",
       "      <td>Mississauga</td>\n",
       "    </tr>\n",
       "    <tr>\n",
       "      <th>6396018</th>\n",
       "      <td>Shallimar Court</td>\n",
       "      <td>NaN</td>\n",
       "      <td>L6X4N2</td>\n",
       "      <td>Brampton</td>\n",
       "    </tr>\n",
       "    <tr>\n",
       "      <th>6396197</th>\n",
       "      <td>Shallimar Court</td>\n",
       "      <td>NaN</td>\n",
       "      <td>L6X4N2</td>\n",
       "      <td>Brampton</td>\n",
       "    </tr>\n",
       "    <tr>\n",
       "      <th>6396485</th>\n",
       "      <td>Shallimar Court</td>\n",
       "      <td>NaN</td>\n",
       "      <td>L6X4N2</td>\n",
       "      <td>Brampton</td>\n",
       "    </tr>\n",
       "  </tbody>\n",
       "</table>\n",
       "<p>147 rows × 4 columns</p>\n",
       "</div>"
      ],
      "text/plain": [
       "                     street_name street_designation postal_code   municipality\n",
       "112676           Stoutt Crescent               Cres      L9T9A2         Milton\n",
       "112945           Stoutt Crescent               Cres      L9T9A2         Milton\n",
       "427026               Dundas St E                NaN      L0R2H1      Waterdown\n",
       "428281               Dundas St E                NaN      L0R2H1      Waterdown\n",
       "738425             Orton Pk Road                NaN      M1G3H2        Toronto\n",
       "738513             Orton Pk Road                NaN      M1G3H2        Toronto\n",
       "960503               Vines Place                NaN      L4G0R6         Aurora\n",
       "996169      Thorncliffe Pk Drive                NaN      M4H1P3      East York\n",
       "996320      Thorncliffe Pk Drive                NaN      M4H1P3      East York\n",
       "996405         Overlea Boulevard                NaN      M4H1P2        Toronto\n",
       "996662      Thorncliffe Pk Drive                NaN      M4H1P3      East York\n",
       "996797         Overlea Boulevard                NaN      M4H1P2        Toronto\n",
       "997148      Thorncliffe Pk Drive                NaN      M4H1P3      East York\n",
       "997149      Thorncliffe Pk Drive                NaN      M4H1P3      East York\n",
       "997223         Overlea Boulevard                NaN      M4H1P2        Toronto\n",
       "1005071             Yonge Street                NaN      L4G1Y3         Aurora\n",
       "1005072             Yonge Street                NaN      L4G1Y3         Aurora\n",
       "1005073             Yonge Street                NaN      L4G1Y3         Aurora\n",
       "1049211       Victoria Pk Avenue                NaN      M4B2J2        Toronto\n",
       "1049477       Victoria Pk Avenue                NaN      M4B2J2        Toronto\n",
       "1141362          Sheppard Avenue                NaN      M2N5X8        Keswick\n",
       "1141524          Sheppard Avenue                NaN      M2N5X8        Keswick\n",
       "1209930               Green Road                NaN      L8E6A8   Stoney Creek\n",
       "1210268               Green Road                NaN      L8E6A8   Stoney Creek\n",
       "1210593               Green Road                NaN      L8E6A8   Stoney Creek\n",
       "1210776               Green Road                NaN      L8E6A8   Stoney Creek\n",
       "1295168              Bayview Ave                Ave      L4P2T2        Keswick\n",
       "1295308              Bayview Ave                Ave      L4P2T2        Keswick\n",
       "1295569              Bayview Ave                Ave      L4P2T2        Keswick\n",
       "1959388        Orchard Park Blvd                NaN      M4L3E2        Toronto\n",
       "...                          ...                ...         ...            ...\n",
       "5195862             Elgin Street                NaN      L3T4T4        Markham\n",
       "5195875             Elgin Street                NaN      L3T4T4        Markham\n",
       "5196270             Elgin Street                NaN      L3T4T4        Markham\n",
       "5310013             Quaker Trail                NaN      L3X3E2      Newmarket\n",
       "5310064             Quaker Trail                NaN      L3X3E2      Newmarket\n",
       "5354338    Mississauga Valey Blv                NaN      L5A3R6    Mississauga\n",
       "5354501    Mississauga Valey Blv                NaN      L5A3R6    Mississauga\n",
       "5355422    Mississauga Valey Blv                NaN      L5A3R6    Mississauga\n",
       "5356025    Mississauga Valey Blv                NaN      L5A3R6    Mississauga\n",
       "5753100  Mississauga Valley Blvd                NaN      L5A3S1    Mississauga\n",
       "5753259  Mississauga Valley Blvd                NaN      L5A3S1    Mississauga\n",
       "5753365  Mississauga Valley Blvd                NaN      L5A3S1    Mississauga\n",
       "5753534    Mississ Vly Boulevard                NaN      L5A3S2    Mississauga\n",
       "5753668    Mississ Vly Boulevard                NaN      L5A3S2    Mississauga\n",
       "5753717    Mississ Vly Boulevard                NaN      L5A3S2    Mississauga\n",
       "5753740  Mississauga Valley Blvd                NaN      L5A3S1    Mississauga\n",
       "5753894  Mississauga Valley Blvd                NaN      L5A3S1    Mississauga\n",
       "5753954    Mississ Vly Boulevard                NaN      L5A3S2    Mississauga\n",
       "5754288  Mississauga Valley Blvd                NaN      L5A3S1    Mississauga\n",
       "5792662         Lovingston Court                NaN      L4W4C7    Mississauga\n",
       "5884056        Morningstar Drive                NaN      L4T1Y5    Mississauga\n",
       "5884095        Morningstar Drive                NaN      L4T1Y5    Mississauga\n",
       "5902083            Cobourg Court               Cres      L4B4E1  Richmond Hill\n",
       "5902232            Cobourg Court               Cres      L4B4E1  Richmond Hill\n",
       "5904060            Cobourg Court               Cres      L4B4E1  Richmond Hill\n",
       "5919648         Tailfeather Cres                NaN      L4Z2Z5    Mississauga\n",
       "5919873         Tailfeather Cres                NaN      L4Z2Z5    Mississauga\n",
       "6396018          Shallimar Court                NaN      L6X4N2       Brampton\n",
       "6396197          Shallimar Court                NaN      L6X4N2       Brampton\n",
       "6396485          Shallimar Court                NaN      L6X4N2       Brampton\n",
       "\n",
       "[147 rows x 4 columns]"
      ]
     },
     "execution_count": 8,
     "metadata": {},
     "output_type": "execute_result"
    }
   ],
   "source": [
    "df.loc[mask1, 'postal_code'] = \\\n",
    "    df.loc[mask1, 'street_name'].str.split().apply(lambda x: x[-1])\n",
    "df.loc[mask1, 'street_name'] = \\\n",
    "    df.loc[mask1, 'street_name'].str.rsplit(' ', 1).apply(lambda x: x[0]).str.strip()\n",
    "df.loc[mask1, ['street_name', 'street_designation', 'postal_code', 'municipality']]"
   ]
  },
  {
   "cell_type": "markdown",
   "metadata": {},
   "source": [
    "## Step 5: Parse `unitno` from `street_name`\n",
    "Some Teranet records with missing `unitno` have it as part of their `street_name` value."
   ]
  },
  {
   "cell_type": "code",
   "execution_count": 9,
   "metadata": {},
   "outputs": [
    {
     "name": "stderr",
     "output_type": "stream",
     "text": [
      "/home/stepan/anaconda3/envs/gds/lib/python3.6/site-packages/ipykernel_launcher.py:2: UserWarning: This pattern has match groups. To actually get the groups, use str.extract.\n",
      "  \n"
     ]
    },
    {
     "data": {
      "text/html": [
       "<div>\n",
       "<style scoped>\n",
       "    .dataframe tbody tr th:only-of-type {\n",
       "        vertical-align: middle;\n",
       "    }\n",
       "\n",
       "    .dataframe tbody tr th {\n",
       "        vertical-align: top;\n",
       "    }\n",
       "\n",
       "    .dataframe thead th {\n",
       "        text-align: right;\n",
       "    }\n",
       "</style>\n",
       "<table border=\"1\" class=\"dataframe\">\n",
       "  <thead>\n",
       "    <tr style=\"text-align: right;\">\n",
       "      <th></th>\n",
       "      <th>unitno</th>\n",
       "      <th>street_name</th>\n",
       "      <th>street_designation</th>\n",
       "      <th>municipality</th>\n",
       "    </tr>\n",
       "  </thead>\n",
       "  <tbody>\n",
       "    <tr>\n",
       "      <th>36607</th>\n",
       "      <td>NaN</td>\n",
       "      <td>Speers Road, Unit 2006</td>\n",
       "      <td>NaN</td>\n",
       "      <td>Oakville</td>\n",
       "    </tr>\n",
       "    <tr>\n",
       "      <th>36609</th>\n",
       "      <td>NaN</td>\n",
       "      <td>Speers Road, Unit 2006</td>\n",
       "      <td>NaN</td>\n",
       "      <td>Oakville</td>\n",
       "    </tr>\n",
       "    <tr>\n",
       "      <th>36610</th>\n",
       "      <td>NaN</td>\n",
       "      <td>Speers Road, Unit 2006</td>\n",
       "      <td>NaN</td>\n",
       "      <td>Oakville</td>\n",
       "    </tr>\n",
       "    <tr>\n",
       "      <th>37024</th>\n",
       "      <td>NaN</td>\n",
       "      <td>Speers Road, Unit 2006</td>\n",
       "      <td>NaN</td>\n",
       "      <td>Oakville</td>\n",
       "    </tr>\n",
       "    <tr>\n",
       "      <th>37026</th>\n",
       "      <td>NaN</td>\n",
       "      <td>Speers Road, Unit 2006</td>\n",
       "      <td>NaN</td>\n",
       "      <td>Oakville</td>\n",
       "    </tr>\n",
       "    <tr>\n",
       "      <th>37027</th>\n",
       "      <td>NaN</td>\n",
       "      <td>Speers Road, Unit 2006</td>\n",
       "      <td>NaN</td>\n",
       "      <td>Oakville</td>\n",
       "    </tr>\n",
       "    <tr>\n",
       "      <th>72967</th>\n",
       "      <td>NaN</td>\n",
       "      <td>Preserve Drive, Unit 4</td>\n",
       "      <td>Dr</td>\n",
       "      <td>Oakville</td>\n",
       "    </tr>\n",
       "    <tr>\n",
       "      <th>72990</th>\n",
       "      <td>NaN</td>\n",
       "      <td>Preserve Drive, Unit 13</td>\n",
       "      <td>Dr</td>\n",
       "      <td>Oakville</td>\n",
       "    </tr>\n",
       "    <tr>\n",
       "      <th>73064</th>\n",
       "      <td>NaN</td>\n",
       "      <td>Sarah Cline Drive, Unit 4</td>\n",
       "      <td>Dr</td>\n",
       "      <td>Oakville</td>\n",
       "    </tr>\n",
       "    <tr>\n",
       "      <th>73068</th>\n",
       "      <td>NaN</td>\n",
       "      <td>Ellen Davidson Drive, Unit 5</td>\n",
       "      <td>Dr</td>\n",
       "      <td>Oakville</td>\n",
       "    </tr>\n",
       "    <tr>\n",
       "      <th>73069</th>\n",
       "      <td>NaN</td>\n",
       "      <td>Ellen Davidson Drive, Unit 4</td>\n",
       "      <td>Dr</td>\n",
       "      <td>Oakville</td>\n",
       "    </tr>\n",
       "    <tr>\n",
       "      <th>73110</th>\n",
       "      <td>NaN</td>\n",
       "      <td>Preserve Drive, Unit 4</td>\n",
       "      <td>Dr</td>\n",
       "      <td>Oakville</td>\n",
       "    </tr>\n",
       "    <tr>\n",
       "      <th>73298</th>\n",
       "      <td>NaN</td>\n",
       "      <td>Sarah Cline Drive, Unit 4</td>\n",
       "      <td>Dr</td>\n",
       "      <td>Oakville</td>\n",
       "    </tr>\n",
       "    <tr>\n",
       "      <th>73321</th>\n",
       "      <td>NaN</td>\n",
       "      <td>Ellen Davidson Drive, Unit 4</td>\n",
       "      <td>Dr</td>\n",
       "      <td>Oakville</td>\n",
       "    </tr>\n",
       "    <tr>\n",
       "      <th>73323</th>\n",
       "      <td>NaN</td>\n",
       "      <td>Ellen Davidson Drive, Unit 5</td>\n",
       "      <td>Dr</td>\n",
       "      <td>Oakville</td>\n",
       "    </tr>\n",
       "    <tr>\n",
       "      <th>73385</th>\n",
       "      <td>NaN</td>\n",
       "      <td>Preserve Drive, Unit 13</td>\n",
       "      <td>Dr</td>\n",
       "      <td>Oakville</td>\n",
       "    </tr>\n",
       "    <tr>\n",
       "      <th>75373</th>\n",
       "      <td>NaN</td>\n",
       "      <td>Ellen Davidson Drive, Unit 4</td>\n",
       "      <td>Dr</td>\n",
       "      <td>Oakville</td>\n",
       "    </tr>\n",
       "    <tr>\n",
       "      <th>77253</th>\n",
       "      <td>NaN</td>\n",
       "      <td>Sarah Cline Drive, Unit 4</td>\n",
       "      <td>Dr</td>\n",
       "      <td>Oakville</td>\n",
       "    </tr>\n",
       "    <tr>\n",
       "      <th>77449</th>\n",
       "      <td>NaN</td>\n",
       "      <td>Preserve Drive, Unit 4</td>\n",
       "      <td>Dr</td>\n",
       "      <td>Oakville</td>\n",
       "    </tr>\n",
       "    <tr>\n",
       "      <th>187179</th>\n",
       "      <td>NaN</td>\n",
       "      <td>Littlewood Drive, Unit 201</td>\n",
       "      <td>NaN</td>\n",
       "      <td>Oakville</td>\n",
       "    </tr>\n",
       "    <tr>\n",
       "      <th>195536</th>\n",
       "      <td>NaN</td>\n",
       "      <td>Fairview St. Unit 77</td>\n",
       "      <td>St</td>\n",
       "      <td>Burlington</td>\n",
       "    </tr>\n",
       "    <tr>\n",
       "      <th>195537</th>\n",
       "      <td>NaN</td>\n",
       "      <td>Fairview St. Unit 77</td>\n",
       "      <td>St</td>\n",
       "      <td>Burlington</td>\n",
       "    </tr>\n",
       "    <tr>\n",
       "      <th>195538</th>\n",
       "      <td>NaN</td>\n",
       "      <td>Fairview St. Unit 77</td>\n",
       "      <td>St</td>\n",
       "      <td>Burlington</td>\n",
       "    </tr>\n",
       "    <tr>\n",
       "      <th>195652</th>\n",
       "      <td>NaN</td>\n",
       "      <td>Fairview St. Unit 77</td>\n",
       "      <td>St</td>\n",
       "      <td>Burlington</td>\n",
       "    </tr>\n",
       "    <tr>\n",
       "      <th>195653</th>\n",
       "      <td>NaN</td>\n",
       "      <td>Fairview St. Unit 77</td>\n",
       "      <td>St</td>\n",
       "      <td>Burlington</td>\n",
       "    </tr>\n",
       "    <tr>\n",
       "      <th>195654</th>\n",
       "      <td>NaN</td>\n",
       "      <td>Fairview St. Unit 77</td>\n",
       "      <td>St</td>\n",
       "      <td>Burlington</td>\n",
       "    </tr>\n",
       "    <tr>\n",
       "      <th>195961</th>\n",
       "      <td>NaN</td>\n",
       "      <td>Fairview St. Unit 77</td>\n",
       "      <td>St</td>\n",
       "      <td>Burlington</td>\n",
       "    </tr>\n",
       "    <tr>\n",
       "      <th>196053</th>\n",
       "      <td>NaN</td>\n",
       "      <td>Fairview St. Unit 77</td>\n",
       "      <td>St</td>\n",
       "      <td>Burlington</td>\n",
       "    </tr>\n",
       "    <tr>\n",
       "      <th>196259</th>\n",
       "      <td>NaN</td>\n",
       "      <td>Fairview St. Unit 77</td>\n",
       "      <td>St</td>\n",
       "      <td>Burlington</td>\n",
       "    </tr>\n",
       "    <tr>\n",
       "      <th>196260</th>\n",
       "      <td>NaN</td>\n",
       "      <td>Fairview St. Unit 77</td>\n",
       "      <td>St</td>\n",
       "      <td>Burlington</td>\n",
       "    </tr>\n",
       "    <tr>\n",
       "      <th>...</th>\n",
       "      <td>...</td>\n",
       "      <td>...</td>\n",
       "      <td>...</td>\n",
       "      <td>...</td>\n",
       "    </tr>\n",
       "    <tr>\n",
       "      <th>5363143</th>\n",
       "      <td>NaN</td>\n",
       "      <td>Eglinton Ave. West, Unit 1001</td>\n",
       "      <td>NaN</td>\n",
       "      <td>Mississauga</td>\n",
       "    </tr>\n",
       "    <tr>\n",
       "      <th>5363144</th>\n",
       "      <td>NaN</td>\n",
       "      <td>Eglinton Ave. West, Unit 1001</td>\n",
       "      <td>NaN</td>\n",
       "      <td>Mississauga</td>\n",
       "    </tr>\n",
       "    <tr>\n",
       "      <th>5477848</th>\n",
       "      <td>NaN</td>\n",
       "      <td>Markham Road, Unit 80 &amp; 81</td>\n",
       "      <td>NaN</td>\n",
       "      <td>Markham</td>\n",
       "    </tr>\n",
       "    <tr>\n",
       "      <th>5477849</th>\n",
       "      <td>NaN</td>\n",
       "      <td>Markham Road, Unit 80 &amp; 81</td>\n",
       "      <td>NaN</td>\n",
       "      <td>Markham</td>\n",
       "    </tr>\n",
       "    <tr>\n",
       "      <th>5538403</th>\n",
       "      <td>NaN</td>\n",
       "      <td>North Park Road, Unit 111</td>\n",
       "      <td>Rd</td>\n",
       "      <td>Vaughan</td>\n",
       "    </tr>\n",
       "    <tr>\n",
       "      <th>5538421</th>\n",
       "      <td>NaN</td>\n",
       "      <td>North Park Rd Unit 01</td>\n",
       "      <td>Rd</td>\n",
       "      <td>Thornhill</td>\n",
       "    </tr>\n",
       "    <tr>\n",
       "      <th>5540122</th>\n",
       "      <td>NaN</td>\n",
       "      <td>North Park Rd Unit 01</td>\n",
       "      <td>Rd</td>\n",
       "      <td>Thornhill</td>\n",
       "    </tr>\n",
       "    <tr>\n",
       "      <th>5540128</th>\n",
       "      <td>NaN</td>\n",
       "      <td>North Park Rd Unit 01</td>\n",
       "      <td>Rd</td>\n",
       "      <td>Thornhill</td>\n",
       "    </tr>\n",
       "    <tr>\n",
       "      <th>5541443</th>\n",
       "      <td>NaN</td>\n",
       "      <td>North Park Rd Unit 01</td>\n",
       "      <td>Rd</td>\n",
       "      <td>Thornhill</td>\n",
       "    </tr>\n",
       "    <tr>\n",
       "      <th>5543202</th>\n",
       "      <td>NaN</td>\n",
       "      <td>North Park Road, Unit 111</td>\n",
       "      <td>Rd</td>\n",
       "      <td>Vaughan</td>\n",
       "    </tr>\n",
       "    <tr>\n",
       "      <th>5551708</th>\n",
       "      <td>39.0</td>\n",
       "      <td>Mccallum Drive, Unit 39</td>\n",
       "      <td>NaN</td>\n",
       "      <td>Richmond Hill</td>\n",
       "    </tr>\n",
       "    <tr>\n",
       "      <th>5551729</th>\n",
       "      <td>39.0</td>\n",
       "      <td>Mccallum Drive, Unit 39</td>\n",
       "      <td>NaN</td>\n",
       "      <td>Richmond Hill</td>\n",
       "    </tr>\n",
       "    <tr>\n",
       "      <th>5551744</th>\n",
       "      <td>39.0</td>\n",
       "      <td>Mccallum Drive, Unit 39</td>\n",
       "      <td>NaN</td>\n",
       "      <td>Richmond Hill</td>\n",
       "    </tr>\n",
       "    <tr>\n",
       "      <th>5551919</th>\n",
       "      <td>39.0</td>\n",
       "      <td>Mccallum Drive, Unit 39</td>\n",
       "      <td>NaN</td>\n",
       "      <td>Richmond Hill</td>\n",
       "    </tr>\n",
       "    <tr>\n",
       "      <th>5552107</th>\n",
       "      <td>39.0</td>\n",
       "      <td>Mccallum Drive, Unit 39</td>\n",
       "      <td>NaN</td>\n",
       "      <td>Richmond Hill</td>\n",
       "    </tr>\n",
       "    <tr>\n",
       "      <th>5552122</th>\n",
       "      <td>39.0</td>\n",
       "      <td>Mccallum Drive, Unit 39</td>\n",
       "      <td>NaN</td>\n",
       "      <td>Richmond Hill</td>\n",
       "    </tr>\n",
       "    <tr>\n",
       "      <th>5794612</th>\n",
       "      <td>NaN</td>\n",
       "      <td>Silverwood Avenue, Unit 1</td>\n",
       "      <td>NaN</td>\n",
       "      <td>Richmond Hill</td>\n",
       "    </tr>\n",
       "    <tr>\n",
       "      <th>5794775</th>\n",
       "      <td>NaN</td>\n",
       "      <td>Silverwood Avenue, Unit 1</td>\n",
       "      <td>NaN</td>\n",
       "      <td>Richmond Hill</td>\n",
       "    </tr>\n",
       "    <tr>\n",
       "      <th>5794822</th>\n",
       "      <td>NaN</td>\n",
       "      <td>Silverwood Avenue, Unit 1</td>\n",
       "      <td>NaN</td>\n",
       "      <td>Richmond Hill</td>\n",
       "    </tr>\n",
       "    <tr>\n",
       "      <th>5794993</th>\n",
       "      <td>NaN</td>\n",
       "      <td>Silverwood Avenue, Unit 1</td>\n",
       "      <td>NaN</td>\n",
       "      <td>Richmond Hill</td>\n",
       "    </tr>\n",
       "    <tr>\n",
       "      <th>5928520</th>\n",
       "      <td>NaN</td>\n",
       "      <td>Yonge Street, Unit A301</td>\n",
       "      <td>NaN</td>\n",
       "      <td>Richmond Hill</td>\n",
       "    </tr>\n",
       "    <tr>\n",
       "      <th>5928944</th>\n",
       "      <td>NaN</td>\n",
       "      <td>Yonge Street, Unit A301</td>\n",
       "      <td>NaN</td>\n",
       "      <td>Richmond Hill</td>\n",
       "    </tr>\n",
       "    <tr>\n",
       "      <th>6240198</th>\n",
       "      <td>NaN</td>\n",
       "      <td>Oneida Crescent, Unit 409</td>\n",
       "      <td>NaN</td>\n",
       "      <td>Richmond Hill</td>\n",
       "    </tr>\n",
       "    <tr>\n",
       "      <th>6240508</th>\n",
       "      <td>NaN</td>\n",
       "      <td>Oneida Crescent, Unit 203</td>\n",
       "      <td>NaN</td>\n",
       "      <td>Richmond Hill</td>\n",
       "    </tr>\n",
       "    <tr>\n",
       "      <th>6240591</th>\n",
       "      <td>NaN</td>\n",
       "      <td>Oneida Crescent, Unit 203</td>\n",
       "      <td>NaN</td>\n",
       "      <td>Richmond Hill</td>\n",
       "    </tr>\n",
       "    <tr>\n",
       "      <th>6241467</th>\n",
       "      <td>NaN</td>\n",
       "      <td>Oneida Crescent, Unit 203</td>\n",
       "      <td>NaN</td>\n",
       "      <td>Richmond Hill</td>\n",
       "    </tr>\n",
       "    <tr>\n",
       "      <th>6241468</th>\n",
       "      <td>NaN</td>\n",
       "      <td>Oneida Crescent, Unit 203</td>\n",
       "      <td>NaN</td>\n",
       "      <td>Richmond Hill</td>\n",
       "    </tr>\n",
       "    <tr>\n",
       "      <th>6242046</th>\n",
       "      <td>NaN</td>\n",
       "      <td>Oneida Crescent, Unit 409</td>\n",
       "      <td>NaN</td>\n",
       "      <td>Richmond Hill</td>\n",
       "    </tr>\n",
       "    <tr>\n",
       "      <th>6242366</th>\n",
       "      <td>NaN</td>\n",
       "      <td>Oneida Crescent, Unit 203</td>\n",
       "      <td>NaN</td>\n",
       "      <td>Richmond Hill</td>\n",
       "    </tr>\n",
       "    <tr>\n",
       "      <th>6242367</th>\n",
       "      <td>NaN</td>\n",
       "      <td>Oneida Crescent, Unit 203</td>\n",
       "      <td>NaN</td>\n",
       "      <td>Richmond Hill</td>\n",
       "    </tr>\n",
       "  </tbody>\n",
       "</table>\n",
       "<p>293 rows × 4 columns</p>\n",
       "</div>"
      ],
      "text/plain": [
       "         unitno                    street_name street_designation  \\\n",
       "36607       NaN         Speers Road, Unit 2006                NaN   \n",
       "36609       NaN         Speers Road, Unit 2006                NaN   \n",
       "36610       NaN         Speers Road, Unit 2006                NaN   \n",
       "37024       NaN         Speers Road, Unit 2006                NaN   \n",
       "37026       NaN         Speers Road, Unit 2006                NaN   \n",
       "37027       NaN         Speers Road, Unit 2006                NaN   \n",
       "72967       NaN         Preserve Drive, Unit 4                 Dr   \n",
       "72990       NaN        Preserve Drive, Unit 13                 Dr   \n",
       "73064       NaN      Sarah Cline Drive, Unit 4                 Dr   \n",
       "73068       NaN   Ellen Davidson Drive, Unit 5                 Dr   \n",
       "73069       NaN   Ellen Davidson Drive, Unit 4                 Dr   \n",
       "73110       NaN         Preserve Drive, Unit 4                 Dr   \n",
       "73298       NaN      Sarah Cline Drive, Unit 4                 Dr   \n",
       "73321       NaN   Ellen Davidson Drive, Unit 4                 Dr   \n",
       "73323       NaN   Ellen Davidson Drive, Unit 5                 Dr   \n",
       "73385       NaN        Preserve Drive, Unit 13                 Dr   \n",
       "75373       NaN   Ellen Davidson Drive, Unit 4                 Dr   \n",
       "77253       NaN      Sarah Cline Drive, Unit 4                 Dr   \n",
       "77449       NaN         Preserve Drive, Unit 4                 Dr   \n",
       "187179      NaN     Littlewood Drive, Unit 201                NaN   \n",
       "195536      NaN           Fairview St. Unit 77                 St   \n",
       "195537      NaN           Fairview St. Unit 77                 St   \n",
       "195538      NaN           Fairview St. Unit 77                 St   \n",
       "195652      NaN           Fairview St. Unit 77                 St   \n",
       "195653      NaN           Fairview St. Unit 77                 St   \n",
       "195654      NaN           Fairview St. Unit 77                 St   \n",
       "195961      NaN           Fairview St. Unit 77                 St   \n",
       "196053      NaN           Fairview St. Unit 77                 St   \n",
       "196259      NaN           Fairview St. Unit 77                 St   \n",
       "196260      NaN           Fairview St. Unit 77                 St   \n",
       "...         ...                            ...                ...   \n",
       "5363143     NaN  Eglinton Ave. West, Unit 1001                NaN   \n",
       "5363144     NaN  Eglinton Ave. West, Unit 1001                NaN   \n",
       "5477848     NaN     Markham Road, Unit 80 & 81                NaN   \n",
       "5477849     NaN     Markham Road, Unit 80 & 81                NaN   \n",
       "5538403     NaN      North Park Road, Unit 111                 Rd   \n",
       "5538421     NaN          North Park Rd Unit 01                 Rd   \n",
       "5540122     NaN          North Park Rd Unit 01                 Rd   \n",
       "5540128     NaN          North Park Rd Unit 01                 Rd   \n",
       "5541443     NaN          North Park Rd Unit 01                 Rd   \n",
       "5543202     NaN      North Park Road, Unit 111                 Rd   \n",
       "5551708    39.0        Mccallum Drive, Unit 39                NaN   \n",
       "5551729    39.0        Mccallum Drive, Unit 39                NaN   \n",
       "5551744    39.0        Mccallum Drive, Unit 39                NaN   \n",
       "5551919    39.0        Mccallum Drive, Unit 39                NaN   \n",
       "5552107    39.0        Mccallum Drive, Unit 39                NaN   \n",
       "5552122    39.0        Mccallum Drive, Unit 39                NaN   \n",
       "5794612     NaN      Silverwood Avenue, Unit 1                NaN   \n",
       "5794775     NaN      Silverwood Avenue, Unit 1                NaN   \n",
       "5794822     NaN      Silverwood Avenue, Unit 1                NaN   \n",
       "5794993     NaN      Silverwood Avenue, Unit 1                NaN   \n",
       "5928520     NaN        Yonge Street, Unit A301                NaN   \n",
       "5928944     NaN        Yonge Street, Unit A301                NaN   \n",
       "6240198     NaN      Oneida Crescent, Unit 409                NaN   \n",
       "6240508     NaN      Oneida Crescent, Unit 203                NaN   \n",
       "6240591     NaN      Oneida Crescent, Unit 203                NaN   \n",
       "6241467     NaN      Oneida Crescent, Unit 203                NaN   \n",
       "6241468     NaN      Oneida Crescent, Unit 203                NaN   \n",
       "6242046     NaN      Oneida Crescent, Unit 409                NaN   \n",
       "6242366     NaN      Oneida Crescent, Unit 203                NaN   \n",
       "6242367     NaN      Oneida Crescent, Unit 203                NaN   \n",
       "\n",
       "          municipality  \n",
       "36607         Oakville  \n",
       "36609         Oakville  \n",
       "36610         Oakville  \n",
       "37024         Oakville  \n",
       "37026         Oakville  \n",
       "37027         Oakville  \n",
       "72967         Oakville  \n",
       "72990         Oakville  \n",
       "73064         Oakville  \n",
       "73068         Oakville  \n",
       "73069         Oakville  \n",
       "73110         Oakville  \n",
       "73298         Oakville  \n",
       "73321         Oakville  \n",
       "73323         Oakville  \n",
       "73385         Oakville  \n",
       "75373         Oakville  \n",
       "77253         Oakville  \n",
       "77449         Oakville  \n",
       "187179        Oakville  \n",
       "195536      Burlington  \n",
       "195537      Burlington  \n",
       "195538      Burlington  \n",
       "195652      Burlington  \n",
       "195653      Burlington  \n",
       "195654      Burlington  \n",
       "195961      Burlington  \n",
       "196053      Burlington  \n",
       "196259      Burlington  \n",
       "196260      Burlington  \n",
       "...                ...  \n",
       "5363143    Mississauga  \n",
       "5363144    Mississauga  \n",
       "5477848        Markham  \n",
       "5477849        Markham  \n",
       "5538403        Vaughan  \n",
       "5538421      Thornhill  \n",
       "5540122      Thornhill  \n",
       "5540128      Thornhill  \n",
       "5541443      Thornhill  \n",
       "5543202        Vaughan  \n",
       "5551708  Richmond Hill  \n",
       "5551729  Richmond Hill  \n",
       "5551744  Richmond Hill  \n",
       "5551919  Richmond Hill  \n",
       "5552107  Richmond Hill  \n",
       "5552122  Richmond Hill  \n",
       "5794612  Richmond Hill  \n",
       "5794775  Richmond Hill  \n",
       "5794822  Richmond Hill  \n",
       "5794993  Richmond Hill  \n",
       "5928520  Richmond Hill  \n",
       "5928944  Richmond Hill  \n",
       "6240198  Richmond Hill  \n",
       "6240508  Richmond Hill  \n",
       "6240591  Richmond Hill  \n",
       "6241467  Richmond Hill  \n",
       "6241468  Richmond Hill  \n",
       "6242046  Richmond Hill  \n",
       "6242366  Richmond Hill  \n",
       "6242367  Richmond Hill  \n",
       "\n",
       "[293 rows x 4 columns]"
      ]
     },
     "execution_count": 9,
     "metadata": {},
     "output_type": "execute_result"
    }
   ],
   "source": [
    "mask1 = df['street_name'].str.contains('Unit', na=False, case=False)\n",
    "mask2 = df['street_name'].str.contains('(Unity|Unita|United|Munition)', na=False, case=False)\n",
    "df.loc[mask1 & ~mask2, ['unitno', 'street_name', 'street_designation', 'municipality']]"
   ]
  },
  {
   "cell_type": "markdown",
   "metadata": {},
   "source": [
    "### Extract `unitno` from `street_name`\n",
    "#### Split by ','"
   ]
  },
  {
   "cell_type": "code",
   "execution_count": 10,
   "metadata": {},
   "outputs": [
    {
     "name": "stderr",
     "output_type": "stream",
     "text": [
      "/home/stepan/anaconda3/envs/gds/lib/python3.6/site-packages/ipykernel_launcher.py:2: UserWarning: This pattern has match groups. To actually get the groups, use str.extract.\n",
      "  \n"
     ]
    },
    {
     "data": {
      "text/html": [
       "<div>\n",
       "<style scoped>\n",
       "    .dataframe tbody tr th:only-of-type {\n",
       "        vertical-align: middle;\n",
       "    }\n",
       "\n",
       "    .dataframe tbody tr th {\n",
       "        vertical-align: top;\n",
       "    }\n",
       "\n",
       "    .dataframe thead th {\n",
       "        text-align: right;\n",
       "    }\n",
       "</style>\n",
       "<table border=\"1\" class=\"dataframe\">\n",
       "  <thead>\n",
       "    <tr style=\"text-align: right;\">\n",
       "      <th></th>\n",
       "      <th>unitno</th>\n",
       "      <th>street_name</th>\n",
       "      <th>street_designation</th>\n",
       "      <th>municipality</th>\n",
       "    </tr>\n",
       "  </thead>\n",
       "  <tbody>\n",
       "    <tr>\n",
       "      <th>36607</th>\n",
       "      <td>NaN</td>\n",
       "      <td>Speers Road, Unit 2006</td>\n",
       "      <td>NaN</td>\n",
       "      <td>Oakville</td>\n",
       "    </tr>\n",
       "    <tr>\n",
       "      <th>36609</th>\n",
       "      <td>NaN</td>\n",
       "      <td>Speers Road, Unit 2006</td>\n",
       "      <td>NaN</td>\n",
       "      <td>Oakville</td>\n",
       "    </tr>\n",
       "    <tr>\n",
       "      <th>36610</th>\n",
       "      <td>NaN</td>\n",
       "      <td>Speers Road, Unit 2006</td>\n",
       "      <td>NaN</td>\n",
       "      <td>Oakville</td>\n",
       "    </tr>\n",
       "    <tr>\n",
       "      <th>37024</th>\n",
       "      <td>NaN</td>\n",
       "      <td>Speers Road, Unit 2006</td>\n",
       "      <td>NaN</td>\n",
       "      <td>Oakville</td>\n",
       "    </tr>\n",
       "    <tr>\n",
       "      <th>37026</th>\n",
       "      <td>NaN</td>\n",
       "      <td>Speers Road, Unit 2006</td>\n",
       "      <td>NaN</td>\n",
       "      <td>Oakville</td>\n",
       "    </tr>\n",
       "    <tr>\n",
       "      <th>37027</th>\n",
       "      <td>NaN</td>\n",
       "      <td>Speers Road, Unit 2006</td>\n",
       "      <td>NaN</td>\n",
       "      <td>Oakville</td>\n",
       "    </tr>\n",
       "    <tr>\n",
       "      <th>72967</th>\n",
       "      <td>NaN</td>\n",
       "      <td>Preserve Drive, Unit 4</td>\n",
       "      <td>Dr</td>\n",
       "      <td>Oakville</td>\n",
       "    </tr>\n",
       "    <tr>\n",
       "      <th>72990</th>\n",
       "      <td>NaN</td>\n",
       "      <td>Preserve Drive, Unit 13</td>\n",
       "      <td>Dr</td>\n",
       "      <td>Oakville</td>\n",
       "    </tr>\n",
       "    <tr>\n",
       "      <th>73064</th>\n",
       "      <td>NaN</td>\n",
       "      <td>Sarah Cline Drive, Unit 4</td>\n",
       "      <td>Dr</td>\n",
       "      <td>Oakville</td>\n",
       "    </tr>\n",
       "    <tr>\n",
       "      <th>73068</th>\n",
       "      <td>NaN</td>\n",
       "      <td>Ellen Davidson Drive, Unit 5</td>\n",
       "      <td>Dr</td>\n",
       "      <td>Oakville</td>\n",
       "    </tr>\n",
       "    <tr>\n",
       "      <th>73069</th>\n",
       "      <td>NaN</td>\n",
       "      <td>Ellen Davidson Drive, Unit 4</td>\n",
       "      <td>Dr</td>\n",
       "      <td>Oakville</td>\n",
       "    </tr>\n",
       "    <tr>\n",
       "      <th>73110</th>\n",
       "      <td>NaN</td>\n",
       "      <td>Preserve Drive, Unit 4</td>\n",
       "      <td>Dr</td>\n",
       "      <td>Oakville</td>\n",
       "    </tr>\n",
       "    <tr>\n",
       "      <th>73298</th>\n",
       "      <td>NaN</td>\n",
       "      <td>Sarah Cline Drive, Unit 4</td>\n",
       "      <td>Dr</td>\n",
       "      <td>Oakville</td>\n",
       "    </tr>\n",
       "    <tr>\n",
       "      <th>73321</th>\n",
       "      <td>NaN</td>\n",
       "      <td>Ellen Davidson Drive, Unit 4</td>\n",
       "      <td>Dr</td>\n",
       "      <td>Oakville</td>\n",
       "    </tr>\n",
       "    <tr>\n",
       "      <th>73323</th>\n",
       "      <td>NaN</td>\n",
       "      <td>Ellen Davidson Drive, Unit 5</td>\n",
       "      <td>Dr</td>\n",
       "      <td>Oakville</td>\n",
       "    </tr>\n",
       "    <tr>\n",
       "      <th>73385</th>\n",
       "      <td>NaN</td>\n",
       "      <td>Preserve Drive, Unit 13</td>\n",
       "      <td>Dr</td>\n",
       "      <td>Oakville</td>\n",
       "    </tr>\n",
       "    <tr>\n",
       "      <th>75373</th>\n",
       "      <td>NaN</td>\n",
       "      <td>Ellen Davidson Drive, Unit 4</td>\n",
       "      <td>Dr</td>\n",
       "      <td>Oakville</td>\n",
       "    </tr>\n",
       "    <tr>\n",
       "      <th>77253</th>\n",
       "      <td>NaN</td>\n",
       "      <td>Sarah Cline Drive, Unit 4</td>\n",
       "      <td>Dr</td>\n",
       "      <td>Oakville</td>\n",
       "    </tr>\n",
       "    <tr>\n",
       "      <th>77449</th>\n",
       "      <td>NaN</td>\n",
       "      <td>Preserve Drive, Unit 4</td>\n",
       "      <td>Dr</td>\n",
       "      <td>Oakville</td>\n",
       "    </tr>\n",
       "    <tr>\n",
       "      <th>187179</th>\n",
       "      <td>NaN</td>\n",
       "      <td>Littlewood Drive, Unit 201</td>\n",
       "      <td>NaN</td>\n",
       "      <td>Oakville</td>\n",
       "    </tr>\n",
       "    <tr>\n",
       "      <th>310950</th>\n",
       "      <td>NaN</td>\n",
       "      <td>Plains Road East, Unit 308</td>\n",
       "      <td>NaN</td>\n",
       "      <td>Burlington</td>\n",
       "    </tr>\n",
       "    <tr>\n",
       "      <th>347495</th>\n",
       "      <td>NaN</td>\n",
       "      <td>Baronwood Drive, Unit 25-01</td>\n",
       "      <td>NaN</td>\n",
       "      <td>Oakville</td>\n",
       "    </tr>\n",
       "    <tr>\n",
       "      <th>347496</th>\n",
       "      <td>NaN</td>\n",
       "      <td>Baronwood Drive, Unit 25-01</td>\n",
       "      <td>NaN</td>\n",
       "      <td>Oakville</td>\n",
       "    </tr>\n",
       "    <tr>\n",
       "      <th>347497</th>\n",
       "      <td>NaN</td>\n",
       "      <td>Baronwood Drive, Unit 25-01</td>\n",
       "      <td>NaN</td>\n",
       "      <td>Oakville</td>\n",
       "    </tr>\n",
       "    <tr>\n",
       "      <th>347505</th>\n",
       "      <td>NaN</td>\n",
       "      <td>Baronwood Drive, Unit 24-01</td>\n",
       "      <td>NaN</td>\n",
       "      <td>Oakville</td>\n",
       "    </tr>\n",
       "    <tr>\n",
       "      <th>347506</th>\n",
       "      <td>NaN</td>\n",
       "      <td>Baronwood Drive, Unit 24-01</td>\n",
       "      <td>NaN</td>\n",
       "      <td>Oakville</td>\n",
       "    </tr>\n",
       "    <tr>\n",
       "      <th>347507</th>\n",
       "      <td>NaN</td>\n",
       "      <td>Baronwood Drive, Unit 24-01</td>\n",
       "      <td>NaN</td>\n",
       "      <td>Oakville</td>\n",
       "    </tr>\n",
       "    <tr>\n",
       "      <th>347512</th>\n",
       "      <td>NaN</td>\n",
       "      <td>Baronwood Drive, Unit 23-02</td>\n",
       "      <td>NaN</td>\n",
       "      <td>Oakville</td>\n",
       "    </tr>\n",
       "    <tr>\n",
       "      <th>347513</th>\n",
       "      <td>NaN</td>\n",
       "      <td>Baronwood Drive, Unit 23-02</td>\n",
       "      <td>NaN</td>\n",
       "      <td>Oakville</td>\n",
       "    </tr>\n",
       "    <tr>\n",
       "      <th>347514</th>\n",
       "      <td>NaN</td>\n",
       "      <td>Baronwood Drive, Unit 23-02</td>\n",
       "      <td>NaN</td>\n",
       "      <td>Oakville</td>\n",
       "    </tr>\n",
       "    <tr>\n",
       "      <th>...</th>\n",
       "      <td>...</td>\n",
       "      <td>...</td>\n",
       "      <td>...</td>\n",
       "      <td>...</td>\n",
       "    </tr>\n",
       "    <tr>\n",
       "      <th>4958465</th>\n",
       "      <td>91.0</td>\n",
       "      <td>Highway 7 East, Unit 91 And 92</td>\n",
       "      <td>NaN</td>\n",
       "      <td>Markham</td>\n",
       "    </tr>\n",
       "    <tr>\n",
       "      <th>4958466</th>\n",
       "      <td>92.0</td>\n",
       "      <td>Highway 7 East, Unit 91 And 92</td>\n",
       "      <td>NaN</td>\n",
       "      <td>Markham</td>\n",
       "    </tr>\n",
       "    <tr>\n",
       "      <th>4966822</th>\n",
       "      <td>91.0</td>\n",
       "      <td>Highway 7 East, Unit 91 And 92</td>\n",
       "      <td>NaN</td>\n",
       "      <td>Markham</td>\n",
       "    </tr>\n",
       "    <tr>\n",
       "      <th>4966823</th>\n",
       "      <td>92.0</td>\n",
       "      <td>Highway 7 East, Unit 91 And 92</td>\n",
       "      <td>NaN</td>\n",
       "      <td>Markham</td>\n",
       "    </tr>\n",
       "    <tr>\n",
       "      <th>5363143</th>\n",
       "      <td>NaN</td>\n",
       "      <td>Eglinton Ave. West, Unit 1001</td>\n",
       "      <td>NaN</td>\n",
       "      <td>Mississauga</td>\n",
       "    </tr>\n",
       "    <tr>\n",
       "      <th>5363144</th>\n",
       "      <td>NaN</td>\n",
       "      <td>Eglinton Ave. West, Unit 1001</td>\n",
       "      <td>NaN</td>\n",
       "      <td>Mississauga</td>\n",
       "    </tr>\n",
       "    <tr>\n",
       "      <th>5477848</th>\n",
       "      <td>NaN</td>\n",
       "      <td>Markham Road, Unit 80 &amp; 81</td>\n",
       "      <td>NaN</td>\n",
       "      <td>Markham</td>\n",
       "    </tr>\n",
       "    <tr>\n",
       "      <th>5477849</th>\n",
       "      <td>NaN</td>\n",
       "      <td>Markham Road, Unit 80 &amp; 81</td>\n",
       "      <td>NaN</td>\n",
       "      <td>Markham</td>\n",
       "    </tr>\n",
       "    <tr>\n",
       "      <th>5538403</th>\n",
       "      <td>NaN</td>\n",
       "      <td>North Park Road, Unit 111</td>\n",
       "      <td>Rd</td>\n",
       "      <td>Vaughan</td>\n",
       "    </tr>\n",
       "    <tr>\n",
       "      <th>5543202</th>\n",
       "      <td>NaN</td>\n",
       "      <td>North Park Road, Unit 111</td>\n",
       "      <td>Rd</td>\n",
       "      <td>Vaughan</td>\n",
       "    </tr>\n",
       "    <tr>\n",
       "      <th>5551708</th>\n",
       "      <td>39.0</td>\n",
       "      <td>Mccallum Drive, Unit 39</td>\n",
       "      <td>NaN</td>\n",
       "      <td>Richmond Hill</td>\n",
       "    </tr>\n",
       "    <tr>\n",
       "      <th>5551729</th>\n",
       "      <td>39.0</td>\n",
       "      <td>Mccallum Drive, Unit 39</td>\n",
       "      <td>NaN</td>\n",
       "      <td>Richmond Hill</td>\n",
       "    </tr>\n",
       "    <tr>\n",
       "      <th>5551744</th>\n",
       "      <td>39.0</td>\n",
       "      <td>Mccallum Drive, Unit 39</td>\n",
       "      <td>NaN</td>\n",
       "      <td>Richmond Hill</td>\n",
       "    </tr>\n",
       "    <tr>\n",
       "      <th>5551919</th>\n",
       "      <td>39.0</td>\n",
       "      <td>Mccallum Drive, Unit 39</td>\n",
       "      <td>NaN</td>\n",
       "      <td>Richmond Hill</td>\n",
       "    </tr>\n",
       "    <tr>\n",
       "      <th>5552107</th>\n",
       "      <td>39.0</td>\n",
       "      <td>Mccallum Drive, Unit 39</td>\n",
       "      <td>NaN</td>\n",
       "      <td>Richmond Hill</td>\n",
       "    </tr>\n",
       "    <tr>\n",
       "      <th>5552122</th>\n",
       "      <td>39.0</td>\n",
       "      <td>Mccallum Drive, Unit 39</td>\n",
       "      <td>NaN</td>\n",
       "      <td>Richmond Hill</td>\n",
       "    </tr>\n",
       "    <tr>\n",
       "      <th>5794612</th>\n",
       "      <td>NaN</td>\n",
       "      <td>Silverwood Avenue, Unit 1</td>\n",
       "      <td>NaN</td>\n",
       "      <td>Richmond Hill</td>\n",
       "    </tr>\n",
       "    <tr>\n",
       "      <th>5794775</th>\n",
       "      <td>NaN</td>\n",
       "      <td>Silverwood Avenue, Unit 1</td>\n",
       "      <td>NaN</td>\n",
       "      <td>Richmond Hill</td>\n",
       "    </tr>\n",
       "    <tr>\n",
       "      <th>5794822</th>\n",
       "      <td>NaN</td>\n",
       "      <td>Silverwood Avenue, Unit 1</td>\n",
       "      <td>NaN</td>\n",
       "      <td>Richmond Hill</td>\n",
       "    </tr>\n",
       "    <tr>\n",
       "      <th>5794993</th>\n",
       "      <td>NaN</td>\n",
       "      <td>Silverwood Avenue, Unit 1</td>\n",
       "      <td>NaN</td>\n",
       "      <td>Richmond Hill</td>\n",
       "    </tr>\n",
       "    <tr>\n",
       "      <th>5928520</th>\n",
       "      <td>NaN</td>\n",
       "      <td>Yonge Street, Unit A301</td>\n",
       "      <td>NaN</td>\n",
       "      <td>Richmond Hill</td>\n",
       "    </tr>\n",
       "    <tr>\n",
       "      <th>5928944</th>\n",
       "      <td>NaN</td>\n",
       "      <td>Yonge Street, Unit A301</td>\n",
       "      <td>NaN</td>\n",
       "      <td>Richmond Hill</td>\n",
       "    </tr>\n",
       "    <tr>\n",
       "      <th>6240198</th>\n",
       "      <td>NaN</td>\n",
       "      <td>Oneida Crescent, Unit 409</td>\n",
       "      <td>NaN</td>\n",
       "      <td>Richmond Hill</td>\n",
       "    </tr>\n",
       "    <tr>\n",
       "      <th>6240508</th>\n",
       "      <td>NaN</td>\n",
       "      <td>Oneida Crescent, Unit 203</td>\n",
       "      <td>NaN</td>\n",
       "      <td>Richmond Hill</td>\n",
       "    </tr>\n",
       "    <tr>\n",
       "      <th>6240591</th>\n",
       "      <td>NaN</td>\n",
       "      <td>Oneida Crescent, Unit 203</td>\n",
       "      <td>NaN</td>\n",
       "      <td>Richmond Hill</td>\n",
       "    </tr>\n",
       "    <tr>\n",
       "      <th>6241467</th>\n",
       "      <td>NaN</td>\n",
       "      <td>Oneida Crescent, Unit 203</td>\n",
       "      <td>NaN</td>\n",
       "      <td>Richmond Hill</td>\n",
       "    </tr>\n",
       "    <tr>\n",
       "      <th>6241468</th>\n",
       "      <td>NaN</td>\n",
       "      <td>Oneida Crescent, Unit 203</td>\n",
       "      <td>NaN</td>\n",
       "      <td>Richmond Hill</td>\n",
       "    </tr>\n",
       "    <tr>\n",
       "      <th>6242046</th>\n",
       "      <td>NaN</td>\n",
       "      <td>Oneida Crescent, Unit 409</td>\n",
       "      <td>NaN</td>\n",
       "      <td>Richmond Hill</td>\n",
       "    </tr>\n",
       "    <tr>\n",
       "      <th>6242366</th>\n",
       "      <td>NaN</td>\n",
       "      <td>Oneida Crescent, Unit 203</td>\n",
       "      <td>NaN</td>\n",
       "      <td>Richmond Hill</td>\n",
       "    </tr>\n",
       "    <tr>\n",
       "      <th>6242367</th>\n",
       "      <td>NaN</td>\n",
       "      <td>Oneida Crescent, Unit 203</td>\n",
       "      <td>NaN</td>\n",
       "      <td>Richmond Hill</td>\n",
       "    </tr>\n",
       "  </tbody>\n",
       "</table>\n",
       "<p>216 rows × 4 columns</p>\n",
       "</div>"
      ],
      "text/plain": [
       "         unitno                     street_name street_designation  \\\n",
       "36607       NaN          Speers Road, Unit 2006                NaN   \n",
       "36609       NaN          Speers Road, Unit 2006                NaN   \n",
       "36610       NaN          Speers Road, Unit 2006                NaN   \n",
       "37024       NaN          Speers Road, Unit 2006                NaN   \n",
       "37026       NaN          Speers Road, Unit 2006                NaN   \n",
       "37027       NaN          Speers Road, Unit 2006                NaN   \n",
       "72967       NaN          Preserve Drive, Unit 4                 Dr   \n",
       "72990       NaN         Preserve Drive, Unit 13                 Dr   \n",
       "73064       NaN       Sarah Cline Drive, Unit 4                 Dr   \n",
       "73068       NaN    Ellen Davidson Drive, Unit 5                 Dr   \n",
       "73069       NaN    Ellen Davidson Drive, Unit 4                 Dr   \n",
       "73110       NaN          Preserve Drive, Unit 4                 Dr   \n",
       "73298       NaN       Sarah Cline Drive, Unit 4                 Dr   \n",
       "73321       NaN    Ellen Davidson Drive, Unit 4                 Dr   \n",
       "73323       NaN    Ellen Davidson Drive, Unit 5                 Dr   \n",
       "73385       NaN         Preserve Drive, Unit 13                 Dr   \n",
       "75373       NaN    Ellen Davidson Drive, Unit 4                 Dr   \n",
       "77253       NaN       Sarah Cline Drive, Unit 4                 Dr   \n",
       "77449       NaN          Preserve Drive, Unit 4                 Dr   \n",
       "187179      NaN      Littlewood Drive, Unit 201                NaN   \n",
       "310950      NaN      Plains Road East, Unit 308                NaN   \n",
       "347495      NaN     Baronwood Drive, Unit 25-01                NaN   \n",
       "347496      NaN     Baronwood Drive, Unit 25-01                NaN   \n",
       "347497      NaN     Baronwood Drive, Unit 25-01                NaN   \n",
       "347505      NaN     Baronwood Drive, Unit 24-01                NaN   \n",
       "347506      NaN     Baronwood Drive, Unit 24-01                NaN   \n",
       "347507      NaN     Baronwood Drive, Unit 24-01                NaN   \n",
       "347512      NaN     Baronwood Drive, Unit 23-02                NaN   \n",
       "347513      NaN     Baronwood Drive, Unit 23-02                NaN   \n",
       "347514      NaN     Baronwood Drive, Unit 23-02                NaN   \n",
       "...         ...                             ...                ...   \n",
       "4958465    91.0  Highway 7 East, Unit 91 And 92                NaN   \n",
       "4958466    92.0  Highway 7 East, Unit 91 And 92                NaN   \n",
       "4966822    91.0  Highway 7 East, Unit 91 And 92                NaN   \n",
       "4966823    92.0  Highway 7 East, Unit 91 And 92                NaN   \n",
       "5363143     NaN   Eglinton Ave. West, Unit 1001                NaN   \n",
       "5363144     NaN   Eglinton Ave. West, Unit 1001                NaN   \n",
       "5477848     NaN      Markham Road, Unit 80 & 81                NaN   \n",
       "5477849     NaN      Markham Road, Unit 80 & 81                NaN   \n",
       "5538403     NaN       North Park Road, Unit 111                 Rd   \n",
       "5543202     NaN       North Park Road, Unit 111                 Rd   \n",
       "5551708    39.0         Mccallum Drive, Unit 39                NaN   \n",
       "5551729    39.0         Mccallum Drive, Unit 39                NaN   \n",
       "5551744    39.0         Mccallum Drive, Unit 39                NaN   \n",
       "5551919    39.0         Mccallum Drive, Unit 39                NaN   \n",
       "5552107    39.0         Mccallum Drive, Unit 39                NaN   \n",
       "5552122    39.0         Mccallum Drive, Unit 39                NaN   \n",
       "5794612     NaN       Silverwood Avenue, Unit 1                NaN   \n",
       "5794775     NaN       Silverwood Avenue, Unit 1                NaN   \n",
       "5794822     NaN       Silverwood Avenue, Unit 1                NaN   \n",
       "5794993     NaN       Silverwood Avenue, Unit 1                NaN   \n",
       "5928520     NaN         Yonge Street, Unit A301                NaN   \n",
       "5928944     NaN         Yonge Street, Unit A301                NaN   \n",
       "6240198     NaN       Oneida Crescent, Unit 409                NaN   \n",
       "6240508     NaN       Oneida Crescent, Unit 203                NaN   \n",
       "6240591     NaN       Oneida Crescent, Unit 203                NaN   \n",
       "6241467     NaN       Oneida Crescent, Unit 203                NaN   \n",
       "6241468     NaN       Oneida Crescent, Unit 203                NaN   \n",
       "6242046     NaN       Oneida Crescent, Unit 409                NaN   \n",
       "6242366     NaN       Oneida Crescent, Unit 203                NaN   \n",
       "6242367     NaN       Oneida Crescent, Unit 203                NaN   \n",
       "\n",
       "          municipality  \n",
       "36607         Oakville  \n",
       "36609         Oakville  \n",
       "36610         Oakville  \n",
       "37024         Oakville  \n",
       "37026         Oakville  \n",
       "37027         Oakville  \n",
       "72967         Oakville  \n",
       "72990         Oakville  \n",
       "73064         Oakville  \n",
       "73068         Oakville  \n",
       "73069         Oakville  \n",
       "73110         Oakville  \n",
       "73298         Oakville  \n",
       "73321         Oakville  \n",
       "73323         Oakville  \n",
       "73385         Oakville  \n",
       "75373         Oakville  \n",
       "77253         Oakville  \n",
       "77449         Oakville  \n",
       "187179        Oakville  \n",
       "310950      Burlington  \n",
       "347495        Oakville  \n",
       "347496        Oakville  \n",
       "347497        Oakville  \n",
       "347505        Oakville  \n",
       "347506        Oakville  \n",
       "347507        Oakville  \n",
       "347512        Oakville  \n",
       "347513        Oakville  \n",
       "347514        Oakville  \n",
       "...                ...  \n",
       "4958465        Markham  \n",
       "4958466        Markham  \n",
       "4966822        Markham  \n",
       "4966823        Markham  \n",
       "5363143    Mississauga  \n",
       "5363144    Mississauga  \n",
       "5477848        Markham  \n",
       "5477849        Markham  \n",
       "5538403        Vaughan  \n",
       "5543202        Vaughan  \n",
       "5551708  Richmond Hill  \n",
       "5551729  Richmond Hill  \n",
       "5551744  Richmond Hill  \n",
       "5551919  Richmond Hill  \n",
       "5552107  Richmond Hill  \n",
       "5552122  Richmond Hill  \n",
       "5794612  Richmond Hill  \n",
       "5794775  Richmond Hill  \n",
       "5794822  Richmond Hill  \n",
       "5794993  Richmond Hill  \n",
       "5928520  Richmond Hill  \n",
       "5928944  Richmond Hill  \n",
       "6240198  Richmond Hill  \n",
       "6240508  Richmond Hill  \n",
       "6240591  Richmond Hill  \n",
       "6241467  Richmond Hill  \n",
       "6241468  Richmond Hill  \n",
       "6242046  Richmond Hill  \n",
       "6242366  Richmond Hill  \n",
       "6242367  Richmond Hill  \n",
       "\n",
       "[216 rows x 4 columns]"
      ]
     },
     "execution_count": 10,
     "metadata": {},
     "output_type": "execute_result"
    }
   ],
   "source": [
    "mask1 = df['street_name'].str.contains('Unit', na=False, case=False)\n",
    "mask2 = df['street_name'].str.contains('(Unity|Unita|United|Munition)', na=False, case=False)\n",
    "mask3 = df['street_name'].str.contains(',')\n",
    "df.loc[mask1 & ~mask2 & mask3, ['unitno', 'street_name', 'street_designation', 'municipality']]"
   ]
  },
  {
   "cell_type": "code",
   "execution_count": 11,
   "metadata": {},
   "outputs": [
    {
     "data": {
      "text/html": [
       "<div>\n",
       "<style scoped>\n",
       "    .dataframe tbody tr th:only-of-type {\n",
       "        vertical-align: middle;\n",
       "    }\n",
       "\n",
       "    .dataframe tbody tr th {\n",
       "        vertical-align: top;\n",
       "    }\n",
       "\n",
       "    .dataframe thead th {\n",
       "        text-align: right;\n",
       "    }\n",
       "</style>\n",
       "<table border=\"1\" class=\"dataframe\">\n",
       "  <thead>\n",
       "    <tr style=\"text-align: right;\">\n",
       "      <th></th>\n",
       "      <th>unitno</th>\n",
       "      <th>street_name</th>\n",
       "      <th>street_designation</th>\n",
       "      <th>municipality</th>\n",
       "    </tr>\n",
       "  </thead>\n",
       "  <tbody>\n",
       "    <tr>\n",
       "      <th>36607</th>\n",
       "      <td>2006</td>\n",
       "      <td>Speers Road</td>\n",
       "      <td>NaN</td>\n",
       "      <td>Oakville</td>\n",
       "    </tr>\n",
       "    <tr>\n",
       "      <th>36609</th>\n",
       "      <td>2006</td>\n",
       "      <td>Speers Road</td>\n",
       "      <td>NaN</td>\n",
       "      <td>Oakville</td>\n",
       "    </tr>\n",
       "    <tr>\n",
       "      <th>36610</th>\n",
       "      <td>2006</td>\n",
       "      <td>Speers Road</td>\n",
       "      <td>NaN</td>\n",
       "      <td>Oakville</td>\n",
       "    </tr>\n",
       "    <tr>\n",
       "      <th>37024</th>\n",
       "      <td>2006</td>\n",
       "      <td>Speers Road</td>\n",
       "      <td>NaN</td>\n",
       "      <td>Oakville</td>\n",
       "    </tr>\n",
       "    <tr>\n",
       "      <th>37026</th>\n",
       "      <td>2006</td>\n",
       "      <td>Speers Road</td>\n",
       "      <td>NaN</td>\n",
       "      <td>Oakville</td>\n",
       "    </tr>\n",
       "    <tr>\n",
       "      <th>37027</th>\n",
       "      <td>2006</td>\n",
       "      <td>Speers Road</td>\n",
       "      <td>NaN</td>\n",
       "      <td>Oakville</td>\n",
       "    </tr>\n",
       "    <tr>\n",
       "      <th>72967</th>\n",
       "      <td>4</td>\n",
       "      <td>Preserve Drive</td>\n",
       "      <td>Dr</td>\n",
       "      <td>Oakville</td>\n",
       "    </tr>\n",
       "    <tr>\n",
       "      <th>72990</th>\n",
       "      <td>13</td>\n",
       "      <td>Preserve Drive</td>\n",
       "      <td>Dr</td>\n",
       "      <td>Oakville</td>\n",
       "    </tr>\n",
       "    <tr>\n",
       "      <th>73064</th>\n",
       "      <td>4</td>\n",
       "      <td>Sarah Cline Drive</td>\n",
       "      <td>Dr</td>\n",
       "      <td>Oakville</td>\n",
       "    </tr>\n",
       "    <tr>\n",
       "      <th>73068</th>\n",
       "      <td>5</td>\n",
       "      <td>Ellen Davidson Drive</td>\n",
       "      <td>Dr</td>\n",
       "      <td>Oakville</td>\n",
       "    </tr>\n",
       "    <tr>\n",
       "      <th>73069</th>\n",
       "      <td>4</td>\n",
       "      <td>Ellen Davidson Drive</td>\n",
       "      <td>Dr</td>\n",
       "      <td>Oakville</td>\n",
       "    </tr>\n",
       "    <tr>\n",
       "      <th>73110</th>\n",
       "      <td>4</td>\n",
       "      <td>Preserve Drive</td>\n",
       "      <td>Dr</td>\n",
       "      <td>Oakville</td>\n",
       "    </tr>\n",
       "    <tr>\n",
       "      <th>73298</th>\n",
       "      <td>4</td>\n",
       "      <td>Sarah Cline Drive</td>\n",
       "      <td>Dr</td>\n",
       "      <td>Oakville</td>\n",
       "    </tr>\n",
       "    <tr>\n",
       "      <th>73321</th>\n",
       "      <td>4</td>\n",
       "      <td>Ellen Davidson Drive</td>\n",
       "      <td>Dr</td>\n",
       "      <td>Oakville</td>\n",
       "    </tr>\n",
       "    <tr>\n",
       "      <th>73323</th>\n",
       "      <td>5</td>\n",
       "      <td>Ellen Davidson Drive</td>\n",
       "      <td>Dr</td>\n",
       "      <td>Oakville</td>\n",
       "    </tr>\n",
       "    <tr>\n",
       "      <th>73385</th>\n",
       "      <td>13</td>\n",
       "      <td>Preserve Drive</td>\n",
       "      <td>Dr</td>\n",
       "      <td>Oakville</td>\n",
       "    </tr>\n",
       "    <tr>\n",
       "      <th>75373</th>\n",
       "      <td>4</td>\n",
       "      <td>Ellen Davidson Drive</td>\n",
       "      <td>Dr</td>\n",
       "      <td>Oakville</td>\n",
       "    </tr>\n",
       "    <tr>\n",
       "      <th>77253</th>\n",
       "      <td>4</td>\n",
       "      <td>Sarah Cline Drive</td>\n",
       "      <td>Dr</td>\n",
       "      <td>Oakville</td>\n",
       "    </tr>\n",
       "    <tr>\n",
       "      <th>77449</th>\n",
       "      <td>4</td>\n",
       "      <td>Preserve Drive</td>\n",
       "      <td>Dr</td>\n",
       "      <td>Oakville</td>\n",
       "    </tr>\n",
       "    <tr>\n",
       "      <th>187179</th>\n",
       "      <td>201</td>\n",
       "      <td>Littlewood Drive</td>\n",
       "      <td>NaN</td>\n",
       "      <td>Oakville</td>\n",
       "    </tr>\n",
       "    <tr>\n",
       "      <th>310950</th>\n",
       "      <td>308</td>\n",
       "      <td>Plains Road East</td>\n",
       "      <td>NaN</td>\n",
       "      <td>Burlington</td>\n",
       "    </tr>\n",
       "    <tr>\n",
       "      <th>347495</th>\n",
       "      <td>25-01</td>\n",
       "      <td>Baronwood Drive</td>\n",
       "      <td>NaN</td>\n",
       "      <td>Oakville</td>\n",
       "    </tr>\n",
       "    <tr>\n",
       "      <th>347496</th>\n",
       "      <td>25-01</td>\n",
       "      <td>Baronwood Drive</td>\n",
       "      <td>NaN</td>\n",
       "      <td>Oakville</td>\n",
       "    </tr>\n",
       "    <tr>\n",
       "      <th>347497</th>\n",
       "      <td>25-01</td>\n",
       "      <td>Baronwood Drive</td>\n",
       "      <td>NaN</td>\n",
       "      <td>Oakville</td>\n",
       "    </tr>\n",
       "    <tr>\n",
       "      <th>347505</th>\n",
       "      <td>24-01</td>\n",
       "      <td>Baronwood Drive</td>\n",
       "      <td>NaN</td>\n",
       "      <td>Oakville</td>\n",
       "    </tr>\n",
       "    <tr>\n",
       "      <th>347506</th>\n",
       "      <td>24-01</td>\n",
       "      <td>Baronwood Drive</td>\n",
       "      <td>NaN</td>\n",
       "      <td>Oakville</td>\n",
       "    </tr>\n",
       "    <tr>\n",
       "      <th>347507</th>\n",
       "      <td>24-01</td>\n",
       "      <td>Baronwood Drive</td>\n",
       "      <td>NaN</td>\n",
       "      <td>Oakville</td>\n",
       "    </tr>\n",
       "    <tr>\n",
       "      <th>347512</th>\n",
       "      <td>23-02</td>\n",
       "      <td>Baronwood Drive</td>\n",
       "      <td>NaN</td>\n",
       "      <td>Oakville</td>\n",
       "    </tr>\n",
       "    <tr>\n",
       "      <th>347513</th>\n",
       "      <td>23-02</td>\n",
       "      <td>Baronwood Drive</td>\n",
       "      <td>NaN</td>\n",
       "      <td>Oakville</td>\n",
       "    </tr>\n",
       "    <tr>\n",
       "      <th>347514</th>\n",
       "      <td>23-02</td>\n",
       "      <td>Baronwood Drive</td>\n",
       "      <td>NaN</td>\n",
       "      <td>Oakville</td>\n",
       "    </tr>\n",
       "    <tr>\n",
       "      <th>...</th>\n",
       "      <td>...</td>\n",
       "      <td>...</td>\n",
       "      <td>...</td>\n",
       "      <td>...</td>\n",
       "    </tr>\n",
       "    <tr>\n",
       "      <th>4958465</th>\n",
       "      <td>91 And 92</td>\n",
       "      <td>Highway 7 East</td>\n",
       "      <td>NaN</td>\n",
       "      <td>Markham</td>\n",
       "    </tr>\n",
       "    <tr>\n",
       "      <th>4958466</th>\n",
       "      <td>91 And 92</td>\n",
       "      <td>Highway 7 East</td>\n",
       "      <td>NaN</td>\n",
       "      <td>Markham</td>\n",
       "    </tr>\n",
       "    <tr>\n",
       "      <th>4966822</th>\n",
       "      <td>91 And 92</td>\n",
       "      <td>Highway 7 East</td>\n",
       "      <td>NaN</td>\n",
       "      <td>Markham</td>\n",
       "    </tr>\n",
       "    <tr>\n",
       "      <th>4966823</th>\n",
       "      <td>91 And 92</td>\n",
       "      <td>Highway 7 East</td>\n",
       "      <td>NaN</td>\n",
       "      <td>Markham</td>\n",
       "    </tr>\n",
       "    <tr>\n",
       "      <th>5363143</th>\n",
       "      <td>1001</td>\n",
       "      <td>Eglinton Ave. West</td>\n",
       "      <td>NaN</td>\n",
       "      <td>Mississauga</td>\n",
       "    </tr>\n",
       "    <tr>\n",
       "      <th>5363144</th>\n",
       "      <td>1001</td>\n",
       "      <td>Eglinton Ave. West</td>\n",
       "      <td>NaN</td>\n",
       "      <td>Mississauga</td>\n",
       "    </tr>\n",
       "    <tr>\n",
       "      <th>5477848</th>\n",
       "      <td>80 &amp; 81</td>\n",
       "      <td>Markham Road</td>\n",
       "      <td>NaN</td>\n",
       "      <td>Markham</td>\n",
       "    </tr>\n",
       "    <tr>\n",
       "      <th>5477849</th>\n",
       "      <td>80 &amp; 81</td>\n",
       "      <td>Markham Road</td>\n",
       "      <td>NaN</td>\n",
       "      <td>Markham</td>\n",
       "    </tr>\n",
       "    <tr>\n",
       "      <th>5538403</th>\n",
       "      <td>111</td>\n",
       "      <td>North Park Road</td>\n",
       "      <td>Rd</td>\n",
       "      <td>Vaughan</td>\n",
       "    </tr>\n",
       "    <tr>\n",
       "      <th>5543202</th>\n",
       "      <td>111</td>\n",
       "      <td>North Park Road</td>\n",
       "      <td>Rd</td>\n",
       "      <td>Vaughan</td>\n",
       "    </tr>\n",
       "    <tr>\n",
       "      <th>5551708</th>\n",
       "      <td>39</td>\n",
       "      <td>Mccallum Drive</td>\n",
       "      <td>NaN</td>\n",
       "      <td>Richmond Hill</td>\n",
       "    </tr>\n",
       "    <tr>\n",
       "      <th>5551729</th>\n",
       "      <td>39</td>\n",
       "      <td>Mccallum Drive</td>\n",
       "      <td>NaN</td>\n",
       "      <td>Richmond Hill</td>\n",
       "    </tr>\n",
       "    <tr>\n",
       "      <th>5551744</th>\n",
       "      <td>39</td>\n",
       "      <td>Mccallum Drive</td>\n",
       "      <td>NaN</td>\n",
       "      <td>Richmond Hill</td>\n",
       "    </tr>\n",
       "    <tr>\n",
       "      <th>5551919</th>\n",
       "      <td>39</td>\n",
       "      <td>Mccallum Drive</td>\n",
       "      <td>NaN</td>\n",
       "      <td>Richmond Hill</td>\n",
       "    </tr>\n",
       "    <tr>\n",
       "      <th>5552107</th>\n",
       "      <td>39</td>\n",
       "      <td>Mccallum Drive</td>\n",
       "      <td>NaN</td>\n",
       "      <td>Richmond Hill</td>\n",
       "    </tr>\n",
       "    <tr>\n",
       "      <th>5552122</th>\n",
       "      <td>39</td>\n",
       "      <td>Mccallum Drive</td>\n",
       "      <td>NaN</td>\n",
       "      <td>Richmond Hill</td>\n",
       "    </tr>\n",
       "    <tr>\n",
       "      <th>5794612</th>\n",
       "      <td>1</td>\n",
       "      <td>Silverwood Avenue</td>\n",
       "      <td>NaN</td>\n",
       "      <td>Richmond Hill</td>\n",
       "    </tr>\n",
       "    <tr>\n",
       "      <th>5794775</th>\n",
       "      <td>1</td>\n",
       "      <td>Silverwood Avenue</td>\n",
       "      <td>NaN</td>\n",
       "      <td>Richmond Hill</td>\n",
       "    </tr>\n",
       "    <tr>\n",
       "      <th>5794822</th>\n",
       "      <td>1</td>\n",
       "      <td>Silverwood Avenue</td>\n",
       "      <td>NaN</td>\n",
       "      <td>Richmond Hill</td>\n",
       "    </tr>\n",
       "    <tr>\n",
       "      <th>5794993</th>\n",
       "      <td>1</td>\n",
       "      <td>Silverwood Avenue</td>\n",
       "      <td>NaN</td>\n",
       "      <td>Richmond Hill</td>\n",
       "    </tr>\n",
       "    <tr>\n",
       "      <th>5928520</th>\n",
       "      <td>A301</td>\n",
       "      <td>Yonge Street</td>\n",
       "      <td>NaN</td>\n",
       "      <td>Richmond Hill</td>\n",
       "    </tr>\n",
       "    <tr>\n",
       "      <th>5928944</th>\n",
       "      <td>A301</td>\n",
       "      <td>Yonge Street</td>\n",
       "      <td>NaN</td>\n",
       "      <td>Richmond Hill</td>\n",
       "    </tr>\n",
       "    <tr>\n",
       "      <th>6240198</th>\n",
       "      <td>409</td>\n",
       "      <td>Oneida Crescent</td>\n",
       "      <td>NaN</td>\n",
       "      <td>Richmond Hill</td>\n",
       "    </tr>\n",
       "    <tr>\n",
       "      <th>6240508</th>\n",
       "      <td>203</td>\n",
       "      <td>Oneida Crescent</td>\n",
       "      <td>NaN</td>\n",
       "      <td>Richmond Hill</td>\n",
       "    </tr>\n",
       "    <tr>\n",
       "      <th>6240591</th>\n",
       "      <td>203</td>\n",
       "      <td>Oneida Crescent</td>\n",
       "      <td>NaN</td>\n",
       "      <td>Richmond Hill</td>\n",
       "    </tr>\n",
       "    <tr>\n",
       "      <th>6241467</th>\n",
       "      <td>203</td>\n",
       "      <td>Oneida Crescent</td>\n",
       "      <td>NaN</td>\n",
       "      <td>Richmond Hill</td>\n",
       "    </tr>\n",
       "    <tr>\n",
       "      <th>6241468</th>\n",
       "      <td>203</td>\n",
       "      <td>Oneida Crescent</td>\n",
       "      <td>NaN</td>\n",
       "      <td>Richmond Hill</td>\n",
       "    </tr>\n",
       "    <tr>\n",
       "      <th>6242046</th>\n",
       "      <td>409</td>\n",
       "      <td>Oneida Crescent</td>\n",
       "      <td>NaN</td>\n",
       "      <td>Richmond Hill</td>\n",
       "    </tr>\n",
       "    <tr>\n",
       "      <th>6242366</th>\n",
       "      <td>203</td>\n",
       "      <td>Oneida Crescent</td>\n",
       "      <td>NaN</td>\n",
       "      <td>Richmond Hill</td>\n",
       "    </tr>\n",
       "    <tr>\n",
       "      <th>6242367</th>\n",
       "      <td>203</td>\n",
       "      <td>Oneida Crescent</td>\n",
       "      <td>NaN</td>\n",
       "      <td>Richmond Hill</td>\n",
       "    </tr>\n",
       "  </tbody>\n",
       "</table>\n",
       "<p>216 rows × 4 columns</p>\n",
       "</div>"
      ],
      "text/plain": [
       "            unitno           street_name street_designation   municipality\n",
       "36607         2006           Speers Road                NaN       Oakville\n",
       "36609         2006           Speers Road                NaN       Oakville\n",
       "36610         2006           Speers Road                NaN       Oakville\n",
       "37024         2006           Speers Road                NaN       Oakville\n",
       "37026         2006           Speers Road                NaN       Oakville\n",
       "37027         2006           Speers Road                NaN       Oakville\n",
       "72967            4        Preserve Drive                 Dr       Oakville\n",
       "72990           13        Preserve Drive                 Dr       Oakville\n",
       "73064            4     Sarah Cline Drive                 Dr       Oakville\n",
       "73068            5  Ellen Davidson Drive                 Dr       Oakville\n",
       "73069            4  Ellen Davidson Drive                 Dr       Oakville\n",
       "73110            4        Preserve Drive                 Dr       Oakville\n",
       "73298            4     Sarah Cline Drive                 Dr       Oakville\n",
       "73321            4  Ellen Davidson Drive                 Dr       Oakville\n",
       "73323            5  Ellen Davidson Drive                 Dr       Oakville\n",
       "73385           13        Preserve Drive                 Dr       Oakville\n",
       "75373            4  Ellen Davidson Drive                 Dr       Oakville\n",
       "77253            4     Sarah Cline Drive                 Dr       Oakville\n",
       "77449            4        Preserve Drive                 Dr       Oakville\n",
       "187179         201      Littlewood Drive                NaN       Oakville\n",
       "310950         308      Plains Road East                NaN     Burlington\n",
       "347495       25-01       Baronwood Drive                NaN       Oakville\n",
       "347496       25-01       Baronwood Drive                NaN       Oakville\n",
       "347497       25-01       Baronwood Drive                NaN       Oakville\n",
       "347505       24-01       Baronwood Drive                NaN       Oakville\n",
       "347506       24-01       Baronwood Drive                NaN       Oakville\n",
       "347507       24-01       Baronwood Drive                NaN       Oakville\n",
       "347512       23-02       Baronwood Drive                NaN       Oakville\n",
       "347513       23-02       Baronwood Drive                NaN       Oakville\n",
       "347514       23-02       Baronwood Drive                NaN       Oakville\n",
       "...            ...                   ...                ...            ...\n",
       "4958465  91 And 92        Highway 7 East                NaN        Markham\n",
       "4958466  91 And 92        Highway 7 East                NaN        Markham\n",
       "4966822  91 And 92        Highway 7 East                NaN        Markham\n",
       "4966823  91 And 92        Highway 7 East                NaN        Markham\n",
       "5363143       1001    Eglinton Ave. West                NaN    Mississauga\n",
       "5363144       1001    Eglinton Ave. West                NaN    Mississauga\n",
       "5477848    80 & 81          Markham Road                NaN        Markham\n",
       "5477849    80 & 81          Markham Road                NaN        Markham\n",
       "5538403        111       North Park Road                 Rd        Vaughan\n",
       "5543202        111       North Park Road                 Rd        Vaughan\n",
       "5551708         39        Mccallum Drive                NaN  Richmond Hill\n",
       "5551729         39        Mccallum Drive                NaN  Richmond Hill\n",
       "5551744         39        Mccallum Drive                NaN  Richmond Hill\n",
       "5551919         39        Mccallum Drive                NaN  Richmond Hill\n",
       "5552107         39        Mccallum Drive                NaN  Richmond Hill\n",
       "5552122         39        Mccallum Drive                NaN  Richmond Hill\n",
       "5794612          1     Silverwood Avenue                NaN  Richmond Hill\n",
       "5794775          1     Silverwood Avenue                NaN  Richmond Hill\n",
       "5794822          1     Silverwood Avenue                NaN  Richmond Hill\n",
       "5794993          1     Silverwood Avenue                NaN  Richmond Hill\n",
       "5928520       A301          Yonge Street                NaN  Richmond Hill\n",
       "5928944       A301          Yonge Street                NaN  Richmond Hill\n",
       "6240198        409       Oneida Crescent                NaN  Richmond Hill\n",
       "6240508        203       Oneida Crescent                NaN  Richmond Hill\n",
       "6240591        203       Oneida Crescent                NaN  Richmond Hill\n",
       "6241467        203       Oneida Crescent                NaN  Richmond Hill\n",
       "6241468        203       Oneida Crescent                NaN  Richmond Hill\n",
       "6242046        409       Oneida Crescent                NaN  Richmond Hill\n",
       "6242366        203       Oneida Crescent                NaN  Richmond Hill\n",
       "6242367        203       Oneida Crescent                NaN  Richmond Hill\n",
       "\n",
       "[216 rows x 4 columns]"
      ]
     },
     "execution_count": 11,
     "metadata": {},
     "output_type": "execute_result"
    }
   ],
   "source": [
    "df.loc[mask1 & ~mask2 & mask3, 'unitno'] = \\\n",
    "    df.loc[mask1 & ~mask2 & mask3, 'street_name']\\\n",
    "    .str.split(',').apply(lambda x: x[-1]).str.replace('Unit', '').str.strip()\n",
    "df.loc[mask1 & ~mask2 & mask3, 'street_name'] = \\\n",
    "    df.loc[mask1 & ~mask2 & mask3, 'street_name'].str.split(',')\\\n",
    "    .apply(lambda x: x[0]).str.strip()\n",
    "df.loc[mask1 & ~mask2 & mask3, ['unitno', 'street_name', 'street_designation', 'municipality']]"
   ]
  },
  {
   "cell_type": "markdown",
   "metadata": {},
   "source": [
    "### Extract `unitno` from `street_name`\n",
    "#### Split by '-'"
   ]
  },
  {
   "cell_type": "code",
   "execution_count": 12,
   "metadata": {},
   "outputs": [
    {
     "name": "stderr",
     "output_type": "stream",
     "text": [
      "/home/stepan/anaconda3/envs/gds/lib/python3.6/site-packages/ipykernel_launcher.py:2: UserWarning: This pattern has match groups. To actually get the groups, use str.extract.\n",
      "  \n"
     ]
    },
    {
     "data": {
      "text/html": [
       "<div>\n",
       "<style scoped>\n",
       "    .dataframe tbody tr th:only-of-type {\n",
       "        vertical-align: middle;\n",
       "    }\n",
       "\n",
       "    .dataframe tbody tr th {\n",
       "        vertical-align: top;\n",
       "    }\n",
       "\n",
       "    .dataframe thead th {\n",
       "        text-align: right;\n",
       "    }\n",
       "</style>\n",
       "<table border=\"1\" class=\"dataframe\">\n",
       "  <thead>\n",
       "    <tr style=\"text-align: right;\">\n",
       "      <th></th>\n",
       "      <th>unitno</th>\n",
       "      <th>street_name</th>\n",
       "      <th>street_designation</th>\n",
       "      <th>municipality</th>\n",
       "    </tr>\n",
       "  </thead>\n",
       "  <tbody>\n",
       "    <tr>\n",
       "      <th>931018</th>\n",
       "      <td>NaN</td>\n",
       "      <td>George Street - Parking Unit</td>\n",
       "      <td>St</td>\n",
       "      <td>Toronto</td>\n",
       "    </tr>\n",
       "    <tr>\n",
       "      <th>931757</th>\n",
       "      <td>NaN</td>\n",
       "      <td>George Street - Parking Unit</td>\n",
       "      <td>St</td>\n",
       "      <td>Toronto</td>\n",
       "    </tr>\n",
       "    <tr>\n",
       "      <th>933483</th>\n",
       "      <td>NaN</td>\n",
       "      <td>George Street - Parking Unit</td>\n",
       "      <td>St</td>\n",
       "      <td>Toronto</td>\n",
       "    </tr>\n",
       "    <tr>\n",
       "      <th>935165</th>\n",
       "      <td>NaN</td>\n",
       "      <td>George Street - Parking Unit</td>\n",
       "      <td>St</td>\n",
       "      <td>Toronto</td>\n",
       "    </tr>\n",
       "    <tr>\n",
       "      <th>935841</th>\n",
       "      <td>NaN</td>\n",
       "      <td>George Street - Parking Unit</td>\n",
       "      <td>St</td>\n",
       "      <td>Toronto</td>\n",
       "    </tr>\n",
       "    <tr>\n",
       "      <th>1561933</th>\n",
       "      <td>NaN</td>\n",
       "      <td>St. Joseph Street-Locker Unit</td>\n",
       "      <td>NaN</td>\n",
       "      <td>Toronto</td>\n",
       "    </tr>\n",
       "    <tr>\n",
       "      <th>1561934</th>\n",
       "      <td>NaN</td>\n",
       "      <td>St. Joseph Street-Locker Unit</td>\n",
       "      <td>NaN</td>\n",
       "      <td>Toronto</td>\n",
       "    </tr>\n",
       "    <tr>\n",
       "      <th>1561935</th>\n",
       "      <td>NaN</td>\n",
       "      <td>St. Joseph Street-Locker Unit</td>\n",
       "      <td>NaN</td>\n",
       "      <td>Toronto</td>\n",
       "    </tr>\n",
       "    <tr>\n",
       "      <th>1561936</th>\n",
       "      <td>NaN</td>\n",
       "      <td>St. Joseph Street-Locker Unit</td>\n",
       "      <td>NaN</td>\n",
       "      <td>Toronto</td>\n",
       "    </tr>\n",
       "    <tr>\n",
       "      <th>2146741</th>\n",
       "      <td>NaN</td>\n",
       "      <td>Bathurst Street-Storage Unit</td>\n",
       "      <td>NaN</td>\n",
       "      <td>Toronto</td>\n",
       "    </tr>\n",
       "    <tr>\n",
       "      <th>3147952</th>\n",
       "      <td>NaN</td>\n",
       "      <td>Bruyeres Mews - Storage Unit</td>\n",
       "      <td>NaN</td>\n",
       "      <td>Toronto</td>\n",
       "    </tr>\n",
       "    <tr>\n",
       "      <th>3148748</th>\n",
       "      <td>NaN</td>\n",
       "      <td>Bruyeres Mews - Storage Unit</td>\n",
       "      <td>NaN</td>\n",
       "      <td>Toronto</td>\n",
       "    </tr>\n",
       "    <tr>\n",
       "      <th>3207184</th>\n",
       "      <td>NaN</td>\n",
       "      <td>Front Street East - Parking Unit</td>\n",
       "      <td>NaN</td>\n",
       "      <td>Toronto</td>\n",
       "    </tr>\n",
       "    <tr>\n",
       "      <th>3207186</th>\n",
       "      <td>NaN</td>\n",
       "      <td>Front Street East - Locker Unit</td>\n",
       "      <td>NaN</td>\n",
       "      <td>Toronto</td>\n",
       "    </tr>\n",
       "    <tr>\n",
       "      <th>3375010</th>\n",
       "      <td>NaN</td>\n",
       "      <td>Richmond St. W. - Locker Unit</td>\n",
       "      <td>NaN</td>\n",
       "      <td>Toronto</td>\n",
       "    </tr>\n",
       "    <tr>\n",
       "      <th>3375602</th>\n",
       "      <td>NaN</td>\n",
       "      <td>Richmond St. W. - Locker Unit</td>\n",
       "      <td>NaN</td>\n",
       "      <td>Toronto</td>\n",
       "    </tr>\n",
       "    <tr>\n",
       "      <th>3555554</th>\n",
       "      <td>NaN</td>\n",
       "      <td>Abell Street- Parking Unit</td>\n",
       "      <td>NaN</td>\n",
       "      <td>Toronto</td>\n",
       "    </tr>\n",
       "    <tr>\n",
       "      <th>3880145</th>\n",
       "      <td>NaN</td>\n",
       "      <td>Valhalla Inn Road - Storage Unit</td>\n",
       "      <td>NaN</td>\n",
       "      <td>Toronto</td>\n",
       "    </tr>\n",
       "    <tr>\n",
       "      <th>3880146</th>\n",
       "      <td>NaN</td>\n",
       "      <td>Valhalla Inn Road - Parking Unit</td>\n",
       "      <td>NaN</td>\n",
       "      <td>Toronto</td>\n",
       "    </tr>\n",
       "    <tr>\n",
       "      <th>4606516</th>\n",
       "      <td>NaN</td>\n",
       "      <td>Nash Road Unit H-10</td>\n",
       "      <td>NaN</td>\n",
       "      <td>Courtice</td>\n",
       "    </tr>\n",
       "    <tr>\n",
       "      <th>4606857</th>\n",
       "      <td>NaN</td>\n",
       "      <td>Nash Road Unit H-10</td>\n",
       "      <td>NaN</td>\n",
       "      <td>Courtice</td>\n",
       "    </tr>\n",
       "    <tr>\n",
       "      <th>4607131</th>\n",
       "      <td>NaN</td>\n",
       "      <td>Nash Road Unit H-10</td>\n",
       "      <td>NaN</td>\n",
       "      <td>Courtice</td>\n",
       "    </tr>\n",
       "    <tr>\n",
       "      <th>4934975</th>\n",
       "      <td>NaN</td>\n",
       "      <td>Highway 7 West - Storage Unit</td>\n",
       "      <td>NaN</td>\n",
       "      <td>Vaughan</td>\n",
       "    </tr>\n",
       "    <tr>\n",
       "      <th>4934976</th>\n",
       "      <td>NaN</td>\n",
       "      <td>Highway 7 West - Parking Unit</td>\n",
       "      <td>NaN</td>\n",
       "      <td>Vaughan</td>\n",
       "    </tr>\n",
       "  </tbody>\n",
       "</table>\n",
       "</div>"
      ],
      "text/plain": [
       "        unitno                       street_name street_designation  \\\n",
       "931018     NaN      George Street - Parking Unit                 St   \n",
       "931757     NaN      George Street - Parking Unit                 St   \n",
       "933483     NaN      George Street - Parking Unit                 St   \n",
       "935165     NaN      George Street - Parking Unit                 St   \n",
       "935841     NaN      George Street - Parking Unit                 St   \n",
       "1561933    NaN     St. Joseph Street-Locker Unit                NaN   \n",
       "1561934    NaN     St. Joseph Street-Locker Unit                NaN   \n",
       "1561935    NaN     St. Joseph Street-Locker Unit                NaN   \n",
       "1561936    NaN     St. Joseph Street-Locker Unit                NaN   \n",
       "2146741    NaN      Bathurst Street-Storage Unit                NaN   \n",
       "3147952    NaN      Bruyeres Mews - Storage Unit                NaN   \n",
       "3148748    NaN      Bruyeres Mews - Storage Unit                NaN   \n",
       "3207184    NaN  Front Street East - Parking Unit                NaN   \n",
       "3207186    NaN   Front Street East - Locker Unit                NaN   \n",
       "3375010    NaN     Richmond St. W. - Locker Unit                NaN   \n",
       "3375602    NaN     Richmond St. W. - Locker Unit                NaN   \n",
       "3555554    NaN        Abell Street- Parking Unit                NaN   \n",
       "3880145    NaN  Valhalla Inn Road - Storage Unit                NaN   \n",
       "3880146    NaN  Valhalla Inn Road - Parking Unit                NaN   \n",
       "4606516    NaN               Nash Road Unit H-10                NaN   \n",
       "4606857    NaN               Nash Road Unit H-10                NaN   \n",
       "4607131    NaN               Nash Road Unit H-10                NaN   \n",
       "4934975    NaN     Highway 7 West - Storage Unit                NaN   \n",
       "4934976    NaN     Highway 7 West - Parking Unit                NaN   \n",
       "\n",
       "        municipality  \n",
       "931018       Toronto  \n",
       "931757       Toronto  \n",
       "933483       Toronto  \n",
       "935165       Toronto  \n",
       "935841       Toronto  \n",
       "1561933      Toronto  \n",
       "1561934      Toronto  \n",
       "1561935      Toronto  \n",
       "1561936      Toronto  \n",
       "2146741      Toronto  \n",
       "3147952      Toronto  \n",
       "3148748      Toronto  \n",
       "3207184      Toronto  \n",
       "3207186      Toronto  \n",
       "3375010      Toronto  \n",
       "3375602      Toronto  \n",
       "3555554      Toronto  \n",
       "3880145      Toronto  \n",
       "3880146      Toronto  \n",
       "4606516     Courtice  \n",
       "4606857     Courtice  \n",
       "4607131     Courtice  \n",
       "4934975      Vaughan  \n",
       "4934976      Vaughan  "
      ]
     },
     "execution_count": 12,
     "metadata": {},
     "output_type": "execute_result"
    }
   ],
   "source": [
    "mask1 = df['street_name'].str.contains('Unit', na=False, case=False)\n",
    "mask2 = df['street_name'].str.contains('(Unity|Unita|United|Munition)', na=False, case=False)\n",
    "mask3 = df['street_name'].str.contains('-')\n",
    "df.loc[mask1 & ~mask2 & mask3, ['unitno', 'street_name', 'street_designation', 'municipality']]"
   ]
  },
  {
   "cell_type": "code",
   "execution_count": 13,
   "metadata": {},
   "outputs": [
    {
     "data": {
      "text/html": [
       "<div>\n",
       "<style scoped>\n",
       "    .dataframe tbody tr th:only-of-type {\n",
       "        vertical-align: middle;\n",
       "    }\n",
       "\n",
       "    .dataframe tbody tr th {\n",
       "        vertical-align: top;\n",
       "    }\n",
       "\n",
       "    .dataframe thead th {\n",
       "        text-align: right;\n",
       "    }\n",
       "</style>\n",
       "<table border=\"1\" class=\"dataframe\">\n",
       "  <thead>\n",
       "    <tr style=\"text-align: right;\">\n",
       "      <th></th>\n",
       "      <th>unitno</th>\n",
       "      <th>street_name</th>\n",
       "      <th>street_designation</th>\n",
       "      <th>municipality</th>\n",
       "    </tr>\n",
       "  </thead>\n",
       "  <tbody>\n",
       "    <tr>\n",
       "      <th>931018</th>\n",
       "      <td>Parking</td>\n",
       "      <td>George Street</td>\n",
       "      <td>St</td>\n",
       "      <td>Toronto</td>\n",
       "    </tr>\n",
       "    <tr>\n",
       "      <th>931757</th>\n",
       "      <td>Parking</td>\n",
       "      <td>George Street</td>\n",
       "      <td>St</td>\n",
       "      <td>Toronto</td>\n",
       "    </tr>\n",
       "    <tr>\n",
       "      <th>933483</th>\n",
       "      <td>Parking</td>\n",
       "      <td>George Street</td>\n",
       "      <td>St</td>\n",
       "      <td>Toronto</td>\n",
       "    </tr>\n",
       "    <tr>\n",
       "      <th>935165</th>\n",
       "      <td>Parking</td>\n",
       "      <td>George Street</td>\n",
       "      <td>St</td>\n",
       "      <td>Toronto</td>\n",
       "    </tr>\n",
       "    <tr>\n",
       "      <th>935841</th>\n",
       "      <td>Parking</td>\n",
       "      <td>George Street</td>\n",
       "      <td>St</td>\n",
       "      <td>Toronto</td>\n",
       "    </tr>\n",
       "    <tr>\n",
       "      <th>1561933</th>\n",
       "      <td>Locker</td>\n",
       "      <td>St. Joseph Street</td>\n",
       "      <td>NaN</td>\n",
       "      <td>Toronto</td>\n",
       "    </tr>\n",
       "    <tr>\n",
       "      <th>1561934</th>\n",
       "      <td>Locker</td>\n",
       "      <td>St. Joseph Street</td>\n",
       "      <td>NaN</td>\n",
       "      <td>Toronto</td>\n",
       "    </tr>\n",
       "    <tr>\n",
       "      <th>1561935</th>\n",
       "      <td>Locker</td>\n",
       "      <td>St. Joseph Street</td>\n",
       "      <td>NaN</td>\n",
       "      <td>Toronto</td>\n",
       "    </tr>\n",
       "    <tr>\n",
       "      <th>1561936</th>\n",
       "      <td>Locker</td>\n",
       "      <td>St. Joseph Street</td>\n",
       "      <td>NaN</td>\n",
       "      <td>Toronto</td>\n",
       "    </tr>\n",
       "    <tr>\n",
       "      <th>2146741</th>\n",
       "      <td>Storage</td>\n",
       "      <td>Bathurst Street</td>\n",
       "      <td>NaN</td>\n",
       "      <td>Toronto</td>\n",
       "    </tr>\n",
       "    <tr>\n",
       "      <th>3147952</th>\n",
       "      <td>Storage</td>\n",
       "      <td>Bruyeres Mews</td>\n",
       "      <td>NaN</td>\n",
       "      <td>Toronto</td>\n",
       "    </tr>\n",
       "    <tr>\n",
       "      <th>3148748</th>\n",
       "      <td>Storage</td>\n",
       "      <td>Bruyeres Mews</td>\n",
       "      <td>NaN</td>\n",
       "      <td>Toronto</td>\n",
       "    </tr>\n",
       "    <tr>\n",
       "      <th>3207184</th>\n",
       "      <td>Parking</td>\n",
       "      <td>Front Street East</td>\n",
       "      <td>NaN</td>\n",
       "      <td>Toronto</td>\n",
       "    </tr>\n",
       "    <tr>\n",
       "      <th>3207186</th>\n",
       "      <td>Locker</td>\n",
       "      <td>Front Street East</td>\n",
       "      <td>NaN</td>\n",
       "      <td>Toronto</td>\n",
       "    </tr>\n",
       "    <tr>\n",
       "      <th>3375010</th>\n",
       "      <td>Locker</td>\n",
       "      <td>Richmond St. W.</td>\n",
       "      <td>NaN</td>\n",
       "      <td>Toronto</td>\n",
       "    </tr>\n",
       "    <tr>\n",
       "      <th>3375602</th>\n",
       "      <td>Locker</td>\n",
       "      <td>Richmond St. W.</td>\n",
       "      <td>NaN</td>\n",
       "      <td>Toronto</td>\n",
       "    </tr>\n",
       "    <tr>\n",
       "      <th>3555554</th>\n",
       "      <td>Parking</td>\n",
       "      <td>Abell Street</td>\n",
       "      <td>NaN</td>\n",
       "      <td>Toronto</td>\n",
       "    </tr>\n",
       "    <tr>\n",
       "      <th>3880145</th>\n",
       "      <td>Storage</td>\n",
       "      <td>Valhalla Inn Road</td>\n",
       "      <td>NaN</td>\n",
       "      <td>Toronto</td>\n",
       "    </tr>\n",
       "    <tr>\n",
       "      <th>3880146</th>\n",
       "      <td>Parking</td>\n",
       "      <td>Valhalla Inn Road</td>\n",
       "      <td>NaN</td>\n",
       "      <td>Toronto</td>\n",
       "    </tr>\n",
       "    <tr>\n",
       "      <th>4606516</th>\n",
       "      <td>H-10</td>\n",
       "      <td>Nash Road</td>\n",
       "      <td>NaN</td>\n",
       "      <td>Courtice</td>\n",
       "    </tr>\n",
       "    <tr>\n",
       "      <th>4606857</th>\n",
       "      <td>H-10</td>\n",
       "      <td>Nash Road</td>\n",
       "      <td>NaN</td>\n",
       "      <td>Courtice</td>\n",
       "    </tr>\n",
       "    <tr>\n",
       "      <th>4607131</th>\n",
       "      <td>H-10</td>\n",
       "      <td>Nash Road</td>\n",
       "      <td>NaN</td>\n",
       "      <td>Courtice</td>\n",
       "    </tr>\n",
       "    <tr>\n",
       "      <th>4934975</th>\n",
       "      <td>Storage</td>\n",
       "      <td>Highway 7 West</td>\n",
       "      <td>NaN</td>\n",
       "      <td>Vaughan</td>\n",
       "    </tr>\n",
       "    <tr>\n",
       "      <th>4934976</th>\n",
       "      <td>Parking</td>\n",
       "      <td>Highway 7 West</td>\n",
       "      <td>NaN</td>\n",
       "      <td>Vaughan</td>\n",
       "    </tr>\n",
       "  </tbody>\n",
       "</table>\n",
       "</div>"
      ],
      "text/plain": [
       "          unitno        street_name street_designation municipality\n",
       "931018   Parking      George Street                 St      Toronto\n",
       "931757   Parking      George Street                 St      Toronto\n",
       "933483   Parking      George Street                 St      Toronto\n",
       "935165   Parking      George Street                 St      Toronto\n",
       "935841   Parking      George Street                 St      Toronto\n",
       "1561933   Locker  St. Joseph Street                NaN      Toronto\n",
       "1561934   Locker  St. Joseph Street                NaN      Toronto\n",
       "1561935   Locker  St. Joseph Street                NaN      Toronto\n",
       "1561936   Locker  St. Joseph Street                NaN      Toronto\n",
       "2146741  Storage    Bathurst Street                NaN      Toronto\n",
       "3147952  Storage      Bruyeres Mews                NaN      Toronto\n",
       "3148748  Storage      Bruyeres Mews                NaN      Toronto\n",
       "3207184  Parking  Front Street East                NaN      Toronto\n",
       "3207186   Locker  Front Street East                NaN      Toronto\n",
       "3375010   Locker    Richmond St. W.                NaN      Toronto\n",
       "3375602   Locker    Richmond St. W.                NaN      Toronto\n",
       "3555554  Parking       Abell Street                NaN      Toronto\n",
       "3880145  Storage  Valhalla Inn Road                NaN      Toronto\n",
       "3880146  Parking  Valhalla Inn Road                NaN      Toronto\n",
       "4606516     H-10          Nash Road                NaN     Courtice\n",
       "4606857     H-10          Nash Road                NaN     Courtice\n",
       "4607131     H-10          Nash Road                NaN     Courtice\n",
       "4934975  Storage     Highway 7 West                NaN      Vaughan\n",
       "4934976  Parking     Highway 7 West                NaN      Vaughan"
      ]
     },
     "execution_count": 13,
     "metadata": {},
     "output_type": "execute_result"
    }
   ],
   "source": [
    "df.loc[mask1 & ~mask2 & mask3, 'unitno'] = \\\n",
    "    df.loc[mask1 & ~mask2 & mask3, 'street_name']\\\n",
    "    .str.split('-').apply(lambda x: x[-1])\\\n",
    "    .str.replace('Unit', '')\\\n",
    "    .str.replace('10', 'H-10').str.strip()\n",
    "df.loc[mask1 & ~mask2 & mask3, 'street_name'] = \\\n",
    "    df.loc[mask1 & ~mask2 & mask3, 'street_name']\\\n",
    "    .str.split('-').apply(lambda x: x[0])\\\n",
    "    .str.replace('Unit H', '').str.strip()\n",
    "df.loc[mask1 & ~mask2 & mask3, ['unitno', 'street_name', 'street_designation', 'municipality']]"
   ]
  },
  {
   "cell_type": "markdown",
   "metadata": {},
   "source": [
    "### Extract `unitno` from `street_name`\n",
    "#### Split by '.'"
   ]
  },
  {
   "cell_type": "code",
   "execution_count": 14,
   "metadata": {},
   "outputs": [
    {
     "name": "stderr",
     "output_type": "stream",
     "text": [
      "/home/stepan/anaconda3/envs/gds/lib/python3.6/site-packages/ipykernel_launcher.py:2: UserWarning: This pattern has match groups. To actually get the groups, use str.extract.\n",
      "  \n"
     ]
    },
    {
     "data": {
      "text/html": [
       "<div>\n",
       "<style scoped>\n",
       "    .dataframe tbody tr th:only-of-type {\n",
       "        vertical-align: middle;\n",
       "    }\n",
       "\n",
       "    .dataframe tbody tr th {\n",
       "        vertical-align: top;\n",
       "    }\n",
       "\n",
       "    .dataframe thead th {\n",
       "        text-align: right;\n",
       "    }\n",
       "</style>\n",
       "<table border=\"1\" class=\"dataframe\">\n",
       "  <thead>\n",
       "    <tr style=\"text-align: right;\">\n",
       "      <th></th>\n",
       "      <th>unitno</th>\n",
       "      <th>street_name</th>\n",
       "      <th>street_designation</th>\n",
       "      <th>municipality</th>\n",
       "    </tr>\n",
       "  </thead>\n",
       "  <tbody>\n",
       "    <tr>\n",
       "      <th>195536</th>\n",
       "      <td>NaN</td>\n",
       "      <td>Fairview St. Unit 77</td>\n",
       "      <td>St</td>\n",
       "      <td>Burlington</td>\n",
       "    </tr>\n",
       "    <tr>\n",
       "      <th>195537</th>\n",
       "      <td>NaN</td>\n",
       "      <td>Fairview St. Unit 77</td>\n",
       "      <td>St</td>\n",
       "      <td>Burlington</td>\n",
       "    </tr>\n",
       "    <tr>\n",
       "      <th>195538</th>\n",
       "      <td>NaN</td>\n",
       "      <td>Fairview St. Unit 77</td>\n",
       "      <td>St</td>\n",
       "      <td>Burlington</td>\n",
       "    </tr>\n",
       "    <tr>\n",
       "      <th>195652</th>\n",
       "      <td>NaN</td>\n",
       "      <td>Fairview St. Unit 77</td>\n",
       "      <td>St</td>\n",
       "      <td>Burlington</td>\n",
       "    </tr>\n",
       "    <tr>\n",
       "      <th>195653</th>\n",
       "      <td>NaN</td>\n",
       "      <td>Fairview St. Unit 77</td>\n",
       "      <td>St</td>\n",
       "      <td>Burlington</td>\n",
       "    </tr>\n",
       "    <tr>\n",
       "      <th>195654</th>\n",
       "      <td>NaN</td>\n",
       "      <td>Fairview St. Unit 77</td>\n",
       "      <td>St</td>\n",
       "      <td>Burlington</td>\n",
       "    </tr>\n",
       "    <tr>\n",
       "      <th>195961</th>\n",
       "      <td>NaN</td>\n",
       "      <td>Fairview St. Unit 77</td>\n",
       "      <td>St</td>\n",
       "      <td>Burlington</td>\n",
       "    </tr>\n",
       "    <tr>\n",
       "      <th>196053</th>\n",
       "      <td>NaN</td>\n",
       "      <td>Fairview St. Unit 77</td>\n",
       "      <td>St</td>\n",
       "      <td>Burlington</td>\n",
       "    </tr>\n",
       "    <tr>\n",
       "      <th>196259</th>\n",
       "      <td>NaN</td>\n",
       "      <td>Fairview St. Unit 77</td>\n",
       "      <td>St</td>\n",
       "      <td>Burlington</td>\n",
       "    </tr>\n",
       "    <tr>\n",
       "      <th>196260</th>\n",
       "      <td>NaN</td>\n",
       "      <td>Fairview St. Unit 77</td>\n",
       "      <td>St</td>\n",
       "      <td>Burlington</td>\n",
       "    </tr>\n",
       "    <tr>\n",
       "      <th>196261</th>\n",
       "      <td>NaN</td>\n",
       "      <td>Fairview St. Unit 77</td>\n",
       "      <td>St</td>\n",
       "      <td>Burlington</td>\n",
       "    </tr>\n",
       "    <tr>\n",
       "      <th>196364</th>\n",
       "      <td>NaN</td>\n",
       "      <td>Fairview St. Unit 77</td>\n",
       "      <td>St</td>\n",
       "      <td>Burlington</td>\n",
       "    </tr>\n",
       "    <tr>\n",
       "      <th>196365</th>\n",
       "      <td>NaN</td>\n",
       "      <td>Fairview St. Unit 77</td>\n",
       "      <td>St</td>\n",
       "      <td>Burlington</td>\n",
       "    </tr>\n",
       "    <tr>\n",
       "      <th>196366</th>\n",
       "      <td>NaN</td>\n",
       "      <td>Fairview St. Unit 77</td>\n",
       "      <td>St</td>\n",
       "      <td>Burlington</td>\n",
       "    </tr>\n",
       "    <tr>\n",
       "      <th>2547611</th>\n",
       "      <td>25</td>\n",
       "      <td>Pinewoods Ave. Unit 25</td>\n",
       "      <td>NaN</td>\n",
       "      <td>Stoney Creek</td>\n",
       "    </tr>\n",
       "    <tr>\n",
       "      <th>2547692</th>\n",
       "      <td>25</td>\n",
       "      <td>Pinewoods Ave. Unit 25</td>\n",
       "      <td>NaN</td>\n",
       "      <td>Stoney Creek</td>\n",
       "    </tr>\n",
       "    <tr>\n",
       "      <th>2562684</th>\n",
       "      <td>203</td>\n",
       "      <td>Queen Street S. Unit 101</td>\n",
       "      <td>NaN</td>\n",
       "      <td>Hamilton</td>\n",
       "    </tr>\n",
       "    <tr>\n",
       "      <th>2562766</th>\n",
       "      <td>203</td>\n",
       "      <td>Queen Street S. Unit 101</td>\n",
       "      <td>NaN</td>\n",
       "      <td>Hamilton</td>\n",
       "    </tr>\n",
       "    <tr>\n",
       "      <th>2562866</th>\n",
       "      <td>203</td>\n",
       "      <td>Queen Street S. Unit 101</td>\n",
       "      <td>NaN</td>\n",
       "      <td>Hamilton</td>\n",
       "    </tr>\n",
       "    <tr>\n",
       "      <th>2562884</th>\n",
       "      <td>203</td>\n",
       "      <td>Queen Street S. Unit 101</td>\n",
       "      <td>NaN</td>\n",
       "      <td>Hamilton</td>\n",
       "    </tr>\n",
       "    <tr>\n",
       "      <th>2563015</th>\n",
       "      <td>203</td>\n",
       "      <td>Queen Street S. Unit 101</td>\n",
       "      <td>NaN</td>\n",
       "      <td>Hamilton</td>\n",
       "    </tr>\n",
       "    <tr>\n",
       "      <th>2563127</th>\n",
       "      <td>203</td>\n",
       "      <td>Queen Street S. Unit 101</td>\n",
       "      <td>NaN</td>\n",
       "      <td>Hamilton</td>\n",
       "    </tr>\n",
       "  </tbody>\n",
       "</table>\n",
       "</div>"
      ],
      "text/plain": [
       "        unitno               street_name street_designation  municipality\n",
       "195536     NaN      Fairview St. Unit 77                 St    Burlington\n",
       "195537     NaN      Fairview St. Unit 77                 St    Burlington\n",
       "195538     NaN      Fairview St. Unit 77                 St    Burlington\n",
       "195652     NaN      Fairview St. Unit 77                 St    Burlington\n",
       "195653     NaN      Fairview St. Unit 77                 St    Burlington\n",
       "195654     NaN      Fairview St. Unit 77                 St    Burlington\n",
       "195961     NaN      Fairview St. Unit 77                 St    Burlington\n",
       "196053     NaN      Fairview St. Unit 77                 St    Burlington\n",
       "196259     NaN      Fairview St. Unit 77                 St    Burlington\n",
       "196260     NaN      Fairview St. Unit 77                 St    Burlington\n",
       "196261     NaN      Fairview St. Unit 77                 St    Burlington\n",
       "196364     NaN      Fairview St. Unit 77                 St    Burlington\n",
       "196365     NaN      Fairview St. Unit 77                 St    Burlington\n",
       "196366     NaN      Fairview St. Unit 77                 St    Burlington\n",
       "2547611     25    Pinewoods Ave. Unit 25                NaN  Stoney Creek\n",
       "2547692     25    Pinewoods Ave. Unit 25                NaN  Stoney Creek\n",
       "2562684    203  Queen Street S. Unit 101                NaN      Hamilton\n",
       "2562766    203  Queen Street S. Unit 101                NaN      Hamilton\n",
       "2562866    203  Queen Street S. Unit 101                NaN      Hamilton\n",
       "2562884    203  Queen Street S. Unit 101                NaN      Hamilton\n",
       "2563015    203  Queen Street S. Unit 101                NaN      Hamilton\n",
       "2563127    203  Queen Street S. Unit 101                NaN      Hamilton"
      ]
     },
     "execution_count": 14,
     "metadata": {},
     "output_type": "execute_result"
    }
   ],
   "source": [
    "mask1 = df['street_name'].str.contains('Unit', na=False, case=False)\n",
    "mask2 = df['street_name'].str.contains('(Unity|Unita|United|Munition|St\\.\\sClair)', na=False, case=False)\n",
    "mask3 = df['street_name'].str.contains('\\.')\n",
    "df.loc[mask1 & ~mask2 & mask3, ['unitno', 'street_name', 'street_designation', 'municipality']]"
   ]
  },
  {
   "cell_type": "code",
   "execution_count": 15,
   "metadata": {},
   "outputs": [
    {
     "data": {
      "text/html": [
       "<div>\n",
       "<style scoped>\n",
       "    .dataframe tbody tr th:only-of-type {\n",
       "        vertical-align: middle;\n",
       "    }\n",
       "\n",
       "    .dataframe tbody tr th {\n",
       "        vertical-align: top;\n",
       "    }\n",
       "\n",
       "    .dataframe thead th {\n",
       "        text-align: right;\n",
       "    }\n",
       "</style>\n",
       "<table border=\"1\" class=\"dataframe\">\n",
       "  <thead>\n",
       "    <tr style=\"text-align: right;\">\n",
       "      <th></th>\n",
       "      <th>unitno</th>\n",
       "      <th>street_name</th>\n",
       "      <th>street_designation</th>\n",
       "      <th>municipality</th>\n",
       "    </tr>\n",
       "  </thead>\n",
       "  <tbody>\n",
       "    <tr>\n",
       "      <th>195536</th>\n",
       "      <td>77</td>\n",
       "      <td>Fairview St</td>\n",
       "      <td>St</td>\n",
       "      <td>Burlington</td>\n",
       "    </tr>\n",
       "    <tr>\n",
       "      <th>195537</th>\n",
       "      <td>77</td>\n",
       "      <td>Fairview St</td>\n",
       "      <td>St</td>\n",
       "      <td>Burlington</td>\n",
       "    </tr>\n",
       "    <tr>\n",
       "      <th>195538</th>\n",
       "      <td>77</td>\n",
       "      <td>Fairview St</td>\n",
       "      <td>St</td>\n",
       "      <td>Burlington</td>\n",
       "    </tr>\n",
       "    <tr>\n",
       "      <th>195652</th>\n",
       "      <td>77</td>\n",
       "      <td>Fairview St</td>\n",
       "      <td>St</td>\n",
       "      <td>Burlington</td>\n",
       "    </tr>\n",
       "    <tr>\n",
       "      <th>195653</th>\n",
       "      <td>77</td>\n",
       "      <td>Fairview St</td>\n",
       "      <td>St</td>\n",
       "      <td>Burlington</td>\n",
       "    </tr>\n",
       "    <tr>\n",
       "      <th>195654</th>\n",
       "      <td>77</td>\n",
       "      <td>Fairview St</td>\n",
       "      <td>St</td>\n",
       "      <td>Burlington</td>\n",
       "    </tr>\n",
       "    <tr>\n",
       "      <th>195961</th>\n",
       "      <td>77</td>\n",
       "      <td>Fairview St</td>\n",
       "      <td>St</td>\n",
       "      <td>Burlington</td>\n",
       "    </tr>\n",
       "    <tr>\n",
       "      <th>196053</th>\n",
       "      <td>77</td>\n",
       "      <td>Fairview St</td>\n",
       "      <td>St</td>\n",
       "      <td>Burlington</td>\n",
       "    </tr>\n",
       "    <tr>\n",
       "      <th>196259</th>\n",
       "      <td>77</td>\n",
       "      <td>Fairview St</td>\n",
       "      <td>St</td>\n",
       "      <td>Burlington</td>\n",
       "    </tr>\n",
       "    <tr>\n",
       "      <th>196260</th>\n",
       "      <td>77</td>\n",
       "      <td>Fairview St</td>\n",
       "      <td>St</td>\n",
       "      <td>Burlington</td>\n",
       "    </tr>\n",
       "    <tr>\n",
       "      <th>196261</th>\n",
       "      <td>77</td>\n",
       "      <td>Fairview St</td>\n",
       "      <td>St</td>\n",
       "      <td>Burlington</td>\n",
       "    </tr>\n",
       "    <tr>\n",
       "      <th>196364</th>\n",
       "      <td>77</td>\n",
       "      <td>Fairview St</td>\n",
       "      <td>St</td>\n",
       "      <td>Burlington</td>\n",
       "    </tr>\n",
       "    <tr>\n",
       "      <th>196365</th>\n",
       "      <td>77</td>\n",
       "      <td>Fairview St</td>\n",
       "      <td>St</td>\n",
       "      <td>Burlington</td>\n",
       "    </tr>\n",
       "    <tr>\n",
       "      <th>196366</th>\n",
       "      <td>77</td>\n",
       "      <td>Fairview St</td>\n",
       "      <td>St</td>\n",
       "      <td>Burlington</td>\n",
       "    </tr>\n",
       "    <tr>\n",
       "      <th>2547611</th>\n",
       "      <td>25</td>\n",
       "      <td>Pinewoods Ave</td>\n",
       "      <td>NaN</td>\n",
       "      <td>Stoney Creek</td>\n",
       "    </tr>\n",
       "    <tr>\n",
       "      <th>2547692</th>\n",
       "      <td>25</td>\n",
       "      <td>Pinewoods Ave</td>\n",
       "      <td>NaN</td>\n",
       "      <td>Stoney Creek</td>\n",
       "    </tr>\n",
       "    <tr>\n",
       "      <th>2562684</th>\n",
       "      <td>101</td>\n",
       "      <td>Queen Street S</td>\n",
       "      <td>NaN</td>\n",
       "      <td>Hamilton</td>\n",
       "    </tr>\n",
       "    <tr>\n",
       "      <th>2562766</th>\n",
       "      <td>101</td>\n",
       "      <td>Queen Street S</td>\n",
       "      <td>NaN</td>\n",
       "      <td>Hamilton</td>\n",
       "    </tr>\n",
       "    <tr>\n",
       "      <th>2562866</th>\n",
       "      <td>101</td>\n",
       "      <td>Queen Street S</td>\n",
       "      <td>NaN</td>\n",
       "      <td>Hamilton</td>\n",
       "    </tr>\n",
       "    <tr>\n",
       "      <th>2562884</th>\n",
       "      <td>101</td>\n",
       "      <td>Queen Street S</td>\n",
       "      <td>NaN</td>\n",
       "      <td>Hamilton</td>\n",
       "    </tr>\n",
       "    <tr>\n",
       "      <th>2563015</th>\n",
       "      <td>101</td>\n",
       "      <td>Queen Street S</td>\n",
       "      <td>NaN</td>\n",
       "      <td>Hamilton</td>\n",
       "    </tr>\n",
       "    <tr>\n",
       "      <th>2563127</th>\n",
       "      <td>101</td>\n",
       "      <td>Queen Street S</td>\n",
       "      <td>NaN</td>\n",
       "      <td>Hamilton</td>\n",
       "    </tr>\n",
       "  </tbody>\n",
       "</table>\n",
       "</div>"
      ],
      "text/plain": [
       "        unitno     street_name street_designation  municipality\n",
       "195536      77     Fairview St                 St    Burlington\n",
       "195537      77     Fairview St                 St    Burlington\n",
       "195538      77     Fairview St                 St    Burlington\n",
       "195652      77     Fairview St                 St    Burlington\n",
       "195653      77     Fairview St                 St    Burlington\n",
       "195654      77     Fairview St                 St    Burlington\n",
       "195961      77     Fairview St                 St    Burlington\n",
       "196053      77     Fairview St                 St    Burlington\n",
       "196259      77     Fairview St                 St    Burlington\n",
       "196260      77     Fairview St                 St    Burlington\n",
       "196261      77     Fairview St                 St    Burlington\n",
       "196364      77     Fairview St                 St    Burlington\n",
       "196365      77     Fairview St                 St    Burlington\n",
       "196366      77     Fairview St                 St    Burlington\n",
       "2547611     25   Pinewoods Ave                NaN  Stoney Creek\n",
       "2547692     25   Pinewoods Ave                NaN  Stoney Creek\n",
       "2562684    101  Queen Street S                NaN      Hamilton\n",
       "2562766    101  Queen Street S                NaN      Hamilton\n",
       "2562866    101  Queen Street S                NaN      Hamilton\n",
       "2562884    101  Queen Street S                NaN      Hamilton\n",
       "2563015    101  Queen Street S                NaN      Hamilton\n",
       "2563127    101  Queen Street S                NaN      Hamilton"
      ]
     },
     "execution_count": 15,
     "metadata": {},
     "output_type": "execute_result"
    }
   ],
   "source": [
    "df.loc[mask1 & ~mask2 & mask3, 'unitno'] = \\\n",
    "    df.loc[mask1 & ~mask2 & mask3, 'street_name']\\\n",
    "    .str.split('.').apply(lambda x: x[-1])\\\n",
    "    .str.replace('Unit', '').str.strip()\n",
    "df.loc[mask1 & ~mask2 & mask3, 'street_name'] = \\\n",
    "    df.loc[mask1 & ~mask2 & mask3, 'street_name']\\\n",
    "    .str.split('.').apply(lambda x: x[0]).str.strip()\n",
    "df.loc[mask1 & ~mask2 & mask3, ['unitno', 'street_name', 'street_designation', 'municipality']]"
   ]
  },
  {
   "cell_type": "markdown",
   "metadata": {},
   "source": [
    "### Extract `unitno` from `street_name`\n",
    "#### Specified in (brackets)"
   ]
  },
  {
   "cell_type": "code",
   "execution_count": 16,
   "metadata": {},
   "outputs": [
    {
     "name": "stderr",
     "output_type": "stream",
     "text": [
      "/home/stepan/anaconda3/envs/gds/lib/python3.6/site-packages/ipykernel_launcher.py:2: UserWarning: This pattern has match groups. To actually get the groups, use str.extract.\n",
      "  \n"
     ]
    },
    {
     "data": {
      "text/html": [
       "<div>\n",
       "<style scoped>\n",
       "    .dataframe tbody tr th:only-of-type {\n",
       "        vertical-align: middle;\n",
       "    }\n",
       "\n",
       "    .dataframe tbody tr th {\n",
       "        vertical-align: top;\n",
       "    }\n",
       "\n",
       "    .dataframe thead th {\n",
       "        text-align: right;\n",
       "    }\n",
       "</style>\n",
       "<table border=\"1\" class=\"dataframe\">\n",
       "  <thead>\n",
       "    <tr style=\"text-align: right;\">\n",
       "      <th></th>\n",
       "      <th>unitno</th>\n",
       "      <th>street_name</th>\n",
       "      <th>street_designation</th>\n",
       "      <th>municipality</th>\n",
       "    </tr>\n",
       "  </thead>\n",
       "  <tbody>\n",
       "    <tr>\n",
       "      <th>1004919</th>\n",
       "      <td>NaN</td>\n",
       "      <td>Yonge Street (Parking Unit)</td>\n",
       "      <td>NaN</td>\n",
       "      <td>Aurora</td>\n",
       "    </tr>\n",
       "    <tr>\n",
       "      <th>2091131</th>\n",
       "      <td>NaN</td>\n",
       "      <td>Peter Street (Storage Unit)</td>\n",
       "      <td>NaN</td>\n",
       "      <td>Toronto</td>\n",
       "    </tr>\n",
       "    <tr>\n",
       "      <th>2225579</th>\n",
       "      <td>NaN</td>\n",
       "      <td>Robinson Street (Dwelling Unit)</td>\n",
       "      <td>NaN</td>\n",
       "      <td>Hamilton</td>\n",
       "    </tr>\n",
       "    <tr>\n",
       "      <th>3274178</th>\n",
       "      <td>NaN</td>\n",
       "      <td>Shuter Street (Storage Unit)</td>\n",
       "      <td>NaN</td>\n",
       "      <td>Toronto</td>\n",
       "    </tr>\n",
       "    <tr>\n",
       "      <th>3555248</th>\n",
       "      <td>NaN</td>\n",
       "      <td>Abell Street (Parking Unit)</td>\n",
       "      <td>NaN</td>\n",
       "      <td>Toronto</td>\n",
       "    </tr>\n",
       "    <tr>\n",
       "      <th>3836427</th>\n",
       "      <td>NaN</td>\n",
       "      <td>York Street (Parking Unit)</td>\n",
       "      <td>St</td>\n",
       "      <td>Toronto</td>\n",
       "    </tr>\n",
       "    <tr>\n",
       "      <th>3839871</th>\n",
       "      <td>NaN</td>\n",
       "      <td>York Street (Parking Unit)</td>\n",
       "      <td>St</td>\n",
       "      <td>Toronto</td>\n",
       "    </tr>\n",
       "    <tr>\n",
       "      <th>5035302</th>\n",
       "      <td>NaN</td>\n",
       "      <td>Powseland Crescent (Parking Unit)</td>\n",
       "      <td>NaN</td>\n",
       "      <td>Vaughan</td>\n",
       "    </tr>\n",
       "    <tr>\n",
       "      <th>5035607</th>\n",
       "      <td>NaN</td>\n",
       "      <td>Powseland Crescent (Parking Unit)</td>\n",
       "      <td>NaN</td>\n",
       "      <td>Vaughan</td>\n",
       "    </tr>\n",
       "    <tr>\n",
       "      <th>5035859</th>\n",
       "      <td>NaN</td>\n",
       "      <td>Powseland Crescent (Parking Unit)</td>\n",
       "      <td>NaN</td>\n",
       "      <td>Vaughan</td>\n",
       "    </tr>\n",
       "  </tbody>\n",
       "</table>\n",
       "</div>"
      ],
      "text/plain": [
       "        unitno                        street_name street_designation  \\\n",
       "1004919    NaN        Yonge Street (Parking Unit)                NaN   \n",
       "2091131    NaN        Peter Street (Storage Unit)                NaN   \n",
       "2225579    NaN    Robinson Street (Dwelling Unit)                NaN   \n",
       "3274178    NaN       Shuter Street (Storage Unit)                NaN   \n",
       "3555248    NaN        Abell Street (Parking Unit)                NaN   \n",
       "3836427    NaN         York Street (Parking Unit)                 St   \n",
       "3839871    NaN         York Street (Parking Unit)                 St   \n",
       "5035302    NaN  Powseland Crescent (Parking Unit)                NaN   \n",
       "5035607    NaN  Powseland Crescent (Parking Unit)                NaN   \n",
       "5035859    NaN  Powseland Crescent (Parking Unit)                NaN   \n",
       "\n",
       "        municipality  \n",
       "1004919       Aurora  \n",
       "2091131      Toronto  \n",
       "2225579     Hamilton  \n",
       "3274178      Toronto  \n",
       "3555248      Toronto  \n",
       "3836427      Toronto  \n",
       "3839871      Toronto  \n",
       "5035302      Vaughan  \n",
       "5035607      Vaughan  \n",
       "5035859      Vaughan  "
      ]
     },
     "execution_count": 16,
     "metadata": {},
     "output_type": "execute_result"
    }
   ],
   "source": [
    "mask1 = df['street_name'].str.contains('Unit', na=False, case=False)\n",
    "mask2 = df['street_name'].str.contains('(Unity|Unita|United|Munition)', na=False, case=False)\n",
    "mask3 = df['street_name'].str.contains('\\(')\n",
    "df.loc[mask1 & ~mask2 & mask3, ['unitno', 'street_name', 'street_designation', 'municipality']]"
   ]
  },
  {
   "cell_type": "code",
   "execution_count": 17,
   "metadata": {},
   "outputs": [
    {
     "data": {
      "text/html": [
       "<div>\n",
       "<style scoped>\n",
       "    .dataframe tbody tr th:only-of-type {\n",
       "        vertical-align: middle;\n",
       "    }\n",
       "\n",
       "    .dataframe tbody tr th {\n",
       "        vertical-align: top;\n",
       "    }\n",
       "\n",
       "    .dataframe thead th {\n",
       "        text-align: right;\n",
       "    }\n",
       "</style>\n",
       "<table border=\"1\" class=\"dataframe\">\n",
       "  <thead>\n",
       "    <tr style=\"text-align: right;\">\n",
       "      <th></th>\n",
       "      <th>unitno</th>\n",
       "      <th>street_name</th>\n",
       "      <th>street_designation</th>\n",
       "      <th>municipality</th>\n",
       "    </tr>\n",
       "  </thead>\n",
       "  <tbody>\n",
       "    <tr>\n",
       "      <th>1004919</th>\n",
       "      <td>Parking</td>\n",
       "      <td>Yonge Street</td>\n",
       "      <td>NaN</td>\n",
       "      <td>Aurora</td>\n",
       "    </tr>\n",
       "    <tr>\n",
       "      <th>2091131</th>\n",
       "      <td>Storage</td>\n",
       "      <td>Peter Street</td>\n",
       "      <td>NaN</td>\n",
       "      <td>Toronto</td>\n",
       "    </tr>\n",
       "    <tr>\n",
       "      <th>2225579</th>\n",
       "      <td>Dwelling</td>\n",
       "      <td>Robinson Street</td>\n",
       "      <td>NaN</td>\n",
       "      <td>Hamilton</td>\n",
       "    </tr>\n",
       "    <tr>\n",
       "      <th>3274178</th>\n",
       "      <td>Storage</td>\n",
       "      <td>Shuter Street</td>\n",
       "      <td>NaN</td>\n",
       "      <td>Toronto</td>\n",
       "    </tr>\n",
       "    <tr>\n",
       "      <th>3555248</th>\n",
       "      <td>Parking</td>\n",
       "      <td>Abell Street</td>\n",
       "      <td>NaN</td>\n",
       "      <td>Toronto</td>\n",
       "    </tr>\n",
       "    <tr>\n",
       "      <th>3836427</th>\n",
       "      <td>Parking</td>\n",
       "      <td>York Street</td>\n",
       "      <td>St</td>\n",
       "      <td>Toronto</td>\n",
       "    </tr>\n",
       "    <tr>\n",
       "      <th>3839871</th>\n",
       "      <td>Parking</td>\n",
       "      <td>York Street</td>\n",
       "      <td>St</td>\n",
       "      <td>Toronto</td>\n",
       "    </tr>\n",
       "    <tr>\n",
       "      <th>5035302</th>\n",
       "      <td>Parking</td>\n",
       "      <td>Powseland Crescent</td>\n",
       "      <td>NaN</td>\n",
       "      <td>Vaughan</td>\n",
       "    </tr>\n",
       "    <tr>\n",
       "      <th>5035607</th>\n",
       "      <td>Parking</td>\n",
       "      <td>Powseland Crescent</td>\n",
       "      <td>NaN</td>\n",
       "      <td>Vaughan</td>\n",
       "    </tr>\n",
       "    <tr>\n",
       "      <th>5035859</th>\n",
       "      <td>Parking</td>\n",
       "      <td>Powseland Crescent</td>\n",
       "      <td>NaN</td>\n",
       "      <td>Vaughan</td>\n",
       "    </tr>\n",
       "  </tbody>\n",
       "</table>\n",
       "</div>"
      ],
      "text/plain": [
       "           unitno         street_name street_designation municipality\n",
       "1004919   Parking        Yonge Street                NaN       Aurora\n",
       "2091131   Storage        Peter Street                NaN      Toronto\n",
       "2225579  Dwelling     Robinson Street                NaN     Hamilton\n",
       "3274178   Storage       Shuter Street                NaN      Toronto\n",
       "3555248   Parking        Abell Street                NaN      Toronto\n",
       "3836427   Parking         York Street                 St      Toronto\n",
       "3839871   Parking         York Street                 St      Toronto\n",
       "5035302   Parking  Powseland Crescent                NaN      Vaughan\n",
       "5035607   Parking  Powseland Crescent                NaN      Vaughan\n",
       "5035859   Parking  Powseland Crescent                NaN      Vaughan"
      ]
     },
     "execution_count": 17,
     "metadata": {},
     "output_type": "execute_result"
    }
   ],
   "source": [
    "df.loc[mask1 & ~mask2 & mask3, 'unitno'] = \\\n",
    "    df.loc[mask1 & ~mask2 & mask3, 'street_name']\\\n",
    "    .str.split('(').apply(lambda x: x[-1]).str.replace(')', '')\\\n",
    "    .str.replace('Unit', '').str.strip()\n",
    "df.loc[mask1 & ~mask2 & mask3, 'street_name'] = \\\n",
    "    df.loc[mask1 & ~mask2 & mask3, 'street_name'].str.split('(')\\\n",
    "    .apply(lambda x: x[0]).str.strip()\n",
    "df.loc[mask1 & ~mask2 & mask3, ['unitno', 'street_name', 'street_designation', 'municipality']]"
   ]
  },
  {
   "cell_type": "markdown",
   "metadata": {},
   "source": [
    "### Extract `unitno` from `street_name`\n",
    "#### Specified at the end of the string"
   ]
  },
  {
   "cell_type": "code",
   "execution_count": 18,
   "metadata": {},
   "outputs": [
    {
     "name": "stderr",
     "output_type": "stream",
     "text": [
      "/home/stepan/anaconda3/envs/gds/lib/python3.6/site-packages/ipykernel_launcher.py:2: UserWarning: This pattern has match groups. To actually get the groups, use str.extract.\n",
      "  \n"
     ]
    },
    {
     "data": {
      "text/html": [
       "<div>\n",
       "<style scoped>\n",
       "    .dataframe tbody tr th:only-of-type {\n",
       "        vertical-align: middle;\n",
       "    }\n",
       "\n",
       "    .dataframe tbody tr th {\n",
       "        vertical-align: top;\n",
       "    }\n",
       "\n",
       "    .dataframe thead th {\n",
       "        text-align: right;\n",
       "    }\n",
       "</style>\n",
       "<table border=\"1\" class=\"dataframe\">\n",
       "  <thead>\n",
       "    <tr style=\"text-align: right;\">\n",
       "      <th></th>\n",
       "      <th>unitno</th>\n",
       "      <th>street_name</th>\n",
       "      <th>street_designation</th>\n",
       "      <th>municipality</th>\n",
       "    </tr>\n",
       "  </thead>\n",
       "  <tbody>\n",
       "    <tr>\n",
       "      <th>911375</th>\n",
       "      <td>6</td>\n",
       "      <td>Nantucket Blvd Units 5</td>\n",
       "      <td>NaN</td>\n",
       "      <td>Toronto</td>\n",
       "    </tr>\n",
       "    <tr>\n",
       "      <th>911376</th>\n",
       "      <td>6</td>\n",
       "      <td>Nantucket Blvd Units 5</td>\n",
       "      <td>NaN</td>\n",
       "      <td>Toronto</td>\n",
       "    </tr>\n",
       "    <tr>\n",
       "      <th>2068778</th>\n",
       "      <td>NaN</td>\n",
       "      <td>Victoria Park Avenue Unit 1808</td>\n",
       "      <td>NaN</td>\n",
       "      <td>Toronto</td>\n",
       "    </tr>\n",
       "    <tr>\n",
       "      <th>2069011</th>\n",
       "      <td>NaN</td>\n",
       "      <td>Victoria Park Avenue Unit 1808</td>\n",
       "      <td>NaN</td>\n",
       "      <td>Toronto</td>\n",
       "    </tr>\n",
       "    <tr>\n",
       "      <th>2069392</th>\n",
       "      <td>NaN</td>\n",
       "      <td>Victoria Park Avenue Unit 1808</td>\n",
       "      <td>NaN</td>\n",
       "      <td>Toronto</td>\n",
       "    </tr>\n",
       "    <tr>\n",
       "      <th>2577606</th>\n",
       "      <td>NaN</td>\n",
       "      <td>Upper Wentworth Street Unit 21</td>\n",
       "      <td>NaN</td>\n",
       "      <td>Hamilton</td>\n",
       "    </tr>\n",
       "    <tr>\n",
       "      <th>2578003</th>\n",
       "      <td>NaN</td>\n",
       "      <td>Upper Wentworth Street Unit 21</td>\n",
       "      <td>NaN</td>\n",
       "      <td>Hamilton</td>\n",
       "    </tr>\n",
       "    <tr>\n",
       "      <th>2578004</th>\n",
       "      <td>NaN</td>\n",
       "      <td>Upper Wentworth Unit 13</td>\n",
       "      <td>NaN</td>\n",
       "      <td>Hamilton</td>\n",
       "    </tr>\n",
       "    <tr>\n",
       "      <th>2578207</th>\n",
       "      <td>NaN</td>\n",
       "      <td>Upper Wentworth Unit 13</td>\n",
       "      <td>NaN</td>\n",
       "      <td>Hamilton</td>\n",
       "    </tr>\n",
       "    <tr>\n",
       "      <th>2578264</th>\n",
       "      <td>NaN</td>\n",
       "      <td>Upper Wentworth Street Unit 21</td>\n",
       "      <td>NaN</td>\n",
       "      <td>Hamilton</td>\n",
       "    </tr>\n",
       "    <tr>\n",
       "      <th>3520974</th>\n",
       "      <td>NaN</td>\n",
       "      <td>St. Clair Avenue West Locker Unit</td>\n",
       "      <td>NaN</td>\n",
       "      <td>Toronto</td>\n",
       "    </tr>\n",
       "    <tr>\n",
       "      <th>3520975</th>\n",
       "      <td>NaN</td>\n",
       "      <td>St. Clair Avenue West Parking Unit</td>\n",
       "      <td>NaN</td>\n",
       "      <td>Toronto</td>\n",
       "    </tr>\n",
       "    <tr>\n",
       "      <th>4606073</th>\n",
       "      <td>95</td>\n",
       "      <td>Courtice Road Unit 95</td>\n",
       "      <td>NaN</td>\n",
       "      <td>Clarington</td>\n",
       "    </tr>\n",
       "    <tr>\n",
       "      <th>4606129</th>\n",
       "      <td>95</td>\n",
       "      <td>Courtice Road Unit 95</td>\n",
       "      <td>NaN</td>\n",
       "      <td>Clarington</td>\n",
       "    </tr>\n",
       "    <tr>\n",
       "      <th>4606564</th>\n",
       "      <td>95</td>\n",
       "      <td>Courtice Road Unit 95</td>\n",
       "      <td>NaN</td>\n",
       "      <td>Clarington</td>\n",
       "    </tr>\n",
       "    <tr>\n",
       "      <th>4606909</th>\n",
       "      <td>95</td>\n",
       "      <td>Courtice Road Unit 95</td>\n",
       "      <td>NaN</td>\n",
       "      <td>Clarington</td>\n",
       "    </tr>\n",
       "    <tr>\n",
       "      <th>4607035</th>\n",
       "      <td>95</td>\n",
       "      <td>Courtice Road Unit 95</td>\n",
       "      <td>NaN</td>\n",
       "      <td>Clarington</td>\n",
       "    </tr>\n",
       "    <tr>\n",
       "      <th>5538421</th>\n",
       "      <td>NaN</td>\n",
       "      <td>North Park Rd Unit 01</td>\n",
       "      <td>Rd</td>\n",
       "      <td>Thornhill</td>\n",
       "    </tr>\n",
       "    <tr>\n",
       "      <th>5540122</th>\n",
       "      <td>NaN</td>\n",
       "      <td>North Park Rd Unit 01</td>\n",
       "      <td>Rd</td>\n",
       "      <td>Thornhill</td>\n",
       "    </tr>\n",
       "    <tr>\n",
       "      <th>5540128</th>\n",
       "      <td>NaN</td>\n",
       "      <td>North Park Rd Unit 01</td>\n",
       "      <td>Rd</td>\n",
       "      <td>Thornhill</td>\n",
       "    </tr>\n",
       "    <tr>\n",
       "      <th>5541443</th>\n",
       "      <td>NaN</td>\n",
       "      <td>North Park Rd Unit 01</td>\n",
       "      <td>Rd</td>\n",
       "      <td>Thornhill</td>\n",
       "    </tr>\n",
       "  </tbody>\n",
       "</table>\n",
       "</div>"
      ],
      "text/plain": [
       "        unitno                         street_name street_designation  \\\n",
       "911375       6              Nantucket Blvd Units 5                NaN   \n",
       "911376       6              Nantucket Blvd Units 5                NaN   \n",
       "2068778    NaN      Victoria Park Avenue Unit 1808                NaN   \n",
       "2069011    NaN      Victoria Park Avenue Unit 1808                NaN   \n",
       "2069392    NaN      Victoria Park Avenue Unit 1808                NaN   \n",
       "2577606    NaN      Upper Wentworth Street Unit 21                NaN   \n",
       "2578003    NaN      Upper Wentworth Street Unit 21                NaN   \n",
       "2578004    NaN             Upper Wentworth Unit 13                NaN   \n",
       "2578207    NaN             Upper Wentworth Unit 13                NaN   \n",
       "2578264    NaN      Upper Wentworth Street Unit 21                NaN   \n",
       "3520974    NaN   St. Clair Avenue West Locker Unit                NaN   \n",
       "3520975    NaN  St. Clair Avenue West Parking Unit                NaN   \n",
       "4606073     95               Courtice Road Unit 95                NaN   \n",
       "4606129     95               Courtice Road Unit 95                NaN   \n",
       "4606564     95               Courtice Road Unit 95                NaN   \n",
       "4606909     95               Courtice Road Unit 95                NaN   \n",
       "4607035     95               Courtice Road Unit 95                NaN   \n",
       "5538421    NaN               North Park Rd Unit 01                 Rd   \n",
       "5540122    NaN               North Park Rd Unit 01                 Rd   \n",
       "5540128    NaN               North Park Rd Unit 01                 Rd   \n",
       "5541443    NaN               North Park Rd Unit 01                 Rd   \n",
       "\n",
       "        municipality  \n",
       "911375       Toronto  \n",
       "911376       Toronto  \n",
       "2068778      Toronto  \n",
       "2069011      Toronto  \n",
       "2069392      Toronto  \n",
       "2577606     Hamilton  \n",
       "2578003     Hamilton  \n",
       "2578004     Hamilton  \n",
       "2578207     Hamilton  \n",
       "2578264     Hamilton  \n",
       "3520974      Toronto  \n",
       "3520975      Toronto  \n",
       "4606073   Clarington  \n",
       "4606129   Clarington  \n",
       "4606564   Clarington  \n",
       "4606909   Clarington  \n",
       "4607035   Clarington  \n",
       "5538421    Thornhill  \n",
       "5540122    Thornhill  \n",
       "5540128    Thornhill  \n",
       "5541443    Thornhill  "
      ]
     },
     "execution_count": 18,
     "metadata": {},
     "output_type": "execute_result"
    }
   ],
   "source": [
    "mask1 = df['street_name'].str.contains('Unit', na=False, case=False)\n",
    "mask2 = df['street_name'].str.contains('(Unity|Unita|United|Munition)', na=False, case=False)\n",
    "df.loc[mask1 & ~mask2, ['unitno', 'street_name', 'street_designation', 'municipality']]"
   ]
  },
  {
   "cell_type": "code",
   "execution_count": 19,
   "metadata": {},
   "outputs": [
    {
     "data": {
      "text/html": [
       "<div>\n",
       "<style scoped>\n",
       "    .dataframe tbody tr th:only-of-type {\n",
       "        vertical-align: middle;\n",
       "    }\n",
       "\n",
       "    .dataframe tbody tr th {\n",
       "        vertical-align: top;\n",
       "    }\n",
       "\n",
       "    .dataframe thead th {\n",
       "        text-align: right;\n",
       "    }\n",
       "</style>\n",
       "<table border=\"1\" class=\"dataframe\">\n",
       "  <thead>\n",
       "    <tr style=\"text-align: right;\">\n",
       "      <th></th>\n",
       "      <th>unitno</th>\n",
       "      <th>street_name</th>\n",
       "      <th>street_designation</th>\n",
       "      <th>municipality</th>\n",
       "    </tr>\n",
       "  </thead>\n",
       "  <tbody>\n",
       "    <tr>\n",
       "      <th>911375</th>\n",
       "      <td>Units 5</td>\n",
       "      <td>Nantucket Blvd</td>\n",
       "      <td>NaN</td>\n",
       "      <td>Toronto</td>\n",
       "    </tr>\n",
       "    <tr>\n",
       "      <th>911376</th>\n",
       "      <td>Units 5</td>\n",
       "      <td>Nantucket Blvd</td>\n",
       "      <td>NaN</td>\n",
       "      <td>Toronto</td>\n",
       "    </tr>\n",
       "    <tr>\n",
       "      <th>2068778</th>\n",
       "      <td>1808</td>\n",
       "      <td>Victoria Park Avenue</td>\n",
       "      <td>NaN</td>\n",
       "      <td>Toronto</td>\n",
       "    </tr>\n",
       "    <tr>\n",
       "      <th>2069011</th>\n",
       "      <td>1808</td>\n",
       "      <td>Victoria Park Avenue</td>\n",
       "      <td>NaN</td>\n",
       "      <td>Toronto</td>\n",
       "    </tr>\n",
       "    <tr>\n",
       "      <th>2069392</th>\n",
       "      <td>1808</td>\n",
       "      <td>Victoria Park Avenue</td>\n",
       "      <td>NaN</td>\n",
       "      <td>Toronto</td>\n",
       "    </tr>\n",
       "    <tr>\n",
       "      <th>2577606</th>\n",
       "      <td>21</td>\n",
       "      <td>Upper Wentworth Street</td>\n",
       "      <td>NaN</td>\n",
       "      <td>Hamilton</td>\n",
       "    </tr>\n",
       "    <tr>\n",
       "      <th>2578003</th>\n",
       "      <td>21</td>\n",
       "      <td>Upper Wentworth Street</td>\n",
       "      <td>NaN</td>\n",
       "      <td>Hamilton</td>\n",
       "    </tr>\n",
       "    <tr>\n",
       "      <th>2578004</th>\n",
       "      <td>13</td>\n",
       "      <td>Upper Wentworth</td>\n",
       "      <td>NaN</td>\n",
       "      <td>Hamilton</td>\n",
       "    </tr>\n",
       "    <tr>\n",
       "      <th>2578207</th>\n",
       "      <td>13</td>\n",
       "      <td>Upper Wentworth</td>\n",
       "      <td>NaN</td>\n",
       "      <td>Hamilton</td>\n",
       "    </tr>\n",
       "    <tr>\n",
       "      <th>2578264</th>\n",
       "      <td>21</td>\n",
       "      <td>Upper Wentworth Street</td>\n",
       "      <td>NaN</td>\n",
       "      <td>Hamilton</td>\n",
       "    </tr>\n",
       "    <tr>\n",
       "      <th>3520974</th>\n",
       "      <td>Locker</td>\n",
       "      <td>St. Clair Avenue West</td>\n",
       "      <td>NaN</td>\n",
       "      <td>Toronto</td>\n",
       "    </tr>\n",
       "    <tr>\n",
       "      <th>3520975</th>\n",
       "      <td>Parking</td>\n",
       "      <td>St. Clair Avenue West</td>\n",
       "      <td>NaN</td>\n",
       "      <td>Toronto</td>\n",
       "    </tr>\n",
       "    <tr>\n",
       "      <th>4606073</th>\n",
       "      <td>95</td>\n",
       "      <td>Courtice Road</td>\n",
       "      <td>NaN</td>\n",
       "      <td>Clarington</td>\n",
       "    </tr>\n",
       "    <tr>\n",
       "      <th>4606129</th>\n",
       "      <td>95</td>\n",
       "      <td>Courtice Road</td>\n",
       "      <td>NaN</td>\n",
       "      <td>Clarington</td>\n",
       "    </tr>\n",
       "    <tr>\n",
       "      <th>4606564</th>\n",
       "      <td>95</td>\n",
       "      <td>Courtice Road</td>\n",
       "      <td>NaN</td>\n",
       "      <td>Clarington</td>\n",
       "    </tr>\n",
       "    <tr>\n",
       "      <th>4606909</th>\n",
       "      <td>95</td>\n",
       "      <td>Courtice Road</td>\n",
       "      <td>NaN</td>\n",
       "      <td>Clarington</td>\n",
       "    </tr>\n",
       "    <tr>\n",
       "      <th>4607035</th>\n",
       "      <td>95</td>\n",
       "      <td>Courtice Road</td>\n",
       "      <td>NaN</td>\n",
       "      <td>Clarington</td>\n",
       "    </tr>\n",
       "    <tr>\n",
       "      <th>5538421</th>\n",
       "      <td>01</td>\n",
       "      <td>North Park Rd</td>\n",
       "      <td>Rd</td>\n",
       "      <td>Thornhill</td>\n",
       "    </tr>\n",
       "    <tr>\n",
       "      <th>5540122</th>\n",
       "      <td>01</td>\n",
       "      <td>North Park Rd</td>\n",
       "      <td>Rd</td>\n",
       "      <td>Thornhill</td>\n",
       "    </tr>\n",
       "    <tr>\n",
       "      <th>5540128</th>\n",
       "      <td>01</td>\n",
       "      <td>North Park Rd</td>\n",
       "      <td>Rd</td>\n",
       "      <td>Thornhill</td>\n",
       "    </tr>\n",
       "    <tr>\n",
       "      <th>5541443</th>\n",
       "      <td>01</td>\n",
       "      <td>North Park Rd</td>\n",
       "      <td>Rd</td>\n",
       "      <td>Thornhill</td>\n",
       "    </tr>\n",
       "  </tbody>\n",
       "</table>\n",
       "</div>"
      ],
      "text/plain": [
       "          unitno             street_name street_designation municipality\n",
       "911375   Units 5          Nantucket Blvd                NaN      Toronto\n",
       "911376   Units 5          Nantucket Blvd                NaN      Toronto\n",
       "2068778     1808    Victoria Park Avenue                NaN      Toronto\n",
       "2069011     1808    Victoria Park Avenue                NaN      Toronto\n",
       "2069392     1808    Victoria Park Avenue                NaN      Toronto\n",
       "2577606       21  Upper Wentworth Street                NaN     Hamilton\n",
       "2578003       21  Upper Wentworth Street                NaN     Hamilton\n",
       "2578004       13         Upper Wentworth                NaN     Hamilton\n",
       "2578207       13         Upper Wentworth                NaN     Hamilton\n",
       "2578264       21  Upper Wentworth Street                NaN     Hamilton\n",
       "3520974   Locker   St. Clair Avenue West                NaN      Toronto\n",
       "3520975  Parking   St. Clair Avenue West                NaN      Toronto\n",
       "4606073       95           Courtice Road                NaN   Clarington\n",
       "4606129       95           Courtice Road                NaN   Clarington\n",
       "4606564       95           Courtice Road                NaN   Clarington\n",
       "4606909       95           Courtice Road                NaN   Clarington\n",
       "4607035       95           Courtice Road                NaN   Clarington\n",
       "5538421       01           North Park Rd                 Rd    Thornhill\n",
       "5540122       01           North Park Rd                 Rd    Thornhill\n",
       "5540128       01           North Park Rd                 Rd    Thornhill\n",
       "5541443       01           North Park Rd                 Rd    Thornhill"
      ]
     },
     "execution_count": 19,
     "metadata": {},
     "output_type": "execute_result"
    }
   ],
   "source": [
    "df.loc[mask1 & ~mask2, 'unitno'] = \\\n",
    "    df.loc[mask1 & ~mask2, 'street_name']\\\n",
    "        .str.rsplit(' ', 2).apply(lambda x: x[-2:])\\\n",
    "        .apply(lambda x: ' '.join(x))\\\n",
    "        .str.replace('Unit', '')\\\n",
    "        .str.replace('s', 'Units')\\\n",
    "        .str.strip()\n",
    "df.loc[mask1 & ~mask2, 'street_name'] = \\\n",
    "    df.loc[mask1 & ~mask2, 'street_name']\\\n",
    "        .str.rsplit(' ', 2).apply(lambda x: x[0]).str.strip()\n",
    "df.loc[mask1 & ~mask2, ['unitno', 'street_name', 'street_designation', 'municipality']]"
   ]
  },
  {
   "cell_type": "markdown",
   "metadata": {},
   "source": [
    "### Extract `unitno` from `street_name`\n",
    "#### Other"
   ]
  },
  {
   "cell_type": "code",
   "execution_count": 59,
   "metadata": {},
   "outputs": [
    {
     "name": "stderr",
     "output_type": "stream",
     "text": [
      "/home/stepan/anaconda3/envs/gds/lib/python3.6/site-packages/ipykernel_launcher.py:2: UserWarning: This pattern has match groups. To actually get the groups, use str.extract.\n",
      "  \n"
     ]
    },
    {
     "data": {
      "text/html": [
       "<div>\n",
       "<style scoped>\n",
       "    .dataframe tbody tr th:only-of-type {\n",
       "        vertical-align: middle;\n",
       "    }\n",
       "\n",
       "    .dataframe tbody tr th {\n",
       "        vertical-align: top;\n",
       "    }\n",
       "\n",
       "    .dataframe thead th {\n",
       "        text-align: right;\n",
       "    }\n",
       "</style>\n",
       "<table border=\"1\" class=\"dataframe\">\n",
       "  <thead>\n",
       "    <tr style=\"text-align: right;\">\n",
       "      <th></th>\n",
       "      <th>unitno</th>\n",
       "      <th>street_name</th>\n",
       "      <th>street_designation</th>\n",
       "      <th>municipality</th>\n",
       "    </tr>\n",
       "  </thead>\n",
       "  <tbody>\n",
       "    <tr>\n",
       "      <th>51623</th>\n",
       "      <td>NaN</td>\n",
       "      <td>17Th Sideroad Rr#3</td>\n",
       "      <td>Side rd</td>\n",
       "      <td>Georgetown</td>\n",
       "    </tr>\n",
       "    <tr>\n",
       "      <th>51707</th>\n",
       "      <td>NaN</td>\n",
       "      <td>17Th Sideroad Rr#3</td>\n",
       "      <td>Side rd</td>\n",
       "      <td>Georgetown</td>\n",
       "    </tr>\n",
       "    <tr>\n",
       "      <th>51709</th>\n",
       "      <td>NaN</td>\n",
       "      <td>17Th Sideroad Rr#3</td>\n",
       "      <td>Side rd</td>\n",
       "      <td>Georgetown</td>\n",
       "    </tr>\n",
       "    <tr>\n",
       "      <th>51971</th>\n",
       "      <td>NaN</td>\n",
       "      <td>17Th Sideroad Rr#3</td>\n",
       "      <td>Side rd</td>\n",
       "      <td>Georgetown</td>\n",
       "    </tr>\n",
       "    <tr>\n",
       "      <th>51972</th>\n",
       "      <td>NaN</td>\n",
       "      <td>17Th Sideroad Rr#3</td>\n",
       "      <td>Side rd</td>\n",
       "      <td>Georgetown</td>\n",
       "    </tr>\n",
       "    <tr>\n",
       "      <th>52356</th>\n",
       "      <td>NaN</td>\n",
       "      <td>#5 Sideroad</td>\n",
       "      <td>Side rd</td>\n",
       "      <td>Milton</td>\n",
       "    </tr>\n",
       "    <tr>\n",
       "      <th>53272</th>\n",
       "      <td>NaN</td>\n",
       "      <td>#5 Sideroad</td>\n",
       "      <td>Side rd</td>\n",
       "      <td>Milton</td>\n",
       "    </tr>\n",
       "    <tr>\n",
       "      <th>70863</th>\n",
       "      <td>NaN</td>\n",
       "      <td>Third Sideroad, R. R. # 2</td>\n",
       "      <td>NaN</td>\n",
       "      <td>Campbelleville</td>\n",
       "    </tr>\n",
       "    <tr>\n",
       "      <th>71250</th>\n",
       "      <td>NaN</td>\n",
       "      <td>Third Sideroad, R. R. # 2</td>\n",
       "      <td>NaN</td>\n",
       "      <td>Campbelleville</td>\n",
       "    </tr>\n",
       "    <tr>\n",
       "      <th>111979</th>\n",
       "      <td>NaN</td>\n",
       "      <td>32Nd Side Road, R.R.#1</td>\n",
       "      <td>Side rd</td>\n",
       "      <td>Acton</td>\n",
       "    </tr>\n",
       "    <tr>\n",
       "      <th>112116</th>\n",
       "      <td>NaN</td>\n",
       "      <td>32Nd Side Road, R.R.#1</td>\n",
       "      <td>Side rd</td>\n",
       "      <td>Acton</td>\n",
       "    </tr>\n",
       "    <tr>\n",
       "      <th>112159</th>\n",
       "      <td>NaN</td>\n",
       "      <td>32Nd Side Road, R.R.#1</td>\n",
       "      <td>Side rd</td>\n",
       "      <td>Acton</td>\n",
       "    </tr>\n",
       "    <tr>\n",
       "      <th>112225</th>\n",
       "      <td>NaN</td>\n",
       "      <td>32Nd Side Road, R.R.#1</td>\n",
       "      <td>Side rd</td>\n",
       "      <td>Acton</td>\n",
       "    </tr>\n",
       "    <tr>\n",
       "      <th>112253</th>\n",
       "      <td>NaN</td>\n",
       "      <td>32Nd Side Road, R.R.#1</td>\n",
       "      <td>Side rd</td>\n",
       "      <td>Acton</td>\n",
       "    </tr>\n",
       "    <tr>\n",
       "      <th>112274</th>\n",
       "      <td>NaN</td>\n",
       "      <td>32Nd Side Road, R.R.#1</td>\n",
       "      <td>Side rd</td>\n",
       "      <td>Acton</td>\n",
       "    </tr>\n",
       "    <tr>\n",
       "      <th>112283</th>\n",
       "      <td>NaN</td>\n",
       "      <td>32Nd Side Road, R.R.#1</td>\n",
       "      <td>Side rd</td>\n",
       "      <td>Acton</td>\n",
       "    </tr>\n",
       "    <tr>\n",
       "      <th>112325</th>\n",
       "      <td>NaN</td>\n",
       "      <td>32Nd Side Road, R.R.#1</td>\n",
       "      <td>Side rd</td>\n",
       "      <td>Acton</td>\n",
       "    </tr>\n",
       "    <tr>\n",
       "      <th>152073</th>\n",
       "      <td>NaN</td>\n",
       "      <td># 2 Sideroad</td>\n",
       "      <td>Line</td>\n",
       "      <td>Burlington</td>\n",
       "    </tr>\n",
       "    <tr>\n",
       "      <th>152127</th>\n",
       "      <td>NaN</td>\n",
       "      <td>#2 Side Road</td>\n",
       "      <td>Rd</td>\n",
       "      <td>Burlington</td>\n",
       "    </tr>\n",
       "    <tr>\n",
       "      <th>152264</th>\n",
       "      <td>NaN</td>\n",
       "      <td># 2 Sideroad</td>\n",
       "      <td>Line</td>\n",
       "      <td>Burlington</td>\n",
       "    </tr>\n",
       "    <tr>\n",
       "      <th>152299</th>\n",
       "      <td>NaN</td>\n",
       "      <td>#2 Side Road</td>\n",
       "      <td>Rd</td>\n",
       "      <td>Burlington</td>\n",
       "    </tr>\n",
       "    <tr>\n",
       "      <th>152306</th>\n",
       "      <td>NaN</td>\n",
       "      <td># 2 Sideroad</td>\n",
       "      <td>Line</td>\n",
       "      <td>Burlington</td>\n",
       "    </tr>\n",
       "    <tr>\n",
       "      <th>389751</th>\n",
       "      <td>NaN</td>\n",
       "      <td>Scugog Point Road R.R.#1</td>\n",
       "      <td>NaN</td>\n",
       "      <td>Scugog</td>\n",
       "    </tr>\n",
       "    <tr>\n",
       "      <th>391884</th>\n",
       "      <td>NaN</td>\n",
       "      <td>Regional Rd Rr #2</td>\n",
       "      <td>NaN</td>\n",
       "      <td>Uxbridge</td>\n",
       "    </tr>\n",
       "    <tr>\n",
       "      <th>391974</th>\n",
       "      <td>NaN</td>\n",
       "      <td>Regional Rd Rr #2</td>\n",
       "      <td>NaN</td>\n",
       "      <td>Uxbridge</td>\n",
       "    </tr>\n",
       "    <tr>\n",
       "      <th>392242</th>\n",
       "      <td>NaN</td>\n",
       "      <td>Regional Rd Rr #2</td>\n",
       "      <td>NaN</td>\n",
       "      <td>Uxbridge</td>\n",
       "    </tr>\n",
       "    <tr>\n",
       "      <th>393251</th>\n",
       "      <td>NaN</td>\n",
       "      <td>Morris Lane R.R. #1</td>\n",
       "      <td>NaN</td>\n",
       "      <td>Scugog</td>\n",
       "    </tr>\n",
       "    <tr>\n",
       "      <th>393282</th>\n",
       "      <td>NaN</td>\n",
       "      <td>Morris Lane R.R. #1</td>\n",
       "      <td>NaN</td>\n",
       "      <td>Scugog</td>\n",
       "    </tr>\n",
       "    <tr>\n",
       "      <th>393882</th>\n",
       "      <td>NaN</td>\n",
       "      <td>Morris Lane R.R. #1</td>\n",
       "      <td>NaN</td>\n",
       "      <td>Scugog</td>\n",
       "    </tr>\n",
       "    <tr>\n",
       "      <th>439248</th>\n",
       "      <td>NaN</td>\n",
       "      <td>Westbank Trail #19</td>\n",
       "      <td>NaN</td>\n",
       "      <td>Stoney Creek</td>\n",
       "    </tr>\n",
       "    <tr>\n",
       "      <th>...</th>\n",
       "      <td>...</td>\n",
       "      <td>...</td>\n",
       "      <td>...</td>\n",
       "      <td>...</td>\n",
       "    </tr>\n",
       "    <tr>\n",
       "      <th>4595863</th>\n",
       "      <td>NaN</td>\n",
       "      <td>Maple Grove Road, R.R. #1</td>\n",
       "      <td>NaN</td>\n",
       "      <td>Hampton</td>\n",
       "    </tr>\n",
       "    <tr>\n",
       "      <th>4599104</th>\n",
       "      <td>NaN</td>\n",
       "      <td>Regional Road #14,Rr#5</td>\n",
       "      <td>NaN</td>\n",
       "      <td>Clarington</td>\n",
       "    </tr>\n",
       "    <tr>\n",
       "      <th>4599167</th>\n",
       "      <td>NaN</td>\n",
       "      <td>Concession 7  Rr#5</td>\n",
       "      <td>NaN</td>\n",
       "      <td>Bowmanville</td>\n",
       "    </tr>\n",
       "    <tr>\n",
       "      <th>4599193</th>\n",
       "      <td>NaN</td>\n",
       "      <td>Concession 7  Rr#5</td>\n",
       "      <td>NaN</td>\n",
       "      <td>Bowmanville</td>\n",
       "    </tr>\n",
       "    <tr>\n",
       "      <th>4599563</th>\n",
       "      <td>NaN</td>\n",
       "      <td>Taunton Road East R.R.#1</td>\n",
       "      <td>NaN</td>\n",
       "      <td>Clarington</td>\n",
       "    </tr>\n",
       "    <tr>\n",
       "      <th>4599564</th>\n",
       "      <td>NaN</td>\n",
       "      <td>Taunton Road East R.R.#1</td>\n",
       "      <td>NaN</td>\n",
       "      <td>Clarington</td>\n",
       "    </tr>\n",
       "    <tr>\n",
       "      <th>4599584</th>\n",
       "      <td>NaN</td>\n",
       "      <td>Taunton Road East R.R.#1</td>\n",
       "      <td>NaN</td>\n",
       "      <td>Clarington</td>\n",
       "    </tr>\n",
       "    <tr>\n",
       "      <th>4599623</th>\n",
       "      <td>NaN</td>\n",
       "      <td>Taunton Road East R.R.#1</td>\n",
       "      <td>NaN</td>\n",
       "      <td>Clarington</td>\n",
       "    </tr>\n",
       "    <tr>\n",
       "      <th>4606170</th>\n",
       "      <td>NaN</td>\n",
       "      <td>Nash Road #G-3</td>\n",
       "      <td>NaN</td>\n",
       "      <td>Clarington</td>\n",
       "    </tr>\n",
       "    <tr>\n",
       "      <th>4606365</th>\n",
       "      <td>NaN</td>\n",
       "      <td>Nash Road #G-3</td>\n",
       "      <td>NaN</td>\n",
       "      <td>Clarington</td>\n",
       "    </tr>\n",
       "    <tr>\n",
       "      <th>4607575</th>\n",
       "      <td>NaN</td>\n",
       "      <td>Tyler Street R.R.#1</td>\n",
       "      <td>NaN</td>\n",
       "      <td>Clarington</td>\n",
       "    </tr>\n",
       "    <tr>\n",
       "      <th>4610697</th>\n",
       "      <td>NaN</td>\n",
       "      <td>Regional Rd. #57</td>\n",
       "      <td>NaN</td>\n",
       "      <td>Bowmanville</td>\n",
       "    </tr>\n",
       "    <tr>\n",
       "      <th>4610765</th>\n",
       "      <td>NaN</td>\n",
       "      <td>Regional Rd. #57</td>\n",
       "      <td>NaN</td>\n",
       "      <td>Bowmanville</td>\n",
       "    </tr>\n",
       "    <tr>\n",
       "      <th>4610778</th>\n",
       "      <td>NaN</td>\n",
       "      <td>Regional Rd. #57</td>\n",
       "      <td>NaN</td>\n",
       "      <td>Bowmanville</td>\n",
       "    </tr>\n",
       "    <tr>\n",
       "      <th>4610936</th>\n",
       "      <td>NaN</td>\n",
       "      <td>Regional Rd. #57</td>\n",
       "      <td>NaN</td>\n",
       "      <td>Bowmanville</td>\n",
       "    </tr>\n",
       "    <tr>\n",
       "      <th>4610975</th>\n",
       "      <td>NaN</td>\n",
       "      <td>Regional Rd. #57</td>\n",
       "      <td>NaN</td>\n",
       "      <td>Bowmanville</td>\n",
       "    </tr>\n",
       "    <tr>\n",
       "      <th>4620823</th>\n",
       "      <td>NaN</td>\n",
       "      <td>Liberty Street North R.R.#5</td>\n",
       "      <td>NaN</td>\n",
       "      <td>Bowmanville</td>\n",
       "    </tr>\n",
       "    <tr>\n",
       "      <th>4621405</th>\n",
       "      <td>NaN</td>\n",
       "      <td>Liberty Street North R.R.#5</td>\n",
       "      <td>NaN</td>\n",
       "      <td>Bowmanville</td>\n",
       "    </tr>\n",
       "    <tr>\n",
       "      <th>4621448</th>\n",
       "      <td>NaN</td>\n",
       "      <td>Liberty Street North R.R.#5</td>\n",
       "      <td>NaN</td>\n",
       "      <td>Bowmanville</td>\n",
       "    </tr>\n",
       "    <tr>\n",
       "      <th>4621617</th>\n",
       "      <td>NaN</td>\n",
       "      <td>Liberty Street North R.R.#5</td>\n",
       "      <td>NaN</td>\n",
       "      <td>Bowmanville</td>\n",
       "    </tr>\n",
       "    <tr>\n",
       "      <th>4934352</th>\n",
       "      <td>NaN</td>\n",
       "      <td>Highway 7 West #1107</td>\n",
       "      <td>NaN</td>\n",
       "      <td>Vaughan</td>\n",
       "    </tr>\n",
       "    <tr>\n",
       "      <th>5350894</th>\n",
       "      <td>NaN</td>\n",
       "      <td>Highway 27, Rr #3</td>\n",
       "      <td>NaN</td>\n",
       "      <td>Vaughan</td>\n",
       "    </tr>\n",
       "    <tr>\n",
       "      <th>5350932</th>\n",
       "      <td>NaN</td>\n",
       "      <td>Highway 27, Rr #3</td>\n",
       "      <td>NaN</td>\n",
       "      <td>Vaughan</td>\n",
       "    </tr>\n",
       "    <tr>\n",
       "      <th>5371302</th>\n",
       "      <td>NaN</td>\n",
       "      <td>Hwy27, Rr# 3</td>\n",
       "      <td>Hwy</td>\n",
       "      <td>Vaughan</td>\n",
       "    </tr>\n",
       "    <tr>\n",
       "      <th>5371970</th>\n",
       "      <td>NaN</td>\n",
       "      <td>Hwy27, Rr# 3</td>\n",
       "      <td>Hwy</td>\n",
       "      <td>Vaughan</td>\n",
       "    </tr>\n",
       "    <tr>\n",
       "      <th>5372212</th>\n",
       "      <td>NaN</td>\n",
       "      <td>Hwy27, Rr# 3</td>\n",
       "      <td>Hwy</td>\n",
       "      <td>Vaughan</td>\n",
       "    </tr>\n",
       "    <tr>\n",
       "      <th>5372831</th>\n",
       "      <td>NaN</td>\n",
       "      <td>Hwy27, Rr# 3</td>\n",
       "      <td>Hwy</td>\n",
       "      <td>Vaughan</td>\n",
       "    </tr>\n",
       "    <tr>\n",
       "      <th>6415092</th>\n",
       "      <td>NaN</td>\n",
       "      <td>Bathurst Street (Potl#121)</td>\n",
       "      <td>NaN</td>\n",
       "      <td>Thornhill</td>\n",
       "    </tr>\n",
       "    <tr>\n",
       "      <th>6415328</th>\n",
       "      <td>NaN</td>\n",
       "      <td>Bathurst Street (Potl#121)</td>\n",
       "      <td>NaN</td>\n",
       "      <td>Thornhill</td>\n",
       "    </tr>\n",
       "    <tr>\n",
       "      <th>6415353</th>\n",
       "      <td>NaN</td>\n",
       "      <td>Bathurst Street (Potl#121)</td>\n",
       "      <td>NaN</td>\n",
       "      <td>Thornhill</td>\n",
       "    </tr>\n",
       "  </tbody>\n",
       "</table>\n",
       "<p>534 rows × 4 columns</p>\n",
       "</div>"
      ],
      "text/plain": [
       "        unitno                  street_name street_designation    municipality\n",
       "51623      NaN           17Th Sideroad Rr#3            Side rd      Georgetown\n",
       "51707      NaN           17Th Sideroad Rr#3            Side rd      Georgetown\n",
       "51709      NaN           17Th Sideroad Rr#3            Side rd      Georgetown\n",
       "51971      NaN           17Th Sideroad Rr#3            Side rd      Georgetown\n",
       "51972      NaN           17Th Sideroad Rr#3            Side rd      Georgetown\n",
       "52356      NaN                  #5 Sideroad            Side rd          Milton\n",
       "53272      NaN                  #5 Sideroad            Side rd          Milton\n",
       "70863      NaN    Third Sideroad, R. R. # 2                NaN  Campbelleville\n",
       "71250      NaN    Third Sideroad, R. R. # 2                NaN  Campbelleville\n",
       "111979     NaN       32Nd Side Road, R.R.#1            Side rd           Acton\n",
       "112116     NaN       32Nd Side Road, R.R.#1            Side rd           Acton\n",
       "112159     NaN       32Nd Side Road, R.R.#1            Side rd           Acton\n",
       "112225     NaN       32Nd Side Road, R.R.#1            Side rd           Acton\n",
       "112253     NaN       32Nd Side Road, R.R.#1            Side rd           Acton\n",
       "112274     NaN       32Nd Side Road, R.R.#1            Side rd           Acton\n",
       "112283     NaN       32Nd Side Road, R.R.#1            Side rd           Acton\n",
       "112325     NaN       32Nd Side Road, R.R.#1            Side rd           Acton\n",
       "152073     NaN                 # 2 Sideroad               Line      Burlington\n",
       "152127     NaN                 #2 Side Road                 Rd      Burlington\n",
       "152264     NaN                 # 2 Sideroad               Line      Burlington\n",
       "152299     NaN                 #2 Side Road                 Rd      Burlington\n",
       "152306     NaN                 # 2 Sideroad               Line      Burlington\n",
       "389751     NaN     Scugog Point Road R.R.#1                NaN          Scugog\n",
       "391884     NaN            Regional Rd Rr #2                NaN        Uxbridge\n",
       "391974     NaN            Regional Rd Rr #2                NaN        Uxbridge\n",
       "392242     NaN            Regional Rd Rr #2                NaN        Uxbridge\n",
       "393251     NaN          Morris Lane R.R. #1                NaN          Scugog\n",
       "393282     NaN          Morris Lane R.R. #1                NaN          Scugog\n",
       "393882     NaN          Morris Lane R.R. #1                NaN          Scugog\n",
       "439248     NaN           Westbank Trail #19                NaN    Stoney Creek\n",
       "...        ...                          ...                ...             ...\n",
       "4595863    NaN    Maple Grove Road, R.R. #1                NaN         Hampton\n",
       "4599104    NaN       Regional Road #14,Rr#5                NaN      Clarington\n",
       "4599167    NaN           Concession 7  Rr#5                NaN     Bowmanville\n",
       "4599193    NaN           Concession 7  Rr#5                NaN     Bowmanville\n",
       "4599563    NaN     Taunton Road East R.R.#1                NaN      Clarington\n",
       "4599564    NaN     Taunton Road East R.R.#1                NaN      Clarington\n",
       "4599584    NaN     Taunton Road East R.R.#1                NaN      Clarington\n",
       "4599623    NaN     Taunton Road East R.R.#1                NaN      Clarington\n",
       "4606170    NaN               Nash Road #G-3                NaN      Clarington\n",
       "4606365    NaN               Nash Road #G-3                NaN      Clarington\n",
       "4607575    NaN          Tyler Street R.R.#1                NaN      Clarington\n",
       "4610697    NaN             Regional Rd. #57                NaN     Bowmanville\n",
       "4610765    NaN             Regional Rd. #57                NaN     Bowmanville\n",
       "4610778    NaN             Regional Rd. #57                NaN     Bowmanville\n",
       "4610936    NaN             Regional Rd. #57                NaN     Bowmanville\n",
       "4610975    NaN             Regional Rd. #57                NaN     Bowmanville\n",
       "4620823    NaN  Liberty Street North R.R.#5                NaN     Bowmanville\n",
       "4621405    NaN  Liberty Street North R.R.#5                NaN     Bowmanville\n",
       "4621448    NaN  Liberty Street North R.R.#5                NaN     Bowmanville\n",
       "4621617    NaN  Liberty Street North R.R.#5                NaN     Bowmanville\n",
       "4934352    NaN         Highway 7 West #1107                NaN         Vaughan\n",
       "5350894    NaN            Highway 27, Rr #3                NaN         Vaughan\n",
       "5350932    NaN            Highway 27, Rr #3                NaN         Vaughan\n",
       "5371302    NaN                 Hwy27, Rr# 3                Hwy         Vaughan\n",
       "5371970    NaN                 Hwy27, Rr# 3                Hwy         Vaughan\n",
       "5372212    NaN                 Hwy27, Rr# 3                Hwy         Vaughan\n",
       "5372831    NaN                 Hwy27, Rr# 3                Hwy         Vaughan\n",
       "6415092    NaN   Bathurst Street (Potl#121)                NaN       Thornhill\n",
       "6415328    NaN   Bathurst Street (Potl#121)                NaN       Thornhill\n",
       "6415353    NaN   Bathurst Street (Potl#121)                NaN       Thornhill\n",
       "\n",
       "[534 rows x 4 columns]"
      ]
     },
     "execution_count": 59,
     "metadata": {},
     "output_type": "execute_result"
    }
   ],
   "source": [
    "mask1 = df['street_name'].str.contains('#', na=False, case=False)\n",
    "mask2 = df['street_name'].str.contains('(Highway #|Hwy #)', na=False, case=False)\n",
    "df.loc[mask1 & ~mask2, ['unitno', 'street_name', 'street_designation', 'municipality']]"
   ]
  },
  {
   "cell_type": "code",
   "execution_count": 66,
   "metadata": {},
   "outputs": [
    {
     "name": "stderr",
     "output_type": "stream",
     "text": [
      "/home/stepan/anaconda3/envs/gds/lib/python3.6/site-packages/ipykernel_launcher.py:1: UserWarning: This pattern has match groups. To actually get the groups, use str.extract.\n",
      "  \"\"\"Entry point for launching an IPython kernel.\n"
     ]
    },
    {
     "data": {
      "text/html": [
       "<div>\n",
       "<style scoped>\n",
       "    .dataframe tbody tr th:only-of-type {\n",
       "        vertical-align: middle;\n",
       "    }\n",
       "\n",
       "    .dataframe tbody tr th {\n",
       "        vertical-align: top;\n",
       "    }\n",
       "\n",
       "    .dataframe thead th {\n",
       "        text-align: right;\n",
       "    }\n",
       "</style>\n",
       "<table border=\"1\" class=\"dataframe\">\n",
       "  <thead>\n",
       "    <tr style=\"text-align: right;\">\n",
       "      <th></th>\n",
       "      <th>unitno</th>\n",
       "      <th>street_name</th>\n",
       "      <th>street_designation</th>\n",
       "      <th>municipality</th>\n",
       "    </tr>\n",
       "  </thead>\n",
       "  <tbody>\n",
       "    <tr>\n",
       "      <th>19144</th>\n",
       "      <td>NaN</td>\n",
       "      <td>No. 2 Sideroad</td>\n",
       "      <td>Cres</td>\n",
       "      <td>Burlington</td>\n",
       "    </tr>\n",
       "    <tr>\n",
       "      <th>19235</th>\n",
       "      <td>NaN</td>\n",
       "      <td>No. 2 Sideroad</td>\n",
       "      <td>Cres</td>\n",
       "      <td>Burlington</td>\n",
       "    </tr>\n",
       "    <tr>\n",
       "      <th>52159</th>\n",
       "      <td>NaN</td>\n",
       "      <td>No. 5 Side Road</td>\n",
       "      <td>Line</td>\n",
       "      <td>Milton</td>\n",
       "    </tr>\n",
       "    <tr>\n",
       "      <th>52230</th>\n",
       "      <td>NaN</td>\n",
       "      <td>No. 5 Sideroad</td>\n",
       "      <td>Side rd</td>\n",
       "      <td>Milton</td>\n",
       "    </tr>\n",
       "    <tr>\n",
       "      <th>52313</th>\n",
       "      <td>NaN</td>\n",
       "      <td>No. 5 Sideroad</td>\n",
       "      <td>Side rd</td>\n",
       "      <td>Milton</td>\n",
       "    </tr>\n",
       "    <tr>\n",
       "      <th>52979</th>\n",
       "      <td>NaN</td>\n",
       "      <td>No. 5 Side Road</td>\n",
       "      <td>Line</td>\n",
       "      <td>Milton</td>\n",
       "    </tr>\n",
       "    <tr>\n",
       "      <th>53194</th>\n",
       "      <td>NaN</td>\n",
       "      <td>No. 5 Sideroad</td>\n",
       "      <td>Side rd</td>\n",
       "      <td>Milton</td>\n",
       "    </tr>\n",
       "    <tr>\n",
       "      <th>53195</th>\n",
       "      <td>NaN</td>\n",
       "      <td>No. 5 Sideroad</td>\n",
       "      <td>Side rd</td>\n",
       "      <td>Milton</td>\n",
       "    </tr>\n",
       "    <tr>\n",
       "      <th>53265</th>\n",
       "      <td>NaN</td>\n",
       "      <td>No. 5 Sideroad</td>\n",
       "      <td>Side rd</td>\n",
       "      <td>Milton</td>\n",
       "    </tr>\n",
       "    <tr>\n",
       "      <th>53624</th>\n",
       "      <td>NaN</td>\n",
       "      <td>No. 5 Side Road</td>\n",
       "      <td>Line</td>\n",
       "      <td>Milton</td>\n",
       "    </tr>\n",
       "    <tr>\n",
       "      <th>391591</th>\n",
       "      <td>NaN</td>\n",
       "      <td>Regional Rd No 1</td>\n",
       "      <td>NaN</td>\n",
       "      <td>Ajax</td>\n",
       "    </tr>\n",
       "    <tr>\n",
       "      <th>391604</th>\n",
       "      <td>NaN</td>\n",
       "      <td>Regional Rd No 1</td>\n",
       "      <td>NaN</td>\n",
       "      <td>Uxbridge</td>\n",
       "    </tr>\n",
       "    <tr>\n",
       "      <th>391606</th>\n",
       "      <td>NaN</td>\n",
       "      <td>Regional Rd No 1</td>\n",
       "      <td>NaN</td>\n",
       "      <td>Uxbridge</td>\n",
       "    </tr>\n",
       "    <tr>\n",
       "      <th>391607</th>\n",
       "      <td>NaN</td>\n",
       "      <td>Regional Rd No 1</td>\n",
       "      <td>NaN</td>\n",
       "      <td>Uxbridge</td>\n",
       "    </tr>\n",
       "    <tr>\n",
       "      <th>391617</th>\n",
       "      <td>NaN</td>\n",
       "      <td>Regional Rd No 1</td>\n",
       "      <td>NaN</td>\n",
       "      <td>Uxbridge</td>\n",
       "    </tr>\n",
       "    <tr>\n",
       "      <th>391645</th>\n",
       "      <td>NaN</td>\n",
       "      <td>Regional Rd No 1</td>\n",
       "      <td>NaN</td>\n",
       "      <td>Uxbridge</td>\n",
       "    </tr>\n",
       "    <tr>\n",
       "      <th>391670</th>\n",
       "      <td>NaN</td>\n",
       "      <td>Regional Road No 1</td>\n",
       "      <td>NaN</td>\n",
       "      <td>Uxbridge</td>\n",
       "    </tr>\n",
       "    <tr>\n",
       "      <th>391689</th>\n",
       "      <td>NaN</td>\n",
       "      <td>Regional Rd No 1</td>\n",
       "      <td>NaN</td>\n",
       "      <td>Uxbridge</td>\n",
       "    </tr>\n",
       "    <tr>\n",
       "      <th>391710</th>\n",
       "      <td>NaN</td>\n",
       "      <td>Regional Rd No 1</td>\n",
       "      <td>NaN</td>\n",
       "      <td>Uxbridge</td>\n",
       "    </tr>\n",
       "    <tr>\n",
       "      <th>391732</th>\n",
       "      <td>NaN</td>\n",
       "      <td>Regional Rd No 1</td>\n",
       "      <td>NaN</td>\n",
       "      <td>Uxbridge</td>\n",
       "    </tr>\n",
       "    <tr>\n",
       "      <th>391738</th>\n",
       "      <td>NaN</td>\n",
       "      <td>Regional Rd No 1</td>\n",
       "      <td>NaN</td>\n",
       "      <td>Uxbridge</td>\n",
       "    </tr>\n",
       "    <tr>\n",
       "      <th>391741</th>\n",
       "      <td>NaN</td>\n",
       "      <td>Regional Rd No 1</td>\n",
       "      <td>NaN</td>\n",
       "      <td>Uxbridge</td>\n",
       "    </tr>\n",
       "    <tr>\n",
       "      <th>391747</th>\n",
       "      <td>NaN</td>\n",
       "      <td>Regional Rd No 23</td>\n",
       "      <td>NaN</td>\n",
       "      <td>Uxbridge</td>\n",
       "    </tr>\n",
       "    <tr>\n",
       "      <th>391767</th>\n",
       "      <td>NaN</td>\n",
       "      <td>Regional Rd No 1</td>\n",
       "      <td>NaN</td>\n",
       "      <td>Uxbridge</td>\n",
       "    </tr>\n",
       "    <tr>\n",
       "      <th>391776</th>\n",
       "      <td>NaN</td>\n",
       "      <td>Regional Rd No 1</td>\n",
       "      <td>NaN</td>\n",
       "      <td>Uxbridge</td>\n",
       "    </tr>\n",
       "    <tr>\n",
       "      <th>391821</th>\n",
       "      <td>NaN</td>\n",
       "      <td>Regional Rd No 1</td>\n",
       "      <td>NaN</td>\n",
       "      <td>Uxbridge</td>\n",
       "    </tr>\n",
       "    <tr>\n",
       "      <th>391832</th>\n",
       "      <td>NaN</td>\n",
       "      <td>Regional Rd No 1</td>\n",
       "      <td>NaN</td>\n",
       "      <td>Uxbridge</td>\n",
       "    </tr>\n",
       "    <tr>\n",
       "      <th>391867</th>\n",
       "      <td>NaN</td>\n",
       "      <td>Regional Rd No 1</td>\n",
       "      <td>NaN</td>\n",
       "      <td>Uxbridge</td>\n",
       "    </tr>\n",
       "    <tr>\n",
       "      <th>391873</th>\n",
       "      <td>NaN</td>\n",
       "      <td>Regional Rd No 1</td>\n",
       "      <td>NaN</td>\n",
       "      <td>Uxbridge</td>\n",
       "    </tr>\n",
       "    <tr>\n",
       "      <th>391879</th>\n",
       "      <td>NaN</td>\n",
       "      <td>Regional Rd No 1</td>\n",
       "      <td>NaN</td>\n",
       "      <td>Uxbridge</td>\n",
       "    </tr>\n",
       "    <tr>\n",
       "      <th>...</th>\n",
       "      <td>...</td>\n",
       "      <td>...</td>\n",
       "      <td>...</td>\n",
       "      <td>...</td>\n",
       "    </tr>\n",
       "    <tr>\n",
       "      <th>5500960</th>\n",
       "      <td>NaN</td>\n",
       "      <td>Highway No. 7</td>\n",
       "      <td>NaN</td>\n",
       "      <td>Markham</td>\n",
       "    </tr>\n",
       "    <tr>\n",
       "      <th>5501181</th>\n",
       "      <td>NaN</td>\n",
       "      <td>Highway No. 7</td>\n",
       "      <td>NaN</td>\n",
       "      <td>Markham</td>\n",
       "    </tr>\n",
       "    <tr>\n",
       "      <th>5501436</th>\n",
       "      <td>NaN</td>\n",
       "      <td>Highway No. 7</td>\n",
       "      <td>NaN</td>\n",
       "      <td>Markham</td>\n",
       "    </tr>\n",
       "    <tr>\n",
       "      <th>5501530</th>\n",
       "      <td>NaN</td>\n",
       "      <td>Highway No. 7</td>\n",
       "      <td>NaN</td>\n",
       "      <td>Markham</td>\n",
       "    </tr>\n",
       "    <tr>\n",
       "      <th>5801131</th>\n",
       "      <td>NaN</td>\n",
       "      <td>-4451 Highway No. 7</td>\n",
       "      <td>NaN</td>\n",
       "      <td>Vaughan</td>\n",
       "    </tr>\n",
       "    <tr>\n",
       "      <th>5801132</th>\n",
       "      <td>NaN</td>\n",
       "      <td>-4451 Highway No. 7</td>\n",
       "      <td>NaN</td>\n",
       "      <td>Vaughan</td>\n",
       "    </tr>\n",
       "    <tr>\n",
       "      <th>5801133</th>\n",
       "      <td>NaN</td>\n",
       "      <td>-4451 Highway No. 7</td>\n",
       "      <td>NaN</td>\n",
       "      <td>Vaughan</td>\n",
       "    </tr>\n",
       "    <tr>\n",
       "      <th>5860892</th>\n",
       "      <td>NaN</td>\n",
       "      <td>Highway No. 7</td>\n",
       "      <td>NaN</td>\n",
       "      <td>Richmond Hill</td>\n",
       "    </tr>\n",
       "    <tr>\n",
       "      <th>5860895</th>\n",
       "      <td>NaN</td>\n",
       "      <td>Highway No. 7</td>\n",
       "      <td>NaN</td>\n",
       "      <td>Richmond Hill</td>\n",
       "    </tr>\n",
       "    <tr>\n",
       "      <th>5860933</th>\n",
       "      <td>NaN</td>\n",
       "      <td>Highway No. 7</td>\n",
       "      <td>NaN</td>\n",
       "      <td>Richmond Hill</td>\n",
       "    </tr>\n",
       "    <tr>\n",
       "      <th>5890270</th>\n",
       "      <td>NaN</td>\n",
       "      <td>Highway No. 7</td>\n",
       "      <td>NaN</td>\n",
       "      <td>Markham</td>\n",
       "    </tr>\n",
       "    <tr>\n",
       "      <th>5890464</th>\n",
       "      <td>NaN</td>\n",
       "      <td>Highway No. 7</td>\n",
       "      <td>NaN</td>\n",
       "      <td>Markham</td>\n",
       "    </tr>\n",
       "    <tr>\n",
       "      <th>5890495</th>\n",
       "      <td>NaN</td>\n",
       "      <td>Highway No. 7</td>\n",
       "      <td>NaN</td>\n",
       "      <td>Markham</td>\n",
       "    </tr>\n",
       "    <tr>\n",
       "      <th>5890702</th>\n",
       "      <td>NaN</td>\n",
       "      <td>Highway No. 7</td>\n",
       "      <td>NaN</td>\n",
       "      <td>Markham</td>\n",
       "    </tr>\n",
       "    <tr>\n",
       "      <th>5891113</th>\n",
       "      <td>NaN</td>\n",
       "      <td>Highway No. 7</td>\n",
       "      <td>NaN</td>\n",
       "      <td>Markham</td>\n",
       "    </tr>\n",
       "    <tr>\n",
       "      <th>5891114</th>\n",
       "      <td>NaN</td>\n",
       "      <td>Highway No. 7</td>\n",
       "      <td>NaN</td>\n",
       "      <td>Markham</td>\n",
       "    </tr>\n",
       "    <tr>\n",
       "      <th>5891332</th>\n",
       "      <td>NaN</td>\n",
       "      <td>Highway No. 7</td>\n",
       "      <td>NaN</td>\n",
       "      <td>Markham</td>\n",
       "    </tr>\n",
       "    <tr>\n",
       "      <th>6120512</th>\n",
       "      <td>NaN</td>\n",
       "      <td>Highway No. 48</td>\n",
       "      <td>NaN</td>\n",
       "      <td>Markham</td>\n",
       "    </tr>\n",
       "    <tr>\n",
       "      <th>6123044</th>\n",
       "      <td>NaN</td>\n",
       "      <td>Highway No. 48</td>\n",
       "      <td>NaN</td>\n",
       "      <td>Markham</td>\n",
       "    </tr>\n",
       "    <tr>\n",
       "      <th>6254987</th>\n",
       "      <td>NaN</td>\n",
       "      <td>Highway No. 7</td>\n",
       "      <td>NaN</td>\n",
       "      <td>Markham</td>\n",
       "    </tr>\n",
       "    <tr>\n",
       "      <th>6254988</th>\n",
       "      <td>NaN</td>\n",
       "      <td>Highway No. 7</td>\n",
       "      <td>NaN</td>\n",
       "      <td>Markham</td>\n",
       "    </tr>\n",
       "    <tr>\n",
       "      <th>6256502</th>\n",
       "      <td>NaN</td>\n",
       "      <td>Highway No. 7</td>\n",
       "      <td>NaN</td>\n",
       "      <td>Markham</td>\n",
       "    </tr>\n",
       "    <tr>\n",
       "      <th>6256503</th>\n",
       "      <td>NaN</td>\n",
       "      <td>Highway No. 7</td>\n",
       "      <td>NaN</td>\n",
       "      <td>Markham</td>\n",
       "    </tr>\n",
       "    <tr>\n",
       "      <th>6259140</th>\n",
       "      <td>NaN</td>\n",
       "      <td>Highway No. 7</td>\n",
       "      <td>NaN</td>\n",
       "      <td>Markham</td>\n",
       "    </tr>\n",
       "    <tr>\n",
       "      <th>6259141</th>\n",
       "      <td>NaN</td>\n",
       "      <td>Highway No. 7</td>\n",
       "      <td>NaN</td>\n",
       "      <td>Markham</td>\n",
       "    </tr>\n",
       "    <tr>\n",
       "      <th>6389976</th>\n",
       "      <td>NaN</td>\n",
       "      <td>Street No.128</td>\n",
       "      <td>NaN</td>\n",
       "      <td>Mississauga</td>\n",
       "    </tr>\n",
       "    <tr>\n",
       "      <th>6390338</th>\n",
       "      <td>NaN</td>\n",
       "      <td>Street No.128</td>\n",
       "      <td>NaN</td>\n",
       "      <td>Mississauga</td>\n",
       "    </tr>\n",
       "    <tr>\n",
       "      <th>6390405</th>\n",
       "      <td>NaN</td>\n",
       "      <td>Street No.128</td>\n",
       "      <td>NaN</td>\n",
       "      <td>Mississauga</td>\n",
       "    </tr>\n",
       "    <tr>\n",
       "      <th>6429529</th>\n",
       "      <td>NaN</td>\n",
       "      <td>Highway No. 48</td>\n",
       "      <td>NaN</td>\n",
       "      <td>Whitchurch-Stouffville</td>\n",
       "    </tr>\n",
       "    <tr>\n",
       "      <th>6429569</th>\n",
       "      <td>NaN</td>\n",
       "      <td>Highway No. 48</td>\n",
       "      <td>NaN</td>\n",
       "      <td>Whitchurch-Stouffville</td>\n",
       "    </tr>\n",
       "  </tbody>\n",
       "</table>\n",
       "<p>1107 rows × 4 columns</p>\n",
       "</div>"
      ],
      "text/plain": [
       "        unitno          street_name street_designation            municipality\n",
       "19144      NaN       No. 2 Sideroad               Cres              Burlington\n",
       "19235      NaN       No. 2 Sideroad               Cres              Burlington\n",
       "52159      NaN      No. 5 Side Road               Line                  Milton\n",
       "52230      NaN       No. 5 Sideroad            Side rd                  Milton\n",
       "52313      NaN       No. 5 Sideroad            Side rd                  Milton\n",
       "52979      NaN      No. 5 Side Road               Line                  Milton\n",
       "53194      NaN       No. 5 Sideroad            Side rd                  Milton\n",
       "53195      NaN       No. 5 Sideroad            Side rd                  Milton\n",
       "53265      NaN       No. 5 Sideroad            Side rd                  Milton\n",
       "53624      NaN      No. 5 Side Road               Line                  Milton\n",
       "391591     NaN     Regional Rd No 1                NaN                    Ajax\n",
       "391604     NaN     Regional Rd No 1                NaN                Uxbridge\n",
       "391606     NaN     Regional Rd No 1                NaN                Uxbridge\n",
       "391607     NaN     Regional Rd No 1                NaN                Uxbridge\n",
       "391617     NaN     Regional Rd No 1                NaN                Uxbridge\n",
       "391645     NaN     Regional Rd No 1                NaN                Uxbridge\n",
       "391670     NaN   Regional Road No 1                NaN                Uxbridge\n",
       "391689     NaN     Regional Rd No 1                NaN                Uxbridge\n",
       "391710     NaN     Regional Rd No 1                NaN                Uxbridge\n",
       "391732     NaN     Regional Rd No 1                NaN                Uxbridge\n",
       "391738     NaN     Regional Rd No 1                NaN                Uxbridge\n",
       "391741     NaN     Regional Rd No 1                NaN                Uxbridge\n",
       "391747     NaN    Regional Rd No 23                NaN                Uxbridge\n",
       "391767     NaN     Regional Rd No 1                NaN                Uxbridge\n",
       "391776     NaN     Regional Rd No 1                NaN                Uxbridge\n",
       "391821     NaN     Regional Rd No 1                NaN                Uxbridge\n",
       "391832     NaN     Regional Rd No 1                NaN                Uxbridge\n",
       "391867     NaN     Regional Rd No 1                NaN                Uxbridge\n",
       "391873     NaN     Regional Rd No 1                NaN                Uxbridge\n",
       "391879     NaN     Regional Rd No 1                NaN                Uxbridge\n",
       "...        ...                  ...                ...                     ...\n",
       "5500960    NaN        Highway No. 7                NaN                 Markham\n",
       "5501181    NaN        Highway No. 7                NaN                 Markham\n",
       "5501436    NaN        Highway No. 7                NaN                 Markham\n",
       "5501530    NaN        Highway No. 7                NaN                 Markham\n",
       "5801131    NaN  -4451 Highway No. 7                NaN                 Vaughan\n",
       "5801132    NaN  -4451 Highway No. 7                NaN                 Vaughan\n",
       "5801133    NaN  -4451 Highway No. 7                NaN                 Vaughan\n",
       "5860892    NaN        Highway No. 7                NaN           Richmond Hill\n",
       "5860895    NaN        Highway No. 7                NaN           Richmond Hill\n",
       "5860933    NaN        Highway No. 7                NaN           Richmond Hill\n",
       "5890270    NaN        Highway No. 7                NaN                 Markham\n",
       "5890464    NaN        Highway No. 7                NaN                 Markham\n",
       "5890495    NaN        Highway No. 7                NaN                 Markham\n",
       "5890702    NaN        Highway No. 7                NaN                 Markham\n",
       "5891113    NaN        Highway No. 7                NaN                 Markham\n",
       "5891114    NaN        Highway No. 7                NaN                 Markham\n",
       "5891332    NaN        Highway No. 7                NaN                 Markham\n",
       "6120512    NaN       Highway No. 48                NaN                 Markham\n",
       "6123044    NaN       Highway No. 48                NaN                 Markham\n",
       "6254987    NaN        Highway No. 7                NaN                 Markham\n",
       "6254988    NaN        Highway No. 7                NaN                 Markham\n",
       "6256502    NaN        Highway No. 7                NaN                 Markham\n",
       "6256503    NaN        Highway No. 7                NaN                 Markham\n",
       "6259140    NaN        Highway No. 7                NaN                 Markham\n",
       "6259141    NaN        Highway No. 7                NaN                 Markham\n",
       "6389976    NaN        Street No.128                NaN             Mississauga\n",
       "6390338    NaN        Street No.128                NaN             Mississauga\n",
       "6390405    NaN        Street No.128                NaN             Mississauga\n",
       "6429529    NaN       Highway No. 48                NaN  Whitchurch-Stouffville\n",
       "6429569    NaN       Highway No. 48                NaN  Whitchurch-Stouffville\n",
       "\n",
       "[1107 rows x 4 columns]"
      ]
     },
     "execution_count": 66,
     "metadata": {},
     "output_type": "execute_result"
    }
   ],
   "source": [
    "mask1 = df['street_name'].str.contains('(\\sno\\s|no\\.)', na=False, case=False)\n",
    "#mask2 = df['street_name'].str.contains('(Unity|Unita|United|Munition)', na=False, case=False)\n",
    "df.loc[mask1, ['unitno', 'street_name', 'street_designation', 'municipality']]"
   ]
  },
  {
   "cell_type": "markdown",
   "metadata": {},
   "source": [
    "## Step 5: Parse `street_direction` from `street_name`\n",
    "Some Teranet records with missing `street_direction` have it as part of their `street_name` value."
   ]
  },
  {
   "cell_type": "code",
   "execution_count": 9,
   "metadata": {},
   "outputs": [
    {
     "name": "stderr",
     "output_type": "stream",
     "text": [
      "/home/stepan/anaconda3/envs/gds/lib/python3.6/site-packages/ipykernel_launcher.py:1: UserWarning: This pattern has match groups. To actually get the groups, use str.extract.\n",
      "  \"\"\"Entry point for launching an IPython kernel.\n"
     ]
    },
    {
     "data": {
      "text/html": [
       "<div>\n",
       "<style scoped>\n",
       "    .dataframe tbody tr th:only-of-type {\n",
       "        vertical-align: middle;\n",
       "    }\n",
       "\n",
       "    .dataframe tbody tr th {\n",
       "        vertical-align: top;\n",
       "    }\n",
       "\n",
       "    .dataframe thead th {\n",
       "        text-align: right;\n",
       "    }\n",
       "</style>\n",
       "<table border=\"1\" class=\"dataframe\">\n",
       "  <thead>\n",
       "    <tr style=\"text-align: right;\">\n",
       "      <th></th>\n",
       "      <th>street_name</th>\n",
       "      <th>street_direction</th>\n",
       "      <th>street_designation</th>\n",
       "      <th>municipality</th>\n",
       "    </tr>\n",
       "  </thead>\n",
       "  <tbody>\n",
       "    <tr>\n",
       "      <th>3756</th>\n",
       "      <td>Steeles Ave W</td>\n",
       "      <td>NaN</td>\n",
       "      <td>NaN</td>\n",
       "      <td>Milton</td>\n",
       "    </tr>\n",
       "    <tr>\n",
       "      <th>3761</th>\n",
       "      <td>Steeles Avenue West</td>\n",
       "      <td>NaN</td>\n",
       "      <td>NaN</td>\n",
       "      <td>Milton</td>\n",
       "    </tr>\n",
       "    <tr>\n",
       "      <th>3792</th>\n",
       "      <td>Steeles Ave W</td>\n",
       "      <td>NaN</td>\n",
       "      <td>NaN</td>\n",
       "      <td>Milton</td>\n",
       "    </tr>\n",
       "    <tr>\n",
       "      <th>3831</th>\n",
       "      <td>Steeles Ave W</td>\n",
       "      <td>NaN</td>\n",
       "      <td>NaN</td>\n",
       "      <td>Milton</td>\n",
       "    </tr>\n",
       "    <tr>\n",
       "      <th>3867</th>\n",
       "      <td>Derry Road West</td>\n",
       "      <td>NaN</td>\n",
       "      <td>NaN</td>\n",
       "      <td>Milton</td>\n",
       "    </tr>\n",
       "    <tr>\n",
       "      <th>3870</th>\n",
       "      <td>Steeles Ave W</td>\n",
       "      <td>NaN</td>\n",
       "      <td>NaN</td>\n",
       "      <td>Milton</td>\n",
       "    </tr>\n",
       "    <tr>\n",
       "      <th>3985</th>\n",
       "      <td>Steeles Avenue West</td>\n",
       "      <td>NaN</td>\n",
       "      <td>NaN</td>\n",
       "      <td>Milton</td>\n",
       "    </tr>\n",
       "    <tr>\n",
       "      <th>3995</th>\n",
       "      <td>Steeles Avenue West</td>\n",
       "      <td>NaN</td>\n",
       "      <td>NaN</td>\n",
       "      <td>Milton</td>\n",
       "    </tr>\n",
       "    <tr>\n",
       "      <th>4052</th>\n",
       "      <td>Derry Road West</td>\n",
       "      <td>NaN</td>\n",
       "      <td>NaN</td>\n",
       "      <td>Milton</td>\n",
       "    </tr>\n",
       "    <tr>\n",
       "      <th>4076</th>\n",
       "      <td>Steeles Ave W</td>\n",
       "      <td>NaN</td>\n",
       "      <td>NaN</td>\n",
       "      <td>Milton</td>\n",
       "    </tr>\n",
       "    <tr>\n",
       "      <th>4117</th>\n",
       "      <td>Steeles Ave W</td>\n",
       "      <td>NaN</td>\n",
       "      <td>NaN</td>\n",
       "      <td>Milton</td>\n",
       "    </tr>\n",
       "    <tr>\n",
       "      <th>4118</th>\n",
       "      <td>Steeles Ave W</td>\n",
       "      <td>NaN</td>\n",
       "      <td>NaN</td>\n",
       "      <td>Milton</td>\n",
       "    </tr>\n",
       "    <tr>\n",
       "      <th>4145</th>\n",
       "      <td>Derry Road West</td>\n",
       "      <td>NaN</td>\n",
       "      <td>NaN</td>\n",
       "      <td>Milton</td>\n",
       "    </tr>\n",
       "    <tr>\n",
       "      <th>4165</th>\n",
       "      <td>Steeles Avenue West</td>\n",
       "      <td>NaN</td>\n",
       "      <td>NaN</td>\n",
       "      <td>Milton</td>\n",
       "    </tr>\n",
       "    <tr>\n",
       "      <th>4170</th>\n",
       "      <td>Steeles Ave W</td>\n",
       "      <td>NaN</td>\n",
       "      <td>NaN</td>\n",
       "      <td>Milton</td>\n",
       "    </tr>\n",
       "    <tr>\n",
       "      <th>11361</th>\n",
       "      <td>Lakeshore Rd West</td>\n",
       "      <td>NaN</td>\n",
       "      <td>NaN</td>\n",
       "      <td>Oakville</td>\n",
       "    </tr>\n",
       "    <tr>\n",
       "      <th>11398</th>\n",
       "      <td>Lakeshore Rd W</td>\n",
       "      <td>NaN</td>\n",
       "      <td>NaN</td>\n",
       "      <td>Oakville</td>\n",
       "    </tr>\n",
       "    <tr>\n",
       "      <th>11546</th>\n",
       "      <td>Lakeshore Road  West</td>\n",
       "      <td>NaN</td>\n",
       "      <td>NaN</td>\n",
       "      <td>Oakville</td>\n",
       "    </tr>\n",
       "    <tr>\n",
       "      <th>11596</th>\n",
       "      <td>Lakeshore Road  West</td>\n",
       "      <td>NaN</td>\n",
       "      <td>NaN</td>\n",
       "      <td>Oakville</td>\n",
       "    </tr>\n",
       "    <tr>\n",
       "      <th>11691</th>\n",
       "      <td>Lakeshore Road West</td>\n",
       "      <td>NaN</td>\n",
       "      <td>NaN</td>\n",
       "      <td>Oakville</td>\n",
       "    </tr>\n",
       "    <tr>\n",
       "      <th>11739</th>\n",
       "      <td>Lakeshore Road West</td>\n",
       "      <td>NaN</td>\n",
       "      <td>NaN</td>\n",
       "      <td>Oakville</td>\n",
       "    </tr>\n",
       "    <tr>\n",
       "      <th>11790</th>\n",
       "      <td>Lakeshore Road West</td>\n",
       "      <td>NaN</td>\n",
       "      <td>NaN</td>\n",
       "      <td>Oakville</td>\n",
       "    </tr>\n",
       "    <tr>\n",
       "      <th>11835</th>\n",
       "      <td>Lakeshore Road West</td>\n",
       "      <td>NaN</td>\n",
       "      <td>NaN</td>\n",
       "      <td>Oakville</td>\n",
       "    </tr>\n",
       "    <tr>\n",
       "      <th>11861</th>\n",
       "      <td>Lakeshore Road West</td>\n",
       "      <td>NaN</td>\n",
       "      <td>NaN</td>\n",
       "      <td>Oakville</td>\n",
       "    </tr>\n",
       "    <tr>\n",
       "      <th>11867</th>\n",
       "      <td>Lakeshore Road West</td>\n",
       "      <td>NaN</td>\n",
       "      <td>NaN</td>\n",
       "      <td>Oakville</td>\n",
       "    </tr>\n",
       "    <tr>\n",
       "      <th>11951</th>\n",
       "      <td>Lakeshore Road West</td>\n",
       "      <td>NaN</td>\n",
       "      <td>NaN</td>\n",
       "      <td>Oakville</td>\n",
       "    </tr>\n",
       "    <tr>\n",
       "      <th>11960</th>\n",
       "      <td>Lakeshore Road West</td>\n",
       "      <td>NaN</td>\n",
       "      <td>NaN</td>\n",
       "      <td>Oakville</td>\n",
       "    </tr>\n",
       "    <tr>\n",
       "      <th>11981</th>\n",
       "      <td>Lakeshore Road West</td>\n",
       "      <td>NaN</td>\n",
       "      <td>NaN</td>\n",
       "      <td>Oakville</td>\n",
       "    </tr>\n",
       "    <tr>\n",
       "      <th>11987</th>\n",
       "      <td>Lakeshore Road  West</td>\n",
       "      <td>NaN</td>\n",
       "      <td>NaN</td>\n",
       "      <td>Oakville</td>\n",
       "    </tr>\n",
       "    <tr>\n",
       "      <th>12089</th>\n",
       "      <td>Lakeshore Road  West</td>\n",
       "      <td>NaN</td>\n",
       "      <td>NaN</td>\n",
       "      <td>Oakville</td>\n",
       "    </tr>\n",
       "    <tr>\n",
       "      <th>...</th>\n",
       "      <td>...</td>\n",
       "      <td>...</td>\n",
       "      <td>...</td>\n",
       "      <td>...</td>\n",
       "    </tr>\n",
       "    <tr>\n",
       "      <th>6763629</th>\n",
       "      <td>Eglinton Avenue West</td>\n",
       "      <td>NaN</td>\n",
       "      <td>NaN</td>\n",
       "      <td>Mississauga</td>\n",
       "    </tr>\n",
       "    <tr>\n",
       "      <th>6767812</th>\n",
       "      <td>Eglington Avenue West</td>\n",
       "      <td>NaN</td>\n",
       "      <td>NaN</td>\n",
       "      <td>Mississauga</td>\n",
       "    </tr>\n",
       "    <tr>\n",
       "      <th>6767850</th>\n",
       "      <td>Eglinton Avenue West</td>\n",
       "      <td>NaN</td>\n",
       "      <td>NaN</td>\n",
       "      <td>Mississauga</td>\n",
       "    </tr>\n",
       "    <tr>\n",
       "      <th>6767883</th>\n",
       "      <td>Eglington Avenue West</td>\n",
       "      <td>NaN</td>\n",
       "      <td>NaN</td>\n",
       "      <td>Mississauga</td>\n",
       "    </tr>\n",
       "    <tr>\n",
       "      <th>6767932</th>\n",
       "      <td>Eglington Avenue West</td>\n",
       "      <td>NaN</td>\n",
       "      <td>NaN</td>\n",
       "      <td>Mississauga</td>\n",
       "    </tr>\n",
       "    <tr>\n",
       "      <th>6767935</th>\n",
       "      <td>Eglinton Avenue West</td>\n",
       "      <td>NaN</td>\n",
       "      <td>NaN</td>\n",
       "      <td>Mississauga</td>\n",
       "    </tr>\n",
       "    <tr>\n",
       "      <th>6767954</th>\n",
       "      <td>Eglinton Avenue West</td>\n",
       "      <td>NaN</td>\n",
       "      <td>NaN</td>\n",
       "      <td>Mississauga</td>\n",
       "    </tr>\n",
       "    <tr>\n",
       "      <th>6767956</th>\n",
       "      <td>Eglington Avenue West</td>\n",
       "      <td>NaN</td>\n",
       "      <td>NaN</td>\n",
       "      <td>Mississauga</td>\n",
       "    </tr>\n",
       "    <tr>\n",
       "      <th>6767975</th>\n",
       "      <td>Eglinton Avenue West</td>\n",
       "      <td>NaN</td>\n",
       "      <td>NaN</td>\n",
       "      <td>Mississauga</td>\n",
       "    </tr>\n",
       "    <tr>\n",
       "      <th>6768110</th>\n",
       "      <td>Eglinton Avenue West</td>\n",
       "      <td>NaN</td>\n",
       "      <td>NaN</td>\n",
       "      <td>Mississauga</td>\n",
       "    </tr>\n",
       "    <tr>\n",
       "      <th>6768142</th>\n",
       "      <td>Eglington Avenue West</td>\n",
       "      <td>NaN</td>\n",
       "      <td>NaN</td>\n",
       "      <td>Mississauga</td>\n",
       "    </tr>\n",
       "    <tr>\n",
       "      <th>6768181</th>\n",
       "      <td>Eglinton Avenue West</td>\n",
       "      <td>NaN</td>\n",
       "      <td>NaN</td>\n",
       "      <td>Mississauga</td>\n",
       "    </tr>\n",
       "    <tr>\n",
       "      <th>6768199</th>\n",
       "      <td>Eglington Avenue West</td>\n",
       "      <td>NaN</td>\n",
       "      <td>NaN</td>\n",
       "      <td>Mississauga</td>\n",
       "    </tr>\n",
       "    <tr>\n",
       "      <th>6768248</th>\n",
       "      <td>Eglington Avenue West</td>\n",
       "      <td>NaN</td>\n",
       "      <td>NaN</td>\n",
       "      <td>Mississauga</td>\n",
       "    </tr>\n",
       "    <tr>\n",
       "      <th>6768257</th>\n",
       "      <td>Eglinton Avenue West</td>\n",
       "      <td>NaN</td>\n",
       "      <td>NaN</td>\n",
       "      <td>Mississauga</td>\n",
       "    </tr>\n",
       "    <tr>\n",
       "      <th>6775002</th>\n",
       "      <td>Sandalwood Pkwy West</td>\n",
       "      <td>NaN</td>\n",
       "      <td>NaN</td>\n",
       "      <td>Brampton</td>\n",
       "    </tr>\n",
       "    <tr>\n",
       "      <th>6775061</th>\n",
       "      <td>Sandalwood Pkwy West</td>\n",
       "      <td>NaN</td>\n",
       "      <td>NaN</td>\n",
       "      <td>Brampton</td>\n",
       "    </tr>\n",
       "    <tr>\n",
       "      <th>6777705</th>\n",
       "      <td>Mississauga Road North</td>\n",
       "      <td>NaN</td>\n",
       "      <td>NaN</td>\n",
       "      <td>Mississauga</td>\n",
       "    </tr>\n",
       "    <tr>\n",
       "      <th>6777706</th>\n",
       "      <td>Mississauga Road North</td>\n",
       "      <td>NaN</td>\n",
       "      <td>NaN</td>\n",
       "      <td>Mississauga</td>\n",
       "    </tr>\n",
       "    <tr>\n",
       "      <th>6777708</th>\n",
       "      <td>Mississauga Road North</td>\n",
       "      <td>NaN</td>\n",
       "      <td>NaN</td>\n",
       "      <td>Mississauga</td>\n",
       "    </tr>\n",
       "    <tr>\n",
       "      <th>6777709</th>\n",
       "      <td>Mississauga Road North</td>\n",
       "      <td>NaN</td>\n",
       "      <td>NaN</td>\n",
       "      <td>Mississauga</td>\n",
       "    </tr>\n",
       "    <tr>\n",
       "      <th>6777710</th>\n",
       "      <td>Mississauga Road North</td>\n",
       "      <td>NaN</td>\n",
       "      <td>NaN</td>\n",
       "      <td>Mississauga</td>\n",
       "    </tr>\n",
       "    <tr>\n",
       "      <th>6777711</th>\n",
       "      <td>Mississauga Road North</td>\n",
       "      <td>NaN</td>\n",
       "      <td>NaN</td>\n",
       "      <td>Mississauga</td>\n",
       "    </tr>\n",
       "    <tr>\n",
       "      <th>6777712</th>\n",
       "      <td>Mississauga Road North</td>\n",
       "      <td>NaN</td>\n",
       "      <td>NaN</td>\n",
       "      <td>Mississauga</td>\n",
       "    </tr>\n",
       "    <tr>\n",
       "      <th>6777713</th>\n",
       "      <td>Mississauga Road North</td>\n",
       "      <td>NaN</td>\n",
       "      <td>NaN</td>\n",
       "      <td>Mississauga</td>\n",
       "    </tr>\n",
       "    <tr>\n",
       "      <th>6777714</th>\n",
       "      <td>Mississauga Road North</td>\n",
       "      <td>NaN</td>\n",
       "      <td>NaN</td>\n",
       "      <td>Mississauga</td>\n",
       "    </tr>\n",
       "    <tr>\n",
       "      <th>6777715</th>\n",
       "      <td>Mississauga Road North</td>\n",
       "      <td>NaN</td>\n",
       "      <td>NaN</td>\n",
       "      <td>Mississauga</td>\n",
       "    </tr>\n",
       "    <tr>\n",
       "      <th>6777716</th>\n",
       "      <td>Mississauga Road North</td>\n",
       "      <td>NaN</td>\n",
       "      <td>NaN</td>\n",
       "      <td>Mississauga</td>\n",
       "    </tr>\n",
       "    <tr>\n",
       "      <th>6777717</th>\n",
       "      <td>Mississauga Road North</td>\n",
       "      <td>NaN</td>\n",
       "      <td>NaN</td>\n",
       "      <td>Mississauga</td>\n",
       "    </tr>\n",
       "    <tr>\n",
       "      <th>6777718</th>\n",
       "      <td>Mississauga Road North</td>\n",
       "      <td>NaN</td>\n",
       "      <td>NaN</td>\n",
       "      <td>Mississauga</td>\n",
       "    </tr>\n",
       "  </tbody>\n",
       "</table>\n",
       "<p>30492 rows × 4 columns</p>\n",
       "</div>"
      ],
      "text/plain": [
       "                    street_name street_direction street_designation  \\\n",
       "3756              Steeles Ave W              NaN                NaN   \n",
       "3761        Steeles Avenue West              NaN                NaN   \n",
       "3792              Steeles Ave W              NaN                NaN   \n",
       "3831              Steeles Ave W              NaN                NaN   \n",
       "3867            Derry Road West              NaN                NaN   \n",
       "3870              Steeles Ave W              NaN                NaN   \n",
       "3985        Steeles Avenue West              NaN                NaN   \n",
       "3995        Steeles Avenue West              NaN                NaN   \n",
       "4052            Derry Road West              NaN                NaN   \n",
       "4076              Steeles Ave W              NaN                NaN   \n",
       "4117              Steeles Ave W              NaN                NaN   \n",
       "4118              Steeles Ave W              NaN                NaN   \n",
       "4145            Derry Road West              NaN                NaN   \n",
       "4165        Steeles Avenue West              NaN                NaN   \n",
       "4170              Steeles Ave W              NaN                NaN   \n",
       "11361         Lakeshore Rd West              NaN                NaN   \n",
       "11398            Lakeshore Rd W              NaN                NaN   \n",
       "11546      Lakeshore Road  West              NaN                NaN   \n",
       "11596      Lakeshore Road  West              NaN                NaN   \n",
       "11691       Lakeshore Road West              NaN                NaN   \n",
       "11739       Lakeshore Road West              NaN                NaN   \n",
       "11790       Lakeshore Road West              NaN                NaN   \n",
       "11835       Lakeshore Road West              NaN                NaN   \n",
       "11861       Lakeshore Road West              NaN                NaN   \n",
       "11867       Lakeshore Road West              NaN                NaN   \n",
       "11951       Lakeshore Road West              NaN                NaN   \n",
       "11960       Lakeshore Road West              NaN                NaN   \n",
       "11981       Lakeshore Road West              NaN                NaN   \n",
       "11987      Lakeshore Road  West              NaN                NaN   \n",
       "12089      Lakeshore Road  West              NaN                NaN   \n",
       "...                         ...              ...                ...   \n",
       "6763629    Eglinton Avenue West              NaN                NaN   \n",
       "6767812   Eglington Avenue West              NaN                NaN   \n",
       "6767850    Eglinton Avenue West              NaN                NaN   \n",
       "6767883   Eglington Avenue West              NaN                NaN   \n",
       "6767932   Eglington Avenue West              NaN                NaN   \n",
       "6767935    Eglinton Avenue West              NaN                NaN   \n",
       "6767954    Eglinton Avenue West              NaN                NaN   \n",
       "6767956   Eglington Avenue West              NaN                NaN   \n",
       "6767975    Eglinton Avenue West              NaN                NaN   \n",
       "6768110    Eglinton Avenue West              NaN                NaN   \n",
       "6768142   Eglington Avenue West              NaN                NaN   \n",
       "6768181    Eglinton Avenue West              NaN                NaN   \n",
       "6768199   Eglington Avenue West              NaN                NaN   \n",
       "6768248   Eglington Avenue West              NaN                NaN   \n",
       "6768257    Eglinton Avenue West              NaN                NaN   \n",
       "6775002    Sandalwood Pkwy West              NaN                NaN   \n",
       "6775061    Sandalwood Pkwy West              NaN                NaN   \n",
       "6777705  Mississauga Road North              NaN                NaN   \n",
       "6777706  Mississauga Road North              NaN                NaN   \n",
       "6777708  Mississauga Road North              NaN                NaN   \n",
       "6777709  Mississauga Road North              NaN                NaN   \n",
       "6777710  Mississauga Road North              NaN                NaN   \n",
       "6777711  Mississauga Road North              NaN                NaN   \n",
       "6777712  Mississauga Road North              NaN                NaN   \n",
       "6777713  Mississauga Road North              NaN                NaN   \n",
       "6777714  Mississauga Road North              NaN                NaN   \n",
       "6777715  Mississauga Road North              NaN                NaN   \n",
       "6777716  Mississauga Road North              NaN                NaN   \n",
       "6777717  Mississauga Road North              NaN                NaN   \n",
       "6777718  Mississauga Road North              NaN                NaN   \n",
       "\n",
       "        municipality  \n",
       "3756          Milton  \n",
       "3761          Milton  \n",
       "3792          Milton  \n",
       "3831          Milton  \n",
       "3867          Milton  \n",
       "3870          Milton  \n",
       "3985          Milton  \n",
       "3995          Milton  \n",
       "4052          Milton  \n",
       "4076          Milton  \n",
       "4117          Milton  \n",
       "4118          Milton  \n",
       "4145          Milton  \n",
       "4165          Milton  \n",
       "4170          Milton  \n",
       "11361       Oakville  \n",
       "11398       Oakville  \n",
       "11546       Oakville  \n",
       "11596       Oakville  \n",
       "11691       Oakville  \n",
       "11739       Oakville  \n",
       "11790       Oakville  \n",
       "11835       Oakville  \n",
       "11861       Oakville  \n",
       "11867       Oakville  \n",
       "11951       Oakville  \n",
       "11960       Oakville  \n",
       "11981       Oakville  \n",
       "11987       Oakville  \n",
       "12089       Oakville  \n",
       "...              ...  \n",
       "6763629  Mississauga  \n",
       "6767812  Mississauga  \n",
       "6767850  Mississauga  \n",
       "6767883  Mississauga  \n",
       "6767932  Mississauga  \n",
       "6767935  Mississauga  \n",
       "6767954  Mississauga  \n",
       "6767956  Mississauga  \n",
       "6767975  Mississauga  \n",
       "6768110  Mississauga  \n",
       "6768142  Mississauga  \n",
       "6768181  Mississauga  \n",
       "6768199  Mississauga  \n",
       "6768248  Mississauga  \n",
       "6768257  Mississauga  \n",
       "6775002     Brampton  \n",
       "6775061     Brampton  \n",
       "6777705  Mississauga  \n",
       "6777706  Mississauga  \n",
       "6777708  Mississauga  \n",
       "6777709  Mississauga  \n",
       "6777710  Mississauga  \n",
       "6777711  Mississauga  \n",
       "6777712  Mississauga  \n",
       "6777713  Mississauga  \n",
       "6777714  Mississauga  \n",
       "6777715  Mississauga  \n",
       "6777716  Mississauga  \n",
       "6777717  Mississauga  \n",
       "6777718  Mississauga  \n",
       "\n",
       "[30492 rows x 4 columns]"
      ]
     },
     "execution_count": 9,
     "metadata": {},
     "output_type": "execute_result"
    }
   ],
   "source": [
    "mask1 = df['street_name']\\\n",
    "    .str.contains('\\s(W|E|N|S|W.|E.|N.|S.|West|East|North|South)$', na=False)\n",
    "skip_list = ['The East', 'The West', 'Far North', 'John West']\n",
    "mask2 = df['street_name'].isin(skip_list)\n",
    "df.loc[mask1 & ~mask2, ['street_name', 'street_direction', 'street_designation', 'municipality']]"
   ]
  },
  {
   "cell_type": "markdown",
   "metadata": {},
   "source": [
    "### Extract `street_direction` from `street_name`"
   ]
  },
  {
   "cell_type": "code",
   "execution_count": 10,
   "metadata": {},
   "outputs": [
    {
     "data": {
      "text/html": [
       "<div>\n",
       "<style scoped>\n",
       "    .dataframe tbody tr th:only-of-type {\n",
       "        vertical-align: middle;\n",
       "    }\n",
       "\n",
       "    .dataframe tbody tr th {\n",
       "        vertical-align: top;\n",
       "    }\n",
       "\n",
       "    .dataframe thead th {\n",
       "        text-align: right;\n",
       "    }\n",
       "</style>\n",
       "<table border=\"1\" class=\"dataframe\">\n",
       "  <thead>\n",
       "    <tr style=\"text-align: right;\">\n",
       "      <th></th>\n",
       "      <th>street_name</th>\n",
       "      <th>street_direction</th>\n",
       "      <th>street_designation</th>\n",
       "      <th>postal_code</th>\n",
       "      <th>municipality</th>\n",
       "    </tr>\n",
       "  </thead>\n",
       "  <tbody>\n",
       "    <tr>\n",
       "      <th>3756</th>\n",
       "      <td>Steeles Ave</td>\n",
       "      <td>W</td>\n",
       "      <td>NaN</td>\n",
       "      <td>NaN</td>\n",
       "      <td>Milton</td>\n",
       "    </tr>\n",
       "    <tr>\n",
       "      <th>3761</th>\n",
       "      <td>Steeles Avenue</td>\n",
       "      <td>West</td>\n",
       "      <td>NaN</td>\n",
       "      <td>NaN</td>\n",
       "      <td>Milton</td>\n",
       "    </tr>\n",
       "    <tr>\n",
       "      <th>3792</th>\n",
       "      <td>Steeles Ave</td>\n",
       "      <td>W</td>\n",
       "      <td>NaN</td>\n",
       "      <td>NaN</td>\n",
       "      <td>Milton</td>\n",
       "    </tr>\n",
       "    <tr>\n",
       "      <th>3831</th>\n",
       "      <td>Steeles Ave</td>\n",
       "      <td>W</td>\n",
       "      <td>NaN</td>\n",
       "      <td>NaN</td>\n",
       "      <td>Milton</td>\n",
       "    </tr>\n",
       "    <tr>\n",
       "      <th>3867</th>\n",
       "      <td>Derry Road</td>\n",
       "      <td>West</td>\n",
       "      <td>NaN</td>\n",
       "      <td>NaN</td>\n",
       "      <td>Milton</td>\n",
       "    </tr>\n",
       "    <tr>\n",
       "      <th>3870</th>\n",
       "      <td>Steeles Ave</td>\n",
       "      <td>W</td>\n",
       "      <td>NaN</td>\n",
       "      <td>NaN</td>\n",
       "      <td>Milton</td>\n",
       "    </tr>\n",
       "    <tr>\n",
       "      <th>3985</th>\n",
       "      <td>Steeles Avenue</td>\n",
       "      <td>West</td>\n",
       "      <td>NaN</td>\n",
       "      <td>NaN</td>\n",
       "      <td>Milton</td>\n",
       "    </tr>\n",
       "    <tr>\n",
       "      <th>3995</th>\n",
       "      <td>Steeles Avenue</td>\n",
       "      <td>West</td>\n",
       "      <td>NaN</td>\n",
       "      <td>NaN</td>\n",
       "      <td>Milton</td>\n",
       "    </tr>\n",
       "    <tr>\n",
       "      <th>4052</th>\n",
       "      <td>Derry Road</td>\n",
       "      <td>West</td>\n",
       "      <td>NaN</td>\n",
       "      <td>NaN</td>\n",
       "      <td>Milton</td>\n",
       "    </tr>\n",
       "    <tr>\n",
       "      <th>4076</th>\n",
       "      <td>Steeles Ave</td>\n",
       "      <td>W</td>\n",
       "      <td>NaN</td>\n",
       "      <td>NaN</td>\n",
       "      <td>Milton</td>\n",
       "    </tr>\n",
       "    <tr>\n",
       "      <th>4117</th>\n",
       "      <td>Steeles Ave</td>\n",
       "      <td>W</td>\n",
       "      <td>NaN</td>\n",
       "      <td>NaN</td>\n",
       "      <td>Milton</td>\n",
       "    </tr>\n",
       "    <tr>\n",
       "      <th>4118</th>\n",
       "      <td>Steeles Ave</td>\n",
       "      <td>W</td>\n",
       "      <td>NaN</td>\n",
       "      <td>NaN</td>\n",
       "      <td>Milton</td>\n",
       "    </tr>\n",
       "    <tr>\n",
       "      <th>4145</th>\n",
       "      <td>Derry Road</td>\n",
       "      <td>West</td>\n",
       "      <td>NaN</td>\n",
       "      <td>NaN</td>\n",
       "      <td>Milton</td>\n",
       "    </tr>\n",
       "    <tr>\n",
       "      <th>4165</th>\n",
       "      <td>Steeles Avenue</td>\n",
       "      <td>West</td>\n",
       "      <td>NaN</td>\n",
       "      <td>NaN</td>\n",
       "      <td>Milton</td>\n",
       "    </tr>\n",
       "    <tr>\n",
       "      <th>4170</th>\n",
       "      <td>Steeles Ave</td>\n",
       "      <td>W</td>\n",
       "      <td>NaN</td>\n",
       "      <td>NaN</td>\n",
       "      <td>Milton</td>\n",
       "    </tr>\n",
       "    <tr>\n",
       "      <th>11361</th>\n",
       "      <td>Lakeshore Rd</td>\n",
       "      <td>West</td>\n",
       "      <td>NaN</td>\n",
       "      <td>NaN</td>\n",
       "      <td>Oakville</td>\n",
       "    </tr>\n",
       "    <tr>\n",
       "      <th>11398</th>\n",
       "      <td>Lakeshore Rd</td>\n",
       "      <td>W</td>\n",
       "      <td>NaN</td>\n",
       "      <td>NaN</td>\n",
       "      <td>Oakville</td>\n",
       "    </tr>\n",
       "    <tr>\n",
       "      <th>11546</th>\n",
       "      <td>Lakeshore Road</td>\n",
       "      <td>West</td>\n",
       "      <td>NaN</td>\n",
       "      <td>NaN</td>\n",
       "      <td>Oakville</td>\n",
       "    </tr>\n",
       "    <tr>\n",
       "      <th>11596</th>\n",
       "      <td>Lakeshore Road</td>\n",
       "      <td>West</td>\n",
       "      <td>NaN</td>\n",
       "      <td>NaN</td>\n",
       "      <td>Oakville</td>\n",
       "    </tr>\n",
       "    <tr>\n",
       "      <th>11691</th>\n",
       "      <td>Lakeshore Road</td>\n",
       "      <td>West</td>\n",
       "      <td>NaN</td>\n",
       "      <td>NaN</td>\n",
       "      <td>Oakville</td>\n",
       "    </tr>\n",
       "    <tr>\n",
       "      <th>11739</th>\n",
       "      <td>Lakeshore Road</td>\n",
       "      <td>West</td>\n",
       "      <td>NaN</td>\n",
       "      <td>NaN</td>\n",
       "      <td>Oakville</td>\n",
       "    </tr>\n",
       "    <tr>\n",
       "      <th>11790</th>\n",
       "      <td>Lakeshore Road</td>\n",
       "      <td>West</td>\n",
       "      <td>NaN</td>\n",
       "      <td>NaN</td>\n",
       "      <td>Oakville</td>\n",
       "    </tr>\n",
       "    <tr>\n",
       "      <th>11835</th>\n",
       "      <td>Lakeshore Road</td>\n",
       "      <td>West</td>\n",
       "      <td>NaN</td>\n",
       "      <td>NaN</td>\n",
       "      <td>Oakville</td>\n",
       "    </tr>\n",
       "    <tr>\n",
       "      <th>11861</th>\n",
       "      <td>Lakeshore Road</td>\n",
       "      <td>West</td>\n",
       "      <td>NaN</td>\n",
       "      <td>NaN</td>\n",
       "      <td>Oakville</td>\n",
       "    </tr>\n",
       "    <tr>\n",
       "      <th>11867</th>\n",
       "      <td>Lakeshore Road</td>\n",
       "      <td>West</td>\n",
       "      <td>NaN</td>\n",
       "      <td>NaN</td>\n",
       "      <td>Oakville</td>\n",
       "    </tr>\n",
       "    <tr>\n",
       "      <th>11951</th>\n",
       "      <td>Lakeshore Road</td>\n",
       "      <td>West</td>\n",
       "      <td>NaN</td>\n",
       "      <td>NaN</td>\n",
       "      <td>Oakville</td>\n",
       "    </tr>\n",
       "    <tr>\n",
       "      <th>11960</th>\n",
       "      <td>Lakeshore Road</td>\n",
       "      <td>West</td>\n",
       "      <td>NaN</td>\n",
       "      <td>NaN</td>\n",
       "      <td>Oakville</td>\n",
       "    </tr>\n",
       "    <tr>\n",
       "      <th>11981</th>\n",
       "      <td>Lakeshore Road</td>\n",
       "      <td>West</td>\n",
       "      <td>NaN</td>\n",
       "      <td>NaN</td>\n",
       "      <td>Oakville</td>\n",
       "    </tr>\n",
       "    <tr>\n",
       "      <th>11987</th>\n",
       "      <td>Lakeshore Road</td>\n",
       "      <td>West</td>\n",
       "      <td>NaN</td>\n",
       "      <td>NaN</td>\n",
       "      <td>Oakville</td>\n",
       "    </tr>\n",
       "    <tr>\n",
       "      <th>12089</th>\n",
       "      <td>Lakeshore Road</td>\n",
       "      <td>West</td>\n",
       "      <td>NaN</td>\n",
       "      <td>NaN</td>\n",
       "      <td>Oakville</td>\n",
       "    </tr>\n",
       "    <tr>\n",
       "      <th>...</th>\n",
       "      <td>...</td>\n",
       "      <td>...</td>\n",
       "      <td>...</td>\n",
       "      <td>...</td>\n",
       "      <td>...</td>\n",
       "    </tr>\n",
       "    <tr>\n",
       "      <th>6763629</th>\n",
       "      <td>Eglinton Avenue</td>\n",
       "      <td>West</td>\n",
       "      <td>NaN</td>\n",
       "      <td>NaN</td>\n",
       "      <td>Mississauga</td>\n",
       "    </tr>\n",
       "    <tr>\n",
       "      <th>6767812</th>\n",
       "      <td>Eglington Avenue</td>\n",
       "      <td>West</td>\n",
       "      <td>NaN</td>\n",
       "      <td>NaN</td>\n",
       "      <td>Mississauga</td>\n",
       "    </tr>\n",
       "    <tr>\n",
       "      <th>6767850</th>\n",
       "      <td>Eglinton Avenue</td>\n",
       "      <td>West</td>\n",
       "      <td>NaN</td>\n",
       "      <td>NaN</td>\n",
       "      <td>Mississauga</td>\n",
       "    </tr>\n",
       "    <tr>\n",
       "      <th>6767883</th>\n",
       "      <td>Eglington Avenue</td>\n",
       "      <td>West</td>\n",
       "      <td>NaN</td>\n",
       "      <td>NaN</td>\n",
       "      <td>Mississauga</td>\n",
       "    </tr>\n",
       "    <tr>\n",
       "      <th>6767932</th>\n",
       "      <td>Eglington Avenue</td>\n",
       "      <td>West</td>\n",
       "      <td>NaN</td>\n",
       "      <td>NaN</td>\n",
       "      <td>Mississauga</td>\n",
       "    </tr>\n",
       "    <tr>\n",
       "      <th>6767935</th>\n",
       "      <td>Eglinton Avenue</td>\n",
       "      <td>West</td>\n",
       "      <td>NaN</td>\n",
       "      <td>NaN</td>\n",
       "      <td>Mississauga</td>\n",
       "    </tr>\n",
       "    <tr>\n",
       "      <th>6767954</th>\n",
       "      <td>Eglinton Avenue</td>\n",
       "      <td>West</td>\n",
       "      <td>NaN</td>\n",
       "      <td>NaN</td>\n",
       "      <td>Mississauga</td>\n",
       "    </tr>\n",
       "    <tr>\n",
       "      <th>6767956</th>\n",
       "      <td>Eglington Avenue</td>\n",
       "      <td>West</td>\n",
       "      <td>NaN</td>\n",
       "      <td>NaN</td>\n",
       "      <td>Mississauga</td>\n",
       "    </tr>\n",
       "    <tr>\n",
       "      <th>6767975</th>\n",
       "      <td>Eglinton Avenue</td>\n",
       "      <td>West</td>\n",
       "      <td>NaN</td>\n",
       "      <td>NaN</td>\n",
       "      <td>Mississauga</td>\n",
       "    </tr>\n",
       "    <tr>\n",
       "      <th>6768110</th>\n",
       "      <td>Eglinton Avenue</td>\n",
       "      <td>West</td>\n",
       "      <td>NaN</td>\n",
       "      <td>NaN</td>\n",
       "      <td>Mississauga</td>\n",
       "    </tr>\n",
       "    <tr>\n",
       "      <th>6768142</th>\n",
       "      <td>Eglington Avenue</td>\n",
       "      <td>West</td>\n",
       "      <td>NaN</td>\n",
       "      <td>NaN</td>\n",
       "      <td>Mississauga</td>\n",
       "    </tr>\n",
       "    <tr>\n",
       "      <th>6768181</th>\n",
       "      <td>Eglinton Avenue</td>\n",
       "      <td>West</td>\n",
       "      <td>NaN</td>\n",
       "      <td>NaN</td>\n",
       "      <td>Mississauga</td>\n",
       "    </tr>\n",
       "    <tr>\n",
       "      <th>6768199</th>\n",
       "      <td>Eglington Avenue</td>\n",
       "      <td>West</td>\n",
       "      <td>NaN</td>\n",
       "      <td>NaN</td>\n",
       "      <td>Mississauga</td>\n",
       "    </tr>\n",
       "    <tr>\n",
       "      <th>6768248</th>\n",
       "      <td>Eglington Avenue</td>\n",
       "      <td>West</td>\n",
       "      <td>NaN</td>\n",
       "      <td>NaN</td>\n",
       "      <td>Mississauga</td>\n",
       "    </tr>\n",
       "    <tr>\n",
       "      <th>6768257</th>\n",
       "      <td>Eglinton Avenue</td>\n",
       "      <td>West</td>\n",
       "      <td>NaN</td>\n",
       "      <td>NaN</td>\n",
       "      <td>Mississauga</td>\n",
       "    </tr>\n",
       "    <tr>\n",
       "      <th>6775002</th>\n",
       "      <td>Sandalwood Pkwy</td>\n",
       "      <td>West</td>\n",
       "      <td>NaN</td>\n",
       "      <td>NaN</td>\n",
       "      <td>Brampton</td>\n",
       "    </tr>\n",
       "    <tr>\n",
       "      <th>6775061</th>\n",
       "      <td>Sandalwood Pkwy</td>\n",
       "      <td>West</td>\n",
       "      <td>NaN</td>\n",
       "      <td>NaN</td>\n",
       "      <td>Brampton</td>\n",
       "    </tr>\n",
       "    <tr>\n",
       "      <th>6777705</th>\n",
       "      <td>Mississauga Road</td>\n",
       "      <td>North</td>\n",
       "      <td>NaN</td>\n",
       "      <td>NaN</td>\n",
       "      <td>Mississauga</td>\n",
       "    </tr>\n",
       "    <tr>\n",
       "      <th>6777706</th>\n",
       "      <td>Mississauga Road</td>\n",
       "      <td>North</td>\n",
       "      <td>NaN</td>\n",
       "      <td>NaN</td>\n",
       "      <td>Mississauga</td>\n",
       "    </tr>\n",
       "    <tr>\n",
       "      <th>6777708</th>\n",
       "      <td>Mississauga Road</td>\n",
       "      <td>North</td>\n",
       "      <td>NaN</td>\n",
       "      <td>NaN</td>\n",
       "      <td>Mississauga</td>\n",
       "    </tr>\n",
       "    <tr>\n",
       "      <th>6777709</th>\n",
       "      <td>Mississauga Road</td>\n",
       "      <td>North</td>\n",
       "      <td>NaN</td>\n",
       "      <td>NaN</td>\n",
       "      <td>Mississauga</td>\n",
       "    </tr>\n",
       "    <tr>\n",
       "      <th>6777710</th>\n",
       "      <td>Mississauga Road</td>\n",
       "      <td>North</td>\n",
       "      <td>NaN</td>\n",
       "      <td>NaN</td>\n",
       "      <td>Mississauga</td>\n",
       "    </tr>\n",
       "    <tr>\n",
       "      <th>6777711</th>\n",
       "      <td>Mississauga Road</td>\n",
       "      <td>North</td>\n",
       "      <td>NaN</td>\n",
       "      <td>NaN</td>\n",
       "      <td>Mississauga</td>\n",
       "    </tr>\n",
       "    <tr>\n",
       "      <th>6777712</th>\n",
       "      <td>Mississauga Road</td>\n",
       "      <td>North</td>\n",
       "      <td>NaN</td>\n",
       "      <td>NaN</td>\n",
       "      <td>Mississauga</td>\n",
       "    </tr>\n",
       "    <tr>\n",
       "      <th>6777713</th>\n",
       "      <td>Mississauga Road</td>\n",
       "      <td>North</td>\n",
       "      <td>NaN</td>\n",
       "      <td>NaN</td>\n",
       "      <td>Mississauga</td>\n",
       "    </tr>\n",
       "    <tr>\n",
       "      <th>6777714</th>\n",
       "      <td>Mississauga Road</td>\n",
       "      <td>North</td>\n",
       "      <td>NaN</td>\n",
       "      <td>NaN</td>\n",
       "      <td>Mississauga</td>\n",
       "    </tr>\n",
       "    <tr>\n",
       "      <th>6777715</th>\n",
       "      <td>Mississauga Road</td>\n",
       "      <td>North</td>\n",
       "      <td>NaN</td>\n",
       "      <td>NaN</td>\n",
       "      <td>Mississauga</td>\n",
       "    </tr>\n",
       "    <tr>\n",
       "      <th>6777716</th>\n",
       "      <td>Mississauga Road</td>\n",
       "      <td>North</td>\n",
       "      <td>NaN</td>\n",
       "      <td>NaN</td>\n",
       "      <td>Mississauga</td>\n",
       "    </tr>\n",
       "    <tr>\n",
       "      <th>6777717</th>\n",
       "      <td>Mississauga Road</td>\n",
       "      <td>North</td>\n",
       "      <td>NaN</td>\n",
       "      <td>NaN</td>\n",
       "      <td>Mississauga</td>\n",
       "    </tr>\n",
       "    <tr>\n",
       "      <th>6777718</th>\n",
       "      <td>Mississauga Road</td>\n",
       "      <td>North</td>\n",
       "      <td>NaN</td>\n",
       "      <td>NaN</td>\n",
       "      <td>Mississauga</td>\n",
       "    </tr>\n",
       "  </tbody>\n",
       "</table>\n",
       "<p>32142 rows × 5 columns</p>\n",
       "</div>"
      ],
      "text/plain": [
       "              street_name street_direction street_designation postal_code  \\\n",
       "3756          Steeles Ave                W                NaN         NaN   \n",
       "3761       Steeles Avenue             West                NaN         NaN   \n",
       "3792          Steeles Ave                W                NaN         NaN   \n",
       "3831          Steeles Ave                W                NaN         NaN   \n",
       "3867           Derry Road             West                NaN         NaN   \n",
       "3870          Steeles Ave                W                NaN         NaN   \n",
       "3985       Steeles Avenue             West                NaN         NaN   \n",
       "3995       Steeles Avenue             West                NaN         NaN   \n",
       "4052           Derry Road             West                NaN         NaN   \n",
       "4076          Steeles Ave                W                NaN         NaN   \n",
       "4117          Steeles Ave                W                NaN         NaN   \n",
       "4118          Steeles Ave                W                NaN         NaN   \n",
       "4145           Derry Road             West                NaN         NaN   \n",
       "4165       Steeles Avenue             West                NaN         NaN   \n",
       "4170          Steeles Ave                W                NaN         NaN   \n",
       "11361        Lakeshore Rd             West                NaN         NaN   \n",
       "11398        Lakeshore Rd                W                NaN         NaN   \n",
       "11546      Lakeshore Road             West                NaN         NaN   \n",
       "11596      Lakeshore Road             West                NaN         NaN   \n",
       "11691      Lakeshore Road             West                NaN         NaN   \n",
       "11739      Lakeshore Road             West                NaN         NaN   \n",
       "11790      Lakeshore Road             West                NaN         NaN   \n",
       "11835      Lakeshore Road             West                NaN         NaN   \n",
       "11861      Lakeshore Road             West                NaN         NaN   \n",
       "11867      Lakeshore Road             West                NaN         NaN   \n",
       "11951      Lakeshore Road             West                NaN         NaN   \n",
       "11960      Lakeshore Road             West                NaN         NaN   \n",
       "11981      Lakeshore Road             West                NaN         NaN   \n",
       "11987      Lakeshore Road             West                NaN         NaN   \n",
       "12089      Lakeshore Road             West                NaN         NaN   \n",
       "...                   ...              ...                ...         ...   \n",
       "6763629   Eglinton Avenue             West                NaN         NaN   \n",
       "6767812  Eglington Avenue             West                NaN         NaN   \n",
       "6767850   Eglinton Avenue             West                NaN         NaN   \n",
       "6767883  Eglington Avenue             West                NaN         NaN   \n",
       "6767932  Eglington Avenue             West                NaN         NaN   \n",
       "6767935   Eglinton Avenue             West                NaN         NaN   \n",
       "6767954   Eglinton Avenue             West                NaN         NaN   \n",
       "6767956  Eglington Avenue             West                NaN         NaN   \n",
       "6767975   Eglinton Avenue             West                NaN         NaN   \n",
       "6768110   Eglinton Avenue             West                NaN         NaN   \n",
       "6768142  Eglington Avenue             West                NaN         NaN   \n",
       "6768181   Eglinton Avenue             West                NaN         NaN   \n",
       "6768199  Eglington Avenue             West                NaN         NaN   \n",
       "6768248  Eglington Avenue             West                NaN         NaN   \n",
       "6768257   Eglinton Avenue             West                NaN         NaN   \n",
       "6775002   Sandalwood Pkwy             West                NaN         NaN   \n",
       "6775061   Sandalwood Pkwy             West                NaN         NaN   \n",
       "6777705  Mississauga Road            North                NaN         NaN   \n",
       "6777706  Mississauga Road            North                NaN         NaN   \n",
       "6777708  Mississauga Road            North                NaN         NaN   \n",
       "6777709  Mississauga Road            North                NaN         NaN   \n",
       "6777710  Mississauga Road            North                NaN         NaN   \n",
       "6777711  Mississauga Road            North                NaN         NaN   \n",
       "6777712  Mississauga Road            North                NaN         NaN   \n",
       "6777713  Mississauga Road            North                NaN         NaN   \n",
       "6777714  Mississauga Road            North                NaN         NaN   \n",
       "6777715  Mississauga Road            North                NaN         NaN   \n",
       "6777716  Mississauga Road            North                NaN         NaN   \n",
       "6777717  Mississauga Road            North                NaN         NaN   \n",
       "6777718  Mississauga Road            North                NaN         NaN   \n",
       "\n",
       "        municipality  \n",
       "3756          Milton  \n",
       "3761          Milton  \n",
       "3792          Milton  \n",
       "3831          Milton  \n",
       "3867          Milton  \n",
       "3870          Milton  \n",
       "3985          Milton  \n",
       "3995          Milton  \n",
       "4052          Milton  \n",
       "4076          Milton  \n",
       "4117          Milton  \n",
       "4118          Milton  \n",
       "4145          Milton  \n",
       "4165          Milton  \n",
       "4170          Milton  \n",
       "11361       Oakville  \n",
       "11398       Oakville  \n",
       "11546       Oakville  \n",
       "11596       Oakville  \n",
       "11691       Oakville  \n",
       "11739       Oakville  \n",
       "11790       Oakville  \n",
       "11835       Oakville  \n",
       "11861       Oakville  \n",
       "11867       Oakville  \n",
       "11951       Oakville  \n",
       "11960       Oakville  \n",
       "11981       Oakville  \n",
       "11987       Oakville  \n",
       "12089       Oakville  \n",
       "...              ...  \n",
       "6763629  Mississauga  \n",
       "6767812  Mississauga  \n",
       "6767850  Mississauga  \n",
       "6767883  Mississauga  \n",
       "6767932  Mississauga  \n",
       "6767935  Mississauga  \n",
       "6767954  Mississauga  \n",
       "6767956  Mississauga  \n",
       "6767975  Mississauga  \n",
       "6768110  Mississauga  \n",
       "6768142  Mississauga  \n",
       "6768181  Mississauga  \n",
       "6768199  Mississauga  \n",
       "6768248  Mississauga  \n",
       "6768257  Mississauga  \n",
       "6775002     Brampton  \n",
       "6775061     Brampton  \n",
       "6777705  Mississauga  \n",
       "6777706  Mississauga  \n",
       "6777708  Mississauga  \n",
       "6777709  Mississauga  \n",
       "6777710  Mississauga  \n",
       "6777711  Mississauga  \n",
       "6777712  Mississauga  \n",
       "6777713  Mississauga  \n",
       "6777714  Mississauga  \n",
       "6777715  Mississauga  \n",
       "6777716  Mississauga  \n",
       "6777717  Mississauga  \n",
       "6777718  Mississauga  \n",
       "\n",
       "[32142 rows x 5 columns]"
      ]
     },
     "execution_count": 10,
     "metadata": {},
     "output_type": "execute_result"
    }
   ],
   "source": [
    "df.loc[mask1, 'street_direction'] = \\\n",
    "    df.loc[mask1, 'street_name'].str.split().apply(lambda x: x[-1])\n",
    "df.loc[mask1, 'street_name'] = \\\n",
    "    df.loc[mask1, 'street_name'].str.rsplit(' ', 1).apply(lambda x: x[0]).str.strip()\n",
    "df.loc[mask1, ['street_name', 'street_direction', 'street_designation', 'postal_code', 'municipality']]"
   ]
  },
  {
   "cell_type": "markdown",
   "metadata": {},
   "source": [
    "## Step 6: Parse `street_designation` from `street_name`\n",
    "For most Teranet records with missing `street_designation`, the street type is actually added to the column `street_name`."
   ]
  },
  {
   "cell_type": "code",
   "execution_count": 30,
   "metadata": {},
   "outputs": [
    {
     "data": {
      "text/html": [
       "<div>\n",
       "<style scoped>\n",
       "    .dataframe tbody tr th:only-of-type {\n",
       "        vertical-align: middle;\n",
       "    }\n",
       "\n",
       "    .dataframe tbody tr th {\n",
       "        vertical-align: top;\n",
       "    }\n",
       "\n",
       "    .dataframe thead th {\n",
       "        text-align: right;\n",
       "    }\n",
       "</style>\n",
       "<table border=\"1\" class=\"dataframe\">\n",
       "  <thead>\n",
       "    <tr style=\"text-align: right;\">\n",
       "      <th></th>\n",
       "      <th>street_name</th>\n",
       "      <th>street_designation</th>\n",
       "      <th>municipality</th>\n",
       "    </tr>\n",
       "  </thead>\n",
       "  <tbody>\n",
       "    <tr>\n",
       "      <th>0</th>\n",
       "      <td>Mc Caul St</td>\n",
       "      <td>NaN</td>\n",
       "      <td>Toronto</td>\n",
       "    </tr>\n",
       "    <tr>\n",
       "      <th>6</th>\n",
       "      <td>University Ave</td>\n",
       "      <td>NaN</td>\n",
       "      <td>Toronto</td>\n",
       "    </tr>\n",
       "    <tr>\n",
       "      <th>8</th>\n",
       "      <td>Mc Caul St</td>\n",
       "      <td>NaN</td>\n",
       "      <td>Toronto</td>\n",
       "    </tr>\n",
       "    <tr>\n",
       "      <th>12</th>\n",
       "      <td>Murray St</td>\n",
       "      <td>NaN</td>\n",
       "      <td>Toronto</td>\n",
       "    </tr>\n",
       "    <tr>\n",
       "      <th>13</th>\n",
       "      <td>Mc Caul St</td>\n",
       "      <td>NaN</td>\n",
       "      <td>Toronto</td>\n",
       "    </tr>\n",
       "    <tr>\n",
       "      <th>14</th>\n",
       "      <td>University Ave</td>\n",
       "      <td>NaN</td>\n",
       "      <td>Toronto</td>\n",
       "    </tr>\n",
       "    <tr>\n",
       "      <th>18</th>\n",
       "      <td>Mc Caul St</td>\n",
       "      <td>NaN</td>\n",
       "      <td>Toronto</td>\n",
       "    </tr>\n",
       "    <tr>\n",
       "      <th>19</th>\n",
       "      <td>Mc Caul St</td>\n",
       "      <td>NaN</td>\n",
       "      <td>Toronto</td>\n",
       "    </tr>\n",
       "    <tr>\n",
       "      <th>20</th>\n",
       "      <td>College St</td>\n",
       "      <td>NaN</td>\n",
       "      <td>Toronto</td>\n",
       "    </tr>\n",
       "    <tr>\n",
       "      <th>21</th>\n",
       "      <td>Orde St</td>\n",
       "      <td>NaN</td>\n",
       "      <td>Toronto</td>\n",
       "    </tr>\n",
       "    <tr>\n",
       "      <th>23</th>\n",
       "      <td>Mc Caul St</td>\n",
       "      <td>NaN</td>\n",
       "      <td>Toronto</td>\n",
       "    </tr>\n",
       "    <tr>\n",
       "      <th>28</th>\n",
       "      <td>Mc Caul St</td>\n",
       "      <td>NaN</td>\n",
       "      <td>Toronto</td>\n",
       "    </tr>\n",
       "    <tr>\n",
       "      <th>29</th>\n",
       "      <td>Mc Caul St</td>\n",
       "      <td>NaN</td>\n",
       "      <td>Toronto</td>\n",
       "    </tr>\n",
       "    <tr>\n",
       "      <th>30</th>\n",
       "      <td>Mc Caul St</td>\n",
       "      <td>NaN</td>\n",
       "      <td>Toronto</td>\n",
       "    </tr>\n",
       "    <tr>\n",
       "      <th>31</th>\n",
       "      <td>Mc Caul St</td>\n",
       "      <td>NaN</td>\n",
       "      <td>Toronto</td>\n",
       "    </tr>\n",
       "    <tr>\n",
       "      <th>32</th>\n",
       "      <td>Mc Caul St</td>\n",
       "      <td>NaN</td>\n",
       "      <td>Toronto</td>\n",
       "    </tr>\n",
       "    <tr>\n",
       "      <th>33</th>\n",
       "      <td>Mc Caul St</td>\n",
       "      <td>NaN</td>\n",
       "      <td>Toronto</td>\n",
       "    </tr>\n",
       "    <tr>\n",
       "      <th>34</th>\n",
       "      <td>Mc Caul St</td>\n",
       "      <td>NaN</td>\n",
       "      <td>Toronto</td>\n",
       "    </tr>\n",
       "    <tr>\n",
       "      <th>35</th>\n",
       "      <td>Mc Caul St</td>\n",
       "      <td>NaN</td>\n",
       "      <td>Toronto</td>\n",
       "    </tr>\n",
       "    <tr>\n",
       "      <th>36</th>\n",
       "      <td>Mc Caul St</td>\n",
       "      <td>NaN</td>\n",
       "      <td>Toronto</td>\n",
       "    </tr>\n",
       "    <tr>\n",
       "      <th>37</th>\n",
       "      <td>Mc Caul St</td>\n",
       "      <td>NaN</td>\n",
       "      <td>Toronto</td>\n",
       "    </tr>\n",
       "    <tr>\n",
       "      <th>38</th>\n",
       "      <td>Mc Caul St</td>\n",
       "      <td>NaN</td>\n",
       "      <td>Toronto</td>\n",
       "    </tr>\n",
       "    <tr>\n",
       "      <th>39</th>\n",
       "      <td>Mc Caul St</td>\n",
       "      <td>NaN</td>\n",
       "      <td>Toronto</td>\n",
       "    </tr>\n",
       "    <tr>\n",
       "      <th>40</th>\n",
       "      <td>Mc Caul St</td>\n",
       "      <td>NaN</td>\n",
       "      <td>Toronto</td>\n",
       "    </tr>\n",
       "    <tr>\n",
       "      <th>41</th>\n",
       "      <td>Mc Caul St</td>\n",
       "      <td>NaN</td>\n",
       "      <td>Toronto</td>\n",
       "    </tr>\n",
       "    <tr>\n",
       "      <th>42</th>\n",
       "      <td>Mc Caul St</td>\n",
       "      <td>NaN</td>\n",
       "      <td>Toronto</td>\n",
       "    </tr>\n",
       "    <tr>\n",
       "      <th>43</th>\n",
       "      <td>Mc Caul St</td>\n",
       "      <td>NaN</td>\n",
       "      <td>Toronto</td>\n",
       "    </tr>\n",
       "    <tr>\n",
       "      <th>44</th>\n",
       "      <td>Mc Caul St</td>\n",
       "      <td>NaN</td>\n",
       "      <td>Toronto</td>\n",
       "    </tr>\n",
       "    <tr>\n",
       "      <th>45</th>\n",
       "      <td>Mc Caul St</td>\n",
       "      <td>NaN</td>\n",
       "      <td>Toronto</td>\n",
       "    </tr>\n",
       "    <tr>\n",
       "      <th>46</th>\n",
       "      <td>Mc Caul St</td>\n",
       "      <td>NaN</td>\n",
       "      <td>Toronto</td>\n",
       "    </tr>\n",
       "    <tr>\n",
       "      <th>...</th>\n",
       "      <td>...</td>\n",
       "      <td>...</td>\n",
       "      <td>...</td>\n",
       "    </tr>\n",
       "    <tr>\n",
       "      <th>6802394</th>\n",
       "      <td>Davos Road</td>\n",
       "      <td>NaN</td>\n",
       "      <td>Vaughan</td>\n",
       "    </tr>\n",
       "    <tr>\n",
       "      <th>6802397</th>\n",
       "      <td>Davos Road</td>\n",
       "      <td>NaN</td>\n",
       "      <td>Vaughan</td>\n",
       "    </tr>\n",
       "    <tr>\n",
       "      <th>6802442</th>\n",
       "      <td>Davos Road</td>\n",
       "      <td>NaN</td>\n",
       "      <td>Vaughan</td>\n",
       "    </tr>\n",
       "    <tr>\n",
       "      <th>6802447</th>\n",
       "      <td>Davos Road</td>\n",
       "      <td>NaN</td>\n",
       "      <td>Vaughan</td>\n",
       "    </tr>\n",
       "    <tr>\n",
       "      <th>6802456</th>\n",
       "      <td>Davos Road</td>\n",
       "      <td>NaN</td>\n",
       "      <td>Vaughan</td>\n",
       "    </tr>\n",
       "    <tr>\n",
       "      <th>6802460</th>\n",
       "      <td>Credo Drive</td>\n",
       "      <td>NaN</td>\n",
       "      <td>Vaughan</td>\n",
       "    </tr>\n",
       "    <tr>\n",
       "      <th>6802471</th>\n",
       "      <td>Davos Road</td>\n",
       "      <td>NaN</td>\n",
       "      <td>Vaughan</td>\n",
       "    </tr>\n",
       "    <tr>\n",
       "      <th>6802472</th>\n",
       "      <td>Davos Road</td>\n",
       "      <td>NaN</td>\n",
       "      <td>Vaughan</td>\n",
       "    </tr>\n",
       "    <tr>\n",
       "      <th>6802593</th>\n",
       "      <td>Filipazzo Road</td>\n",
       "      <td>NaN</td>\n",
       "      <td>Vaughan</td>\n",
       "    </tr>\n",
       "    <tr>\n",
       "      <th>6802651</th>\n",
       "      <td>Davos Road</td>\n",
       "      <td>NaN</td>\n",
       "      <td>Vaughan</td>\n",
       "    </tr>\n",
       "    <tr>\n",
       "      <th>6802652</th>\n",
       "      <td>Davos Road</td>\n",
       "      <td>NaN</td>\n",
       "      <td>Vaughan</td>\n",
       "    </tr>\n",
       "    <tr>\n",
       "      <th>6802653</th>\n",
       "      <td>Davos Road</td>\n",
       "      <td>NaN</td>\n",
       "      <td>Vaughan</td>\n",
       "    </tr>\n",
       "    <tr>\n",
       "      <th>6802656</th>\n",
       "      <td>Davos Road</td>\n",
       "      <td>NaN</td>\n",
       "      <td>Vaughan</td>\n",
       "    </tr>\n",
       "    <tr>\n",
       "      <th>6802657</th>\n",
       "      <td>Davos Road</td>\n",
       "      <td>NaN</td>\n",
       "      <td>Vaughan</td>\n",
       "    </tr>\n",
       "    <tr>\n",
       "      <th>6802658</th>\n",
       "      <td>Davos Road</td>\n",
       "      <td>NaN</td>\n",
       "      <td>Woodbridge</td>\n",
       "    </tr>\n",
       "    <tr>\n",
       "      <th>6802659</th>\n",
       "      <td>Davos Road</td>\n",
       "      <td>NaN</td>\n",
       "      <td>Woodbridge</td>\n",
       "    </tr>\n",
       "    <tr>\n",
       "      <th>6802660</th>\n",
       "      <td>Davos Road</td>\n",
       "      <td>NaN</td>\n",
       "      <td>Vaughan</td>\n",
       "    </tr>\n",
       "    <tr>\n",
       "      <th>6802661</th>\n",
       "      <td>Davos Road</td>\n",
       "      <td>NaN</td>\n",
       "      <td>Vaughan</td>\n",
       "    </tr>\n",
       "    <tr>\n",
       "      <th>6802662</th>\n",
       "      <td>Davos Road</td>\n",
       "      <td>NaN</td>\n",
       "      <td>Vaughan</td>\n",
       "    </tr>\n",
       "    <tr>\n",
       "      <th>6802738</th>\n",
       "      <td>Fillippazzo Road</td>\n",
       "      <td>NaN</td>\n",
       "      <td>Vaughan</td>\n",
       "    </tr>\n",
       "    <tr>\n",
       "      <th>6802773</th>\n",
       "      <td>Via Campanile Street</td>\n",
       "      <td>NaN</td>\n",
       "      <td>Vaughan</td>\n",
       "    </tr>\n",
       "    <tr>\n",
       "      <th>6802861</th>\n",
       "      <td>Christina Ciccolini Court</td>\n",
       "      <td>NaN</td>\n",
       "      <td>Vaughan</td>\n",
       "    </tr>\n",
       "    <tr>\n",
       "      <th>6802971</th>\n",
       "      <td>Christina Ciccolini Court</td>\n",
       "      <td>NaN</td>\n",
       "      <td>Vaughan</td>\n",
       "    </tr>\n",
       "    <tr>\n",
       "      <th>6803102</th>\n",
       "      <td>Christina Ciccolini Court</td>\n",
       "      <td>NaN</td>\n",
       "      <td>Vaughan</td>\n",
       "    </tr>\n",
       "    <tr>\n",
       "      <th>6803276</th>\n",
       "      <td>Victoria Wood Avenue</td>\n",
       "      <td>NaN</td>\n",
       "      <td>Markham</td>\n",
       "    </tr>\n",
       "    <tr>\n",
       "      <th>6803327</th>\n",
       "      <td>Victoria Wood Avenue</td>\n",
       "      <td>NaN</td>\n",
       "      <td>Markham</td>\n",
       "    </tr>\n",
       "    <tr>\n",
       "      <th>6803547</th>\n",
       "      <td>Greenbury Court</td>\n",
       "      <td>NaN</td>\n",
       "      <td>Stouffville</td>\n",
       "    </tr>\n",
       "    <tr>\n",
       "      <th>6803566</th>\n",
       "      <td>Greenbury Court</td>\n",
       "      <td>NaN</td>\n",
       "      <td>Stouffville</td>\n",
       "    </tr>\n",
       "    <tr>\n",
       "      <th>6803599</th>\n",
       "      <td>Greenbury Court</td>\n",
       "      <td>NaN</td>\n",
       "      <td>Stouffville</td>\n",
       "    </tr>\n",
       "    <tr>\n",
       "      <th>6803643</th>\n",
       "      <td>Greenbury Court</td>\n",
       "      <td>NaN</td>\n",
       "      <td>Stouffville</td>\n",
       "    </tr>\n",
       "  </tbody>\n",
       "</table>\n",
       "<p>386934 rows × 3 columns</p>\n",
       "</div>"
      ],
      "text/plain": [
       "                       street_name street_designation municipality\n",
       "0                       Mc Caul St                NaN      Toronto\n",
       "6                   University Ave                NaN      Toronto\n",
       "8                       Mc Caul St                NaN      Toronto\n",
       "12                       Murray St                NaN      Toronto\n",
       "13                      Mc Caul St                NaN      Toronto\n",
       "14                  University Ave                NaN      Toronto\n",
       "18                      Mc Caul St                NaN      Toronto\n",
       "19                      Mc Caul St                NaN      Toronto\n",
       "20                      College St                NaN      Toronto\n",
       "21                         Orde St                NaN      Toronto\n",
       "23                      Mc Caul St                NaN      Toronto\n",
       "28                      Mc Caul St                NaN      Toronto\n",
       "29                      Mc Caul St                NaN      Toronto\n",
       "30                      Mc Caul St                NaN      Toronto\n",
       "31                      Mc Caul St                NaN      Toronto\n",
       "32                      Mc Caul St                NaN      Toronto\n",
       "33                      Mc Caul St                NaN      Toronto\n",
       "34                      Mc Caul St                NaN      Toronto\n",
       "35                      Mc Caul St                NaN      Toronto\n",
       "36                      Mc Caul St                NaN      Toronto\n",
       "37                      Mc Caul St                NaN      Toronto\n",
       "38                      Mc Caul St                NaN      Toronto\n",
       "39                      Mc Caul St                NaN      Toronto\n",
       "40                      Mc Caul St                NaN      Toronto\n",
       "41                      Mc Caul St                NaN      Toronto\n",
       "42                      Mc Caul St                NaN      Toronto\n",
       "43                      Mc Caul St                NaN      Toronto\n",
       "44                      Mc Caul St                NaN      Toronto\n",
       "45                      Mc Caul St                NaN      Toronto\n",
       "46                      Mc Caul St                NaN      Toronto\n",
       "...                            ...                ...          ...\n",
       "6802394                 Davos Road                NaN      Vaughan\n",
       "6802397                 Davos Road                NaN      Vaughan\n",
       "6802442                 Davos Road                NaN      Vaughan\n",
       "6802447                 Davos Road                NaN      Vaughan\n",
       "6802456                 Davos Road                NaN      Vaughan\n",
       "6802460                Credo Drive                NaN      Vaughan\n",
       "6802471                 Davos Road                NaN      Vaughan\n",
       "6802472                 Davos Road                NaN      Vaughan\n",
       "6802593             Filipazzo Road                NaN      Vaughan\n",
       "6802651                 Davos Road                NaN      Vaughan\n",
       "6802652                 Davos Road                NaN      Vaughan\n",
       "6802653                 Davos Road                NaN      Vaughan\n",
       "6802656                 Davos Road                NaN      Vaughan\n",
       "6802657                 Davos Road                NaN      Vaughan\n",
       "6802658                 Davos Road                NaN   Woodbridge\n",
       "6802659                 Davos Road                NaN   Woodbridge\n",
       "6802660                 Davos Road                NaN      Vaughan\n",
       "6802661                 Davos Road                NaN      Vaughan\n",
       "6802662                 Davos Road                NaN      Vaughan\n",
       "6802738           Fillippazzo Road                NaN      Vaughan\n",
       "6802773       Via Campanile Street                NaN      Vaughan\n",
       "6802861  Christina Ciccolini Court                NaN      Vaughan\n",
       "6802971  Christina Ciccolini Court                NaN      Vaughan\n",
       "6803102  Christina Ciccolini Court                NaN      Vaughan\n",
       "6803276       Victoria Wood Avenue                NaN      Markham\n",
       "6803327       Victoria Wood Avenue                NaN      Markham\n",
       "6803547            Greenbury Court                NaN  Stouffville\n",
       "6803566            Greenbury Court                NaN  Stouffville\n",
       "6803599            Greenbury Court                NaN  Stouffville\n",
       "6803643            Greenbury Court                NaN  Stouffville\n",
       "\n",
       "[386934 rows x 3 columns]"
      ]
     },
     "execution_count": 30,
     "metadata": {},
     "output_type": "execute_result"
    }
   ],
   "source": [
    "mask1 = df['street_designation'].isnull()\n",
    "mask2 = df['street_name'].isnull()\n",
    "skip_list = ['Via Campanile', 'Alfred Paterson', 'Regional Road 25', 'Regional Rd 25',\n",
    "             'Sixth Line Rr1']\n",
    "mask3 = df['street_name'].isin(skip_list)\n",
    "mask4 = df['street_name'].str.contains('Building', case=False, na=False)\n",
    "df.loc[mask1 & ~mask2 & ~mask3 & ~mask4, ['street_name', 'street_designation', 'municipality']]"
   ]
  },
  {
   "cell_type": "markdown",
   "metadata": {
    "pycharm": {
     "name": "#%% md\n"
    }
   },
   "source": [
    "## Step 7: Investigate missing values"
   ]
  },
  {
   "cell_type": "code",
   "execution_count": 7,
   "metadata": {
    "pycharm": {
     "is_executing": false,
     "name": "#%%\n"
    }
   },
   "outputs": [
    {
     "name": "stdout",
     "output_type": "stream",
     "text": [
      "<class 'pandas.core.frame.DataFrame'>\n",
      "RangeIndex: 6803691 entries, 0 to 6803690\n",
      "Data columns (total 17 columns):\n",
      "lro_num               6803691 non-null int64\n",
      "pin                   6803691 non-null int64\n",
      "consideration_amt     6803691 non-null float64\n",
      "registration_date     6803691 non-null object\n",
      "postal_code           6233082 non-null object\n",
      "unitno                1571830 non-null float64\n",
      "street_name           6598317 non-null object\n",
      "street_designation    6211313 non-null object\n",
      "street_direction      653205 non-null object\n",
      "municipality          6799681 non-null object\n",
      "street_suffix         43 non-null float64\n",
      "street_number         6594322 non-null float64\n",
      "x                     6803691 non-null float64\n",
      "y                     6803691 non-null float64\n",
      "objectid              6803691 non-null int64\n",
      "dauid                 6803691 non-null int64\n",
      "csdname               6803691 non-null object\n",
      "dtypes: float64(6), int64(4), object(7)\n",
      "memory usage: 882.4+ MB\n"
     ]
    }
   ],
   "source": [
    "df.info(null_counts=True)"
   ]
  },
  {
   "cell_type": "code",
   "execution_count": 8,
   "metadata": {
    "pycharm": {
     "is_executing": false,
     "name": "#%%\n"
    }
   },
   "outputs": [
    {
     "data": {
      "image/png": "[encoded data removed]",
      "text/plain": [
       "<Figure size 576x432 with 1 Axes>"
      ]
     },
     "metadata": {
      "needs_background": "light"
     },
     "output_type": "display_data"
    }
   ],
   "source": [
    "na_count = df.isnull().sum().sort_values()\n",
    "\n",
    "f, ax = plt.subplots(1, figsize=(8, 6))\n",
    "na_count.plot(kind='barh', ax=ax)\n",
    "ax.grid(axis='y')\n",
    "plt.xticks(rotation=45, fontsize=16)\n",
    "plt.yticks(fontsize=14)\n",
    "ax.get_xaxis().set_major_formatter(\n",
    "    matplotlib.ticker.FuncFormatter(lambda x, p: format(int(x), ',')))\n",
    "ax.set_title(\"Number of missing values per column\", fontsize=18)\n",
    "ax.set_ylabel(\"Column name\", fontsize=16)\n",
    "ax.set_xlabel(\"Number of missing entries\", fontsize=16)\n",
    "plt.savefig('results/teranet_na_count.png', dpi=400, bbox_inches='tight')"
   ]
  },
  {
   "cell_type": "code",
   "execution_count": 9,
   "metadata": {
    "pycharm": {
     "is_executing": false,
     "name": "#%%\n"
    }
   },
   "outputs": [
    {
     "data": {
      "image/png": "[encoded data removed]",
      "text/plain": [
       "<Figure size 576x432 with 1 Axes>"
      ]
     },
     "metadata": {
      "needs_background": "light"
     },
     "output_type": "display_data"
    }
   ],
   "source": [
    "na_perc = df.isnull().sum().sort_values() / len(df) * 100\n",
    "\n",
    "f, ax = plt.subplots(1, figsize=(8, 6))\n",
    "na_perc.plot(kind='barh', ax=ax)\n",
    "ax.grid(axis='y')\n",
    "plt.xticks(fontsize=16)\n",
    "plt.yticks(fontsize=14)\n",
    "ax.get_xaxis().set_major_formatter(\n",
    "    matplotlib.ticker.FuncFormatter(lambda x, p: format(int(x), ',')))\n",
    "ax.set_title(\"Percentage of missing values per column\", fontsize=18)\n",
    "ax.set_ylabel(\"Column name\", fontsize=16)\n",
    "ax.set_xlabel(\"% of missing entries\\n(out of the total {0:,} records)\"\n",
    "              .format(len(df)), fontsize=16)\n",
    "plt.savefig('results/teranet_na_perc.png', dpi=400, bbox_inches='tight')"
   ]
  },
  {
   "cell_type": "markdown",
   "metadata": {
    "pycharm": {
     "is_executing": false,
     "name": "#%% md\n"
    }
   },
   "source": [
    "## Step 8: Remove column `street_suffix`\n",
    "Since 99.99994% of the values in column `street_suffix` are missing, it has been removed from the dataset."
   ]
  },
  {
   "cell_type": "code",
   "execution_count": 10,
   "metadata": {
    "pycharm": {
     "is_executing": false,
     "name": "#%%\n"
    }
   },
   "outputs": [
    {
     "name": "stdout",
     "output_type": "stream",
     "text": [
      "Column 'street_suffix' was removed from the dataset.\n"
     ]
    }
   ],
   "source": [
    "df = df.drop('street_suffix', axis=1)\n",
    "print(\"Column 'street_suffix' was removed from the dataset.\")"
   ]
  },
  {
   "cell_type": "markdown",
   "metadata": {
    "pycharm": {
     "name": "#%% md\n"
    }
   },
   "source": [
    "## Step 9: validate consistency of values in column `postal_code`\n",
    "Column `postal_code` has been validated to contain the correct data format (Canadian postal codes).\n",
    "\n",
    "570'609 values are missing, the rest follow the correct data format."
   ]
  },
  {
   "cell_type": "code",
   "execution_count": 11,
   "metadata": {
    "pycharm": {
     "is_executing": false,
     "name": "#%%\n"
    }
   },
   "outputs": [
    {
     "data": {
      "text/plain": [
       "True    6233082\n",
       "NaN      570609\n",
       "Name: postal_code, dtype: int64"
      ]
     },
     "execution_count": 11,
     "metadata": {},
     "output_type": "execute_result"
    }
   ],
   "source": [
    "df['postal_code'].str.match('^[A-Z]\\d[A-Z]\\d[A-Z]\\d$')\\\n",
    "    .value_counts(dropna=False)"
   ]
  },
  {
   "cell_type": "markdown",
   "metadata": {},
   "source": [
    "## Step 10: fix inconsistent values\n",
    "Inconsistent entries are fixed in the following columns:\n",
    "* `unitno`\n",
    "* `street_name`\n",
    "* `street_designaction`\n",
    "* `street_direction`\n",
    "* `municipality`\n"
   ]
  },
  {
   "cell_type": "markdown",
   "metadata": {
    "pycharm": {
     "name": "#%% md\n"
    }
   },
   "source": [
    "### Fix values in column `unitno`\n",
    "\n",
    "#### 1.010000e-107"
   ]
  },
  {
   "cell_type": "code",
   "execution_count": 12,
   "metadata": {
    "pycharm": {
     "is_executing": false,
     "name": "#%%\n"
    }
   },
   "outputs": [
    {
     "data": {
      "text/plain": [
       "340618    1.010000e-107\n",
       "Name: unitno, dtype: float64"
      ]
     },
     "execution_count": 12,
     "metadata": {},
     "output_type": "execute_result"
    }
   ],
   "source": [
    "unit_no = df['unitno'].astype('str')\n",
    "mask1 = unit_no.str.contains('e')\n",
    "mask2 = unit_no.str.match('1.01')\n",
    "mask3 = unit_no.str.match('1.009')\n",
    "df.loc[mask1 & (mask2 | mask3), 'unitno']"
   ]
  },
  {
   "cell_type": "code",
   "execution_count": 13,
   "metadata": {
    "pycharm": {
     "is_executing": false,
     "name": "#%%\n"
    }
   },
   "outputs": [
    {
     "data": {
      "text/plain": [
       "340618    101.0\n",
       "Name: unitno, dtype: float64"
      ]
     },
     "execution_count": 13,
     "metadata": {},
     "output_type": "execute_result"
    }
   ],
   "source": [
    "df.loc[mask1 & (mask2 | mask3), 'unitno'] = 101\n",
    "df.loc[mask1 & (mask2 | mask3), 'unitno']"
   ]
  },
  {
   "cell_type": "markdown",
   "metadata": {
    "pycharm": {
     "name": "#%% md\n"
    }
   },
   "source": [
    "#### 1.200000e-/+x\n",
    ">It is impossible to tell, if this erratic unit number corresponds to '12', '120', or '1200'. All units that match this pattern have been converted to '12'."
   ]
  },
  {
   "cell_type": "code",
   "execution_count": 14,
   "metadata": {
    "pycharm": {
     "is_executing": false,
     "name": "#%%\n"
    }
   },
   "outputs": [
    {
     "data": {
      "text/plain": [
       "3953588    1.200000e-103\n",
       "3953651    1.200000e-200\n",
       "3953674    1.200000e-200\n",
       "3953742    1.200000e-200\n",
       "3953776    1.200000e-200\n",
       "3954430    1.200000e-200\n",
       "3954537    1.200000e-200\n",
       "3954600    1.200000e-200\n",
       "3954633    1.200000e-200\n",
       "3954636    1.200000e-103\n",
       "3954679    1.200000e-200\n",
       "3954680    1.200000e-200\n",
       "3954682    1.200000e-200\n",
       "3954683    1.200000e-200\n",
       "3954756    1.200000e-103\n",
       "3955235    1.200000e-103\n",
       "Name: unitno, dtype: float64"
      ]
     },
     "execution_count": 14,
     "metadata": {},
     "output_type": "execute_result"
    }
   ],
   "source": [
    "unit_no = df['unitno'].astype('str')\n",
    "mask1 = unit_no.str.contains('e')\n",
    "mask2 = unit_no.str.match('1.199')\n",
    "df.loc[mask1 & mask2, 'unitno']"
   ]
  },
  {
   "cell_type": "code",
   "execution_count": 15,
   "metadata": {
    "pycharm": {
     "is_executing": false,
     "name": "#%%\n"
    }
   },
   "outputs": [
    {
     "data": {
      "text/plain": [
       "3953588    12.0\n",
       "3953651    12.0\n",
       "3953674    12.0\n",
       "3953742    12.0\n",
       "3953776    12.0\n",
       "3954430    12.0\n",
       "3954537    12.0\n",
       "3954600    12.0\n",
       "3954633    12.0\n",
       "3954636    12.0\n",
       "3954679    12.0\n",
       "3954680    12.0\n",
       "3954682    12.0\n",
       "3954683    12.0\n",
       "3954756    12.0\n",
       "3955235    12.0\n",
       "Name: unitno, dtype: float64"
      ]
     },
     "execution_count": 15,
     "metadata": {},
     "output_type": "execute_result"
    }
   ],
   "source": [
    "df.loc[mask1 & mask2, 'unitno'] = 12\n",
    "df.loc[mask1 & mask2, 'unitno']"
   ]
  },
  {
   "cell_type": "markdown",
   "metadata": {
    "pycharm": {
     "is_executing": false,
     "name": "#%% md\n"
    }
   },
   "source": [
    "#### 2.000000e-/+x\n",
    ">It is impossible to tell, if this erratic unit number corresponds to '2', '20', or '200'. All units that match this pattern have been converted to '2'."
   ]
  },
  {
   "cell_type": "code",
   "execution_count": 16,
   "metadata": {
    "pycharm": {
     "is_executing": false,
     "name": "#%%\n"
    }
   },
   "outputs": [
    {
     "data": {
      "text/plain": [
       "803793      2.000000e-22\n",
       "804383      2.000000e-22\n",
       "804389      2.000000e-22\n",
       "976890     2.000000e+105\n",
       "980143     2.000000e+155\n",
       "980174     2.000000e+155\n",
       "985930     2.000000e+105\n",
       "1319468     2.000000e-06\n",
       "1319615     2.000000e-05\n",
       "1320010     2.000000e-06\n",
       "1745134     2.000000e+18\n",
       "1745135     2.000000e+19\n",
       "1745136     2.000000e+21\n",
       "1746261     2.000000e+18\n",
       "1746262     2.000000e+19\n",
       "1746263     2.000000e+21\n",
       "2898062    2.000000e-123\n",
       "2901764    2.000000e-123\n",
       "2902654    2.000000e-123\n",
       "4334081     2.000000e-12\n",
       "4334231     2.000000e-12\n",
       "4334306     2.000000e-12\n",
       "Name: unitno, dtype: float64"
      ]
     },
     "execution_count": 16,
     "metadata": {},
     "output_type": "execute_result"
    }
   ],
   "source": [
    "unit_no = df['unitno'].astype('str')\n",
    "mask1 = unit_no.str.contains('e')\n",
    "mask2 = unit_no.str.match('2')\n",
    "mask3 = unit_no.str.match('1.99')\n",
    "df.loc[mask1 & (mask2 | mask3), 'unitno']"
   ]
  },
  {
   "cell_type": "code",
   "execution_count": 17,
   "metadata": {
    "pycharm": {
     "is_executing": false,
     "name": "#%%\n"
    }
   },
   "outputs": [
    {
     "data": {
      "text/plain": [
       "803793     2.0\n",
       "804383     2.0\n",
       "804389     2.0\n",
       "976890     2.0\n",
       "980143     2.0\n",
       "980174     2.0\n",
       "985930     2.0\n",
       "1319468    2.0\n",
       "1319615    2.0\n",
       "1320010    2.0\n",
       "1745134    2.0\n",
       "1745135    2.0\n",
       "1745136    2.0\n",
       "1746261    2.0\n",
       "1746262    2.0\n",
       "1746263    2.0\n",
       "2898062    2.0\n",
       "2901764    2.0\n",
       "2902654    2.0\n",
       "4334081    2.0\n",
       "4334231    2.0\n",
       "4334306    2.0\n",
       "Name: unitno, dtype: float64"
      ]
     },
     "execution_count": 17,
     "metadata": {},
     "output_type": "execute_result"
    }
   ],
   "source": [
    "df.loc[mask1 & (mask2 | mask3), 'unitno'] = 2\n",
    "df.loc[mask1 & (mask2 | mask3), 'unitno']"
   ]
  },
  {
   "cell_type": "markdown",
   "metadata": {
    "pycharm": {
     "name": "#%% md\n"
    }
   },
   "source": [
    "#### 1.100000e-201\n",
    ">It is impossible to tell, if this erratic unit number corresponds to '11', '110', or '1100'. All units that match this pattern have been converted to '11'."
   ]
  },
  {
   "cell_type": "code",
   "execution_count": 18,
   "metadata": {
    "pycharm": {
     "is_executing": false,
     "name": "#%%\n"
    }
   },
   "outputs": [
    {
     "data": {
      "text/plain": [
       "3953610    1.100000e-201\n",
       "3953628    1.100000e-201\n",
       "3953668    1.100000e-201\n",
       "3954463    1.100000e-201\n",
       "3954481    1.100000e-201\n",
       "3954512    1.100000e-201\n",
       "3954772    1.100000e-201\n",
       "3954773    1.100000e-201\n",
       "3954774    1.100000e-201\n",
       "3955395    1.100000e-201\n",
       "3955397    1.100000e-201\n",
       "3955398    1.100000e-201\n",
       "Name: unitno, dtype: float64"
      ]
     },
     "execution_count": 18,
     "metadata": {},
     "output_type": "execute_result"
    }
   ],
   "source": [
    "unit_no = df['unitno'].astype('str')\n",
    "mask1 = unit_no.str.contains('e')\n",
    "mask2 = unit_no.str.match('1.1')\n",
    "mask3 = unit_no.str.match('1.09')\n",
    "df.loc[mask1 & (mask2 | mask3), 'unitno']"
   ]
  },
  {
   "cell_type": "code",
   "execution_count": 19,
   "metadata": {
    "pycharm": {
     "is_executing": false,
     "name": "#%%\n"
    }
   },
   "outputs": [
    {
     "data": {
      "text/plain": [
       "3953610    11.0\n",
       "3953628    11.0\n",
       "3953668    11.0\n",
       "3954463    11.0\n",
       "3954481    11.0\n",
       "3954512    11.0\n",
       "3954772    11.0\n",
       "3954773    11.0\n",
       "3954774    11.0\n",
       "3955395    11.0\n",
       "3955397    11.0\n",
       "3955398    11.0\n",
       "Name: unitno, dtype: float64"
      ]
     },
     "execution_count": 19,
     "metadata": {},
     "output_type": "execute_result"
    }
   ],
   "source": [
    "df.loc[mask1 & (mask2 | mask3), 'unitno'] = 11\n",
    "df.loc[mask1 & (mask2 | mask3), 'unitno']"
   ]
  },
  {
   "cell_type": "markdown",
   "metadata": {},
   "source": [
    "#### 1.700000e-06\n",
    ">It is impossible to tell, if this erratic unit number corresponds to '17', '170', or '1700'. All units that match this pattern have been converted to '17'."
   ]
  },
  {
   "cell_type": "code",
   "execution_count": 20,
   "metadata": {
    "pycharm": {
     "is_executing": false,
     "name": "#%%\n"
    }
   },
   "outputs": [
    {
     "data": {
      "text/plain": [
       "1288104    0.000002\n",
       "1288472    0.000002\n",
       "Name: unitno, dtype: float64"
      ]
     },
     "execution_count": 20,
     "metadata": {},
     "output_type": "execute_result"
    }
   ],
   "source": [
    "unit_no = df['unitno'].astype('str')\n",
    "mask1 = unit_no.str.contains('e')\n",
    "mask2 = unit_no.str.match('1.7')\n",
    "mask3 = unit_no.str.match('1.69')\n",
    "df.loc[mask1 & (mask2 | mask3), 'unitno']"
   ]
  },
  {
   "cell_type": "code",
   "execution_count": 21,
   "metadata": {
    "pycharm": {
     "is_executing": false,
     "name": "#%%\n"
    }
   },
   "outputs": [
    {
     "data": {
      "text/plain": [
       "1288104    17.0\n",
       "1288472    17.0\n",
       "Name: unitno, dtype: float64"
      ]
     },
     "execution_count": 21,
     "metadata": {},
     "output_type": "execute_result"
    }
   ],
   "source": [
    "df.loc[mask1 & (mask2 | mask3), 'unitno'] = 17\n",
    "df.loc[mask1 & (mask2 | mask3), 'unitno']"
   ]
  },
  {
   "cell_type": "markdown",
   "metadata": {},
   "source": [
    "#### 1.800000e-19\n",
    ">It is impossible to tell, if this erratic unit number corresponds to '18', '180', or '1800'. All units that match this pattern have been converted to '18'."
   ]
  },
  {
   "cell_type": "code",
   "execution_count": 22,
   "metadata": {
    "pycharm": {
     "is_executing": false,
     "name": "#%%\n"
    }
   },
   "outputs": [
    {
     "data": {
      "text/plain": [
       "4939849    1.800000e-19\n",
       "Name: unitno, dtype: float64"
      ]
     },
     "execution_count": 22,
     "metadata": {},
     "output_type": "execute_result"
    }
   ],
   "source": [
    "unit_no = df['unitno'].astype('str')\n",
    "mask1 = unit_no.str.contains('e')\n",
    "mask2 = unit_no.str.match('1.8')\n",
    "mask3 = unit_no.str.match('1.79')\n",
    "df.loc[mask1 & (mask2 | mask3), 'unitno']"
   ]
  },
  {
   "cell_type": "code",
   "execution_count": 23,
   "metadata": {
    "pycharm": {
     "is_executing": false,
     "name": "#%%\n"
    }
   },
   "outputs": [
    {
     "data": {
      "text/plain": [
       "4939849    18.0\n",
       "Name: unitno, dtype: float64"
      ]
     },
     "execution_count": 23,
     "metadata": {},
     "output_type": "execute_result"
    }
   ],
   "source": [
    "df.loc[mask1 & (mask2 | mask3), 'unitno'] = 18\n",
    "df.loc[mask1 & (mask2 | mask3), 'unitno']"
   ]
  },
  {
   "cell_type": "markdown",
   "metadata": {},
   "source": [
    "#### 3.300000e-33\n",
    ">It is impossible to tell, if this erratic unit number corresponds to '33', '330', or '3300'. All units that match this pattern have been converted to '33'."
   ]
  },
  {
   "cell_type": "code",
   "execution_count": 24,
   "metadata": {
    "pycharm": {
     "is_executing": false,
     "name": "#%%\n"
    }
   },
   "outputs": [
    {
     "data": {
      "text/plain": [
       "410169    3.300000e-33\n",
       "410499    3.300000e-33\n",
       "410506    3.300000e-33\n",
       "Name: unitno, dtype: float64"
      ]
     },
     "execution_count": 24,
     "metadata": {},
     "output_type": "execute_result"
    }
   ],
   "source": [
    "unit_no = df['unitno'].astype('str')\n",
    "mask1 = unit_no.str.contains('e')\n",
    "mask2 = unit_no.str.match('3.3')\n",
    "mask3 = unit_no.str.match('3.29')\n",
    "df.loc[mask1 & (mask2 | mask3), 'unitno']"
   ]
  },
  {
   "cell_type": "code",
   "execution_count": 25,
   "metadata": {
    "pycharm": {
     "is_executing": false,
     "name": "#%%\n"
    }
   },
   "outputs": [
    {
     "data": {
      "text/plain": [
       "410169    33.0\n",
       "410499    33.0\n",
       "410506    33.0\n",
       "Name: unitno, dtype: float64"
      ]
     },
     "execution_count": 25,
     "metadata": {},
     "output_type": "execute_result"
    }
   ],
   "source": [
    "df.loc[mask1 & (mask2 | mask3), 'unitno'] = 33\n",
    "df.loc[mask1 & (mask2 | mask3), 'unitno']"
   ]
  },
  {
   "cell_type": "markdown",
   "metadata": {},
   "source": [
    "#### 6.000000e-x\n",
    ">It is impossible to tell, if this erratic unit number corresponds to '6', '60', or '600'. All units that match this pattern have been converted to '6'."
   ]
  },
  {
   "cell_type": "code",
   "execution_count": 26,
   "metadata": {
    "pycharm": {
     "is_executing": false,
     "name": "#%%\n"
    }
   },
   "outputs": [
    {
     "data": {
      "text/plain": [
       "2900912     6.000000e-22\n",
       "2902554     6.000000e-22\n",
       "3953612    6.000000e-104\n",
       "3953616    6.000000e-104\n",
       "3953676    6.000000e-201\n",
       "3953705    6.000000e-201\n",
       "3953716    6.000000e-201\n",
       "3953724    6.000000e-201\n",
       "3953772    6.000000e-201\n",
       "3954405    6.000000e-201\n",
       "3954429    6.000000e-201\n",
       "3954470    6.000000e-201\n",
       "3954490    6.000000e-201\n",
       "3954517    6.000000e-104\n",
       "3954610    6.000000e-201\n",
       "3954626    6.000000e-104\n",
       "3954660    6.000000e-104\n",
       "3954662    6.000000e-104\n",
       "3954717    6.000000e-201\n",
       "3954718    6.000000e-201\n",
       "3954719    6.000000e-201\n",
       "3954720    6.000000e-201\n",
       "3954721    6.000000e-201\n",
       "3955433    6.000000e-104\n",
       "3955435    6.000000e-104\n",
       "Name: unitno, dtype: float64"
      ]
     },
     "execution_count": 26,
     "metadata": {},
     "output_type": "execute_result"
    }
   ],
   "source": [
    "unit_no = df['unitno'].astype('str')\n",
    "mask1 = unit_no.str.contains('e')\n",
    "mask2 = unit_no.str.match('6')\n",
    "mask3 = unit_no.str.match('5.9')\n",
    "df.loc[mask1 & (mask2 | mask3), 'unitno']"
   ]
  },
  {
   "cell_type": "code",
   "execution_count": 27,
   "metadata": {
    "pycharm": {
     "is_executing": false,
     "name": "#%%\n"
    }
   },
   "outputs": [
    {
     "data": {
      "text/plain": [
       "2900912    6.0\n",
       "2902554    6.0\n",
       "3953612    6.0\n",
       "3953616    6.0\n",
       "3953676    6.0\n",
       "3953705    6.0\n",
       "3953716    6.0\n",
       "3953724    6.0\n",
       "3953772    6.0\n",
       "3954405    6.0\n",
       "3954429    6.0\n",
       "3954470    6.0\n",
       "3954490    6.0\n",
       "3954517    6.0\n",
       "3954610    6.0\n",
       "3954626    6.0\n",
       "3954660    6.0\n",
       "3954662    6.0\n",
       "3954717    6.0\n",
       "3954718    6.0\n",
       "3954719    6.0\n",
       "3954720    6.0\n",
       "3954721    6.0\n",
       "3955433    6.0\n",
       "3955435    6.0\n",
       "Name: unitno, dtype: float64"
      ]
     },
     "execution_count": 27,
     "metadata": {},
     "output_type": "execute_result"
    }
   ],
   "source": [
    "df.loc[mask1 & (mask2 | mask3), 'unitno'] = 6\n",
    "df.loc[mask1 & (mask2 | mask3), 'unitno']"
   ]
  },
  {
   "cell_type": "markdown",
   "metadata": {},
   "source": [
    "#### 5.000000e-x\n",
    ">It is impossible to tell, if this erratic unit number corresponds to '5', '50', or '500'. All units that match this pattern have been converted to '5'."
   ]
  },
  {
   "cell_type": "code",
   "execution_count": 28,
   "metadata": {
    "pycharm": {
     "is_executing": false,
     "name": "#%%\n"
    }
   },
   "outputs": [
    {
     "data": {
      "text/plain": [
       "3953583    5.000000e-103\n",
       "3953659    5.000000e-102\n",
       "3953682    5.000000e-103\n",
       "3953778    5.000000e-102\n",
       "3954459    5.000000e-103\n",
       "3954479    5.000000e-103\n",
       "3954545    5.000000e-102\n",
       "3954631    5.000000e-102\n",
       "3954750    5.000000e-102\n",
       "3954752    5.000000e-102\n",
       "3954822    5.000000e-103\n",
       "3954823    5.000000e-103\n",
       "4287802     5.000000e-06\n",
       "4287803     5.000000e-06\n",
       "Name: unitno, dtype: float64"
      ]
     },
     "execution_count": 28,
     "metadata": {},
     "output_type": "execute_result"
    }
   ],
   "source": [
    "unit_no = df['unitno'].astype('str')\n",
    "mask1 = unit_no.str.contains('e')\n",
    "mask2 = unit_no.str.match('5')\n",
    "mask3 = unit_no.str.match('4.9')\n",
    "df.loc[mask1 & (mask2 | mask3), 'unitno']"
   ]
  },
  {
   "cell_type": "code",
   "execution_count": 29,
   "metadata": {
    "pycharm": {
     "is_executing": false,
     "name": "#%%\n"
    }
   },
   "outputs": [
    {
     "data": {
      "text/plain": [
       "3953583    5.0\n",
       "3953659    5.0\n",
       "3953682    5.0\n",
       "3953778    5.0\n",
       "3954459    5.0\n",
       "3954479    5.0\n",
       "3954545    5.0\n",
       "3954631    5.0\n",
       "3954750    5.0\n",
       "3954752    5.0\n",
       "3954822    5.0\n",
       "3954823    5.0\n",
       "4287802    5.0\n",
       "4287803    5.0\n",
       "Name: unitno, dtype: float64"
      ]
     },
     "execution_count": 29,
     "metadata": {},
     "output_type": "execute_result"
    }
   ],
   "source": [
    "df.loc[mask1 & (mask2 | mask3), 'unitno'] = 5\n",
    "df.loc[mask1 & (mask2 | mask3), 'unitno']"
   ]
  },
  {
   "cell_type": "markdown",
   "metadata": {
    "pycharm": {
     "name": "#%% md\n"
    }
   },
   "source": [
    "#### 1.000000e-/+21\n",
    ">It is impossible to tell, if this erratic unit number corresponds to '1', '10', or '100'. All units that match this pattern have been converted to '1'."
   ]
  },
  {
   "cell_type": "code",
   "execution_count": 30,
   "metadata": {
    "pycharm": {
     "is_executing": false,
     "name": "#%%\n"
    }
   },
   "outputs": [
    {
     "data": {
      "text/plain": [
       "1745078     1.000000e+21\n",
       "1745138     1.000000e+18\n",
       "1745139     1.000000e+20\n",
       "1745140     1.000000e+22\n",
       "1745141     1.000000e+25\n",
       "1745142     1.000000e+27\n",
       "1745145     1.000000e+19\n",
       "1745146     1.000000e+17\n",
       "1745147     1.000000e+21\n",
       "1745161     1.000000e+26\n",
       "1745163     1.000000e+23\n",
       "1745186     1.000000e+17\n",
       "1745195     1.000000e+16\n",
       "1745321     1.000000e+19\n",
       "1745437     1.000000e+17\n",
       "1745438     1.000000e+19\n",
       "1745439     1.000000e+21\n",
       "1745440     1.000000e+23\n",
       "1745528     1.000000e+26\n",
       "1745667     1.000000e+26\n",
       "1746217     1.000000e+20\n",
       "1746218     1.000000e+27\n",
       "1746219     1.000000e+22\n",
       "1746220     1.000000e+25\n",
       "1746221     1.000000e+18\n",
       "1746441     1.000000e+17\n",
       "2908723     1.000000e-10\n",
       "2908791     1.000000e-10\n",
       "2908927     1.000000e-10\n",
       "2909068     1.000000e-10\n",
       "3822265     1.000000e-05\n",
       "3822266     1.000000e-05\n",
       "3822267     1.000000e-05\n",
       "3822268     1.000000e-05\n",
       "3822269     1.000000e-05\n",
       "3953792    1.000000e-101\n",
       "3954603    1.000000e-101\n",
       "3954834    1.000000e-101\n",
       "4989609     1.000000e-20\n",
       "4989611     1.000000e-20\n",
       "4989636     1.000000e-20\n",
       "Name: unitno, dtype: float64"
      ]
     },
     "execution_count": 30,
     "metadata": {},
     "output_type": "execute_result"
    }
   ],
   "source": [
    "unit_no = df['unitno'].astype('str')\n",
    "mask1 = unit_no.str.contains('e')\n",
    "mask2 = unit_no.str.match('1')\n",
    "mask3 = unit_no.str.match('0.9')\n",
    "id_list = [3953792, 3954603, 3954834]\n",
    "mask4 = unit_no.index.isin(id_list)\n",
    "df.loc[mask1 & (mask2 | mask3) | mask4, 'unitno']"
   ]
  },
  {
   "cell_type": "code",
   "execution_count": 31,
   "metadata": {
    "pycharm": {
     "is_executing": false,
     "name": "#%%\n"
    }
   },
   "outputs": [
    {
     "data": {
      "text/plain": [
       "1745078    1.0\n",
       "1745138    1.0\n",
       "1745139    1.0\n",
       "1745140    1.0\n",
       "1745141    1.0\n",
       "1745142    1.0\n",
       "1745145    1.0\n",
       "1745146    1.0\n",
       "1745147    1.0\n",
       "1745161    1.0\n",
       "1745163    1.0\n",
       "1745186    1.0\n",
       "1745195    1.0\n",
       "1745321    1.0\n",
       "1745437    1.0\n",
       "1745438    1.0\n",
       "1745439    1.0\n",
       "1745440    1.0\n",
       "1745528    1.0\n",
       "1745667    1.0\n",
       "1746217    1.0\n",
       "1746218    1.0\n",
       "1746219    1.0\n",
       "1746220    1.0\n",
       "1746221    1.0\n",
       "1746441    1.0\n",
       "2908723    1.0\n",
       "2908791    1.0\n",
       "2908927    1.0\n",
       "2909068    1.0\n",
       "3822265    1.0\n",
       "3822266    1.0\n",
       "3822267    1.0\n",
       "3822268    1.0\n",
       "3822269    1.0\n",
       "3953792    1.0\n",
       "3954603    1.0\n",
       "3954834    1.0\n",
       "4989609    1.0\n",
       "4989611    1.0\n",
       "4989636    1.0\n",
       "Name: unitno, dtype: float64"
      ]
     },
     "execution_count": 31,
     "metadata": {},
     "output_type": "execute_result"
    }
   ],
   "source": [
    "df.loc[mask1 & (mask2 | mask3) | mask4, 'unitno'] = 1\n",
    "df.loc[mask1 & (mask2 | mask3) | mask4, 'unitno']"
   ]
  },
  {
   "cell_type": "markdown",
   "metadata": {},
   "source": [
    "#### 9.000000e-104\n",
    ">It is impossible to tell, if this erratic unit number corresponds to '9', '90', or '900'. All units that match this pattern have been converted to '9'."
   ]
  },
  {
   "cell_type": "code",
   "execution_count": 32,
   "metadata": {
    "pycharm": {
     "is_executing": false,
     "name": "#%%\n"
    }
   },
   "outputs": [
    {
     "data": {
      "text/plain": [
       "3953784    9.000000e-104\n",
       "3954609    9.000000e-104\n",
       "3954768    9.000000e-104\n",
       "3954955    9.000000e-104\n",
       "3955042    9.000000e-104\n",
       "3956086    9.000000e-104\n",
       "3956539    9.000000e-104\n",
       "Name: unitno, dtype: float64"
      ]
     },
     "execution_count": 32,
     "metadata": {},
     "output_type": "execute_result"
    }
   ],
   "source": [
    "unit_no = df['unitno'].astype('str')\n",
    "mask1 = unit_no.str.contains('e')\n",
    "mask2 = unit_no.str.match('9')\n",
    "mask3 = unit_no.str.match('8.9')\n",
    "df.loc[mask1 & (mask2 | mask3), 'unitno']"
   ]
  },
  {
   "cell_type": "code",
   "execution_count": 33,
   "metadata": {
    "pycharm": {
     "is_executing": false,
     "name": "#%%\n"
    }
   },
   "outputs": [
    {
     "data": {
      "text/plain": [
       "3953784    9.0\n",
       "3954609    9.0\n",
       "3954768    9.0\n",
       "3954955    9.0\n",
       "3955042    9.0\n",
       "3956086    9.0\n",
       "3956539    9.0\n",
       "Name: unitno, dtype: float64"
      ]
     },
     "execution_count": 33,
     "metadata": {},
     "output_type": "execute_result"
    }
   ],
   "source": [
    "df.loc[mask1 & (mask2 | mask3), 'unitno'] = 9\n",
    "df.loc[mask1 & (mask2 | mask3), 'unitno']"
   ]
  },
  {
   "cell_type": "markdown",
   "metadata": {},
   "source": [
    "#### 4.000000e-104\n",
    ">It is impossible to tell, if this erratic unit number corresponds to '4', '40', or '400'. All units that match this pattern have been converted to '4'."
   ]
  },
  {
   "cell_type": "code",
   "execution_count": 34,
   "metadata": {
    "pycharm": {
     "is_executing": false,
     "name": "#%%\n"
    }
   },
   "outputs": [
    {
     "data": {
      "text/plain": [
       "3953713    4.000000e-104\n",
       "3954624    4.000000e-104\n",
       "3954754    4.000000e-104\n",
       "3955982    4.000000e-104\n",
       "Name: unitno, dtype: float64"
      ]
     },
     "execution_count": 34,
     "metadata": {},
     "output_type": "execute_result"
    }
   ],
   "source": [
    "unit_no = df['unitno'].astype('str')\n",
    "mask1 = unit_no.str.contains('e')\n",
    "mask2 = unit_no.str.match('4')\n",
    "mask3 = unit_no.str.match('3.9')\n",
    "df.loc[mask1 & (mask2 | mask3), 'unitno']"
   ]
  },
  {
   "cell_type": "code",
   "execution_count": 35,
   "metadata": {
    "pycharm": {
     "is_executing": false,
     "name": "#%%\n"
    }
   },
   "outputs": [
    {
     "data": {
      "text/plain": [
       "3953713    4.0\n",
       "3954624    4.0\n",
       "3954754    4.0\n",
       "3955982    4.0\n",
       "Name: unitno, dtype: float64"
      ]
     },
     "execution_count": 35,
     "metadata": {},
     "output_type": "execute_result"
    }
   ],
   "source": [
    "df.loc[mask1 & (mask2 | mask3), 'unitno'] = 4\n",
    "df.loc[mask1 & (mask2 | mask3), 'unitno']"
   ]
  },
  {
   "cell_type": "markdown",
   "metadata": {},
   "source": [
    "#### 8.000000e-206\n",
    ">It is impossible to tell, if this erratic unit number corresponds to '8', '80', or '800'. All units that match this pattern have been converted to '8'."
   ]
  },
  {
   "cell_type": "code",
   "execution_count": 36,
   "metadata": {
    "pycharm": {
     "is_executing": false,
     "name": "#%%\n"
    }
   },
   "outputs": [
    {
     "data": {
      "text/plain": [
       "3252381    8.000000e-206\n",
       "Name: unitno, dtype: float64"
      ]
     },
     "execution_count": 36,
     "metadata": {},
     "output_type": "execute_result"
    }
   ],
   "source": [
    "unit_no = df['unitno'].astype('str')\n",
    "mask1 = unit_no.str.contains('e')\n",
    "df.loc[mask1, 'unitno']"
   ]
  },
  {
   "cell_type": "code",
   "execution_count": 37,
   "metadata": {
    "pycharm": {
     "is_executing": false,
     "name": "#%%\n"
    }
   },
   "outputs": [
    {
     "data": {
      "text/plain": [
       "3252381    8.0\n",
       "Name: unitno, dtype: float64"
      ]
     },
     "execution_count": 37,
     "metadata": {},
     "output_type": "execute_result"
    }
   ],
   "source": [
    "df.loc[mask1, 'unitno'] = 8\n",
    "df.loc[mask1, 'unitno']"
   ]
  },
  {
   "cell_type": "markdown",
   "metadata": {},
   "source": [
    "#### 0.01"
   ]
  },
  {
   "cell_type": "code",
   "execution_count": 38,
   "metadata": {
    "pycharm": {
     "is_executing": false,
     "name": "#%%\n"
    }
   },
   "outputs": [
    {
     "data": {
      "text/plain": [
       "15864    0.01\n",
       "79209    0.01\n",
       "79401    0.01\n",
       "79466    0.01\n",
       "80108    0.01\n",
       "Name: unitno, dtype: float64"
      ]
     },
     "execution_count": 38,
     "metadata": {},
     "output_type": "execute_result"
    }
   ],
   "source": [
    "unit_no = df['unitno'].astype('str')\n",
    "mask1 = unit_no.str.match('0.01')\n",
    "df.loc[mask1, 'unitno']"
   ]
  },
  {
   "cell_type": "code",
   "execution_count": 39,
   "metadata": {
    "pycharm": {
     "is_executing": false,
     "name": "#%%\n"
    }
   },
   "outputs": [
    {
     "data": {
      "text/plain": [
       "15864    1.0\n",
       "79209    1.0\n",
       "79401    1.0\n",
       "79466    1.0\n",
       "80108    1.0\n",
       "Name: unitno, dtype: float64"
      ]
     },
     "execution_count": 39,
     "metadata": {},
     "output_type": "execute_result"
    }
   ],
   "source": [
    "df.loc[mask1, 'unitno'] = 1\n",
    "df.loc[mask1, 'unitno']"
   ]
  },
  {
   "cell_type": "markdown",
   "metadata": {},
   "source": [
    "#### 0.37"
   ]
  },
  {
   "cell_type": "code",
   "execution_count": 40,
   "metadata": {
    "pycharm": {
     "is_executing": false,
     "name": "#%%\n"
    }
   },
   "outputs": [
    {
     "data": {
      "text/plain": [
       "836947    0.37\n",
       "839733    0.37\n",
       "851318    0.37\n",
       "859826    0.37\n",
       "865485    0.37\n",
       "Name: unitno, dtype: float64"
      ]
     },
     "execution_count": 40,
     "metadata": {},
     "output_type": "execute_result"
    }
   ],
   "source": [
    "unit_no = df['unitno'].astype('str')\n",
    "mask1 = unit_no.str.match('0.37')\n",
    "df.loc[mask1, 'unitno']"
   ]
  },
  {
   "cell_type": "code",
   "execution_count": 41,
   "metadata": {
    "pycharm": {
     "is_executing": false,
     "name": "#%%\n"
    }
   },
   "outputs": [
    {
     "data": {
      "text/plain": [
       "836947    37.0\n",
       "839733    37.0\n",
       "851318    37.0\n",
       "859826    37.0\n",
       "865485    37.0\n",
       "Name: unitno, dtype: float64"
      ]
     },
     "execution_count": 41,
     "metadata": {},
     "output_type": "execute_result"
    }
   ],
   "source": [
    "df.loc[mask1, 'unitno'] = 37\n",
    "df.loc[mask1, 'unitno']"
   ]
  },
  {
   "cell_type": "markdown",
   "metadata": {},
   "source": [
    "#### 0.000815"
   ]
  },
  {
   "cell_type": "code",
   "execution_count": 42,
   "metadata": {
    "pycharm": {
     "is_executing": false,
     "name": "#%%\n"
    }
   },
   "outputs": [
    {
     "data": {
      "text/plain": [
       "4449760    0.000815\n",
       "4449761    0.000815\n",
       "4451595    0.000815\n",
       "4451596    0.000815\n",
       "Name: unitno, dtype: float64"
      ]
     },
     "execution_count": 42,
     "metadata": {},
     "output_type": "execute_result"
    }
   ],
   "source": [
    "unit_no = df['unitno'].astype('str')\n",
    "mask1 = unit_no.str.match('0.000815')\n",
    "df.loc[mask1, 'unitno']"
   ]
  },
  {
   "cell_type": "code",
   "execution_count": 43,
   "metadata": {
    "pycharm": {
     "is_executing": false,
     "name": "#%%\n"
    }
   },
   "outputs": [
    {
     "data": {
      "text/plain": [
       "4449760    815.0\n",
       "4449761    815.0\n",
       "4451595    815.0\n",
       "4451596    815.0\n",
       "Name: unitno, dtype: float64"
      ]
     },
     "execution_count": 43,
     "metadata": {},
     "output_type": "execute_result"
    }
   ],
   "source": [
    "df.loc[mask1, 'unitno'] = 815\n",
    "df.loc[mask1, 'unitno']"
   ]
  },
  {
   "cell_type": "markdown",
   "metadata": {},
   "source": [
    "#### 0.033"
   ]
  },
  {
   "cell_type": "code",
   "execution_count": 44,
   "metadata": {
    "pycharm": {
     "is_executing": false,
     "name": "#%%\n"
    }
   },
   "outputs": [
    {
     "data": {
      "text/plain": [
       "853092    0.033\n",
       "Name: unitno, dtype: float64"
      ]
     },
     "execution_count": 44,
     "metadata": {},
     "output_type": "execute_result"
    }
   ],
   "source": [
    "unit_no = df['unitno'].astype('str')\n",
    "mask1 = unit_no.str.match('0.033')\n",
    "df.loc[mask1, 'unitno']"
   ]
  },
  {
   "cell_type": "code",
   "execution_count": 45,
   "metadata": {
    "pycharm": {
     "is_executing": false,
     "name": "#%%\n"
    }
   },
   "outputs": [
    {
     "data": {
      "text/plain": [
       "853092    33.0\n",
       "Name: unitno, dtype: float64"
      ]
     },
     "execution_count": 45,
     "metadata": {},
     "output_type": "execute_result"
    }
   ],
   "source": [
    "df.loc[mask1, 'unitno'] = 33\n",
    "df.loc[mask1, 'unitno']"
   ]
  },
  {
   "cell_type": "markdown",
   "metadata": {},
   "source": [
    "#### 0.24"
   ]
  },
  {
   "cell_type": "code",
   "execution_count": 46,
   "metadata": {
    "pycharm": {
     "is_executing": false,
     "name": "#%%\n"
    }
   },
   "outputs": [
    {
     "data": {
      "text/plain": [
       "3419792    0.24\n",
       "3420014    0.24\n",
       "3420280    0.24\n",
       "3420497    0.24\n",
       "Name: unitno, dtype: float64"
      ]
     },
     "execution_count": 46,
     "metadata": {},
     "output_type": "execute_result"
    }
   ],
   "source": [
    "unit_no = df['unitno'].astype('str')\n",
    "mask1 = unit_no.str.match('0.24')\n",
    "df.loc[mask1, 'unitno']"
   ]
  },
  {
   "cell_type": "code",
   "execution_count": 47,
   "metadata": {
    "pycharm": {
     "is_executing": false,
     "name": "#%%\n"
    }
   },
   "outputs": [
    {
     "data": {
      "text/plain": [
       "3419792    24.0\n",
       "3420014    24.0\n",
       "3420280    24.0\n",
       "3420497    24.0\n",
       "Name: unitno, dtype: float64"
      ]
     },
     "execution_count": 47,
     "metadata": {},
     "output_type": "execute_result"
    }
   ],
   "source": [
    "df.loc[mask1, 'unitno'] = 24\n",
    "df.loc[mask1, 'unitno']"
   ]
  },
  {
   "cell_type": "markdown",
   "metadata": {},
   "source": [
    "#### 0.2"
   ]
  },
  {
   "cell_type": "code",
   "execution_count": 48,
   "metadata": {
    "pycharm": {
     "is_executing": false,
     "name": "#%%\n"
    }
   },
   "outputs": [
    {
     "data": {
      "text/plain": [
       "1319349    0.2\n",
       "3234526    0.2\n",
       "3234604    0.2\n",
       "3234681    0.2\n",
       "4333955    0.2\n",
       "4333977    0.2\n",
       "4334044    0.2\n",
       "4334046    0.2\n",
       "4334048    0.2\n",
       "4334051    0.2\n",
       "4334095    0.2\n",
       "4334132    0.2\n",
       "4334151    0.2\n",
       "4334191    0.2\n",
       "4334193    0.2\n",
       "4334202    0.2\n",
       "4334307    0.2\n",
       "4334326    0.2\n",
       "4334359    0.2\n",
       "4334360    0.2\n",
       "4334361    0.2\n",
       "4334366    0.2\n",
       "4334399    0.2\n",
       "Name: unitno, dtype: float64"
      ]
     },
     "execution_count": 48,
     "metadata": {},
     "output_type": "execute_result"
    }
   ],
   "source": [
    "unit_no = df['unitno'].astype('str')\n",
    "mask1 = unit_no.str.match('0.2')\n",
    "df.loc[mask1, 'unitno']"
   ]
  },
  {
   "cell_type": "code",
   "execution_count": 49,
   "metadata": {
    "pycharm": {
     "is_executing": false,
     "name": "#%%\n"
    }
   },
   "outputs": [
    {
     "data": {
      "text/plain": [
       "1319349    2.0\n",
       "3234526    2.0\n",
       "3234604    2.0\n",
       "3234681    2.0\n",
       "4333955    2.0\n",
       "4333977    2.0\n",
       "4334044    2.0\n",
       "4334046    2.0\n",
       "4334048    2.0\n",
       "4334051    2.0\n",
       "4334095    2.0\n",
       "4334132    2.0\n",
       "4334151    2.0\n",
       "4334191    2.0\n",
       "4334193    2.0\n",
       "4334202    2.0\n",
       "4334307    2.0\n",
       "4334326    2.0\n",
       "4334359    2.0\n",
       "4334360    2.0\n",
       "4334361    2.0\n",
       "4334366    2.0\n",
       "4334399    2.0\n",
       "Name: unitno, dtype: float64"
      ]
     },
     "execution_count": 49,
     "metadata": {},
     "output_type": "execute_result"
    }
   ],
   "source": [
    "df.loc[mask1, 'unitno'] = 2\n",
    "df.loc[mask1, 'unitno']"
   ]
  },
  {
   "cell_type": "markdown",
   "metadata": {},
   "source": [
    "#### 0.003"
   ]
  },
  {
   "cell_type": "code",
   "execution_count": 50,
   "metadata": {
    "pycharm": {
     "is_executing": false,
     "name": "#%%\n"
    }
   },
   "outputs": [
    {
     "data": {
      "text/plain": [
       "4334036    0.003\n",
       "4334059    0.003\n",
       "4334110    0.003\n",
       "4334131    0.003\n",
       "4334172    0.003\n",
       "4334213    0.003\n",
       "4334316    0.003\n",
       "4334327    0.003\n",
       "4334343    0.003\n",
       "Name: unitno, dtype: float64"
      ]
     },
     "execution_count": 50,
     "metadata": {},
     "output_type": "execute_result"
    }
   ],
   "source": [
    "unit_no = df['unitno'].astype('str')\n",
    "mask1 = unit_no.str.match('0.003')\n",
    "df.loc[mask1, 'unitno']"
   ]
  },
  {
   "cell_type": "code",
   "execution_count": 51,
   "metadata": {
    "pycharm": {
     "is_executing": false,
     "name": "#%%\n"
    }
   },
   "outputs": [
    {
     "data": {
      "text/plain": [
       "4334036    3.0\n",
       "4334059    3.0\n",
       "4334110    3.0\n",
       "4334131    3.0\n",
       "4334172    3.0\n",
       "4334213    3.0\n",
       "4334316    3.0\n",
       "4334327    3.0\n",
       "4334343    3.0\n",
       "Name: unitno, dtype: float64"
      ]
     },
     "execution_count": 51,
     "metadata": {},
     "output_type": "execute_result"
    }
   ],
   "source": [
    "df.loc[mask1, 'unitno'] = 3\n",
    "df.loc[mask1, 'unitno']"
   ]
  },
  {
   "cell_type": "markdown",
   "metadata": {},
   "source": [
    "#### 0.04"
   ]
  },
  {
   "cell_type": "code",
   "execution_count": 52,
   "metadata": {
    "pycharm": {
     "is_executing": false,
     "name": "#%%\n"
    }
   },
   "outputs": [
    {
     "data": {
      "text/plain": [
       "4334115    0.04\n",
       "4334303    0.04\n",
       "Name: unitno, dtype: float64"
      ]
     },
     "execution_count": 52,
     "metadata": {},
     "output_type": "execute_result"
    }
   ],
   "source": [
    "unit_no = df['unitno'].astype('str')\n",
    "mask1 = unit_no.str.match('0.04')\n",
    "df.loc[mask1, 'unitno']"
   ]
  },
  {
   "cell_type": "code",
   "execution_count": 53,
   "metadata": {
    "pycharm": {
     "is_executing": false,
     "name": "#%%\n"
    }
   },
   "outputs": [
    {
     "data": {
      "text/plain": [
       "4334115    4.0\n",
       "4334303    4.0\n",
       "Name: unitno, dtype: float64"
      ]
     },
     "execution_count": 53,
     "metadata": {},
     "output_type": "execute_result"
    }
   ],
   "source": [
    "df.loc[mask1, 'unitno'] = 4\n",
    "df.loc[mask1, 'unitno']"
   ]
  },
  {
   "cell_type": "markdown",
   "metadata": {},
   "source": [
    "#### 0.001"
   ]
  },
  {
   "cell_type": "code",
   "execution_count": 54,
   "metadata": {
    "pycharm": {
     "is_executing": false,
     "name": "#%%\n"
    }
   },
   "outputs": [
    {
     "data": {
      "text/plain": [
       "2611651    0.001\n",
       "2612401    0.001\n",
       "2612402    0.001\n",
       "2612406    0.001\n",
       "2612736    0.001\n",
       "2612737    0.001\n",
       "2612738    0.001\n",
       "Name: unitno, dtype: float64"
      ]
     },
     "execution_count": 54,
     "metadata": {},
     "output_type": "execute_result"
    }
   ],
   "source": [
    "unit_no = df['unitno'].astype('str')\n",
    "mask1 = unit_no.str.match('0.001')\n",
    "df.loc[mask1, 'unitno']"
   ]
  },
  {
   "cell_type": "code",
   "execution_count": 55,
   "metadata": {
    "pycharm": {
     "is_executing": false,
     "name": "#%%\n"
    }
   },
   "outputs": [
    {
     "data": {
      "text/plain": [
       "2611651    1.0\n",
       "2612401    1.0\n",
       "2612402    1.0\n",
       "2612406    1.0\n",
       "2612736    1.0\n",
       "2612737    1.0\n",
       "2612738    1.0\n",
       "Name: unitno, dtype: float64"
      ]
     },
     "execution_count": 55,
     "metadata": {},
     "output_type": "execute_result"
    }
   ],
   "source": [
    "df.loc[mask1, 'unitno'] = 1\n",
    "df.loc[mask1, 'unitno']"
   ]
  },
  {
   "cell_type": "markdown",
   "metadata": {},
   "source": [
    "#### 0.0026"
   ]
  },
  {
   "cell_type": "code",
   "execution_count": 56,
   "metadata": {
    "pycharm": {
     "is_executing": false,
     "name": "#%%\n"
    }
   },
   "outputs": [
    {
     "data": {
      "text/plain": [
       "2898643    0.0026\n",
       "2900742    0.0026\n",
       "2902337    0.0026\n",
       "Name: unitno, dtype: float64"
      ]
     },
     "execution_count": 56,
     "metadata": {},
     "output_type": "execute_result"
    }
   ],
   "source": [
    "unit_no = df['unitno'].astype('str')\n",
    "mask1 = unit_no.str.match('0.0026')\n",
    "df.loc[mask1, 'unitno']"
   ]
  },
  {
   "cell_type": "code",
   "execution_count": 57,
   "metadata": {
    "pycharm": {
     "is_executing": false,
     "name": "#%%\n"
    }
   },
   "outputs": [
    {
     "data": {
      "text/plain": [
       "2898643    26.0\n",
       "2900742    26.0\n",
       "2902337    26.0\n",
       "Name: unitno, dtype: float64"
      ]
     },
     "execution_count": 57,
     "metadata": {},
     "output_type": "execute_result"
    }
   ],
   "source": [
    "df.loc[mask1, 'unitno'] = 26\n",
    "df.loc[mask1, 'unitno']"
   ]
  },
  {
   "cell_type": "markdown",
   "metadata": {},
   "source": [
    "#### 0.0024"
   ]
  },
  {
   "cell_type": "code",
   "execution_count": 58,
   "metadata": {
    "pycharm": {
     "is_executing": false,
     "name": "#%%\n"
    }
   },
   "outputs": [
    {
     "data": {
      "text/plain": [
       "1288106    0.0024\n",
       "1288473    0.0024\n",
       "Name: unitno, dtype: float64"
      ]
     },
     "execution_count": 58,
     "metadata": {},
     "output_type": "execute_result"
    }
   ],
   "source": [
    "unit_no = df['unitno'].astype('str')\n",
    "mask1 = unit_no.str.match('0.0024')\n",
    "df.loc[mask1, 'unitno']"
   ]
  },
  {
   "cell_type": "code",
   "execution_count": 59,
   "metadata": {
    "pycharm": {
     "is_executing": false,
     "name": "#%%\n"
    }
   },
   "outputs": [
    {
     "data": {
      "text/plain": [
       "1288106    24.0\n",
       "1288473    24.0\n",
       "Name: unitno, dtype: float64"
      ]
     },
     "execution_count": 59,
     "metadata": {},
     "output_type": "execute_result"
    }
   ],
   "source": [
    "df.loc[mask1, 'unitno'] = 24\n",
    "df.loc[mask1, 'unitno']"
   ]
  },
  {
   "cell_type": "markdown",
   "metadata": {},
   "source": [
    "#### 0.66"
   ]
  },
  {
   "cell_type": "code",
   "execution_count": 60,
   "metadata": {
    "pycharm": {
     "is_executing": false,
     "name": "#%%\n"
    }
   },
   "outputs": [
    {
     "data": {
      "text/plain": [
       "3861714    0.66\n",
       "3862038    0.66\n",
       "3862261    0.66\n",
       "3868526    0.66\n",
       "3870335    0.66\n",
       "Name: unitno, dtype: float64"
      ]
     },
     "execution_count": 60,
     "metadata": {},
     "output_type": "execute_result"
    }
   ],
   "source": [
    "unit_no = df['unitno'].astype('str')\n",
    "mask1 = unit_no.str.match('0.66')\n",
    "df.loc[mask1, 'unitno']"
   ]
  },
  {
   "cell_type": "code",
   "execution_count": 61,
   "metadata": {
    "pycharm": {
     "is_executing": false,
     "name": "#%%\n"
    }
   },
   "outputs": [
    {
     "data": {
      "text/plain": [
       "3861714    66.0\n",
       "3862038    66.0\n",
       "3862261    66.0\n",
       "3868526    66.0\n",
       "3870335    66.0\n",
       "Name: unitno, dtype: float64"
      ]
     },
     "execution_count": 61,
     "metadata": {},
     "output_type": "execute_result"
    }
   ],
   "source": [
    "df.loc[mask1, 'unitno'] = 66\n",
    "df.loc[mask1, 'unitno']"
   ]
  },
  {
   "cell_type": "markdown",
   "metadata": {},
   "source": [
    "#### 0.83"
   ]
  },
  {
   "cell_type": "code",
   "execution_count": 62,
   "metadata": {
    "pycharm": {
     "is_executing": false,
     "name": "#%%\n"
    }
   },
   "outputs": [
    {
     "data": {
      "text/plain": [
       "1067331    0.83\n",
       "1067875    0.83\n",
       "1069031    0.83\n",
       "Name: unitno, dtype: float64"
      ]
     },
     "execution_count": 62,
     "metadata": {},
     "output_type": "execute_result"
    }
   ],
   "source": [
    "unit_no = df['unitno'].astype('str')\n",
    "mask1 = unit_no.str.match('0.83')\n",
    "df.loc[mask1, 'unitno']"
   ]
  },
  {
   "cell_type": "code",
   "execution_count": 63,
   "metadata": {
    "pycharm": {
     "is_executing": false,
     "name": "#%%\n"
    }
   },
   "outputs": [
    {
     "data": {
      "text/plain": [
       "1067331    83.0\n",
       "1067875    83.0\n",
       "1069031    83.0\n",
       "Name: unitno, dtype: float64"
      ]
     },
     "execution_count": 63,
     "metadata": {},
     "output_type": "execute_result"
    }
   ],
   "source": [
    "df.loc[mask1, 'unitno'] = 83\n",
    "df.loc[mask1, 'unitno']"
   ]
  },
  {
   "cell_type": "markdown",
   "metadata": {},
   "source": [
    "#### 3.01"
   ]
  },
  {
   "cell_type": "code",
   "execution_count": 64,
   "metadata": {
    "pycharm": {
     "is_executing": false,
     "name": "#%%\n"
    }
   },
   "outputs": [
    {
     "data": {
      "text/plain": [
       "1927295    3.01\n",
       "1927296    3.01\n",
       "1927297    3.01\n",
       "1927298    3.01\n",
       "1927363    3.01\n",
       "1927364    3.01\n",
       "1927365    3.01\n",
       "1927366    3.01\n",
       "Name: unitno, dtype: float64"
      ]
     },
     "execution_count": 64,
     "metadata": {},
     "output_type": "execute_result"
    }
   ],
   "source": [
    "unit_no = df['unitno'].astype('str')\n",
    "mask1 = unit_no.str.match('^3.01$')\n",
    "df.loc[mask1, 'unitno']"
   ]
  },
  {
   "cell_type": "code",
   "execution_count": 65,
   "metadata": {
    "pycharm": {
     "is_executing": false,
     "name": "#%%\n"
    }
   },
   "outputs": [
    {
     "data": {
      "text/plain": [
       "1927295    301.0\n",
       "1927296    301.0\n",
       "1927297    301.0\n",
       "1927298    301.0\n",
       "1927363    301.0\n",
       "1927364    301.0\n",
       "1927365    301.0\n",
       "1927366    301.0\n",
       "Name: unitno, dtype: float64"
      ]
     },
     "execution_count": 65,
     "metadata": {},
     "output_type": "execute_result"
    }
   ],
   "source": [
    "df.loc[mask1, 'unitno'] = 301\n",
    "df.loc[mask1, 'unitno']"
   ]
  },
  {
   "cell_type": "markdown",
   "metadata": {},
   "source": [
    "#### 1.5"
   ]
  },
  {
   "cell_type": "code",
   "execution_count": 66,
   "metadata": {
    "pycharm": {
     "is_executing": false,
     "name": "#%%\n"
    }
   },
   "outputs": [
    {
     "data": {
      "text/plain": [
       "801960    1.5\n",
       "803259    1.5\n",
       "Name: unitno, dtype: float64"
      ]
     },
     "execution_count": 66,
     "metadata": {},
     "output_type": "execute_result"
    }
   ],
   "source": [
    "unit_no = df['unitno'].astype('str')\n",
    "mask1 = unit_no.str.match('^1.5$')\n",
    "df.loc[mask1, 'unitno']"
   ]
  },
  {
   "cell_type": "code",
   "execution_count": 67,
   "metadata": {
    "pycharm": {
     "is_executing": false,
     "name": "#%%\n"
    }
   },
   "outputs": [
    {
     "data": {
      "text/plain": [
       "801960    15.0\n",
       "803259    15.0\n",
       "Name: unitno, dtype: float64"
      ]
     },
     "execution_count": 67,
     "metadata": {},
     "output_type": "execute_result"
    }
   ],
   "source": [
    "df.loc[mask1, 'unitno'] = 15\n",
    "df.loc[mask1, 'unitno']"
   ]
  },
  {
   "cell_type": "markdown",
   "metadata": {},
   "source": [
    "#### 1.6"
   ]
  },
  {
   "cell_type": "code",
   "execution_count": 68,
   "metadata": {
    "pycharm": {
     "is_executing": false,
     "name": "#%%\n"
    }
   },
   "outputs": [
    {
     "data": {
      "text/plain": [
       "801961    1.6\n",
       "803262    1.6\n",
       "Name: unitno, dtype: float64"
      ]
     },
     "execution_count": 68,
     "metadata": {},
     "output_type": "execute_result"
    }
   ],
   "source": [
    "unit_no = df['unitno'].astype('str')\n",
    "mask1 = unit_no.str.match('^1.6$')\n",
    "df.loc[mask1, 'unitno']"
   ]
  },
  {
   "cell_type": "code",
   "execution_count": 69,
   "metadata": {
    "pycharm": {
     "is_executing": false,
     "name": "#%%\n"
    }
   },
   "outputs": [
    {
     "data": {
      "text/plain": [
       "801961    16.0\n",
       "803262    16.0\n",
       "Name: unitno, dtype: float64"
      ]
     },
     "execution_count": 69,
     "metadata": {},
     "output_type": "execute_result"
    }
   ],
   "source": [
    "df.loc[mask1, 'unitno'] = 16\n",
    "df.loc[mask1, 'unitno']"
   ]
  },
  {
   "cell_type": "markdown",
   "metadata": {},
   "source": [
    "#### 4.2"
   ]
  },
  {
   "cell_type": "code",
   "execution_count": 70,
   "metadata": {
    "pycharm": {
     "is_executing": false,
     "name": "#%%\n"
    }
   },
   "outputs": [
    {
     "data": {
      "text/plain": [
       "6239629    4.2\n",
       "6244112    4.2\n",
       "Name: unitno, dtype: float64"
      ]
     },
     "execution_count": 70,
     "metadata": {},
     "output_type": "execute_result"
    }
   ],
   "source": [
    "unit_no = df['unitno'].astype('str')\n",
    "mask1 = unit_no.str.match('^4.2$')\n",
    "df.loc[mask1, 'unitno']"
   ]
  },
  {
   "cell_type": "code",
   "execution_count": 71,
   "metadata": {
    "pycharm": {
     "is_executing": false,
     "name": "#%%\n"
    }
   },
   "outputs": [
    {
     "data": {
      "text/plain": [
       "6239629    42.0\n",
       "6244112    42.0\n",
       "Name: unitno, dtype: float64"
      ]
     },
     "execution_count": 71,
     "metadata": {},
     "output_type": "execute_result"
    }
   ],
   "source": [
    "df.loc[mask1, 'unitno'] = 42\n",
    "df.loc[mask1, 'unitno']"
   ]
  },
  {
   "cell_type": "markdown",
   "metadata": {},
   "source": [
    "#### 7.9"
   ]
  },
  {
   "cell_type": "code",
   "execution_count": 72,
   "metadata": {
    "pycharm": {
     "is_executing": false,
     "name": "#%%\n"
    }
   },
   "outputs": [
    {
     "data": {
      "text/plain": [
       "2994453    7.9\n",
       "2995955    7.9\n",
       "Name: unitno, dtype: float64"
      ]
     },
     "execution_count": 72,
     "metadata": {},
     "output_type": "execute_result"
    }
   ],
   "source": [
    "unit_no = df['unitno'].astype('str')\n",
    "mask1 = unit_no.str.match('^7.9$')\n",
    "df.loc[mask1, 'unitno']"
   ]
  },
  {
   "cell_type": "code",
   "execution_count": 73,
   "metadata": {
    "pycharm": {
     "is_executing": false,
     "name": "#%%\n"
    }
   },
   "outputs": [
    {
     "data": {
      "text/plain": [
       "2994453    79.0\n",
       "2995955    79.0\n",
       "Name: unitno, dtype: float64"
      ]
     },
     "execution_count": 73,
     "metadata": {},
     "output_type": "execute_result"
    }
   ],
   "source": [
    "df.loc[mask1, 'unitno'] = 79\n",
    "df.loc[mask1, 'unitno']"
   ]
  },
  {
   "cell_type": "markdown",
   "metadata": {},
   "source": [
    "#### 1.9"
   ]
  },
  {
   "cell_type": "code",
   "execution_count": 74,
   "metadata": {
    "pycharm": {
     "is_executing": false,
     "name": "#%%\n"
    }
   },
   "outputs": [
    {
     "data": {
      "text/plain": [
       "2734867    1.9\n",
       "2735282    1.9\n",
       "2735589    1.9\n",
       "Name: unitno, dtype: float64"
      ]
     },
     "execution_count": 74,
     "metadata": {},
     "output_type": "execute_result"
    }
   ],
   "source": [
    "unit_no = df['unitno'].astype('str')\n",
    "mask1 = unit_no.str.match('^1.9$')\n",
    "df.loc[mask1, 'unitno']"
   ]
  },
  {
   "cell_type": "code",
   "execution_count": 75,
   "metadata": {
    "pycharm": {
     "is_executing": false,
     "name": "#%%\n"
    }
   },
   "outputs": [
    {
     "data": {
      "text/plain": [
       "2734867    19.0\n",
       "2735282    19.0\n",
       "2735589    19.0\n",
       "Name: unitno, dtype: float64"
      ]
     },
     "execution_count": 75,
     "metadata": {},
     "output_type": "execute_result"
    }
   ],
   "source": [
    "df.loc[mask1, 'unitno'] = 19\n",
    "df.loc[mask1, 'unitno']"
   ]
  },
  {
   "cell_type": "markdown",
   "metadata": {},
   "source": [
    "#### 9.5"
   ]
  },
  {
   "cell_type": "code",
   "execution_count": 76,
   "metadata": {
    "pycharm": {
     "is_executing": false,
     "name": "#%%\n"
    }
   },
   "outputs": [
    {
     "data": {
      "text/plain": [
       "2672326    9.5\n",
       "2673367    9.5\n",
       "2675542    9.5\n",
       "2675544    9.5\n",
       "Name: unitno, dtype: float64"
      ]
     },
     "execution_count": 76,
     "metadata": {},
     "output_type": "execute_result"
    }
   ],
   "source": [
    "unit_no = df['unitno'].astype('str')\n",
    "mask1 = unit_no.str.match('^9.5$')\n",
    "df.loc[mask1, 'unitno']"
   ]
  },
  {
   "cell_type": "code",
   "execution_count": 77,
   "metadata": {
    "pycharm": {
     "is_executing": false,
     "name": "#%%\n"
    }
   },
   "outputs": [
    {
     "data": {
      "text/plain": [
       "2672326    95.0\n",
       "2673367    95.0\n",
       "2675542    95.0\n",
       "2675544    95.0\n",
       "Name: unitno, dtype: float64"
      ]
     },
     "execution_count": 77,
     "metadata": {},
     "output_type": "execute_result"
    }
   ],
   "source": [
    "df.loc[mask1, 'unitno'] = 95\n",
    "df.loc[mask1, 'unitno']"
   ]
  },
  {
   "cell_type": "markdown",
   "metadata": {},
   "source": [
    "#### 0.02, 0.002, and 0.0002"
   ]
  },
  {
   "cell_type": "code",
   "execution_count": 78,
   "metadata": {
    "pycharm": {
     "is_executing": false,
     "name": "#%%\n"
    }
   },
   "outputs": [
    {
     "data": {
      "text/plain": [
       "1319359    0.0020\n",
       "1319553    0.0200\n",
       "1319601    0.0002\n",
       "1320397    0.0200\n",
       "Name: unitno, dtype: float64"
      ]
     },
     "execution_count": 78,
     "metadata": {},
     "output_type": "execute_result"
    }
   ],
   "source": [
    "unit_no = df['unitno'].astype('str')\n",
    "mask1 = unit_no.str.match('^0')\n",
    "mask2 = unit_no.str.contains('2')\n",
    "df.loc[mask1 & mask2, 'unitno']"
   ]
  },
  {
   "cell_type": "code",
   "execution_count": 79,
   "metadata": {
    "pycharm": {
     "is_executing": false,
     "name": "#%%\n"
    }
   },
   "outputs": [
    {
     "data": {
      "text/plain": [
       "1319359    2.0\n",
       "1319553    2.0\n",
       "1319601    2.0\n",
       "1320397    2.0\n",
       "Name: unitno, dtype: float64"
      ]
     },
     "execution_count": 79,
     "metadata": {},
     "output_type": "execute_result"
    }
   ],
   "source": [
    "df.loc[mask1 & mask2, 'unitno'] = 2\n",
    "df.loc[mask1 & mask2, 'unitno']"
   ]
  },
  {
   "cell_type": "markdown",
   "metadata": {},
   "source": [
    "#### 4.7"
   ]
  },
  {
   "cell_type": "code",
   "execution_count": 80,
   "metadata": {
    "pycharm": {
     "is_executing": false,
     "name": "#%%\n"
    }
   },
   "outputs": [
    {
     "data": {
      "text/plain": [
       "853093    4.7\n",
       "Name: unitno, dtype: float64"
      ]
     },
     "execution_count": 80,
     "metadata": {},
     "output_type": "execute_result"
    }
   ],
   "source": [
    "unit_no = df['unitno'].astype('str')\n",
    "mask1 = unit_no.str.match('^4.7$')\n",
    "df.loc[mask1, 'unitno']"
   ]
  },
  {
   "cell_type": "code",
   "execution_count": 81,
   "metadata": {
    "pycharm": {
     "is_executing": false,
     "name": "#%%\n"
    }
   },
   "outputs": [
    {
     "data": {
      "text/plain": [
       "853093    47.0\n",
       "Name: unitno, dtype: float64"
      ]
     },
     "execution_count": 81,
     "metadata": {},
     "output_type": "execute_result"
    }
   ],
   "source": [
    "df.loc[mask1, 'unitno'] = 47\n",
    "df.loc[mask1, 'unitno']"
   ]
  },
  {
   "cell_type": "markdown",
   "metadata": {},
   "source": [
    "#### 6.5"
   ]
  },
  {
   "cell_type": "code",
   "execution_count": 82,
   "metadata": {
    "pycharm": {
     "is_executing": false,
     "name": "#%%\n"
    }
   },
   "outputs": [
    {
     "data": {
      "text/plain": [
       "1962991    6.5\n",
       "Name: unitno, dtype: float64"
      ]
     },
     "execution_count": 82,
     "metadata": {},
     "output_type": "execute_result"
    }
   ],
   "source": [
    "unit_no = df['unitno'].astype('str')\n",
    "mask1 = unit_no.str.match('^6.5$')\n",
    "df.loc[mask1, 'unitno']"
   ]
  },
  {
   "cell_type": "code",
   "execution_count": 83,
   "metadata": {
    "pycharm": {
     "is_executing": false,
     "name": "#%%\n"
    }
   },
   "outputs": [
    {
     "data": {
      "text/plain": [
       "1962991    65.0\n",
       "Name: unitno, dtype: float64"
      ]
     },
     "execution_count": 83,
     "metadata": {},
     "output_type": "execute_result"
    }
   ],
   "source": [
    "df.loc[mask1, 'unitno'] = 65\n",
    "df.loc[mask1, 'unitno']"
   ]
  },
  {
   "cell_type": "markdown",
   "metadata": {},
   "source": [
    "#### 3.5"
   ]
  },
  {
   "cell_type": "code",
   "execution_count": 84,
   "metadata": {
    "pycharm": {
     "is_executing": false,
     "name": "#%%\n"
    }
   },
   "outputs": [
    {
     "data": {
      "text/plain": [
       "1962995    3.5\n",
       "Name: unitno, dtype: float64"
      ]
     },
     "execution_count": 84,
     "metadata": {},
     "output_type": "execute_result"
    }
   ],
   "source": [
    "unit_no = df['unitno'].astype('str')\n",
    "mask1 = unit_no.str.match('^3.5$')\n",
    "df.loc[mask1, 'unitno']"
   ]
  },
  {
   "cell_type": "code",
   "execution_count": 85,
   "metadata": {
    "pycharm": {
     "is_executing": false,
     "name": "#%%\n"
    }
   },
   "outputs": [
    {
     "data": {
      "text/plain": [
       "1962995    35.0\n",
       "Name: unitno, dtype: float64"
      ]
     },
     "execution_count": 85,
     "metadata": {},
     "output_type": "execute_result"
    }
   ],
   "source": [
    "df.loc[mask1, 'unitno'] = 35\n",
    "df.loc[mask1, 'unitno']"
   ]
  },
  {
   "cell_type": "markdown",
   "metadata": {},
   "source": [
    "#### 16.9"
   ]
  },
  {
   "cell_type": "code",
   "execution_count": 86,
   "metadata": {
    "pycharm": {
     "is_executing": false,
     "name": "#%%\n"
    }
   },
   "outputs": [
    {
     "data": {
      "text/plain": [
       "1963015    16.9\n",
       "1963083    16.9\n",
       "1964150    16.9\n",
       "Name: unitno, dtype: float64"
      ]
     },
     "execution_count": 86,
     "metadata": {},
     "output_type": "execute_result"
    }
   ],
   "source": [
    "unit_no = df['unitno'].astype('str')\n",
    "mask1 = unit_no.str.match('^16.9$')\n",
    "df.loc[mask1, 'unitno']"
   ]
  },
  {
   "cell_type": "code",
   "execution_count": 87,
   "metadata": {
    "pycharm": {
     "is_executing": false,
     "name": "#%%\n"
    }
   },
   "outputs": [
    {
     "data": {
      "text/plain": [
       "1963015    169.0\n",
       "1963083    169.0\n",
       "1964150    169.0\n",
       "Name: unitno, dtype: float64"
      ]
     },
     "execution_count": 87,
     "metadata": {},
     "output_type": "execute_result"
    }
   ],
   "source": [
    "df.loc[mask1, 'unitno'] = 169\n",
    "df.loc[mask1, 'unitno']"
   ]
  },
  {
   "cell_type": "markdown",
   "metadata": {},
   "source": [
    "#### 10.4"
   ]
  },
  {
   "cell_type": "code",
   "execution_count": 88,
   "metadata": {
    "pycharm": {
     "is_executing": false,
     "name": "#%%\n"
    }
   },
   "outputs": [
    {
     "data": {
      "text/plain": [
       "1963052    10.4\n",
       "1964021    10.4\n",
       "Name: unitno, dtype: float64"
      ]
     },
     "execution_count": 88,
     "metadata": {},
     "output_type": "execute_result"
    }
   ],
   "source": [
    "unit_no = df['unitno'].astype('str')\n",
    "mask1 = unit_no.str.match('^10.4$')\n",
    "df.loc[mask1, 'unitno']"
   ]
  },
  {
   "cell_type": "code",
   "execution_count": 89,
   "metadata": {
    "pycharm": {
     "is_executing": false,
     "name": "#%%\n"
    }
   },
   "outputs": [
    {
     "data": {
      "text/plain": [
       "1963052    104.0\n",
       "1964021    104.0\n",
       "Name: unitno, dtype: float64"
      ]
     },
     "execution_count": 89,
     "metadata": {},
     "output_type": "execute_result"
    }
   ],
   "source": [
    "df.loc[mask1, 'unitno'] = 104\n",
    "df.loc[mask1, 'unitno']"
   ]
  },
  {
   "cell_type": "markdown",
   "metadata": {},
   "source": [
    "#### 17.2"
   ]
  },
  {
   "cell_type": "code",
   "execution_count": 90,
   "metadata": {
    "pycharm": {
     "is_executing": false,
     "name": "#%%\n"
    }
   },
   "outputs": [
    {
     "data": {
      "text/plain": [
       "1963129    17.2\n",
       "1964272    17.2\n",
       "Name: unitno, dtype: float64"
      ]
     },
     "execution_count": 90,
     "metadata": {},
     "output_type": "execute_result"
    }
   ],
   "source": [
    "unit_no = df['unitno'].astype('str')\n",
    "mask1 = unit_no.str.match('^17.2$')\n",
    "df.loc[mask1, 'unitno']"
   ]
  },
  {
   "cell_type": "code",
   "execution_count": 91,
   "metadata": {
    "pycharm": {
     "is_executing": false,
     "name": "#%%\n"
    }
   },
   "outputs": [
    {
     "data": {
      "text/plain": [
       "1963129    172.0\n",
       "1964272    172.0\n",
       "Name: unitno, dtype: float64"
      ]
     },
     "execution_count": 91,
     "metadata": {},
     "output_type": "execute_result"
    }
   ],
   "source": [
    "df.loc[mask1, 'unitno'] = 172\n",
    "df.loc[mask1, 'unitno']"
   ]
  },
  {
   "cell_type": "markdown",
   "metadata": {},
   "source": [
    "#### 16.2"
   ]
  },
  {
   "cell_type": "code",
   "execution_count": 92,
   "metadata": {
    "pycharm": {
     "is_executing": false,
     "name": "#%%\n"
    }
   },
   "outputs": [
    {
     "data": {
      "text/plain": [
       "1964881    16.2\n",
       "Name: unitno, dtype: float64"
      ]
     },
     "execution_count": 92,
     "metadata": {},
     "output_type": "execute_result"
    }
   ],
   "source": [
    "unit_no = df['unitno'].astype('str')\n",
    "mask1 = unit_no.str.match('^16.2$')\n",
    "df.loc[mask1, 'unitno']"
   ]
  },
  {
   "cell_type": "code",
   "execution_count": 93,
   "metadata": {
    "pycharm": {
     "is_executing": false,
     "name": "#%%\n"
    }
   },
   "outputs": [
    {
     "data": {
      "text/plain": [
       "1964881    162.0\n",
       "Name: unitno, dtype: float64"
      ]
     },
     "execution_count": 93,
     "metadata": {},
     "output_type": "execute_result"
    }
   ],
   "source": [
    "df.loc[mask1, 'unitno'] = 162\n",
    "df.loc[mask1, 'unitno']"
   ]
  },
  {
   "cell_type": "markdown",
   "metadata": {},
   "source": [
    "#### 16.1"
   ]
  },
  {
   "cell_type": "code",
   "execution_count": 94,
   "metadata": {
    "pycharm": {
     "is_executing": false,
     "name": "#%%\n"
    }
   },
   "outputs": [
    {
     "data": {
      "text/plain": [
       "1964945    16.1\n",
       "Name: unitno, dtype: float64"
      ]
     },
     "execution_count": 94,
     "metadata": {},
     "output_type": "execute_result"
    }
   ],
   "source": [
    "unit_no = df['unitno'].astype('str')\n",
    "mask1 = unit_no.str.match('^16.1$')\n",
    "df.loc[mask1, 'unitno']"
   ]
  },
  {
   "cell_type": "code",
   "execution_count": 95,
   "metadata": {
    "pycharm": {
     "is_executing": false,
     "name": "#%%\n"
    }
   },
   "outputs": [
    {
     "data": {
      "text/plain": [
       "1964945    161.0\n",
       "Name: unitno, dtype: float64"
      ]
     },
     "execution_count": 95,
     "metadata": {},
     "output_type": "execute_result"
    }
   ],
   "source": [
    "df.loc[mask1, 'unitno'] = 161\n",
    "df.loc[mask1, 'unitno']"
   ]
  },
  {
   "cell_type": "markdown",
   "metadata": {},
   "source": [
    "#### 16.5"
   ]
  },
  {
   "cell_type": "code",
   "execution_count": 96,
   "metadata": {
    "pycharm": {
     "is_executing": false,
     "name": "#%%\n"
    }
   },
   "outputs": [
    {
     "data": {
      "text/plain": [
       "1964951    16.5\n",
       "Name: unitno, dtype: float64"
      ]
     },
     "execution_count": 96,
     "metadata": {},
     "output_type": "execute_result"
    }
   ],
   "source": [
    "unit_no = df['unitno'].astype('str')\n",
    "mask1 = unit_no.str.match('^16.5$')\n",
    "df.loc[mask1, 'unitno']"
   ]
  },
  {
   "cell_type": "code",
   "execution_count": 97,
   "metadata": {
    "pycharm": {
     "is_executing": false,
     "name": "#%%\n"
    }
   },
   "outputs": [
    {
     "data": {
      "text/plain": [
       "1964951    165.0\n",
       "Name: unitno, dtype: float64"
      ]
     },
     "execution_count": 97,
     "metadata": {},
     "output_type": "execute_result"
    }
   ],
   "source": [
    "df.loc[mask1, 'unitno'] = 165\n",
    "df.loc[mask1, 'unitno']"
   ]
  },
  {
   "cell_type": "markdown",
   "metadata": {
    "pycharm": {
     "name": "#%% md\n"
    }
   },
   "source": [
    "#### All erratic values in column `unitno` have been fixed\n",
    "Column `unitno` can be converted to `integer` data type without any loss of information (verified below).\n",
    "This will be performed upon entry of Teranet data into PostgreSQL, as Pandas library in Python [does not have](https://pandas.pydata.org/pandas-docs/stable/user_guide/gotchas.html#support-for-integer-na) an efficient representation of missing values for `integer` data type."
   ]
  },
  {
   "cell_type": "code",
   "execution_count": 98,
   "metadata": {
    "pycharm": {
     "is_executing": false,
     "name": "#%%\n"
    }
   },
   "outputs": [
    {
     "data": {
      "text/plain": [
       "Series([], Name: unitno, dtype: float64)"
      ]
     },
     "execution_count": 98,
     "metadata": {},
     "output_type": "execute_result"
    }
   ],
   "source": [
    "unit_no = df['unitno'].dropna().astype('int')\n",
    "mask1 = unit_no != df['unitno'].dropna()\n",
    "df.dropna(subset=['unitno']).loc[mask1, 'unitno']"
   ]
  },
  {
   "cell_type": "markdown",
   "metadata": {
    "pycharm": {
     "name": "#%% md\n"
    }
   },
   "source": [
    "### Inconsistent values in column `street_name`\n",
    "Column `street_name` has many inconsistent entries. However, since fixing all of them presents a time-intensive task, it makes more sense to perform targeted corrections in the future for particular streets of interest. At the moment, no changes to values of `street_name` have been made.\n",
    "\n",
    "Below are some examples of inconsistent entries in column `street_name`"
   ]
  },
  {
   "cell_type": "markdown",
   "metadata": {},
   "source": [
    "#### Bathhurst street"
   ]
  },
  {
   "cell_type": "code",
   "execution_count": 99,
   "metadata": {
    "pycharm": {
     "is_executing": true,
     "name": "#%%\n"
    }
   },
   "outputs": [
    {
     "data": {
      "text/plain": [
       "Bathurst                        15206\n",
       "Bathurst Street                  1449\n",
       "Bathurst Glen                     204\n",
       "Bathurst St                        38\n",
       "Old Bathurst                       25\n",
       "Bathurst  Street                    8\n",
       "Bathurst Street Rear                4\n",
       "Bathurst Street North               4\n",
       "Bathurst Street West                4\n",
       "Bathurst Stree                      4\n",
       "Old Bathurst Street                 3\n",
       "Bathurst Street (Potl#121)          3\n",
       "Bathurst Inc                        2\n",
       "Bathurst Street, Unit 1615          2\n",
       "111 Bathurst Inc                    2\n",
       "7890 Bathurst                       2\n",
       "Bathurst St Rear                    1\n",
       "Bathurst Street  L4J 0B8            1\n",
       "Bathurst Street   L4J 0B8           1\n",
       "Bathurst Street-Storage Unit        1\n",
       "Bathurst Avenue                     1\n",
       "Old Bathurst St                     1\n",
       "Bathurst Street, Suite 1611         1\n",
       "Bathurst Strert                     1\n",
       "Name: street_name, dtype: int64"
      ]
     },
     "execution_count": 99,
     "metadata": {},
     "output_type": "execute_result"
    }
   ],
   "source": [
    "mask1 = df['street_name'].str.contains('Bathurst', case=False, na=False)\n",
    "df.loc[mask1, 'street_name'].value_counts()"
   ]
  },
  {
   "cell_type": "markdown",
   "metadata": {},
   "source": [
    "#### Yonge street"
   ]
  },
  {
   "cell_type": "code",
   "execution_count": 100,
   "metadata": {
    "pycharm": {
     "is_executing": true,
     "name": "#%%\n"
    }
   },
   "outputs": [
    {
     "data": {
      "text/plain": [
       "Yonge                                 80814\n",
       "Yonge Street                           1644\n",
       "Old Yonge                               312\n",
       "Yongehurst                              196\n",
       "Yonge St                                128\n",
       "Yongeview                                49\n",
       "Old Yonge Street                         16\n",
       "Yongeview Avenue                          9\n",
       "- 1210 Yonge Street                       7\n",
       "Yonge Steet                               6\n",
       "Yongehurst Avenue                         6\n",
       "Roselawn Ave. & 2400 Yonge Street         6\n",
       "Yonge Stree                               5\n",
       "Yonge Street South Of Ravenshoe           5\n",
       "8674 Yonge Street                         4\n",
       "Old Yonge St                              3\n",
       "Yonge Street, Building B                  3\n",
       "Yonge Stret                               3\n",
       "Yonge Street (Parking)                    2\n",
       "Yonge Street, Unit A301                   2\n",
       "Yonge Street Ric                          2\n",
       "Yongehurst Road                           2\n",
       ", 7433 Yonge St. & 20&30 Clark Ave        2\n",
       "Yonge Street (Locker0                     2\n",
       "Yonge St L3T 2B4                          2\n",
       "Yonge St Tower B                          2\n",
       "Yonge Street  L4G1Y3                      2\n",
       "Yonge Street, Po Box 2046 Station         1\n",
       "Yonge Steeet                              1\n",
       "Yonge St., Tower B                        1\n",
       "Yonge Street, Suite 1607A                 1\n",
       "Yonge Street (Locker)                     1\n",
       "Yonge Street, Ric                         1\n",
       "-11720 Yonge Street                       1\n",
       "Yonge Street, Suite 149                   1\n",
       "Yonge Street, Suite 202                   1\n",
       "Yonge Street (Parking Unit)               1\n",
       "Yonge Strret                              1\n",
       "-1210 Yonge Street                        1\n",
       "Yonge St / 7 Roosevelt Drive              1\n",
       "Yonge Street, Suite 1108A                 1\n",
       "Yonge Street North                        1\n",
       "Yonge Sstreet                             1\n",
       "Yonge Street L4G1Y3                       1\n",
       "Yonge Street, Suite 302                   1\n",
       "Name: street_name, dtype: int64"
      ]
     },
     "execution_count": 100,
     "metadata": {},
     "output_type": "execute_result"
    }
   ],
   "source": [
    "mask1 = df['street_name'].str.contains('Yonge', case=False, na=False)\n",
    "df.loc[mask1, 'street_name'].value_counts()"
   ]
  },
  {
   "cell_type": "markdown",
   "metadata": {},
   "source": [
    "#### Highway"
   ]
  },
  {
   "cell_type": "code",
   "execution_count": 101,
   "metadata": {
    "pycharm": {
     "is_executing": true,
     "name": "#%%\n"
    }
   },
   "outputs": [
    {
     "data": {
      "text/plain": [
       "Highway 8                          1310\n",
       "Highway 48                          984\n",
       "Highway 7                           862\n",
       "Highway 7 West                      469\n",
       "Highway No. 7                       434\n",
       "Hwy 7                               406\n",
       "Hwy 6                               399\n",
       "Highway 2                           386\n",
       "Hwy 2                               381\n",
       "Hwy 56                              339\n",
       "Hwy 47                              332\n",
       "Highway 27                          307\n",
       "Highway 12                          218\n",
       "Highway 9                           208\n",
       "Hwy 12                              196\n",
       "Highway 7A                          166\n",
       "Hwy 8                               164\n",
       "Hwy 99                              153\n",
       "Highway 50                          121\n",
       "Hwy 48                              104\n",
       "Highway 20                           97\n",
       "Highway No. 8                        96\n",
       "Old Hwy 8                            89\n",
       "Highway No. 2                        76\n",
       "Hwy 5 W                              68\n",
       "Hwy 52                               58\n",
       "Highway 56                           57\n",
       "Hwy 115/35                           55\n",
       "Hwy 53 East                          51\n",
       "Hwy 27                               51\n",
       "                                   ... \n",
       "Highway No7                           1\n",
       "Old Hwy 35                            1\n",
       "Highway  7                            1\n",
       "Hwy 20 S                              1\n",
       "Ontario Highway 7                     1\n",
       "Highway 7 West, Suite 2103            1\n",
       "-4361 Highway 7 East                  1\n",
       "Highway N O. 7                        1\n",
       "Highway 7 W - Parking + Storage       1\n",
       "Hwy No. 50                            1\n",
       "Hwy 52 N, Rr 2                        1\n",
       "Hwy *8                                1\n",
       "Highway 7 West #1107                  1\n",
       "Highways 115/35                       1\n",
       "Highway No.  7 West                   1\n",
       "Hwy 20 E                              1\n",
       "2900 Highway No. 7                    1\n",
       "Highway 7 E                           1\n",
       "Old Highway 99 Rr 3                   1\n",
       "Hwy 48 East, R. R. # 3                1\n",
       "Highway 7 West - Parking Unit         1\n",
       "Highway 37                            1\n",
       "Highway 7 East East                   1\n",
       "30 Highway 7 West                     1\n",
       "Hwy #27                               1\n",
       "Highway 7 Avenue                      1\n",
       "Highway 7 Road East                   1\n",
       "Regional Road/ Hwy 50                 1\n",
       "Hwy 52 W                              1\n",
       "Highway No, 7                         1\n",
       "Name: street_name, Length: 289, dtype: int64"
      ]
     },
     "execution_count": 101,
     "metadata": {},
     "output_type": "execute_result"
    }
   ],
   "source": [
    "mask1 = df['street_name'].str.contains('Highway', case=False, na=False)\n",
    "mask2 = df['street_name'].str.contains('Hwy')\n",
    "df.loc[mask1 | mask2, 'street_name'].value_counts()"
   ]
  },
  {
   "cell_type": "code",
   "execution_count": null,
   "metadata": {},
   "outputs": [],
   "source": []
  },
  {
   "cell_type": "markdown",
   "metadata": {},
   "source": [
    "### Fix inconsistent values in column `street_designation`\n",
    "Street types were corrected in accordance with the [list of symbols and abbreviations](https://www.canadapost.ca/tools/pg/manual/PGaddress-e.asp?ecid=murl10006450) recognized by Canada Post."
   ]
  },
  {
   "cell_type": "markdown",
   "metadata": {},
   "source": [
    "#### Ave"
   ]
  },
  {
   "cell_type": "code",
   "execution_count": 12,
   "metadata": {},
   "outputs": [
    {
     "data": {
      "text/plain": [
       "Ave       1121866\n",
       "Avenue        120\n",
       "Av              6\n",
       "Ave 5           2\n",
       "Name: street_designation, dtype: int64"
      ]
     },
     "execution_count": 12,
     "metadata": {},
     "output_type": "execute_result"
    }
   ],
   "source": [
    "mask1 = df['street_designation'].str.contains('Av', case=False, na=False)\n",
    "df.loc[mask1, 'street_designation'].value_counts()"
   ]
  },
  {
   "cell_type": "code",
   "execution_count": 13,
   "metadata": {},
   "outputs": [
    {
     "data": {
      "text/plain": [
       "Ave    1121994\n",
       "Name: street_designation, dtype: int64"
      ]
     },
     "execution_count": 13,
     "metadata": {},
     "output_type": "execute_result"
    }
   ],
   "source": [
    "df.loc[mask1, 'street_designation'] = 'Ave'\n",
    "df.loc[mask1, 'street_designation'].value_counts()"
   ]
  },
  {
   "cell_type": "markdown",
   "metadata": {},
   "source": [
    "#### Blvd"
   ]
  },
  {
   "cell_type": "code",
   "execution_count": 14,
   "metadata": {},
   "outputs": [
    {
     "data": {
      "text/plain": [
       "Blvd         321137\n",
       "Boulevard        51\n",
       "Name: street_designation, dtype: int64"
      ]
     },
     "execution_count": 14,
     "metadata": {},
     "output_type": "execute_result"
    }
   ],
   "source": [
    "mask1 = df['street_designation'].str.contains('Blvd', case=False, na=False)\n",
    "mask2 = df['street_designation'].str.contains('Boul', case=False, na=False)\n",
    "df.loc[mask1 | mask2, 'street_designation'].value_counts()"
   ]
  },
  {
   "cell_type": "code",
   "execution_count": 15,
   "metadata": {},
   "outputs": [
    {
     "data": {
      "text/plain": [
       "Blvd    321188\n",
       "Name: street_designation, dtype: int64"
      ]
     },
     "execution_count": 15,
     "metadata": {},
     "output_type": "execute_result"
    }
   ],
   "source": [
    "df.loc[mask1 | mask2, 'street_designation'] = 'Blvd'\n",
    "df.loc[mask1 | mask2, 'street_designation'].value_counts()"
   ]
  },
  {
   "cell_type": "markdown",
   "metadata": {},
   "source": [
    "#### Cir"
   ]
  },
  {
   "cell_type": "code",
   "execution_count": 16,
   "metadata": {},
   "outputs": [
    {
     "data": {
      "text/plain": [
       "Cir       133367\n",
       "Circle        10\n",
       "Name: street_designation, dtype: int64"
      ]
     },
     "execution_count": 16,
     "metadata": {},
     "output_type": "execute_result"
    }
   ],
   "source": [
    "mask1 = df['street_designation'].str.match('cir', case=False, na=False)\n",
    "mask2 = df['street_designation'].str.contains('t', case=False, na=False)\n",
    "df.loc[mask1 & ~mask2, 'street_designation'].value_counts()"
   ]
  },
  {
   "cell_type": "code",
   "execution_count": 17,
   "metadata": {},
   "outputs": [
    {
     "data": {
      "text/plain": [
       "Cir    134811\n",
       "Name: street_designation, dtype: int64"
      ]
     },
     "execution_count": 17,
     "metadata": {},
     "output_type": "execute_result"
    }
   ],
   "source": [
    "df.loc[mask1, 'street_designation'] = 'Cir'\n",
    "df.loc[mask1, 'street_designation'].value_counts()"
   ]
  },
  {
   "cell_type": "code",
   "execution_count": null,
   "metadata": {},
   "outputs": [],
   "source": []
  },
  {
   "cell_type": "code",
   "execution_count": 24,
   "metadata": {},
   "outputs": [
    {
     "data": {
      "text/plain": [
       "Cres        661064\n",
       "Crt         299401\n",
       "Cir         134811\n",
       "Conc          2632\n",
       "Close         2199\n",
       "Common        2008\n",
       "Chase         1297\n",
       "Cross         1209\n",
       "Cove           592\n",
       "Crnrs           98\n",
       "Crescent        81\n",
       "Cresent         74\n",
       "Ctr             16\n",
       "Ct              13\n",
       "Name: street_designation, dtype: int64"
      ]
     },
     "execution_count": 24,
     "metadata": {},
     "output_type": "execute_result"
    }
   ],
   "source": [
    "mask1 = df['street_designation'].str.match('c', case=False, na=False)\n",
    "df.loc[mask1, 'street_designation'].value_counts()"
   ]
  },
  {
   "cell_type": "markdown",
   "metadata": {},
   "source": [
    "#### Ctr refers to South Town Centre Blvd in Markham"
   ]
  },
  {
   "cell_type": "code",
   "execution_count": 26,
   "metadata": {},
   "outputs": [
    {
     "data": {
      "text/html": [
       "<div>\n",
       "<style scoped>\n",
       "    .dataframe tbody tr th:only-of-type {\n",
       "        vertical-align: middle;\n",
       "    }\n",
       "\n",
       "    .dataframe tbody tr th {\n",
       "        vertical-align: top;\n",
       "    }\n",
       "\n",
       "    .dataframe thead th {\n",
       "        text-align: right;\n",
       "    }\n",
       "</style>\n",
       "<table border=\"1\" class=\"dataframe\">\n",
       "  <thead>\n",
       "    <tr style=\"text-align: right;\">\n",
       "      <th></th>\n",
       "      <th>street_name</th>\n",
       "      <th>street_designation</th>\n",
       "      <th>municipality</th>\n",
       "    </tr>\n",
       "  </thead>\n",
       "  <tbody>\n",
       "    <tr>\n",
       "      <th>4940473</th>\n",
       "      <td>South Town</td>\n",
       "      <td>Ctr</td>\n",
       "      <td>Markham</td>\n",
       "    </tr>\n",
       "    <tr>\n",
       "      <th>4940811</th>\n",
       "      <td>South Town</td>\n",
       "      <td>Ctr</td>\n",
       "      <td>Markham</td>\n",
       "    </tr>\n",
       "    <tr>\n",
       "      <th>4941118</th>\n",
       "      <td>South Town</td>\n",
       "      <td>Ctr</td>\n",
       "      <td>Markham</td>\n",
       "    </tr>\n",
       "    <tr>\n",
       "      <th>4941266</th>\n",
       "      <td>South Town</td>\n",
       "      <td>Ctr</td>\n",
       "      <td>Markham</td>\n",
       "    </tr>\n",
       "    <tr>\n",
       "      <th>4947094</th>\n",
       "      <td>South Town</td>\n",
       "      <td>Ctr</td>\n",
       "      <td>Markham</td>\n",
       "    </tr>\n",
       "    <tr>\n",
       "      <th>4947384</th>\n",
       "      <td>South Town</td>\n",
       "      <td>Ctr</td>\n",
       "      <td>Markham</td>\n",
       "    </tr>\n",
       "    <tr>\n",
       "      <th>4947704</th>\n",
       "      <td>South Town</td>\n",
       "      <td>Ctr</td>\n",
       "      <td>Markham</td>\n",
       "    </tr>\n",
       "    <tr>\n",
       "      <th>4947934</th>\n",
       "      <td>South Town</td>\n",
       "      <td>Ctr</td>\n",
       "      <td>Markham</td>\n",
       "    </tr>\n",
       "    <tr>\n",
       "      <th>4948410</th>\n",
       "      <td>South Town</td>\n",
       "      <td>Ctr</td>\n",
       "      <td>Markham</td>\n",
       "    </tr>\n",
       "    <tr>\n",
       "      <th>4948473</th>\n",
       "      <td>South Town</td>\n",
       "      <td>Ctr</td>\n",
       "      <td>Markham</td>\n",
       "    </tr>\n",
       "    <tr>\n",
       "      <th>4948721</th>\n",
       "      <td>South Town</td>\n",
       "      <td>Ctr</td>\n",
       "      <td>Markham</td>\n",
       "    </tr>\n",
       "    <tr>\n",
       "      <th>4949250</th>\n",
       "      <td>South Town</td>\n",
       "      <td>Ctr</td>\n",
       "      <td>Markham</td>\n",
       "    </tr>\n",
       "    <tr>\n",
       "      <th>4951512</th>\n",
       "      <td>South Town</td>\n",
       "      <td>Ctr</td>\n",
       "      <td>Markham</td>\n",
       "    </tr>\n",
       "    <tr>\n",
       "      <th>4952329</th>\n",
       "      <td>South Town</td>\n",
       "      <td>Ctr</td>\n",
       "      <td>Markham</td>\n",
       "    </tr>\n",
       "    <tr>\n",
       "      <th>4952419</th>\n",
       "      <td>South Town</td>\n",
       "      <td>Ctr</td>\n",
       "      <td>Markham</td>\n",
       "    </tr>\n",
       "    <tr>\n",
       "      <th>4952421</th>\n",
       "      <td>South Town</td>\n",
       "      <td>Ctr</td>\n",
       "      <td>Markham</td>\n",
       "    </tr>\n",
       "  </tbody>\n",
       "</table>\n",
       "</div>"
      ],
      "text/plain": [
       "        street_name street_designation municipality\n",
       "4940473  South Town                Ctr      Markham\n",
       "4940811  South Town                Ctr      Markham\n",
       "4941118  South Town                Ctr      Markham\n",
       "4941266  South Town                Ctr      Markham\n",
       "4947094  South Town                Ctr      Markham\n",
       "4947384  South Town                Ctr      Markham\n",
       "4947704  South Town                Ctr      Markham\n",
       "4947934  South Town                Ctr      Markham\n",
       "4948410  South Town                Ctr      Markham\n",
       "4948473  South Town                Ctr      Markham\n",
       "4948721  South Town                Ctr      Markham\n",
       "4949250  South Town                Ctr      Markham\n",
       "4951512  South Town                Ctr      Markham\n",
       "4952329  South Town                Ctr      Markham\n",
       "4952419  South Town                Ctr      Markham\n",
       "4952421  South Town                Ctr      Markham"
      ]
     },
     "execution_count": 26,
     "metadata": {},
     "output_type": "execute_result"
    }
   ],
   "source": [
    "mask1 = df['street_designation'].str.match('ctr', case=False, na=False)\n",
    "df.loc[mask1, ['street_name', 'street_designation', 'municipality']]"
   ]
  },
  {
   "cell_type": "code",
   "execution_count": 27,
   "metadata": {},
   "outputs": [
    {
     "data": {
      "text/html": [
       "<div>\n",
       "<style scoped>\n",
       "    .dataframe tbody tr th:only-of-type {\n",
       "        vertical-align: middle;\n",
       "    }\n",
       "\n",
       "    .dataframe tbody tr th {\n",
       "        vertical-align: top;\n",
       "    }\n",
       "\n",
       "    .dataframe thead th {\n",
       "        text-align: right;\n",
       "    }\n",
       "</style>\n",
       "<table border=\"1\" class=\"dataframe\">\n",
       "  <thead>\n",
       "    <tr style=\"text-align: right;\">\n",
       "      <th></th>\n",
       "      <th>street_name</th>\n",
       "      <th>street_designation</th>\n",
       "      <th>municipality</th>\n",
       "    </tr>\n",
       "  </thead>\n",
       "  <tbody>\n",
       "    <tr>\n",
       "      <th>2217440</th>\n",
       "      <td>South Townline Rd</td>\n",
       "      <td>NaN</td>\n",
       "      <td>Stoney Creek</td>\n",
       "    </tr>\n",
       "    <tr>\n",
       "      <th>2217468</th>\n",
       "      <td>South Townline Rd</td>\n",
       "      <td>Rd</td>\n",
       "      <td>Hamilton</td>\n",
       "    </tr>\n",
       "    <tr>\n",
       "      <th>2217494</th>\n",
       "      <td>South Townline</td>\n",
       "      <td>Rd</td>\n",
       "      <td>Hamilton</td>\n",
       "    </tr>\n",
       "    <tr>\n",
       "      <th>2217515</th>\n",
       "      <td>South Townline</td>\n",
       "      <td>Rd</td>\n",
       "      <td>Hamilton</td>\n",
       "    </tr>\n",
       "    <tr>\n",
       "      <th>2217612</th>\n",
       "      <td>South Townline</td>\n",
       "      <td>Rd</td>\n",
       "      <td>Hamilton</td>\n",
       "    </tr>\n",
       "    <tr>\n",
       "      <th>2217676</th>\n",
       "      <td>South Townline</td>\n",
       "      <td>Rd</td>\n",
       "      <td>Hamilton</td>\n",
       "    </tr>\n",
       "    <tr>\n",
       "      <th>2217702</th>\n",
       "      <td>South Townline</td>\n",
       "      <td>Rd</td>\n",
       "      <td>Hamilton</td>\n",
       "    </tr>\n",
       "    <tr>\n",
       "      <th>2217719</th>\n",
       "      <td>South Townline</td>\n",
       "      <td>Rd</td>\n",
       "      <td>Hamilton</td>\n",
       "    </tr>\n",
       "    <tr>\n",
       "      <th>2217720</th>\n",
       "      <td>South Townline</td>\n",
       "      <td>Rd</td>\n",
       "      <td>Hamilton</td>\n",
       "    </tr>\n",
       "    <tr>\n",
       "      <th>2217798</th>\n",
       "      <td>South Townline Rd</td>\n",
       "      <td>Rd</td>\n",
       "      <td>Hamilton</td>\n",
       "    </tr>\n",
       "    <tr>\n",
       "      <th>2343762</th>\n",
       "      <td>South Townline Rd</td>\n",
       "      <td>NaN</td>\n",
       "      <td>Stoney Creek</td>\n",
       "    </tr>\n",
       "    <tr>\n",
       "      <th>2343927</th>\n",
       "      <td>South Townline Rd</td>\n",
       "      <td>NaN</td>\n",
       "      <td>Stoney Creek</td>\n",
       "    </tr>\n",
       "    <tr>\n",
       "      <th>2372057</th>\n",
       "      <td>South Townline Road</td>\n",
       "      <td>NaN</td>\n",
       "      <td>Hamilton</td>\n",
       "    </tr>\n",
       "    <tr>\n",
       "      <th>2372190</th>\n",
       "      <td>South Townline Road</td>\n",
       "      <td>NaN</td>\n",
       "      <td>Hamilton</td>\n",
       "    </tr>\n",
       "    <tr>\n",
       "      <th>2372204</th>\n",
       "      <td>South Townline Road</td>\n",
       "      <td>NaN</td>\n",
       "      <td>Hamilton</td>\n",
       "    </tr>\n",
       "    <tr>\n",
       "      <th>2372220</th>\n",
       "      <td>South Townline Road</td>\n",
       "      <td>NaN</td>\n",
       "      <td>Hamilton</td>\n",
       "    </tr>\n",
       "    <tr>\n",
       "      <th>2372224</th>\n",
       "      <td>South Townline Road</td>\n",
       "      <td>NaN</td>\n",
       "      <td>Stoney Creek</td>\n",
       "    </tr>\n",
       "    <tr>\n",
       "      <th>2372225</th>\n",
       "      <td>South Townline Road</td>\n",
       "      <td>NaN</td>\n",
       "      <td>Hamilton</td>\n",
       "    </tr>\n",
       "    <tr>\n",
       "      <th>2372260</th>\n",
       "      <td>South Townline Road</td>\n",
       "      <td>NaN</td>\n",
       "      <td>Stoney Creek</td>\n",
       "    </tr>\n",
       "    <tr>\n",
       "      <th>2372270</th>\n",
       "      <td>South Townline Road</td>\n",
       "      <td>NaN</td>\n",
       "      <td>Stoney Creek</td>\n",
       "    </tr>\n",
       "    <tr>\n",
       "      <th>2372274</th>\n",
       "      <td>South Townline Road</td>\n",
       "      <td>NaN</td>\n",
       "      <td>Hamilton</td>\n",
       "    </tr>\n",
       "    <tr>\n",
       "      <th>2372291</th>\n",
       "      <td>South Townline Road</td>\n",
       "      <td>NaN</td>\n",
       "      <td>Hamilton</td>\n",
       "    </tr>\n",
       "    <tr>\n",
       "      <th>2372325</th>\n",
       "      <td>South Townline Road</td>\n",
       "      <td>NaN</td>\n",
       "      <td>Hamilton</td>\n",
       "    </tr>\n",
       "    <tr>\n",
       "      <th>2372345</th>\n",
       "      <td>South Townline Road</td>\n",
       "      <td>NaN</td>\n",
       "      <td>Hamilton</td>\n",
       "    </tr>\n",
       "    <tr>\n",
       "      <th>2372350</th>\n",
       "      <td>South Townline Road</td>\n",
       "      <td>NaN</td>\n",
       "      <td>Stoney Creek</td>\n",
       "    </tr>\n",
       "    <tr>\n",
       "      <th>4938946</th>\n",
       "      <td>South Town Centre</td>\n",
       "      <td>Blvd</td>\n",
       "      <td>Markham</td>\n",
       "    </tr>\n",
       "    <tr>\n",
       "      <th>4940366</th>\n",
       "      <td>South Town Centre Blvd</td>\n",
       "      <td>NaN</td>\n",
       "      <td>Markham</td>\n",
       "    </tr>\n",
       "    <tr>\n",
       "      <th>4940367</th>\n",
       "      <td>South Town Centre Blvd</td>\n",
       "      <td>NaN</td>\n",
       "      <td>Markham</td>\n",
       "    </tr>\n",
       "    <tr>\n",
       "      <th>4940368</th>\n",
       "      <td>South Town Centre Blvd</td>\n",
       "      <td>NaN</td>\n",
       "      <td>Markham</td>\n",
       "    </tr>\n",
       "    <tr>\n",
       "      <th>4940369</th>\n",
       "      <td>South Town Centre Blvd., Suite 920</td>\n",
       "      <td>NaN</td>\n",
       "      <td>Markham</td>\n",
       "    </tr>\n",
       "    <tr>\n",
       "      <th>...</th>\n",
       "      <td>...</td>\n",
       "      <td>...</td>\n",
       "      <td>...</td>\n",
       "    </tr>\n",
       "    <tr>\n",
       "      <th>4954726</th>\n",
       "      <td>South Town Centre Boulevard</td>\n",
       "      <td>NaN</td>\n",
       "      <td>Markham</td>\n",
       "    </tr>\n",
       "    <tr>\n",
       "      <th>4954727</th>\n",
       "      <td>South Town Centre Boulevard</td>\n",
       "      <td>NaN</td>\n",
       "      <td>Markham</td>\n",
       "    </tr>\n",
       "    <tr>\n",
       "      <th>4954728</th>\n",
       "      <td>South Town Centre Boulevard</td>\n",
       "      <td>NaN</td>\n",
       "      <td>Markham</td>\n",
       "    </tr>\n",
       "    <tr>\n",
       "      <th>4954731</th>\n",
       "      <td>South Town Centre</td>\n",
       "      <td>Blvd</td>\n",
       "      <td>Markham</td>\n",
       "    </tr>\n",
       "    <tr>\n",
       "      <th>4954733</th>\n",
       "      <td>South Town Centre Boulevard</td>\n",
       "      <td>NaN</td>\n",
       "      <td>Markham</td>\n",
       "    </tr>\n",
       "    <tr>\n",
       "      <th>4954734</th>\n",
       "      <td>South Town Centre Boulevard</td>\n",
       "      <td>NaN</td>\n",
       "      <td>Markham</td>\n",
       "    </tr>\n",
       "    <tr>\n",
       "      <th>4954739</th>\n",
       "      <td>South Town Centre Boulevard</td>\n",
       "      <td>NaN</td>\n",
       "      <td>Markham</td>\n",
       "    </tr>\n",
       "    <tr>\n",
       "      <th>4954740</th>\n",
       "      <td>South Town Centre Boulevard</td>\n",
       "      <td>NaN</td>\n",
       "      <td>Markham</td>\n",
       "    </tr>\n",
       "    <tr>\n",
       "      <th>4954741</th>\n",
       "      <td>South Town Centre Boulevard</td>\n",
       "      <td>NaN</td>\n",
       "      <td>Markham</td>\n",
       "    </tr>\n",
       "    <tr>\n",
       "      <th>4954743</th>\n",
       "      <td>South Town Centre Boulevard</td>\n",
       "      <td>NaN</td>\n",
       "      <td>Markham</td>\n",
       "    </tr>\n",
       "    <tr>\n",
       "      <th>4954750</th>\n",
       "      <td>South Town Centre Blvd. Suite 1508</td>\n",
       "      <td>NaN</td>\n",
       "      <td>Markham</td>\n",
       "    </tr>\n",
       "    <tr>\n",
       "      <th>4954751</th>\n",
       "      <td>South Town</td>\n",
       "      <td>Blvd</td>\n",
       "      <td>Markham</td>\n",
       "    </tr>\n",
       "    <tr>\n",
       "      <th>4954752</th>\n",
       "      <td>South Town</td>\n",
       "      <td>Blvd</td>\n",
       "      <td>Markham</td>\n",
       "    </tr>\n",
       "    <tr>\n",
       "      <th>4954753</th>\n",
       "      <td>South Town Centre</td>\n",
       "      <td>Blvd</td>\n",
       "      <td>Markham</td>\n",
       "    </tr>\n",
       "    <tr>\n",
       "      <th>4954754</th>\n",
       "      <td>South Town Centre</td>\n",
       "      <td>Blvd</td>\n",
       "      <td>Markham</td>\n",
       "    </tr>\n",
       "    <tr>\n",
       "      <th>4954755</th>\n",
       "      <td>South Town Centre</td>\n",
       "      <td>Blvd</td>\n",
       "      <td>Markham</td>\n",
       "    </tr>\n",
       "    <tr>\n",
       "      <th>4954760</th>\n",
       "      <td>South Town Centre</td>\n",
       "      <td>Blvd</td>\n",
       "      <td>Markham</td>\n",
       "    </tr>\n",
       "    <tr>\n",
       "      <th>4954764</th>\n",
       "      <td>South Town Centre</td>\n",
       "      <td>Blvd</td>\n",
       "      <td>Markham</td>\n",
       "    </tr>\n",
       "    <tr>\n",
       "      <th>4954765</th>\n",
       "      <td>South Town Centre Boulevard</td>\n",
       "      <td>NaN</td>\n",
       "      <td>Markham</td>\n",
       "    </tr>\n",
       "    <tr>\n",
       "      <th>4954768</th>\n",
       "      <td>South Town Centre</td>\n",
       "      <td>Blvd</td>\n",
       "      <td>Markham</td>\n",
       "    </tr>\n",
       "    <tr>\n",
       "      <th>4954772</th>\n",
       "      <td>South Town Centre</td>\n",
       "      <td>Blvd</td>\n",
       "      <td>Markham</td>\n",
       "    </tr>\n",
       "    <tr>\n",
       "      <th>4954774</th>\n",
       "      <td>South Town Centre Boulevard</td>\n",
       "      <td>NaN</td>\n",
       "      <td>Markham</td>\n",
       "    </tr>\n",
       "    <tr>\n",
       "      <th>4954775</th>\n",
       "      <td>South Town Centre Boulevard</td>\n",
       "      <td>NaN</td>\n",
       "      <td>Markham</td>\n",
       "    </tr>\n",
       "    <tr>\n",
       "      <th>4954776</th>\n",
       "      <td>South Town Centre Boulevd.</td>\n",
       "      <td>NaN</td>\n",
       "      <td>Markham</td>\n",
       "    </tr>\n",
       "    <tr>\n",
       "      <th>4954777</th>\n",
       "      <td>South Town Centre</td>\n",
       "      <td>Blvd</td>\n",
       "      <td>Markham</td>\n",
       "    </tr>\n",
       "    <tr>\n",
       "      <th>4954778</th>\n",
       "      <td>South Town Centre</td>\n",
       "      <td>Blvd</td>\n",
       "      <td>Markham</td>\n",
       "    </tr>\n",
       "    <tr>\n",
       "      <th>4954779</th>\n",
       "      <td>South Town Centre</td>\n",
       "      <td>Blvd</td>\n",
       "      <td>Markham</td>\n",
       "    </tr>\n",
       "    <tr>\n",
       "      <th>4954783</th>\n",
       "      <td>South Town Centre Boulevard</td>\n",
       "      <td>NaN</td>\n",
       "      <td>Markham</td>\n",
       "    </tr>\n",
       "    <tr>\n",
       "      <th>4954784</th>\n",
       "      <td>South Town Centre Boulevard</td>\n",
       "      <td>NaN</td>\n",
       "      <td>Markham</td>\n",
       "    </tr>\n",
       "    <tr>\n",
       "      <th>4954785</th>\n",
       "      <td>South Town Centre Boulevard</td>\n",
       "      <td>NaN</td>\n",
       "      <td>Markham</td>\n",
       "    </tr>\n",
       "  </tbody>\n",
       "</table>\n",
       "<p>7612 rows × 3 columns</p>\n",
       "</div>"
      ],
      "text/plain": [
       "                                street_name street_designation  municipality\n",
       "2217440                   South Townline Rd                NaN  Stoney Creek\n",
       "2217468                   South Townline Rd                 Rd      Hamilton\n",
       "2217494                      South Townline                 Rd      Hamilton\n",
       "2217515                      South Townline                 Rd      Hamilton\n",
       "2217612                      South Townline                 Rd      Hamilton\n",
       "2217676                      South Townline                 Rd      Hamilton\n",
       "2217702                      South Townline                 Rd      Hamilton\n",
       "2217719                      South Townline                 Rd      Hamilton\n",
       "2217720                      South Townline                 Rd      Hamilton\n",
       "2217798                   South Townline Rd                 Rd      Hamilton\n",
       "2343762                   South Townline Rd                NaN  Stoney Creek\n",
       "2343927                   South Townline Rd                NaN  Stoney Creek\n",
       "2372057                 South Townline Road                NaN      Hamilton\n",
       "2372190                 South Townline Road                NaN      Hamilton\n",
       "2372204                 South Townline Road                NaN      Hamilton\n",
       "2372220                 South Townline Road                NaN      Hamilton\n",
       "2372224                 South Townline Road                NaN  Stoney Creek\n",
       "2372225                 South Townline Road                NaN      Hamilton\n",
       "2372260                 South Townline Road                NaN  Stoney Creek\n",
       "2372270                 South Townline Road                NaN  Stoney Creek\n",
       "2372274                 South Townline Road                NaN      Hamilton\n",
       "2372291                 South Townline Road                NaN      Hamilton\n",
       "2372325                 South Townline Road                NaN      Hamilton\n",
       "2372345                 South Townline Road                NaN      Hamilton\n",
       "2372350                 South Townline Road                NaN  Stoney Creek\n",
       "4938946                   South Town Centre               Blvd       Markham\n",
       "4940366              South Town Centre Blvd                NaN       Markham\n",
       "4940367              South Town Centre Blvd                NaN       Markham\n",
       "4940368              South Town Centre Blvd                NaN       Markham\n",
       "4940369  South Town Centre Blvd., Suite 920                NaN       Markham\n",
       "...                                     ...                ...           ...\n",
       "4954726         South Town Centre Boulevard                NaN       Markham\n",
       "4954727         South Town Centre Boulevard                NaN       Markham\n",
       "4954728         South Town Centre Boulevard                NaN       Markham\n",
       "4954731                   South Town Centre               Blvd       Markham\n",
       "4954733         South Town Centre Boulevard                NaN       Markham\n",
       "4954734         South Town Centre Boulevard                NaN       Markham\n",
       "4954739         South Town Centre Boulevard                NaN       Markham\n",
       "4954740         South Town Centre Boulevard                NaN       Markham\n",
       "4954741         South Town Centre Boulevard                NaN       Markham\n",
       "4954743         South Town Centre Boulevard                NaN       Markham\n",
       "4954750  South Town Centre Blvd. Suite 1508                NaN       Markham\n",
       "4954751                          South Town               Blvd       Markham\n",
       "4954752                          South Town               Blvd       Markham\n",
       "4954753                   South Town Centre               Blvd       Markham\n",
       "4954754                   South Town Centre               Blvd       Markham\n",
       "4954755                   South Town Centre               Blvd       Markham\n",
       "4954760                   South Town Centre               Blvd       Markham\n",
       "4954764                   South Town Centre               Blvd       Markham\n",
       "4954765         South Town Centre Boulevard                NaN       Markham\n",
       "4954768                   South Town Centre               Blvd       Markham\n",
       "4954772                   South Town Centre               Blvd       Markham\n",
       "4954774         South Town Centre Boulevard                NaN       Markham\n",
       "4954775         South Town Centre Boulevard                NaN       Markham\n",
       "4954776          South Town Centre Boulevd.                NaN       Markham\n",
       "4954777                   South Town Centre               Blvd       Markham\n",
       "4954778                   South Town Centre               Blvd       Markham\n",
       "4954779                   South Town Centre               Blvd       Markham\n",
       "4954783         South Town Centre Boulevard                NaN       Markham\n",
       "4954784         South Town Centre Boulevard                NaN       Markham\n",
       "4954785         South Town Centre Boulevard                NaN       Markham\n",
       "\n",
       "[7612 rows x 3 columns]"
      ]
     },
     "execution_count": 27,
     "metadata": {},
     "output_type": "execute_result"
    }
   ],
   "source": [
    "mask1 = df['street_name'].str.match('South Town', case=False, na=False)\n",
    "df.loc[mask1, ['street_name', 'street_designation', 'municipality']]"
   ]
  },
  {
   "cell_type": "markdown",
   "metadata": {},
   "source": [
    "#### Circt"
   ]
  },
  {
   "cell_type": "code",
   "execution_count": 20,
   "metadata": {},
   "outputs": [
    {
     "data": {
      "text/plain": [
       "Series([], Name: street_designation, dtype: int64)"
      ]
     },
     "execution_count": 20,
     "metadata": {},
     "output_type": "execute_result"
    }
   ],
   "source": [
    "mask1 = df['street_designation'].str.match('circt', case=False, na=False)\n",
    "mask2 = df['street_designation'].str.match('circu', case=False, na=False)\n",
    "df.loc[mask1 | mask2, 'street_designation'].value_counts()"
   ]
  },
  {
   "cell_type": "code",
   "execution_count": 17,
   "metadata": {},
   "outputs": [
    {
     "data": {
      "text/plain": [
       "Cir    134811\n",
       "Name: street_designation, dtype: int64"
      ]
     },
     "execution_count": 17,
     "metadata": {},
     "output_type": "execute_result"
    }
   ],
   "source": [
    "df.loc[mask1, 'street_designation'] = 'Cir'\n",
    "df.loc[mask1, 'street_designation'].value_counts()"
   ]
  },
  {
   "cell_type": "markdown",
   "metadata": {},
   "source": [
    "#### Cres"
   ]
  },
  {
   "cell_type": "code",
   "execution_count": 18,
   "metadata": {},
   "outputs": [
    {
     "data": {
      "text/plain": [
       "Cres        661064\n",
       "Crescent        81\n",
       "Cresent         74\n",
       "Name: street_designation, dtype: int64"
      ]
     },
     "execution_count": 18,
     "metadata": {},
     "output_type": "execute_result"
    }
   ],
   "source": [
    "mask1 = df['street_designation'].str.contains('Cres', case=False, na=False)\n",
    "mask2 = df['street_designation'].str.match('^A', case=False, na=False)\n",
    "df.loc[mask1 & ~mask2, 'street_designation'].value_counts()"
   ]
  },
  {
   "cell_type": "code",
   "execution_count": 19,
   "metadata": {},
   "outputs": [
    {
     "data": {
      "text/plain": [
       "Cres    661219\n",
       "Name: street_designation, dtype: int64"
      ]
     },
     "execution_count": 19,
     "metadata": {},
     "output_type": "execute_result"
    }
   ],
   "source": [
    "df.loc[mask1 & ~mask2, 'street_designation'] = 'Cres'\n",
    "df.loc[mask1 & ~mask2, 'street_designation'].value_counts()"
   ]
  },
  {
   "cell_type": "markdown",
   "metadata": {},
   "source": [
    "#### Crt"
   ]
  },
  {
   "cell_type": "code",
   "execution_count": 22,
   "metadata": {},
   "outputs": [
    {
     "data": {
      "text/plain": [
       "Crt      299387\n",
       "Court        14\n",
       "Name: street_designation, dtype: int64"
      ]
     },
     "execution_count": 22,
     "metadata": {},
     "output_type": "execute_result"
    }
   ],
   "source": [
    "mask1 = df['street_designation'].str.match('Crt', case=False, na=False)\n",
    "mask2 = df['street_designation'].str.match('Court', case=False, na=False)\n",
    "df.loc[mask1 | mask2, 'street_designation'].value_counts()"
   ]
  },
  {
   "cell_type": "code",
   "execution_count": 23,
   "metadata": {},
   "outputs": [
    {
     "data": {
      "text/plain": [
       "Crt    299401\n",
       "Name: street_designation, dtype: int64"
      ]
     },
     "execution_count": 23,
     "metadata": {},
     "output_type": "execute_result"
    }
   ],
   "source": [
    "df.loc[mask1 | mask2, 'street_designation'] = 'Crt'\n",
    "df.loc[mask1 | mask2, 'street_designation'].value_counts()"
   ]
  },
  {
   "cell_type": "markdown",
   "metadata": {},
   "source": [
    "#### Dr"
   ]
  },
  {
   "cell_type": "code",
   "execution_count": 12,
   "metadata": {},
   "outputs": [
    {
     "data": {
      "text/plain": [
       "Dr       1071847\n",
       "Drive         78\n",
       "Name: street_designation, dtype: int64"
      ]
     },
     "execution_count": 12,
     "metadata": {},
     "output_type": "execute_result"
    }
   ],
   "source": [
    "mask1 = df['street_designation'].str.contains('Dr', case=False, na=False)\n",
    "df.loc[mask1, 'street_designation'].value_counts()"
   ]
  },
  {
   "cell_type": "code",
   "execution_count": 13,
   "metadata": {},
   "outputs": [
    {
     "data": {
      "text/plain": [
       "Dr    1071925\n",
       "Name: street_designation, dtype: int64"
      ]
     },
     "execution_count": 13,
     "metadata": {},
     "output_type": "execute_result"
    }
   ],
   "source": [
    "df.loc[mask1, 'street_designation'] = 'Dr'\n",
    "df.loc[mask1, 'street_designation'].value_counts()"
   ]
  },
  {
   "cell_type": "markdown",
   "metadata": {},
   "source": [
    "#### Pky"
   ]
  },
  {
   "cell_type": "code",
   "execution_count": 22,
   "metadata": {},
   "outputs": [
    {
     "data": {
      "text/plain": [
       "Pky        20790\n",
       "Pkwy           9\n",
       "Parkway        8\n",
       "Name: street_designation, dtype: int64"
      ]
     },
     "execution_count": 22,
     "metadata": {},
     "output_type": "execute_result"
    }
   ],
   "source": [
    "mask1 = df['street_designation'].str.contains('Pky', case=False, na=False)\n",
    "mask2 = df['street_designation'].str.contains('Pkw', case=False, na=False)\n",
    "mask3 = df['street_designation'].str.contains('Park', case=False, na=False)\n",
    "df.loc[mask1 | mask2 | mask3, 'street_designation'].value_counts()"
   ]
  },
  {
   "cell_type": "code",
   "execution_count": 23,
   "metadata": {},
   "outputs": [
    {
     "data": {
      "text/plain": [
       "Pky    20807\n",
       "Name: street_designation, dtype: int64"
      ]
     },
     "execution_count": 23,
     "metadata": {},
     "output_type": "execute_result"
    }
   ],
   "source": [
    "df.loc[mask1 | mask2 | mask3, 'street_designation'] = 'Pky'\n",
    "df.loc[mask1 | mask2 | mask3, 'street_designation'].value_counts()"
   ]
  },
  {
   "cell_type": "markdown",
   "metadata": {},
   "source": [
    "#### Rd"
   ]
  },
  {
   "cell_type": "code",
   "execution_count": 16,
   "metadata": {},
   "outputs": [
    {
     "data": {
      "text/plain": [
       "Rd         871396\n",
       "Side rd      3118\n",
       "Rd 30           5\n",
       "Rd w            2\n",
       "Name: street_designation, dtype: int64"
      ]
     },
     "execution_count": 16,
     "metadata": {},
     "output_type": "execute_result"
    }
   ],
   "source": [
    "mask1 = df['street_designation'].str.contains('Rd', case=False, na=False)\n",
    "mask2 = df['street_designation'].str.match('^B', case=False, na=False)\n",
    "df.loc[mask1 & ~mask2, 'street_designation'].value_counts()"
   ]
  },
  {
   "cell_type": "code",
   "execution_count": 17,
   "metadata": {},
   "outputs": [
    {
     "data": {
      "text/plain": [
       "Rd    874521\n",
       "Name: street_designation, dtype: int64"
      ]
     },
     "execution_count": 17,
     "metadata": {},
     "output_type": "execute_result"
    }
   ],
   "source": [
    "df.loc[mask1 & ~mask2, 'street_designation'] = 'Rd'\n",
    "df.loc[mask1 & ~mask2, 'street_designation'].value_counts()"
   ]
  },
  {
   "cell_type": "markdown",
   "metadata": {},
   "source": [
    "#### Terr"
   ]
  },
  {
   "cell_type": "code",
   "execution_count": 30,
   "metadata": {},
   "outputs": [
    {
     "data": {
      "text/plain": [
       "Terr       31332\n",
       "Terrace       36\n",
       "Name: street_designation, dtype: int64"
      ]
     },
     "execution_count": 30,
     "metadata": {},
     "output_type": "execute_result"
    }
   ],
   "source": [
    "mask1 = df['street_designation'].str.contains('Terr', case=False, na=False)\n",
    "df.loc[mask1, 'street_designation'].value_counts()"
   ]
  },
  {
   "cell_type": "code",
   "execution_count": 31,
   "metadata": {},
   "outputs": [
    {
     "data": {
      "text/plain": [
       "Terr    31368\n",
       "Name: street_designation, dtype: int64"
      ]
     },
     "execution_count": 31,
     "metadata": {},
     "output_type": "execute_result"
    }
   ],
   "source": [
    "df.loc[mask1, 'street_designation'] = 'Terr'\n",
    "df.loc[mask1, 'street_designation'].value_counts()"
   ]
  },
  {
   "cell_type": "markdown",
   "metadata": {},
   "source": [
    "#### Trail"
   ]
  },
  {
   "cell_type": "code",
   "execution_count": 26,
   "metadata": {},
   "outputs": [
    {
     "data": {
      "text/plain": [
       "Trail    75533\n",
       "Trl          4\n",
       "Name: street_designation, dtype: int64"
      ]
     },
     "execution_count": 26,
     "metadata": {},
     "output_type": "execute_result"
    }
   ],
   "source": [
    "mask1 = df['street_designation'].str.contains('Tra', case=False, na=False)\n",
    "mask2 = df['street_designation'].str.contains('Trl', case=False, na=False)\n",
    "df.loc[mask1 | mask2, 'street_designation'].value_counts()"
   ]
  },
  {
   "cell_type": "code",
   "execution_count": 27,
   "metadata": {},
   "outputs": [
    {
     "data": {
      "text/plain": [
       "Trail    75537\n",
       "Name: street_designation, dtype: int64"
      ]
     },
     "execution_count": 27,
     "metadata": {},
     "output_type": "execute_result"
    }
   ],
   "source": [
    "df.loc[mask1 | mask2, 'street_designation'] = 'Trail'\n",
    "df.loc[mask1 | mask2, 'street_designation'].value_counts()"
   ]
  },
  {
   "cell_type": "markdown",
   "metadata": {},
   "source": [
    "#### Sq"
   ]
  },
  {
   "cell_type": "code",
   "execution_count": 28,
   "metadata": {},
   "outputs": [
    {
     "data": {
      "text/plain": [
       "Sq        47098\n",
       "Square        2\n",
       "Name: street_designation, dtype: int64"
      ]
     },
     "execution_count": 28,
     "metadata": {},
     "output_type": "execute_result"
    }
   ],
   "source": [
    "mask1 = df['street_designation'].str.contains('Sq', case=False, na=False)\n",
    "df.loc[mask1, 'street_designation'].value_counts()"
   ]
  },
  {
   "cell_type": "code",
   "execution_count": 29,
   "metadata": {},
   "outputs": [
    {
     "data": {
      "text/plain": [
       "Sq    47100\n",
       "Name: street_designation, dtype: int64"
      ]
     },
     "execution_count": 29,
     "metadata": {},
     "output_type": "execute_result"
    }
   ],
   "source": [
    "df.loc[mask1, 'street_designation'] = 'Sq'\n",
    "df.loc[mask1, 'street_designation'].value_counts()"
   ]
  },
  {
   "cell_type": "code",
   "execution_count": 32,
   "metadata": {},
   "outputs": [
    {
     "data": {
      "text/plain": [
       "Ave        1121994\n",
       "Dr         1071925\n",
       "St         1009797\n",
       "Rd          874521\n",
       "Cres        661219\n",
       "Blvd        321188\n",
       "Crt         299387\n",
       "Way         145669\n",
       "Cir         133367\n",
       "Pl          117619\n",
       "Lane        100787\n",
       "Trail        75537\n",
       "Sq           47100\n",
       "Terr         31368\n",
       "Quay         26318\n",
       "Line         25415\n",
       "Gate         24815\n",
       "Pky          20807\n",
       "Mews         14382\n",
       "Gdns         12465\n",
       "Grove        10091\n",
       "Espl          8296\n",
       "Hts           6416\n",
       "Path          3687\n",
       "Hwy           3675\n",
       "Ptway         3406\n",
       "Ridge         2734\n",
       "Conc          2632\n",
       "Close         2199\n",
       "Walk          2180\n",
       "            ...   \n",
       "Alley           48\n",
       "Forest          48\n",
       "Pvt             42\n",
       "Keep            41\n",
       "Acres           33\n",
       "Link            32\n",
       "Bypass          21\n",
       "Farm            20\n",
       "Dell            19\n",
       "Thick           18\n",
       "Pines           16\n",
       "Ctr             16\n",
       "Island          16\n",
       "Court           14\n",
       "First           13\n",
       "Ln              13\n",
       "Ct              13\n",
       "Wynd            12\n",
       "Abbey           11\n",
       "Circle          10\n",
       "Orch             8\n",
       "Abe              4\n",
       "48               4\n",
       "Plaza            4\n",
       "Linkway          3\n",
       "Wharf            3\n",
       "Round            2\n",
       "De               2\n",
       "Landing          2\n",
       "Bay              1\n",
       "Name: street_designation, Length: 105, dtype: int64"
      ]
     },
     "execution_count": 32,
     "metadata": {},
     "output_type": "execute_result"
    }
   ],
   "source": [
    "df['street_designation'].value_counts()"
   ]
  },
  {
   "cell_type": "code",
   "execution_count": null,
   "metadata": {},
   "outputs": [],
   "source": []
  }
 ],
 "metadata": {
  "kernelspec": {
   "display_name": "Python 3",
   "language": "python",
   "name": "python3"
  },
  "language_info": {
   "codemirror_mode": {
    "name": "ipython",
    "version": 3
   },
   "file_extension": ".py",
   "mimetype": "text/x-python",
   "name": "python",
   "nbconvert_exporter": "python",
   "pygments_lexer": "ipython3",
   "version": "3.6.7"
  },
  "pycharm": {
   "stem_cell": {
    "cell_type": "raw",
    "metadata": {
     "collapsed": false
    },
    "source": []
   }
  }
 },
 "nbformat": 4,
 "nbformat_minor": 1
}
