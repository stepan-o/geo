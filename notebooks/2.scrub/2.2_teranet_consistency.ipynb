{
 "cells": [
  {
   "cell_type": "markdown",
   "source": [
    "# GTHA housing market database\n",
    "# OSEMN methodology Step 2: Scrub\n",
    "# Step 2.2 Correction of inconsistent entries in the Teranet dataset\n",
    "\n",
    "---\n",
    "\n",
    "This notebook describes Step 2.2 (part of _Step 2: Scrub_ of OSEMN methodology) performed on the Teranet dataset.\n",
    "\n",
    "Step 2.2 focuses on the correction of inconsistent entries in the Teranet dataset. Cleanup plan is presented below.\n",
    "\n",
    "Previous steps included: \n",
    "\n",
    "* Step 2.1 \n",
    "\n",
    "    * the spatial join between the Teranet points and the polygons of GTHA Dissemination Areas (DAs)\n",
    "    \n",
    "    * During step 2.1, Teranet records whose coordinates fall outside of the GTHA boundary (as defined by the DA geometry) have been filtered out (6,803,691 of the original 9,039,241 Teranet records remain in the dataset)\n",
    "     \n",
    "    * In addition to that, three new columns (`OBJECTID`, `DAUID`, and `CSDNAME`) derived from DA attributes have been added to each Teranet transaction\n",
    "\n",
    "---\n",
    "\n",
    "For description of OSEMN methodology, see `methodology/0.osemn/osemn.pdf`.\n",
    "\n",
    "For background information, description of the Teranet dataset, and its attributes, see `methodology/1.obtain/obtain.pdf`.\n",
    "\n",
    "For description of _Step 2: Scrub_ of OSEMN methodology, see `methodology/2.scrub/scrub.pdf`.\n",
    "\n",
    "For description of the cleanup plan for the Teranet dataset, see `methodology/2.scrub/teranet_cleanup_plan.pdf`.\n",
    "\n",
    "For description of Step 2.1 of the cleanup process, see `notebooks/2.scrub/2.1_teranet_gtha_spatial_join.ipynb`.\n",
    "\n",
    "## Cleanup plan\n",
    "\n",
    "1. Convert column names to lower case\n",
    "2. Fix inconsistent capitalizations for values in columns:\n",
    "    * `municipality`\n",
    "    * `street_name`\n",
    "    * `street_designation`\n",
    "    * `postal_code` (do not show problems, preventive measure)\n",
    "3. Remove column `province`\n",
    "4. Investigate missing values\n",
    "5. Remove column `street_suffix`\n",
    "5. Fix inconsistent entries in columns:\n",
    "    * `unitno`\n",
    "    * `street_name`\n",
    "    * `street_designaction`\n",
    "    * `street_direction`\n",
    "    * `municipality`\n",
    "\n",
    "## Import dependencies"
   ],
   "metadata": {
    "collapsed": false
   }
  },
  {
   "cell_type": "code",
   "execution_count": 1,
   "outputs": [],
   "source": [
    "import pandas as pd\n",
    "import matplotlib\n",
    "import matplotlib.pyplot as plt\n",
    "import seaborn as sns\n",
    "import os\n",
    "from time import time\n",
    "\n",
    "sns.set()"
   ],
   "metadata": {
    "collapsed": false,
    "pycharm": {
     "name": "#%%\n",
     "is_executing": false
    }
   }
  },
  {
   "cell_type": "code",
   "execution_count": 2,
   "outputs": [
    {
     "data": {
      "text/plain": "['Teranet_with_DA_cols.csv', 'HHSaleHistory.csv']"
     },
     "metadata": {},
     "output_type": "execute_result",
     "execution_count": 2
    }
   ],
   "source": [
    "data_path = '../../data/teranet/'\n",
    "os.listdir(data_path)"
   ],
   "metadata": {
    "collapsed": false,
    "pycharm": {
     "name": "#%%\n",
     "is_executing": false
    }
   }
  },
  {
   "cell_type": "markdown",
   "source": [
    "## Load Teranet data"
   ],
   "metadata": {
    "collapsed": false,
    "pycharm": {
     "name": "#%% md\n"
    }
   }
  },
  {
   "cell_type": "code",
   "execution_count": 3,
   "outputs": [
    {
     "name": "stderr",
     "text": [
      "/home/stepan/anaconda3/envs/gds/lib/python3.6/site-packages/IPython/core/interactiveshell.py:3058: DtypeWarning: Columns (9) have mixed types. Specify dtype option on import or set low_memory=False.\n  interactivity=interactivity, compiler=compiler, result=result)\n"
     ],
     "output_type": "stream"
    },
    {
     "name": "stdout",
     "text": [
      "----- DataFrame loaded\nin 14.28 seconds\nwith 6,803,691 rows\nand 18 columns\n-- Column names:\n Index(['lro_num', 'pin', 'consideration_amt', 'registration_date',\n       'POSTAL_CODE', 'PROVINCE', 'UNITNO', 'STREET_NAME',\n       'STREET_DESIGNATION', 'STREET_DIRECTION', 'MUNICIPALITY',\n       'STREET_SUFFIX', 'STREET_NUMBER', 'X', 'Y', 'OBJECTID', 'DAUID',\n       'CSDNAME'],\n      dtype='object')\n"
     ],
     "output_type": "stream"
    }
   ],
   "source": [
    "t = time()\n",
    "#df = pd.read_csv(data_path + 'Teranet_with_DA_cols.csv',\n",
    "#                 parse_dates=['registration_date'])\n",
    "df = pd.read_csv(data_path + 'Teranet_with_DA_cols.csv')\n",
    "elapsed = time() - t\n",
    "print(\"----- DataFrame loaded\"\n",
    "      \"\\nin {0:.2f} seconds\".format(elapsed) + \n",
    "      \"\\nwith {0:,} rows\\nand {1:,} columns\"\n",
    "      .format(df.shape[0], df.shape[1]) + \n",
    "      \"\\n-- Column names:\\n\", df.columns)"
   ],
   "metadata": {
    "collapsed": false,
    "pycharm": {
     "name": "#%%\n",
     "is_executing": false
    }
   }
  },
  {
   "cell_type": "markdown",
   "source": [
    "## Step 1: convert column names to lower case"
   ],
   "metadata": {
    "collapsed": false,
    "pycharm": {
     "name": "#%% md\n"
    }
   }
  },
  {
   "cell_type": "code",
   "execution_count": 4,
   "outputs": [
    {
     "data": {
      "text/plain": "Index(['lro_num', 'pin', 'consideration_amt', 'registration_date',\n       'postal_code', 'province', 'unitno', 'street_name',\n       'street_designation', 'street_direction', 'municipality',\n       'street_suffix', 'street_number', 'x', 'y', 'objectid', 'dauid',\n       'csdname'],\n      dtype='object')"
     },
     "metadata": {},
     "output_type": "execute_result",
     "execution_count": 4
    }
   ],
   "source": [
    "df.columns = df.columns.str.lower()\n",
    "df.columns"
   ],
   "metadata": {
    "collapsed": false,
    "pycharm": {
     "name": "#%%\n",
     "is_executing": false
    }
   }
  },
  {
   "cell_type": "markdown",
   "source": [
    "## Step 2: fix inconsistent capitalizations\n",
    "Inconsistent capitalizations are fixed for values in the following columns: \n",
    "* `unitno`\n",
    "* `street_name`\n",
    "* `street_designaction`\n",
    "* `street_direction`\n",
    "* `municipality`"
   ],
   "metadata": {
    "collapsed": false,
    "pycharm": {
     "name": "#%% md\n"
    }
   }
  },
  {
   "cell_type": "code",
   "execution_count": 5,
   "outputs": [
    {
     "name": "stdout",
     "text": [
      "Capitalizations were fixed! Took 8.69 seconds.\n"
     ],
     "output_type": "stream"
    }
   ],
   "source": [
    "t = time()\n",
    "df['municipality'] = df['municipality'].str.title()\n",
    "df['street_name'] = df['street_name'].str.title()\n",
    "df['street_designation'] = df['street_designation'].str.capitalize()\n",
    "df['postal_code'] = df['postal_code'].str.upper()\n",
    "elapsed = time() - t\n",
    "print(\"Capitalizations were fixed! Took {0:,.2f} seconds.\".format(elapsed))"
   ],
   "metadata": {
    "collapsed": false,
    "pycharm": {
     "name": "#%%\n",
     "is_executing": false
    }
   }
  },
  {
   "cell_type": "markdown",
   "source": [
    "## Step 3: Remove column `province`"
   ],
   "metadata": {
    "collapsed": false,
    "pycharm": {
     "name": "#%% md\n",
     "is_executing": false
    }
   }
  },
  {
   "cell_type": "code",
   "execution_count": 6,
   "outputs": [
    {
     "name": "stdout",
     "text": [
      "Column 'province' was removed from the dataset.\n"
     ],
     "output_type": "stream"
    }
   ],
   "source": [
    "df = df.drop('province', axis=1)\n",
    "print(\"Column 'province' was removed from the dataset.\")"
   ],
   "metadata": {
    "collapsed": false,
    "pycharm": {
     "name": "#%%\n",
     "is_executing": false
    }
   }
  },
  {
   "cell_type": "markdown",
   "source": [
    "## Step 4: Investigate missing values"
   ],
   "metadata": {
    "collapsed": false,
    "pycharm": {
     "name": "#%% md\n"
    }
   }
  },
  {
   "cell_type": "code",
   "execution_count": 7,
   "outputs": [
    {
     "name": "stdout",
     "text": [
      "<class 'pandas.core.frame.DataFrame'>\nRangeIndex: 6803691 entries, 0 to 6803690\nData columns (total 17 columns):\nlro_num               6803691 non-null int64\npin                   6803691 non-null int64\nconsideration_amt     6803691 non-null float64\nregistration_date     6803691 non-null object\npostal_code           6233082 non-null object\nunitno                1571830 non-null float64\nstreet_name           6598317 non-null object\nstreet_designation    6211313 non-null object\nstreet_direction      653205 non-null object\nmunicipality          6799681 non-null object\nstreet_suffix         43 non-null float64\nstreet_number         6594322 non-null float64\nx                     6803691 non-null float64\ny                     6803691 non-null float64\nobjectid              6803691 non-null int64\ndauid                 6803691 non-null int64\ncsdname               6803691 non-null object\ndtypes: float64(6), int64(4), object(7)\nmemory usage: 882.4+ MB\n"
     ],
     "output_type": "stream"
    }
   ],
   "source": [
    "df.info(null_counts=True)"
   ],
   "metadata": {
    "collapsed": false,
    "pycharm": {
     "name": "#%%\n",
     "is_executing": false
    }
   }
  },
  {
   "cell_type": "code",
   "execution_count": 8,
   "outputs": [
    {
     "data": {
      "text/plain": "<Figure size 576x432 with 1 Axes>",
      "image/png": "[encoded data removed]"
     },
     "metadata": {
      "needs_background": "light"
     },
     "output_type": "display_data"
    }
   ],
   "source": [
    "na_count = df.isnull().sum().sort_values()\n",
    "\n",
    "f, ax = plt.subplots(1, figsize=(8, 6))\n",
    "na_count.plot(kind='barh', ax=ax)\n",
    "ax.grid(axis='y')\n",
    "plt.xticks(rotation=45, fontsize=16)\n",
    "plt.yticks(fontsize=14)\n",
    "ax.get_xaxis().set_major_formatter(\n",
    "    matplotlib.ticker.FuncFormatter(lambda x, p: format(int(x), ',')))\n",
    "ax.set_title(\"Number of missing values per column\", fontsize=18)\n",
    "ax.set_ylabel(\"Column name\", fontsize=16)\n",
    "ax.set_xlabel(\"Number of missing entries\", fontsize=16)\n",
    "plt.savefig('results/teranet_na_count.png', dpi=400, bbox_inches='tight')"
   ],
   "metadata": {
    "collapsed": false,
    "pycharm": {
     "name": "#%%\n",
     "is_executing": false
    }
   }
  },
  {
   "cell_type": "code",
   "execution_count": 9,
   "outputs": [
    {
     "data": {
      "text/plain": "<Figure size 576x432 with 1 Axes>",
      "image/png": "[encoded data removed]"
     },
     "metadata": {
      "needs_background": "light"
     },
     "output_type": "display_data"
    }
   ],
   "source": [
    "na_perc = df.isnull().sum().sort_values() / len(df) * 100\n",
    "\n",
    "f, ax = plt.subplots(1, figsize=(8, 6))\n",
    "na_perc.plot(kind='barh', ax=ax)\n",
    "ax.grid(axis='y')\n",
    "plt.xticks(fontsize=16)\n",
    "plt.yticks(fontsize=14)\n",
    "ax.get_xaxis().set_major_formatter(\n",
    "    matplotlib.ticker.FuncFormatter(lambda x, p: format(int(x), ',')))\n",
    "ax.set_title(\"Percentage of missing values per column\", fontsize=18)\n",
    "ax.set_ylabel(\"Column name\", fontsize=16)\n",
    "ax.set_xlabel(\"% of missing entries\\n(out of the total {0:,} records)\"\n",
    "              .format(len(df)), fontsize=16)\n",
    "plt.savefig('results/teranet_na_perc.png', dpi=400, bbox_inches='tight')"
   ],
   "metadata": {
    "collapsed": false,
    "pycharm": {
     "name": "#%%\n",
     "is_executing": false
    }
   }
  },
  {
   "cell_type": "markdown",
   "source": [
    "## Step 5: Remove column `street_suffix`\n",
    "Since 99.99994% of the values in column `street_suffix` are missing, it has been removed from the dataset."
   ],
   "metadata": {
    "collapsed": false,
    "pycharm": {
     "name": "#%% md\n",
     "is_executing": false
    }
   }
  },
  {
   "cell_type": "code",
   "execution_count": 10,
   "outputs": [
    {
     "name": "stdout",
     "text": [
      "Column 'street_suffix' was removed from the dataset.\n"
     ],
     "output_type": "stream"
    }
   ],
   "source": [
    "df = df.drop('street_suffix', axis=1)\n",
    "print(\"Column 'street_suffix' was removed from the dataset.\")"
   ],
   "metadata": {
    "collapsed": false,
    "pycharm": {
     "name": "#%%\n",
     "is_executing": false
    }
   }
  },
  {
   "cell_type": "markdown",
   "source": [
    "## Step 6: \n",
    "\n",
    "Column `postal_code` has been validated to contain the correct data format (Canadian postal codes).\n",
    "\n",
    "Inconsistent entries are fixed in the following columns:\n",
    "* `unitno`\n",
    "* `street_name`\n",
    "* `street_designaction`\n",
    "* `street_direction`\n",
    "* `municipality`\n",
    "\n",
    "### Validate consistency of column `postal_code`\n",
    "570'609 values are missing, the rest follow the correct data format."
   ],
   "metadata": {
    "collapsed": false,
    "pycharm": {
     "name": "#%% md\n"
    }
   }
  },
  {
   "cell_type": "code",
   "execution_count": 11,
   "outputs": [
    {
     "data": {
      "text/plain": "True    6233082\nNaN      570609\nName: postal_code, dtype: int64"
     },
     "metadata": {},
     "output_type": "execute_result",
     "execution_count": 11
    }
   ],
   "source": [
    "df['postal_code'].str.match('^[A-Z]\\d[A-Z]\\d[A-Z]\\d$')\\\n",
    "    .value_counts(dropna=False)"
   ],
   "metadata": {
    "collapsed": false,
    "pycharm": {
     "name": "#%%\n",
     "is_executing": false
    }
   }
  },
  {
   "cell_type": "markdown",
   "source": [
    "### Fix values in column `unitno`\n",
    "\n",
    "#### 1.010000e-107"
   ],
   "metadata": {
    "collapsed": false,
    "pycharm": {
     "name": "#%% md\n"
    }
   }
  },
  {
   "cell_type": "code",
   "execution_count": 12,
   "outputs": [
    {
     "data": {
      "text/plain": "340618    1.010000e-107\nName: unitno, dtype: float64"
     },
     "metadata": {},
     "output_type": "execute_result",
     "execution_count": 12
    }
   ],
   "source": [
    "unit_no = df['unitno'].astype('str')\n",
    "mask1 = unit_no.str.contains('e')\n",
    "mask2 = unit_no.str.match('1.01')\n",
    "mask3 = unit_no.str.match('1.009')\n",
    "df.loc[mask1 & (mask2 | mask3), 'unitno']"
   ],
   "metadata": {
    "collapsed": false,
    "pycharm": {
     "name": "#%%\n",
     "is_executing": false
    }
   }
  },
  {
   "cell_type": "code",
   "execution_count": 13,
   "outputs": [
    {
     "data": {
      "text/plain": "340618    101.0\nName: unitno, dtype: float64"
     },
     "metadata": {},
     "output_type": "execute_result",
     "execution_count": 13
    }
   ],
   "source": [
    "df.loc[mask1 & (mask2 | mask3), 'unitno'] = 101\n",
    "df.loc[mask1 & (mask2 | mask3), 'unitno']"
   ],
   "metadata": {
    "collapsed": false,
    "pycharm": {
     "name": "#%%\n",
     "is_executing": false
    }
   }
  },
  {
   "cell_type": "markdown",
   "source": [
    "#### 1.200000e-/+x\n",
    ">It is impossible to tell, if this erratic unit number corresponds to '12', '120', or '1200'. All units that match this pattern have been converted to '12'."
   ],
   "metadata": {
    "collapsed": false,
    "pycharm": {
     "name": "#%% md\n"
    }
   }
  },
  {
   "cell_type": "code",
   "execution_count": 14,
   "outputs": [
    {
     "data": {
      "text/plain": "3953588    1.200000e-103\n3953651    1.200000e-200\n3953674    1.200000e-200\n3953742    1.200000e-200\n3953776    1.200000e-200\n3954430    1.200000e-200\n3954537    1.200000e-200\n3954600    1.200000e-200\n3954633    1.200000e-200\n3954636    1.200000e-103\n3954679    1.200000e-200\n3954680    1.200000e-200\n3954682    1.200000e-200\n3954683    1.200000e-200\n3954756    1.200000e-103\n3955235    1.200000e-103\nName: unitno, dtype: float64"
     },
     "metadata": {},
     "output_type": "execute_result",
     "execution_count": 14
    }
   ],
   "source": [
    "unit_no = df['unitno'].astype('str')\n",
    "mask1 = unit_no.str.contains('e')\n",
    "mask2 = unit_no.str.match('1.199')\n",
    "df.loc[mask1 & mask2, 'unitno']"
   ],
   "metadata": {
    "collapsed": false,
    "pycharm": {
     "name": "#%%\n",
     "is_executing": false
    }
   }
  },
  {
   "cell_type": "code",
   "execution_count": 15,
   "outputs": [
    {
     "data": {
      "text/plain": "3953588    12.0\n3953651    12.0\n3953674    12.0\n3953742    12.0\n3953776    12.0\n3954430    12.0\n3954537    12.0\n3954600    12.0\n3954633    12.0\n3954636    12.0\n3954679    12.0\n3954680    12.0\n3954682    12.0\n3954683    12.0\n3954756    12.0\n3955235    12.0\nName: unitno, dtype: float64"
     },
     "metadata": {},
     "output_type": "execute_result",
     "execution_count": 15
    }
   ],
   "source": [
    "df.loc[mask1 & mask2, 'unitno'] = 12\n",
    "df.loc[mask1 & mask2, 'unitno']"
   ],
   "metadata": {
    "collapsed": false,
    "pycharm": {
     "name": "#%%\n",
     "is_executing": false
    }
   }
  },
  {
   "cell_type": "markdown",
   "source": [
    "#### 2.000000e-/+x\n",
    ">It is impossible to tell, if this erratic unit number corresponds to '2', '20', or '200'. All units that match this pattern have been converted to '2'."
   ],
   "metadata": {
    "collapsed": false,
    "pycharm": {
     "name": "#%% md\n",
     "is_executing": false
    }
   }
  },
  {
   "cell_type": "code",
   "execution_count": 16,
   "outputs": [
    {
     "data": {
      "text/plain": "803793      2.000000e-22\n804383      2.000000e-22\n804389      2.000000e-22\n976890     2.000000e+105\n980143     2.000000e+155\n980174     2.000000e+155\n985930     2.000000e+105\n1319468     2.000000e-06\n1319615     2.000000e-05\n1320010     2.000000e-06\n1745134     2.000000e+18\n1745135     2.000000e+19\n1745136     2.000000e+21\n1746261     2.000000e+18\n1746262     2.000000e+19\n1746263     2.000000e+21\n2898062    2.000000e-123\n2901764    2.000000e-123\n2902654    2.000000e-123\n4334081     2.000000e-12\n4334231     2.000000e-12\n4334306     2.000000e-12\nName: unitno, dtype: float64"
     },
     "metadata": {},
     "output_type": "execute_result",
     "execution_count": 16
    }
   ],
   "source": [
    "unit_no = df['unitno'].astype('str')\n",
    "mask1 = unit_no.str.contains('e')\n",
    "mask2 = unit_no.str.match('2')\n",
    "mask3 = unit_no.str.match('1.99')\n",
    "df.loc[mask1 & (mask2 | mask3), 'unitno']"
   ],
   "metadata": {
    "collapsed": false,
    "pycharm": {
     "name": "#%%\n",
     "is_executing": false
    }
   }
  },
  {
   "cell_type": "code",
   "execution_count": 17,
   "outputs": [
    {
     "data": {
      "text/plain": "803793     2.0\n804383     2.0\n804389     2.0\n976890     2.0\n980143     2.0\n980174     2.0\n985930     2.0\n1319468    2.0\n1319615    2.0\n1320010    2.0\n1745134    2.0\n1745135    2.0\n1745136    2.0\n1746261    2.0\n1746262    2.0\n1746263    2.0\n2898062    2.0\n2901764    2.0\n2902654    2.0\n4334081    2.0\n4334231    2.0\n4334306    2.0\nName: unitno, dtype: float64"
     },
     "metadata": {},
     "output_type": "execute_result",
     "execution_count": 17
    }
   ],
   "source": [
    "df.loc[mask1 & (mask2 | mask3), 'unitno'] = 2\n",
    "df.loc[mask1 & (mask2 | mask3), 'unitno']"
   ],
   "metadata": {
    "collapsed": false,
    "pycharm": {
     "name": "#%%\n",
     "is_executing": false
    }
   }
  },
  {
   "cell_type": "markdown",
   "source": [
    "#### 1.100000e-201\n",
    ">It is impossible to tell, if this erratic unit number corresponds to '11', '110', or '1100'. All units that match this pattern have been converted to '11'."
   ],
   "metadata": {
    "collapsed": false,
    "pycharm": {
     "name": "#%% md\n"
    }
   }
  },
  {
   "cell_type": "code",
   "execution_count": 18,
   "outputs": [
    {
     "data": {
      "text/plain": "3953610    1.100000e-201\n3953628    1.100000e-201\n3953668    1.100000e-201\n3954463    1.100000e-201\n3954481    1.100000e-201\n3954512    1.100000e-201\n3954772    1.100000e-201\n3954773    1.100000e-201\n3954774    1.100000e-201\n3955395    1.100000e-201\n3955397    1.100000e-201\n3955398    1.100000e-201\nName: unitno, dtype: float64"
     },
     "metadata": {},
     "output_type": "execute_result",
     "execution_count": 18
    }
   ],
   "source": [
    "unit_no = df['unitno'].astype('str')\n",
    "mask1 = unit_no.str.contains('e')\n",
    "mask2 = unit_no.str.match('1.1')\n",
    "mask3 = unit_no.str.match('1.09')\n",
    "df.loc[mask1 & (mask2 | mask3), 'unitno']"
   ],
   "metadata": {
    "collapsed": false,
    "pycharm": {
     "name": "#%%\n",
     "is_executing": false
    }
   }
  },
  {
   "cell_type": "code",
   "execution_count": 19,
   "outputs": [
    {
     "data": {
      "text/plain": "3953610    11.0\n3953628    11.0\n3953668    11.0\n3954463    11.0\n3954481    11.0\n3954512    11.0\n3954772    11.0\n3954773    11.0\n3954774    11.0\n3955395    11.0\n3955397    11.0\n3955398    11.0\nName: unitno, dtype: float64"
     },
     "metadata": {},
     "output_type": "execute_result",
     "execution_count": 19
    }
   ],
   "source": [
    "df.loc[mask1 & (mask2 | mask3), 'unitno'] = 11\n",
    "df.loc[mask1 & (mask2 | mask3), 'unitno']"
   ],
   "metadata": {
    "collapsed": false,
    "pycharm": {
     "name": "#%%\n",
     "is_executing": false
    }
   }
  },
  {
   "cell_type": "markdown",
   "source": [
    "#### 1.700000e-06\n",
    ">It is impossible to tell, if this erratic unit number corresponds to '17', '170', or '1700'. All units that match this pattern have been converted to '17'."
   ],
   "metadata": {
    "collapsed": false
   }
  },
  {
   "cell_type": "code",
   "execution_count": 20,
   "outputs": [
    {
     "data": {
      "text/plain": "1288104    0.000002\n1288472    0.000002\nName: unitno, dtype: float64"
     },
     "metadata": {},
     "output_type": "execute_result",
     "execution_count": 20
    }
   ],
   "source": [
    "unit_no = df['unitno'].astype('str')\n",
    "mask1 = unit_no.str.contains('e')\n",
    "mask2 = unit_no.str.match('1.7')\n",
    "mask3 = unit_no.str.match('1.69')\n",
    "df.loc[mask1 & (mask2 | mask3), 'unitno']"
   ],
   "metadata": {
    "collapsed": false,
    "pycharm": {
     "name": "#%%\n",
     "is_executing": false
    }
   }
  },
  {
   "cell_type": "code",
   "execution_count": 21,
   "outputs": [
    {
     "data": {
      "text/plain": "1288104    17.0\n1288472    17.0\nName: unitno, dtype: float64"
     },
     "metadata": {},
     "output_type": "execute_result",
     "execution_count": 21
    }
   ],
   "source": [
    "df.loc[mask1 & (mask2 | mask3), 'unitno'] = 17\n",
    "df.loc[mask1 & (mask2 | mask3), 'unitno']"
   ],
   "metadata": {
    "collapsed": false,
    "pycharm": {
     "name": "#%%\n",
     "is_executing": false
    }
   }
  },
  {
   "cell_type": "markdown",
   "source": [
    "#### 1.800000e-19\n",
    ">It is impossible to tell, if this erratic unit number corresponds to '18', '180', or '1800'. All units that match this pattern have been converted to '18'."
   ],
   "metadata": {
    "collapsed": false
   }
  },
  {
   "cell_type": "code",
   "execution_count": 22,
   "outputs": [
    {
     "data": {
      "text/plain": "4939849    1.800000e-19\nName: unitno, dtype: float64"
     },
     "metadata": {},
     "output_type": "execute_result",
     "execution_count": 22
    }
   ],
   "source": [
    "unit_no = df['unitno'].astype('str')\n",
    "mask1 = unit_no.str.contains('e')\n",
    "mask2 = unit_no.str.match('1.8')\n",
    "mask3 = unit_no.str.match('1.79')\n",
    "df.loc[mask1 & (mask2 | mask3), 'unitno']"
   ],
   "metadata": {
    "collapsed": false,
    "pycharm": {
     "name": "#%%\n",
     "is_executing": false
    }
   }
  },
  {
   "cell_type": "code",
   "execution_count": 23,
   "outputs": [
    {
     "data": {
      "text/plain": "4939849    18.0\nName: unitno, dtype: float64"
     },
     "metadata": {},
     "output_type": "execute_result",
     "execution_count": 23
    }
   ],
   "source": [
    "df.loc[mask1 & (mask2 | mask3), 'unitno'] = 18\n",
    "df.loc[mask1 & (mask2 | mask3), 'unitno']"
   ],
   "metadata": {
    "collapsed": false,
    "pycharm": {
     "name": "#%%\n",
     "is_executing": false
    }
   }
  },
  {
   "cell_type": "markdown",
   "source": [
    "#### 3.300000e-33\n",
    ">It is impossible to tell, if this erratic unit number corresponds to '33', '330', or '3300'. All units that match this pattern have been converted to '33'."
   ],
   "metadata": {
    "collapsed": false
   }
  },
  {
   "cell_type": "code",
   "execution_count": 24,
   "outputs": [
    {
     "data": {
      "text/plain": "410169    3.300000e-33\n410499    3.300000e-33\n410506    3.300000e-33\nName: unitno, dtype: float64"
     },
     "metadata": {},
     "output_type": "execute_result",
     "execution_count": 24
    }
   ],
   "source": [
    "unit_no = df['unitno'].astype('str')\n",
    "mask1 = unit_no.str.contains('e')\n",
    "mask2 = unit_no.str.match('3.3')\n",
    "mask3 = unit_no.str.match('3.29')\n",
    "df.loc[mask1 & (mask2 | mask3), 'unitno']"
   ],
   "metadata": {
    "collapsed": false,
    "pycharm": {
     "name": "#%%\n",
     "is_executing": false
    }
   }
  },
  {
   "cell_type": "code",
   "execution_count": 25,
   "outputs": [
    {
     "data": {
      "text/plain": "410169    33.0\n410499    33.0\n410506    33.0\nName: unitno, dtype: float64"
     },
     "metadata": {},
     "output_type": "execute_result",
     "execution_count": 25
    }
   ],
   "source": [
    "df.loc[mask1 & (mask2 | mask3), 'unitno'] = 33\n",
    "df.loc[mask1 & (mask2 | mask3), 'unitno']"
   ],
   "metadata": {
    "collapsed": false,
    "pycharm": {
     "name": "#%%\n",
     "is_executing": false
    }
   }
  },
  {
   "cell_type": "markdown",
   "source": [
    "#### 6.000000e-x\n",
    ">It is impossible to tell, if this erratic unit number corresponds to '6', '60', or '600'. All units that match this pattern have been converted to '6'."
   ],
   "metadata": {
    "collapsed": false
   }
  },
  {
   "cell_type": "code",
   "execution_count": 26,
   "outputs": [
    {
     "data": {
      "text/plain": "2900912     6.000000e-22\n2902554     6.000000e-22\n3953612    6.000000e-104\n3953616    6.000000e-104\n3953676    6.000000e-201\n3953705    6.000000e-201\n3953716    6.000000e-201\n3953724    6.000000e-201\n3953772    6.000000e-201\n3954405    6.000000e-201\n3954429    6.000000e-201\n3954470    6.000000e-201\n3954490    6.000000e-201\n3954517    6.000000e-104\n3954610    6.000000e-201\n3954626    6.000000e-104\n3954660    6.000000e-104\n3954662    6.000000e-104\n3954717    6.000000e-201\n3954718    6.000000e-201\n3954719    6.000000e-201\n3954720    6.000000e-201\n3954721    6.000000e-201\n3955433    6.000000e-104\n3955435    6.000000e-104\nName: unitno, dtype: float64"
     },
     "metadata": {},
     "output_type": "execute_result",
     "execution_count": 26
    }
   ],
   "source": [
    "unit_no = df['unitno'].astype('str')\n",
    "mask1 = unit_no.str.contains('e')\n",
    "mask2 = unit_no.str.match('6')\n",
    "mask3 = unit_no.str.match('5.9')\n",
    "df.loc[mask1 & (mask2 | mask3), 'unitno']"
   ],
   "metadata": {
    "collapsed": false,
    "pycharm": {
     "name": "#%%\n",
     "is_executing": false
    }
   }
  },
  {
   "cell_type": "code",
   "execution_count": 27,
   "outputs": [
    {
     "data": {
      "text/plain": "2900912    6.0\n2902554    6.0\n3953612    6.0\n3953616    6.0\n3953676    6.0\n3953705    6.0\n3953716    6.0\n3953724    6.0\n3953772    6.0\n3954405    6.0\n3954429    6.0\n3954470    6.0\n3954490    6.0\n3954517    6.0\n3954610    6.0\n3954626    6.0\n3954660    6.0\n3954662    6.0\n3954717    6.0\n3954718    6.0\n3954719    6.0\n3954720    6.0\n3954721    6.0\n3955433    6.0\n3955435    6.0\nName: unitno, dtype: float64"
     },
     "metadata": {},
     "output_type": "execute_result",
     "execution_count": 27
    }
   ],
   "source": [
    "df.loc[mask1 & (mask2 | mask3), 'unitno'] = 6\n",
    "df.loc[mask1 & (mask2 | mask3), 'unitno']"
   ],
   "metadata": {
    "collapsed": false,
    "pycharm": {
     "name": "#%%\n",
     "is_executing": false
    }
   }
  },
  {
   "cell_type": "markdown",
   "source": [
    "#### 5.000000e-x\n",
    ">It is impossible to tell, if this erratic unit number corresponds to '5', '50', or '500'. All units that match this pattern have been converted to '5'."
   ],
   "metadata": {
    "collapsed": false
   }
  },
  {
   "cell_type": "code",
   "execution_count": 28,
   "outputs": [
    {
     "data": {
      "text/plain": "3953583    5.000000e-103\n3953659    5.000000e-102\n3953682    5.000000e-103\n3953778    5.000000e-102\n3954459    5.000000e-103\n3954479    5.000000e-103\n3954545    5.000000e-102\n3954631    5.000000e-102\n3954750    5.000000e-102\n3954752    5.000000e-102\n3954822    5.000000e-103\n3954823    5.000000e-103\n4287802     5.000000e-06\n4287803     5.000000e-06\nName: unitno, dtype: float64"
     },
     "metadata": {},
     "output_type": "execute_result",
     "execution_count": 28
    }
   ],
   "source": [
    "unit_no = df['unitno'].astype('str')\n",
    "mask1 = unit_no.str.contains('e')\n",
    "mask2 = unit_no.str.match('5')\n",
    "mask3 = unit_no.str.match('4.9')\n",
    "df.loc[mask1 & (mask2 | mask3), 'unitno']"
   ],
   "metadata": {
    "collapsed": false,
    "pycharm": {
     "name": "#%%\n",
     "is_executing": false
    }
   }
  },
  {
   "cell_type": "code",
   "execution_count": 29,
   "outputs": [
    {
     "data": {
      "text/plain": "3953583    5.0\n3953659    5.0\n3953682    5.0\n3953778    5.0\n3954459    5.0\n3954479    5.0\n3954545    5.0\n3954631    5.0\n3954750    5.0\n3954752    5.0\n3954822    5.0\n3954823    5.0\n4287802    5.0\n4287803    5.0\nName: unitno, dtype: float64"
     },
     "metadata": {},
     "output_type": "execute_result",
     "execution_count": 29
    }
   ],
   "source": [
    "df.loc[mask1 & (mask2 | mask3), 'unitno'] = 5\n",
    "df.loc[mask1 & (mask2 | mask3), 'unitno']"
   ],
   "metadata": {
    "collapsed": false,
    "pycharm": {
     "name": "#%%\n",
     "is_executing": false
    }
   }
  },
  {
   "cell_type": "markdown",
   "source": [
    "#### 1.000000e-/+21\n",
    ">It is impossible to tell, if this erratic unit number corresponds to '1', '10', or '100'. All units that match this pattern have been converted to '1'."
   ],
   "metadata": {
    "collapsed": false,
    "pycharm": {
     "name": "#%% md\n"
    }
   }
  },
  {
   "cell_type": "code",
   "execution_count": 30,
   "outputs": [
    {
     "data": {
      "text/plain": "1745078     1.000000e+21\n1745138     1.000000e+18\n1745139     1.000000e+20\n1745140     1.000000e+22\n1745141     1.000000e+25\n1745142     1.000000e+27\n1745145     1.000000e+19\n1745146     1.000000e+17\n1745147     1.000000e+21\n1745161     1.000000e+26\n1745163     1.000000e+23\n1745186     1.000000e+17\n1745195     1.000000e+16\n1745321     1.000000e+19\n1745437     1.000000e+17\n1745438     1.000000e+19\n1745439     1.000000e+21\n1745440     1.000000e+23\n1745528     1.000000e+26\n1745667     1.000000e+26\n1746217     1.000000e+20\n1746218     1.000000e+27\n1746219     1.000000e+22\n1746220     1.000000e+25\n1746221     1.000000e+18\n1746441     1.000000e+17\n2908723     1.000000e-10\n2908791     1.000000e-10\n2908927     1.000000e-10\n2909068     1.000000e-10\n3822265     1.000000e-05\n3822266     1.000000e-05\n3822267     1.000000e-05\n3822268     1.000000e-05\n3822269     1.000000e-05\n3953792    1.000000e-101\n3954603    1.000000e-101\n3954834    1.000000e-101\n4989609     1.000000e-20\n4989611     1.000000e-20\n4989636     1.000000e-20\nName: unitno, dtype: float64"
     },
     "metadata": {},
     "output_type": "execute_result",
     "execution_count": 30
    }
   ],
   "source": [
    "unit_no = df['unitno'].astype('str')\n",
    "mask1 = unit_no.str.contains('e')\n",
    "mask2 = unit_no.str.match('1')\n",
    "mask3 = unit_no.str.match('0.9')\n",
    "id_list = [3953792, 3954603, 3954834]\n",
    "mask4 = unit_no.index.isin(id_list)\n",
    "df.loc[mask1 & (mask2 | mask3) | mask4, 'unitno']"
   ],
   "metadata": {
    "collapsed": false,
    "pycharm": {
     "name": "#%%\n",
     "is_executing": false
    }
   }
  },
  {
   "cell_type": "code",
   "execution_count": 31,
   "outputs": [
    {
     "data": {
      "text/plain": "1745078    1.0\n1745138    1.0\n1745139    1.0\n1745140    1.0\n1745141    1.0\n1745142    1.0\n1745145    1.0\n1745146    1.0\n1745147    1.0\n1745161    1.0\n1745163    1.0\n1745186    1.0\n1745195    1.0\n1745321    1.0\n1745437    1.0\n1745438    1.0\n1745439    1.0\n1745440    1.0\n1745528    1.0\n1745667    1.0\n1746217    1.0\n1746218    1.0\n1746219    1.0\n1746220    1.0\n1746221    1.0\n1746441    1.0\n2908723    1.0\n2908791    1.0\n2908927    1.0\n2909068    1.0\n3822265    1.0\n3822266    1.0\n3822267    1.0\n3822268    1.0\n3822269    1.0\n3953792    1.0\n3954603    1.0\n3954834    1.0\n4989609    1.0\n4989611    1.0\n4989636    1.0\nName: unitno, dtype: float64"
     },
     "metadata": {},
     "output_type": "execute_result",
     "execution_count": 31
    }
   ],
   "source": [
    "df.loc[mask1 & (mask2 | mask3) | mask4, 'unitno'] = 1\n",
    "df.loc[mask1 & (mask2 | mask3) | mask4, 'unitno']"
   ],
   "metadata": {
    "collapsed": false,
    "pycharm": {
     "name": "#%%\n",
     "is_executing": false
    }
   }
  },
  {
   "cell_type": "markdown",
   "source": [
    "#### 9.000000e-104\n",
    ">It is impossible to tell, if this erratic unit number corresponds to '9', '90', or '900'. All units that match this pattern have been converted to '9'."
   ],
   "metadata": {
    "collapsed": false
   }
  },
  {
   "cell_type": "code",
   "execution_count": 32,
   "outputs": [
    {
     "data": {
      "text/plain": "3953784    9.000000e-104\n3954609    9.000000e-104\n3954768    9.000000e-104\n3954955    9.000000e-104\n3955042    9.000000e-104\n3956086    9.000000e-104\n3956539    9.000000e-104\nName: unitno, dtype: float64"
     },
     "metadata": {},
     "output_type": "execute_result",
     "execution_count": 32
    }
   ],
   "source": [
    "unit_no = df['unitno'].astype('str')\n",
    "mask1 = unit_no.str.contains('e')\n",
    "mask2 = unit_no.str.match('9')\n",
    "mask3 = unit_no.str.match('8.9')\n",
    "df.loc[mask1 & (mask2 | mask3), 'unitno']"
   ],
   "metadata": {
    "collapsed": false,
    "pycharm": {
     "name": "#%%\n",
     "is_executing": false
    }
   }
  },
  {
   "cell_type": "code",
   "execution_count": 33,
   "outputs": [
    {
     "data": {
      "text/plain": "3953784    9.0\n3954609    9.0\n3954768    9.0\n3954955    9.0\n3955042    9.0\n3956086    9.0\n3956539    9.0\nName: unitno, dtype: float64"
     },
     "metadata": {},
     "output_type": "execute_result",
     "execution_count": 33
    }
   ],
   "source": [
    "df.loc[mask1 & (mask2 | mask3), 'unitno'] = 9\n",
    "df.loc[mask1 & (mask2 | mask3), 'unitno']"
   ],
   "metadata": {
    "collapsed": false,
    "pycharm": {
     "name": "#%%\n",
     "is_executing": false
    }
   }
  },
  {
   "cell_type": "markdown",
   "source": [
    "#### 4.000000e-104\n",
    ">It is impossible to tell, if this erratic unit number corresponds to '4', '40', or '400'. All units that match this pattern have been converted to '4'."
   ],
   "metadata": {
    "collapsed": false
   }
  },
  {
   "cell_type": "code",
   "execution_count": 34,
   "outputs": [
    {
     "data": {
      "text/plain": "3953713    4.000000e-104\n3954624    4.000000e-104\n3954754    4.000000e-104\n3955982    4.000000e-104\nName: unitno, dtype: float64"
     },
     "metadata": {},
     "output_type": "execute_result",
     "execution_count": 34
    }
   ],
   "source": [
    "unit_no = df['unitno'].astype('str')\n",
    "mask1 = unit_no.str.contains('e')\n",
    "mask2 = unit_no.str.match('4')\n",
    "mask3 = unit_no.str.match('3.9')\n",
    "df.loc[mask1 & (mask2 | mask3), 'unitno']"
   ],
   "metadata": {
    "collapsed": false,
    "pycharm": {
     "name": "#%%\n",
     "is_executing": false
    }
   }
  },
  {
   "cell_type": "code",
   "execution_count": 35,
   "outputs": [
    {
     "data": {
      "text/plain": "3953713    4.0\n3954624    4.0\n3954754    4.0\n3955982    4.0\nName: unitno, dtype: float64"
     },
     "metadata": {},
     "output_type": "execute_result",
     "execution_count": 35
    }
   ],
   "source": [
    "df.loc[mask1 & (mask2 | mask3), 'unitno'] = 4\n",
    "df.loc[mask1 & (mask2 | mask3), 'unitno']"
   ],
   "metadata": {
    "collapsed": false,
    "pycharm": {
     "name": "#%%\n",
     "is_executing": false
    }
   }
  },
  {
   "cell_type": "markdown",
   "source": [
    "#### 8.000000e-206\n",
    ">It is impossible to tell, if this erratic unit number corresponds to '8', '80', or '800'. All units that match this pattern have been converted to '8'."
   ],
   "metadata": {
    "collapsed": false
   }
  },
  {
   "cell_type": "code",
   "execution_count": 36,
   "outputs": [
    {
     "data": {
      "text/plain": "3252381    8.000000e-206\nName: unitno, dtype: float64"
     },
     "metadata": {},
     "output_type": "execute_result",
     "execution_count": 36
    }
   ],
   "source": [
    "unit_no = df['unitno'].astype('str')\n",
    "mask1 = unit_no.str.contains('e')\n",
    "df.loc[mask1, 'unitno']"
   ],
   "metadata": {
    "collapsed": false,
    "pycharm": {
     "name": "#%%\n",
     "is_executing": false
    }
   }
  },
  {
   "cell_type": "code",
   "execution_count": 37,
   "outputs": [
    {
     "data": {
      "text/plain": "3252381    8.0\nName: unitno, dtype: float64"
     },
     "metadata": {},
     "output_type": "execute_result",
     "execution_count": 37
    }
   ],
   "source": [
    "df.loc[mask1, 'unitno'] = 8\n",
    "df.loc[mask1, 'unitno']"
   ],
   "metadata": {
    "collapsed": false,
    "pycharm": {
     "name": "#%%\n",
     "is_executing": false
    }
   }
  },
  {
   "cell_type": "markdown",
   "source": [
    "#### 0.01"
   ],
   "metadata": {
    "collapsed": false
   }
  },
  {
   "cell_type": "code",
   "execution_count": 38,
   "outputs": [
    {
     "data": {
      "text/plain": "15864    0.01\n79209    0.01\n79401    0.01\n79466    0.01\n80108    0.01\nName: unitno, dtype: float64"
     },
     "metadata": {},
     "output_type": "execute_result",
     "execution_count": 38
    }
   ],
   "source": [
    "unit_no = df['unitno'].astype('str')\n",
    "mask1 = unit_no.str.match('0.01')\n",
    "df.loc[mask1, 'unitno']"
   ],
   "metadata": {
    "collapsed": false,
    "pycharm": {
     "name": "#%%\n",
     "is_executing": false
    }
   }
  },
  {
   "cell_type": "code",
   "execution_count": 39,
   "outputs": [
    {
     "data": {
      "text/plain": "15864    1.0\n79209    1.0\n79401    1.0\n79466    1.0\n80108    1.0\nName: unitno, dtype: float64"
     },
     "metadata": {},
     "output_type": "execute_result",
     "execution_count": 39
    }
   ],
   "source": [
    "df.loc[mask1, 'unitno'] = 1\n",
    "df.loc[mask1, 'unitno']"
   ],
   "metadata": {
    "collapsed": false,
    "pycharm": {
     "name": "#%%\n",
     "is_executing": false
    }
   }
  },
  {
   "cell_type": "markdown",
   "source": [
    "#### 0.37"
   ],
   "metadata": {
    "collapsed": false
   }
  },
  {
   "cell_type": "code",
   "execution_count": 40,
   "outputs": [
    {
     "data": {
      "text/plain": "836947    0.37\n839733    0.37\n851318    0.37\n859826    0.37\n865485    0.37\nName: unitno, dtype: float64"
     },
     "metadata": {},
     "output_type": "execute_result",
     "execution_count": 40
    }
   ],
   "source": [
    "unit_no = df['unitno'].astype('str')\n",
    "mask1 = unit_no.str.match('0.37')\n",
    "df.loc[mask1, 'unitno']"
   ],
   "metadata": {
    "collapsed": false,
    "pycharm": {
     "name": "#%%\n",
     "is_executing": false
    }
   }
  },
  {
   "cell_type": "code",
   "execution_count": 41,
   "outputs": [
    {
     "data": {
      "text/plain": "836947    37.0\n839733    37.0\n851318    37.0\n859826    37.0\n865485    37.0\nName: unitno, dtype: float64"
     },
     "metadata": {},
     "output_type": "execute_result",
     "execution_count": 41
    }
   ],
   "source": [
    "df.loc[mask1, 'unitno'] = 37\n",
    "df.loc[mask1, 'unitno']"
   ],
   "metadata": {
    "collapsed": false,
    "pycharm": {
     "name": "#%%\n",
     "is_executing": false
    }
   }
  },
  {
   "cell_type": "markdown",
   "source": [
    "#### 0.000815"
   ],
   "metadata": {
    "collapsed": false
   }
  },
  {
   "cell_type": "code",
   "execution_count": 42,
   "outputs": [
    {
     "data": {
      "text/plain": "4449760    0.000815\n4449761    0.000815\n4451595    0.000815\n4451596    0.000815\nName: unitno, dtype: float64"
     },
     "metadata": {},
     "output_type": "execute_result",
     "execution_count": 42
    }
   ],
   "source": [
    "unit_no = df['unitno'].astype('str')\n",
    "mask1 = unit_no.str.match('0.000815')\n",
    "df.loc[mask1, 'unitno']"
   ],
   "metadata": {
    "collapsed": false,
    "pycharm": {
     "name": "#%%\n",
     "is_executing": false
    }
   }
  },
  {
   "cell_type": "code",
   "execution_count": 43,
   "outputs": [
    {
     "data": {
      "text/plain": "4449760    815.0\n4449761    815.0\n4451595    815.0\n4451596    815.0\nName: unitno, dtype: float64"
     },
     "metadata": {},
     "output_type": "execute_result",
     "execution_count": 43
    }
   ],
   "source": [
    "df.loc[mask1, 'unitno'] = 815\n",
    "df.loc[mask1, 'unitno']"
   ],
   "metadata": {
    "collapsed": false,
    "pycharm": {
     "name": "#%%\n",
     "is_executing": false
    }
   }
  },
  {
   "cell_type": "markdown",
   "source": [
    "#### 0.033"
   ],
   "metadata": {
    "collapsed": false
   }
  },
  {
   "cell_type": "code",
   "execution_count": 44,
   "outputs": [
    {
     "data": {
      "text/plain": "853092    0.033\nName: unitno, dtype: float64"
     },
     "metadata": {},
     "output_type": "execute_result",
     "execution_count": 44
    }
   ],
   "source": [
    "unit_no = df['unitno'].astype('str')\n",
    "mask1 = unit_no.str.match('0.033')\n",
    "df.loc[mask1, 'unitno']"
   ],
   "metadata": {
    "collapsed": false,
    "pycharm": {
     "name": "#%%\n",
     "is_executing": false
    }
   }
  },
  {
   "cell_type": "code",
   "execution_count": 45,
   "outputs": [
    {
     "data": {
      "text/plain": "853092    33.0\nName: unitno, dtype: float64"
     },
     "metadata": {},
     "output_type": "execute_result",
     "execution_count": 45
    }
   ],
   "source": [
    "df.loc[mask1, 'unitno'] = 33\n",
    "df.loc[mask1, 'unitno']"
   ],
   "metadata": {
    "collapsed": false,
    "pycharm": {
     "name": "#%%\n",
     "is_executing": false
    }
   }
  },
  {
   "cell_type": "markdown",
   "source": [
    "#### 0.24"
   ],
   "metadata": {
    "collapsed": false
   }
  },
  {
   "cell_type": "code",
   "execution_count": 46,
   "outputs": [
    {
     "data": {
      "text/plain": "3419792    0.24\n3420014    0.24\n3420280    0.24\n3420497    0.24\nName: unitno, dtype: float64"
     },
     "metadata": {},
     "output_type": "execute_result",
     "execution_count": 46
    }
   ],
   "source": [
    "unit_no = df['unitno'].astype('str')\n",
    "mask1 = unit_no.str.match('0.24')\n",
    "df.loc[mask1, 'unitno']"
   ],
   "metadata": {
    "collapsed": false,
    "pycharm": {
     "name": "#%%\n",
     "is_executing": false
    }
   }
  },
  {
   "cell_type": "code",
   "execution_count": 47,
   "outputs": [
    {
     "data": {
      "text/plain": "3419792    24.0\n3420014    24.0\n3420280    24.0\n3420497    24.0\nName: unitno, dtype: float64"
     },
     "metadata": {},
     "output_type": "execute_result",
     "execution_count": 47
    }
   ],
   "source": [
    "df.loc[mask1, 'unitno'] = 24\n",
    "df.loc[mask1, 'unitno']"
   ],
   "metadata": {
    "collapsed": false,
    "pycharm": {
     "name": "#%%\n",
     "is_executing": false
    }
   }
  },
  {
   "cell_type": "markdown",
   "source": [
    "#### 0.2"
   ],
   "metadata": {
    "collapsed": false
   }
  },
  {
   "cell_type": "code",
   "execution_count": 48,
   "outputs": [
    {
     "data": {
      "text/plain": "1319349    0.2\n3234526    0.2\n3234604    0.2\n3234681    0.2\n4333955    0.2\n4333977    0.2\n4334044    0.2\n4334046    0.2\n4334048    0.2\n4334051    0.2\n4334095    0.2\n4334132    0.2\n4334151    0.2\n4334191    0.2\n4334193    0.2\n4334202    0.2\n4334307    0.2\n4334326    0.2\n4334359    0.2\n4334360    0.2\n4334361    0.2\n4334366    0.2\n4334399    0.2\nName: unitno, dtype: float64"
     },
     "metadata": {},
     "output_type": "execute_result",
     "execution_count": 48
    }
   ],
   "source": [
    "unit_no = df['unitno'].astype('str')\n",
    "mask1 = unit_no.str.match('0.2')\n",
    "df.loc[mask1, 'unitno']"
   ],
   "metadata": {
    "collapsed": false,
    "pycharm": {
     "name": "#%%\n",
     "is_executing": false
    }
   }
  },
  {
   "cell_type": "code",
   "execution_count": 49,
   "outputs": [
    {
     "data": {
      "text/plain": "1319349    2.0\n3234526    2.0\n3234604    2.0\n3234681    2.0\n4333955    2.0\n4333977    2.0\n4334044    2.0\n4334046    2.0\n4334048    2.0\n4334051    2.0\n4334095    2.0\n4334132    2.0\n4334151    2.0\n4334191    2.0\n4334193    2.0\n4334202    2.0\n4334307    2.0\n4334326    2.0\n4334359    2.0\n4334360    2.0\n4334361    2.0\n4334366    2.0\n4334399    2.0\nName: unitno, dtype: float64"
     },
     "metadata": {},
     "output_type": "execute_result",
     "execution_count": 49
    }
   ],
   "source": [
    "df.loc[mask1, 'unitno'] = 2\n",
    "df.loc[mask1, 'unitno']"
   ],
   "metadata": {
    "collapsed": false,
    "pycharm": {
     "name": "#%%\n",
     "is_executing": false
    }
   }
  },
  {
   "cell_type": "markdown",
   "source": [
    "#### 0.003"
   ],
   "metadata": {
    "collapsed": false
   }
  },
  {
   "cell_type": "code",
   "execution_count": 50,
   "outputs": [
    {
     "data": {
      "text/plain": "4334036    0.003\n4334059    0.003\n4334110    0.003\n4334131    0.003\n4334172    0.003\n4334213    0.003\n4334316    0.003\n4334327    0.003\n4334343    0.003\nName: unitno, dtype: float64"
     },
     "metadata": {},
     "output_type": "execute_result",
     "execution_count": 50
    }
   ],
   "source": [
    "unit_no = df['unitno'].astype('str')\n",
    "mask1 = unit_no.str.match('0.003')\n",
    "df.loc[mask1, 'unitno']"
   ],
   "metadata": {
    "collapsed": false,
    "pycharm": {
     "name": "#%%\n",
     "is_executing": false
    }
   }
  },
  {
   "cell_type": "code",
   "execution_count": 51,
   "outputs": [
    {
     "data": {
      "text/plain": "4334036    3.0\n4334059    3.0\n4334110    3.0\n4334131    3.0\n4334172    3.0\n4334213    3.0\n4334316    3.0\n4334327    3.0\n4334343    3.0\nName: unitno, dtype: float64"
     },
     "metadata": {},
     "output_type": "execute_result",
     "execution_count": 51
    }
   ],
   "source": [
    "df.loc[mask1, 'unitno'] = 3\n",
    "df.loc[mask1, 'unitno']"
   ],
   "metadata": {
    "collapsed": false,
    "pycharm": {
     "name": "#%%\n",
     "is_executing": false
    }
   }
  },
  {
   "cell_type": "markdown",
   "source": [
    "#### 0.04"
   ],
   "metadata": {
    "collapsed": false
   }
  },
  {
   "cell_type": "code",
   "execution_count": 52,
   "outputs": [
    {
     "data": {
      "text/plain": "4334115    0.04\n4334303    0.04\nName: unitno, dtype: float64"
     },
     "metadata": {},
     "output_type": "execute_result",
     "execution_count": 52
    }
   ],
   "source": [
    "unit_no = df['unitno'].astype('str')\n",
    "mask1 = unit_no.str.match('0.04')\n",
    "df.loc[mask1, 'unitno']"
   ],
   "metadata": {
    "collapsed": false,
    "pycharm": {
     "name": "#%%\n",
     "is_executing": false
    }
   }
  },
  {
   "cell_type": "code",
   "execution_count": 53,
   "outputs": [
    {
     "data": {
      "text/plain": "4334115    4.0\n4334303    4.0\nName: unitno, dtype: float64"
     },
     "metadata": {},
     "output_type": "execute_result",
     "execution_count": 53
    }
   ],
   "source": [
    "df.loc[mask1, 'unitno'] = 4\n",
    "df.loc[mask1, 'unitno']"
   ],
   "metadata": {
    "collapsed": false,
    "pycharm": {
     "name": "#%%\n",
     "is_executing": false
    }
   }
  },
  {
   "cell_type": "markdown",
   "source": [
    "#### 0.001"
   ],
   "metadata": {
    "collapsed": false
   }
  },
  {
   "cell_type": "code",
   "execution_count": 54,
   "outputs": [
    {
     "data": {
      "text/plain": "2611651    0.001\n2612401    0.001\n2612402    0.001\n2612406    0.001\n2612736    0.001\n2612737    0.001\n2612738    0.001\nName: unitno, dtype: float64"
     },
     "metadata": {},
     "output_type": "execute_result",
     "execution_count": 54
    }
   ],
   "source": [
    "unit_no = df['unitno'].astype('str')\n",
    "mask1 = unit_no.str.match('0.001')\n",
    "df.loc[mask1, 'unitno']"
   ],
   "metadata": {
    "collapsed": false,
    "pycharm": {
     "name": "#%%\n",
     "is_executing": false
    }
   }
  },
  {
   "cell_type": "code",
   "execution_count": 55,
   "outputs": [
    {
     "data": {
      "text/plain": "2611651    1.0\n2612401    1.0\n2612402    1.0\n2612406    1.0\n2612736    1.0\n2612737    1.0\n2612738    1.0\nName: unitno, dtype: float64"
     },
     "metadata": {},
     "output_type": "execute_result",
     "execution_count": 55
    }
   ],
   "source": [
    "df.loc[mask1, 'unitno'] = 1\n",
    "df.loc[mask1, 'unitno']"
   ],
   "metadata": {
    "collapsed": false,
    "pycharm": {
     "name": "#%%\n",
     "is_executing": false
    }
   }
  },
  {
   "cell_type": "markdown",
   "source": [
    "#### 0.0026"
   ],
   "metadata": {
    "collapsed": false
   }
  },
  {
   "cell_type": "code",
   "execution_count": 56,
   "outputs": [
    {
     "data": {
      "text/plain": "2898643    0.0026\n2900742    0.0026\n2902337    0.0026\nName: unitno, dtype: float64"
     },
     "metadata": {},
     "output_type": "execute_result",
     "execution_count": 56
    }
   ],
   "source": [
    "unit_no = df['unitno'].astype('str')\n",
    "mask1 = unit_no.str.match('0.0026')\n",
    "df.loc[mask1, 'unitno']"
   ],
   "metadata": {
    "collapsed": false,
    "pycharm": {
     "name": "#%%\n",
     "is_executing": false
    }
   }
  },
  {
   "cell_type": "code",
   "execution_count": 57,
   "outputs": [
    {
     "data": {
      "text/plain": "2898643    26.0\n2900742    26.0\n2902337    26.0\nName: unitno, dtype: float64"
     },
     "metadata": {},
     "output_type": "execute_result",
     "execution_count": 57
    }
   ],
   "source": [
    "df.loc[mask1, 'unitno'] = 26\n",
    "df.loc[mask1, 'unitno']"
   ],
   "metadata": {
    "collapsed": false,
    "pycharm": {
     "name": "#%%\n",
     "is_executing": false
    }
   }
  },
  {
   "cell_type": "markdown",
   "source": [
    "#### 0.0024"
   ],
   "metadata": {
    "collapsed": false
   }
  },
  {
   "cell_type": "code",
   "execution_count": 58,
   "outputs": [
    {
     "data": {
      "text/plain": "1288106    0.0024\n1288473    0.0024\nName: unitno, dtype: float64"
     },
     "metadata": {},
     "output_type": "execute_result",
     "execution_count": 58
    }
   ],
   "source": [
    "unit_no = df['unitno'].astype('str')\n",
    "mask1 = unit_no.str.match('0.0024')\n",
    "df.loc[mask1, 'unitno']"
   ],
   "metadata": {
    "collapsed": false,
    "pycharm": {
     "name": "#%%\n",
     "is_executing": false
    }
   }
  },
  {
   "cell_type": "code",
   "execution_count": 59,
   "outputs": [
    {
     "data": {
      "text/plain": "1288106    24.0\n1288473    24.0\nName: unitno, dtype: float64"
     },
     "metadata": {},
     "output_type": "execute_result",
     "execution_count": 59
    }
   ],
   "source": [
    "df.loc[mask1, 'unitno'] = 24\n",
    "df.loc[mask1, 'unitno']"
   ],
   "metadata": {
    "collapsed": false,
    "pycharm": {
     "name": "#%%\n",
     "is_executing": false
    }
   }
  },
  {
   "cell_type": "markdown",
   "source": [
    "#### 0.66"
   ],
   "metadata": {
    "collapsed": false
   }
  },
  {
   "cell_type": "code",
   "execution_count": 60,
   "outputs": [
    {
     "data": {
      "text/plain": "3861714    0.66\n3862038    0.66\n3862261    0.66\n3868526    0.66\n3870335    0.66\nName: unitno, dtype: float64"
     },
     "metadata": {},
     "output_type": "execute_result",
     "execution_count": 60
    }
   ],
   "source": [
    "unit_no = df['unitno'].astype('str')\n",
    "mask1 = unit_no.str.match('0.66')\n",
    "df.loc[mask1, 'unitno']"
   ],
   "metadata": {
    "collapsed": false,
    "pycharm": {
     "name": "#%%\n",
     "is_executing": false
    }
   }
  },
  {
   "cell_type": "code",
   "execution_count": 61,
   "outputs": [
    {
     "data": {
      "text/plain": "3861714    66.0\n3862038    66.0\n3862261    66.0\n3868526    66.0\n3870335    66.0\nName: unitno, dtype: float64"
     },
     "metadata": {},
     "output_type": "execute_result",
     "execution_count": 61
    }
   ],
   "source": [
    "df.loc[mask1, 'unitno'] = 66\n",
    "df.loc[mask1, 'unitno']"
   ],
   "metadata": {
    "collapsed": false,
    "pycharm": {
     "name": "#%%\n",
     "is_executing": false
    }
   }
  },
  {
   "cell_type": "markdown",
   "source": [
    "#### 0.83"
   ],
   "metadata": {
    "collapsed": false
   }
  },
  {
   "cell_type": "code",
   "execution_count": 62,
   "outputs": [
    {
     "data": {
      "text/plain": "1067331    0.83\n1067875    0.83\n1069031    0.83\nName: unitno, dtype: float64"
     },
     "metadata": {},
     "output_type": "execute_result",
     "execution_count": 62
    }
   ],
   "source": [
    "unit_no = df['unitno'].astype('str')\n",
    "mask1 = unit_no.str.match('0.83')\n",
    "df.loc[mask1, 'unitno']"
   ],
   "metadata": {
    "collapsed": false,
    "pycharm": {
     "name": "#%%\n",
     "is_executing": false
    }
   }
  },
  {
   "cell_type": "code",
   "execution_count": 63,
   "outputs": [
    {
     "data": {
      "text/plain": "1067331    83.0\n1067875    83.0\n1069031    83.0\nName: unitno, dtype: float64"
     },
     "metadata": {},
     "output_type": "execute_result",
     "execution_count": 63
    }
   ],
   "source": [
    "df.loc[mask1, 'unitno'] = 83\n",
    "df.loc[mask1, 'unitno']"
   ],
   "metadata": {
    "collapsed": false,
    "pycharm": {
     "name": "#%%\n",
     "is_executing": false
    }
   }
  },
  {
   "cell_type": "markdown",
   "source": [
    "#### 3.01"
   ],
   "metadata": {
    "collapsed": false
   }
  },
  {
   "cell_type": "code",
   "execution_count": 64,
   "outputs": [
    {
     "data": {
      "text/plain": "1927295    3.01\n1927296    3.01\n1927297    3.01\n1927298    3.01\n1927363    3.01\n1927364    3.01\n1927365    3.01\n1927366    3.01\nName: unitno, dtype: float64"
     },
     "metadata": {},
     "output_type": "execute_result",
     "execution_count": 64
    }
   ],
   "source": [
    "unit_no = df['unitno'].astype('str')\n",
    "mask1 = unit_no.str.match('^3.01$')\n",
    "df.loc[mask1, 'unitno']"
   ],
   "metadata": {
    "collapsed": false,
    "pycharm": {
     "name": "#%%\n",
     "is_executing": false
    }
   }
  },
  {
   "cell_type": "code",
   "execution_count": 65,
   "outputs": [
    {
     "data": {
      "text/plain": "1927295    301.0\n1927296    301.0\n1927297    301.0\n1927298    301.0\n1927363    301.0\n1927364    301.0\n1927365    301.0\n1927366    301.0\nName: unitno, dtype: float64"
     },
     "metadata": {},
     "output_type": "execute_result",
     "execution_count": 65
    }
   ],
   "source": [
    "df.loc[mask1, 'unitno'] = 301\n",
    "df.loc[mask1, 'unitno']"
   ],
   "metadata": {
    "collapsed": false,
    "pycharm": {
     "name": "#%%\n",
     "is_executing": false
    }
   }
  },
  {
   "cell_type": "markdown",
   "source": [
    "#### 1.5"
   ],
   "metadata": {
    "collapsed": false
   }
  },
  {
   "cell_type": "code",
   "execution_count": 66,
   "outputs": [
    {
     "data": {
      "text/plain": "801960    1.5\n803259    1.5\nName: unitno, dtype: float64"
     },
     "metadata": {},
     "output_type": "execute_result",
     "execution_count": 66
    }
   ],
   "source": [
    "unit_no = df['unitno'].astype('str')\n",
    "mask1 = unit_no.str.match('^1.5$')\n",
    "df.loc[mask1, 'unitno']"
   ],
   "metadata": {
    "collapsed": false,
    "pycharm": {
     "name": "#%%\n",
     "is_executing": false
    }
   }
  },
  {
   "cell_type": "code",
   "execution_count": 67,
   "outputs": [
    {
     "data": {
      "text/plain": "801960    15.0\n803259    15.0\nName: unitno, dtype: float64"
     },
     "metadata": {},
     "output_type": "execute_result",
     "execution_count": 67
    }
   ],
   "source": [
    "df.loc[mask1, 'unitno'] = 15\n",
    "df.loc[mask1, 'unitno']"
   ],
   "metadata": {
    "collapsed": false,
    "pycharm": {
     "name": "#%%\n",
     "is_executing": false
    }
   }
  },
  {
   "cell_type": "markdown",
   "source": [
    "#### 1.6"
   ],
   "metadata": {
    "collapsed": false
   }
  },
  {
   "cell_type": "code",
   "execution_count": 68,
   "outputs": [
    {
     "data": {
      "text/plain": "801961    1.6\n803262    1.6\nName: unitno, dtype: float64"
     },
     "metadata": {},
     "output_type": "execute_result",
     "execution_count": 68
    }
   ],
   "source": [
    "unit_no = df['unitno'].astype('str')\n",
    "mask1 = unit_no.str.match('^1.6$')\n",
    "df.loc[mask1, 'unitno']"
   ],
   "metadata": {
    "collapsed": false,
    "pycharm": {
     "name": "#%%\n",
     "is_executing": false
    }
   }
  },
  {
   "cell_type": "code",
   "execution_count": 69,
   "outputs": [
    {
     "data": {
      "text/plain": "801961    16.0\n803262    16.0\nName: unitno, dtype: float64"
     },
     "metadata": {},
     "output_type": "execute_result",
     "execution_count": 69
    }
   ],
   "source": [
    "df.loc[mask1, 'unitno'] = 16\n",
    "df.loc[mask1, 'unitno']"
   ],
   "metadata": {
    "collapsed": false,
    "pycharm": {
     "name": "#%%\n",
     "is_executing": false
    }
   }
  },
  {
   "cell_type": "markdown",
   "source": [
    "#### 4.2"
   ],
   "metadata": {
    "collapsed": false
   }
  },
  {
   "cell_type": "code",
   "execution_count": 70,
   "outputs": [
    {
     "data": {
      "text/plain": "6239629    4.2\n6244112    4.2\nName: unitno, dtype: float64"
     },
     "metadata": {},
     "output_type": "execute_result",
     "execution_count": 70
    }
   ],
   "source": [
    "unit_no = df['unitno'].astype('str')\n",
    "mask1 = unit_no.str.match('^4.2$')\n",
    "df.loc[mask1, 'unitno']"
   ],
   "metadata": {
    "collapsed": false,
    "pycharm": {
     "name": "#%%\n",
     "is_executing": false
    }
   }
  },
  {
   "cell_type": "code",
   "execution_count": 71,
   "outputs": [
    {
     "data": {
      "text/plain": "6239629    42.0\n6244112    42.0\nName: unitno, dtype: float64"
     },
     "metadata": {},
     "output_type": "execute_result",
     "execution_count": 71
    }
   ],
   "source": [
    "df.loc[mask1, 'unitno'] = 42\n",
    "df.loc[mask1, 'unitno']"
   ],
   "metadata": {
    "collapsed": false,
    "pycharm": {
     "name": "#%%\n",
     "is_executing": false
    }
   }
  },
  {
   "cell_type": "markdown",
   "source": [
    "#### 7.9"
   ],
   "metadata": {
    "collapsed": false
   }
  },
  {
   "cell_type": "code",
   "execution_count": 72,
   "outputs": [
    {
     "data": {
      "text/plain": "2994453    7.9\n2995955    7.9\nName: unitno, dtype: float64"
     },
     "metadata": {},
     "output_type": "execute_result",
     "execution_count": 72
    }
   ],
   "source": [
    "unit_no = df['unitno'].astype('str')\n",
    "mask1 = unit_no.str.match('^7.9$')\n",
    "df.loc[mask1, 'unitno']"
   ],
   "metadata": {
    "collapsed": false,
    "pycharm": {
     "name": "#%%\n",
     "is_executing": false
    }
   }
  },
  {
   "cell_type": "code",
   "execution_count": 73,
   "outputs": [
    {
     "data": {
      "text/plain": "2994453    79.0\n2995955    79.0\nName: unitno, dtype: float64"
     },
     "metadata": {},
     "output_type": "execute_result",
     "execution_count": 73
    }
   ],
   "source": [
    "df.loc[mask1, 'unitno'] = 79\n",
    "df.loc[mask1, 'unitno']"
   ],
   "metadata": {
    "collapsed": false,
    "pycharm": {
     "name": "#%%\n",
     "is_executing": false
    }
   }
  },
  {
   "cell_type": "markdown",
   "source": [
    "#### 1.9"
   ],
   "metadata": {
    "collapsed": false
   }
  },
  {
   "cell_type": "code",
   "execution_count": 74,
   "outputs": [
    {
     "data": {
      "text/plain": "2734867    1.9\n2735282    1.9\n2735589    1.9\nName: unitno, dtype: float64"
     },
     "metadata": {},
     "output_type": "execute_result",
     "execution_count": 74
    }
   ],
   "source": [
    "unit_no = df['unitno'].astype('str')\n",
    "mask1 = unit_no.str.match('^1.9$')\n",
    "df.loc[mask1, 'unitno']"
   ],
   "metadata": {
    "collapsed": false,
    "pycharm": {
     "name": "#%%\n",
     "is_executing": false
    }
   }
  },
  {
   "cell_type": "code",
   "execution_count": 75,
   "outputs": [
    {
     "data": {
      "text/plain": "2734867    19.0\n2735282    19.0\n2735589    19.0\nName: unitno, dtype: float64"
     },
     "metadata": {},
     "output_type": "execute_result",
     "execution_count": 75
    }
   ],
   "source": [
    "df.loc[mask1, 'unitno'] = 19\n",
    "df.loc[mask1, 'unitno']"
   ],
   "metadata": {
    "collapsed": false,
    "pycharm": {
     "name": "#%%\n",
     "is_executing": false
    }
   }
  },
  {
   "cell_type": "markdown",
   "source": [
    "#### 9.5"
   ],
   "metadata": {
    "collapsed": false
   }
  },
  {
   "cell_type": "code",
   "execution_count": 76,
   "outputs": [
    {
     "data": {
      "text/plain": "2672326    9.5\n2673367    9.5\n2675542    9.5\n2675544    9.5\nName: unitno, dtype: float64"
     },
     "metadata": {},
     "output_type": "execute_result",
     "execution_count": 76
    }
   ],
   "source": [
    "unit_no = df['unitno'].astype('str')\n",
    "mask1 = unit_no.str.match('^9.5$')\n",
    "df.loc[mask1, 'unitno']"
   ],
   "metadata": {
    "collapsed": false,
    "pycharm": {
     "name": "#%%\n",
     "is_executing": false
    }
   }
  },
  {
   "cell_type": "code",
   "execution_count": 77,
   "outputs": [
    {
     "data": {
      "text/plain": "2672326    95.0\n2673367    95.0\n2675542    95.0\n2675544    95.0\nName: unitno, dtype: float64"
     },
     "metadata": {},
     "output_type": "execute_result",
     "execution_count": 77
    }
   ],
   "source": [
    "df.loc[mask1, 'unitno'] = 95\n",
    "df.loc[mask1, 'unitno']"
   ],
   "metadata": {
    "collapsed": false,
    "pycharm": {
     "name": "#%%\n",
     "is_executing": false
    }
   }
  },
  {
   "cell_type": "markdown",
   "source": [
    "#### 0.02, 0.002, and 0.0002"
   ],
   "metadata": {
    "collapsed": false
   }
  },
  {
   "cell_type": "code",
   "execution_count": 78,
   "outputs": [
    {
     "data": {
      "text/plain": "1319359    0.0020\n1319553    0.0200\n1319601    0.0002\n1320397    0.0200\nName: unitno, dtype: float64"
     },
     "metadata": {},
     "output_type": "execute_result",
     "execution_count": 78
    }
   ],
   "source": [
    "unit_no = df['unitno'].astype('str')\n",
    "mask1 = unit_no.str.match('^0')\n",
    "mask2 = unit_no.str.contains('2')\n",
    "df.loc[mask1 & mask2, 'unitno']"
   ],
   "metadata": {
    "collapsed": false,
    "pycharm": {
     "name": "#%%\n",
     "is_executing": false
    }
   }
  },
  {
   "cell_type": "code",
   "execution_count": 79,
   "outputs": [
    {
     "data": {
      "text/plain": "1319359    2.0\n1319553    2.0\n1319601    2.0\n1320397    2.0\nName: unitno, dtype: float64"
     },
     "metadata": {},
     "output_type": "execute_result",
     "execution_count": 79
    }
   ],
   "source": [
    "df.loc[mask1 & mask2, 'unitno'] = 2\n",
    "df.loc[mask1 & mask2, 'unitno']"
   ],
   "metadata": {
    "collapsed": false,
    "pycharm": {
     "name": "#%%\n",
     "is_executing": false
    }
   }
  },
  {
   "cell_type": "markdown",
   "source": [
    "#### 4.7"
   ],
   "metadata": {
    "collapsed": false
   }
  },
  {
   "cell_type": "code",
   "execution_count": 80,
   "outputs": [
    {
     "data": {
      "text/plain": "853093    4.7\nName: unitno, dtype: float64"
     },
     "metadata": {},
     "output_type": "execute_result",
     "execution_count": 80
    }
   ],
   "source": [
    "unit_no = df['unitno'].astype('str')\n",
    "mask1 = unit_no.str.match('^4.7$')\n",
    "df.loc[mask1, 'unitno']"
   ],
   "metadata": {
    "collapsed": false,
    "pycharm": {
     "name": "#%%\n",
     "is_executing": false
    }
   }
  },
  {
   "cell_type": "code",
   "execution_count": 81,
   "outputs": [
    {
     "data": {
      "text/plain": "853093    47.0\nName: unitno, dtype: float64"
     },
     "metadata": {},
     "output_type": "execute_result",
     "execution_count": 81
    }
   ],
   "source": [
    "df.loc[mask1, 'unitno'] = 47\n",
    "df.loc[mask1, 'unitno']"
   ],
   "metadata": {
    "collapsed": false,
    "pycharm": {
     "name": "#%%\n",
     "is_executing": false
    }
   }
  },
  {
   "cell_type": "markdown",
   "source": [
    "#### 6.5"
   ],
   "metadata": {
    "collapsed": false
   }
  },
  {
   "cell_type": "code",
   "execution_count": 82,
   "outputs": [
    {
     "data": {
      "text/plain": "1962991    6.5\nName: unitno, dtype: float64"
     },
     "metadata": {},
     "output_type": "execute_result",
     "execution_count": 82
    }
   ],
   "source": [
    "unit_no = df['unitno'].astype('str')\n",
    "mask1 = unit_no.str.match('^6.5$')\n",
    "df.loc[mask1, 'unitno']"
   ],
   "metadata": {
    "collapsed": false,
    "pycharm": {
     "name": "#%%\n",
     "is_executing": false
    }
   }
  },
  {
   "cell_type": "code",
   "execution_count": 83,
   "outputs": [
    {
     "data": {
      "text/plain": "1962991    65.0\nName: unitno, dtype: float64"
     },
     "metadata": {},
     "output_type": "execute_result",
     "execution_count": 83
    }
   ],
   "source": [
    "df.loc[mask1, 'unitno'] = 65\n",
    "df.loc[mask1, 'unitno']"
   ],
   "metadata": {
    "collapsed": false,
    "pycharm": {
     "name": "#%%\n",
     "is_executing": false
    }
   }
  },
  {
   "cell_type": "markdown",
   "source": [
    "#### 3.5"
   ],
   "metadata": {
    "collapsed": false
   }
  },
  {
   "cell_type": "code",
   "execution_count": 84,
   "outputs": [
    {
     "data": {
      "text/plain": "1962995    3.5\nName: unitno, dtype: float64"
     },
     "metadata": {},
     "output_type": "execute_result",
     "execution_count": 84
    }
   ],
   "source": [
    "unit_no = df['unitno'].astype('str')\n",
    "mask1 = unit_no.str.match('^3.5$')\n",
    "df.loc[mask1, 'unitno']"
   ],
   "metadata": {
    "collapsed": false,
    "pycharm": {
     "name": "#%%\n",
     "is_executing": false
    }
   }
  },
  {
   "cell_type": "code",
   "execution_count": 85,
   "outputs": [
    {
     "data": {
      "text/plain": "1962995    35.0\nName: unitno, dtype: float64"
     },
     "metadata": {},
     "output_type": "execute_result",
     "execution_count": 85
    }
   ],
   "source": [
    "df.loc[mask1, 'unitno'] = 35\n",
    "df.loc[mask1, 'unitno']"
   ],
   "metadata": {
    "collapsed": false,
    "pycharm": {
     "name": "#%%\n",
     "is_executing": false
    }
   }
  },
  {
   "cell_type": "markdown",
   "source": [
    "#### 16.9"
   ],
   "metadata": {
    "collapsed": false
   }
  },
  {
   "cell_type": "code",
   "execution_count": 86,
   "outputs": [
    {
     "data": {
      "text/plain": "1963015    16.9\n1963083    16.9\n1964150    16.9\nName: unitno, dtype: float64"
     },
     "metadata": {},
     "output_type": "execute_result",
     "execution_count": 86
    }
   ],
   "source": [
    "unit_no = df['unitno'].astype('str')\n",
    "mask1 = unit_no.str.match('^16.9$')\n",
    "df.loc[mask1, 'unitno']"
   ],
   "metadata": {
    "collapsed": false,
    "pycharm": {
     "name": "#%%\n",
     "is_executing": false
    }
   }
  },
  {
   "cell_type": "code",
   "execution_count": 87,
   "outputs": [
    {
     "data": {
      "text/plain": "1963015    169.0\n1963083    169.0\n1964150    169.0\nName: unitno, dtype: float64"
     },
     "metadata": {},
     "output_type": "execute_result",
     "execution_count": 87
    }
   ],
   "source": [
    "df.loc[mask1, 'unitno'] = 169\n",
    "df.loc[mask1, 'unitno']"
   ],
   "metadata": {
    "collapsed": false,
    "pycharm": {
     "name": "#%%\n",
     "is_executing": false
    }
   }
  },
  {
   "cell_type": "markdown",
   "source": [
    "#### 10.4"
   ],
   "metadata": {
    "collapsed": false
   }
  },
  {
   "cell_type": "code",
   "execution_count": 88,
   "outputs": [
    {
     "data": {
      "text/plain": "1963052    10.4\n1964021    10.4\nName: unitno, dtype: float64"
     },
     "metadata": {},
     "output_type": "execute_result",
     "execution_count": 88
    }
   ],
   "source": [
    "unit_no = df['unitno'].astype('str')\n",
    "mask1 = unit_no.str.match('^10.4$')\n",
    "df.loc[mask1, 'unitno']"
   ],
   "metadata": {
    "collapsed": false,
    "pycharm": {
     "name": "#%%\n",
     "is_executing": false
    }
   }
  },
  {
   "cell_type": "code",
   "execution_count": 89,
   "outputs": [
    {
     "data": {
      "text/plain": "1963052    104.0\n1964021    104.0\nName: unitno, dtype: float64"
     },
     "metadata": {},
     "output_type": "execute_result",
     "execution_count": 89
    }
   ],
   "source": [
    "df.loc[mask1, 'unitno'] = 104\n",
    "df.loc[mask1, 'unitno']"
   ],
   "metadata": {
    "collapsed": false,
    "pycharm": {
     "name": "#%%\n",
     "is_executing": false
    }
   }
  },
  {
   "cell_type": "markdown",
   "source": [
    "#### 17.2"
   ],
   "metadata": {
    "collapsed": false
   }
  },
  {
   "cell_type": "code",
   "execution_count": 90,
   "outputs": [
    {
     "data": {
      "text/plain": "1963129    17.2\n1964272    17.2\nName: unitno, dtype: float64"
     },
     "metadata": {},
     "output_type": "execute_result",
     "execution_count": 90
    }
   ],
   "source": [
    "unit_no = df['unitno'].astype('str')\n",
    "mask1 = unit_no.str.match('^17.2$')\n",
    "df.loc[mask1, 'unitno']"
   ],
   "metadata": {
    "collapsed": false,
    "pycharm": {
     "name": "#%%\n",
     "is_executing": false
    }
   }
  },
  {
   "cell_type": "code",
   "execution_count": 91,
   "outputs": [
    {
     "data": {
      "text/plain": "1963129    172.0\n1964272    172.0\nName: unitno, dtype: float64"
     },
     "metadata": {},
     "output_type": "execute_result",
     "execution_count": 91
    }
   ],
   "source": [
    "df.loc[mask1, 'unitno'] = 172\n",
    "df.loc[mask1, 'unitno']"
   ],
   "metadata": {
    "collapsed": false,
    "pycharm": {
     "name": "#%%\n",
     "is_executing": false
    }
   }
  },
  {
   "cell_type": "markdown",
   "source": [
    "#### 16.2"
   ],
   "metadata": {
    "collapsed": false
   }
  },
  {
   "cell_type": "code",
   "execution_count": 92,
   "outputs": [
    {
     "data": {
      "text/plain": "1964881    16.2\nName: unitno, dtype: float64"
     },
     "metadata": {},
     "output_type": "execute_result",
     "execution_count": 92
    }
   ],
   "source": [
    "unit_no = df['unitno'].astype('str')\n",
    "mask1 = unit_no.str.match('^16.2$')\n",
    "df.loc[mask1, 'unitno']"
   ],
   "metadata": {
    "collapsed": false,
    "pycharm": {
     "name": "#%%\n",
     "is_executing": false
    }
   }
  },
  {
   "cell_type": "code",
   "execution_count": 93,
   "outputs": [
    {
     "data": {
      "text/plain": "1964881    162.0\nName: unitno, dtype: float64"
     },
     "metadata": {},
     "output_type": "execute_result",
     "execution_count": 93
    }
   ],
   "source": [
    "df.loc[mask1, 'unitno'] = 162\n",
    "df.loc[mask1, 'unitno']"
   ],
   "metadata": {
    "collapsed": false,
    "pycharm": {
     "name": "#%%\n",
     "is_executing": false
    }
   }
  },
  {
   "cell_type": "markdown",
   "source": [
    "#### 16.1"
   ],
   "metadata": {
    "collapsed": false
   }
  },
  {
   "cell_type": "code",
   "execution_count": 94,
   "outputs": [
    {
     "data": {
      "text/plain": "1964945    16.1\nName: unitno, dtype: float64"
     },
     "metadata": {},
     "output_type": "execute_result",
     "execution_count": 94
    }
   ],
   "source": [
    "unit_no = df['unitno'].astype('str')\n",
    "mask1 = unit_no.str.match('^16.1$')\n",
    "df.loc[mask1, 'unitno']"
   ],
   "metadata": {
    "collapsed": false,
    "pycharm": {
     "name": "#%%\n",
     "is_executing": false
    }
   }
  },
  {
   "cell_type": "code",
   "execution_count": 95,
   "outputs": [
    {
     "data": {
      "text/plain": "1964945    161.0\nName: unitno, dtype: float64"
     },
     "metadata": {},
     "output_type": "execute_result",
     "execution_count": 95
    }
   ],
   "source": [
    "df.loc[mask1, 'unitno'] = 161\n",
    "df.loc[mask1, 'unitno']"
   ],
   "metadata": {
    "collapsed": false,
    "pycharm": {
     "name": "#%%\n",
     "is_executing": false
    }
   }
  },
  {
   "cell_type": "markdown",
   "source": [
    "#### 16.5"
   ],
   "metadata": {
    "collapsed": false
   }
  },
  {
   "cell_type": "code",
   "execution_count": 96,
   "outputs": [
    {
     "data": {
      "text/plain": "1964951    16.5\nName: unitno, dtype: float64"
     },
     "metadata": {},
     "output_type": "execute_result",
     "execution_count": 96
    }
   ],
   "source": [
    "unit_no = df['unitno'].astype('str')\n",
    "mask1 = unit_no.str.match('^16.5$')\n",
    "df.loc[mask1, 'unitno']"
   ],
   "metadata": {
    "collapsed": false,
    "pycharm": {
     "name": "#%%\n",
     "is_executing": false
    }
   }
  },
  {
   "cell_type": "code",
   "execution_count": 97,
   "outputs": [
    {
     "data": {
      "text/plain": "1964951    165.0\nName: unitno, dtype: float64"
     },
     "metadata": {},
     "output_type": "execute_result",
     "execution_count": 97
    }
   ],
   "source": [
    "df.loc[mask1, 'unitno'] = 165\n",
    "df.loc[mask1, 'unitno']"
   ],
   "metadata": {
    "collapsed": false,
    "pycharm": {
     "name": "#%%\n",
     "is_executing": false
    }
   }
  },
  {
   "cell_type": "markdown",
   "source": [
    "#### All erratic values in column `unitno` have been fixed\n",
    "Column `unitno` can be converted to `integer` data type without any loss of information (verified below).\n",
    "This will be performed upon entry of Teranet data into PostgreSQL, as Pandas library in Python [does not have](https://pandas.pydata.org/pandas-docs/stable/user_guide/gotchas.html#support-for-integer-na) an efficient representation of missing values for `integer` data type."
   ],
   "metadata": {
    "collapsed": false,
    "pycharm": {
     "name": "#%% md\n"
    }
   }
  },
  {
   "cell_type": "code",
   "execution_count": 98,
   "outputs": [
    {
     "data": {
      "text/plain": "Series([], Name: unitno, dtype: float64)"
     },
     "metadata": {},
     "output_type": "execute_result",
     "execution_count": 98
    }
   ],
   "source": [
    "unit_no = df['unitno'].dropna().astype('int')\n",
    "mask1 = unit_no != df['unitno'].dropna()\n",
    "df.dropna(subset=['unitno']).loc[mask1, 'unitno']"
   ],
   "metadata": {
    "collapsed": false,
    "pycharm": {
     "name": "#%%\n",
     "is_executing": false
    }
   }
  },
  {
   "cell_type": "markdown",
   "source": [
    "### Inconsistent values in column `street_name`\n",
    "Column `street_name` has many inconsistent entries. However, since fixing all of them presents a time-intensive task, it makes more sense to perform targeted corrections in the future for particular streets of interest. At the moment, no changes to values of `street_name` have been made.\n",
    "\n",
    "Below are some examples of inconsistent entries in column `street_name`"
   ],
   "metadata": {
    "collapsed": false,
    "pycharm": {
     "name": "#%% md\n"
    }
   }
  },
  {
   "cell_type": "code",
   "execution_count": null,
   "outputs": [],
   "source": [
    "mask1 = df['street_name'].str.contains('Bathhurst', case=False, na=False)\n",
    "df[mask1]"
   ],
   "metadata": {
    "collapsed": false,
    "pycharm": {
     "name": "#%%\n",
     "is_executing": true
    }
   }
  }
 ],
 "metadata": {
  "language_info": {
   "codemirror_mode": {
    "name": "ipython",
    "version": 2
   },
   "file_extension": ".py",
   "mimetype": "text/x-python",
   "name": "python",
   "nbconvert_exporter": "python",
   "pygments_lexer": "ipython2",
   "version": "2.7.6"
  },
  "kernelspec": {
   "name": "python3",
   "language": "python",
   "display_name": "Python 3"
  },
  "pycharm": {
   "stem_cell": {
    "cell_type": "raw",
    "source": [],
    "metadata": {
     "collapsed": false
    }
   }
  }
 },
 "nbformat": 4,
 "nbformat_minor": 0
}