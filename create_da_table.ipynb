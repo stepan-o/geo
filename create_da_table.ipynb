{
  "cells": [
    {
      "cell_type": "markdown",
      "metadata": {
        "collapsed": true,
        "pycharm": {
          "name": "#%% md\n"
        }
      },
      "source": "This notebook contains the workflow to create a table of DAs with columns containing aggregates generated from Teranet dataset of real estate sales records (annual sales count, mean, median price).\n\nProposed structure of the table (each record is a DA):\n\n| DA id | Teranet 2017 count | ... | Teranet 1990 count |  \n$\\quad$|Teranet 2017 median price| ... | Teranet 1990 median price |  \n$\\quad$|Teranet 2017 mean price  | ... | Teranet 1990 mean price   |"
    },
    {
      "cell_type": "code",
      "execution_count": 1,
      "outputs": [],
      "source": "import os",
      "metadata": {
        "pycharm": {
          "metadata": false,
          "name": "#%%\n",
          "is_executing": false
        }
      }
    },
    {
      "cell_type": "code",
      "execution_count": 3,
      "outputs": [
        {
          "data": {
            "text/plain": "[\u0027.git\u0027,\n \u0027.gitattributes\u0027,\n \u0027.gitignore\u0027,\n \u0027.idea\u0027,\n \u0027.ipynb_checkpoints\u0027,\n \u0027arcgis.ipynb\u0027,\n \u0027choropleth-map-example.png\u0027,\n \u0027create_da_table.ipynb\u0027,\n \u0027data\u0027,\n \u0027geo_doodle.py\u0027,\n \u0027my_functions_geo.py\u0027,\n \u0027new_workflow.ipynb\u0027,\n \u0027parking_Toronto.ipynb\u0027,\n \u0027README.md\u0027,\n \u0027Teranet_GTHA_DA_investigating_pins.ipynb\u0027,\n \u0027Teranet_GTHA_DA_spatial_join.ipynb\u0027,\n \u0027Teranet_GTHA_DA_workflow.ipynb\u0027,\n \u0027__pycache__\u0027]"
          },
          "metadata": {},
          "output_type": "execute_result",
          "execution_count": 3
        }
      ],
      "source": "os.chdir(\u0027Documents/repos/geo/\u0027)\nos.listdir()",
      "metadata": {
        "pycharm": {
          "metadata": false,
          "name": "#%%\n",
          "is_executing": false
        }
      }
    },
    {
      "cell_type": "code",
      "execution_count": null,
      "outputs": [],
      "source": "",
      "metadata": {
        "pycharm": {
          "metadata": false,
          "name": "#%%\n"
        }
      }
    }
  ],
  "metadata": {
    "language_info": {
      "codemirror_mode": {
        "name": "ipython",
        "version": 2
      },
      "file_extension": ".py",
      "mimetype": "text/x-python",
      "name": "python",
      "nbconvert_exporter": "python",
      "pygments_lexer": "ipython2",
      "version": "2.7.6"
    },
    "kernelspec": {
      "name": "python3",
      "language": "python",
      "display_name": "Python 3"
    }
  },
  "nbformat": 4,
  "nbformat_minor": 0
}