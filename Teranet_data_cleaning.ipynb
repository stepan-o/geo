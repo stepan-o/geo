{
 "cells": [
  {
   "cell_type": "markdown",
   "metadata": {},
   "source": [
    "still have some inconsistencies in municipality names:\n",
    "\n",
    "* brock\n",
    "* caledon\n",
    "* georgina\n",
    "* st george\n",
    "* hamilton\n",
    "* Sault Ste Marie\n",
    "* markham\n",
    "* toronto\n",
    "* cavan\n",
    "* elmvale\n",
    "* grand valley\n",
    "* whitchurch-stouville (erase spaces)\n",
    "* keep mississaugas of the scugog island\n",
    "* north york"
   ]
  },
  {
   "cell_type": "markdown",
   "metadata": {},
   "source": [
    "<a id='top'></a>\n",
    "# Teranet dataset -- Part 1: Data cleaning v0.9\n",
    "---\n",
    "Version history\n",
    "\n",
    "v0.9 -- first release of Part 1: Data cleaning to everyone involved in working with the Teranet dataset.\n",
    "\n",
    "---\n",
    "#### This document presents Part 1 of the workflow on the Teranet dataset -- the cleanup process.\n",
    "\n",
    "This document can be viewed as a report or can be run as a script, replicating the full cleanup process of the Teranet dataset and producing a new cleaned file.\n",
    "\n",
    "> If you want to run the script, you need to open the `'Teranet_data_cleaning.ipynb'` file in Jupyter on your computer. You will also need to make sure that the `'HHSaleHistory.csv'` file is located in the subfolder /Data/ relative from the location of the script file (`'Teranet_data_cleaning.ipynb'`) on your computer, or correct the file paths in [step 1.1](#load_dataset) and [step 1.9](#record_results). After that has been done, you can simply select Cell -> Run All in the opened Jupyter botebook `'Teranet_data_cleaning.ipynb'`, after all scripts are executed, a new file `'HHSaleHistory_cleaned_v0.9.csv'` will appear in the subdirectory /Data/ (it will take some time to execute all the scripts). No changes are made to the original file.\n",
    "\n",
    "Author: [Stepan Oskin](https://www.linkedin.com/in/stepan-oskin-871b8a65/)   \n",
    "        E-mail: stepan.oskin@mail.utoronto.ca   \n",
    "        (feel free to contact with questions, any suggestions/corrections are welcome)\n",
    "\n",
    "[Table of contents](#contents)\n",
    "\n",
    "\n",
    "## Summary\n",
    "\n",
    "\n",
    "The following modifications have been made to the dataset:\n",
    "\n",
    "\n",
    "* capitalizations were fixed for column names, and values in columns `'municipality'`, `'street name'`, and `'street_designation'`. Observed`'postal_code'` values did not show any problems, but the column was converted to upper case  as a preventive measure to ensure consistency.\n",
    "\n",
    "\n",
    "* 5 duplicate checks using different criteria for detection have been performed, results summarized. More checks have been performed, the 5 presented are the most meaningful ones.\n",
    "\n",
    "\n",
    "* **813'138 duplicate entries** that match in everything but the `'pin'` **have been removed from the dataset**. \n",
    "\n",
    "    * This eliminates 83'798 duplicate records identical in everything, including `'pin'`, \n",
    "    * and 729'182 additional entries identical in everything, but the `'pin'`. \n",
    "    * These records represent one transaction being recorded under several entries using different `'pin'`s (one row for the house, one for the parking lot, etc.). \n",
    "    * `'consideration_amt'` in this case is duplicated, with each record showing the total price of the transaction, so these 729'182 records are also considered duplicated and are removed from the dataset.\n",
    "    * After 813'138 duplicate entries (9% of the total) have been removed from the dataset, there are **8'226'103 unique rows remaining.**\n",
    "\n",
    "\n",
    "* `'registration_date'` has been converted to Pandas datetime format (Pandas is a Python library used for data processing): YYYY-MM-DD 00:00:00.\n",
    "\n",
    "\n",
    "* Columns `'year'` and `'decade'` have been added to the dataset for data grouping and visualization (parsed from `'registration_date'`).\n",
    "\n",
    "\n",
    "* Dataset has been reindexed and resorted by `'registration_date'`\n",
    "\n",
    "\n",
    "* New column `'row_num'` was added. Numbers of rows in `'row_num'` go in the order from earliest date in the dataset to the latest. \n",
    "\n",
    "\n",
    "* `'row_num'` column presents the only unique row identifier in Teranet dataset, as all the other columns have duplicate values in them (even after duplicate rows are removed), including `'registration_date'`, `'pin'`, and `coordinates`. **Therefore, currently `'row_num'` is the only column in the dataset that can be used as a _primary key_** in the context of a normalized database (see [step 1.0](#data_cleaning)).\n",
    "\n",
    "\n",
    "* **All values of `'consideration_amt'` below 30 dollars have been reset to NaN (missing values)**. These records represent missing values and gift transactions, they have not been removed from the dataset, but their `'consideration_amt'` has been reset to NaN to exclude them from statistical operations.\n",
    "\n",
    "\n",
    "* There is an unreasonably high number of NaN values in the column `'consideration_amt'` (missing or under 30 dollars) for records from 1950s to 1970s (especially 1970s). See [step 1.7](#price_nan)\n",
    "\n",
    "\n",
    "* **Consistency of entries in all columns have been verified.**\n",
    "\n",
    "    * Erratic entries have been fixed in columns `'registration_date'`, `'province'`, `'unitno'`, `'street_designation'`, `'street_direction'` and `'municipality'`.\n",
    "    * Erratic entries remain present in the column `'street_name'`, their correction presents a time-intensive task if performed for the whole dataset. Instead, targeted clean-up can be done in the future for particular streets, if such need arises. \n",
    "\n",
    "\n",
    "* Results have been saved to a new file: `'Data/HHSaleHistory_cleaned_v0.9.csv'`"
   ]
  },
  {
   "cell_type": "markdown",
   "metadata": {},
   "source": [
    "<a id='contents'></a>\n",
    "#### Table of contents:\n",
    "\n",
    "1.0 [Data cleaning](#data_cleaning)\n",
    "\n",
    "1.1 [Import libraries](#import_libraries)\n",
    "    \n",
    "1.2 [Load the full dataset](#load_dataset)\n",
    "    \n",
    "1.3 [Improper capitalizations](#capitalizations)\n",
    "    \n",
    "1.4 [Data types](#data_types)\n",
    "\n",
    "1.5 [Duplicate checks](#duplicate_checks)\n",
    "    \n",
    "1.6 [Datetime conversion](#datetime_conversion)\n",
    "    \n",
    "1.7 [Missing values](#missing_values)\n",
    "\n",
    "1.8 [Consistency of entries](#inconsistent_entries)\n",
    "\n",
    "1.9 [Recording results to a file](#record_results)\n",
    "\n",
    "1.10 [References](#references)"
   ]
  },
  {
   "cell_type": "markdown",
   "metadata": {},
   "source": [
    "<a id='data_cleaning'></a>\n",
    "# 1.0 Data cleaning\n",
    "\n",
    "Back to the [top](#top) / [table of contents](#contents)\n",
    " \n",
    "### 1.0.1 Tidy data\n",
    "\n",
    "Hadley Wickham in his paper \"Tidy Data\" [(Wickham, 2014)](#wickham_2014) formalized the way how a shape of the data can be described and what goal should be pursued when formatting data. The principles of _tidy data_ provide a standard way to organize data values within a dataset. The _tidy data_ standard has been designed to facilitate initial exploration and analysis of the data, and to simplify the development of data analysis tools that work well together. The principles of _tidy data_ are closely tied to those of relational databases and Codd’s relational algebra [(Codd 1990)](#codd_1990).\n",
    "\n",
    "As an integral part of his [relational model](https://en.wikipedia.org/wiki/Relational_model), Codd proposed a process of database normalization, or restructuring of a relational database in accordance with a series of so-called [normal forms](https://en.wikipedia.org/wiki/Database_normalization#Normal_forms) in order to reduce data redundancy and improve data integrity.\n",
    "\n",
    "### 1.0.2 Normalization of a database according to Codd\n",
    "\n",
    "Normalization entails organizing the columns (attributes) and tables (relations) of a database to ensure that their dependencies are properly enforced by database integrity constraints. As defined by Codd ([1990](#codd_1990), section 17.5.1), the basic ideas in normalization are to organize the information in a database as follows: \n",
    "\n",
    "1. Each distinct type of object has a distinct type identifier, which becomes the name of a base relation.\n",
    "\n",
    "\n",
    "2. Every distinct object of a given type must have an instance identifier that is unique within the object type; this is called its _primary-key value_.\n",
    "\n",
    "\n",
    "3. Every fact in the database is a fact about the object identified by the _primary key_.\n",
    "\n",
    "\n",
    "4. Each such fact contains nothing other than the single-valued immediate properties of the object.\n",
    "\n",
    "\n",
    "5. Such facts are collected together in a single relation, if they are about objects of the same type. The result is a collection of facts, all of the same type. \n",
    "\n",
    "### 1.0.3 Teranet dataset in the context of a normalized database\n",
    "\n",
    "Teranet dataset can be viewed as one of the datasets of a housing database that would include other sources of information (tables),  such as neighbourhood demographics, building types and coordinates, _etc._ In this context, Codd's basic normalization ideas would take the following form:\n",
    "\n",
    "1. The Teranet dataset presents a single type of object (relation, or table) -- **real estate transactions** recorded in the Province of Ontario between 1805-01-06 and 2017-10-11.\n",
    "\n",
    "\n",
    "2. Every distinct object (transaction) must have an instance identifier that is **unique within the object type**, or its _primary-key value_. In case of Teranet dataset, the **only unique instance identifier** (column) is the **new inserted column `'row_num'`** (see [step 1.6](#datetime_conversion)) that corresponds to the row number of each instance (transaction) in the cleaned dataset, ordered from the earliest date to the latest. All the other columns, including `'registration_date'`, `'pin'`, `address` inormation, and `coordinates`, have duplicated values in them (multiple transactions occuring on the same date, address, coordinates, or under the same pin, see [step 1.8](#inconsistent_entries)) and, thus, cannot be used as _primary-key values_.\n",
    "\n",
    "\n",
    "3. Every fact in the database is a fact about the object identified by the _primary key_. This condition is met, as every transaction in Teranet dataset is described by the values found in columns of a single row (after duplicate rows are removed, see [step 1.6](#duplicate_checks)).\n",
    "\n",
    "\n",
    "4. Each such fact contains nothing other than the single-valued immediate properties of the object, all columns in Teranet dataset contain single-valued immediate properties of each transaction.\n",
    "\n",
    "\n",
    "5. Such facts are collected together in a single relation, as they are all objects of the same type (a single table of real estate transactions recorded in Ontario).\n",
    "\n",
    "Thus, **Teranet dataset fits into a normalized database**, with row numbers (or values of `'row_num'`) as its _primary keys_. Therefore, **it can be merged with other sources of data** (such as a dataset of buildings with corresponding coordinates, address information, zoning, neighbourhood demographics, _etc._) using `'row_num'`, or row numbers, as unique identifier of instances (transactions).\n",
    "\n",
    "### 1.0.4 Codd's constraints formed in statistical language by Wickham\n",
    "\n",
    "According to Wickham [(2014)](#wickham_2014), _tidy data_ is a standard way of mapping the meaning of a dataset to its structure. A dataset is messy or tidy depending on how rows, columns and tables are matched up with observations,\n",
    "variables and types. In _tidy data:_\n",
    "1. Each variable forms a column.\n",
    "2. Each observation forms a row.\n",
    "3. Each type of observational unit forms a table.\n",
    "\n",
    "\n",
    "This is Codd’s 3rd normal form [(Codd, 1990)](#codd_1990), but with the constraints framed in statistical\n",
    "language, and the focus put on a single dataset rather than the many connected datasets\n",
    "common in relational databases. _Messy data_ is any other arrangement of the data.\n",
    "\n",
    "\n",
    "According to Wickham [(2014)](#wickham_2014), the most common problems with messy datasets are:\n",
    "* Column headers are values, not variable names.\n",
    "* Multiple variables are stored in one column.\n",
    "* Variables are stored in both rows and columns.\n",
    "* Multiple types of observational units are stored in the same table.\n",
    "* A single observational unit is stored in multiple tables.\n",
    "\n",
    "\n",
    "In Teranet dataset, none of these problems are present, so it presents _tidy data._\n",
    "\n",
    "\n",
    "### 1.0.5 Other common data problems may include:\n",
    "\n",
    "● **Inconsistent column names** (see [step 1.3](#capitalizations))\n",
    "\n",
    "Column names can have inconsistent capitalizations and/or bad characters.\n",
    "\n",
    "\n",
    "● **Missing data** (see [step 1.7](#missing_values))\n",
    "\n",
    "Missing data needs to be identified and addressed.\n",
    "\n",
    "\n",
    "● **Outliers** (will be investigated in **Part 2: Exploratory Data Analysis**)\n",
    "\n",
    "Outliers can pose a potential problem and need to be investigated.\n",
    "\n",
    "\n",
    "● **Duplicate rows** (see [step 1.5](#duplicate_checks))\n",
    "\n",
    "Duplicate rows can bias analysis and need to be found and dropped.\n",
    "\n",
    "\n",
    "● **Untidy** (see [step 1.8](#inconsistent_entries))\n",
    "\n",
    "Untidy datasets can contain multiple problems, and prevent us from quickly transforming our dataset from one suitable for reporting to a dataset suitable for analysis.\n",
    "\n",
    "\n",
    "● **Need to process columns** (see [step 1.6](#datetime_conversion))\n",
    "\n",
    "Columns might need to be processed before they can be used for data analysis.\n",
    "\n",
    "\n",
    "● **Column types can signal unexpected data values** (see [step 1.4](#data_types))\n",
    "\n",
    "Column types can signal the presence of unexpected data values.\n",
    "\n",
    "\n",
    "<a id='import_libraries'></a>\n",
    "## 1.1 Import libraries\n",
    "\n",
    "Back to the [top](#top) / [table of contents](#contents)\n"
   ]
  },
  {
   "cell_type": "code",
   "execution_count": 1,
   "metadata": {
    "pycharm": {
     "is_executing": false
    }
   },
   "outputs": [
    {
     "name": "stdout",
     "text": [
      "Libraries successfully imported!\n"
     ],
     "output_type": "stream"
    }
   ],
   "source": [
    "import pandas as pd\n",
    "import numpy as np\n",
    "from matplotlib import pyplot as plt\n",
    "from math import inf\n",
    "\n",
    "%matplotlib inline\n",
    "\n",
    "print(\"Libraries successfully imported!\")"
   ]
  },
  {
   "cell_type": "markdown",
   "metadata": {},
   "source": [
    "#### Configure a plot for future use"
   ]
  },
  {
   "cell_type": "code",
   "execution_count": 2,
   "metadata": {
    "pycharm": {
     "is_executing": false
    }
   },
   "outputs": [],
   "source": [
    "# Set some parameters to apply to all plots. These can be overridden\n",
    "# in each plot if desired\n",
    "import matplotlib\n",
    "# Plot size to 14\" x 7\"\n",
    "matplotlib.rc('figure', figsize = (14, 7))\n",
    "# Font size to 14\n",
    "matplotlib.rc('font', size = 14)\n",
    "# Do not display top and right frame lines\n",
    "matplotlib.rc('axes.spines', top = False, right = False)\n",
    "# Remove grid lines\n",
    "matplotlib.rc('axes', grid = False)\n",
    "# Set backgound color to white\n",
    "matplotlib.rc('axes', facecolor = 'white')"
   ]
  },
  {
   "cell_type": "markdown",
   "metadata": {},
   "source": [
    "<a id='load_dataset'></a>\n",
    "## 1.2 Load the full dataset\n",
    "\n",
    "Back to the [top](#top) / [table of contents](#contents)\n",
    "\n",
    "The full dataset is read into data frame `'data'` from the `''Data/HHSaleHistory.csv'` file.\n",
    "\n",
    "**If running this script, check that the path to file is correct** (relative from the location of the script -- .ipymb file)"
   ]
  },
  {
   "cell_type": "code",
   "execution_count": 3,
   "metadata": {
    "pycharm": {
     "is_executing": false
    }
   },
   "outputs": [
    {
     "name": "stdout",
     "text": [
      "Full file read successfully to data frame 'data'!\n\n\nTotal number of entries: 9039241\n"
     ],
     "output_type": "stream"
    }
   ],
   "source": [
    "file = 'Data/HHSaleHistory.csv'             # check the file path here\n",
    "\n",
    "data = pd.read_csv(file, low_memory=False, na_values=' ')\n",
    "                                                                # read the .csv file into data frame 'data',\n",
    "                                                                # low_memory=False ensures better data type detection\n",
    "                                                                # na_values are set to ' ' (empty space)\n",
    "                        # 'registration_date' would not be parsed correctly when reading, see step 1.6\n",
    "print(\"The full original Teranet dataset\"\n",
    "      \"contains {0:,} rows and {1} columns\"\n",
    "      .format(data.shape[0], data.shape[1]))"
   ]
  },
  {
   "cell_type": "markdown",
   "metadata": {},
   "source": [
    "`'registration_date'` will be parsed in [step 1.6](#datetime_conversion)"
   ]
  },
  {
   "cell_type": "markdown",
   "metadata": {},
   "source": [
    "<a id='capitalizations'></a>\n",
    "## 1.3 Improper capitalizations\n",
    "\n",
    "Back to the [top](#top) / [table of contents](#contents)\n",
    "\n",
    "* [Column names](#column_names_cap) have inconsistent capitalizations.\n",
    "\n",
    "* Values in [`'street_name'`, `'street_designation'`](#str_nam_des_cap) and [`'municipality'`](#mun_cap) have inconsistent capitalizations.\n",
    "\n",
    "* Values in [`'postal_code'`](#postal_code_cap) do not show problems, but have been converted to upper case simply to be sure they are all properly capitalized.\n",
    "\n",
    "<a id='column_names_cap'></a>\n",
    "### 1.3.1 Column names capitalization\n",
    "\n",
    "Back to the [top](#top) / [table of contents](#contents)\n",
    "\n",
    "Back to [step 1.3](#capitalizations)\n",
    "\n",
    "Column names have inconsistent capitalizations:"
   ]
  },
  {
   "cell_type": "code",
   "execution_count": 4,
   "metadata": {},
   "outputs": [
    {
     "data": {
      "text/plain": [
       "Index(['lro_num', 'pin', 'consideration_amt', 'registration_date',\n",
       "       'POSTAL_CODE', 'PROVINCE', 'UNITNO', 'STREET_NAME',\n",
       "       'STREET_DESIGNATION', 'STREET_DIRECTION', 'MUNICIPALITY',\n",
       "       'STREET_SUFFIX', 'STREET_NUMBER', 'X', 'Y'],\n",
       "      dtype='object')"
      ]
     },
     "execution_count": 4,
     "metadata": {},
     "output_type": "execute_result"
    }
   ],
   "source": [
    "data.columns"
   ]
  },
  {
   "cell_type": "markdown",
   "metadata": {},
   "source": [
    "#### Converting columns names to lower case"
   ]
  },
  {
   "cell_type": "code",
   "execution_count": 5,
   "metadata": {},
   "outputs": [
    {
     "name": "stdout",
     "output_type": "stream",
     "text": [
      "Column names converted to lower case! Column names:\n"
     ]
    },
    {
     "data": {
      "text/plain": [
       "['lro_num',\n",
       " 'pin',\n",
       " 'consideration_amt',\n",
       " 'registration_date',\n",
       " 'postal_code',\n",
       " 'province',\n",
       " 'unitno',\n",
       " 'street_name',\n",
       " 'street_designation',\n",
       " 'street_direction',\n",
       " 'municipality',\n",
       " 'street_suffix',\n",
       " 'street_number',\n",
       " 'x',\n",
       " 'y']"
      ]
     },
     "execution_count": 5,
     "metadata": {},
     "output_type": "execute_result"
    }
   ],
   "source": [
    "data.columns = data.columns.str.lower()\n",
    "print(\"Column names converted to lower case! Column names:\")\n",
    "list(data.columns)"
   ]
  },
  {
   "cell_type": "markdown",
   "metadata": {},
   "source": [
    "All column names have been converted to lower case. There appears to be no empty spaces in column names.\n",
    "<a id='mun_cap'></a>\n",
    "### 1.3.2 Capitalizing `'municipality'`\n",
    "\n",
    "Back to the [top](#top) / [table of contents](#contents)\n",
    "\n",
    "Back to [step 1.3](#capitalizations)\n",
    "\n",
    "Inconsistent capitalizations are present in the column `'municipality'`.\n",
    "\n",
    "#### Sample of inconsistent capitalizations:"
   ]
  },
  {
   "cell_type": "code",
   "execution_count": 6,
   "metadata": {},
   "outputs": [
    {
     "name": "stdout",
     "output_type": "stream",
     "text": [
      "First 5 entries with 'municipality' value 'TORONTO':\n",
      "\n",
      "0         TORONTO\n",
      "105672    TORONTO\n",
      "110020    TORONTO\n",
      "111389    TORONTO\n",
      "112888    TORONTO\n",
      "Name: municipality, dtype: object\n",
      "\n",
      "\n",
      "First 5 entries with 'municipality' value 'Toronto':\n",
      "\n",
      "152629    Toronto\n",
      "152633    Toronto\n",
      "152634    Toronto\n",
      "152635    Toronto\n",
      "155175    Toronto\n",
      "Name: municipality, dtype: object\n"
     ]
    }
   ],
   "source": [
    "# sample of entries with 'municipality' value 'TORONTO'\n",
    "mask = data['municipality'] == 'TORONTO'\n",
    "print(\"First 5 entries with 'municipality' value 'TORONTO':\\n\")\n",
    "print(data.loc[mask, 'municipality'].head())\n",
    "\n",
    "# sample of entries with 'municipality' value 'Toronto'\n",
    "mask = data['municipality'] == 'Toronto'\n",
    "print(\"\\n\\nFirst 5 entries with 'municipality' value 'Toronto':\\n\")\n",
    "print(data.loc[mask, 'municipality'].head())"
   ]
  },
  {
   "cell_type": "markdown",
   "metadata": {},
   "source": [
    "#### Capitalizing strings in `'municipality'`"
   ]
  },
  {
   "cell_type": "code",
   "execution_count": 7,
   "metadata": {},
   "outputs": [
    {
     "name": "stdout",
     "output_type": "stream",
     "text": [
      "Strings in 'municipality' have been successfully capitalized! Updated in data frame 'data'.\n"
     ]
    }
   ],
   "source": [
    "# capitalize the strings in 'municipality' in data frame 'data'\n",
    "data.loc[:, 'municipality'] = data.loc[:, 'municipality'].str.title()\n",
    "print(\"Strings in 'municipality' have been successfully capitalized! Updated in data frame 'data'.\")"
   ]
  },
  {
   "cell_type": "markdown",
   "metadata": {},
   "source": [
    "#### Verification of result"
   ]
  },
  {
   "cell_type": "code",
   "execution_count": 8,
   "metadata": {},
   "outputs": [
    {
     "name": "stdout",
     "output_type": "stream",
     "text": [
      "First 5 entries with 'municipality' value 'TORONTO':\n",
      "\n",
      "Series([], Name: municipality, dtype: object)\n",
      "\n",
      "\n",
      "First 5 entries with 'municipality' value 'Toronto':\n",
      "\n",
      "0         Toronto\n",
      "105672    Toronto\n",
      "110020    Toronto\n",
      "111389    Toronto\n",
      "112888    Toronto\n",
      "Name: municipality, dtype: object\n"
     ]
    }
   ],
   "source": [
    "# sample of entries with 'municipality' value 'TORONTO'\n",
    "mask = data['municipality'] == 'TORONTO'\n",
    "print(\"First 5 entries with 'municipality' value 'TORONTO':\\n\")\n",
    "print(data.loc[mask, 'municipality'].head())\n",
    "\n",
    "# sample of entries with 'municipality' value 'Toronto'\n",
    "mask = data['municipality'] == 'Toronto'\n",
    "print(\"\\n\\nFirst 5 entries with 'municipality' value 'Toronto':\\n\")\n",
    "print(data.loc[mask, 'municipality'].head())"
   ]
  },
  {
   "cell_type": "markdown",
   "metadata": {},
   "source": [
    "The first subset (entries with `'municipality'` value 'TORONTO') displays an empty series, capitalizations in `'municipality'` have been fixed in the data frame `'data'`.\n",
    "<a id='str_nam_des_cap'></a>\n",
    "### 1.3.3 Capitalizing `'street_name'` and `'street_designation'`\n",
    "\n",
    "Back to the [top](#top) / [table of contents](#contents)\n",
    "\n",
    "Back to [step 1.3](#capitalizations)\n",
    "\n",
    "Improper capitalizations are present in columns `'street_name'` and `'street_desigantion'`.\n",
    "\n",
    "#### Sample of improper capitalizations"
   ]
  },
  {
   "cell_type": "code",
   "execution_count": 9,
   "metadata": {},
   "outputs": [
    {
     "data": {
      "text/html": [
       "<div>\n",
       "<style scoped>\n",
       "    .dataframe tbody tr th:only-of-type {\n",
       "        vertical-align: middle;\n",
       "    }\n",
       "\n",
       "    .dataframe tbody tr th {\n",
       "        vertical-align: top;\n",
       "    }\n",
       "\n",
       "    .dataframe thead th {\n",
       "        text-align: right;\n",
       "    }\n",
       "</style>\n",
       "<table border=\"1\" class=\"dataframe\">\n",
       "  <thead>\n",
       "    <tr style=\"text-align: right;\">\n",
       "      <th></th>\n",
       "      <th>lro_num</th>\n",
       "      <th>pin</th>\n",
       "      <th>consideration_amt</th>\n",
       "      <th>registration_date</th>\n",
       "      <th>postal_code</th>\n",
       "      <th>province</th>\n",
       "      <th>unitno</th>\n",
       "      <th>street_name</th>\n",
       "      <th>street_designation</th>\n",
       "      <th>street_direction</th>\n",
       "      <th>municipality</th>\n",
       "      <th>street_suffix</th>\n",
       "      <th>street_number</th>\n",
       "      <th>x</th>\n",
       "      <th>y</th>\n",
       "    </tr>\n",
       "  </thead>\n",
       "  <tbody>\n",
       "    <tr>\n",
       "      <th>1</th>\n",
       "      <td>58</td>\n",
       "      <td>231690123</td>\n",
       "      <td>95000.0</td>\n",
       "      <td>11/27/1995 0:00:00</td>\n",
       "      <td>N2J4T2</td>\n",
       "      <td>ON</td>\n",
       "      <td>602.0</td>\n",
       "      <td>BLUE SPRINGS</td>\n",
       "      <td>DR</td>\n",
       "      <td>NaN</td>\n",
       "      <td>Waterloo</td>\n",
       "      <td>NaN</td>\n",
       "      <td>30.0</td>\n",
       "      <td>-80.525982</td>\n",
       "      <td>43.488896</td>\n",
       "    </tr>\n",
       "    <tr>\n",
       "      <th>2</th>\n",
       "      <td>58</td>\n",
       "      <td>231690365</td>\n",
       "      <td>95000.0</td>\n",
       "      <td>11/27/1995 0:00:00</td>\n",
       "      <td>N2J4T2</td>\n",
       "      <td>ON</td>\n",
       "      <td>602.0</td>\n",
       "      <td>BLUE SPRINGS</td>\n",
       "      <td>DR</td>\n",
       "      <td>NaN</td>\n",
       "      <td>Waterloo</td>\n",
       "      <td>NaN</td>\n",
       "      <td>30.0</td>\n",
       "      <td>-80.525982</td>\n",
       "      <td>43.488896</td>\n",
       "    </tr>\n",
       "    <tr>\n",
       "      <th>3</th>\n",
       "      <td>58</td>\n",
       "      <td>231690246</td>\n",
       "      <td>95000.0</td>\n",
       "      <td>11/27/1995 0:00:00</td>\n",
       "      <td>N2J4T2</td>\n",
       "      <td>ON</td>\n",
       "      <td>602.0</td>\n",
       "      <td>BLUE SPRINGS</td>\n",
       "      <td>DR</td>\n",
       "      <td>NaN</td>\n",
       "      <td>Waterloo</td>\n",
       "      <td>NaN</td>\n",
       "      <td>30.0</td>\n",
       "      <td>-80.525982</td>\n",
       "      <td>43.488896</td>\n",
       "    </tr>\n",
       "    <tr>\n",
       "      <th>7</th>\n",
       "      <td>58</td>\n",
       "      <td>226130326</td>\n",
       "      <td>152800.0</td>\n",
       "      <td>7/13/1989 0:00:00</td>\n",
       "      <td>N2E2K9</td>\n",
       "      <td>ON</td>\n",
       "      <td>NaN</td>\n",
       "      <td>COUNTRY HILL</td>\n",
       "      <td>DR</td>\n",
       "      <td>NaN</td>\n",
       "      <td>Kitchener</td>\n",
       "      <td>NaN</td>\n",
       "      <td>370.0</td>\n",
       "      <td>-80.466845</td>\n",
       "      <td>43.410641</td>\n",
       "    </tr>\n",
       "    <tr>\n",
       "      <th>8</th>\n",
       "      <td>58</td>\n",
       "      <td>231330013</td>\n",
       "      <td>157900.0</td>\n",
       "      <td>7/13/1989 0:00:00</td>\n",
       "      <td>N2V1Z3</td>\n",
       "      <td>ON</td>\n",
       "      <td>13.0</td>\n",
       "      <td>BENJAMIN</td>\n",
       "      <td>RD</td>\n",
       "      <td>NaN</td>\n",
       "      <td>Waterloo</td>\n",
       "      <td>NaN</td>\n",
       "      <td>225.0</td>\n",
       "      <td>-80.558966</td>\n",
       "      <td>43.503090</td>\n",
       "    </tr>\n",
       "  </tbody>\n",
       "</table>\n",
       "</div>"
      ],
      "text/plain": [
       "   lro_num        pin  consideration_amt   registration_date postal_code  \\\n",
       "1       58  231690123            95000.0  11/27/1995 0:00:00      N2J4T2   \n",
       "2       58  231690365            95000.0  11/27/1995 0:00:00      N2J4T2   \n",
       "3       58  231690246            95000.0  11/27/1995 0:00:00      N2J4T2   \n",
       "7       58  226130326           152800.0   7/13/1989 0:00:00      N2E2K9   \n",
       "8       58  231330013           157900.0   7/13/1989 0:00:00      N2V1Z3   \n",
       "\n",
       "  province  unitno   street_name street_designation street_direction  \\\n",
       "1       ON   602.0  BLUE SPRINGS                 DR              NaN   \n",
       "2       ON   602.0  BLUE SPRINGS                 DR              NaN   \n",
       "3       ON   602.0  BLUE SPRINGS                 DR              NaN   \n",
       "7       ON     NaN  COUNTRY HILL                 DR              NaN   \n",
       "8       ON    13.0      BENJAMIN                 RD              NaN   \n",
       "\n",
       "  municipality  street_suffix  street_number          x          y  \n",
       "1     Waterloo            NaN           30.0 -80.525982  43.488896  \n",
       "2     Waterloo            NaN           30.0 -80.525982  43.488896  \n",
       "3     Waterloo            NaN           30.0 -80.525982  43.488896  \n",
       "7    Kitchener            NaN          370.0 -80.466845  43.410641  \n",
       "8     Waterloo            NaN          225.0 -80.558966  43.503090  "
      ]
     },
     "execution_count": 9,
     "metadata": {},
     "output_type": "execute_result"
    }
   ],
   "source": [
    "# subset records with non-null values of 'street_name' and 'street_designation'\n",
    "mask = np.logical_and(data.loc[:, 'street_name'].notnull(), data.loc[:, 'street_designation'].notnull())\n",
    "data.loc[mask].head()             # display the top 5 rows of the subset"
   ]
  },
  {
   "cell_type": "markdown",
   "metadata": {},
   "source": [
    "#### Capitalizing entries in `'street_name'` and `'street_designation'`"
   ]
  },
  {
   "cell_type": "code",
   "execution_count": 10,
   "metadata": {},
   "outputs": [
    {
     "name": "stdout",
     "output_type": "stream",
     "text": [
      "\n",
      "Strings in 'street_name' have been successfully capitalized!\n",
      "\n",
      "Strings in 'street_designation' have been successfully capitalized!\n"
     ]
    }
   ],
   "source": [
    "# capitalize first letter of each word in 'street_name'\n",
    "data.loc[:, 'street_name'] = data.loc[:, 'street_name'].str.title()\n",
    "print(\"\\nStrings in 'street_name' have been successfully capitalized!\")\n",
    "\n",
    "# capitalize 'street_designation'\n",
    "data.loc[:, 'street_designation'] = data.loc[:, 'street_designation'].str.capitalize()\n",
    "print(\"\\nStrings in 'street_designation' have been successfully capitalized!\")"
   ]
  },
  {
   "cell_type": "markdown",
   "metadata": {},
   "source": [
    "#### Verification of results"
   ]
  },
  {
   "cell_type": "code",
   "execution_count": 11,
   "metadata": {},
   "outputs": [
    {
     "data": {
      "text/html": [
       "<div>\n",
       "<style scoped>\n",
       "    .dataframe tbody tr th:only-of-type {\n",
       "        vertical-align: middle;\n",
       "    }\n",
       "\n",
       "    .dataframe tbody tr th {\n",
       "        vertical-align: top;\n",
       "    }\n",
       "\n",
       "    .dataframe thead th {\n",
       "        text-align: right;\n",
       "    }\n",
       "</style>\n",
       "<table border=\"1\" class=\"dataframe\">\n",
       "  <thead>\n",
       "    <tr style=\"text-align: right;\">\n",
       "      <th></th>\n",
       "      <th>lro_num</th>\n",
       "      <th>pin</th>\n",
       "      <th>consideration_amt</th>\n",
       "      <th>registration_date</th>\n",
       "      <th>postal_code</th>\n",
       "      <th>province</th>\n",
       "      <th>unitno</th>\n",
       "      <th>street_name</th>\n",
       "      <th>street_designation</th>\n",
       "      <th>street_direction</th>\n",
       "      <th>municipality</th>\n",
       "      <th>street_suffix</th>\n",
       "      <th>street_number</th>\n",
       "      <th>x</th>\n",
       "      <th>y</th>\n",
       "    </tr>\n",
       "  </thead>\n",
       "  <tbody>\n",
       "    <tr>\n",
       "      <th>1</th>\n",
       "      <td>58</td>\n",
       "      <td>231690123</td>\n",
       "      <td>95000.0</td>\n",
       "      <td>11/27/1995 0:00:00</td>\n",
       "      <td>N2J4T2</td>\n",
       "      <td>ON</td>\n",
       "      <td>602.0</td>\n",
       "      <td>Blue Springs</td>\n",
       "      <td>Dr</td>\n",
       "      <td>NaN</td>\n",
       "      <td>Waterloo</td>\n",
       "      <td>NaN</td>\n",
       "      <td>30.0</td>\n",
       "      <td>-80.525982</td>\n",
       "      <td>43.488896</td>\n",
       "    </tr>\n",
       "    <tr>\n",
       "      <th>2</th>\n",
       "      <td>58</td>\n",
       "      <td>231690365</td>\n",
       "      <td>95000.0</td>\n",
       "      <td>11/27/1995 0:00:00</td>\n",
       "      <td>N2J4T2</td>\n",
       "      <td>ON</td>\n",
       "      <td>602.0</td>\n",
       "      <td>Blue Springs</td>\n",
       "      <td>Dr</td>\n",
       "      <td>NaN</td>\n",
       "      <td>Waterloo</td>\n",
       "      <td>NaN</td>\n",
       "      <td>30.0</td>\n",
       "      <td>-80.525982</td>\n",
       "      <td>43.488896</td>\n",
       "    </tr>\n",
       "    <tr>\n",
       "      <th>3</th>\n",
       "      <td>58</td>\n",
       "      <td>231690246</td>\n",
       "      <td>95000.0</td>\n",
       "      <td>11/27/1995 0:00:00</td>\n",
       "      <td>N2J4T2</td>\n",
       "      <td>ON</td>\n",
       "      <td>602.0</td>\n",
       "      <td>Blue Springs</td>\n",
       "      <td>Dr</td>\n",
       "      <td>NaN</td>\n",
       "      <td>Waterloo</td>\n",
       "      <td>NaN</td>\n",
       "      <td>30.0</td>\n",
       "      <td>-80.525982</td>\n",
       "      <td>43.488896</td>\n",
       "    </tr>\n",
       "    <tr>\n",
       "      <th>7</th>\n",
       "      <td>58</td>\n",
       "      <td>226130326</td>\n",
       "      <td>152800.0</td>\n",
       "      <td>7/13/1989 0:00:00</td>\n",
       "      <td>N2E2K9</td>\n",
       "      <td>ON</td>\n",
       "      <td>NaN</td>\n",
       "      <td>Country Hill</td>\n",
       "      <td>Dr</td>\n",
       "      <td>NaN</td>\n",
       "      <td>Kitchener</td>\n",
       "      <td>NaN</td>\n",
       "      <td>370.0</td>\n",
       "      <td>-80.466845</td>\n",
       "      <td>43.410641</td>\n",
       "    </tr>\n",
       "    <tr>\n",
       "      <th>8</th>\n",
       "      <td>58</td>\n",
       "      <td>231330013</td>\n",
       "      <td>157900.0</td>\n",
       "      <td>7/13/1989 0:00:00</td>\n",
       "      <td>N2V1Z3</td>\n",
       "      <td>ON</td>\n",
       "      <td>13.0</td>\n",
       "      <td>Benjamin</td>\n",
       "      <td>Rd</td>\n",
       "      <td>NaN</td>\n",
       "      <td>Waterloo</td>\n",
       "      <td>NaN</td>\n",
       "      <td>225.0</td>\n",
       "      <td>-80.558966</td>\n",
       "      <td>43.503090</td>\n",
       "    </tr>\n",
       "  </tbody>\n",
       "</table>\n",
       "</div>"
      ],
      "text/plain": [
       "   lro_num        pin  consideration_amt   registration_date postal_code  \\\n",
       "1       58  231690123            95000.0  11/27/1995 0:00:00      N2J4T2   \n",
       "2       58  231690365            95000.0  11/27/1995 0:00:00      N2J4T2   \n",
       "3       58  231690246            95000.0  11/27/1995 0:00:00      N2J4T2   \n",
       "7       58  226130326           152800.0   7/13/1989 0:00:00      N2E2K9   \n",
       "8       58  231330013           157900.0   7/13/1989 0:00:00      N2V1Z3   \n",
       "\n",
       "  province  unitno   street_name street_designation street_direction  \\\n",
       "1       ON   602.0  Blue Springs                 Dr              NaN   \n",
       "2       ON   602.0  Blue Springs                 Dr              NaN   \n",
       "3       ON   602.0  Blue Springs                 Dr              NaN   \n",
       "7       ON     NaN  Country Hill                 Dr              NaN   \n",
       "8       ON    13.0      Benjamin                 Rd              NaN   \n",
       "\n",
       "  municipality  street_suffix  street_number          x          y  \n",
       "1     Waterloo            NaN           30.0 -80.525982  43.488896  \n",
       "2     Waterloo            NaN           30.0 -80.525982  43.488896  \n",
       "3     Waterloo            NaN           30.0 -80.525982  43.488896  \n",
       "7    Kitchener            NaN          370.0 -80.466845  43.410641  \n",
       "8     Waterloo            NaN          225.0 -80.558966  43.503090  "
      ]
     },
     "execution_count": 11,
     "metadata": {},
     "output_type": "execute_result"
    }
   ],
   "source": [
    "# subset records with non-null values of 'street_name' and 'street_designation'\n",
    "mask = np.logical_and(data.loc[:, 'street_name'].notnull(), data.loc[:, 'street_designation'].notnull())\n",
    "\n",
    "# display the top 5 rows of the subset\n",
    "data.loc[mask].head()"
   ]
  },
  {
   "cell_type": "markdown",
   "metadata": {},
   "source": [
    "Values in columns `'street_name'` and `'street_designation'` have been capitalized in data frame `'data'`.\n",
    "<a id='postal_code_cap'></a>\n",
    "### 1.3.4 Capitalizing `'postal_code'`\n",
    "\n",
    "Back to the [top](#top) / [table of contents](#contents)\n",
    "\n",
    "Back to [step 1.3](#capitalizations)\n",
    "\n",
    "Values in the column `'postal_code'` do not show problems, but can be converted to upper case simply to be sure that they are all properly capitalized."
   ]
  },
  {
   "cell_type": "code",
   "execution_count": 12,
   "metadata": {},
   "outputs": [
    {
     "name": "stdout",
     "output_type": "stream",
     "text": [
      "Values in 'postal_code' have been successfully converted to upper case!\n"
     ]
    }
   ],
   "source": [
    "data.loc[:, 'postal_code'] = data.loc[:, 'postal_code'].str.upper()\n",
    "print(\"Values in 'postal_code' have been successfully converted to upper case!\")"
   ]
  },
  {
   "cell_type": "markdown",
   "metadata": {},
   "source": [
    "<a id='data_types'></a>\n",
    "## 1.4 Data types\n",
    "\n",
    "Back to the [top](#top) / [table of contents](#contents)\n",
    "\n",
    "Data types detected when reading the file do not indicate any problems, other than `'registration_date'` being read as an object (string). This will be addressed in [step 1.6](#datetime_conversion).\n",
    "\n",
    "#### Raw dataset summary\n",
    "\n",
    "Information about the full unprocessed data set: number of entries, column names, data types and number of non-null values."
   ]
  },
  {
   "cell_type": "code",
   "execution_count": 13,
   "metadata": {},
   "outputs": [
    {
     "name": "stdout",
     "output_type": "stream",
     "text": [
      "<class 'pandas.core.frame.DataFrame'>\n",
      "RangeIndex: 9039241 entries, 0 to 9039240\n",
      "Data columns (total 15 columns):\n",
      "lro_num               9039241 non-null int64\n",
      "pin                   9039241 non-null int64\n",
      "consideration_amt     9039241 non-null float64\n",
      "registration_date     9039241 non-null object\n",
      "postal_code           7841510 non-null object\n",
      "province              8314522 non-null object\n",
      "unitno                1738647 non-null float64\n",
      "street_name           8627066 non-null object\n",
      "street_designation    7844029 non-null object\n",
      "street_direction      816749 non-null object\n",
      "municipality          9007093 non-null object\n",
      "street_suffix         167 non-null float64\n",
      "street_number         8620928 non-null float64\n",
      "x                     9019778 non-null float64\n",
      "y                     9019778 non-null float64\n",
      "dtypes: float64(6), int64(2), object(7)\n",
      "memory usage: 1.0+ GB\n"
     ]
    }
   ],
   "source": [
    "data.info(null_counts=True)"
   ]
  },
  {
   "cell_type": "markdown",
   "metadata": {},
   "source": [
    "Correct data types are an indication of consistency of types of entered values in the dataset.\n",
    "\n",
    "Column `'lro_num'` could be converted to categorical data type, as it only contains a small range of values (see [step 1.8.1](#lro_num)), but as this does not result in a significant reduction in memory use, its type is left as integer.\n",
    "<a id='duplicate_checks'></a>\n",
    "## 1.5 Duplicate checks\n",
    "\n",
    "Back to the [top](#top) / [table of contents](#contents)\n",
    "\n",
    "Duplicate checks are performed using the following sublists of columns as criteria:\n",
    "\n",
    "* `'complete'`: records match on all columns. Detects 83'798 duplicate entries.\n",
    "\n",
    "* `'pin_price_date_coord'`: records have the same `pin`, `price`, `date` and `coordinates`. Detects 83'798 duplicate entries, same as `'complete'`.\n",
    "\n",
    "* `'drop_pin'`: records match on all columns with `pin` exlcuded. Detects 813'138 duplicate entries\n",
    "\n",
    "* `'price_date_add_coord'`: records have the same `price`, `date`, `address` information (`'unitno'`, `'street_name'`, `'street_number'`), and `coordinates`. Detects 815'951 duplicate entries.\n",
    "\n",
    "* `'price_date_coord'`: same as the previous check, but without `address` information. Records have the same `price`, `date`, and `coordinates`. Detects 1'469'500 duplicate entries.\n",
    "\n",
    "In this step, [results are presented and discussed](#duplicate_check_results) and [duplicate entries are removed](#remove_duplicates) from the data set."
   ]
  },
  {
   "cell_type": "code",
   "execution_count": 14,
   "metadata": {
    "scrolled": false
   },
   "outputs": [
    {
     "name": "stdout",
     "output_type": "stream",
     "text": [
      "\n",
      "Duplicate check using subset 'complete', with the following columns:\n",
      " ['lro_num', 'pin', 'consideration_amt', 'registration_date', 'postal_code', 'province', 'unitno', 'street_name', 'street_designation', 'street_direction', 'municipality', 'street_suffix', 'street_number', 'x', 'y']\n",
      "\n",
      "detects 83798 duplicate entries.\n",
      "\n",
      "\n",
      "\n",
      "Duplicate check using subset 'pin_price_date_coord', with the following columns:\n",
      " ['pin', 'consideration_amt', 'registration_date', 'x', 'y']\n",
      "\n",
      "detects 83798 duplicate entries.\n",
      "\n",
      "\n",
      "\n",
      "Duplicate check using subset 'drop_pin', with the following columns:\n",
      " ['lro_num', 'consideration_amt', 'registration_date', 'postal_code', 'province', 'unitno', 'street_name', 'street_designation', 'street_direction', 'municipality', 'street_suffix', 'street_number', 'x', 'y']\n",
      "\n",
      "detects 813138 duplicate entries.\n",
      "\n",
      "\n",
      "\n",
      "Duplicate check using subset 'price_date_add_coord', with the following columns:\n",
      " ['consideration_amt', 'registration_date', 'unitno', 'street_name', 'street_number', 'x', 'y']\n",
      "\n",
      "detects 815951 duplicate entries.\n",
      "\n",
      "\n",
      "\n",
      "Duplicate check using subset 'price_date_coord', with the following columns:\n",
      " ['consideration_amt', 'registration_date', 'x', 'y']\n",
      "\n",
      "detects 1469500 duplicate entries.\n",
      "\n",
      "\n"
     ]
    },
    {
     "data": {
      "image/png": "[encoded data removed]",
      "text/plain": [
       "<Figure size 1008x504 with 1 Axes>"
      ]
     },
     "metadata": {},
     "output_type": "display_data"
    }
   ],
   "source": [
    "# create dictionary of dicts 'dup_col_dict' with different subsets to use for duplicate check\n",
    "\n",
    "dup_col_dict = {\n",
    "                'complete': {'sublist': list(data.columns)},            # records match in all columns\n",
    "                        \n",
    "                'pin_price_date_coord': {'sublist': ['pin', 'consideration_amt', 'registration_date', 'x', 'y']}, \n",
    "                                                                        # same pin, date, price, coordinates\n",
    "                'drop_pin': {'sublist': list(data.columns.drop('pin'))},                   \n",
    "                                                                        # match in all columns, but 'pin'\n",
    "                'price_date_add_coord': {'sublist': ['consideration_amt', 'registration_date', \n",
    "                                                 'unitno', 'street_name', 'street_number',\n",
    "                                                 'x', 'y']},         \n",
    "                                                                        # same date, price, address, coordinates\n",
    "                'price_date_coord': {'sublist': ['consideration_amt', 'registration_date', 'x', 'y']}         \n",
    "                                                                        # same date, price, coordinates\n",
    "                }\n",
    "\n",
    "for key, value in dup_col_dict.items():\n",
    "    \n",
    "    print(f\"\\nDuplicate check using subset '{key}', with the following columns:\\n\", dup_col_dict[key]['sublist'])\n",
    "    mask = data.duplicated(subset=value['sublist'])\n",
    "    dup_col_dict[key]['num'] = len(data[mask])    \n",
    "    print(\"\\ndetects {0} duplicate entries.\\n\\n\"\n",
    "          .format(dup_col_dict[key]['num']))\n",
    "\n",
    "dupl_df = pd.DataFrame(dup_col_dict)\n",
    "dupl_df.T.plot.bar(y='num')\n",
    "plt.show()"
   ]
  },
  {
   "cell_type": "markdown",
   "metadata": {},
   "source": [
    "<a id='duplicate_check_results'></a>\n",
    "#### Duplicate check results\n",
    "\n",
    "* Duplicate check performed using all columns as criteria for detection gives the same result as the check that used only `'pin'`, `'consideration_amt'`, `'registration_date'`, and `coordinates`. Adding the other 11 columns does not reduce the number of duplicates detected.\n",
    "\n",
    "\n",
    "* Check perfomed using all columns, but the `'pin'`, produces a ten-fold increase in the number of duplicates detected. These are transactions that are recorded for the same property, on the same date, and with a same price, but under different `'pin'`s. These entries represent a singe transaction being recorded under separate entries for unit, parking lot, _etc._, with the total price duplicated in each entry. **This criteria will be used to remove the duplicate entries from the dataset later in this section.**\n",
    "\n",
    "\n",
    "* Check performed using just `'registration_date'`, `'consideration_amt'`, `address` information and `coordinates` detects a similar number of duplicates as the check that uses all columns with `'pin'` exluded.\n",
    "\n",
    "\n",
    "* If `address` information is removed from the previous criteria, the check detects additional 653'549 duplicate entries. \n",
    "\n",
    "    * **This is an erratic result**, as entries with the same coordinates should probably have the same address information, and the check should produce results close to the previous one.\n",
    "    \n",
    "    * This could be an indication of inconsistency of entries in the columns containing `address` information, or their mismatch with `coordinates`.\n",
    "<a id='remove_duplicates'></a>\n",
    "\n",
    "\n",
    "#### Remove duplicate records from data frame `'data'` using criteria: all columns without `'pin'`\n",
    "\n",
    "The data is filtered for duplicates with a duplicate check using the subset of all 14 columns with only `'pin'` excluded. This means that entries are considered duplicate if transactions match in everything, but might or might not have the same `'pin'` number.\n",
    "\n",
    "* This eliminates 83'798 duplicates identical in everything, including `'pin'`, and 729'182 additional entries identical in everything, but the `'pin'`, that represent same transaction recorded in several entries using different `'pin'`s (represents separate entries for house, parking lot, _etc._)\n",
    "    \n",
    "* 813'138 duplicate entries are removed (9% of total), with 8'226'103 unique rows remaining"
   ]
  },
  {
   "cell_type": "code",
   "execution_count": 15,
   "metadata": {},
   "outputs": [
    {
     "name": "stdout",
     "output_type": "stream",
     "text": [
      "813138 duplicate entries removed from data frame 'data'!\n",
      "New number of entries in the data frame 'data': 8226103\n"
     ]
    }
   ],
   "source": [
    "# set the subset to remove duplicates from data frame 'data'\n",
    "dup_col_check = list(data.columns.drop('pin'))\n",
    "\n",
    "# remove the duplicates from the data frame 'data'\n",
    "data_len_dup = len(data)\n",
    "data = data.drop_duplicates(subset=dup_col_check)\n",
    "data_len_no_dup = len(data)\n",
    "print(\"{0} duplicate entries removed from data frame 'data'!\".\n",
    "     format(\n",
    "            data_len_dup - data_len_no_dup\n",
    "            ))\n",
    "print(\"New number of entries in the data frame 'data':\", len(data))"
   ]
  },
  {
   "cell_type": "markdown",
   "metadata": {},
   "source": [
    "#### Verification of results"
   ]
  },
  {
   "cell_type": "code",
   "execution_count": 16,
   "metadata": {
    "scrolled": false
   },
   "outputs": [
    {
     "name": "stdout",
     "output_type": "stream",
     "text": [
      "\n",
      "Duplicate check using subset 'complete', with the following columns:\n",
      " ['lro_num', 'pin', 'consideration_amt', 'registration_date', 'postal_code', 'province', 'unitno', 'street_name', 'street_designation', 'street_direction', 'municipality', 'street_suffix', 'street_number', 'x', 'y']\n",
      "\n",
      "detects 0 duplicate entries.\n",
      "\n",
      "\n",
      "\n",
      "Duplicate check using subset 'pin_price_date_coord', with the following columns:\n",
      " ['pin', 'consideration_amt', 'registration_date', 'x', 'y']\n",
      "\n",
      "detects 0 duplicate entries.\n",
      "\n",
      "\n",
      "\n",
      "Duplicate check using subset 'drop_pin', with the following columns:\n",
      " ['lro_num', 'consideration_amt', 'registration_date', 'postal_code', 'province', 'unitno', 'street_name', 'street_designation', 'street_direction', 'municipality', 'street_suffix', 'street_number', 'x', 'y']\n",
      "\n",
      "detects 0 duplicate entries.\n",
      "\n",
      "\n",
      "\n",
      "Duplicate check using subset 'price_date_add_coord', with the following columns:\n",
      " ['consideration_amt', 'registration_date', 'unitno', 'street_name', 'street_number', 'x', 'y']\n",
      "\n",
      "detects 2813 duplicate entries.\n",
      "\n",
      "\n",
      "\n",
      "Duplicate check using subset 'price_date_coord', with the following columns:\n",
      " ['consideration_amt', 'registration_date', 'x', 'y']\n",
      "\n",
      "detects 656362 duplicate entries.\n",
      "\n",
      "\n"
     ]
    }
   ],
   "source": [
    "for key, value in dup_col_dict.items():\n",
    "    \n",
    "    print(f\"\\nDuplicate check using subset '{key}', with the following columns:\\n\", dup_col_dict[key]['sublist'])\n",
    "    mask = data.duplicated(subset=value['sublist'])\n",
    "    dup_col_dict[key]['new_num'] = len(data[mask])    \n",
    "    print(\"\\ndetects {0} duplicate entries.\\n\\n\"\n",
    "          .format(dup_col_dict[key]['new_num']))"
   ]
  },
  {
   "cell_type": "markdown",
   "metadata": {},
   "source": [
    "As explained in [**Duplicate check results**](#duplicate_check_results) above, the check that uses `'consideration_amt'`, `'registration_amt'`, and `'coordinates'`, with `address` information excluded, produces additional 656'362 duplicate entries, potentially due to the discrepancy between `address` information and `coordinates`."
   ]
  },
  {
   "cell_type": "markdown",
   "metadata": {},
   "source": [
    "<a id='datetime_conversion'></a>\n",
    "## 1.6 Datetime conversion\n",
    "\n",
    "Back to the [top](#top) / [table of contents](#contents)\n",
    "\n",
    "In this step:\n",
    "\n",
    "* a record with an erratic time value [is fixed](#wrong_timestamp)\n",
    "* registration date is [converted to datetime format](#convert_to_datetime)\n",
    "* index of the data frame `'data'` is reset to `'registration_date'` and data is [resorted by date](#sort_by_date)\n",
    "* new columns `'row_num'`, `'year'`, and `'decade'` are [added to the data frame](#sort_by_date)\n"
   ]
  },
  {
   "cell_type": "markdown",
   "metadata": {},
   "source": [
    "<a id='wrong_timestamp'></a>\n",
    "### 1.6.1 Record with a wrong time stamp\n",
    "\n",
    "Back to [top](#top) / [table of contents](#contents)\n",
    "\n",
    "Back to [step 1.6](#datetime_conversion)\n",
    "\n",
    "One record appears to have a mistake in the date entry, the year digit is '0996', instead of '1996'."
   ]
  },
  {
   "cell_type": "code",
   "execution_count": 17,
   "metadata": {},
   "outputs": [
    {
     "data": {
      "text/html": [
       "<div>\n",
       "<style scoped>\n",
       "    .dataframe tbody tr th:only-of-type {\n",
       "        vertical-align: middle;\n",
       "    }\n",
       "\n",
       "    .dataframe tbody tr th {\n",
       "        vertical-align: top;\n",
       "    }\n",
       "\n",
       "    .dataframe thead th {\n",
       "        text-align: right;\n",
       "    }\n",
       "</style>\n",
       "<table border=\"1\" class=\"dataframe\">\n",
       "  <thead>\n",
       "    <tr style=\"text-align: right;\">\n",
       "      <th></th>\n",
       "      <th>lro_num</th>\n",
       "      <th>pin</th>\n",
       "      <th>consideration_amt</th>\n",
       "      <th>registration_date</th>\n",
       "      <th>postal_code</th>\n",
       "      <th>province</th>\n",
       "      <th>unitno</th>\n",
       "      <th>street_name</th>\n",
       "      <th>street_designation</th>\n",
       "      <th>street_direction</th>\n",
       "      <th>municipality</th>\n",
       "      <th>street_suffix</th>\n",
       "      <th>street_number</th>\n",
       "      <th>x</th>\n",
       "      <th>y</th>\n",
       "    </tr>\n",
       "  </thead>\n",
       "  <tbody>\n",
       "    <tr>\n",
       "      <th>6706027</th>\n",
       "      <td>51</td>\n",
       "      <td>584050540</td>\n",
       "      <td>90000.0</td>\n",
       "      <td>9/20/0996 0:00:00</td>\n",
       "      <td>L4R5L4</td>\n",
       "      <td>ON</td>\n",
       "      <td>NaN</td>\n",
       "      <td>Golf Link</td>\n",
       "      <td>Rd</td>\n",
       "      <td>NaN</td>\n",
       "      <td>Midland</td>\n",
       "      <td>NaN</td>\n",
       "      <td>1504.0</td>\n",
       "      <td>-79.934438</td>\n",
       "      <td>44.746957</td>\n",
       "    </tr>\n",
       "  </tbody>\n",
       "</table>\n",
       "</div>"
      ],
      "text/plain": [
       "         lro_num        pin  consideration_amt  registration_date postal_code  \\\n",
       "6706027       51  584050540            90000.0  9/20/0996 0:00:00      L4R5L4   \n",
       "\n",
       "        province  unitno street_name street_designation street_direction  \\\n",
       "6706027       ON     NaN   Golf Link                 Rd              NaN   \n",
       "\n",
       "        municipality  street_suffix  street_number          x          y  \n",
       "6706027      Midland            NaN         1504.0 -79.934438  44.746957  "
      ]
     },
     "execution_count": 17,
     "metadata": {},
     "output_type": "execute_result"
    }
   ],
   "source": [
    "data.loc[data['registration_date'] == '9/20/0996 0:00:00']"
   ]
  },
  {
   "cell_type": "markdown",
   "metadata": {},
   "source": [
    "#### Correction:"
   ]
  },
  {
   "cell_type": "code",
   "execution_count": 18,
   "metadata": {},
   "outputs": [
    {
     "name": "stdout",
     "output_type": "stream",
     "text": [
      "'registration_date' of record #6706027 was fixed!\n"
     ]
    }
   ],
   "source": [
    "data.at[6706027, 'registration_date'] =  '9/20/1996 0:00:00'\n",
    "print(\"'registration_date' of record #6706027 was fixed!\")"
   ]
  },
  {
   "cell_type": "markdown",
   "metadata": {},
   "source": [
    "<a id='convert_to_datetime'></a>\n",
    "### 1.6.2 Converting `'registration_date'` to datetime format\n",
    "\n",
    "Back to [top](#top) / [table of contents](#contents)\n",
    "\n",
    "Back to [step 1.6](#datetime_conversion)\n",
    "\n",
    "`'registration_date'`'s data type detects as an object (string) and it contains an empty time stamp 0:00:00 in each entry, type can be converted to Pandas datetime format (Pandas is a Python library for working with datasets).\n",
    "\n",
    "#### Initial data type of `'registration_date'`"
   ]
  },
  {
   "cell_type": "code",
   "execution_count": 19,
   "metadata": {},
   "outputs": [
    {
     "name": "stdout",
     "output_type": "stream",
     "text": [
      "'registration_date' of entry 0:   6/28/1909 0:00:00\n",
      "It currently has the type of      <class 'str'>\n"
     ]
    }
   ],
   "source": [
    "print(\"'registration_date' of entry 0:  \", data.loc[0, 'registration_date'])\n",
    "print(\"It currently has the type of     \", type(data.loc[0, 'registration_date']))"
   ]
  },
  {
   "cell_type": "markdown",
   "metadata": {},
   "source": [
    "#### Converting `'registration_date'` to datetime data type"
   ]
  },
  {
   "cell_type": "code",
   "execution_count": 20,
   "metadata": {},
   "outputs": [
    {
     "name": "stdout",
     "output_type": "stream",
     "text": [
      "'registration_date' converted to datetime data type!\n"
     ]
    }
   ],
   "source": [
    "# convert 'registration_date' from str to datetime data type\n",
    "# errors can be set to 'coerce', but seems to parse fine\n",
    "data.loc[:, 'registration_date'] = pd.to_datetime(data.loc[:, 'registration_date'], format='%m/%d/%Y %H:%M:%S')\n",
    "print(\"'registration_date' converted to datetime data type!\")"
   ]
  },
  {
   "cell_type": "markdown",
   "metadata": {},
   "source": [
    "#### Verification of results"
   ]
  },
  {
   "cell_type": "code",
   "execution_count": 21,
   "metadata": {},
   "outputs": [
    {
     "name": "stdout",
     "output_type": "stream",
     "text": [
      "'registration_date' of entry 0:   1909-06-28 00:00:00\n",
      "It currently has the type of      <class 'pandas._libs.tslibs.timestamps.Timestamp'>\n"
     ]
    }
   ],
   "source": [
    "print(\"'registration_date' of entry 0:  \", data.loc[0, 'registration_date'])\n",
    "print(\"It currently has the type of     \", type(data.loc[0, 'registration_date']))"
   ]
  },
  {
   "cell_type": "markdown",
   "metadata": {},
   "source": [
    "The empty time stamp 00:00:00 is still displayed when `'registraion_date'` values are requested directly, but will not be shown for other types of the display as `'registration_date'` is now processed as a Pandas Timestamp data type."
   ]
  },
  {
   "cell_type": "markdown",
   "metadata": {},
   "source": [
    "<a id='sort_by_date'></a>\n",
    "### 1.6.3 Sorting data by date, adding new columns for `'row_num'`, `'year'`, and `'decade'`\n",
    "\n",
    "Back to [top](#top) / [table of contents](#contents)\n",
    "\n",
    "Back to [step 1.6](#datetime_conversion)\n",
    "\n",
    "* First, index of the data frame `'data'` is set to `'registration_date'`.\n",
    "\n",
    "* Then, the data frame is sorted using the new datetime index.\n",
    "\n",
    "* Finally, new columns `'row_num'` containing row numbers, `'year'`, and `'decade'` are inserted at the beginning of the data frame."
   ]
  },
  {
   "cell_type": "code",
   "execution_count": 22,
   "metadata": {},
   "outputs": [
    {
     "name": "stdout",
     "output_type": "stream",
     "text": [
      "Setting the index of data frame 'data' to 'registration_date'...Please wait...\n",
      "Index set to registration date!\n",
      "\n",
      "Sorting data frame 'data' by index...Please wait...\n",
      "Data frame 'data' sorted by index!\n",
      "\n",
      "Adding a new column 'row_num' to data frame 'data'...Please wait...\n",
      "New column 'row_num' inserted into the data frame 'data'!\n",
      "\n",
      "Adding new columns 'year' and 'decade' to data frame 'data'. Please wait...\n",
      "Columns 'year' and 'decade' added to the data frame 'data'!\n",
      "\n",
      "Everything done!\n"
     ]
    }
   ],
   "source": [
    "# set index of data frame 'data' to 'registration_date'\n",
    "print(\"Setting the index of data frame 'data' to 'registration_date'...Please wait...\")\n",
    "data.set_index('registration_date', inplace=True, drop=False)\n",
    "print(\"Index set to registration date!\\n\\nSorting data frame 'data' by index...Please wait...\")\n",
    "\n",
    "# sort the data frame by datetime index\n",
    "data = data.sort_index()\n",
    "print(\"Data frame 'data' sorted by index!\\n\\nAdding a new column 'row_num' to data frame 'data'...Please wait...\")\n",
    "\n",
    "# add a new column 'row_num' to data frame 'data'\n",
    "data.insert(0, 'row_num', np.arange(len(data)))\n",
    "print(\"New column 'row_num' inserted into the data frame 'data'!\\n\\nAdding new columns 'year' and 'decade' to \" +\n",
    "     \"data frame 'data'. Please wait...\")\n",
    "\n",
    "# add new columns 'year' and 'decade' to data frame 'data'\n",
    "data.insert(1, 'year', data['registration_date'].astype('str'))\n",
    "data.insert(1, 'decade', data['year'].str.slice(0, 3).astype('int32'))\n",
    "data['year'] = data['year'].str.slice(0, 4).astype('int32')\n",
    "print(\"Columns 'year' and 'decade' added to the data frame 'data'!\\n\\nEverything done!\")"
   ]
  },
  {
   "cell_type": "markdown",
   "metadata": {},
   "source": [
    "<a id='missing_values'></a>\n",
    "## 1.7 Missing values\n",
    "\n",
    "Back to the [top](#top) / [table of contents](#contents)\n",
    "\n",
    "#### Determining empty values and outliers for `'consideration_amt'`\n",
    "\n",
    "\n",
    "* Empty (NaN) values for `'consideration_amt'` are set for all records with a price under 30 dollars. These records represent missing values and gift transactions and are not removed from the dataset, but will be excluded from statistical operations.\n",
    "\n",
    "\n",
    "* No records from 1800-1820 have a price above 5 dollars, so `'consideration_amt'` on all of them is set to NaN.\n",
    "\n",
    "\n",
    "* Outliers are not removed from the dataset, as they probably represent commercial/industrial transactions. Classification of transaction types can be performed before outliers are removed.\n",
    "\n",
    "\n",
    "* Number of records with null and non-null values of `'consideration_amt'` is displayed by decade on a plot below.\n",
    "\n",
    "#### Setting all values of `'consideration_amt'` under 30 dollars to NaN"
   ]
  },
  {
   "cell_type": "code",
   "execution_count": 23,
   "metadata": {
    "scrolled": false
   },
   "outputs": [
    {
     "name": "stdout",
     "output_type": "stream",
     "text": [
      "Values of 'consideration_amt' of all records with price under 30 dollars are set to NaN!\n",
      "1978245 values has been set to NaN! 'consideration_amt' now has 6247858 non-null entries.\n"
     ]
    },
    {
     "data": {
      "image/png": "[encoded data removed]",
      "text/plain": [
       "<Figure size 1008x504 with 2 Axes>"
      ]
     },
     "metadata": {},
     "output_type": "display_data"
    },
    {
     "data": {
      "text/html": [
       "<div>\n",
       "<style scoped>\n",
       "    .dataframe tbody tr th:only-of-type {\n",
       "        vertical-align: middle;\n",
       "    }\n",
       "\n",
       "    .dataframe tbody tr th {\n",
       "        vertical-align: top;\n",
       "    }\n",
       "\n",
       "    .dataframe thead th {\n",
       "        text-align: right;\n",
       "    }\n",
       "</style>\n",
       "<table border=\"1\" class=\"dataframe\">\n",
       "  <thead>\n",
       "    <tr style=\"text-align: right;\">\n",
       "      <th></th>\n",
       "      <th>180</th>\n",
       "      <th>181</th>\n",
       "      <th>182</th>\n",
       "      <th>183</th>\n",
       "      <th>184</th>\n",
       "      <th>185</th>\n",
       "      <th>186</th>\n",
       "      <th>187</th>\n",
       "      <th>188</th>\n",
       "      <th>189</th>\n",
       "      <th>...</th>\n",
       "      <th>192</th>\n",
       "      <th>193</th>\n",
       "      <th>194</th>\n",
       "      <th>195</th>\n",
       "      <th>196</th>\n",
       "      <th>197</th>\n",
       "      <th>198</th>\n",
       "      <th>199</th>\n",
       "      <th>200</th>\n",
       "      <th>201</th>\n",
       "    </tr>\n",
       "  </thead>\n",
       "  <tbody>\n",
       "    <tr>\n",
       "      <th>non_null</th>\n",
       "      <td>0.000000</td>\n",
       "      <td>0.000000</td>\n",
       "      <td>7.00</td>\n",
       "      <td>7.00</td>\n",
       "      <td>17.00</td>\n",
       "      <td>141.00</td>\n",
       "      <td>288.00</td>\n",
       "      <td>1571.00</td>\n",
       "      <td>1560.00</td>\n",
       "      <td>1182.00</td>\n",
       "      <td>...</td>\n",
       "      <td>3133.00</td>\n",
       "      <td>2735.00</td>\n",
       "      <td>6709.00</td>\n",
       "      <td>18180.00</td>\n",
       "      <td>24490.00</td>\n",
       "      <td>18044.00</td>\n",
       "      <td>322302.00</td>\n",
       "      <td>1343986.0</td>\n",
       "      <td>2497665.00</td>\n",
       "      <td>2000055.0</td>\n",
       "    </tr>\n",
       "    <tr>\n",
       "      <th>null</th>\n",
       "      <td>5.000000</td>\n",
       "      <td>10.000000</td>\n",
       "      <td>25.00</td>\n",
       "      <td>46.00</td>\n",
       "      <td>108.00</td>\n",
       "      <td>1196.00</td>\n",
       "      <td>329.00</td>\n",
       "      <td>588.00</td>\n",
       "      <td>586.00</td>\n",
       "      <td>517.00</td>\n",
       "      <td>...</td>\n",
       "      <td>2856.00</td>\n",
       "      <td>2573.00</td>\n",
       "      <td>6979.00</td>\n",
       "      <td>54235.00</td>\n",
       "      <td>134937.00</td>\n",
       "      <td>268170.00</td>\n",
       "      <td>368414.00</td>\n",
       "      <td>269435.0</td>\n",
       "      <td>467830.00</td>\n",
       "      <td>396918.0</td>\n",
       "    </tr>\n",
       "    <tr>\n",
       "      <th>null_ratio</th>\n",
       "      <td>inf</td>\n",
       "      <td>inf</td>\n",
       "      <td>3.57</td>\n",
       "      <td>6.57</td>\n",
       "      <td>6.35</td>\n",
       "      <td>8.48</td>\n",
       "      <td>1.14</td>\n",
       "      <td>0.37</td>\n",
       "      <td>0.38</td>\n",
       "      <td>0.44</td>\n",
       "      <td>...</td>\n",
       "      <td>0.91</td>\n",
       "      <td>0.94</td>\n",
       "      <td>1.04</td>\n",
       "      <td>2.98</td>\n",
       "      <td>5.51</td>\n",
       "      <td>14.86</td>\n",
       "      <td>1.14</td>\n",
       "      <td>0.2</td>\n",
       "      <td>0.19</td>\n",
       "      <td>0.2</td>\n",
       "    </tr>\n",
       "  </tbody>\n",
       "</table>\n",
       "<p>3 rows × 22 columns</p>\n",
       "</div>"
      ],
      "text/plain": [
       "                 180        181    182    183     184      185     186  \\\n",
       "non_null    0.000000   0.000000   7.00   7.00   17.00   141.00  288.00   \n",
       "null        5.000000  10.000000  25.00  46.00  108.00  1196.00  329.00   \n",
       "null_ratio       inf        inf   3.57   6.57    6.35     8.48    1.14   \n",
       "\n",
       "                187      188      189    ...          192      193      194  \\\n",
       "non_null    1571.00  1560.00  1182.00    ...      3133.00  2735.00  6709.00   \n",
       "null         588.00   586.00   517.00    ...      2856.00  2573.00  6979.00   \n",
       "null_ratio     0.37     0.38     0.44    ...         0.91     0.94     1.04   \n",
       "\n",
       "                 195        196        197        198        199         200  \\\n",
       "non_null    18180.00   24490.00   18044.00  322302.00  1343986.0  2497665.00   \n",
       "null        54235.00  134937.00  268170.00  368414.00   269435.0   467830.00   \n",
       "null_ratio      2.98       5.51      14.86       1.14        0.2        0.19   \n",
       "\n",
       "                  201  \n",
       "non_null    2000055.0  \n",
       "null         396918.0  \n",
       "null_ratio        0.2  \n",
       "\n",
       "[3 rows x 22 columns]"
      ]
     },
     "execution_count": 23,
     "metadata": {},
     "output_type": "execute_result"
    }
   ],
   "source": [
    "# set values of 'considertation_amt' of all records under 30 dollars to NaN (missing values) \n",
    "min_price = 30\n",
    "mask = data['consideration_amt'] <= min_price\n",
    "data['consideration_amt'] = np.where(mask, np.nan, data['consideration_amt'])\n",
    "print(f\"Values of 'consideration_amt' of all records with price under {min_price} dollars are set to NaN!\")\n",
    "print(\"{0} values has been set to NaN! 'consideration_amt' now has {1} non-null entries.\".\n",
    "       format(len(data) - data['consideration_amt'].count(),\n",
    "              data['consideration_amt'].count()\n",
    "              ))\n",
    "\n",
    "# display number of non-null 'consideration_amt' and total number of entries per decade\n",
    "price_nan = {} # empty dict to use in the loop\n",
    "for decade, count in data.groupby('decade')['consideration_amt'].count().iteritems():\n",
    "    price_nan[decade] = {\n",
    "                         'non_null': int(count),\n",
    "                         'null': int(data.groupby('decade')['consideration_amt'].size().loc[decade]) - count\n",
    "                        }\n",
    "price_nan_df = pd.DataFrame(price_nan) # generating a data frame 'price_nan_df' from dictionary 'price_nan'\n",
    "price_nan_df_t = price_nan_df.T        # transposing the data frame 'price_nan_df' into 'price_nan_df_t'\n",
    "\n",
    "price_nan_df_t['null_ratio'] = round(price_nan_df_t['null'] / price_nan_df_t['non_null'], 2)\n",
    "\n",
    "# plotting results\n",
    "\n",
    "# create a matplotlib figure and axes\n",
    "_, ax1 = plt.subplots()\n",
    "ax1.set_xlabel(\"Decade (from 180x to 201x)\")\n",
    "ax1.set_ylabel(\"Number of null and non-null records\")\n",
    "ax2 = ax1.twinx()\n",
    "ax2.set_ylabel(\"Null/non-null ratio\")\n",
    "ax2.spines['right'].set_visible(True)\n",
    "plt.title(\"Number of null and non-null values for 'consideration_amt' and null/non-null ratio per decade\")\n",
    "\n",
    "# select data to plot\n",
    "null_counts = price_nan_df_t['null']\n",
    "non_null_counts = price_nan_df_t['non_null']\n",
    "nan_ratio = price_nan_df_t['null_ratio']\n",
    "x = price_nan_df_t.index\n",
    "\n",
    "# plot results\n",
    "ax1.bar(x=x, height=non_null_counts, label='Null counts')\n",
    "ax1.bar(x=x, height=null_counts, bottom=non_null_counts, label='Non-null counts')\n",
    "ax2.plot(x, nan_ratio, lw=2, color='red', label='Null / non-null ratio')\n",
    "ax1.legend(loc='upper left')\n",
    "ax2.legend(loc='center left')\n",
    "plt.margins(x=0)\n",
    "plt.xticks(np.arange(min(x), max(x)+1, 1.0))\n",
    "plt.show()\n",
    "price_nan_df_t.T"
   ]
  },
  {
   "cell_type": "markdown",
   "metadata": {},
   "source": [
    "<a id='price_nan'></a>\n",
    "#### NaN values of `'consideration_amt'` by decade"
   ]
  },
  {
   "cell_type": "markdown",
   "metadata": {},
   "source": [
    "* As can be seen from the plot above, there is an unreasonably high number of NaN values in the column `'consideration_amt'` (missing or under 30 dollars) for records from 1950s to 1970s (especially 1970s). \n",
    "\n",
    "    * The red curve on the plot above represents ratio of null to non-null records for `'consideration_amt'`, bars show number of null and non-null records, both are displayed per decade.\n",
    "    * It can be seen that, apart from the older section of the dataset (prior to 1860s), the null/non-null ratio of the values of `'consideration_amt'` generally stayed under 1 (more non-null entries than null, or close to equal), or sometimes dropped much lower than that (significantly more non-null entries). \n",
    "\n",
    "\n",
    "* This is true for both the time period between 1860s-1940s and for the period between 1980s-2010s, despite a drastric difference in the number of records between the decades and in mean `'consideration_amt'`. The ratio of null/non-null transactions is comparable between the two time periods.\n",
    "\n",
    "\n",
    "* However, for the time period between 1950s and 1970s, a drastic increase in relative number of null records can be seen in `'consideration_amt'`, with null/non-null ratio reaching 14.86 in 1970s.\n",
    "\n",
    "\n",
    "* **This increase seems erratic, the number of transactions with `'consideration_amt'` missing or under 30 dollars from 1970s is unreasonably high, compared to the rest of the dataset.**"
   ]
  },
  {
   "cell_type": "markdown",
   "metadata": {},
   "source": [
    "#### Summary information of the modified dataset"
   ]
  },
  {
   "cell_type": "code",
   "execution_count": 24,
   "metadata": {},
   "outputs": [
    {
     "name": "stdout",
     "output_type": "stream",
     "text": [
      "<class 'pandas.core.frame.DataFrame'>\n",
      "DatetimeIndex: 8226103 entries, 1805-01-06 to 2017-10-11\n",
      "Data columns (total 18 columns):\n",
      "row_num               8226103 non-null int32\n",
      "decade                8226103 non-null int32\n",
      "year                  8226103 non-null int32\n",
      "lro_num               8226103 non-null int64\n",
      "pin                   8226103 non-null int64\n",
      "consideration_amt     6247858 non-null float64\n",
      "registration_date     8226103 non-null datetime64[ns]\n",
      "postal_code           7101946 non-null object\n",
      "province              7544525 non-null object\n",
      "unitno                1489713 non-null float64\n",
      "street_name           7847438 non-null object\n",
      "street_designation    7108227 non-null object\n",
      "street_direction      674995 non-null object\n",
      "municipality          8196113 non-null object\n",
      "street_suffix         166 non-null float64\n",
      "street_number         7841470 non-null float64\n",
      "x                     8216524 non-null float64\n",
      "y                     8216524 non-null float64\n",
      "dtypes: datetime64[ns](1), float64(6), int32(3), int64(2), object(6)\n",
      "memory usage: 1.1+ GB\n"
     ]
    }
   ],
   "source": [
    "data.info(null_counts=True)"
   ]
  },
  {
   "cell_type": "markdown",
   "metadata": {},
   "source": [
    "`'consideration_amt'` is now showing 6'247'858 non-null values. `'row_num'`, `'year'`, and `'decade'` have been added. `'registration_date'` has been converted to datetime data format."
   ]
  },
  {
   "cell_type": "markdown",
   "metadata": {},
   "source": [
    "#### Number of missing values per column"
   ]
  },
  {
   "cell_type": "code",
   "execution_count": 25,
   "metadata": {},
   "outputs": [
    {
     "data": {
      "image/png": "[encoded data removed]",
      "text/plain": [
       "<Figure size 1008x504 with 1 Axes>"
      ]
     },
     "metadata": {},
     "output_type": "display_data"
    }
   ],
   "source": [
    "nan_count = data.shape[0] - data.count()\n",
    "nan_count.plot(kind='bar')\n",
    "plt.show()"
   ]
  },
  {
   "cell_type": "markdown",
   "metadata": {},
   "source": [
    "* All values in added columns `'row_num'`, `'decade'`, and `'year'` are present.\n",
    "\n",
    "\n",
    "* All values in columns `'lro_num'`, `'pin'`, `'registration_date'` and `'province'` are present. Almost all values in columns `'municipality'`, `'x'` and `'y'` are present.\n",
    "\n",
    "\n",
    "* Most values in columns `'consideration_amt'`, `'postal_code'`, `'street_name'`, `'street_designation'`, and `'street_number'` are present.\n",
    "\n",
    "\n",
    "* Most values in columns `'unitno'`, `'street_direction'`, and `'street_suffix'` are missing.\n",
    "\n",
    "\n",
    "* There is a mismatch between the number of missing entries beteen `'street_name'` and `'street_designation'`, indicating some inconsistency of entries between the two columns (not all streets have designation).\n",
    "\n",
    "\n",
    "* There is the same number of values in columns with coordinates `'x'` and `'y'`, indicating consistency of entries.\n",
    "\n",
    "\n",
    "Consistency of entries for all columns is investigated further in the following step."
   ]
  },
  {
   "cell_type": "markdown",
   "metadata": {},
   "source": [
    "<a id='inconsistent_entries'></a>\n",
    "## 1.8 Consistency of entries\n",
    "\n",
    "Back to the [top](#top) / [table of contents](#contents)\n",
    "\n",
    "Entries in the added columns `'row_num'`, `'year'`, and `'decade'` are consistent.\n",
    "\n",
    "1. [`'lro_num'`](#lro_num) -- consistent. No changes were made.\n",
    "2. [`'pin'`](#pin) -- duplicated, but consistent. No changes were made. Unique values largely match unique coordinate pairs.\n",
    "3. [`'consideration_amt'`](#consideration_amt) -- consistent, changes were made in [step 1.7](#missing_values). Unexpectedly large number of values is either missing or under 30 dollars for time period between 1950s and 1970s (see [step 1.7](#price_nan)). Outliers are still present in the dataset, can be sorted out when classification of transaction types is performed (residential / commercial / industrial). Further investigation in **Part 2: Exploratory Data Analysis**.\n",
    "4. [`'registration_date'`](#registration_date) -- consistent, verified during datetime conversion in [step 1.6](#datetime_conversion), where 1 erratic entry was fixed.\n",
    "5. [`'postal_code'`](#postal_code) -- consistent, converted to upper case in [step 1.3](#capitalizations) as a preventive measure to ensure consistency.\n",
    "6. [`'province'`](#province) -- consistent, missing values reset to 'ON'.\n",
    "7. [`'unitno'`](#unitno) -- some erratic values are present, fixed in this section.\n",
    "8. [`'street_name'`](#street_name) -- some inconsistent values are present, left for future targeted correction, capitalization fixed in [step 1.3](#capitalizations).\n",
    "9. [`'street_designation'`](#street_designation) -- some inconsistent values are present, most common fixed in this step, capitalization fixed in [step 1.3](#capitalizations).\n",
    "10. [`'street_direction'`](#street_direction) -- some inconsistent values are present, fixed in this step\n",
    "11. [`'municipality'`](#municipality) -- some inconsistent values are present, fixed in this step, capitalization fixed in [step 1.3](#capitalizations).\n",
    "12. [`'street_suffix'`](#street_suffix) -- numerical, but consistent, very few values are non-null.\n",
    "13. [`'street_number'`](#street_number) -- consistent, some values are questionably large.\n",
    "14. [`'x'` and `'y'`](#x_and_y) -- consistent. Unique pairs [largely match](#top_pins) unique `'pins'`, but there are [more coordinate pairs than `'pins'`](#pin_coord_diff). Therefore, some coordinate pairs must have different `'pin'`s of transactions recorded for the same location. No changes were made.\n",
    "\n",
    "<a id='lro_num'></a>\n",
    "### 1.8.1 Consistency of entries in the column `'lro_num'`\n",
    "\n",
    "Back to [top](#top) / [table of contents](#contents)\n",
    "\n",
    "\n",
    "Back to [step 1.8](#inconsistent_entries)\n",
    "\n",
    "* Entries in the column `'lro_num'` appear to be consistent.\n",
    "* Column `'lro_num'` could be converted to categorical data type, as it only contains a small range of values, but as it does not result in a significant reduction in memory use, its type is left as integer.\n",
    "* No changes were made.\n",
    "* There are no missing values.\n",
    "\n",
    "Column `'lro_num'` captures the number of [Land Registry Office (LRO)](https://www.onland.ca/ui/) where each transaction was recorded.\n",
    "\n",
    "There are some 54 Land Registry Offices located throughout Ontario. Each office is responsible for the recording of documents which relate to \"Real Property\" (real estate), such as the deed of land by which you own your house, mortgages of property, agreements dealing with land, municipal By-Laws affecting land, etc.\n",
    "\n",
    "Distribution of `'consideration_amt'` between different LROs will be investigated further in **Part 2: Exploratory Data Analysis.**\n",
    "\n",
    "#### Value counts for the column `'lro_num'`:"
   ]
  },
  {
   "cell_type": "code",
   "execution_count": 26,
   "metadata": {},
   "outputs": [
    {
     "data": {
      "text/plain": [
       "80    2326671\n",
       "43    1169865\n",
       "65    1008167\n",
       "51     557831\n",
       "40     549860\n",
       "20     542401\n",
       "62     472985\n",
       "58     411916\n",
       "59     238231\n",
       "61     201024\n",
       "30     198040\n",
       "45     158838\n",
       "2      120836\n",
       "16      98593\n",
       "7       71556\n",
       "37      58363\n",
       "18      40926\n",
       "Name: lro_num, dtype: int64"
      ]
     },
     "execution_count": 26,
     "metadata": {},
     "output_type": "execute_result"
    }
   ],
   "source": [
    "data['lro_num'].value_counts()"
   ]
  },
  {
   "cell_type": "markdown",
   "metadata": {},
   "source": [
    "<a id='pin'></a>\n",
    "### 1.8.2 Consistency of entries in the column `'pin'`\n",
    "\n",
    "Back to the [top](#top) / [table of contents](#contents)\n",
    "\n",
    "\n",
    "Back to [step 1.8](#inconsistent_entries)\n",
    "\n",
    "* In this step: \n",
    "    * records under each of the top 100'000 `'pin'`s (by number of entries with this `'pin'`) from the value count list are [checked for matching `coordinates`](#top_pins)  \n",
    "    * number of records with the same `'pin'` [is compared with](#pin_coord_diff) how many of these records also have matching `'coordinates'`\n",
    "    * value counts [are displayed](#pin_value_counts) for all values in the column `'pin'`.\n",
    "\n",
    "* There are 4'653'452 entries with duplicate pins, but they appear to be consistent. \n",
    "    * Many records that have matching `'pin'`s also match on both `'x'` and `'y'` coordinates.\n",
    "    * Thus, `'pin'` seems to be related to a particular building or complex in which transactions occur.\n",
    "    * However, there are 941'006 more records with matching `coordinates` than those with matching `'pin'`.\n",
    "    * These transactions occur in the same location (same coordinate pair), but under different `'pin'` numbers\n",
    "\n",
    "\n",
    "* There are only 3'572'809 (43.4%) unique values of `'pin'` out of the total 8'226'261 entries.\n",
    "* No changes were made.\n",
    "* There are no missing values."
   ]
  },
  {
   "cell_type": "markdown",
   "metadata": {},
   "source": [
    "<a id='top_pins'></a>\n",
    "#### 1.8.2.1 Top 100'000 `'pin'`s from the value count list have matching `'x'` and `'y'`coordinates for all records under every matching `'pin'`\n",
    "\n",
    "Back to the [top](#top) / [contents](#contents)\n",
    "\n",
    "Back to [step 1.8.2](#pin)\n",
    "\n",
    "Back to [step 1.8](#inconsistent_entries)\n",
    "\n",
    "As can be seen from the following check:"
   ]
  },
  {
   "cell_type": "code",
   "execution_count": 27,
   "metadata": {},
   "outputs": [
    {
     "name": "stdout",
     "output_type": "stream",
     "text": [
      "Top 100000 'pin's from the value count list have been checked for matching coordinates.\n",
      "100000 'pin's have been found to have all 'x' and 'y' coordinates match for the same 'pin'.\n",
      "List of 'pin's where not all coordinates match:\n",
      " []\n",
      "\n",
      "The last 'pin' checked has 6 matching records (records with this 'pin').\n"
     ]
    }
   ],
   "source": [
    "# save value counts for column 'pin' into a variable (pandas series)\n",
    "pin_value_counts = data['pin'].value_counts()\n",
    "\n",
    "# number of 'pin's to loop through \n",
    "n = 100000\n",
    "\n",
    "# variable to count number of entries where 'x' and 'y' coordinates match for the same 'pin'\n",
    "pin_coord_match = 0\n",
    "\n",
    "# empty list to store 'pin's where not all 'x' and 'y' coordinates match\n",
    "pin_coord_not_match = []\n",
    "\n",
    "# loop through the top 'n' 'pin's in the value count list, check value counts for coordinates\n",
    "for i in range(n):\n",
    "\n",
    "    mask = data['pin'] == pin_value_counts.index[i] # select 'pin' number 'i' from the value count list\n",
    "    num_rec = len(data[mask]) # number of records with selected 'pin'\n",
    "    num_x = data.loc[mask, 'x'].value_counts(dropna=False).iloc[0] # max number of records with same 'x' from selected 'pin'\n",
    "    num_y = data.loc[mask, 'y'].value_counts(dropna=False).iloc[0] # max number of records with same 'y' from selected 'pin'\n",
    "    diff = (num_rec - num_x) + (num_rec - num_y) # number of records that don't match most common 'x' and 'y' from this 'pin'\n",
    "    \n",
    "    if diff > 0:\n",
    "        print(\"There are records with same 'pin' {0} that have different coordinates.\".format(pin_value_counts.index[i]))\n",
    "        pin_coord_not_match.append(pin_value_counts.index[i])\n",
    "    elif diff == 0:\n",
    "        pin_coord_match += 1\n",
    "    else:\n",
    "        print(\"Something is wrong... Variable 'diff' < 0.\")\n",
    "\n",
    "print(\"Top {0} 'pin's from the value count list have been checked for matching coordinates.\".format(n))\n",
    "print(\"{0} 'pin's have been found to have all 'x' and 'y' coordinates match for the same 'pin'.\".format(pin_coord_match))\n",
    "print(\"List of 'pin's where not all coordinates match:\\n\", pin_coord_not_match)\n",
    "print(\"\\nThe last 'pin' checked has {0} matching records (records with this 'pin').\".format(len(data[mask])))"
   ]
  },
  {
   "cell_type": "markdown",
   "metadata": {},
   "source": [
    "The top 100'000 `'pin'`s (by number of entries with this `'pin'`) from the value count list have matching `'x'` and `'y'` coordinates for every matching `'pin'`. This includes `'pin'`s with at least 6 records under them. Deeper checks are time-intensive and can be performed if needed."
   ]
  },
  {
   "cell_type": "markdown",
   "metadata": {},
   "source": [
    "<a id='pin_coord_diff'></a>\n",
    "#### 1.8.2.2 However, there are more records with matching `coordinates` than there are with matching `'pin'`s\n",
    "\n",
    "Back to the [top](#top) / [contents](#contents)\n",
    "\n",
    "Back to [step 1.8.2](#pin)\n",
    "\n",
    "Back to [step 1.8](#inconsistent_entries)"
   ]
  },
  {
   "cell_type": "code",
   "execution_count": 28,
   "metadata": {},
   "outputs": [
    {
     "name": "stdout",
     "output_type": "stream",
     "text": [
      "There are 941006 more records with matching 'x' and 'y' coordinates than records with matching 'pin'.\n"
     ]
    }
   ],
   "source": [
    "print(\"There are {0} more records with matching 'x' and 'y' coordinates than records with matching 'pin'.\".\n",
    "     format(\n",
    "            len(data[data.duplicated(subset=['x', 'y'])]) - len(data[data.duplicated(subset='pin')])\n",
    "            ))"
   ]
  },
  {
   "cell_type": "markdown",
   "metadata": {},
   "source": [
    "941'006 records are recorded with the same `coordinates`, but under different `'pin'`s."
   ]
  },
  {
   "cell_type": "markdown",
   "metadata": {},
   "source": [
    "<a id='pin_value_counts'></a>\n",
    "#### 1.8.2.3 Value counts for the column `'pin'`:\n",
    "\n",
    "Back to the [top](#top) / [contents](#contents)\n",
    "\n",
    "Back to [step 1.8.2](#pin)\n",
    "\n",
    "Back to [step 1.8](#inconsistent_entries)"
   ]
  },
  {
   "cell_type": "code",
   "execution_count": 29,
   "metadata": {},
   "outputs": [
    {
     "data": {
      "text/plain": [
       "102510001    647\n",
       "211080033    587\n",
       "584120166    542\n",
       "584120142    540\n",
       "584120124    538\n",
       "584200216    536\n",
       "584200218    536\n",
       "584200217    535\n",
       "584120097    504\n",
       "584120092    504\n",
       "584120046    502\n",
       "584190072    438\n",
       "584190237    438\n",
       "584190120    436\n",
       "584280284    431\n",
       "584280220    428\n",
       "584280249    425\n",
       "584280172    425\n",
       "584280227    424\n",
       "584280423    423\n",
       "584280463    420\n",
       "102510739    418\n",
       "34970524     410\n",
       "34970441     355\n",
       "34970406     350\n",
       "284350220    346\n",
       "284350218    346\n",
       "284350219    346\n",
       "284350189    346\n",
       "34971051     345\n",
       "            ... \n",
       "222560448      1\n",
       "80130198       1\n",
       "37720014       1\n",
       "583430286      1\n",
       "264200148      1\n",
       "100620245      1\n",
       "134150113      1\n",
       "193930449      1\n",
       "263490068      1\n",
       "763500547      1\n",
       "641880074      1\n",
       "297951244      1\n",
       "226650125      1\n",
       "33720337       1\n",
       "381870108      1\n",
       "264450086      1\n",
       "281260086      1\n",
       "142850103      1\n",
       "29610042       1\n",
       "134240331      1\n",
       "297820236      1\n",
       "763390029      1\n",
       "297840726      1\n",
       "121700448      1\n",
       "247550058      1\n",
       "642260022      1\n",
       "373040298      1\n",
       "463870543      1\n",
       "642130052      1\n",
       "29362177       1\n",
       "Name: pin, Length: 3572758, dtype: int64"
      ]
     },
     "execution_count": 29,
     "metadata": {},
     "output_type": "execute_result"
    }
   ],
   "source": [
    "data['pin'].value_counts()"
   ]
  },
  {
   "cell_type": "markdown",
   "metadata": {},
   "source": [
    "<a id='consideration_amt'></a>\n",
    "### 1.8.3 Consistency of entries in the column `'consideration_amt'`\n",
    "\n",
    "Back to the [top](#top) / [table of contents](#contents)\n",
    "\n",
    "\n",
    "Back to [step 1.8](#inconsistent_entries)\n",
    "\n",
    "* Values in `'consideration_amt'` detect as float data type, indicating consistantly numerical values. \n",
    "* Values of 1'978'245 entries with `'consideration_amt'` of less than or equal to 30 dollars have been reset to NaN (missing values) in [step 1.7](#missing_values). \n",
    "* There is an unreasonably high number of NaN values in the column `'consideration_amt'` (missing or under 30 dollars) for records from 1950s to 1970s (especially 1970s). See [step 1.7](#price_nan)\n",
    "* After [step 1.7](#missing_values), there are 6'247'986 (80%) non-null entries of the total 8'226'261 in the column `'consideration_amt'`.\n",
    "* Outliers are still present in the dataset and will be sorted out in future Parts along with the classification of transactions (residential/commercial/industrial).\n",
    "* More detailed examination of distribution of values of `'consideration_amt'` will follow in **Part 2: Exploratory Data Analysis.**\n",
    "* No chages were made in this section.\n",
    "\n",
    "#### Statistical summary for the column `'consideration_amt'`:"
   ]
  },
  {
   "cell_type": "code",
   "execution_count": 30,
   "metadata": {},
   "outputs": [
    {
     "data": {
      "text/plain": [
       "count    6.247858e+06\n",
       "mean     5.633393e+05\n",
       "std      1.900839e+08\n",
       "min      3.100000e+01\n",
       "25%      1.530000e+05\n",
       "50%      2.399790e+05\n",
       "75%      3.720000e+05\n",
       "max      4.477478e+11\n",
       "Name: consideration_amt, dtype: float64"
      ]
     },
     "execution_count": 30,
     "metadata": {},
     "output_type": "execute_result"
    }
   ],
   "source": [
    "data['consideration_amt'].describe()"
   ]
  },
  {
   "cell_type": "markdown",
   "metadata": {},
   "source": [
    "<a id='registration_date'></a>\n",
    "### 1.8.4 Consistency of entries in the column `'registration_date'`\n",
    "\n",
    "Back to the [top](#top) / [table of contents](#contents)\n",
    "\n",
    "\n",
    "Back to [step 1.8](#inconsistent_entries)\n",
    "\n",
    "* Consistency of entries in the column `'registration_date'` was verified during datetime conversion in [step 1.6](#datetime_conversion), where 1 entry was fixed.\n",
    "* Entries are consistent.\n",
    "* Data is sorted by values in this column. Numbers of rows in `'row_num'` go in the order from earliest date in the dataset to the latest.\n",
    "* No changes were made in this section.\n",
    "* There are no missing values."
   ]
  },
  {
   "cell_type": "markdown",
   "metadata": {},
   "source": [
    "<a id='postal_code'></a>\n",
    "### 1.8.5 Consistency of entries in the column `'postal_code'`\n",
    "\n",
    "Back to the [top](#top) / [table of contents](#contents)\n",
    "\n",
    "\n",
    "Back to [step 1.8](#inconsistent_entries)\n",
    "\n",
    "* Values were converted to upper case in [step 1.3](#capitalizations) (this is a preventive measure, no issues were detected with values in this column).\n",
    "* Entries in the column `'postal_code'` appear to be consistent.\n",
    "* No changes were made.\n",
    "* There are 7'101'946 (86.3%) non-null values of 8'226'261 total. 1'124'157 entries are missing."
   ]
  },
  {
   "cell_type": "markdown",
   "metadata": {},
   "source": [
    "#### Verifying that values in the column `'postal_code'` match the correct pattern."
   ]
  },
  {
   "cell_type": "code",
   "execution_count": 31,
   "metadata": {},
   "outputs": [
    {
     "data": {
      "text/plain": [
       "True    7101946\n",
       "NaN     1124157\n",
       "Name: postal_code, dtype: int64"
      ]
     },
     "execution_count": 31,
     "metadata": {},
     "output_type": "execute_result"
    }
   ],
   "source": [
    "data['postal_code'].str.match('^[A-Z]\\d[A-Z]\\d[A-Z]\\d$').value_counts(dropna=False)"
   ]
  },
  {
   "cell_type": "markdown",
   "metadata": {},
   "source": [
    "All values in the column `'postal_code'` either match the correct pattern or are missing."
   ]
  },
  {
   "cell_type": "markdown",
   "metadata": {},
   "source": [
    "#### Value counts for the column `'postal_code'`:"
   ]
  },
  {
   "cell_type": "code",
   "execution_count": 32,
   "metadata": {},
   "outputs": [
    {
     "data": {
      "text/plain": [
       "L0S1J0    7848\n",
       "L0R1W0    6255\n",
       "L0S1N0    5108\n",
       "L0R1C0    4850\n",
       "N0B1E0    4644\n",
       "L4P3E9    4601\n",
       "L2P3H1    4502\n",
       "K0L2H0    4400\n",
       "L9Y5B4    4330\n",
       "L0G1W0    4307\n",
       "M1H3G6    4120\n",
       "L0R2A0    3944\n",
       "M8V3W9    3642\n",
       "M8V2Z6    3640\n",
       "L0K1E0    3597\n",
       "N0B1S0    3573\n",
       "L0G1M0    3563\n",
       "L0E1N0    3495\n",
       "L0L1P0    3302\n",
       "M1H3H3    3295\n",
       "L0M1S0    3115\n",
       "M2M4J4    3043\n",
       "L0G1A0    3041\n",
       "L0K2A0    3035\n",
       "L0E1R0    3005\n",
       "L9M1R3    2869\n",
       "M5B2P7    2851\n",
       "N0B2T0    2842\n",
       "L0R2H5    2842\n",
       "L0P1B0    2834\n",
       "          ... \n",
       "M1L4S2       1\n",
       "L3C1W1       1\n",
       "L2V1A4       1\n",
       "M2H1S5       1\n",
       "M5M3A3       1\n",
       "L9T3J6       1\n",
       "L2J3R9       1\n",
       "L2N7Z2       1\n",
       "N2J4L2       1\n",
       "L3R4Y4       1\n",
       "N3C4P7       1\n",
       "L2A3X6       1\n",
       "M1S1S7       1\n",
       "M4Y1C2       1\n",
       "L1C1R5       1\n",
       "L3R0E1       1\n",
       "M6P1W7       1\n",
       "K9J1Y5       1\n",
       "L4S1K6       1\n",
       "L4R2P1       1\n",
       "L9Y3K3       1\n",
       "N1W2W4       1\n",
       "M4V1B3       1\n",
       "M1P2H1       1\n",
       "L9C5C8       1\n",
       "L3Y5B2       1\n",
       "L4G2H7       1\n",
       "L4Y3P6       1\n",
       "L2J2W4       1\n",
       "M5H4E5       1\n",
       "Name: postal_code, Length: 170356, dtype: int64"
      ]
     },
     "execution_count": 32,
     "metadata": {},
     "output_type": "execute_result"
    }
   ],
   "source": [
    "data['postal_code'].value_counts()"
   ]
  },
  {
   "cell_type": "markdown",
   "metadata": {},
   "source": [
    "Entries in the column `'postal_code'` appear to be consistent.\n",
    "\n",
    "<a id='province'></a>\n",
    "### 1.8.6 Consistency of entries in the column `'province'`\n",
    "\n",
    "Back to the [top](#top) / [table of contents](#contents)\n",
    "\n",
    "\n",
    "Back to [step 1.8](#inconsistent_entries)\n",
    "\n",
    "* Missing values are reset to 'ON'.\n",
    "* Entries are consistent, there are no missing values, as all the transactions occur in Ontario.\n",
    "* This column does not carry any useful information in the context of Teranet dataset, as all the transactions occur in Ontario, and could be removed. However, since it does not result in significant reduction in memory use, column `'province'` is left in the dataset, in case if the dataset will be merged with data from other provinces in the future."
   ]
  },
  {
   "cell_type": "code",
   "execution_count": 33,
   "metadata": {},
   "outputs": [
    {
     "data": {
      "text/plain": [
       "ON    7544525\n",
       "Name: province, dtype: int64"
      ]
     },
     "execution_count": 33,
     "metadata": {},
     "output_type": "execute_result"
    }
   ],
   "source": [
    "data['province'].value_counts()"
   ]
  },
  {
   "cell_type": "code",
   "execution_count": 34,
   "metadata": {},
   "outputs": [],
   "source": [
    "data['province'] = 'ON'"
   ]
  },
  {
   "cell_type": "code",
   "execution_count": 35,
   "metadata": {},
   "outputs": [
    {
     "data": {
      "text/plain": [
       "ON    8226103\n",
       "Name: province, dtype: int64"
      ]
     },
     "execution_count": 35,
     "metadata": {},
     "output_type": "execute_result"
    }
   ],
   "source": [
    "data['province'].value_counts()"
   ]
  },
  {
   "cell_type": "markdown",
   "metadata": {},
   "source": [
    "All values in `'province'` have been reset to 'ON'."
   ]
  },
  {
   "cell_type": "markdown",
   "metadata": {},
   "source": [
    "<a id='unitno'></a>\n",
    "### 1.8.7 Consistency of entries in the column `'unitno'`\n",
    "\n",
    "Back to the [top](#top) / [table of contents](#contents)\n",
    "\n",
    "\n",
    "Back to [step 1.8](#inconsistent_entries)\n",
    "\n",
    "* Values in `'unitno'` detect as float data type, indicating numerical entries.\n",
    "* Many records have erratic entries (e.g., 200000000, 1.010000e-107, etc.), all of them have been fixed in this section.\n",
    "* There are 1'489'665 non-null (18%) of the total 8'226'103 entries.\n",
    "\n",
    "### Fixing inconsistent entries in `'unitno'`\n",
    "\n",
    "#### Erratic value 1.010000e-107"
   ]
  },
  {
   "cell_type": "code",
   "execution_count": 36,
   "metadata": {
    "scrolled": false
   },
   "outputs": [
    {
     "data": {
      "text/plain": [
       "1.010000e-107    1\n",
       "Name: unitno, dtype: int64"
      ]
     },
     "execution_count": 36,
     "metadata": {},
     "output_type": "execute_result"
    }
   ],
   "source": [
    "data_subset = data['unitno'].astype(str)\n",
    "\n",
    "mask = np.logical_and(\n",
    "                      data_subset.str.contains('e'),\n",
    "                      data_subset.str.match('1.01')\n",
    "                      )\n",
    "data.loc[mask, 'unitno'].value_counts()"
   ]
  },
  {
   "cell_type": "markdown",
   "metadata": {},
   "source": [
    "#### Correction"
   ]
  },
  {
   "cell_type": "code",
   "execution_count": 37,
   "metadata": {},
   "outputs": [
    {
     "data": {
      "text/plain": [
       "101.0    1\n",
       "Name: unitno, dtype: int64"
      ]
     },
     "execution_count": 37,
     "metadata": {},
     "output_type": "execute_result"
    }
   ],
   "source": [
    "data.loc[mask, 'unitno'] = 101\n",
    "data.loc[mask, 'unitno'].value_counts()"
   ]
  },
  {
   "cell_type": "markdown",
   "metadata": {},
   "source": [
    "#### Erratic values 1.100000e-x"
   ]
  },
  {
   "cell_type": "code",
   "execution_count": 38,
   "metadata": {
    "scrolled": false
   },
   "outputs": [
    {
     "data": {
      "text/plain": [
       "1.100000e-201    4\n",
       "1.100000e-12     1\n",
       "1.100000e-11     1\n",
       "Name: unitno, dtype: int64"
      ]
     },
     "execution_count": 38,
     "metadata": {},
     "output_type": "execute_result"
    }
   ],
   "source": [
    "data_subset = data['unitno'].astype(str)\n",
    "\n",
    "mask = np.logical_and(\n",
    "                      data_subset.str.contains('e'),\n",
    "                      data_subset.str.match('1.1')\n",
    "                      )\n",
    "data.loc[mask, 'unitno'].value_counts()"
   ]
  },
  {
   "cell_type": "markdown",
   "metadata": {},
   "source": [
    "#### Correction"
   ]
  },
  {
   "cell_type": "code",
   "execution_count": 39,
   "metadata": {},
   "outputs": [
    {
     "data": {
      "text/plain": [
       "11.0    6\n",
       "Name: unitno, dtype: int64"
      ]
     },
     "execution_count": 39,
     "metadata": {},
     "output_type": "execute_result"
    }
   ],
   "source": [
    "data.loc[mask, 'unitno'] = 11\n",
    "data.loc[mask, 'unitno'].value_counts()"
   ]
  },
  {
   "cell_type": "markdown",
   "metadata": {},
   "source": [
    "#### Erratic values 1.200000e-x"
   ]
  },
  {
   "cell_type": "code",
   "execution_count": 40,
   "metadata": {
    "scrolled": false
   },
   "outputs": [
    {
     "data": {
      "text/plain": [
       "1.200000e-103    4\n",
       "1.200000e-200    3\n",
       "Name: unitno, dtype: int64"
      ]
     },
     "execution_count": 40,
     "metadata": {},
     "output_type": "execute_result"
    }
   ],
   "source": [
    "data_subset = data['unitno'].astype(str)\n",
    "\n",
    "mask = np.logical_and(\n",
    "                      data_subset.str.contains('e'),\n",
    "                      data_subset.str.match('1.2')\n",
    "                      )\n",
    "data.loc[mask, 'unitno'].value_counts()"
   ]
  },
  {
   "cell_type": "markdown",
   "metadata": {},
   "source": [
    "#### Correction"
   ]
  },
  {
   "cell_type": "code",
   "execution_count": 41,
   "metadata": {},
   "outputs": [
    {
     "data": {
      "text/plain": [
       "12.0    7\n",
       "Name: unitno, dtype: int64"
      ]
     },
     "execution_count": 41,
     "metadata": {},
     "output_type": "execute_result"
    }
   ],
   "source": [
    "data.loc[mask, 'unitno'] = 12\n",
    "data.loc[mask, 'unitno'].value_counts()"
   ]
  },
  {
   "cell_type": "markdown",
   "metadata": {},
   "source": [
    "#### Erratic values 1.700000e-06"
   ]
  },
  {
   "cell_type": "code",
   "execution_count": 42,
   "metadata": {
    "scrolled": false
   },
   "outputs": [
    {
     "data": {
      "text/plain": [
       "0.000002    2\n",
       "Name: unitno, dtype: int64"
      ]
     },
     "execution_count": 42,
     "metadata": {},
     "output_type": "execute_result"
    }
   ],
   "source": [
    "data_subset = data['unitno'].astype(str)\n",
    "\n",
    "mask = np.logical_and(\n",
    "                      data_subset.str.contains('e'),\n",
    "                      data_subset.str.match('1.7')\n",
    "                      )\n",
    "data.loc[mask, 'unitno'].value_counts()"
   ]
  },
  {
   "cell_type": "markdown",
   "metadata": {},
   "source": [
    "#### Correction"
   ]
  },
  {
   "cell_type": "code",
   "execution_count": 43,
   "metadata": {},
   "outputs": [
    {
     "data": {
      "text/plain": [
       "17.0    2\n",
       "Name: unitno, dtype: int64"
      ]
     },
     "execution_count": 43,
     "metadata": {},
     "output_type": "execute_result"
    }
   ],
   "source": [
    "data.loc[mask, 'unitno'] = 17\n",
    "data.loc[mask, 'unitno'].value_counts()"
   ]
  },
  {
   "cell_type": "markdown",
   "metadata": {},
   "source": [
    "#### Erratic value 1.800000e-19"
   ]
  },
  {
   "cell_type": "code",
   "execution_count": 44,
   "metadata": {
    "scrolled": false
   },
   "outputs": [
    {
     "data": {
      "text/plain": [
       "1.800000e-19    1\n",
       "Name: unitno, dtype: int64"
      ]
     },
     "execution_count": 44,
     "metadata": {},
     "output_type": "execute_result"
    }
   ],
   "source": [
    "data_subset = data['unitno'].astype(str)\n",
    "\n",
    "mask = np.logical_and(\n",
    "                      data_subset.str.contains('e'),\n",
    "                      data_subset.str.match('1.8')\n",
    "                      )\n",
    "data.loc[mask, 'unitno'].value_counts()"
   ]
  },
  {
   "cell_type": "markdown",
   "metadata": {},
   "source": [
    "#### Correction"
   ]
  },
  {
   "cell_type": "code",
   "execution_count": 45,
   "metadata": {},
   "outputs": [
    {
     "data": {
      "text/plain": [
       "18.0    1\n",
       "Name: unitno, dtype: int64"
      ]
     },
     "execution_count": 45,
     "metadata": {},
     "output_type": "execute_result"
    }
   ],
   "source": [
    "data.loc[mask, 'unitno'] = 18\n",
    "data.loc[mask, 'unitno'].value_counts()"
   ]
  },
  {
   "cell_type": "markdown",
   "metadata": {},
   "source": [
    "#### Erratic values 1.000000e-x"
   ]
  },
  {
   "cell_type": "code",
   "execution_count": 46,
   "metadata": {
    "scrolled": false
   },
   "outputs": [
    {
     "data": {
      "text/plain": [
       "1.000000e+17     4\n",
       "1.000000e-10     4\n",
       "1.000000e+21     3\n",
       "1.000000e-20     3\n",
       "1.000000e+19     3\n",
       "1.000000e+26     3\n",
       "1.000000e-101    3\n",
       "1.000000e-103    2\n",
       "1.000000e+25     2\n",
       "1.000000e+13     2\n",
       "1.000000e-202    2\n",
       "1.000000e-205    2\n",
       "1.000000e+20     2\n",
       "1.000000e-102    2\n",
       "1.000000e+27     2\n",
       "1.000000e+12     2\n",
       "1.000000e-302    2\n",
       "1.000000e+22     2\n",
       "1.000000e+18     2\n",
       "1.000000e+23     2\n",
       "1.000000e-303    1\n",
       "1.000000e+15     1\n",
       "1.000000e-301    1\n",
       "1.000000e-05     1\n",
       "1.000000e+16     1\n",
       "Name: unitno, dtype: int64"
      ]
     },
     "execution_count": 46,
     "metadata": {},
     "output_type": "execute_result"
    }
   ],
   "source": [
    "data_subset = data['unitno'].astype(str)\n",
    "\n",
    "mask = np.logical_and(\n",
    "                      data_subset.str.contains('e'),\n",
    "                      data_subset.str.match('1')\n",
    "                      )\n",
    "data.loc[mask, 'unitno'].value_counts()"
   ]
  },
  {
   "cell_type": "markdown",
   "metadata": {},
   "source": [
    "#### Correction"
   ]
  },
  {
   "cell_type": "code",
   "execution_count": 47,
   "metadata": {},
   "outputs": [
    {
     "data": {
      "text/plain": [
       "1.0    54\n",
       "Name: unitno, dtype: int64"
      ]
     },
     "execution_count": 47,
     "metadata": {},
     "output_type": "execute_result"
    }
   ],
   "source": [
    "data.loc[mask, 'unitno'] = 1\n",
    "data.loc[mask, 'unitno'].value_counts()"
   ]
  },
  {
   "cell_type": "markdown",
   "metadata": {},
   "source": [
    "#### Erratic value 2.000000e-x"
   ]
  },
  {
   "cell_type": "code",
   "execution_count": 48,
   "metadata": {
    "scrolled": false
   },
   "outputs": [
    {
     "data": {
      "text/plain": [
       "2.000000e-101    6\n",
       "2.000000e-106    5\n",
       "2.000000e-205    4\n",
       "2.000000e-104    4\n",
       "2.000000e-12     3\n",
       "2.000000e-123    3\n",
       "2.000000e+13     3\n",
       "2.000000e-202    3\n",
       "2.000000e-22     3\n",
       "2.000000e-06     2\n",
       "2.000000e+21     2\n",
       "2.000000e+18     2\n",
       "2.000000e+105    2\n",
       "2.000000e+19     2\n",
       "2.000000e-20     2\n",
       "2.000000e+155    2\n",
       "2.000000e+12     2\n",
       "2.000000e+15     2\n",
       "2.000000e-05     1\n",
       "2.000000e-303    1\n",
       "Name: unitno, dtype: int64"
      ]
     },
     "execution_count": 48,
     "metadata": {},
     "output_type": "execute_result"
    }
   ],
   "source": [
    "data_subset = data['unitno'].astype(str)\n",
    "\n",
    "mask = np.logical_and(\n",
    "                      data_subset.str.contains('e'),\n",
    "                      data_subset.str.match('2')\n",
    "                      )\n",
    "data.loc[mask, 'unitno'].value_counts()"
   ]
  },
  {
   "cell_type": "markdown",
   "metadata": {},
   "source": [
    "#### Correction"
   ]
  },
  {
   "cell_type": "code",
   "execution_count": 49,
   "metadata": {},
   "outputs": [
    {
     "data": {
      "text/plain": [
       "2.0    54\n",
       "Name: unitno, dtype: int64"
      ]
     },
     "execution_count": 49,
     "metadata": {},
     "output_type": "execute_result"
    }
   ],
   "source": [
    "data.loc[mask, 'unitno'] = 2\n",
    "data.loc[mask, 'unitno'].value_counts()"
   ]
  },
  {
   "cell_type": "markdown",
   "metadata": {},
   "source": [
    "#### Erratic values 3.300000e-33"
   ]
  },
  {
   "cell_type": "code",
   "execution_count": 50,
   "metadata": {
    "scrolled": false
   },
   "outputs": [
    {
     "data": {
      "text/plain": [
       "3.300000e-33    3\n",
       "Name: unitno, dtype: int64"
      ]
     },
     "execution_count": 50,
     "metadata": {},
     "output_type": "execute_result"
    }
   ],
   "source": [
    "data_subset = data['unitno'].astype(str)\n",
    "\n",
    "mask = np.logical_and(\n",
    "                      data_subset.str.contains('e'),\n",
    "                      data_subset.str.match('3')\n",
    "                      )\n",
    "data.loc[mask, 'unitno'].value_counts()"
   ]
  },
  {
   "cell_type": "markdown",
   "metadata": {},
   "source": [
    "#### Correction"
   ]
  },
  {
   "cell_type": "code",
   "execution_count": 51,
   "metadata": {},
   "outputs": [
    {
     "data": {
      "text/plain": [
       "33.0    3\n",
       "Name: unitno, dtype: int64"
      ]
     },
     "execution_count": 51,
     "metadata": {},
     "output_type": "execute_result"
    }
   ],
   "source": [
    "data.loc[mask, 'unitno'] = 33\n",
    "data.loc[mask, 'unitno'].value_counts()"
   ]
  },
  {
   "cell_type": "markdown",
   "metadata": {},
   "source": [
    "#### Erratic values 4.000000e-104"
   ]
  },
  {
   "cell_type": "code",
   "execution_count": 52,
   "metadata": {
    "scrolled": false
   },
   "outputs": [
    {
     "data": {
      "text/plain": [
       "4.000000e-104    4\n",
       "Name: unitno, dtype: int64"
      ]
     },
     "execution_count": 52,
     "metadata": {},
     "output_type": "execute_result"
    }
   ],
   "source": [
    "data_subset = data['unitno'].astype(str)\n",
    "\n",
    "mask = np.logical_and(\n",
    "                      data_subset.str.contains('e'),\n",
    "                      data_subset.str.match('4')\n",
    "                      )\n",
    "data.loc[mask, 'unitno'].value_counts()"
   ]
  },
  {
   "cell_type": "markdown",
   "metadata": {},
   "source": [
    "#### Correction"
   ]
  },
  {
   "cell_type": "code",
   "execution_count": 53,
   "metadata": {},
   "outputs": [
    {
     "data": {
      "text/plain": [
       "4.0    4\n",
       "Name: unitno, dtype: int64"
      ]
     },
     "execution_count": 53,
     "metadata": {},
     "output_type": "execute_result"
    }
   ],
   "source": [
    "data.loc[mask, 'unitno'] = 4\n",
    "data.loc[mask, 'unitno'].value_counts()"
   ]
  },
  {
   "cell_type": "markdown",
   "metadata": {},
   "source": [
    "#### Erratic values 5.000000e-x"
   ]
  },
  {
   "cell_type": "code",
   "execution_count": 54,
   "metadata": {
    "scrolled": false
   },
   "outputs": [
    {
     "data": {
      "text/plain": [
       "5.000000e-102    3\n",
       "5.000000e-103    3\n",
       "5.000000e-06     1\n",
       "Name: unitno, dtype: int64"
      ]
     },
     "execution_count": 54,
     "metadata": {},
     "output_type": "execute_result"
    }
   ],
   "source": [
    "data_subset = data['unitno'].astype(str)\n",
    "\n",
    "mask = np.logical_and(\n",
    "                      data_subset.str.contains('e'),\n",
    "                      data_subset.str.match('5')\n",
    "                      )\n",
    "data.loc[mask, 'unitno'].value_counts()"
   ]
  },
  {
   "cell_type": "markdown",
   "metadata": {},
   "source": [
    "#### Correction"
   ]
  },
  {
   "cell_type": "code",
   "execution_count": 55,
   "metadata": {},
   "outputs": [
    {
     "data": {
      "text/plain": [
       "5.0    7\n",
       "Name: unitno, dtype: int64"
      ]
     },
     "execution_count": 55,
     "metadata": {},
     "output_type": "execute_result"
    }
   ],
   "source": [
    "data.loc[mask, 'unitno'] = 5\n",
    "data.loc[mask, 'unitno'].value_counts()"
   ]
  },
  {
   "cell_type": "markdown",
   "metadata": {},
   "source": [
    "#### Erratic values 6.000000e-x"
   ]
  },
  {
   "cell_type": "code",
   "execution_count": 56,
   "metadata": {
    "scrolled": false
   },
   "outputs": [
    {
     "data": {
      "text/plain": [
       "6.000000e-104    4\n",
       "6.000000e-201    3\n",
       "6.000000e-22     2\n",
       "Name: unitno, dtype: int64"
      ]
     },
     "execution_count": 56,
     "metadata": {},
     "output_type": "execute_result"
    }
   ],
   "source": [
    "data_subset = data['unitno'].astype(str)\n",
    "\n",
    "mask = np.logical_and(\n",
    "                      data_subset.str.contains('e'),\n",
    "                      data_subset.str.match('6')\n",
    "                      )\n",
    "data.loc[mask, 'unitno'].value_counts()"
   ]
  },
  {
   "cell_type": "markdown",
   "metadata": {},
   "source": [
    "#### Correction"
   ]
  },
  {
   "cell_type": "code",
   "execution_count": 57,
   "metadata": {},
   "outputs": [
    {
     "data": {
      "text/plain": [
       "6.0    9\n",
       "Name: unitno, dtype: int64"
      ]
     },
     "execution_count": 57,
     "metadata": {},
     "output_type": "execute_result"
    }
   ],
   "source": [
    "data.loc[mask, 'unitno'] = 6\n",
    "data.loc[mask, 'unitno'].value_counts()"
   ]
  },
  {
   "cell_type": "markdown",
   "metadata": {},
   "source": [
    "#### Erratic value 8.000000e-206"
   ]
  },
  {
   "cell_type": "code",
   "execution_count": 58,
   "metadata": {
    "scrolled": false
   },
   "outputs": [
    {
     "data": {
      "text/plain": [
       "8.000000e-206    1\n",
       "Name: unitno, dtype: int64"
      ]
     },
     "execution_count": 58,
     "metadata": {},
     "output_type": "execute_result"
    }
   ],
   "source": [
    "data_subset = data['unitno'].astype(str)\n",
    "\n",
    "mask = np.logical_and(\n",
    "                      data_subset.str.contains('e'),\n",
    "                      data_subset.str.match('8')\n",
    "                      )\n",
    "data.loc[mask, 'unitno'].value_counts()"
   ]
  },
  {
   "cell_type": "markdown",
   "metadata": {},
   "source": [
    "#### Correction"
   ]
  },
  {
   "cell_type": "code",
   "execution_count": 59,
   "metadata": {},
   "outputs": [
    {
     "data": {
      "text/plain": [
       "8.0    1\n",
       "Name: unitno, dtype: int64"
      ]
     },
     "execution_count": 59,
     "metadata": {},
     "output_type": "execute_result"
    }
   ],
   "source": [
    "data.loc[mask, 'unitno'] = 8\n",
    "data.loc[mask, 'unitno'].value_counts()"
   ]
  },
  {
   "cell_type": "markdown",
   "metadata": {},
   "source": [
    "#### Erratic values 9.000000e-104"
   ]
  },
  {
   "cell_type": "code",
   "execution_count": 60,
   "metadata": {
    "scrolled": false
   },
   "outputs": [
    {
     "data": {
      "text/plain": [
       "9.000000e-104    7\n",
       "Name: unitno, dtype: int64"
      ]
     },
     "execution_count": 60,
     "metadata": {},
     "output_type": "execute_result"
    }
   ],
   "source": [
    "data_subset = data['unitno'].astype(str)\n",
    "\n",
    "mask = np.logical_and(\n",
    "                      data_subset.str.contains('e'),\n",
    "                      data_subset.str.match('9')\n",
    "                      )\n",
    "data.loc[mask, 'unitno'].value_counts()"
   ]
  },
  {
   "cell_type": "markdown",
   "metadata": {},
   "source": [
    "#### Correction"
   ]
  },
  {
   "cell_type": "code",
   "execution_count": 61,
   "metadata": {},
   "outputs": [
    {
     "data": {
      "text/plain": [
       "9.0    7\n",
       "Name: unitno, dtype: int64"
      ]
     },
     "execution_count": 61,
     "metadata": {},
     "output_type": "execute_result"
    }
   ],
   "source": [
    "data.loc[mask, 'unitno'] = 9\n",
    "data.loc[mask, 'unitno'].value_counts()"
   ]
  },
  {
   "cell_type": "markdown",
   "metadata": {},
   "source": [
    "#### Erratic values 100000x and 20000x"
   ]
  },
  {
   "cell_type": "markdown",
   "metadata": {},
   "source": [
    "#### Data frame `'data'` resorted by `'unitno'`"
   ]
  },
  {
   "cell_type": "code",
   "execution_count": 62,
   "metadata": {},
   "outputs": [
    {
     "data": {
      "text/plain": [
       "registration_date\n",
       "2007-07-13    2.000000e+11\n",
       "2013-09-03    2.000000e+11\n",
       "2007-07-13    2.000000e+11\n",
       "2007-07-17    1.000000e+11\n",
       "2007-07-17    1.000000e+11\n",
       "2007-07-13    2.000000e+10\n",
       "2007-07-17    1.000000e+10\n",
       "2007-07-13    1.000000e+10\n",
       "2010-06-29    1.000000e+10\n",
       "2007-07-13    1.000000e+09\n",
       "2010-06-29    1.000000e+09\n",
       "2007-08-13    2.000000e+08\n",
       "2007-07-13    2.000000e+08\n",
       "2007-07-24    2.000000e+08\n",
       "2010-06-29    1.000000e+08\n",
       "2007-07-13    1.000000e+08\n",
       "2007-07-13    2.000000e+07\n",
       "2007-08-13    2.000000e+07\n",
       "2007-07-24    2.000000e+07\n",
       "2007-07-13    1.000000e+07\n",
       "2010-06-29    1.000000e+07\n",
       "2013-04-15    2.000000e+06\n",
       "2007-07-12    2.000000e+06\n",
       "2007-07-13    1.000000e+06\n",
       "2010-06-29    1.000000e+06\n",
       "Name: unitno, dtype: float64"
      ]
     },
     "execution_count": 62,
     "metadata": {},
     "output_type": "execute_result"
    }
   ],
   "source": [
    "data.sort_values(by='unitno', na_position='last', inplace=True, ascending=False)\n",
    "data.iloc[:25, 9]"
   ]
  },
  {
   "cell_type": "markdown",
   "metadata": {},
   "source": [
    "#### Correction"
   ]
  },
  {
   "cell_type": "code",
   "execution_count": 63,
   "metadata": {},
   "outputs": [
    {
     "data": {
      "text/plain": [
       "registration_date\n",
       "2007-07-13    2.0\n",
       "2013-09-03    2.0\n",
       "2007-07-13    2.0\n",
       "2007-07-17    1.0\n",
       "2007-07-17    1.0\n",
       "2007-07-13    2.0\n",
       "2007-07-17    1.0\n",
       "2007-07-13    1.0\n",
       "2010-06-29    1.0\n",
       "2007-07-13    1.0\n",
       "2010-06-29    1.0\n",
       "2007-08-13    2.0\n",
       "2007-07-13    2.0\n",
       "2007-07-24    2.0\n",
       "2010-06-29    1.0\n",
       "2007-07-13    1.0\n",
       "2007-07-13    2.0\n",
       "2007-08-13    2.0\n",
       "2007-07-24    2.0\n",
       "2007-07-13    1.0\n",
       "2010-06-29    1.0\n",
       "2013-04-15    2.0\n",
       "2007-07-12    2.0\n",
       "2007-07-13    1.0\n",
       "2010-06-29    1.0\n",
       "Name: unitno, dtype: float64"
      ]
     },
     "execution_count": 63,
     "metadata": {},
     "output_type": "execute_result"
    }
   ],
   "source": [
    "data_subset = data.iloc[:25, 9].astype(str)\n",
    "data.iloc[:25, 9] = data_subset.str.strip('00000000000.0').astype('int64')\n",
    "data.iloc[:25, 9]"
   ]
  },
  {
   "cell_type": "markdown",
   "metadata": {},
   "source": [
    "#### Erratic values 0.2400 and 0.0024"
   ]
  },
  {
   "cell_type": "code",
   "execution_count": 64,
   "metadata": {
    "scrolled": false
   },
   "outputs": [
    {
     "data": {
      "text/plain": [
       "0.2400    4\n",
       "0.0024    2\n",
       "Name: unitno, dtype: int64"
      ]
     },
     "execution_count": 64,
     "metadata": {},
     "output_type": "execute_result"
    }
   ],
   "source": [
    "data_subset = data['unitno'].astype(str)\n",
    "\n",
    "mask = np.logical_and(\n",
    "                      data_subset.str.contains('24'),\n",
    "                      data_subset.str.match('0.')\n",
    "                      )\n",
    "data.loc[mask, 'unitno'].value_counts()"
   ]
  },
  {
   "cell_type": "markdown",
   "metadata": {},
   "source": [
    "#### Correction"
   ]
  },
  {
   "cell_type": "code",
   "execution_count": 65,
   "metadata": {},
   "outputs": [
    {
     "data": {
      "text/plain": [
       "24.0    6\n",
       "Name: unitno, dtype: int64"
      ]
     },
     "execution_count": 65,
     "metadata": {},
     "output_type": "execute_result"
    }
   ],
   "source": [
    "data.loc[mask, 'unitno'] = 24\n",
    "data.loc[mask, 'unitno'].value_counts()"
   ]
  },
  {
   "cell_type": "markdown",
   "metadata": {},
   "source": [
    "#### Erratic values 0.000815"
   ]
  },
  {
   "cell_type": "code",
   "execution_count": 66,
   "metadata": {
    "scrolled": false
   },
   "outputs": [
    {
     "data": {
      "text/plain": [
       "0.000815    2\n",
       "Name: unitno, dtype: int64"
      ]
     },
     "execution_count": 66,
     "metadata": {},
     "output_type": "execute_result"
    }
   ],
   "source": [
    "data_subset = data['unitno'].astype(str)\n",
    "\n",
    "mask = np.logical_and(\n",
    "                      data_subset.str.contains('815'),\n",
    "                      data_subset.str.match('0.')\n",
    "                      )\n",
    "data.loc[mask, 'unitno'].value_counts()"
   ]
  },
  {
   "cell_type": "markdown",
   "metadata": {},
   "source": [
    "#### Correction"
   ]
  },
  {
   "cell_type": "code",
   "execution_count": 67,
   "metadata": {},
   "outputs": [
    {
     "data": {
      "text/plain": [
       "815.0    2\n",
       "Name: unitno, dtype: int64"
      ]
     },
     "execution_count": 67,
     "metadata": {},
     "output_type": "execute_result"
    }
   ],
   "source": [
    "data.loc[mask, 'unitno'] = 815\n",
    "data.loc[mask, 'unitno'].value_counts()"
   ]
  },
  {
   "cell_type": "markdown",
   "metadata": {},
   "source": [
    "#### Erratic values 0.0026"
   ]
  },
  {
   "cell_type": "code",
   "execution_count": 68,
   "metadata": {
    "scrolled": false
   },
   "outputs": [
    {
     "data": {
      "text/plain": [
       "0.0026    3\n",
       "Name: unitno, dtype: int64"
      ]
     },
     "execution_count": 68,
     "metadata": {},
     "output_type": "execute_result"
    }
   ],
   "source": [
    "data_subset = data['unitno'].astype(str)\n",
    "\n",
    "mask = np.logical_and(\n",
    "                      data_subset.str.contains('26'),\n",
    "                      data_subset.str.match('0.')\n",
    "                      )\n",
    "data.loc[mask, 'unitno'].value_counts()"
   ]
  },
  {
   "cell_type": "markdown",
   "metadata": {},
   "source": [
    "#### Correction"
   ]
  },
  {
   "cell_type": "code",
   "execution_count": 69,
   "metadata": {},
   "outputs": [
    {
     "data": {
      "text/plain": [
       "26.0    3\n",
       "Name: unitno, dtype: int64"
      ]
     },
     "execution_count": 69,
     "metadata": {},
     "output_type": "execute_result"
    }
   ],
   "source": [
    "data.loc[mask, 'unitno'] = 26\n",
    "data.loc[mask, 'unitno'].value_counts()"
   ]
  },
  {
   "cell_type": "markdown",
   "metadata": {},
   "source": [
    "#### Erratic values 0.010 and 0.001"
   ]
  },
  {
   "cell_type": "code",
   "execution_count": 70,
   "metadata": {
    "scrolled": false
   },
   "outputs": [
    {
     "data": {
      "text/plain": [
       "0.010    5\n",
       "0.001    5\n",
       "Name: unitno, dtype: int64"
      ]
     },
     "execution_count": 70,
     "metadata": {},
     "output_type": "execute_result"
    }
   ],
   "source": [
    "data_subset = data['unitno'].astype(str)\n",
    "\n",
    "mask = np.logical_and(\n",
    "                      data_subset.str.contains('1'),\n",
    "                      data_subset.str.match('0.')\n",
    "                      )\n",
    "data.loc[mask, 'unitno'].value_counts()"
   ]
  },
  {
   "cell_type": "markdown",
   "metadata": {},
   "source": [
    "#### Correction"
   ]
  },
  {
   "cell_type": "code",
   "execution_count": 71,
   "metadata": {},
   "outputs": [
    {
     "data": {
      "text/plain": [
       "1.0    10\n",
       "Name: unitno, dtype: int64"
      ]
     },
     "execution_count": 71,
     "metadata": {},
     "output_type": "execute_result"
    }
   ],
   "source": [
    "data.loc[mask, 'unitno'] = 1\n",
    "data.loc[mask, 'unitno'].value_counts()"
   ]
  },
  {
   "cell_type": "markdown",
   "metadata": {},
   "source": [
    "#### Erratic values 0.2000, 0.0200, 0.0002, and 0.0020"
   ]
  },
  {
   "cell_type": "code",
   "execution_count": 72,
   "metadata": {
    "scrolled": false
   },
   "outputs": [
    {
     "data": {
      "text/plain": [
       "0.2000    22\n",
       "0.0200     2\n",
       "0.0002     1\n",
       "0.0020     1\n",
       "Name: unitno, dtype: int64"
      ]
     },
     "execution_count": 72,
     "metadata": {},
     "output_type": "execute_result"
    }
   ],
   "source": [
    "data_subset = data['unitno'].astype(str)\n",
    "\n",
    "mask = np.logical_and(\n",
    "                      data_subset.str.contains('2'),\n",
    "                      data_subset.str.match('0.')\n",
    "                      )\n",
    "data.loc[mask, 'unitno'].value_counts()"
   ]
  },
  {
   "cell_type": "markdown",
   "metadata": {},
   "source": [
    "#### Correction"
   ]
  },
  {
   "cell_type": "code",
   "execution_count": 73,
   "metadata": {},
   "outputs": [
    {
     "data": {
      "text/plain": [
       "2.0    26\n",
       "Name: unitno, dtype: int64"
      ]
     },
     "execution_count": 73,
     "metadata": {},
     "output_type": "execute_result"
    }
   ],
   "source": [
    "data.loc[mask, 'unitno'] = 2\n",
    "data.loc[mask, 'unitno'].value_counts()"
   ]
  },
  {
   "cell_type": "markdown",
   "metadata": {},
   "source": [
    "#### Erratic values 0.37"
   ]
  },
  {
   "cell_type": "code",
   "execution_count": 74,
   "metadata": {
    "scrolled": false
   },
   "outputs": [
    {
     "data": {
      "text/plain": [
       "0.37    5\n",
       "Name: unitno, dtype: int64"
      ]
     },
     "execution_count": 74,
     "metadata": {},
     "output_type": "execute_result"
    }
   ],
   "source": [
    "data_subset = data['unitno'].astype(str)\n",
    "\n",
    "mask = np.logical_and(\n",
    "                      data_subset.str.contains('37'),\n",
    "                      data_subset.str.match('0.')\n",
    "                      )\n",
    "data.loc[mask, 'unitno'].value_counts()"
   ]
  },
  {
   "cell_type": "markdown",
   "metadata": {},
   "source": [
    "#### Correction"
   ]
  },
  {
   "cell_type": "code",
   "execution_count": 75,
   "metadata": {},
   "outputs": [
    {
     "data": {
      "text/plain": [
       "37.0    5\n",
       "Name: unitno, dtype: int64"
      ]
     },
     "execution_count": 75,
     "metadata": {},
     "output_type": "execute_result"
    }
   ],
   "source": [
    "data.loc[mask, 'unitno'] = 37\n",
    "data.loc[mask, 'unitno'].value_counts()"
   ]
  },
  {
   "cell_type": "markdown",
   "metadata": {},
   "source": [
    "#### Erratic values 0.033"
   ]
  },
  {
   "cell_type": "code",
   "execution_count": 76,
   "metadata": {
    "scrolled": false
   },
   "outputs": [
    {
     "data": {
      "text/plain": [
       "0.033    1\n",
       "Name: unitno, dtype: int64"
      ]
     },
     "execution_count": 76,
     "metadata": {},
     "output_type": "execute_result"
    }
   ],
   "source": [
    "data_subset = data['unitno'].astype(str)\n",
    "\n",
    "mask = np.logical_and(\n",
    "                      data_subset.str.contains('33'),\n",
    "                      data_subset.str.match('0.')\n",
    "                      )\n",
    "data.loc[mask, 'unitno'].value_counts()"
   ]
  },
  {
   "cell_type": "markdown",
   "metadata": {},
   "source": [
    "#### Correction"
   ]
  },
  {
   "cell_type": "code",
   "execution_count": 77,
   "metadata": {},
   "outputs": [
    {
     "data": {
      "text/plain": [
       "33.0    1\n",
       "Name: unitno, dtype: int64"
      ]
     },
     "execution_count": 77,
     "metadata": {},
     "output_type": "execute_result"
    }
   ],
   "source": [
    "data.loc[mask, 'unitno'] = 33\n",
    "data.loc[mask, 'unitno'].value_counts()"
   ]
  },
  {
   "cell_type": "markdown",
   "metadata": {},
   "source": [
    "#### Erratic values 0.003"
   ]
  },
  {
   "cell_type": "code",
   "execution_count": 78,
   "metadata": {
    "scrolled": false
   },
   "outputs": [
    {
     "data": {
      "text/plain": [
       "0.003    9\n",
       "Name: unitno, dtype: int64"
      ]
     },
     "execution_count": 78,
     "metadata": {},
     "output_type": "execute_result"
    }
   ],
   "source": [
    "data_subset = data['unitno'].astype(str)\n",
    "\n",
    "mask = np.logical_and(\n",
    "                      data_subset.str.contains('03'),\n",
    "                      data_subset.str.match('0.')\n",
    "                      )\n",
    "data.loc[mask, 'unitno'].value_counts()"
   ]
  },
  {
   "cell_type": "markdown",
   "metadata": {},
   "source": [
    "#### Correction"
   ]
  },
  {
   "cell_type": "code",
   "execution_count": 79,
   "metadata": {},
   "outputs": [
    {
     "data": {
      "text/plain": [
       "3.0    9\n",
       "Name: unitno, dtype: int64"
      ]
     },
     "execution_count": 79,
     "metadata": {},
     "output_type": "execute_result"
    }
   ],
   "source": [
    "data.loc[mask, 'unitno'] = 3\n",
    "data.loc[mask, 'unitno'].value_counts()"
   ]
  },
  {
   "cell_type": "markdown",
   "metadata": {},
   "source": [
    "#### Erratic values 0.83"
   ]
  },
  {
   "cell_type": "code",
   "execution_count": 80,
   "metadata": {
    "scrolled": false
   },
   "outputs": [
    {
     "data": {
      "text/plain": [
       "0.83    3\n",
       "Name: unitno, dtype: int64"
      ]
     },
     "execution_count": 80,
     "metadata": {},
     "output_type": "execute_result"
    }
   ],
   "source": [
    "data_subset = data['unitno'].astype(str)\n",
    "\n",
    "mask = np.logical_and(\n",
    "                      data_subset.str.contains('83'),\n",
    "                      data_subset.str.match('0.')\n",
    "                      )\n",
    "data.loc[mask, 'unitno'].value_counts()"
   ]
  },
  {
   "cell_type": "markdown",
   "metadata": {},
   "source": [
    "#### Correction"
   ]
  },
  {
   "cell_type": "code",
   "execution_count": 81,
   "metadata": {},
   "outputs": [
    {
     "data": {
      "text/plain": [
       "83.0    3\n",
       "Name: unitno, dtype: int64"
      ]
     },
     "execution_count": 81,
     "metadata": {},
     "output_type": "execute_result"
    }
   ],
   "source": [
    "data.loc[mask, 'unitno'] = 83\n",
    "data.loc[mask, 'unitno'].value_counts()"
   ]
  },
  {
   "cell_type": "markdown",
   "metadata": {},
   "source": [
    "#### Erratic values 0.04"
   ]
  },
  {
   "cell_type": "code",
   "execution_count": 82,
   "metadata": {
    "scrolled": false
   },
   "outputs": [
    {
     "data": {
      "text/plain": [
       "0.04    2\n",
       "Name: unitno, dtype: int64"
      ]
     },
     "execution_count": 82,
     "metadata": {},
     "output_type": "execute_result"
    }
   ],
   "source": [
    "data_subset = data['unitno'].astype(str)\n",
    "\n",
    "mask = np.logical_and(\n",
    "                      data_subset.str.contains('4'),\n",
    "                      data_subset.str.match('0.')\n",
    "                      )\n",
    "data.loc[mask, 'unitno'].value_counts()"
   ]
  },
  {
   "cell_type": "markdown",
   "metadata": {},
   "source": [
    "#### Correction"
   ]
  },
  {
   "cell_type": "code",
   "execution_count": 83,
   "metadata": {},
   "outputs": [
    {
     "data": {
      "text/plain": [
       "4.0    2\n",
       "Name: unitno, dtype: int64"
      ]
     },
     "execution_count": 83,
     "metadata": {},
     "output_type": "execute_result"
    }
   ],
   "source": [
    "data.loc[mask, 'unitno'] = 4\n",
    "data.loc[mask, 'unitno'].value_counts()"
   ]
  },
  {
   "cell_type": "markdown",
   "metadata": {},
   "source": [
    "#### Erratic values 0.66"
   ]
  },
  {
   "cell_type": "code",
   "execution_count": 84,
   "metadata": {
    "scrolled": false
   },
   "outputs": [
    {
     "data": {
      "text/plain": [
       "0.66    5\n",
       "Name: unitno, dtype: int64"
      ]
     },
     "execution_count": 84,
     "metadata": {},
     "output_type": "execute_result"
    }
   ],
   "source": [
    "data_subset = data['unitno'].astype(str)\n",
    "\n",
    "mask = np.logical_and(\n",
    "                      data_subset.str.contains('6'),\n",
    "                      data_subset.str.match('0.')\n",
    "                      )\n",
    "data.loc[mask, 'unitno'].value_counts()"
   ]
  },
  {
   "cell_type": "markdown",
   "metadata": {},
   "source": [
    "#### Correction"
   ]
  },
  {
   "cell_type": "code",
   "execution_count": 85,
   "metadata": {},
   "outputs": [
    {
     "data": {
      "text/plain": [
       "66.0    5\n",
       "Name: unitno, dtype: int64"
      ]
     },
     "execution_count": 85,
     "metadata": {},
     "output_type": "execute_result"
    }
   ],
   "source": [
    "data.loc[mask, 'unitno'] = 66\n",
    "data.loc[mask, 'unitno'].value_counts()"
   ]
  },
  {
   "cell_type": "markdown",
   "metadata": {},
   "source": [
    "#### Missing values 0.000000\n",
    "\n",
    "`'unitno'` values 0.0 are reset to NaN (missing values)."
   ]
  },
  {
   "cell_type": "code",
   "execution_count": 86,
   "metadata": {
    "scrolled": false
   },
   "outputs": [
    {
     "data": {
      "text/plain": [
       "0.0    48\n",
       "Name: unitno, dtype: int64"
      ]
     },
     "execution_count": 86,
     "metadata": {},
     "output_type": "execute_result"
    }
   ],
   "source": [
    "data_subset = data['unitno'].astype(str)\n",
    "\n",
    "mask = data_subset.str.match('0')\n",
    "data.loc[mask, 'unitno'].value_counts()"
   ]
  },
  {
   "cell_type": "markdown",
   "metadata": {},
   "source": [
    "#### Correction"
   ]
  },
  {
   "cell_type": "code",
   "execution_count": 87,
   "metadata": {},
   "outputs": [
    {
     "data": {
      "text/plain": [
       "Series([], Name: unitno, dtype: int64)"
      ]
     },
     "execution_count": 87,
     "metadata": {},
     "output_type": "execute_result"
    }
   ],
   "source": [
    "data.loc[mask, 'unitno'] = np.nan\n",
    "data.loc[mask, 'unitno'].value_counts()"
   ]
  },
  {
   "cell_type": "markdown",
   "metadata": {},
   "source": [
    "Reqeust returns empty series -- all 0.0 values have been reset to NaN."
   ]
  },
  {
   "cell_type": "markdown",
   "metadata": {},
   "source": [
    "#### Top 10 values of `'unitno'`"
   ]
  },
  {
   "cell_type": "code",
   "execution_count": 88,
   "metadata": {},
   "outputs": [
    {
     "data": {
      "text/plain": [
       "registration_date\n",
       "1996-06-03    1.0\n",
       "2006-03-24    1.0\n",
       "1979-12-31    1.0\n",
       "1994-07-04    1.0\n",
       "1994-06-30    1.0\n",
       "2013-05-15    1.0\n",
       "2006-07-04    1.0\n",
       "2006-03-23    1.0\n",
       "1994-07-04    1.0\n",
       "1980-01-04    1.0\n",
       "Name: unitno, dtype: float64"
      ]
     },
     "execution_count": 88,
     "metadata": {},
     "output_type": "execute_result"
    }
   ],
   "source": [
    "data.sort_values(by='unitno', na_position='last', inplace=True, ascending=True)\n",
    "data.iloc[:10, 9]"
   ]
  },
  {
   "cell_type": "markdown",
   "metadata": {},
   "source": [
    "#### Bottom 10 values of `'unitno'`"
   ]
  },
  {
   "cell_type": "code",
   "execution_count": 89,
   "metadata": {},
   "outputs": [
    {
     "data": {
      "text/plain": [
       "registration_date\n",
       "2007-05-23    25607.0\n",
       "2011-08-08    22605.0\n",
       "2012-03-15    22605.0\n",
       "2003-06-26    22207.0\n",
       "1979-06-27    19121.0\n",
       "2016-11-25    19121.0\n",
       "1999-06-15    19121.0\n",
       "2004-02-27    19121.0\n",
       "2012-10-10    17055.0\n",
       "2007-07-09    15201.0\n",
       "Name: unitno, dtype: float64"
      ]
     },
     "execution_count": 89,
     "metadata": {},
     "output_type": "execute_result"
    }
   ],
   "source": [
    "data.sort_values(by='unitno', na_position='last', inplace=True, ascending=False)\n",
    "data.iloc[:10, 9]"
   ]
  },
  {
   "cell_type": "markdown",
   "metadata": {},
   "source": [
    "#### Resorting data frame `'data'` by `'registration_date'`"
   ]
  },
  {
   "cell_type": "code",
   "execution_count": 90,
   "metadata": {},
   "outputs": [
    {
     "name": "stdout",
     "output_type": "stream",
     "text": [
      "Data frame 'data' sorted by index!\n"
     ]
    }
   ],
   "source": [
    "data = data.sort_index()\n",
    "print(\"Data frame 'data' sorted by index!\")"
   ]
  },
  {
   "cell_type": "markdown",
   "metadata": {},
   "source": [
    "All entries in column `'unitno'` have been fixed. There are 1'489'665 non-null (18%) of the total 8'226'103 entries."
   ]
  },
  {
   "cell_type": "markdown",
   "metadata": {},
   "source": [
    "<a id='street_name'></a>\n",
    "### 1.8.8 Inconsistent entries in `'street_name'`\n",
    "\n",
    "Back to the [top](#top) / [table of contents](#contents)\n",
    "\n",
    "\n",
    "Back to [step 1.8](#inconsistent_entries)\n",
    "\n",
    "* Inconsistencies have been found in the column `'street_name'`, but their correction in the whole dataset presents a time-intensive task. Targeted correction can be performed for particular streets later, if needed. \n",
    "* **Entries in `'street_name'` have not been corrected.**\n",
    "* There are 7'847'438 non-null (95%) of the total 8'226'103 entries.\n",
    "\n",
    "#### Example: Bathurst\n",
    "\n",
    "* misspelling\n",
    "* additional info included (e.g., -Storage Unit, unit/suite no, zip code)\n",
    "* extra space\n",
    "* St vs Street"
   ]
  },
  {
   "cell_type": "code",
   "execution_count": 91,
   "metadata": {},
   "outputs": [
    {
     "data": {
      "text/plain": [
       "Bathurst                        11951\n",
       "Bathurst Street                  1026\n",
       "Bathurst Glen                     203\n",
       "Bathurst St                        38\n",
       "Old Bathurst                       25\n",
       "Bathurst Street Rear                4\n",
       "Bathurst Street North               4\n",
       "Bathurst  Street                    4\n",
       "Bathurst Street West                4\n",
       "Bathurst Stree                      3\n",
       "Old Bathurst Street                 3\n",
       "Bathurst Street (Potl#121)          3\n",
       "111 Bathurst Inc                    2\n",
       "Bathurst Avenue                     1\n",
       "Bathurst Strert                     1\n",
       "Bathurst Street, Suite 1611         1\n",
       "Bathurst Street, Unit 1615          1\n",
       "Bathurst Street  L4J 0B8            1\n",
       "Bathurst Street-Storage Unit        1\n",
       "Bathurst St Rear                    1\n",
       "7890 Bathurst                       1\n",
       "Bathurst Street   L4J 0B8           1\n",
       "Old Bathurst St                     1\n",
       "Bathurst Inc                        1\n",
       "Name: street_name, dtype: int64"
      ]
     },
     "execution_count": 91,
     "metadata": {},
     "output_type": "execute_result"
    }
   ],
   "source": [
    "mask = data['street_name'].str.contains(pat='Bathurst', case=False, na=False)\n",
    "data.loc[mask, 'street_name'].value_counts()"
   ]
  },
  {
   "cell_type": "markdown",
   "metadata": {},
   "source": [
    "#### Example: Yonge\n",
    "\n",
    "* misspelling\n",
    "* additional info included (e.g., -Storage Unit, unit/suite no, zip code)\n",
    "* extra spaces\n",
    "* St vs Street"
   ]
  },
  {
   "cell_type": "code",
   "execution_count": 92,
   "metadata": {},
   "outputs": [
    {
     "data": {
      "text/plain": [
       "Yonge                                 57394\n",
       "Yonge Street                           1466\n",
       "Old Yonge                               310\n",
       "Yongehurst                              193\n",
       "Yonge St                                160\n",
       "Yongeview                                49\n",
       "Yonge St S                               19\n",
       "Old Yonge Street                         16\n",
       "Yonge Street South                       16\n",
       "Yonge St N                               12\n",
       "Yongeview Avenue                          9\n",
       "- 1210 Yonge Street                       7\n",
       "Yonge Street North                        7\n",
       "Yongehurst Avenue                         6\n",
       "Yonge Stree                               6\n",
       "Roselawn Ave. & 2400 Yonge Street         5\n",
       "Yonge Street Highway 11                   5\n",
       "Yonge Street South Of Ravenshoe           5\n",
       "8674 Yonge Street                         4\n",
       "Yonge Steet                               4\n",
       "Old Yonge St                              3\n",
       "Yonge Stret                               3\n",
       "Yonge St L3T 2B4                          2\n",
       "Yonge Street (Locker0                     2\n",
       ", 7433 Yonge St. & 20&30 Clark Ave        2\n",
       "Yonge St   L0L1K0                         2\n",
       "Yonge Street, Unit A301                   2\n",
       "Yonge St Bs                               2\n",
       "Yonge Street (Parking)                    2\n",
       "Yongehurst Road                           2\n",
       "Yonge Street  L4G1Y3                      1\n",
       "Yonge Street (Locker)                     1\n",
       "Yonge Street, Unit B1                     1\n",
       "Yonge Street L4G1Y3                       1\n",
       "Yonge St North                            1\n",
       "Yonge Street Ric                          1\n",
       "Yonge St / 7 Roosevelt Drive              1\n",
       "Yonge Street (Parking Unit)               1\n",
       "Yonge Strret                              1\n",
       "Yonge St Tower B                          1\n",
       "Yonge Street, Building B                  1\n",
       "Yonge Street, Suite 202                   1\n",
       "Yonge Street, Ric                         1\n",
       "Yonge Steeet                              1\n",
       "-1210 Yonge Street                        1\n",
       "Yonge Sstreet                             1\n",
       "Yonge Street, Unit A3                     1\n",
       "Yonge Street, Suite 302                   1\n",
       "Yonge St., Tower B                        1\n",
       "-11720 Yonge Street                       1\n",
       "Yonge Street, Suite 149                   1\n",
       "Yonge Street, Po Box 2046 Station         1\n",
       "Yonge Street, Suite 1108A                 1\n",
       "Yonge Street, Suite 1607A                 1\n",
       "Yonge Street, Unit A2                     1\n",
       "Name: street_name, dtype: int64"
      ]
     },
     "execution_count": 92,
     "metadata": {},
     "output_type": "execute_result"
    }
   ],
   "source": [
    "mask = data['street_name'].str.contains(pat='Yonge', case=False, na=False)\n",
    "data.loc[mask, 'street_name'].value_counts()"
   ]
  },
  {
   "cell_type": "markdown",
   "metadata": {},
   "source": [
    "#### Example: Highway\n",
    "\n",
    "* `#` or 'No' included\n",
    "* 'RR' vs 'R.R.'\n",
    "* additional info included,\n",
    "* Highway vs Hwy (see next)"
   ]
  },
  {
   "cell_type": "code",
   "execution_count": 93,
   "metadata": {},
   "outputs": [
    {
     "data": {
      "text/plain": [
       "Highway 8                          1208\n",
       "Highway 48                          970\n",
       "Highway 7                           834\n",
       "Highway West                        509\n",
       "Highway 2                           489\n",
       "Highway 3                           472\n",
       "Highway 26                          461\n",
       "Highway 6                           460\n",
       "Highway 24                          447\n",
       "Highway 12                          416\n",
       "Highway 27                          409\n",
       "Highway 9                           395\n",
       "Highway 89                          376\n",
       "Highway No. 7                       330\n",
       "Highway 7 West                      293\n",
       "Highway 20                          219\n",
       "Highway 10                          183\n",
       "Highway 7A                          176\n",
       "Highway 59                          174\n",
       "Highway 50                          149\n",
       "Highwood                            144\n",
       "Highway 93                          135\n",
       "Highway 54                          124\n",
       "Highway 11                          119\n",
       "Highway #53                         108\n",
       "Highway 28                          102\n",
       "Highway 3 W                          96\n",
       "Highway No. 8                        94\n",
       "Highway 56                           90\n",
       "Highway 3 E                          83\n",
       "                                   ... \n",
       "Highway N O. 7                        1\n",
       "Highway 7 W - Parking + Storage       1\n",
       "2900 Highway No. 7                    1\n",
       "Highwway No 7                         1\n",
       "Old Highway 99 Rr 3                   1\n",
       "Highway 2, R.R. #1                    1\n",
       "Highway 6 South Jarvis                1\n",
       "Highway 7 Rr 2                        1\n",
       "Highway 7 Avenue                      1\n",
       "Highway 2O East                       1\n",
       "Highway 56, R.R.#1                    1\n",
       "Highway 23                            1\n",
       "Highway  7                            1\n",
       "Highway 93 East                       1\n",
       "Highway 10, R.R.# 7                   1\n",
       "Highway 21, R. R. # 5                 1\n",
       "Highway 7 West #1107                  1\n",
       "Highway 5 West                        1\n",
       "Highway 10, General Delivery          1\n",
       "Highway 21 Rr5                        1\n",
       "Haldimand Highway 54 Crescent         1\n",
       "Highway 21 N4K5R9                     1\n",
       "Highway #26, Rr#3                     1\n",
       "Highway 8, Rr 2                       1\n",
       "Highway 26, R.R. #1                   1\n",
       "Highwway No. 7                        1\n",
       "Highway 10  Rr 3                      1\n",
       "Highway No7                           1\n",
       "Highway 9 North                       1\n",
       "Highway  7 West                       1\n",
       "Name: street_name, Length: 542, dtype: int64"
      ]
     },
     "execution_count": 93,
     "metadata": {},
     "output_type": "execute_result"
    }
   ],
   "source": [
    "mask = data['street_name'].str.contains(pat='highw', case=False, na=False)\n",
    "data.loc[mask, 'street_name'].value_counts()"
   ]
  },
  {
   "cell_type": "code",
   "execution_count": 94,
   "metadata": {},
   "outputs": [
    {
     "data": {
      "text/plain": [
       "Hwy 6                          845\n",
       "Hwy 7                          788\n",
       "Hwy 3                          592\n",
       "Hwy 20                         489\n",
       "Hwy 12                         470\n",
       "Hwy 2                          456\n",
       "Hwy 28                         372\n",
       "Hwy 9                          345\n",
       "Hwy 56                         337\n",
       "Hwy 47                         314\n",
       "Hwy 26                         285\n",
       "Hwy 89                         261\n",
       "Hwy 11                         236\n",
       "Hwy 20 West                    223\n",
       "Hwy 8                          164\n",
       "Provincial Hwy 11              153\n",
       "Hwy 27                         151\n",
       "Hwy 99                         150\n",
       "Hwy #3                         131\n",
       "Hwy 20 W                       117\n",
       "Hwy 7A                         116\n",
       "Hwy 25                         107\n",
       "Hwy 48                         104\n",
       "Provincial Hwy 12              104\n",
       "Hwy 54                          97\n",
       "Hwy #6 South                    96\n",
       "Hwy 507                         91\n",
       "Hwy                             91\n",
       "Old Hwy 8                       90\n",
       "Hwy #56                         74\n",
       "                              ... \n",
       "Hwy 55                           1\n",
       "Wellington Road, Hwy 24          1\n",
       "5911 Hwy 27                      1\n",
       "Merrittville Hwy, R.R. # 1       1\n",
       "Hwy 6, R.R. #3                   1\n",
       "Hwy 86 Wallenstein               1\n",
       "Hwy 52 W                         1\n",
       "Hwy 24 N N1H6H7                  1\n",
       "Hwy No. 9                        1\n",
       "Norman Jones Place, Hwy# 48      1\n",
       "Hwy. 6 & 21, R.R. #5             1\n",
       "Hwy 10, Rr#7                     1\n",
       "Hwy. 12                          1\n",
       "Hwy 87, R R #2                   1\n",
       "Hwy #3 East                      1\n",
       "Hwy 6, R.R. #1                   1\n",
       "Hwy 89, R. R. # 2                1\n",
       "Hwy 89 Rr 1                      1\n",
       "Hwy. 50                          1\n",
       "Hwy. 56                          1\n",
       "Leslie Rd E Hwy 6                1\n",
       "Hwy #3 Rr4                       1\n",
       "Hwy#3                            1\n",
       "9 Hwy                            1\n",
       "Dundas St E Hwy 5                1\n",
       "Hwy 10, Rr#2                     1\n",
       "Hwy 2 Rr1                        1\n",
       "Hwy # 9                          1\n",
       "Hwy 4 Rr 1                       1\n",
       "Hwy #3 W                         1\n",
       "Name: street_name, Length: 365, dtype: int64"
      ]
     },
     "execution_count": 94,
     "metadata": {},
     "output_type": "execute_result"
    }
   ],
   "source": [
    "mask = data['street_name'].str.contains(pat='hwy', case=False, na=False)\n",
    "data.loc[mask, 'street_name'].value_counts()"
   ]
  },
  {
   "cell_type": "markdown",
   "metadata": {},
   "source": [
    "Fixing values in the column `'street_name'` in the full dataset presents a time-intensive task. It makes more sense to perform targeted cleanups for particular street names, if the need arises. This could be done at a later stage."
   ]
  },
  {
   "cell_type": "markdown",
   "metadata": {},
   "source": [
    "<a id='street_designation'></a>\n",
    "### 1.8.9 Inconsistent values in the column `'street_designation'`\n",
    "\n",
    "Back to the [top](#top) / [table of contents](#contents)\n",
    "\n",
    "\n",
    "Back to [step 1.8](#inconsistent_entries)\n",
    "\n",
    "* Inconsistent entries have been found in the column `'street_designation'`, such as 'St', 'St.' and 'Street'.\n",
    "* Some inconsistencies have been fixed, however this presents a time intensive task and some more might still be present in the dataset.\n",
    "* There are 7'108'227 non-null (86%) of the total 8'226'103 entries.\n",
    "* There are less values of `'street_designation'` present in the dataset than those of `'street_name'` (7'108'227 - 7'847'438 = 739'211 values of `'street_designation'` are missing).\n",
    "\n",
    "### Fixing inconsistent entries in `'street_designation'`\n",
    "\n",
    "#### St, St., and Street"
   ]
  },
  {
   "cell_type": "code",
   "execution_count": 95,
   "metadata": {},
   "outputs": [
    {
     "data": {
      "text/plain": [
       "St        1302109\n",
       "Street        126\n",
       "St w            8\n",
       "St.             1\n",
       "Name: street_designation, dtype: int64"
      ]
     },
     "execution_count": 95,
     "metadata": {},
     "output_type": "execute_result"
    }
   ],
   "source": [
    "mask = data['street_designation'].str.match(pat='St', case=False, na=False)\n",
    "data.loc[mask, 'street_designation'].value_counts()"
   ]
  },
  {
   "cell_type": "markdown",
   "metadata": {},
   "source": [
    "#### Correction"
   ]
  },
  {
   "cell_type": "code",
   "execution_count": 96,
   "metadata": {},
   "outputs": [
    {
     "data": {
      "text/plain": [
       "St    1302244\n",
       "Name: street_designation, dtype: int64"
      ]
     },
     "execution_count": 96,
     "metadata": {},
     "output_type": "execute_result"
    }
   ],
   "source": [
    "data.loc[mask, 'street_designation'] = 'St'\n",
    "data.loc[mask, 'street_designation'].value_counts()"
   ]
  },
  {
   "cell_type": "markdown",
   "metadata": {},
   "source": [
    "#### Dr and Drive"
   ]
  },
  {
   "cell_type": "code",
   "execution_count": 97,
   "metadata": {},
   "outputs": [
    {
     "data": {
      "text/plain": [
       "Dr       1258763\n",
       "Drive        121\n",
       "Name: street_designation, dtype: int64"
      ]
     },
     "execution_count": 97,
     "metadata": {},
     "output_type": "execute_result"
    }
   ],
   "source": [
    "mask = data['street_designation'].str.match(pat='dr', case=False, na=False)\n",
    "data.loc[mask, 'street_designation'].value_counts()"
   ]
  },
  {
   "cell_type": "markdown",
   "metadata": {},
   "source": [
    "#### Correction"
   ]
  },
  {
   "cell_type": "code",
   "execution_count": 98,
   "metadata": {},
   "outputs": [
    {
     "data": {
      "text/plain": [
       "Dr    1258884\n",
       "Name: street_designation, dtype: int64"
      ]
     },
     "execution_count": 98,
     "metadata": {},
     "output_type": "execute_result"
    }
   ],
   "source": [
    "data.loc[mask, 'street_designation'] = 'Dr'\n",
    "data.loc[mask, 'street_designation'].value_counts()"
   ]
  },
  {
   "cell_type": "markdown",
   "metadata": {},
   "source": [
    "#### Av, Ave, and Avenue"
   ]
  },
  {
   "cell_type": "code",
   "execution_count": 99,
   "metadata": {},
   "outputs": [
    {
     "data": {
      "text/plain": [
       "Ave       1176671\n",
       "Avenue        364\n",
       "Av              4\n",
       "Ave 5           2\n",
       "Name: street_designation, dtype: int64"
      ]
     },
     "execution_count": 99,
     "metadata": {},
     "output_type": "execute_result"
    }
   ],
   "source": [
    "mask = data['street_designation'].str.match(pat='av', case=False, na=False)\n",
    "data.loc[mask, 'street_designation'].value_counts()"
   ]
  },
  {
   "cell_type": "markdown",
   "metadata": {},
   "source": [
    "#### Correction"
   ]
  },
  {
   "cell_type": "code",
   "execution_count": 100,
   "metadata": {},
   "outputs": [
    {
     "data": {
      "text/plain": [
       "Ave    1177041\n",
       "Name: street_designation, dtype: int64"
      ]
     },
     "execution_count": 100,
     "metadata": {},
     "output_type": "execute_result"
    }
   ],
   "source": [
    "data.loc[mask, 'street_designation'] = 'Ave'\n",
    "data.loc[mask, 'street_designation'].value_counts()"
   ]
  },
  {
   "cell_type": "markdown",
   "metadata": {},
   "source": [
    "#### Rd"
   ]
  },
  {
   "cell_type": "code",
   "execution_count": 101,
   "metadata": {},
   "outputs": [
    {
     "data": {
      "text/plain": [
       "Rd        1018322\n",
       "Rd 19         115\n",
       "Rd 124          9\n",
       "Rd 30           5\n",
       "Rd w            2\n",
       "Rd.             2\n",
       "Name: street_designation, dtype: int64"
      ]
     },
     "execution_count": 101,
     "metadata": {},
     "output_type": "execute_result"
    }
   ],
   "source": [
    "mask = data['street_designation'].str.match(pat='rd', case=False, na=False)\n",
    "data.loc[mask, 'street_designation'].value_counts()"
   ]
  },
  {
   "cell_type": "markdown",
   "metadata": {},
   "source": [
    "#### Correction"
   ]
  },
  {
   "cell_type": "code",
   "execution_count": 102,
   "metadata": {},
   "outputs": [
    {
     "data": {
      "text/plain": [
       "Rd    1018455\n",
       "Name: street_designation, dtype: int64"
      ]
     },
     "execution_count": 102,
     "metadata": {},
     "output_type": "execute_result"
    }
   ],
   "source": [
    "data.loc[mask, 'street_designation'] = 'Rd'\n",
    "data.loc[mask, 'street_designation'].value_counts()"
   ]
  },
  {
   "cell_type": "markdown",
   "metadata": {},
   "source": [
    "#### Cres, Cresent, and Crescent"
   ]
  },
  {
   "cell_type": "code",
   "execution_count": 103,
   "metadata": {},
   "outputs": [
    {
     "data": {
      "text/plain": [
       "Cres        802764\n",
       "Crescent       125\n",
       "Cresent         74\n",
       "Name: street_designation, dtype: int64"
      ]
     },
     "execution_count": 103,
     "metadata": {},
     "output_type": "execute_result"
    }
   ],
   "source": [
    "mask = data['street_designation'].str.match(pat='cre', case=False, na=False)\n",
    "data.loc[mask, 'street_designation'].value_counts()"
   ]
  },
  {
   "cell_type": "markdown",
   "metadata": {},
   "source": [
    "#### Correction"
   ]
  },
  {
   "cell_type": "code",
   "execution_count": 104,
   "metadata": {},
   "outputs": [
    {
     "data": {
      "text/plain": [
       "Cres    802963\n",
       "Name: street_designation, dtype: int64"
      ]
     },
     "execution_count": 104,
     "metadata": {},
     "output_type": "execute_result"
    }
   ],
   "source": [
    "data.loc[mask, 'street_designation'] = 'Cres'\n",
    "data.loc[mask, 'street_designation'].value_counts()"
   ]
  },
  {
   "cell_type": "markdown",
   "metadata": {},
   "source": [
    "#### Blvd and Boulevard"
   ]
  },
  {
   "cell_type": "code",
   "execution_count": 105,
   "metadata": {},
   "outputs": [
    {
     "data": {
      "text/plain": [
       "Blvd         305148\n",
       "Boulevard        50\n",
       "Name: street_designation, dtype: int64"
      ]
     },
     "execution_count": 105,
     "metadata": {},
     "output_type": "execute_result"
    }
   ],
   "source": [
    "mask = np.logical_or(\n",
    "                     data['street_designation'].str.match(pat='blv', case=False, na=False),\n",
    "                     data['street_designation'].str.match(pat='bou', case=False, na=False)\n",
    "                    )\n",
    "data.loc[mask, 'street_designation'].value_counts()"
   ]
  },
  {
   "cell_type": "markdown",
   "metadata": {},
   "source": [
    "#### Correction"
   ]
  },
  {
   "cell_type": "code",
   "execution_count": 106,
   "metadata": {},
   "outputs": [
    {
     "data": {
      "text/plain": [
       "Blvd    305198\n",
       "Name: street_designation, dtype: int64"
      ]
     },
     "execution_count": 106,
     "metadata": {},
     "output_type": "execute_result"
    }
   ],
   "source": [
    "data.loc[mask, 'street_designation'] = 'Blvd'\n",
    "data.loc[mask, 'street_designation'].value_counts()"
   ]
  },
  {
   "cell_type": "markdown",
   "metadata": {},
   "source": [
    "#### Pky, Pkwy and Parkway"
   ]
  },
  {
   "cell_type": "code",
   "execution_count": 107,
   "metadata": {},
   "outputs": [
    {
     "name": "stdout",
     "output_type": "stream",
     "text": [
      "Total 22548 entries.\n"
     ]
    },
    {
     "data": {
      "text/plain": [
       "Pky        22525\n",
       "Pkwy          12\n",
       "Parkway       11\n",
       "Name: street_designation, dtype: int64"
      ]
     },
     "execution_count": 107,
     "metadata": {},
     "output_type": "execute_result"
    }
   ],
   "source": [
    "filter_list = ['Pky', 'Pkwy', 'Parkway']\n",
    "mask = data['street_designation'].isin(filter_list)\n",
    "print(f'Total {len(data[mask])} entries.')\n",
    "data.loc[mask, 'street_designation'].value_counts()"
   ]
  },
  {
   "cell_type": "markdown",
   "metadata": {},
   "source": [
    "#### Correction"
   ]
  },
  {
   "cell_type": "code",
   "execution_count": 108,
   "metadata": {},
   "outputs": [
    {
     "data": {
      "text/plain": [
       "Parkway    22548\n",
       "Name: street_designation, dtype: int64"
      ]
     },
     "execution_count": 108,
     "metadata": {},
     "output_type": "execute_result"
    }
   ],
   "source": [
    "data.loc[mask, 'street_designation'] = 'Parkway'\n",
    "data.loc[mask, 'street_designation'].value_counts()"
   ]
  },
  {
   "cell_type": "markdown",
   "metadata": {},
   "source": [
    "#### Pk, Park and Parc"
   ]
  },
  {
   "cell_type": "code",
   "execution_count": 109,
   "metadata": {},
   "outputs": [
    {
     "name": "stdout",
     "output_type": "stream",
     "text": [
      "Total 1846 entries.\n"
     ]
    },
    {
     "data": {
      "text/plain": [
       "Pk      1834\n",
       "Park       8\n",
       "Parc       4\n",
       "Name: street_designation, dtype: int64"
      ]
     },
     "execution_count": 109,
     "metadata": {},
     "output_type": "execute_result"
    }
   ],
   "source": [
    "filter_list = ['Pk', 'Park', 'Parc']\n",
    "mask = data['street_designation'].isin(filter_list)\n",
    "print(f'Total {len(data[mask])} entries.')\n",
    "data.loc[mask, 'street_designation'].value_counts()"
   ]
  },
  {
   "cell_type": "markdown",
   "metadata": {},
   "source": [
    "#### Correction"
   ]
  },
  {
   "cell_type": "code",
   "execution_count": 110,
   "metadata": {},
   "outputs": [
    {
     "data": {
      "text/plain": [
       "Park    1846\n",
       "Name: street_designation, dtype: int64"
      ]
     },
     "execution_count": 110,
     "metadata": {},
     "output_type": "execute_result"
    }
   ],
   "source": [
    "data.loc[mask, 'street_designation'] = 'Park'\n",
    "data.loc[mask, 'street_designation'].value_counts()"
   ]
  },
  {
   "cell_type": "markdown",
   "metadata": {},
   "source": [
    "#### Trail and Trl"
   ]
  },
  {
   "cell_type": "code",
   "execution_count": 111,
   "metadata": {},
   "outputs": [
    {
     "data": {
      "text/plain": [
       "Trail    80606\n",
       "Trl          4\n",
       "Name: street_designation, dtype: int64"
      ]
     },
     "execution_count": 111,
     "metadata": {},
     "output_type": "execute_result"
    }
   ],
   "source": [
    "mask = data['street_designation'].str.match(pat='tr', case=False, na=False)\n",
    "data.loc[mask, 'street_designation'].value_counts()"
   ]
  },
  {
   "cell_type": "markdown",
   "metadata": {},
   "source": [
    "#### Correction"
   ]
  },
  {
   "cell_type": "code",
   "execution_count": 112,
   "metadata": {},
   "outputs": [
    {
     "data": {
      "text/plain": [
       "Trail    80610\n",
       "Name: street_designation, dtype: int64"
      ]
     },
     "execution_count": 112,
     "metadata": {},
     "output_type": "execute_result"
    }
   ],
   "source": [
    "data.loc[mask, 'street_designation'] = 'Trail'\n",
    "data.loc[mask, 'street_designation'].value_counts()"
   ]
  },
  {
   "cell_type": "markdown",
   "metadata": {},
   "source": [
    "#### Sq and Square"
   ]
  },
  {
   "cell_type": "code",
   "execution_count": 113,
   "metadata": {},
   "outputs": [
    {
     "data": {
      "text/plain": [
       "Sq        44122\n",
       "Square        2\n",
       "Name: street_designation, dtype: int64"
      ]
     },
     "execution_count": 113,
     "metadata": {},
     "output_type": "execute_result"
    }
   ],
   "source": [
    "mask = data['street_designation'].str.match(pat='sq', case=False, na=False)\n",
    "data.loc[mask, 'street_designation'].value_counts()"
   ]
  },
  {
   "cell_type": "markdown",
   "metadata": {},
   "source": [
    "#### Correction"
   ]
  },
  {
   "cell_type": "code",
   "execution_count": 114,
   "metadata": {},
   "outputs": [
    {
     "data": {
      "text/plain": [
       "Square    44124\n",
       "Name: street_designation, dtype: int64"
      ]
     },
     "execution_count": 114,
     "metadata": {},
     "output_type": "execute_result"
    }
   ],
   "source": [
    "data.loc[mask, 'street_designation'] = 'Square'\n",
    "data.loc[mask, 'street_designation'].value_counts()"
   ]
  },
  {
   "cell_type": "markdown",
   "metadata": {},
   "source": [
    "#### Terr and Terrace"
   ]
  },
  {
   "cell_type": "code",
   "execution_count": 115,
   "metadata": {},
   "outputs": [
    {
     "data": {
      "text/plain": [
       "Terr       32170\n",
       "Terrace       36\n",
       "Name: street_designation, dtype: int64"
      ]
     },
     "execution_count": 115,
     "metadata": {},
     "output_type": "execute_result"
    }
   ],
   "source": [
    "mask = data['street_designation'].str.match(pat='te', case=False, na=False)\n",
    "data.loc[mask, 'street_designation'].value_counts()"
   ]
  },
  {
   "cell_type": "markdown",
   "metadata": {},
   "source": [
    "#### Correction"
   ]
  },
  {
   "cell_type": "code",
   "execution_count": 116,
   "metadata": {},
   "outputs": [
    {
     "data": {
      "text/plain": [
       "Terrace    32206\n",
       "Name: street_designation, dtype: int64"
      ]
     },
     "execution_count": 116,
     "metadata": {},
     "output_type": "execute_result"
    }
   ],
   "source": [
    "data.loc[mask, 'street_designation'] = 'Terrace'\n",
    "data.loc[mask, 'street_designation'].value_counts()"
   ]
  },
  {
   "cell_type": "markdown",
   "metadata": {},
   "source": [
    "#### Value counts for `'street_designation'`"
   ]
  },
  {
   "cell_type": "code",
   "execution_count": 117,
   "metadata": {},
   "outputs": [
    {
     "data": {
      "text/plain": [
       "St          1302244\n",
       "Dr          1258884\n",
       "Ave         1177041\n",
       "Rd          1018455\n",
       "Cres         802963\n",
       "Crt          345141\n",
       "Blvd         305198\n",
       "Way          136951\n",
       "Pl           131466\n",
       "Lane         123051\n",
       "Cir          117545\n",
       "Trail         80610\n",
       "Line          45106\n",
       "Square        44124\n",
       "Terrace       32206\n",
       "Gate          24876\n",
       "Parkway       22548\n",
       "Quay          18529\n",
       "Mews          11913\n",
       "Gdns          11769\n",
       "Hwy            9427\n",
       "Grove          8911\n",
       "Hts            7368\n",
       "Espl           6560\n",
       "Sideroad       5990\n",
       "Conc           4858\n",
       "Path           4108\n",
       "Ptway          3405\n",
       "Ridge          3139\n",
       "Side rd        3100\n",
       "             ...   \n",
       "Circle           22\n",
       "Plaza            20\n",
       "Dell             19\n",
       "Farm             19\n",
       "Pines            19\n",
       "Thick            18\n",
       "Estate           15\n",
       "Ct               13\n",
       "First            13\n",
       "Ctr              12\n",
       "Wynd             11\n",
       "18               11\n",
       "Lac              11\n",
       "Abbey            11\n",
       "Orch              8\n",
       "Key               7\n",
       "Townline          6\n",
       "Ch                5\n",
       "Exten             5\n",
       "N                 5\n",
       "48                4\n",
       "Abe               4\n",
       "Linkway           3\n",
       "Wharf             3\n",
       "Cote              3\n",
       "De                2\n",
       "Landing           2\n",
       "Round             2\n",
       "Hghlds            2\n",
       "Baseline          1\n",
       "Name: street_designation, Length: 122, dtype: int64"
      ]
     },
     "execution_count": 117,
     "metadata": {},
     "output_type": "execute_result"
    }
   ],
   "source": [
    "data['street_designation'].value_counts()"
   ]
  },
  {
   "cell_type": "markdown",
   "metadata": {},
   "source": [
    "Most common inconsistencies have been fixed in `'street_designation'`, but **some more might be present in the dataset,** since this presents a time-intensive task. More fixes can be made at a later stage, if the need arises."
   ]
  },
  {
   "cell_type": "markdown",
   "metadata": {},
   "source": [
    "<a id='street_direction'></a>\n",
    "### 1.8.10 Consistency of entries in the column `'street_direction'`\n",
    "\n",
    "Back to the [top](#top) / [table of contents](#contents)\n",
    "\n",
    "\n",
    "Back to [step 1.8](#inconsistent_entries)\n",
    "\n",
    "* Some inconsistencies have been found in the column `'street_direction'`, such as values 'N' and 'NORTH'.\n",
    "* All inconsistencies have been fixed in this step.\n",
    "* There are 674'995 non-null (8%) of the total 8'226'103 entries.\n",
    "\n",
    "#### Initial values\n",
    "\n",
    "Value counts are displayed for column `'street_direction'` to check for consistency of entries."
   ]
  },
  {
   "cell_type": "code",
   "execution_count": 118,
   "metadata": {},
   "outputs": [
    {
     "data": {
      "text/plain": [
       "W        276487\n",
       "E        218865\n",
       "N        100935\n",
       "S         78467\n",
       "WEST        116\n",
       "SW           44\n",
       "SE           43\n",
       "NE           19\n",
       "SOUTH         8\n",
       "NORTH         6\n",
       "R             2\n",
       "ES            2\n",
       "?             1\n",
       "Name: street_direction, dtype: int64"
      ]
     },
     "execution_count": 118,
     "metadata": {},
     "output_type": "execute_result"
    }
   ],
   "source": [
    "data.street_direction.value_counts()"
   ]
  },
  {
   "cell_type": "markdown",
   "metadata": {},
   "source": [
    "* 'WEST' needs to be converted to 'W'\n",
    "\n",
    "* 'SOUTH' needs to be converted to 'S'\n",
    "\n",
    "* 'NORTH' needs to be converted to 'N'\n",
    "\n",
    "* 'ES' needs to be converted to 'SE'\n",
    "\n",
    "* 'R' needs to be converted to NaN\n",
    "\n",
    "* '?' needs to be converted to NaN\n",
    "\n",
    "#### Correcting inconsistent entries in `'street_direction'`"
   ]
  },
  {
   "cell_type": "code",
   "execution_count": 119,
   "metadata": {},
   "outputs": [
    {
     "name": "stdout",
     "output_type": "stream",
     "text": [
      "Entries in 'street_direction' corrected successfully!\n"
     ]
    }
   ],
   "source": [
    "# correcting entries for consistency in 'street_direction'\n",
    "mask = data['street_direction'] == 'WEST'\n",
    "data['street_direction'] = np.where(mask, 'W', data['street_direction'])\n",
    "\n",
    "mask = data['street_direction'] == 'SOUTH'\n",
    "data['street_direction'] = np.where(mask, 'S', data['street_direction'])\n",
    "\n",
    "mask = data['street_direction'] == 'NORTH'\n",
    "data['street_direction'] = np.where(mask, 'N', data['street_direction'])\n",
    "\n",
    "mask = data['street_direction'] == 'ES'\n",
    "data['street_direction'] = np.where(mask, 'SE', data['street_direction'])\n",
    "\n",
    "mask = np.logical_or(data['street_direction'] == '?', data['street_direction'] == 'R')\n",
    "data['street_direction'] = np.where(mask, np.nan, data['street_direction'])\n",
    "\n",
    "print(\"Entries in 'street_direction' corrected successfully!\")"
   ]
  },
  {
   "cell_type": "markdown",
   "metadata": {},
   "source": [
    "#### Verification of results"
   ]
  },
  {
   "cell_type": "code",
   "execution_count": 120,
   "metadata": {},
   "outputs": [
    {
     "data": {
      "text/plain": [
       "W     276603\n",
       "E     218865\n",
       "N     100941\n",
       "S      78475\n",
       "SE        45\n",
       "SW        44\n",
       "NE        19\n",
       "Name: street_direction, dtype: int64"
      ]
     },
     "execution_count": 120,
     "metadata": {},
     "output_type": "execute_result"
    }
   ],
   "source": [
    "data.street_direction.value_counts()"
   ]
  },
  {
   "cell_type": "markdown",
   "metadata": {},
   "source": [
    "All entries in `'street_direction'` are now consistent."
   ]
  },
  {
   "cell_type": "markdown",
   "metadata": {},
   "source": [
    "<a id='municipality'></a>\n",
    "### 1.8.11 Inconsistent values in the column `'municipality'`\n",
    "\n",
    "Back to the [top](#top) / [table of contents](#contents)\n",
    "\n",
    "\n",
    "Back to [step 1.8](#inconsistent_entries)\n",
    "\n",
    "* Inconsistent entries have been found in the column `'municipality'`, such as 'North York' and 'North York/Toronto'.\n",
    "* All inconsistencies have been fixed in this step.\n",
    "* There are 8'196'113 non-null (almost 100%) of the total 8'226'103 entries."
   ]
  },
  {
   "cell_type": "markdown",
   "metadata": {},
   "source": [
    "### Fixing inconsistent entries in `'municipality'`\n",
    "\n",
    "#### Amaranth"
   ]
  },
  {
   "cell_type": "code",
   "execution_count": 121,
   "metadata": {
    "scrolled": false
   },
   "outputs": [
    {
     "name": "stdout",
     "output_type": "stream",
     "text": [
      "Total 4403 entries.\n"
     ]
    },
    {
     "data": {
      "text/plain": [
       "Amaranth             2437\n",
       "Amaranth Township    1963\n",
       "Town Of Amaranth        3\n",
       "Name: municipality, dtype: int64"
      ]
     },
     "execution_count": 121,
     "metadata": {},
     "output_type": "execute_result"
    }
   ],
   "source": [
    "mask = data['municipality'].str.contains(pat='amaran', case=False, na=False)\n",
    "print(f'Total {len(data[mask])} entries.')\n",
    "data.loc[mask, 'municipality'].value_counts()"
   ]
  },
  {
   "cell_type": "markdown",
   "metadata": {},
   "source": [
    "Correcting:"
   ]
  },
  {
   "cell_type": "code",
   "execution_count": 122,
   "metadata": {},
   "outputs": [
    {
     "data": {
      "text/plain": [
       "Amaranth    4403\n",
       "Name: municipality, dtype: int64"
      ]
     },
     "execution_count": 122,
     "metadata": {},
     "output_type": "execute_result"
    }
   ],
   "source": [
    "data['municipality'] = np.where(mask, 'Amaranth', data['municipality'])\n",
    "data.loc[mask, 'municipality'].value_counts()"
   ]
  },
  {
   "cell_type": "markdown",
   "metadata": {},
   "source": [
    "#### Barrie"
   ]
  },
  {
   "cell_type": "code",
   "execution_count": 123,
   "metadata": {
    "scrolled": false
   },
   "outputs": [
    {
     "name": "stdout",
     "output_type": "stream",
     "text": [
      "Total 151727 entries.\n"
     ]
    },
    {
     "data": {
      "text/plain": [
       "Barrie             151724\n",
       "Barrie/Innisfil         3\n",
       "Name: municipality, dtype: int64"
      ]
     },
     "execution_count": 123,
     "metadata": {},
     "output_type": "execute_result"
    }
   ],
   "source": [
    "mask = data['municipality'].str.match(pat='bar', case=False, na=False)\n",
    "print(f'Total {len(data[mask])} entries.')\n",
    "data.loc[mask, 'municipality'].value_counts()"
   ]
  },
  {
   "cell_type": "markdown",
   "metadata": {},
   "source": [
    "Correcting:"
   ]
  },
  {
   "cell_type": "code",
   "execution_count": 124,
   "metadata": {},
   "outputs": [
    {
     "data": {
      "text/plain": [
       "Barrie    151727\n",
       "Name: municipality, dtype: int64"
      ]
     },
     "execution_count": 124,
     "metadata": {},
     "output_type": "execute_result"
    }
   ],
   "source": [
    "data['municipality'] = np.where(mask, 'Barrie', data['municipality'])\n",
    "data.loc[mask, 'municipality'].value_counts()"
   ]
  },
  {
   "cell_type": "markdown",
   "metadata": {},
   "source": [
    "#### Brantford"
   ]
  },
  {
   "cell_type": "code",
   "execution_count": 125,
   "metadata": {
    "scrolled": false
   },
   "outputs": [
    {
     "name": "stdout",
     "output_type": "stream",
     "text": [
      "Total 85981 entries.\n"
     ]
    },
    {
     "data": {
      "text/plain": [
       "Brantford         85610\n",
       "Brantford City      371\n",
       "Name: municipality, dtype: int64"
      ]
     },
     "execution_count": 125,
     "metadata": {},
     "output_type": "execute_result"
    }
   ],
   "source": [
    "mask = data['municipality'].str.match(pat='brantf', case=False, na=False)\n",
    "print(f'Total {len(data[mask])} entries.')\n",
    "data.loc[mask, 'municipality'].value_counts()"
   ]
  },
  {
   "cell_type": "markdown",
   "metadata": {},
   "source": [
    "Correcting:"
   ]
  },
  {
   "cell_type": "code",
   "execution_count": 126,
   "metadata": {},
   "outputs": [
    {
     "data": {
      "text/plain": [
       "Brantford    85981\n",
       "Name: municipality, dtype: int64"
      ]
     },
     "execution_count": 126,
     "metadata": {},
     "output_type": "execute_result"
    }
   ],
   "source": [
    "data['municipality'] = np.where(mask, 'Brantford', data['municipality'])\n",
    "data.loc[mask, 'municipality'].value_counts()"
   ]
  },
  {
   "cell_type": "markdown",
   "metadata": {},
   "source": [
    "#### Bradford - West Gwillimbury"
   ]
  },
  {
   "cell_type": "code",
   "execution_count": 127,
   "metadata": {
    "scrolled": false
   },
   "outputs": [
    {
     "name": "stdout",
     "output_type": "stream",
     "text": [
      "Total 29222 entries.\n"
     ]
    },
    {
     "data": {
      "text/plain": [
       "Bradford West Gwillimbury    16025\n",
       "Bradford                     12543\n",
       "Bradford-Wgw                   610\n",
       "West Gwillimbury                44\n",
       "Name: municipality, dtype: int64"
      ]
     },
     "execution_count": 127,
     "metadata": {},
     "output_type": "execute_result"
    }
   ],
   "source": [
    "mask = np.logical_or(\n",
    "                      data['municipality'].str.match(pat='brad', case=False, na=False),\n",
    "                      data['municipality'].str.contains(pat='west gwi', case=False, na=False)\n",
    "                     )\n",
    "print(f'Total {len(data[mask])} entries.')\n",
    "data.loc[mask, 'municipality'].value_counts()"
   ]
  },
  {
   "cell_type": "markdown",
   "metadata": {},
   "source": [
    "Correcting:"
   ]
  },
  {
   "cell_type": "code",
   "execution_count": 128,
   "metadata": {},
   "outputs": [
    {
     "data": {
      "text/plain": [
       "Bradford - West Gwillimbury    29222\n",
       "Name: municipality, dtype: int64"
      ]
     },
     "execution_count": 128,
     "metadata": {},
     "output_type": "execute_result"
    }
   ],
   "source": [
    "data['municipality'] = np.where(mask, 'Bradford - West Gwillimbury', data['municipality'])\n",
    "data.loc[mask, 'municipality'].value_counts()"
   ]
  },
  {
   "cell_type": "markdown",
   "metadata": {},
   "source": [
    "#### Blue mountains"
   ]
  },
  {
   "cell_type": "code",
   "execution_count": 129,
   "metadata": {
    "scrolled": false
   },
   "outputs": [
    {
     "name": "stdout",
     "output_type": "stream",
     "text": [
      "Total 12111 entries.\n"
     ]
    },
    {
     "data": {
      "text/plain": [
       "Blue Mountains            4613\n",
       "Town Of Blue Mountains    4160\n",
       "The Blue Mountains        3338\n",
       "Name: municipality, dtype: int64"
      ]
     },
     "execution_count": 129,
     "metadata": {},
     "output_type": "execute_result"
    }
   ],
   "source": [
    "mask = data['municipality'].str.contains(pat='blue', case=False, na=False)\n",
    "print(f'Total {len(data[mask])} entries.')\n",
    "data.loc[mask, 'municipality'].value_counts()"
   ]
  },
  {
   "cell_type": "markdown",
   "metadata": {},
   "source": [
    "Correcting:"
   ]
  },
  {
   "cell_type": "code",
   "execution_count": 130,
   "metadata": {},
   "outputs": [
    {
     "data": {
      "text/plain": [
       "Blue Mountains    12111\n",
       "Name: municipality, dtype: int64"
      ]
     },
     "execution_count": 130,
     "metadata": {},
     "output_type": "execute_result"
    }
   ],
   "source": [
    "data['municipality'] = np.where(mask, 'Blue Mountains', data['municipality'])\n",
    "data.loc[mask, 'municipality'].value_counts()"
   ]
  },
  {
   "cell_type": "markdown",
   "metadata": {},
   "source": [
    "#### Burleigh"
   ]
  },
  {
   "cell_type": "code",
   "execution_count": 131,
   "metadata": {
    "scrolled": false
   },
   "outputs": [
    {
     "name": "stdout",
     "output_type": "stream",
     "text": [
      "Total 1052 entries.\n"
     ]
    },
    {
     "data": {
      "text/plain": [
       "Burleigh          615\n",
       "Burleigh Falls    437\n",
       "Name: municipality, dtype: int64"
      ]
     },
     "execution_count": 131,
     "metadata": {},
     "output_type": "execute_result"
    }
   ],
   "source": [
    "mask = data['municipality'].str.match(pat='burlei', case=False, na=False)\n",
    "print(f'Total {len(data[mask])} entries.')\n",
    "data.loc[mask, 'municipality'].value_counts()"
   ]
  },
  {
   "cell_type": "markdown",
   "metadata": {},
   "source": [
    "Correcting:"
   ]
  },
  {
   "cell_type": "code",
   "execution_count": 132,
   "metadata": {},
   "outputs": [
    {
     "data": {
      "text/plain": [
       "Burleigh    1052\n",
       "Name: municipality, dtype: int64"
      ]
     },
     "execution_count": 132,
     "metadata": {},
     "output_type": "execute_result"
    }
   ],
   "source": [
    "data['municipality'] = np.where(mask, 'Burleigh', data['municipality'])\n",
    "data.loc[mask, 'municipality'].value_counts()"
   ]
  },
  {
   "cell_type": "markdown",
   "metadata": {},
   "source": [
    "#### Douro-dummer"
   ]
  },
  {
   "cell_type": "code",
   "execution_count": 133,
   "metadata": {
    "scrolled": false
   },
   "outputs": [
    {
     "name": "stdout",
     "output_type": "stream",
     "text": [
      "Total 6189 entries.\n"
     ]
    },
    {
     "data": {
      "text/plain": [
       "Township Of Douro-Dummer    2594\n",
       "Douro-Dummer                1957\n",
       "Douro                       1633\n",
       "Douro-Dummer Township          3\n",
       "Lakefield/Douro                2\n",
       "Name: municipality, dtype: int64"
      ]
     },
     "execution_count": 133,
     "metadata": {},
     "output_type": "execute_result"
    }
   ],
   "source": [
    "mask = data['municipality'].str.contains(pat='dour', case=False, na=False)\n",
    "print(f'Total {len(data[mask])} entries.')\n",
    "data.loc[mask, 'municipality'].value_counts()"
   ]
  },
  {
   "cell_type": "markdown",
   "metadata": {},
   "source": [
    "Correcting:"
   ]
  },
  {
   "cell_type": "code",
   "execution_count": 134,
   "metadata": {},
   "outputs": [
    {
     "data": {
      "text/plain": [
       "Douro-Dummer    6189\n",
       "Name: municipality, dtype: int64"
      ]
     },
     "execution_count": 134,
     "metadata": {},
     "output_type": "execute_result"
    }
   ],
   "source": [
    "data['municipality'] = np.where(mask, 'Douro-Dummer', data['municipality'])\n",
    "data.loc[mask, 'municipality'].value_counts()"
   ]
  },
  {
   "cell_type": "markdown",
   "metadata": {},
   "source": [
    "#### Durham"
   ]
  },
  {
   "cell_type": "code",
   "execution_count": 135,
   "metadata": {
    "scrolled": false
   },
   "outputs": [
    {
     "name": "stdout",
     "output_type": "stream",
     "text": [
      "Total 1823 entries.\n"
     ]
    },
    {
     "data": {
      "text/plain": [
       "Durham       1821\n",
       "Durham On       2\n",
       "Name: municipality, dtype: int64"
      ]
     },
     "execution_count": 135,
     "metadata": {},
     "output_type": "execute_result"
    }
   ],
   "source": [
    "mask = data['municipality'].str.contains(pat='dur', case=False, na=False)\n",
    "print(f'Total {len(data[mask])} entries.')\n",
    "data.loc[mask, 'municipality'].value_counts()"
   ]
  },
  {
   "cell_type": "markdown",
   "metadata": {},
   "source": [
    "Correcting:"
   ]
  },
  {
   "cell_type": "code",
   "execution_count": 136,
   "metadata": {},
   "outputs": [
    {
     "data": {
      "text/plain": [
       "Durham    1823\n",
       "Name: municipality, dtype: int64"
      ]
     },
     "execution_count": 136,
     "metadata": {},
     "output_type": "execute_result"
    }
   ],
   "source": [
    "data['municipality'] = np.where(mask, 'Durham', data['municipality'])\n",
    "data.loc[mask, 'municipality'].value_counts()"
   ]
  },
  {
   "cell_type": "markdown",
   "metadata": {},
   "source": [
    "#### East Luther - Grand Valley"
   ]
  },
  {
   "cell_type": "code",
   "execution_count": 137,
   "metadata": {
    "scrolled": false
   },
   "outputs": [
    {
     "name": "stdout",
     "output_type": "stream",
     "text": [
      "Total 2144 entries.\n"
     ]
    },
    {
     "data": {
      "text/plain": [
       "East Luther Grand Valley Township    1121\n",
       "East Luther Grand Valley              912\n",
       "East Luther                           109\n",
       "East Luther/Grand Valley                2\n",
       "Name: municipality, dtype: int64"
      ]
     },
     "execution_count": 137,
     "metadata": {},
     "output_type": "execute_result"
    }
   ],
   "source": [
    "mask = data['municipality'].str.contains(pat='east l', case=False, na=False)\n",
    "print(f'Total {len(data[mask])} entries.')\n",
    "data.loc[mask, 'municipality'].value_counts()"
   ]
  },
  {
   "cell_type": "markdown",
   "metadata": {},
   "source": [
    "Correcting:"
   ]
  },
  {
   "cell_type": "code",
   "execution_count": 138,
   "metadata": {},
   "outputs": [
    {
     "data": {
      "text/plain": [
       "East Luther - Grand Valley    2144\n",
       "Name: municipality, dtype: int64"
      ]
     },
     "execution_count": 138,
     "metadata": {},
     "output_type": "execute_result"
    }
   ],
   "source": [
    "data['municipality'] = np.where(mask, 'East Luther - Grand Valley', data['municipality'])\n",
    "data.loc[mask, 'municipality'].value_counts()"
   ]
  },
  {
   "cell_type": "markdown",
   "metadata": {},
   "source": [
    "#### East Garafraxa"
   ]
  },
  {
   "cell_type": "code",
   "execution_count": 139,
   "metadata": {
    "scrolled": false
   },
   "outputs": [
    {
     "name": "stdout",
     "output_type": "stream",
     "text": [
      "Total 2866 entries.\n"
     ]
    },
    {
     "data": {
      "text/plain": [
       "East Garafraxa             1744\n",
       "East Garafraxa Township    1122\n",
       "Name: municipality, dtype: int64"
      ]
     },
     "execution_count": 139,
     "metadata": {},
     "output_type": "execute_result"
    }
   ],
   "source": [
    "mask = data['municipality'].str.contains(pat='east gar', case=False, na=False)\n",
    "print(f'Total {len(data[mask])} entries.')\n",
    "data.loc[mask, 'municipality'].value_counts()"
   ]
  },
  {
   "cell_type": "markdown",
   "metadata": {},
   "source": [
    "Correcting:"
   ]
  },
  {
   "cell_type": "code",
   "execution_count": 140,
   "metadata": {},
   "outputs": [
    {
     "data": {
      "text/plain": [
       "East Garafraxa    2866\n",
       "Name: municipality, dtype: int64"
      ]
     },
     "execution_count": 140,
     "metadata": {},
     "output_type": "execute_result"
    }
   ],
   "source": [
    "data['municipality'] = np.where(mask, 'East Garafraxa', data['municipality'])\n",
    "data.loc[mask, 'municipality'].value_counts()"
   ]
  },
  {
   "cell_type": "markdown",
   "metadata": {},
   "source": [
    "#### Galway-Cavendish and Harvey"
   ]
  },
  {
   "cell_type": "code",
   "execution_count": 141,
   "metadata": {
    "scrolled": false
   },
   "outputs": [
    {
     "name": "stdout",
     "output_type": "stream",
     "text": [
      "Total 6453 entries.\n"
     ]
    },
    {
     "data": {
      "text/plain": [
       "Township Of Galway-Cavendish And Harvey    3938\n",
       "Galway-Cavendish And Harvey                1877\n",
       "Galway                                      513\n",
       "Gal-Cav And Har                             121\n",
       "Galway-Cavendish And Harvey Township          4\n",
       "Name: municipality, dtype: int64"
      ]
     },
     "execution_count": 141,
     "metadata": {},
     "output_type": "execute_result"
    }
   ],
   "source": [
    "mask = data['municipality'].str.contains(pat='gal', case=False, na=False)\n",
    "print(f'Total {len(data[mask])} entries.')\n",
    "data.loc[mask, 'municipality'].value_counts()"
   ]
  },
  {
   "cell_type": "markdown",
   "metadata": {},
   "source": [
    "Correcting:"
   ]
  },
  {
   "cell_type": "code",
   "execution_count": 142,
   "metadata": {},
   "outputs": [
    {
     "data": {
      "text/plain": [
       "Galway-Cavendish And Harvey    6453\n",
       "Name: municipality, dtype: int64"
      ]
     },
     "execution_count": 142,
     "metadata": {},
     "output_type": "execute_result"
    }
   ],
   "source": [
    "data['municipality'] = np.where(mask, 'Galway-Cavendish And Harvey', data['municipality'])\n",
    "data.loc[mask, 'municipality'].value_counts()"
   ]
  },
  {
   "cell_type": "markdown",
   "metadata": {},
   "source": [
    "#### Georgian Bluffs"
   ]
  },
  {
   "cell_type": "code",
   "execution_count": 143,
   "metadata": {
    "scrolled": false
   },
   "outputs": [
    {
     "name": "stdout",
     "output_type": "stream",
     "text": [
      "Total 9280 entries.\n"
     ]
    },
    {
     "data": {
      "text/plain": [
       "Georgian Bluffs Township    5776\n",
       "Georgian Bluffs             3504\n",
       "Name: municipality, dtype: int64"
      ]
     },
     "execution_count": 143,
     "metadata": {},
     "output_type": "execute_result"
    }
   ],
   "source": [
    "mask = data['municipality'].str.match(pat='georgian b', case=False, na=False)\n",
    "print(f'Total {len(data[mask])} entries.')\n",
    "data.loc[mask, 'municipality'].value_counts()"
   ]
  },
  {
   "cell_type": "markdown",
   "metadata": {},
   "source": [
    "Correcting:"
   ]
  },
  {
   "cell_type": "code",
   "execution_count": 144,
   "metadata": {},
   "outputs": [
    {
     "data": {
      "text/plain": [
       "Georgian Bluffs    9280\n",
       "Name: municipality, dtype: int64"
      ]
     },
     "execution_count": 144,
     "metadata": {},
     "output_type": "execute_result"
    }
   ],
   "source": [
    "data['municipality'] = np.where(mask, 'Georgian Bluffs', data['municipality'])\n",
    "data.loc[mask, 'municipality'].value_counts()"
   ]
  },
  {
   "cell_type": "markdown",
   "metadata": {},
   "source": [
    "#### Guelph"
   ]
  },
  {
   "cell_type": "code",
   "execution_count": 145,
   "metadata": {
    "scrolled": false
   },
   "outputs": [
    {
     "name": "stdout",
     "output_type": "stream",
     "text": [
      "Total 125186 entries.\n"
     ]
    },
    {
     "data": {
      "text/plain": [
       "Guelph            120277\n",
       "Guelph/Eramosa      4811\n",
       "Guelph-Eramosa        98\n",
       "Name: municipality, dtype: int64"
      ]
     },
     "execution_count": 145,
     "metadata": {},
     "output_type": "execute_result"
    }
   ],
   "source": [
    "mask = data['municipality'].str.match(pat='gu', case=False, na=False)\n",
    "print(f'Total {len(data[mask])} entries.')\n",
    "data.loc[mask, 'municipality'].value_counts()"
   ]
  },
  {
   "cell_type": "markdown",
   "metadata": {},
   "source": [
    "Correcting:"
   ]
  },
  {
   "cell_type": "code",
   "execution_count": 146,
   "metadata": {},
   "outputs": [
    {
     "data": {
      "text/plain": [
       "Guelph    125186\n",
       "Name: municipality, dtype: int64"
      ]
     },
     "execution_count": 146,
     "metadata": {},
     "output_type": "execute_result"
    }
   ],
   "source": [
    "data['municipality'] = np.where(mask, 'Guelph', data['municipality'])\n",
    "data.loc[mask, 'municipality'].value_counts()"
   ]
  },
  {
   "cell_type": "markdown",
   "metadata": {},
   "source": [
    "#### Haldimand"
   ]
  },
  {
   "cell_type": "code",
   "execution_count": 147,
   "metadata": {
    "scrolled": false
   },
   "outputs": [
    {
     "name": "stdout",
     "output_type": "stream",
     "text": [
      "Total 25137 entries.\n"
     ]
    },
    {
     "data": {
      "text/plain": [
       "Haldimand County    17230\n",
       "Haldimand            7907\n",
       "Name: municipality, dtype: int64"
      ]
     },
     "execution_count": 147,
     "metadata": {},
     "output_type": "execute_result"
    }
   ],
   "source": [
    "mask = data['municipality'].str.match(pat='hald', case=False, na=False)\n",
    "print(f'Total {len(data[mask])} entries.')\n",
    "data.loc[mask, 'municipality'].value_counts()"
   ]
  },
  {
   "cell_type": "markdown",
   "metadata": {},
   "source": [
    "Correcting:"
   ]
  },
  {
   "cell_type": "code",
   "execution_count": 148,
   "metadata": {},
   "outputs": [
    {
     "data": {
      "text/plain": [
       "Haldimand County    25137\n",
       "Name: municipality, dtype: int64"
      ]
     },
     "execution_count": 148,
     "metadata": {},
     "output_type": "execute_result"
    }
   ],
   "source": [
    "data['municipality'] = np.where(mask, 'Haldimand County', data['municipality'])\n",
    "data.loc[mask, 'municipality'].value_counts()"
   ]
  },
  {
   "cell_type": "markdown",
   "metadata": {},
   "source": [
    "#### Halton"
   ]
  },
  {
   "cell_type": "code",
   "execution_count": 149,
   "metadata": {
    "scrolled": false
   },
   "outputs": [
    {
     "name": "stdout",
     "output_type": "stream",
     "text": [
      "Total 50399 entries.\n"
     ]
    },
    {
     "data": {
      "text/plain": [
       "Halton Hills    50303\n",
       "Halton             93\n",
       "Halton Hill         3\n",
       "Name: municipality, dtype: int64"
      ]
     },
     "execution_count": 149,
     "metadata": {},
     "output_type": "execute_result"
    }
   ],
   "source": [
    "mask = data['municipality'].str.match(pat='halt', case=False, na=False)\n",
    "print(f'Total {len(data[mask])} entries.')\n",
    "data.loc[mask, 'municipality'].value_counts()"
   ]
  },
  {
   "cell_type": "markdown",
   "metadata": {},
   "source": [
    "Correcting:"
   ]
  },
  {
   "cell_type": "code",
   "execution_count": 150,
   "metadata": {},
   "outputs": [
    {
     "data": {
      "text/plain": [
       "Halton Hills    50399\n",
       "Name: municipality, dtype: int64"
      ]
     },
     "execution_count": 150,
     "metadata": {},
     "output_type": "execute_result"
    }
   ],
   "source": [
    "data['municipality'] = np.where(mask, 'Halton Hills', data['municipality'])\n",
    "data.loc[mask, 'municipality'].value_counts()"
   ]
  },
  {
   "cell_type": "markdown",
   "metadata": {},
   "source": [
    "#### Hamilton"
   ]
  },
  {
   "cell_type": "code",
   "execution_count": 151,
   "metadata": {
    "scrolled": false
   },
   "outputs": [
    {
     "name": "stdout",
     "output_type": "stream",
     "text": [
      "Total 385739 entries.\n"
     ]
    },
    {
     "data": {
      "text/plain": [
       "Hamilton         385737\n",
       "Hamilton City         2\n",
       "Name: municipality, dtype: int64"
      ]
     },
     "execution_count": 151,
     "metadata": {},
     "output_type": "execute_result"
    }
   ],
   "source": [
    "mask = data['municipality'].str.match(pat='hami', case=False, na=False)\n",
    "print(f'Total {len(data[mask])} entries.')\n",
    "data.loc[mask, 'municipality'].value_counts()"
   ]
  },
  {
   "cell_type": "markdown",
   "metadata": {},
   "source": [
    "Correcting:"
   ]
  },
  {
   "cell_type": "code",
   "execution_count": 152,
   "metadata": {},
   "outputs": [
    {
     "data": {
      "text/plain": [
       "Hamilton    385739\n",
       "Name: municipality, dtype: int64"
      ]
     },
     "execution_count": 152,
     "metadata": {},
     "output_type": "execute_result"
    }
   ],
   "source": [
    "data['municipality'] = np.where(mask, 'Hamilton', data['municipality'])\n",
    "data.loc[mask, 'municipality'].value_counts()"
   ]
  },
  {
   "cell_type": "markdown",
   "metadata": {},
   "source": [
    "#### King"
   ]
  },
  {
   "cell_type": "code",
   "execution_count": 153,
   "metadata": {
    "scrolled": false
   },
   "outputs": [
    {
     "name": "stdout",
     "output_type": "stream",
     "text": [
      "Total 19444 entries.\n"
     ]
    },
    {
     "data": {
      "text/plain": [
       "King             10203\n",
       "King City         6600\n",
       "King Township     2641\n",
       "Name: municipality, dtype: int64"
      ]
     },
     "execution_count": 153,
     "metadata": {},
     "output_type": "execute_result"
    }
   ],
   "source": [
    "mask = np.logical_or(\n",
    "                     data['municipality'].str.match(pat='king ', case=False, na=False),\n",
    "                     data['municipality'] == 'King'\n",
    "                    )\n",
    "print(f'Total {len(data[mask])} entries.')\n",
    "data.loc[mask, 'municipality'].value_counts()"
   ]
  },
  {
   "cell_type": "markdown",
   "metadata": {},
   "source": [
    "Correcting:"
   ]
  },
  {
   "cell_type": "code",
   "execution_count": 154,
   "metadata": {},
   "outputs": [
    {
     "data": {
      "text/plain": [
       "King    19444\n",
       "Name: municipality, dtype: int64"
      ]
     },
     "execution_count": 154,
     "metadata": {},
     "output_type": "execute_result"
    }
   ],
   "source": [
    "data['municipality'] = np.where(mask, 'King', data['municipality'])\n",
    "data.loc[mask, 'municipality'].value_counts()"
   ]
  },
  {
   "cell_type": "markdown",
   "metadata": {},
   "source": [
    "#### Melancthon"
   ]
  },
  {
   "cell_type": "code",
   "execution_count": 155,
   "metadata": {
    "scrolled": false
   },
   "outputs": [
    {
     "name": "stdout",
     "output_type": "stream",
     "text": [
      "Total 4747 entries.\n"
     ]
    },
    {
     "data": {
      "text/plain": [
       "Melancthon Township    2637\n",
       "Melancthon             2110\n",
       "Name: municipality, dtype: int64"
      ]
     },
     "execution_count": 155,
     "metadata": {},
     "output_type": "execute_result"
    }
   ],
   "source": [
    "mask = data['municipality'].str.match(pat='mela', case=False, na=False)\n",
    "print(f'Total {len(data[mask])} entries.')\n",
    "data.loc[mask, 'municipality'].value_counts()"
   ]
  },
  {
   "cell_type": "markdown",
   "metadata": {},
   "source": [
    "Correcting:"
   ]
  },
  {
   "cell_type": "code",
   "execution_count": 156,
   "metadata": {},
   "outputs": [
    {
     "data": {
      "text/plain": [
       "Melancthon    4747\n",
       "Name: municipality, dtype: int64"
      ]
     },
     "execution_count": 156,
     "metadata": {},
     "output_type": "execute_result"
    }
   ],
   "source": [
    "data['municipality'] = np.where(mask, 'Melancthon', data['municipality'])\n",
    "data.loc[mask, 'municipality'].value_counts()"
   ]
  },
  {
   "cell_type": "markdown",
   "metadata": {},
   "source": [
    "#### Mississauga"
   ]
  },
  {
   "cell_type": "code",
   "execution_count": 157,
   "metadata": {
    "scrolled": false
   },
   "outputs": [
    {
     "name": "stdout",
     "output_type": "stream",
     "text": [
      "Total 630237 entries.\n"
     ]
    },
    {
     "data": {
      "text/plain": [
       "Mississauga     630235\n",
       "Mississsauga         2\n",
       "Name: municipality, dtype: int64"
      ]
     },
     "execution_count": 157,
     "metadata": {},
     "output_type": "execute_result"
    }
   ],
   "source": [
    "mask = np.logical_or(\n",
    "                     data['municipality'] == 'Mississauga',\n",
    "                     data['municipality'] == 'Mississsauga'\n",
    "                    )\n",
    "print(f'Total {len(data[mask])} entries.')\n",
    "data.loc[mask, 'municipality'].value_counts()"
   ]
  },
  {
   "cell_type": "markdown",
   "metadata": {},
   "source": [
    "Correcting:"
   ]
  },
  {
   "cell_type": "code",
   "execution_count": 158,
   "metadata": {},
   "outputs": [
    {
     "data": {
      "text/plain": [
       "Mississauga    630237\n",
       "Name: municipality, dtype: int64"
      ]
     },
     "execution_count": 158,
     "metadata": {},
     "output_type": "execute_result"
    }
   ],
   "source": [
    "data['municipality'] = np.where(mask, 'Mississauga', data['municipality'])\n",
    "data.loc[mask, 'municipality'].value_counts()"
   ]
  },
  {
   "cell_type": "markdown",
   "metadata": {},
   "source": [
    "#### Monaghan (Otonabee-South)"
   ]
  },
  {
   "cell_type": "code",
   "execution_count": 159,
   "metadata": {
    "scrolled": false
   },
   "outputs": [
    {
     "name": "stdout",
     "output_type": "stream",
     "text": [
      "Total 3672 entries.\n"
     ]
    },
    {
     "data": {
      "text/plain": [
       "Otonabee-South Monaghan                2029\n",
       "Township Of Otonabee-South Monaghan    1376\n",
       "South Monaghan                          265\n",
       "S Monaghan                                1\n",
       "Otonabee-South Monaghan Township          1\n",
       "Name: municipality, dtype: int64"
      ]
     },
     "execution_count": 159,
     "metadata": {},
     "output_type": "execute_result"
    }
   ],
   "source": [
    "mask = np.logical_or(\n",
    "                     data['municipality'].str.contains(pat='south mona', case=False, na=False),\n",
    "                     data['municipality'].str.contains(pat='s mona', case=False, na=False),\n",
    "                     )\n",
    "print(f'Total {len(data[mask])} entries.')\n",
    "data.loc[mask, 'municipality'].value_counts()"
   ]
  },
  {
   "cell_type": "markdown",
   "metadata": {},
   "source": [
    "Correcting:"
   ]
  },
  {
   "cell_type": "code",
   "execution_count": 160,
   "metadata": {},
   "outputs": [
    {
     "data": {
      "text/plain": [
       "Otonabee - South Monaghan    3672\n",
       "Name: municipality, dtype: int64"
      ]
     },
     "execution_count": 160,
     "metadata": {},
     "output_type": "execute_result"
    }
   ],
   "source": [
    "data['municipality'] = np.where(mask, 'Otonabee - South Monaghan', data['municipality'])\n",
    "data.loc[mask, 'municipality'].value_counts()"
   ]
  },
  {
   "cell_type": "markdown",
   "metadata": {},
   "source": [
    "#### Monaghan (Cavan-North)"
   ]
  },
  {
   "cell_type": "code",
   "execution_count": 161,
   "metadata": {
    "scrolled": false
   },
   "outputs": [
    {
     "name": "stdout",
     "output_type": "stream",
     "text": [
      "Total 4646 entries.\n"
     ]
    },
    {
     "data": {
      "text/plain": [
       "Cavan-Monaghan                             2677\n",
       "Cavan-Millbrook-North Monaghan Township    1905\n",
       "Cavan Monaghan                               23\n",
       "North Monaghan                               20\n",
       "N Monaghan                                   20\n",
       "Monaghan                                      1\n",
       "Name: municipality, dtype: int64"
      ]
     },
     "execution_count": 161,
     "metadata": {},
     "output_type": "execute_result"
    }
   ],
   "source": [
    "mask = np.logical_and(\n",
    "                      data['municipality'].str.contains(pat='mona', case=False, na=False),\n",
    "                      data['municipality'] != 'Otonabee - South Monaghan'\n",
    "                     )\n",
    "print(f'Total {len(data[mask])} entries.')\n",
    "data.loc[mask, 'municipality'].value_counts()"
   ]
  },
  {
   "cell_type": "markdown",
   "metadata": {},
   "source": [
    "Correcting:"
   ]
  },
  {
   "cell_type": "code",
   "execution_count": 162,
   "metadata": {},
   "outputs": [
    {
     "data": {
      "text/plain": [
       "Cavan - North Monaghan    4646\n",
       "Name: municipality, dtype: int64"
      ]
     },
     "execution_count": 162,
     "metadata": {},
     "output_type": "execute_result"
    }
   ],
   "source": [
    "data['municipality'] = np.where(mask, 'Cavan - North Monaghan', data['municipality'])\n",
    "data.loc[mask, 'municipality'].value_counts()"
   ]
  },
  {
   "cell_type": "markdown",
   "metadata": {},
   "source": [
    "#### Mono"
   ]
  },
  {
   "cell_type": "code",
   "execution_count": 163,
   "metadata": {
    "scrolled": false
   },
   "outputs": [
    {
     "name": "stdout",
     "output_type": "stream",
     "text": [
      "Total 7657 entries.\n"
     ]
    },
    {
     "data": {
      "text/plain": [
       "Mono             4866\n",
       "Mono Township    2791\n",
       "Name: municipality, dtype: int64"
      ]
     },
     "execution_count": 163,
     "metadata": {},
     "output_type": "execute_result"
    }
   ],
   "source": [
    "mask = data['municipality'].str.contains(pat='mono', case=False, na=False)\n",
    "print(f'Total {len(data[mask])} entries.')\n",
    "data.loc[mask, 'municipality'].value_counts()"
   ]
  },
  {
   "cell_type": "markdown",
   "metadata": {},
   "source": [
    "Correcting:"
   ]
  },
  {
   "cell_type": "code",
   "execution_count": 164,
   "metadata": {},
   "outputs": [
    {
     "data": {
      "text/plain": [
       "Mono    7657\n",
       "Name: municipality, dtype: int64"
      ]
     },
     "execution_count": 164,
     "metadata": {},
     "output_type": "execute_result"
    }
   ],
   "source": [
    "data['municipality'] = np.where(mask, 'Mono', data['municipality'])\n",
    "data.loc[mask, 'municipality'].value_counts()"
   ]
  },
  {
   "cell_type": "markdown",
   "metadata": {},
   "source": [
    "#### Mulmur"
   ]
  },
  {
   "cell_type": "code",
   "execution_count": 165,
   "metadata": {
    "scrolled": false
   },
   "outputs": [
    {
     "name": "stdout",
     "output_type": "stream",
     "text": [
      "Total 5545 entries.\n"
     ]
    },
    {
     "data": {
      "text/plain": [
       "Mulmur Township    2942\n",
       "Mulmur             2602\n",
       "Mulmer                1\n",
       "Name: municipality, dtype: int64"
      ]
     },
     "execution_count": 165,
     "metadata": {},
     "output_type": "execute_result"
    }
   ],
   "source": [
    "mask = data['municipality'].str.match(pat='mul', case=False, na=False)\n",
    "print(f'Total {len(data[mask])} entries.')\n",
    "data.loc[mask, 'municipality'].value_counts()"
   ]
  },
  {
   "cell_type": "markdown",
   "metadata": {},
   "source": [
    "Correcting:"
   ]
  },
  {
   "cell_type": "code",
   "execution_count": 166,
   "metadata": {},
   "outputs": [
    {
     "data": {
      "text/plain": [
       "Mulmur    5545\n",
       "Name: municipality, dtype: int64"
      ]
     },
     "execution_count": 166,
     "metadata": {},
     "output_type": "execute_result"
    }
   ],
   "source": [
    "data['municipality'] = np.where(mask, 'Mulmur', data['municipality'])\n",
    "data.loc[mask, 'municipality'].value_counts()"
   ]
  },
  {
   "cell_type": "markdown",
   "metadata": {},
   "source": [
    "#### Newmarket"
   ]
  },
  {
   "cell_type": "code",
   "execution_count": 167,
   "metadata": {
    "scrolled": false
   },
   "outputs": [
    {
     "name": "stdout",
     "output_type": "stream",
     "text": [
      "Total 72931 entries.\n"
     ]
    },
    {
     "data": {
      "text/plain": [
       "Newmarket             70650\n",
       "Newmarket Township     2281\n",
       "Name: municipality, dtype: int64"
      ]
     },
     "execution_count": 167,
     "metadata": {},
     "output_type": "execute_result"
    }
   ],
   "source": [
    "mask = data['municipality'].str.match(pat='newm', case=False, na=False)\n",
    "print(f'Total {len(data[mask])} entries.')\n",
    "data.loc[mask, 'municipality'].value_counts()"
   ]
  },
  {
   "cell_type": "markdown",
   "metadata": {},
   "source": [
    "Correcting:"
   ]
  },
  {
   "cell_type": "code",
   "execution_count": 168,
   "metadata": {},
   "outputs": [
    {
     "data": {
      "text/plain": [
       "Newmarket    72931\n",
       "Name: municipality, dtype: int64"
      ]
     },
     "execution_count": 168,
     "metadata": {},
     "output_type": "execute_result"
    }
   ],
   "source": [
    "data['municipality'] = np.where(mask, 'Newmarket', data['municipality'])\n",
    "data.loc[mask, 'municipality'].value_counts()"
   ]
  },
  {
   "cell_type": "markdown",
   "metadata": {},
   "source": [
    "#### Niagara On The Lake"
   ]
  },
  {
   "cell_type": "code",
   "execution_count": 169,
   "metadata": {
    "scrolled": false
   },
   "outputs": [
    {
     "name": "stdout",
     "output_type": "stream",
     "text": [
      "Total 18422 entries.\n"
     ]
    },
    {
     "data": {
      "text/plain": [
       "Niagara On The Lake    12007\n",
       "Niagara-On-The-Lake     6412\n",
       "Niagra-On-The Lake         3\n",
       "Name: municipality, dtype: int64"
      ]
     },
     "execution_count": 169,
     "metadata": {},
     "output_type": "execute_result"
    }
   ],
   "source": [
    "filter_list = ['Niagara On The Lake', 'Niagara-On-The-Lake', 'Niagra-On-The Lake']\n",
    "mask = data['municipality'].isin(filter_list)\n",
    "print(f'Total {len(data[mask])} entries.')\n",
    "data.loc[mask, 'municipality'].value_counts()"
   ]
  },
  {
   "cell_type": "markdown",
   "metadata": {},
   "source": [
    "Correcting:"
   ]
  },
  {
   "cell_type": "code",
   "execution_count": 170,
   "metadata": {},
   "outputs": [
    {
     "data": {
      "text/plain": [
       "Niagara On The Lake    18422\n",
       "Name: municipality, dtype: int64"
      ]
     },
     "execution_count": 170,
     "metadata": {},
     "output_type": "execute_result"
    }
   ],
   "source": [
    "data['municipality'] = np.where(mask, 'Niagara On The Lake', data['municipality'])\n",
    "data.loc[mask, 'municipality'].value_counts()"
   ]
  },
  {
   "cell_type": "markdown",
   "metadata": {},
   "source": [
    "#### Niagara"
   ]
  },
  {
   "cell_type": "code",
   "execution_count": 171,
   "metadata": {
    "scrolled": false
   },
   "outputs": [
    {
     "name": "stdout",
     "output_type": "stream",
     "text": [
      "Total 84173 entries.\n"
     ]
    },
    {
     "data": {
      "text/plain": [
       "Niagara Falls       84171\n",
       "Niagara Township        1\n",
       "Niagara                 1\n",
       "Name: municipality, dtype: int64"
      ]
     },
     "execution_count": 171,
     "metadata": {},
     "output_type": "execute_result"
    }
   ],
   "source": [
    "filter_list = ['Niagara Falls', 'Niagara', 'Niagara Township']\n",
    "mask = data['municipality'].isin(filter_list)\n",
    "print(f'Total {len(data[mask])} entries.')\n",
    "data.loc[mask, 'municipality'].value_counts()"
   ]
  },
  {
   "cell_type": "code",
   "execution_count": 172,
   "metadata": {},
   "outputs": [
    {
     "data": {
      "text/plain": [
       "Niagara Falls    84173\n",
       "Name: municipality, dtype: int64"
      ]
     },
     "execution_count": 172,
     "metadata": {},
     "output_type": "execute_result"
    }
   ],
   "source": [
    "data['municipality'] = np.where(mask, 'Niagara Falls', data['municipality'])\n",
    "data.loc[mask, 'municipality'].value_counts()"
   ]
  },
  {
   "cell_type": "markdown",
   "metadata": {},
   "source": [
    "#### Norfolk County"
   ]
  },
  {
   "cell_type": "code",
   "execution_count": 173,
   "metadata": {
    "scrolled": false
   },
   "outputs": [
    {
     "name": "stdout",
     "output_type": "stream",
     "text": [
      "Total 28479 entries.\n"
     ]
    },
    {
     "data": {
      "text/plain": [
       "Norfolk County    19050\n",
       "Norfolk            9429\n",
       "Name: municipality, dtype: int64"
      ]
     },
     "execution_count": 173,
     "metadata": {},
     "output_type": "execute_result"
    }
   ],
   "source": [
    "mask = data['municipality'].str.match(pat='norf', case=False, na=False)\n",
    "print(f'Total {len(data[mask])} entries.')\n",
    "data.loc[mask, 'municipality'].value_counts()"
   ]
  },
  {
   "cell_type": "code",
   "execution_count": 174,
   "metadata": {},
   "outputs": [
    {
     "data": {
      "text/plain": [
       "Norfolk County    28479\n",
       "Name: municipality, dtype: int64"
      ]
     },
     "execution_count": 174,
     "metadata": {},
     "output_type": "execute_result"
    }
   ],
   "source": [
    "data['municipality'] = np.where(mask, 'Norfolk County', data['municipality'])\n",
    "data.loc[mask, 'municipality'].value_counts()"
   ]
  },
  {
   "cell_type": "markdown",
   "metadata": {},
   "source": [
    "#### North Kawartha"
   ]
  },
  {
   "cell_type": "code",
   "execution_count": 175,
   "metadata": {
    "scrolled": false
   },
   "outputs": [
    {
     "name": "stdout",
     "output_type": "stream",
     "text": [
      "Total 1215 entries.\n"
     ]
    },
    {
     "data": {
      "text/plain": [
       "North Kawartha             1211\n",
       "North Kawartha Township       4\n",
       "Name: municipality, dtype: int64"
      ]
     },
     "execution_count": 175,
     "metadata": {},
     "output_type": "execute_result"
    }
   ],
   "source": [
    "mask = data['municipality'].str.match(pat='north k', case=False, na=False)\n",
    "print(f'Total {len(data[mask])} entries.')\n",
    "data.loc[mask, 'municipality'].value_counts()"
   ]
  },
  {
   "cell_type": "code",
   "execution_count": 176,
   "metadata": {},
   "outputs": [
    {
     "data": {
      "text/plain": [
       "North Kawartha    1215\n",
       "Name: municipality, dtype: int64"
      ]
     },
     "execution_count": 176,
     "metadata": {},
     "output_type": "execute_result"
    }
   ],
   "source": [
    "data['municipality'] = np.where(mask, 'North Kawartha', data['municipality'])\n",
    "data.loc[mask, 'municipality'].value_counts()"
   ]
  },
  {
   "cell_type": "markdown",
   "metadata": {},
   "source": [
    "#### North York"
   ]
  },
  {
   "cell_type": "code",
   "execution_count": 177,
   "metadata": {
    "scrolled": false
   },
   "outputs": [
    {
     "name": "stdout",
     "output_type": "stream",
     "text": [
      "Total 288336 entries.\n"
     ]
    },
    {
     "data": {
      "text/plain": [
       "North York            288166\n",
       "North York/Toronto       170\n",
       "Name: municipality, dtype: int64"
      ]
     },
     "execution_count": 177,
     "metadata": {},
     "output_type": "execute_result"
    }
   ],
   "source": [
    "mask = data['municipality'].str.match(pat='north y', case=False, na=False)\n",
    "print(f'Total {len(data[mask])} entries.')\n",
    "data.loc[mask, 'municipality'].value_counts()"
   ]
  },
  {
   "cell_type": "code",
   "execution_count": 178,
   "metadata": {},
   "outputs": [
    {
     "data": {
      "text/plain": [
       "North York    288336\n",
       "Name: municipality, dtype: int64"
      ]
     },
     "execution_count": 178,
     "metadata": {},
     "output_type": "execute_result"
    }
   ],
   "source": [
    "data['municipality'] = np.where(mask, 'North York', data['municipality'])\n",
    "data.loc[mask, 'municipality'].value_counts()"
   ]
  },
  {
   "cell_type": "markdown",
   "metadata": {},
   "source": [
    "#### Norwich"
   ]
  },
  {
   "cell_type": "code",
   "execution_count": 179,
   "metadata": {
    "scrolled": false
   },
   "outputs": [
    {
     "name": "stdout",
     "output_type": "stream",
     "text": [
      "Total 101 entries.\n"
     ]
    },
    {
     "data": {
      "text/plain": [
       "Norwich             87\n",
       "Norwich Township    14\n",
       "Name: municipality, dtype: int64"
      ]
     },
     "execution_count": 179,
     "metadata": {},
     "output_type": "execute_result"
    }
   ],
   "source": [
    "mask = data['municipality'].str.match(pat='norwi', case=False, na=False)\n",
    "print(f'Total {len(data[mask])} entries.')\n",
    "data.loc[mask, 'municipality'].value_counts()"
   ]
  },
  {
   "cell_type": "code",
   "execution_count": 180,
   "metadata": {},
   "outputs": [
    {
     "data": {
      "text/plain": [
       "Norwich    101\n",
       "Name: municipality, dtype: int64"
      ]
     },
     "execution_count": 180,
     "metadata": {},
     "output_type": "execute_result"
    }
   ],
   "source": [
    "data['municipality'] = np.where(mask, 'Norwich', data['municipality'])\n",
    "data.loc[mask, 'municipality'].value_counts()"
   ]
  },
  {
   "cell_type": "markdown",
   "metadata": {},
   "source": [
    "#### Orangeville"
   ]
  },
  {
   "cell_type": "code",
   "execution_count": 181,
   "metadata": {
    "scrolled": false
   },
   "outputs": [
    {
     "name": "stdout",
     "output_type": "stream",
     "text": [
      "Total 33295 entries.\n"
     ]
    },
    {
     "data": {
      "text/plain": [
       "Orangeville        33292\n",
       "Orangeville  On        3\n",
       "Name: municipality, dtype: int64"
      ]
     },
     "execution_count": 181,
     "metadata": {},
     "output_type": "execute_result"
    }
   ],
   "source": [
    "mask = data['municipality'].str.match(pat='ora', case=False, na=False)\n",
    "print(f'Total {len(data[mask])} entries.')\n",
    "data.loc[mask, 'municipality'].value_counts()"
   ]
  },
  {
   "cell_type": "code",
   "execution_count": 182,
   "metadata": {},
   "outputs": [
    {
     "data": {
      "text/plain": [
       "Orangeville    33295\n",
       "Name: municipality, dtype: int64"
      ]
     },
     "execution_count": 182,
     "metadata": {},
     "output_type": "execute_result"
    }
   ],
   "source": [
    "data['municipality'] = np.where(mask, 'Orangeville', data['municipality'])\n",
    "data.loc[mask, 'municipality'].value_counts()"
   ]
  },
  {
   "cell_type": "markdown",
   "metadata": {},
   "source": [
    "#### Orillia"
   ]
  },
  {
   "cell_type": "code",
   "execution_count": 183,
   "metadata": {
    "scrolled": false
   },
   "outputs": [
    {
     "name": "stdout",
     "output_type": "stream",
     "text": [
      "Total 35826 entries.\n"
     ]
    },
    {
     "data": {
      "text/plain": [
       "Orillia       35819\n",
       "Orillia On        4\n",
       "Orilia            3\n",
       "Name: municipality, dtype: int64"
      ]
     },
     "execution_count": 183,
     "metadata": {},
     "output_type": "execute_result"
    }
   ],
   "source": [
    "mask = data['municipality'].str.match(pat='oril', case=False, na=False)\n",
    "print(f'Total {len(data[mask])} entries.')\n",
    "data.loc[mask, 'municipality'].value_counts()"
   ]
  },
  {
   "cell_type": "code",
   "execution_count": 184,
   "metadata": {},
   "outputs": [
    {
     "data": {
      "text/plain": [
       "Orillia    35826\n",
       "Name: municipality, dtype: int64"
      ]
     },
     "execution_count": 184,
     "metadata": {},
     "output_type": "execute_result"
    }
   ],
   "source": [
    "data['municipality'] = np.where(mask, 'Orillia', data['municipality'])\n",
    "data.loc[mask, 'municipality'].value_counts()"
   ]
  },
  {
   "cell_type": "markdown",
   "metadata": {},
   "source": [
    "#### Pickering"
   ]
  },
  {
   "cell_type": "code",
   "execution_count": 185,
   "metadata": {
    "scrolled": false
   },
   "outputs": [
    {
     "name": "stdout",
     "output_type": "stream",
     "text": [
      "Total 80433 entries.\n"
     ]
    },
    {
     "data": {
      "text/plain": [
       "Pickering         80429\n",
       "Pickering City        4\n",
       "Name: municipality, dtype: int64"
      ]
     },
     "execution_count": 185,
     "metadata": {},
     "output_type": "execute_result"
    }
   ],
   "source": [
    "mask = data['municipality'].str.match(pat='pic', case=False, na=False)\n",
    "print(f'Total {len(data[mask])} entries.')\n",
    "data.loc[mask, 'municipality'].value_counts()"
   ]
  },
  {
   "cell_type": "code",
   "execution_count": 186,
   "metadata": {},
   "outputs": [
    {
     "data": {
      "text/plain": [
       "Pickering    80433\n",
       "Name: municipality, dtype: int64"
      ]
     },
     "execution_count": 186,
     "metadata": {},
     "output_type": "execute_result"
    }
   ],
   "source": [
    "data['municipality'] = np.where(mask, 'Pickering', data['municipality'])\n",
    "data.loc[mask, 'municipality'].value_counts()"
   ]
  },
  {
   "cell_type": "markdown",
   "metadata": {},
   "source": [
    "#### Scugog"
   ]
  },
  {
   "cell_type": "code",
   "execution_count": 187,
   "metadata": {
    "scrolled": false
   },
   "outputs": [
    {
     "name": "stdout",
     "output_type": "stream",
     "text": [
      "Total 18258 entries.\n"
     ]
    },
    {
     "data": {
      "text/plain": [
       "Scugog                           15877\n",
       "Scugog Township                   2375\n",
       "Mississaugas Of Scugog Island        6\n",
       "Name: municipality, dtype: int64"
      ]
     },
     "execution_count": 187,
     "metadata": {},
     "output_type": "execute_result"
    }
   ],
   "source": [
    "mask = data['municipality'].str.contains(pat='scu', case=False, na=False)\n",
    "print(f'Total {len(data[mask])} entries.')\n",
    "data.loc[mask, 'municipality'].value_counts()"
   ]
  },
  {
   "cell_type": "code",
   "execution_count": 188,
   "metadata": {},
   "outputs": [
    {
     "data": {
      "text/plain": [
       "Scugog    18258\n",
       "Name: municipality, dtype: int64"
      ]
     },
     "execution_count": 188,
     "metadata": {},
     "output_type": "execute_result"
    }
   ],
   "source": [
    "data['municipality'] = np.where(mask, 'Scugog', data['municipality'])\n",
    "data.loc[mask, 'municipality'].value_counts()"
   ]
  },
  {
   "cell_type": "markdown",
   "metadata": {},
   "source": [
    "#### St. Catharines"
   ]
  },
  {
   "cell_type": "code",
   "execution_count": 189,
   "metadata": {
    "scrolled": false
   },
   "outputs": [
    {
     "name": "stdout",
     "output_type": "stream",
     "text": [
      "Total 118465 entries.\n"
     ]
    },
    {
     "data": {
      "text/plain": [
       "St. Catharines      68844\n",
       "St Catharines       49619\n",
       "St. Catherines          1\n",
       "St Catharines On        1\n",
       "Name: municipality, dtype: int64"
      ]
     },
     "execution_count": 189,
     "metadata": {},
     "output_type": "execute_result"
    }
   ],
   "source": [
    "mask = np.logical_and(\n",
    "                      data['municipality'].str.match(pat='st', case=False, na=False),\n",
    "                      data['municipality'].str.contains(pat='cat', case=False, na=False)\n",
    "                     )\n",
    "print(f'Total {len(data[mask])} entries.')\n",
    "data.loc[mask, 'municipality'].value_counts()"
   ]
  },
  {
   "cell_type": "code",
   "execution_count": 190,
   "metadata": {},
   "outputs": [
    {
     "data": {
      "text/plain": [
       "St. Catharines    118465\n",
       "Name: municipality, dtype: int64"
      ]
     },
     "execution_count": 190,
     "metadata": {},
     "output_type": "execute_result"
    }
   ],
   "source": [
    "data['municipality'] = np.where(mask, 'St. Catharines', data['municipality'])\n",
    "data.loc[mask, 'municipality'].value_counts()"
   ]
  },
  {
   "cell_type": "markdown",
   "metadata": {},
   "source": [
    "#### Tiny"
   ]
  },
  {
   "cell_type": "code",
   "execution_count": 191,
   "metadata": {
    "scrolled": false
   },
   "outputs": [
    {
     "name": "stdout",
     "output_type": "stream",
     "text": [
      "Total 25392 entries.\n"
     ]
    },
    {
     "data": {
      "text/plain": [
       "Tiny             18401\n",
       "Tiny Township     6991\n",
       "Name: municipality, dtype: int64"
      ]
     },
     "execution_count": 191,
     "metadata": {},
     "output_type": "execute_result"
    }
   ],
   "source": [
    "mask = data['municipality'].str.match(pat='tin', case=False, na=False)\n",
    "print(f'Total {len(data[mask])} entries.')\n",
    "data.loc[mask, 'municipality'].value_counts()"
   ]
  },
  {
   "cell_type": "code",
   "execution_count": 192,
   "metadata": {},
   "outputs": [
    {
     "data": {
      "text/plain": [
       "Tiny    25392\n",
       "Name: municipality, dtype: int64"
      ]
     },
     "execution_count": 192,
     "metadata": {},
     "output_type": "execute_result"
    }
   ],
   "source": [
    "data['municipality'] = np.where(mask, 'Tiny', data['municipality'])\n",
    "data.loc[mask, 'municipality'].value_counts()"
   ]
  },
  {
   "cell_type": "markdown",
   "metadata": {},
   "source": [
    "#### Uxbridge"
   ]
  },
  {
   "cell_type": "code",
   "execution_count": 193,
   "metadata": {
    "scrolled": false
   },
   "outputs": [
    {
     "name": "stdout",
     "output_type": "stream",
     "text": [
      "Total 20049 entries.\n"
     ]
    },
    {
     "data": {
      "text/plain": [
       "Uxbridge             18461\n",
       "Uxbridge Township     1588\n",
       "Name: municipality, dtype: int64"
      ]
     },
     "execution_count": 193,
     "metadata": {},
     "output_type": "execute_result"
    }
   ],
   "source": [
    "mask = data['municipality'].str.match(pat='ux', case=False, na=False)\n",
    "print(f'Total {len(data[mask])} entries.')\n",
    "data.loc[mask, 'municipality'].value_counts()"
   ]
  },
  {
   "cell_type": "code",
   "execution_count": 194,
   "metadata": {},
   "outputs": [
    {
     "data": {
      "text/plain": [
       "Uxbridge    20049\n",
       "Name: municipality, dtype: int64"
      ]
     },
     "execution_count": 194,
     "metadata": {},
     "output_type": "execute_result"
    }
   ],
   "source": [
    "data['municipality'] = np.where(mask, 'Uxbridge', data['municipality'])\n",
    "data.loc[mask, 'municipality'].value_counts()"
   ]
  },
  {
   "cell_type": "markdown",
   "metadata": {},
   "source": [
    "#### Wellesley"
   ]
  },
  {
   "cell_type": "code",
   "execution_count": 195,
   "metadata": {
    "scrolled": false
   },
   "outputs": [
    {
     "name": "stdout",
     "output_type": "stream",
     "text": [
      "Total 6260 entries.\n"
     ]
    },
    {
     "data": {
      "text/plain": [
       "Wellesley             5557\n",
       "Wellesley Township     703\n",
       "Name: municipality, dtype: int64"
      ]
     },
     "execution_count": 195,
     "metadata": {},
     "output_type": "execute_result"
    }
   ],
   "source": [
    "mask = data['municipality'].str.match(pat='welle', case=False, na=False)\n",
    "print(f'Total {len(data[mask])} entries.')\n",
    "data.loc[mask, 'municipality'].value_counts()"
   ]
  },
  {
   "cell_type": "code",
   "execution_count": 196,
   "metadata": {},
   "outputs": [
    {
     "data": {
      "text/plain": [
       "Wellesley    6260\n",
       "Name: municipality, dtype: int64"
      ]
     },
     "execution_count": 196,
     "metadata": {},
     "output_type": "execute_result"
    }
   ],
   "source": [
    "data['municipality'] = np.where(mask, 'Wellesley', data['municipality'])\n",
    "data.loc[mask, 'municipality'].value_counts()"
   ]
  },
  {
   "cell_type": "markdown",
   "metadata": {},
   "source": [
    "#### West Grey"
   ]
  },
  {
   "cell_type": "code",
   "execution_count": 197,
   "metadata": {
    "scrolled": false
   },
   "outputs": [
    {
     "name": "stdout",
     "output_type": "stream",
     "text": [
      "Total 8331 entries.\n"
     ]
    },
    {
     "data": {
      "text/plain": [
       "West Grey Township    5829\n",
       "West Grey             2502\n",
       "Name: municipality, dtype: int64"
      ]
     },
     "execution_count": 197,
     "metadata": {},
     "output_type": "execute_result"
    }
   ],
   "source": [
    "mask = data['municipality'].str.contains(pat='west gr', case=False, na=False)\n",
    "print(f'Total {len(data[mask])} entries.')\n",
    "data.loc[mask, 'municipality'].value_counts()"
   ]
  },
  {
   "cell_type": "code",
   "execution_count": 198,
   "metadata": {},
   "outputs": [
    {
     "data": {
      "text/plain": [
       "West Grey    8331\n",
       "Name: municipality, dtype: int64"
      ]
     },
     "execution_count": 198,
     "metadata": {},
     "output_type": "execute_result"
    }
   ],
   "source": [
    "data['municipality'] = np.where(mask, 'West Grey', data['municipality'])\n",
    "data.loc[mask, 'municipality'].value_counts()"
   ]
  },
  {
   "cell_type": "markdown",
   "metadata": {},
   "source": [
    "#### Whitchurch - Stouffville"
   ]
  },
  {
   "cell_type": "code",
   "execution_count": 199,
   "metadata": {
    "scrolled": false
   },
   "outputs": [
    {
     "name": "stdout",
     "output_type": "stream",
     "text": [
      "Total 39266 entries.\n"
     ]
    },
    {
     "data": {
      "text/plain": [
       "Whitchurch-Stouffville      20214\n",
       "Stouffville                 16324\n",
       "Whitchurch - Stouffville     2700\n",
       "Whitchurch/Stouffville         22\n",
       "Whit-Stouffville/Markham        4\n",
       "Whitchurch                      2\n",
       "Name: municipality, dtype: int64"
      ]
     },
     "execution_count": 199,
     "metadata": {},
     "output_type": "execute_result"
    }
   ],
   "source": [
    "mask = np.logical_or(\n",
    "                      data['municipality'].str.match(pat='whitc', case=False, na=False),\n",
    "                      data['municipality'].str.contains(pat='stouff', case=False, na=False)\n",
    "                     )\n",
    "print(f'Total {len(data[mask])} entries.')\n",
    "data.loc[mask, 'municipality'].value_counts()"
   ]
  },
  {
   "cell_type": "code",
   "execution_count": 200,
   "metadata": {},
   "outputs": [
    {
     "data": {
      "text/plain": [
       "Whitchurch - Stouffville    39266\n",
       "Name: municipality, dtype: int64"
      ]
     },
     "execution_count": 200,
     "metadata": {},
     "output_type": "execute_result"
    }
   ],
   "source": [
    "data['municipality'] = np.where(mask, 'Whitchurch - Stouffville', data['municipality'])\n",
    "data.loc[mask, 'municipality'].value_counts()"
   ]
  },
  {
   "cell_type": "markdown",
   "metadata": {},
   "source": [
    "#### Woolwich"
   ]
  },
  {
   "cell_type": "code",
   "execution_count": 201,
   "metadata": {
    "scrolled": false
   },
   "outputs": [
    {
     "name": "stdout",
     "output_type": "stream",
     "text": [
      "Total 13185 entries.\n"
     ]
    },
    {
     "data": {
      "text/plain": [
       "Woolwich             11028\n",
       "Woolwich Township     2157\n",
       "Name: municipality, dtype: int64"
      ]
     },
     "execution_count": 201,
     "metadata": {},
     "output_type": "execute_result"
    }
   ],
   "source": [
    "mask = data['municipality'].str.match(pat='wool', case=False, na=False)\n",
    "print(f'Total {len(data[mask])} entries.')\n",
    "data.loc[mask, 'municipality'].value_counts()"
   ]
  },
  {
   "cell_type": "code",
   "execution_count": 202,
   "metadata": {},
   "outputs": [
    {
     "data": {
      "text/plain": [
       "Woolwich    13185\n",
       "Name: municipality, dtype: int64"
      ]
     },
     "execution_count": 202,
     "metadata": {},
     "output_type": "execute_result"
    }
   ],
   "source": [
    "data['municipality'] = np.where(mask, 'Woolwich', data['municipality'])\n",
    "data.loc[mask, 'municipality'].value_counts()"
   ]
  },
  {
   "cell_type": "markdown",
   "metadata": {},
   "source": [
    "#### York"
   ]
  },
  {
   "cell_type": "code",
   "execution_count": 203,
   "metadata": {
    "scrolled": false
   },
   "outputs": [
    {
     "name": "stdout",
     "output_type": "stream",
     "text": [
      "Total 20448 entries.\n"
     ]
    },
    {
     "data": {
      "text/plain": [
       "York     20423\n",
       "York.       25\n",
       "Name: municipality, dtype: int64"
      ]
     },
     "execution_count": 203,
     "metadata": {},
     "output_type": "execute_result"
    }
   ],
   "source": [
    "mask = data['municipality'].str.match(pat='yor', case=False, na=False)\n",
    "print(f'Total {len(data[mask])} entries.')\n",
    "data.loc[mask, 'municipality'].value_counts()"
   ]
  },
  {
   "cell_type": "code",
   "execution_count": 204,
   "metadata": {},
   "outputs": [
    {
     "data": {
      "text/plain": [
       "York    20448\n",
       "Name: municipality, dtype: int64"
      ]
     },
     "execution_count": 204,
     "metadata": {},
     "output_type": "execute_result"
    }
   ],
   "source": [
    "data['municipality'] = np.where(mask, 'York', data['municipality'])\n",
    "data.loc[mask, 'municipality'].value_counts()"
   ]
  },
  {
   "cell_type": "markdown",
   "metadata": {},
   "source": [
    "Records in `'municipality'` have been corrected for consistency."
   ]
  },
  {
   "cell_type": "markdown",
   "metadata": {},
   "source": [
    "<a id='street_suffix'></a>\n",
    "### 1.8.12 Consistency of entries in the column `'street_suffix'`\n",
    "\n",
    "Back to the [top](#top) / [table of contents](#contents)\n",
    "\n",
    "\n",
    "Back to [step 1.8](#inconsistent_entries)\n",
    "\n",
    "* There are very few entries present in the column `'street_suffix'`.\n",
    "* All values are numerical, so it is unclear how do they represent street suffix.\n",
    "* No inconsistencies have been discovered.\n",
    "* No changes were made.\n",
    "* There are 166 non-null (almost 0%) of the total 8'226'103 entries.\n",
    "\n",
    "#### Value counts for column `'street_suffix'`:"
   ]
  },
  {
   "cell_type": "code",
   "execution_count": 205,
   "metadata": {},
   "outputs": [
    {
     "data": {
      "text/plain": [
       "19.0        18\n",
       "18.0        13\n",
       "4.0         11\n",
       "2.0         10\n",
       "25.0         9\n",
       "30.0         7\n",
       "10.0         7\n",
       "548.0        6\n",
       "1.0          6\n",
       "7.0          6\n",
       "15.0         6\n",
       "14.0         5\n",
       "21.0         5\n",
       "8.0          5\n",
       "47.0         5\n",
       "42.0         4\n",
       "31.0         4\n",
       "1905.0       4\n",
       "12.0         4\n",
       "50.0         3\n",
       "5.0          3\n",
       "103078.0     3\n",
       "11.0         2\n",
       "27.0         2\n",
       "6.0          2\n",
       "45.0         2\n",
       "66.0         2\n",
       "97.0         2\n",
       "9.0          2\n",
       "3.0          1\n",
       "507.0        1\n",
       "13.0         1\n",
       "17.0         1\n",
       "119.0        1\n",
       "51.0         1\n",
       "90.0         1\n",
       "620.0        1\n",
       "Name: street_suffix, dtype: int64"
      ]
     },
     "execution_count": 205,
     "metadata": {},
     "output_type": "execute_result"
    }
   ],
   "source": [
    "data['street_suffix'].value_counts()"
   ]
  },
  {
   "cell_type": "markdown",
   "metadata": {},
   "source": [
    "No changes have been made to `'street_suffix'`.\n",
    "\n",
    "<a id='street_number'></a>\n",
    "### 1.8.13 Consistency of entries in the column `'street_number'`\n",
    "\n",
    "Back to the [top](#top) / [table of contents](#contents)\n",
    "\n",
    "\n",
    "Back to [step 1.8](#inconsistent_entries)\n",
    "\n",
    "* In the column `'street_number'`, all entries are numerical, but some values are questionably large (e.g., 562916, 47626) to represent a street number.\n",
    "* No changes were made.\n",
    "* There are 7'841'470 non-null (95%) of the total 8'226'103 entries.\n",
    "\n",
    "#### Value counts for column `'street_number'`:"
   ]
  },
  {
   "cell_type": "code",
   "execution_count": 206,
   "metadata": {},
   "outputs": [
    {
     "data": {
      "text/plain": [
       "10.0        95759\n",
       "15.0        82700\n",
       "1.0         79209\n",
       "20.0        78167\n",
       "5.0         78057\n",
       "8.0         77782\n",
       "18.0        76581\n",
       "11.0        73154\n",
       "25.0        72599\n",
       "7.0         66637\n",
       "30.0        62019\n",
       "6.0         61543\n",
       "3.0         60168\n",
       "16.0        59879\n",
       "35.0        59104\n",
       "12.0        59050\n",
       "9.0         58619\n",
       "21.0        58116\n",
       "2.0         57497\n",
       "19.0        57102\n",
       "33.0        54973\n",
       "23.0        53998\n",
       "4.0         53696\n",
       "14.0        53202\n",
       "28.0        52451\n",
       "22.0        51882\n",
       "55.0        51359\n",
       "50.0        51257\n",
       "17.0        51087\n",
       "24.0        49059\n",
       "            ...  \n",
       "22449.0         1\n",
       "565835.0        1\n",
       "73441.0         1\n",
       "22473.0         1\n",
       "22475.0         1\n",
       "22481.0         1\n",
       "22482.0         1\n",
       "569301.0        1\n",
       "22486.0         1\n",
       "22487.0         1\n",
       "22490.0         1\n",
       "22430.0         1\n",
       "22429.0         1\n",
       "22425.0         1\n",
       "561732.0        1\n",
       "559131.0        1\n",
       "22370.0         1\n",
       "560157.0        1\n",
       "22372.0         1\n",
       "561394.0        1\n",
       "561727.0        1\n",
       "22374.0         1\n",
       "22423.0         1\n",
       "22379.0         1\n",
       "562354.0        1\n",
       "22382.0         1\n",
       "562497.0        1\n",
       "562916.0        1\n",
       "22408.0         1\n",
       "47626.0         1\n",
       "Name: street_number, Length: 31097, dtype: int64"
      ]
     },
     "execution_count": 206,
     "metadata": {},
     "output_type": "execute_result"
    }
   ],
   "source": [
    "data['street_number'].value_counts()"
   ]
  },
  {
   "cell_type": "markdown",
   "metadata": {},
   "source": [
    "No changes have been made to `'street_number'`.\n",
    "\n",
    "<a id='x_and_y'></a>\n",
    "### 1.8.14 Consistency of entries in the columns containing the coordinates `'x'` and `'y'`\n",
    "\n",
    "Back to the [top](#top) / [table of contents](#contents)\n",
    "\n",
    "\n",
    "Back to [step 1.8](#inconsistent_entries)\n",
    "\n",
    "* Both columns `'x'` and `'y'` containing coordinates appear to be consistent.\n",
    "* Values in both columns stay within reasonable range.\n",
    "* Consistent number of entries show duplicated `'x'` and `'y'` coordinates.\n",
    "* There are 2'631'750 unique values of `'x'` and 2'631'751 unique values of `'y'`.\n",
    "* No changes were made.\n",
    "* There are no missing values.\n",
    "\n",
    "#### Values in both columns stay within a reasonabla range:"
   ]
  },
  {
   "cell_type": "code",
   "execution_count": 207,
   "metadata": {},
   "outputs": [
    {
     "data": {
      "text/plain": [
       "<matplotlib.axes._subplots.AxesSubplot at 0x1e42c705160>"
      ]
     },
     "execution_count": 207,
     "metadata": {},
     "output_type": "execute_result"
    },
    {
     "data": {
      "image/png": "[encoded data removed]",
      "text/plain": [
       "<Figure size 1008x504 with 1 Axes>"
      ]
     },
     "metadata": {},
     "output_type": "display_data"
    }
   ],
   "source": [
    "data.x.plot()"
   ]
  },
  {
   "cell_type": "code",
   "execution_count": 208,
   "metadata": {},
   "outputs": [
    {
     "data": {
      "text/plain": [
       "<matplotlib.axes._subplots.AxesSubplot at 0x1e22a24d7b8>"
      ]
     },
     "execution_count": 208,
     "metadata": {},
     "output_type": "execute_result"
    },
    {
     "data": {
      "image/png": "[encoded data removed]",
      "text/plain": [
       "<Figure size 1008x504 with 1 Axes>"
      ]
     },
     "metadata": {},
     "output_type": "display_data"
    }
   ],
   "source": [
    "data.y.plot()"
   ]
  },
  {
   "cell_type": "markdown",
   "metadata": {},
   "source": [
    "#### Value counts for the column `'x'`:"
   ]
  },
  {
   "cell_type": "code",
   "execution_count": 209,
   "metadata": {},
   "outputs": [
    {
     "data": {
      "text/plain": [
       "-79.413760    7590\n",
       "-79.384130    7556\n",
       "-79.250519    7545\n",
       "-79.245694    7510\n",
       "-79.405482    7240\n",
       "-79.635285    7121\n",
       "-79.391576    7022\n",
       "-79.413501    7005\n",
       "-79.536251    6415\n",
       "-79.376537    6160\n",
       "-79.381384    5950\n",
       "-79.394848    5833\n",
       "-79.411866    5715\n",
       "-79.529503    5274\n",
       "-79.397139    4861\n",
       "-79.393519    4626\n",
       "-79.219692    4553\n",
       "-79.293850    4501\n",
       "-79.375769    4275\n",
       "-79.490778    4190\n",
       "-79.420176    4113\n",
       "-79.369434    4077\n",
       "-79.261898    4067\n",
       "-79.359209    4062\n",
       "-79.615963    3986\n",
       "-79.415177    3952\n",
       "-79.379115    3944\n",
       "-79.558760    3881\n",
       "-79.340619    3875\n",
       "-79.414085    3809\n",
       "              ... \n",
       "-80.246732       1\n",
       "-79.706907       1\n",
       "-79.439724       1\n",
       "-79.247392       1\n",
       "-79.435085       1\n",
       "-80.436318       1\n",
       "-79.288979       1\n",
       "-79.889756       1\n",
       "-79.853224       1\n",
       "-79.399245       1\n",
       "-79.570944       1\n",
       "-79.283715       1\n",
       "-79.568879       1\n",
       "-79.459083       1\n",
       "-79.408602       1\n",
       "-79.530606       1\n",
       "-79.297834       1\n",
       "-79.472143       1\n",
       "-79.779320       1\n",
       "-79.206645       1\n",
       "-80.614120       1\n",
       "-79.703132       1\n",
       "-79.648688       1\n",
       "-79.699542       1\n",
       "-78.911033       1\n",
       "-78.684214       1\n",
       "-79.610927       1\n",
       "-79.092150       1\n",
       "-79.686296       1\n",
       "-79.029482       1\n",
       "Name: x, Length: 2631750, dtype: int64"
      ]
     },
     "execution_count": 209,
     "metadata": {},
     "output_type": "execute_result"
    }
   ],
   "source": [
    "data['x'].value_counts()"
   ]
  },
  {
   "cell_type": "markdown",
   "metadata": {},
   "source": [
    "#### Value counts for the column `'y'`"
   ]
  },
  {
   "cell_type": "code",
   "execution_count": 210,
   "metadata": {},
   "outputs": [
    {
     "data": {
      "text/plain": [
       "43.776163    7590\n",
       "43.660260    7556\n",
       "43.780865    7545\n",
       "43.781802    7510\n",
       "43.636816    7240\n",
       "43.595254    7121\n",
       "43.639941    7022\n",
       "43.765743    7005\n",
       "43.638889    6415\n",
       "43.643017    6160\n",
       "43.640071    5950\n",
       "43.640700    5833\n",
       "43.768577    5715\n",
       "43.644594    5274\n",
       "43.640304    4861\n",
       "43.639754    4626\n",
       "43.177712    4553\n",
       "43.696321    4501\n",
       "43.642228    4275\n",
       "43.624289    4190\n",
       "43.803483    4113\n",
       "43.769364    4077\n",
       "43.734381    4067\n",
       "43.650124    4062\n",
       "43.724804    3986\n",
       "43.639640    3952\n",
       "43.639718    3944\n",
       "43.609297    3881\n",
       "43.854205    3875\n",
       "43.779449    3809\n",
       "             ... \n",
       "43.714985       1\n",
       "43.901402       1\n",
       "44.325251       1\n",
       "44.580913       1\n",
       "43.984241       1\n",
       "43.502227       1\n",
       "44.517913       1\n",
       "43.666909       1\n",
       "43.570093       1\n",
       "42.999402       1\n",
       "43.861242       1\n",
       "44.212197       1\n",
       "44.122948       1\n",
       "44.553509       1\n",
       "43.753153       1\n",
       "43.204194       1\n",
       "43.400081       1\n",
       "43.232083       1\n",
       "43.487755       1\n",
       "43.755622       1\n",
       "43.986354       1\n",
       "43.669160       1\n",
       "44.501401       1\n",
       "43.204015       1\n",
       "43.873096       1\n",
       "43.279343       1\n",
       "43.877961       1\n",
       "43.646738       1\n",
       "43.828091       1\n",
       "43.447500       1\n",
       "Name: y, Length: 2631751, dtype: int64"
      ]
     },
     "execution_count": 210,
     "metadata": {},
     "output_type": "execute_result"
    }
   ],
   "source": [
    "data['y'].value_counts()"
   ]
  },
  {
   "cell_type": "markdown",
   "metadata": {},
   "source": [
    "No changes were made to `'x'` and `'y'`.\n",
    "<a id='record_results'></a>\n",
    "## 1.9 Recording results to a file\n",
    "\n",
    "Back to the [top](#top) / [table of contents](#contents)\n",
    "\n",
    "#### [Summary of the changes made to the original dataset](#top)"
   ]
  },
  {
   "cell_type": "markdown",
   "metadata": {},
   "source": [
    "#### Recording results to file `'Data/HHSaleHistory_cleaned_v0.9.csv'`"
   ]
  },
  {
   "cell_type": "code",
   "execution_count": 211,
   "metadata": {},
   "outputs": [
    {
     "name": "stdout",
     "output_type": "stream",
     "text": [
      "Results recorded to file 'HHSaleHistory_cleaned_v0.9.csv'!\n"
     ]
    }
   ],
   "source": [
    "data = data.drop('registration_date', axis=1)\n",
    "data.to_csv('Data/HHSaleHistory_cleaned_v0.9.csv')\n",
    "print(\"Results recorded to file 'HHSaleHistory_cleaned_v0.9.csv'!\")"
   ]
  },
  {
   "cell_type": "markdown",
   "metadata": {},
   "source": [
    "#### Loading the new file for verification"
   ]
  },
  {
   "cell_type": "code",
   "execution_count": 212,
   "metadata": {},
   "outputs": [
    {
     "name": "stdout",
     "output_type": "stream",
     "text": [
      "File 'HHSaleHistory_cleaned_v0.9.csv' loaded into the data frame 'data_check'!\n"
     ]
    }
   ],
   "source": [
    "data_check = pd.read_csv('Data/HHSaleHistory_cleaned_v0.9.csv')\n",
    "print(\"File 'HHSaleHistory_cleaned_v0.9.csv' loaded into the data frame 'data_check'!\")"
   ]
  },
  {
   "cell_type": "markdown",
   "metadata": {},
   "source": [
    "### New file `'Data/HHSaleHistory_cleaned_v0.9.csv'`"
   ]
  },
  {
   "cell_type": "markdown",
   "metadata": {},
   "source": [
    "#### Top 5 rows"
   ]
  },
  {
   "cell_type": "code",
   "execution_count": 213,
   "metadata": {
    "scrolled": false
   },
   "outputs": [
    {
     "data": {
      "text/html": [
       "<div>\n",
       "<style scoped>\n",
       "    .dataframe tbody tr th:only-of-type {\n",
       "        vertical-align: middle;\n",
       "    }\n",
       "\n",
       "    .dataframe tbody tr th {\n",
       "        vertical-align: top;\n",
       "    }\n",
       "\n",
       "    .dataframe thead th {\n",
       "        text-align: right;\n",
       "    }\n",
       "</style>\n",
       "<table border=\"1\" class=\"dataframe\">\n",
       "  <thead>\n",
       "    <tr style=\"text-align: right;\">\n",
       "      <th></th>\n",
       "      <th>registration_date</th>\n",
       "      <th>row_num</th>\n",
       "      <th>decade</th>\n",
       "      <th>year</th>\n",
       "      <th>lro_num</th>\n",
       "      <th>pin</th>\n",
       "      <th>consideration_amt</th>\n",
       "      <th>postal_code</th>\n",
       "      <th>province</th>\n",
       "      <th>unitno</th>\n",
       "      <th>street_name</th>\n",
       "      <th>street_designation</th>\n",
       "      <th>street_direction</th>\n",
       "      <th>municipality</th>\n",
       "      <th>street_suffix</th>\n",
       "      <th>street_number</th>\n",
       "      <th>x</th>\n",
       "      <th>y</th>\n",
       "    </tr>\n",
       "  </thead>\n",
       "  <tbody>\n",
       "    <tr>\n",
       "      <th>0</th>\n",
       "      <td>1805-01-06</td>\n",
       "      <td>0</td>\n",
       "      <td>180</td>\n",
       "      <td>1805</td>\n",
       "      <td>62</td>\n",
       "      <td>174140492</td>\n",
       "      <td>NaN</td>\n",
       "      <td>NaN</td>\n",
       "      <td>ON</td>\n",
       "      <td>NaN</td>\n",
       "      <td>NaN</td>\n",
       "      <td>NaN</td>\n",
       "      <td>NaN</td>\n",
       "      <td>Hamilton</td>\n",
       "      <td>NaN</td>\n",
       "      <td>NaN</td>\n",
       "      <td>-79.977420</td>\n",
       "      <td>43.203291</td>\n",
       "    </tr>\n",
       "    <tr>\n",
       "      <th>1</th>\n",
       "      <td>1806-06-10</td>\n",
       "      <td>1</td>\n",
       "      <td>180</td>\n",
       "      <td>1806</td>\n",
       "      <td>37</td>\n",
       "      <td>502090167</td>\n",
       "      <td>NaN</td>\n",
       "      <td>NaN</td>\n",
       "      <td>ON</td>\n",
       "      <td>NaN</td>\n",
       "      <td>Highway 24</td>\n",
       "      <td>NaN</td>\n",
       "      <td>NaN</td>\n",
       "      <td>Woodhouse/Port Dover</td>\n",
       "      <td>NaN</td>\n",
       "      <td>2164.0</td>\n",
       "      <td>-80.282483</td>\n",
       "      <td>42.784625</td>\n",
       "    </tr>\n",
       "    <tr>\n",
       "      <th>2</th>\n",
       "      <td>1807-01-03</td>\n",
       "      <td>2</td>\n",
       "      <td>180</td>\n",
       "      <td>1807</td>\n",
       "      <td>37</td>\n",
       "      <td>501980307</td>\n",
       "      <td>NaN</td>\n",
       "      <td>NaN</td>\n",
       "      <td>ON</td>\n",
       "      <td>NaN</td>\n",
       "      <td>Char'Ville Rd 4</td>\n",
       "      <td>NaN</td>\n",
       "      <td>NaN</td>\n",
       "      <td>Vittoria</td>\n",
       "      <td>NaN</td>\n",
       "      <td>1661.0</td>\n",
       "      <td>-80.314465</td>\n",
       "      <td>42.768204</td>\n",
       "    </tr>\n",
       "    <tr>\n",
       "      <th>3</th>\n",
       "      <td>1809-05-16</td>\n",
       "      <td>3</td>\n",
       "      <td>180</td>\n",
       "      <td>1809</td>\n",
       "      <td>80</td>\n",
       "      <td>214030087</td>\n",
       "      <td>NaN</td>\n",
       "      <td>NaN</td>\n",
       "      <td>ON</td>\n",
       "      <td>NaN</td>\n",
       "      <td>NaN</td>\n",
       "      <td>NaN</td>\n",
       "      <td>NaN</td>\n",
       "      <td>Toronto</td>\n",
       "      <td>NaN</td>\n",
       "      <td>NaN</td>\n",
       "      <td>-79.379395</td>\n",
       "      <td>43.651264</td>\n",
       "    </tr>\n",
       "    <tr>\n",
       "      <th>4</th>\n",
       "      <td>1809-08-02</td>\n",
       "      <td>4</td>\n",
       "      <td>180</td>\n",
       "      <td>1809</td>\n",
       "      <td>40</td>\n",
       "      <td>268370013</td>\n",
       "      <td>NaN</td>\n",
       "      <td>L9P1R2</td>\n",
       "      <td>ON</td>\n",
       "      <td>NaN</td>\n",
       "      <td>6Th</td>\n",
       "      <td>Conc</td>\n",
       "      <td>NaN</td>\n",
       "      <td>Uxbridge</td>\n",
       "      <td>NaN</td>\n",
       "      <td>6800.0</td>\n",
       "      <td>-79.144210</td>\n",
       "      <td>44.099980</td>\n",
       "    </tr>\n",
       "  </tbody>\n",
       "</table>\n",
       "</div>"
      ],
      "text/plain": [
       "  registration_date  row_num  decade  year  lro_num        pin  \\\n",
       "0        1805-01-06        0     180  1805       62  174140492   \n",
       "1        1806-06-10        1     180  1806       37  502090167   \n",
       "2        1807-01-03        2     180  1807       37  501980307   \n",
       "3        1809-05-16        3     180  1809       80  214030087   \n",
       "4        1809-08-02        4     180  1809       40  268370013   \n",
       "\n",
       "   consideration_amt postal_code province  unitno      street_name  \\\n",
       "0                NaN         NaN       ON     NaN              NaN   \n",
       "1                NaN         NaN       ON     NaN       Highway 24   \n",
       "2                NaN         NaN       ON     NaN  Char'Ville Rd 4   \n",
       "3                NaN         NaN       ON     NaN              NaN   \n",
       "4                NaN      L9P1R2       ON     NaN              6Th   \n",
       "\n",
       "  street_designation street_direction          municipality  street_suffix  \\\n",
       "0                NaN              NaN              Hamilton            NaN   \n",
       "1                NaN              NaN  Woodhouse/Port Dover            NaN   \n",
       "2                NaN              NaN              Vittoria            NaN   \n",
       "3                NaN              NaN               Toronto            NaN   \n",
       "4               Conc              NaN              Uxbridge            NaN   \n",
       "\n",
       "   street_number          x          y  \n",
       "0            NaN -79.977420  43.203291  \n",
       "1         2164.0 -80.282483  42.784625  \n",
       "2         1661.0 -80.314465  42.768204  \n",
       "3            NaN -79.379395  43.651264  \n",
       "4         6800.0 -79.144210  44.099980  "
      ]
     },
     "execution_count": 213,
     "metadata": {},
     "output_type": "execute_result"
    }
   ],
   "source": [
    "data_check.head()"
   ]
  },
  {
   "cell_type": "markdown",
   "metadata": {},
   "source": [
    "#### Summary information"
   ]
  },
  {
   "cell_type": "code",
   "execution_count": 214,
   "metadata": {},
   "outputs": [
    {
     "name": "stdout",
     "output_type": "stream",
     "text": [
      "<class 'pandas.core.frame.DataFrame'>\n",
      "DatetimeIndex: 8226103 entries, 1805-01-06 to 2017-10-11\n",
      "Data columns (total 17 columns):\n",
      "row_num               8226103 non-null int32\n",
      "decade                8226103 non-null int32\n",
      "year                  8226103 non-null int32\n",
      "lro_num               8226103 non-null int64\n",
      "pin                   8226103 non-null int64\n",
      "consideration_amt     6247858 non-null float64\n",
      "postal_code           7101946 non-null object\n",
      "province              8226103 non-null object\n",
      "unitno                1489665 non-null float64\n",
      "street_name           7847438 non-null object\n",
      "street_designation    7108227 non-null object\n",
      "street_direction      674992 non-null object\n",
      "municipality          8196113 non-null object\n",
      "street_suffix         166 non-null float64\n",
      "street_number         7841470 non-null float64\n",
      "x                     8216524 non-null float64\n",
      "y                     8216524 non-null float64\n",
      "dtypes: float64(6), int32(3), int64(2), object(6)\n",
      "memory usage: 1.2+ GB\n"
     ]
    }
   ],
   "source": [
    "data.info(null_counts=True)"
   ]
  },
  {
   "cell_type": "markdown",
   "metadata": {},
   "source": [
    "#### `'consideration_amt'` statistics"
   ]
  },
  {
   "cell_type": "code",
   "execution_count": 215,
   "metadata": {},
   "outputs": [
    {
     "data": {
      "text/plain": [
       "count    6.247858e+06\n",
       "mean     5.633393e+05\n",
       "std      1.900839e+08\n",
       "min      3.100000e+01\n",
       "25%      1.530000e+05\n",
       "50%      2.399790e+05\n",
       "75%      3.720000e+05\n",
       "max      4.477478e+11\n",
       "Name: consideration_amt, dtype: float64"
      ]
     },
     "execution_count": 215,
     "metadata": {},
     "output_type": "execute_result"
    }
   ],
   "source": [
    "data.consideration_amt.describe()"
   ]
  },
  {
   "cell_type": "code",
   "execution_count": 216,
   "metadata": {},
   "outputs": [
    {
     "name": "stdout",
     "output_type": "stream",
     "text": [
      "All scripts were run!\n"
     ]
    }
   ],
   "source": [
    "print('All scripts were run!')"
   ]
  },
  {
   "cell_type": "markdown",
   "metadata": {},
   "source": [
    "<a id='references'></a>\n",
    "## 1.10 References\n",
    "\n",
    "Back to the [top](#top) / [contents](#contents)\n",
    "\n",
    "\n",
    "<a id='codd_1990'></a>\n",
    "[Codd, E. F. The relational model for database management : version 2.](https://search.library.utoronto.ca/details?1917145)  Reading, Mass: Addison-Wesley, 1990. Print.\n",
    "\n",
    "<a id='wickham_2014'></a>\n",
    "[Wickham, Hadley. (2014). Tidy data.](https://www.researchgate.net/publication/215990669_Tidy_data) The American Statistician. 14. 10.18637/jss.v059.i10. "
   ]
  },
  {
   "cell_type": "code",
   "execution_count": null,
   "metadata": {},
   "outputs": [],
   "source": []
  }
 ],
 "metadata": {
  "kernelspec": {
   "display_name": "Python 3",
   "language": "python",
   "name": "python3"
  },
  "language_info": {
   "codemirror_mode": {
    "name": "ipython",
    "version": 3
   },
   "file_extension": ".py",
   "mimetype": "text/x-python",
   "name": "python",
   "nbconvert_exporter": "python",
   "pygments_lexer": "ipython3",
   "version": "3.6.6"
  },
  "pycharm": {
   "stem_cell": {
    "cell_type": "raw",
    "source": [],
    "metadata": {
     "collapsed": false
    }
   }
  }
 },
 "nbformat": 4,
 "nbformat_minor": 2
}